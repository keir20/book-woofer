{
 "cells": [
  {
   "cell_type": "markdown",
   "id": "9fb876fe",
   "metadata": {},
   "source": [
    "## First import dependencies and data from SteevEbu.preproc"
   ]
  },
  {
   "cell_type": "code",
   "execution_count": 1,
   "id": "f0236cc0",
   "metadata": {},
   "outputs": [],
   "source": [
    "import pandas as pd\n",
    "import numpy as np\n",
    "from sklearn.base import TransformerMixin\n",
    "from sklearn.model_selection import GridSearchCV\n",
    "from sklearn.model_selection import RandomizedSearchCV\n",
    "from sklearn.pipeline import make_pipeline\n",
    "from sklearn.naive_bayes import GaussianNB\n",
    "from sklearn.feature_extraction.text import CountVectorizer\n",
    "from sklearn.model_selection import train_test_split\n",
    "from sklearn.feature_extraction.text import TfidfVectorizer\n",
    "from sklearn.svm import SVC\n",
    "from sklearn.metrics import classification_report, confusion_matrix"
   ]
  },
  {
   "cell_type": "code",
   "execution_count": 2,
   "id": "f46917dc",
   "metadata": {},
   "outputs": [],
   "source": [
    "df = pd.read_csv('../notebooks/processed_data_steeve_updated.csv')"
   ]
  },
  {
   "cell_type": "code",
   "execution_count": 3,
   "id": "6df8313d",
   "metadata": {},
   "outputs": [],
   "source": [
    "df = df.dropna().reset_index().drop(columns='index')"
   ]
  },
  {
   "cell_type": "code",
   "execution_count": 4,
   "id": "3c785cbf",
   "metadata": {},
   "outputs": [
    {
     "name": "stdout",
     "output_type": "stream",
     "text": [
      "<class 'pandas.core.frame.DataFrame'>\n",
      "RangeIndex: 61442 entries, 0 to 61441\n",
      "Data columns (total 3 columns):\n",
      " #   Column      Non-Null Count  Dtype \n",
      "---  ------      --------------  ----- \n",
      " 0   Unnamed: 0  61442 non-null  int64 \n",
      " 1   content     61442 non-null  object\n",
      " 2   sentiment   61442 non-null  object\n",
      "dtypes: int64(1), object(2)\n",
      "memory usage: 1.4+ MB\n"
     ]
    }
   ],
   "source": [
    "df.info()"
   ]
  },
  {
   "cell_type": "markdown",
   "id": "d6e55ca9",
   "metadata": {},
   "source": [
    "## Dataset is much too large, so at the moment I am using a 5% sample to test the model."
   ]
  },
  {
   "cell_type": "code",
   "execution_count": 5,
   "id": "42f0c1d9",
   "metadata": {},
   "outputs": [],
   "source": [
    "df = df.sample(frac=0.05)"
   ]
  },
  {
   "cell_type": "code",
   "execution_count": 6,
   "id": "a9fcab1c",
   "metadata": {},
   "outputs": [
    {
     "data": {
      "text/html": [
       "<div>\n",
       "<style scoped>\n",
       "    .dataframe tbody tr th:only-of-type {\n",
       "        vertical-align: middle;\n",
       "    }\n",
       "\n",
       "    .dataframe tbody tr th {\n",
       "        vertical-align: top;\n",
       "    }\n",
       "\n",
       "    .dataframe thead th {\n",
       "        text-align: right;\n",
       "    }\n",
       "</style>\n",
       "<table border=\"1\" class=\"dataframe\">\n",
       "  <thead>\n",
       "    <tr style=\"text-align: right;\">\n",
       "      <th></th>\n",
       "      <th>Unnamed: 0</th>\n",
       "      <th>content</th>\n",
       "      <th>sentiment</th>\n",
       "    </tr>\n",
       "  </thead>\n",
       "  <tbody>\n",
       "    <tr>\n",
       "      <th>48782</th>\n",
       "      <td>48791</td>\n",
       "      <td>sorry apparent spamming today follower trying ...</td>\n",
       "      <td>worry</td>\n",
       "    </tr>\n",
       "    <tr>\n",
       "      <th>5973</th>\n",
       "      <td>5973</td>\n",
       "      <td>thing christ give strength lovely little verse...</td>\n",
       "      <td>fear</td>\n",
       "    </tr>\n",
       "    <tr>\n",
       "      <th>10335</th>\n",
       "      <td>10335</td>\n",
       "      <td>im happy report im feeling petty day mostly co...</td>\n",
       "      <td>anger</td>\n",
       "    </tr>\n",
       "    <tr>\n",
       "      <th>47368</th>\n",
       "      <td>47377</td>\n",
       "      <td>today blessed day</td>\n",
       "      <td>love</td>\n",
       "    </tr>\n",
       "    <tr>\n",
       "      <th>42024</th>\n",
       "      <td>42032</td>\n",
       "      <td>love finding new follower</td>\n",
       "      <td>love</td>\n",
       "    </tr>\n",
       "    <tr>\n",
       "      <th>...</th>\n",
       "      <td>...</td>\n",
       "      <td>...</td>\n",
       "      <td>...</td>\n",
       "    </tr>\n",
       "    <tr>\n",
       "      <th>29540</th>\n",
       "      <td>29546</td>\n",
       "      <td>sadly going cancel chicago trip next week</td>\n",
       "      <td>worry</td>\n",
       "    </tr>\n",
       "    <tr>\n",
       "      <th>13088</th>\n",
       "      <td>13088</td>\n",
       "      <td>always feel like need drug funny cuz health fo...</td>\n",
       "      <td>surprise</td>\n",
       "    </tr>\n",
       "    <tr>\n",
       "      <th>2277</th>\n",
       "      <td>2277</td>\n",
       "      <td>feel thing learn course useful right</td>\n",
       "      <td>happiness</td>\n",
       "    </tr>\n",
       "    <tr>\n",
       "      <th>47933</th>\n",
       "      <td>47942</td>\n",
       "      <td>isnt going school there point</td>\n",
       "      <td>worry</td>\n",
       "    </tr>\n",
       "    <tr>\n",
       "      <th>30243</th>\n",
       "      <td>30250</td>\n",
       "      <td>dislocated knee badpainful time gas air morphi...</td>\n",
       "      <td>worry</td>\n",
       "    </tr>\n",
       "  </tbody>\n",
       "</table>\n",
       "<p>3072 rows × 3 columns</p>\n",
       "</div>"
      ],
      "text/plain": [
       "       Unnamed: 0                                            content  \\\n",
       "48782       48791  sorry apparent spamming today follower trying ...   \n",
       "5973         5973  thing christ give strength lovely little verse...   \n",
       "10335       10335  im happy report im feeling petty day mostly co...   \n",
       "47368       47377                                  today blessed day   \n",
       "42024       42032                          love finding new follower   \n",
       "...           ...                                                ...   \n",
       "29540       29546          sadly going cancel chicago trip next week   \n",
       "13088       13088  always feel like need drug funny cuz health fo...   \n",
       "2277         2277               feel thing learn course useful right   \n",
       "47933       47942                      isnt going school there point   \n",
       "30243       30250  dislocated knee badpainful time gas air morphi...   \n",
       "\n",
       "       sentiment  \n",
       "48782      worry  \n",
       "5973        fear  \n",
       "10335      anger  \n",
       "47368       love  \n",
       "42024       love  \n",
       "...          ...  \n",
       "29540      worry  \n",
       "13088   surprise  \n",
       "2277   happiness  \n",
       "47933      worry  \n",
       "30243      worry  \n",
       "\n",
       "[3072 rows x 3 columns]"
      ]
     },
     "execution_count": 6,
     "metadata": {},
     "output_type": "execute_result"
    }
   ],
   "source": [
    "df"
   ]
  },
  {
   "cell_type": "markdown",
   "id": "51638b2e",
   "metadata": {},
   "source": [
    "## Encode the categories numerically"
   ]
  },
  {
   "cell_type": "code",
   "execution_count": 7,
   "id": "b6548258",
   "metadata": {},
   "outputs": [],
   "source": [
    "df.sentiment = pd.Categorical(df.sentiment)\n",
    "df['code'] = df.sentiment.cat.codes"
   ]
  },
  {
   "cell_type": "markdown",
   "id": "dfb01b8a",
   "metadata": {},
   "source": [
    "## Create variables, and split into train and test data"
   ]
  },
  {
   "cell_type": "code",
   "execution_count": 8,
   "id": "f753a9a6",
   "metadata": {},
   "outputs": [],
   "source": [
    "y = df.code\n",
    "X = df.content"
   ]
  },
  {
   "cell_type": "code",
   "execution_count": 9,
   "id": "cac27b46",
   "metadata": {},
   "outputs": [],
   "source": [
    "X_train, X_test, y_train, y_test = train_test_split(X, y, test_size=0.3, random_state=12)"
   ]
  },
  {
   "cell_type": "code",
   "execution_count": 10,
   "id": "7489cbc0",
   "metadata": {},
   "outputs": [
    {
     "data": {
      "text/plain": [
       "27714                                       killzonedotcom\n",
       "39105    said hi double take amp left damn let look aro...\n",
       "39082    ce_ci ewww poor wish best thank god rolland ga...\n",
       "8981     feel deeply offended rhetoric behaviour apc le...\n",
       "26389    sitting empty yearbook room attempting figure ...\n",
       "                               ...                        \n",
       "24704    christianedward good sized family room cramped...\n",
       "257               feel terribly fond majority precise time\n",
       "41717    excited lot good thing happening workwise melb...\n",
       "24213             alexalltimelow get back tokyo manwe miss\n",
       "21270            dh criticism drug medical regime frighten\n",
       "Name: content, Length: 2150, dtype: object"
      ]
     },
     "execution_count": 10,
     "metadata": {},
     "output_type": "execute_result"
    }
   ],
   "source": [
    "X_train"
   ]
  },
  {
   "cell_type": "markdown",
   "id": "86d97821",
   "metadata": {},
   "source": [
    "## Custom transformer courtesy of Christophe to ensure the model has the correct input matrix"
   ]
  },
  {
   "cell_type": "code",
   "execution_count": 11,
   "id": "a431e60a",
   "metadata": {},
   "outputs": [],
   "source": [
    "class ToArray(TransformerMixin):\n",
    "\n",
    "    def fit(self, X, y=None, **fit_params):\n",
    "        return self\n",
    "\n",
    "    def transform(self, X, y=None, **fit_params):\n",
    "        return X.toarray()"
   ]
  },
  {
   "cell_type": "markdown",
   "id": "127a13c9",
   "metadata": {},
   "source": [
    "## Pipeline everything"
   ]
  },
  {
   "cell_type": "code",
   "execution_count": 77,
   "id": "164a3344",
   "metadata": {
    "scrolled": true
   },
   "outputs": [],
   "source": [
    "# Create Pipeline\n",
    "# for the first element in the pipeline apply CountVectorizer() or TfidfVectorizer()\n",
    "# for the second element apply GaussianNB() or SVC()\n",
    "\n",
    "pipeline = make_pipeline(\n",
    "    TfidfVectorizer(),\n",
    "    ToArray(),\n",
    "    SVC()\n",
    ")\n",
    "\n",
    "# Set parameters to search\n",
    "params = {\n",
    "   'tfidf__ngram_range': ((1,1), (2,2), (3,3)),\n",
    "   'nb__alpha': (0.1,1,10),\n",
    "}\n",
    "#Perform grid search\n",
    "grid_search = GridSearchCV(pipeline, params, n_jobs=-1, \n",
    "                           verbose=1, scoring =[\"accuracy\"], \n",
    "                           cv=5, refit=False)\n",
    "\n",
    "random_search = RandomizedSearchCV(pipeline, params, n_jobs=-1, \n",
    "                           verbose=1, scoring =[\"accuracy\"], \n",
    "                           refit=True, cv=5)\n",
    "# # grid_search.fit(X_train,y)"
   ]
  },
  {
   "cell_type": "code",
   "execution_count": 78,
   "id": "e8c8e05d",
   "metadata": {
    "scrolled": true
   },
   "outputs": [
    {
     "data": {
      "text/plain": [
       "Pipeline(steps=[('tfidfvectorizer', TfidfVectorizer()),\n",
       "                ('toarray', <__main__.ToArray object at 0x13deee4c0>),\n",
       "                ('svc', SVC())])"
      ]
     },
     "execution_count": 78,
     "metadata": {},
     "output_type": "execute_result"
    }
   ],
   "source": [
    "pipeline.fit(X_train, y_train)"
   ]
  },
  {
   "cell_type": "code",
   "execution_count": 79,
   "id": "8b466c8f",
   "metadata": {},
   "outputs": [
    {
     "data": {
      "text/plain": [
       "0.34490238611713664"
      ]
     },
     "execution_count": 79,
     "metadata": {},
     "output_type": "execute_result"
    }
   ],
   "source": [
    "pipeline.score(X_test, y_test)"
   ]
  },
  {
   "cell_type": "code",
   "execution_count": 80,
   "id": "351822fe",
   "metadata": {},
   "outputs": [
    {
     "data": {
      "text/plain": [
       "array([ 5,  5,  5,  5,  8, 10,  5,  8,  5,  5,  5,  5, 10,  5, 10,  5,  8,\n",
       "       10, 12,  8, 11,  5, 12,  5, 10,  5,  5,  5,  5, 12, 10,  5, 10,  8,\n",
       "        5,  5,  5,  8, 10,  5,  5,  5,  5,  5,  5,  8,  5, 10,  8,  5,  8,\n",
       "        5, 12,  5,  5,  5,  5, 10,  8,  5,  8,  5, 10,  5,  8,  5,  5, 10,\n",
       "        8,  8,  8,  8,  5,  5, 10,  5, 12,  5,  5,  8, 10,  5,  5,  5,  5,\n",
       "        5, 10, 12, 10,  5,  5,  5,  7,  5, 10,  5, 10,  5, 10, 10, 10,  8,\n",
       "       10, 10,  5,  7,  5, 10,  8,  8,  5, 10,  8, 12,  8,  8,  5,  5,  5,\n",
       "        5,  8,  8,  8,  8,  8,  5, 12,  5,  5, 10,  5,  5,  8,  8, 12,  5,\n",
       "        8,  8,  5, 10,  8, 12, 10,  5,  5,  5,  5, 10,  5, 10, 10, 12,  5,\n",
       "       10,  5, 10,  7,  5, 10,  5,  5,  8,  8, 10,  7,  5,  5,  5, 10,  5,\n",
       "       10, 12, 10,  5,  5, 10,  8, 10,  8,  5,  8, 12, 12,  5, 10,  5,  8,\n",
       "        5,  5, 10,  5,  8,  8,  5,  5,  5,  5,  5,  5, 10,  5,  8,  5, 10,\n",
       "       10,  5,  8, 10,  5,  5, 10,  5, 10,  5,  8,  5,  8,  8,  5,  8, 10,\n",
       "       10, 12, 12,  8,  5, 10,  8,  5, 10,  5, 10,  5,  5,  8,  5, 10, 10,\n",
       "        5,  5, 12,  5,  5,  5,  5,  8,  5, 12,  5,  7,  5,  5,  5,  5,  5,\n",
       "       12,  5,  5,  5,  5,  8,  5, 10, 12,  8,  5, 10,  5, 10,  7,  5, 10,\n",
       "        5,  5,  5,  5,  5,  5, 12,  8,  5,  5, 10,  5,  5, 10, 10,  5,  5,\n",
       "        5,  8,  8,  5,  8, 10,  8,  5,  5,  7,  8,  8,  5,  5, 12,  5,  8,\n",
       "       12,  5,  8,  5,  5,  8,  5,  5,  5, 12, 10,  8, 10, 12,  5, 10,  5,\n",
       "        8,  5,  5,  8,  8,  5,  5,  5,  8,  5,  8,  7,  8,  8,  5,  8,  5,\n",
       "        5,  5,  0, 10,  5,  5,  5, 10, 10, 12,  8,  5, 10, 10,  5, 12,  7,\n",
       "        5,  8,  8,  5, 12, 10,  7,  5,  5,  8,  5,  5,  8,  5, 10,  8, 10,\n",
       "       10,  5,  5, 10,  8,  5,  5,  5,  7,  8,  5,  5,  8,  7,  5,  5,  5,\n",
       "       10, 10, 10, 10,  5,  8,  8,  5,  5, 10,  5,  7,  7,  5,  8, 10,  5,\n",
       "        8, 12,  5, 12,  8, 10,  5,  8,  5, 10,  5,  5,  8,  5,  5,  5,  5,\n",
       "       10, 12,  8,  5, 10,  8,  5, 10,  8, 10, 12,  8,  8,  8, 10,  8,  5,\n",
       "        5,  7,  8,  8,  5, 12,  5,  5,  8,  5,  5, 10,  5,  5,  8,  5,  7,\n",
       "        5, 10,  8,  5, 10, 10, 10, 10,  5, 10, 10, 10,  5, 10,  5,  5,  8,\n",
       "       10,  8,  8,  8, 10,  8,  5,  5,  8, 10,  5,  8,  5,  5,  8, 10, 10,\n",
       "        5,  5,  8,  5,  5,  5,  8,  5,  8, 12,  5,  5,  5,  5,  8, 10, 10,\n",
       "        5, 10,  8,  8, 10,  8,  5,  5,  5, 12,  5,  8,  8,  8, 10,  5,  5,\n",
       "       10, 10,  5,  5, 10,  5,  5,  8, 10,  5,  8, 12, 10,  5,  8,  5, 10,\n",
       "        8,  7,  5,  5,  7,  5,  8,  8,  8,  0, 10,  8,  5, 10,  5, 10,  5,\n",
       "       10,  8,  8,  7,  5,  8,  8, 10, 10,  5,  8,  5,  6,  5,  5,  5, 12,\n",
       "        5, 10,  5,  5, 10,  5,  8,  8,  8,  8,  5,  5,  8,  5, 10,  5, 10,\n",
       "        5,  8,  5,  5, 10, 10,  8,  0, 10, 10,  5,  5,  5,  5,  5,  5,  5,\n",
       "       10,  5,  5,  5,  8, 10, 10,  8,  5,  8,  5,  5,  5,  5,  8, 12,  5,\n",
       "        5, 12,  5, 10, 12, 10,  5, 10, 10, 10, 10,  8, 10,  5,  5,  8,  5,\n",
       "        5,  5, 10,  5,  5,  5,  7,  8, 10,  7,  5,  5, 10,  5,  8,  8,  8,\n",
       "       10,  8,  5,  8,  5,  8, 10, 12,  5, 10,  8, 10,  8,  5,  8,  5,  5,\n",
       "        5,  5,  7,  5,  5,  5,  8,  5, 10,  5,  5, 10, 12,  8,  5,  8, 12,\n",
       "        5,  8,  8,  8, 10,  5,  8,  5,  5,  8, 10,  8,  8, 10,  8, 10, 12,\n",
       "        5,  5, 10,  8, 10,  5,  5, 10, 10,  5,  5,  8,  5,  5,  5, 10,  5,\n",
       "        5, 10,  8, 10, 10,  5,  5,  5, 12,  5,  5, 10,  8,  5,  5, 10,  5,\n",
       "        8,  5,  5,  5, 10,  5,  5,  5,  5,  5,  8,  8,  5,  8,  5,  5, 12,\n",
       "        8,  8, 10, 10,  5,  8,  5,  7,  5,  5, 12, 10,  5,  8,  5,  5, 12,\n",
       "        5, 10,  8, 10, 10,  5,  5, 10,  5,  5,  5,  7, 12,  5,  5,  5, 12,\n",
       "       10,  5,  5, 10, 10,  5,  8,  5, 10,  8,  8,  5,  5,  8, 10,  5,  5,\n",
       "        8,  5,  5, 10, 10,  5,  5,  8,  5, 10, 10,  5, 10, 10, 10, 10,  5,\n",
       "        5, 10, 10,  5, 12,  8,  5,  5,  8,  5,  5,  5,  5,  5,  5,  8,  5,\n",
       "        5,  5,  8,  5, 12,  5,  5,  5,  5,  5,  8,  8,  8,  8,  8,  5,  8,\n",
       "        8,  5, 10,  5,  5,  8,  8,  8, 10,  8, 10,  8, 10,  5, 10,  5,  5,\n",
       "        5,  5,  5,  5,  5, 10,  8, 10,  8,  5, 10,  8, 10,  8,  8,  5, 10,\n",
       "        5,  8,  8,  8,  8,  8, 10, 10,  5,  5, 10,  8,  5,  5, 10,  5,  5,\n",
       "        5,  5,  5,  5], dtype=int8)"
      ]
     },
     "execution_count": 80,
     "metadata": {},
     "output_type": "execute_result"
    }
   ],
   "source": [
    "pipeline.predict(X_test)"
   ]
  },
  {
   "cell_type": "markdown",
   "id": "ef662af1",
   "metadata": {},
   "source": [
    "## Metrics and scores"
   ]
  },
  {
   "cell_type": "code",
   "execution_count": null,
   "id": "ba4b54f9",
   "metadata": {},
   "outputs": [],
   "source": [
    "print(classification_report(y_test, y_pred))"
   ]
  },
  {
   "cell_type": "code",
   "execution_count": null,
   "id": "a56e6185",
   "metadata": {},
   "outputs": [],
   "source": [
    "def plot_confusion_matrix(cm,\n",
    "                          target_names,\n",
    "                          title='Confusion matrix',\n",
    "                          cmap=None,\n",
    "                          normalize=True):\n",
    "    \"\"\"\n",
    "    given a sklearn confusion matrix (cm), make a nice plot\n",
    "    Arguments\n",
    "    ---------\n",
    "    cm:           confusion matrix from sklearn.metrics.confusion_matrix\n",
    "    target_names: given classification classes such as [0, 1, 2]\n",
    "                  the class names, for example: ['high', 'medium', 'low']\n",
    "    title:        the text to display at the top of the matrix\n",
    "    cmap:         the gradient of the values displayed from matplotlib.pyplot.cm\n",
    "                  see http://matplotlib.org/examples/color/colormaps_reference.html\n",
    "                  plt.get_cmap('jet') or plt.cm.Blues\n",
    "    normalize:    If False, plot the raw numbers\n",
    "                  If True, plot the proportions\n",
    "    Usage\n",
    "    -----\n",
    "    plot_confusion_matrix(cm           = cm,                  # confusion matrix created by\n",
    "                                                              # sklearn.metrics.confusion_matrix\n",
    "                          normalize    = True,                # show proportions\n",
    "                          target_names = y_labels_vals,       # list of names of the classes\n",
    "                          title        = best_estimator_name) # title of graph\n",
    "    Citiation\n",
    "    ---------\n",
    "    http://scikit-learn.org/stable/auto_examples/model_selection/plot_confusion_matrix.html\n",
    "    \"\"\"\n",
    "    import matplotlib.pyplot as plt\n",
    "    import numpy as np\n",
    "    import itertools\n",
    "    import numpy as np\n",
    "    accuracy = np.trace(cm) / float(np.sum(cm))\n",
    "    misclass = 1 - accuracy\n",
    "    if cmap is None:\n",
    "        cmap = plt.get_cmap('Blues')\n",
    "    plt.figure(figsize=(8, 6))\n",
    "    plt.imshow(cm, interpolation='nearest', cmap=cmap)\n",
    "    plt.title(title)\n",
    "    plt.colorbar()\n",
    "    if target_names is not None:\n",
    "        tick_marks = np.arange(len(target_names))\n",
    "        plt.xticks(tick_marks, target_names, rotation=45)\n",
    "        plt.yticks(tick_marks, target_names)\n",
    "    if normalize:\n",
    "        cm = cm.astype('float') / cm.sum(axis=1)[:, np.newaxis]\n",
    "    thresh = cm.max() / 1.5 if normalize else cm.max() / 2\n",
    "    for i, j in itertools.product(range(cm.shape[0]), range(cm.shape[1])):\n",
    "        if normalize:\n",
    "            plt.text(j, i, \"{:0.4f}\".format(cm[i, j]),\n",
    "                     horizontalalignment=\"center\",\n",
    "                     color=\"white\" if cm[i, j] > thresh else \"black\")\n",
    "        else:\n",
    "            plt.text(j, i, \"{:,}\".format(cm[i, j]),\n",
    "                     horizontalalignment=\"center\",\n",
    "                     color=\"white\" if cm[i, j] > thresh else \"black\")\n",
    "    plt.tight_layout()\n",
    "    plt.ylabel('True label')\n",
    "    plt.xlabel('Predicted label\\naccuracy={:0.4f}; misclass={:0.4f}'.format(accuracy, misclass))\n",
    "    plt.show()\n",
    "# Now plot the confusion matrix 😉\n",
    "plot_confusion_matrix(confusion_matrix(y_test ,y_pred), ['Close to Failure', 'Not Close Failure'])"
   ]
  },
  {
   "cell_type": "code",
   "execution_count": null,
   "id": "0ea8c1f8",
   "metadata": {},
   "outputs": [],
   "source": []
  }
 ],
 "metadata": {
  "kernelspec": {
   "display_name": "Python 3",
   "language": "python",
   "name": "python3"
  },
  "language_info": {
   "codemirror_mode": {
    "name": "ipython",
    "version": 3
   },
   "file_extension": ".py",
   "mimetype": "text/x-python",
   "name": "python",
   "nbconvert_exporter": "python",
   "pygments_lexer": "ipython3",
   "version": "3.8.6"
  },
  "toc": {
   "base_numbering": 1,
   "nav_menu": {},
   "number_sections": true,
   "sideBar": true,
   "skip_h1_title": false,
   "title_cell": "Table of Contents",
   "title_sidebar": "Contents",
   "toc_cell": false,
   "toc_position": {},
   "toc_section_display": true,
   "toc_window_display": false
  }
 },
 "nbformat": 4,
 "nbformat_minor": 5
}
