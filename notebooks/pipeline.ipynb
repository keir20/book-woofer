{
 "cells": [
  {
   "cell_type": "markdown",
   "id": "67572f56",
   "metadata": {},
   "source": [
    "## First import dependencies and data from SteevEbu.preproc"
   ]
  },
  {
   "cell_type": "code",
   "execution_count": 16,
   "id": "16ece158",
   "metadata": {},
   "outputs": [],
   "source": [
    "import pandas as pd\n",
    "import numpy as np\n",
    "from sklearn.base import TransformerMixin\n",
    "from sklearn.model_selection import GridSearchCV\n",
    "from sklearn.pipeline import make_pipeline\n",
    "from sklearn.naive_bayes import GaussianNB\n",
    "from sklearn.feature_extraction.text import CountVectorizer\n",
    "from sklearn.model_selection import train_test_split"
   ]
  },
  {
   "cell_type": "code",
   "execution_count": 2,
   "id": "156892c4",
   "metadata": {},
   "outputs": [],
   "source": [
    "df = pd.read_csv('../notebooks/processed_data_steeve_updated.csv')"
   ]
  },
  {
   "cell_type": "code",
   "execution_count": 3,
   "id": "7467ca59",
   "metadata": {},
   "outputs": [],
   "source": [
    "df = df.dropna().reset_index().drop(columns='index')"
   ]
  },
  {
   "cell_type": "code",
   "execution_count": 29,
   "id": "589add38",
   "metadata": {},
   "outputs": [
    {
     "name": "stdout",
     "output_type": "stream",
     "text": [
      "<class 'pandas.core.frame.DataFrame'>\n",
      "RangeIndex: 61442 entries, 0 to 61441\n",
      "Data columns (total 4 columns):\n",
      " #   Column      Non-Null Count  Dtype   \n",
      "---  ------      --------------  -----   \n",
      " 0   Unnamed: 0  61442 non-null  int64   \n",
      " 1   content     61442 non-null  object  \n",
      " 2   sentiment   61442 non-null  category\n",
      " 3   code        61442 non-null  int8    \n",
      "dtypes: category(1), int64(1), int8(1), object(1)\n",
      "memory usage: 1.1+ MB\n"
     ]
    }
   ],
   "source": [
    "df.info()"
   ]
  },
  {
   "cell_type": "markdown",
   "id": "cb61eeba",
   "metadata": {},
   "source": [
    "## Dataset is much too large, so at the moment I am using a 5% sample to test the model."
   ]
  },
  {
   "cell_type": "code",
   "execution_count": 30,
   "id": "92c95bf4",
   "metadata": {},
   "outputs": [],
   "source": [
    "df = df.sample(frac=0.05)"
   ]
  },
  {
   "cell_type": "markdown",
   "id": "79183034",
   "metadata": {},
   "source": [
    "## Encode the categories numerically"
   ]
  },
  {
   "cell_type": "code",
   "execution_count": 31,
   "id": "2acda5fd",
   "metadata": {},
   "outputs": [],
   "source": [
    "df.sentiment = pd.Categorical(df.sentiment)\n",
    "df['code'] = df.sentiment.cat.codes"
   ]
  },
  {
   "cell_type": "markdown",
   "id": "7fcf2a49",
   "metadata": {},
   "source": [
    "## Create variables, and split into train and test data"
   ]
  },
  {
   "cell_type": "code",
   "execution_count": 33,
   "id": "ba2ea5fb",
   "metadata": {},
   "outputs": [],
   "source": [
    "y = df.code\n",
    "X = df.content"
   ]
  },
  {
   "cell_type": "code",
   "execution_count": 34,
   "id": "0caec7d2",
   "metadata": {},
   "outputs": [],
   "source": [
    "X_train, X_test, y_train, y_test = train_test_split(X, y, test_size=0.3, random_state=12)"
   ]
  },
  {
   "cell_type": "code",
   "execution_count": 35,
   "id": "9136458d",
   "metadata": {},
   "outputs": [
    {
     "data": {
      "text/plain": [
       "43117           carterronson going im overseas u early tho\n",
       "53694    starting integrating twitter forexforumsorg lo...\n",
       "48493     gfalcone hmmm toughie haha alike tom question xx\n",
       "14651                                  feeling overwhelmed\n",
       "8379               feel agitated become easily overwhelmed\n",
       "                               ...                        \n",
       "18814    feel nay gorgeous right track getting good gra...\n",
       "8001     leave sunday feeling utterly drained ounce any...\n",
       "54581    chrisfromracine thats sure thats intentionally...\n",
       "28030       shadowfish id drive get taxi pool tablejukebox\n",
       "31123     throat infection coming strong think taste blood\n",
       "Name: content, Length: 2150, dtype: object"
      ]
     },
     "execution_count": 35,
     "metadata": {},
     "output_type": "execute_result"
    }
   ],
   "source": [
    "X_train"
   ]
  },
  {
   "cell_type": "markdown",
   "id": "616ee759",
   "metadata": {},
   "source": [
    "## Custom transformer courtesy of Christophe to ensure the model has the correct input matrix"
   ]
  },
  {
   "cell_type": "code",
   "execution_count": 44,
   "id": "1b632f53",
   "metadata": {},
   "outputs": [],
   "source": [
    "class ToArray(TransformerMixin):\n",
    "\n",
    "    def fit(self, X, y=None, **fit_params):\n",
    "        return self\n",
    "\n",
    "    def transform(self, X, y=None, **fit_params):\n",
    "        return X.toarray()"
   ]
  },
  {
   "cell_type": "markdown",
   "id": "160bdfdf",
   "metadata": {},
   "source": [
    "## Pipeline everything"
   ]
  },
  {
   "cell_type": "code",
   "execution_count": 38,
   "id": "d8dea1df",
   "metadata": {},
   "outputs": [
    {
     "data": {
      "text/plain": [
       "Pipeline(steps=[('countvectorizer', CountVectorizer()),\n",
       "                ('toarray', <__main__.ToArray object at 0x11b073a60>),\n",
       "                ('gaussiannb', GaussianNB())])"
      ]
     },
     "execution_count": 38,
     "metadata": {},
     "output_type": "execute_result"
    }
   ],
   "source": [
    "# Create Pipeline\n",
    "pipeline = make_pipeline(\n",
    "    CountVectorizer(),\n",
    "    ToArray(),\n",
    "    GaussianNB()\n",
    ")\n",
    "\n",
    "# Set parameters to search\n",
    "#parameters = {\n",
    "   # 'tfidf__ngram_range': ((1,1), (2,2)),\n",
    "   # 'nb__alpha': (0.1,1),}\n",
    "# Perform grid search\n",
    "# grid_search = GridSearchCV(pipeline, parameters, n_jobs=-1, \n",
    "                           #verbose=1, scoring = \"accuracy\", \n",
    "                           #refit=True, cv=5)\n",
    "# grid_search.fit(X_train,y)\n",
    "pipeline.fit(X_train, y_train)"
   ]
  },
  {
   "cell_type": "code",
   "execution_count": 39,
   "id": "5be7769a",
   "metadata": {},
   "outputs": [],
   "source": [
    "y_pred = pipeline.predict(X_test)"
   ]
  },
  {
   "cell_type": "code",
   "execution_count": null,
   "id": "dd422bf4",
   "metadata": {},
   "outputs": [],
   "source": []
  }
 ],
 "metadata": {
  "kernelspec": {
   "display_name": "Python 3",
   "language": "python",
   "name": "python3"
  },
  "language_info": {
   "codemirror_mode": {
    "name": "ipython",
    "version": 3
   },
   "file_extension": ".py",
   "mimetype": "text/x-python",
   "name": "python",
   "nbconvert_exporter": "python",
   "pygments_lexer": "ipython3",
   "version": "3.8.6"
  }
 },
 "nbformat": 4,
 "nbformat_minor": 5
}
