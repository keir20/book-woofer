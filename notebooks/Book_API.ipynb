{
 "cells": [
  {
   "cell_type": "markdown",
   "id": "b2047f8d",
   "metadata": {},
   "source": [
    "# Book API"
   ]
  },
  {
   "cell_type": "code",
   "execution_count": 1,
   "id": "be0ecee8",
   "metadata": {},
   "outputs": [],
   "source": [
    "import requests"
   ]
  },
  {
   "cell_type": "markdown",
   "id": "c46a2265",
   "metadata": {},
   "source": [
    "## Google"
   ]
  },
  {
   "cell_type": "code",
   "execution_count": 128,
   "id": "870b5691",
   "metadata": {},
   "outputs": [
    {
     "name": "stdout",
     "output_type": "stream",
     "text": [
      "There are 3 versions of this book and 1 is free. The title is ['Flowers and moonshine']\n"
     ]
    },
    {
     "data": {
      "text/plain": [
       "['http://books.google.co.uk/books/download/Flowers_and_moonshine.pdf?id=8a8BAAAAQAAJ&hl=&output=pdf&sig=ACfU3U2MoQ79d-_HoVasAjTGWLe4T8YC0Q&source=gbs_api']"
      ]
     },
     "execution_count": 128,
     "metadata": {},
     "output_type": "execute_result"
    }
   ],
   "source": [
    "class google_book():\n",
    "    \n",
    "    def __init__(self, book):\n",
    "        \n",
    "        self.book = book\n",
    "    \n",
    "    def search(book):\n",
    "        \n",
    "        url = f\"https://www.googleapis.com/books/v1/volumes?q={book}\"\n",
    "        response = requests.get(url)\n",
    "        if response.status_code != 200:\n",
    "            return ''\n",
    "        data = response.json()\n",
    "        \n",
    "        return data['items'][0].get('volumeInfo').get('title')\n",
    "    \n",
    "    def titles(book):\n",
    "        \n",
    "        url = f\"https://www.googleapis.com/books/v1/volumes?q={book}\"\n",
    "        response = requests.get(url)\n",
    "        if response.status_code != 200:\n",
    "            return ''\n",
    "        data = response.json()\n",
    "        titles = []\n",
    "        for i,t in enumerate(data):\n",
    "            title = data.get('items')[i].get('volumeInfo').get('title')\n",
    "            titles.append(title)\n",
    "        return titles\n",
    "    \n",
    "    def is_book_free(book):\n",
    "        \n",
    "        url = f\"https://www.googleapis.com/books/v1/volumes?q={book}\"\n",
    "        response = requests.get(url)\n",
    "        if response.status_code != 200:\n",
    "            return ''\n",
    "        data = response.json()\n",
    "        \n",
    "        freeBooks = []\n",
    "        freeBooksLinks = []\n",
    "        total_versions = 0\n",
    "        free_versions = 0\n",
    "        for i,t in enumerate(data):\n",
    "            isFree = data.get('items')[i].get('accessInfo').get('viewability')\n",
    "            title = data.get('items')[i].get('volumeInfo').get('title')\n",
    "            webReader = data['items'][i].get('accessInfo', 'doesnt exist').get('pdf', 'doesnt exist').get('downloadLink')\n",
    "            total_versions += 1\n",
    "            if isFree == 'ALL_PAGES':\n",
    "                free_versions += 1\n",
    "                freeBooks.append(title)\n",
    "                freeBooksLinks.append(webReader)\n",
    "        print(f\"There are {total_versions} versions of this book and {free_versions} is free. The title is {freeBooks}\")\n",
    "        return freeBooksLinks\n",
    "    \n",
    "    def get_widget_url(book):\n",
    "        \n",
    "        url = f\"https://www.googleapis.com/books/v1/volumes?q={book}&full\"\n",
    "        response = requests.get(url)\n",
    "        if response.status_code != 200:\n",
    "            return ''\n",
    "        data = response.json()\n",
    "        widget_url = data['items'][0].get('accessInfo').get('webReaderLink')\n",
    "        widget = f'''<iframe frameborder=\"0\" scrolling=\"no\" style=\"border:0px\" src={widget_url} width=500 height=500></iframe>''' \n",
    "        return widget\n",
    "    \n",
    "    def get_ACSM(book):\n",
    "        \n",
    "        url = f\"https://www.googleapis.com/books/v1/volumes?q={book}\"\n",
    "        response = requests.get(url)\n",
    "        if response.status_code != 200:\n",
    "            return ''\n",
    "        data = response.json()\n",
    "        return data['items'][0].get('accessInfo').get('epub').get('acsTokenLink')\n",
    "    \n",
    "    def preview(book):\n",
    "        url = f\"https://www.googleapis.com/books/v1/volumes?q={book}\"\n",
    "        response = requests.get(url)\n",
    "        if response.status_code != 200:\n",
    "            return ''\n",
    "        data = response.json()\n",
    "        return data['items'][1].get('volumeInfo').get('previewLink', 'doesnt exist')\n",
    "    \n",
    "book1 = google_book\n",
    "#book1.get_widget_url('Harry Potter')\n",
    "dl_pdf = book1.is_book_free('Flowers and moonshine')\n",
    "dl_pdf\n",
    "#The Tale of Benjamin Bunny"
   ]
  },
  {
   "cell_type": "code",
   "execution_count": 123,
   "id": "181aeb91",
   "metadata": {},
   "outputs": [
    {
     "ename": "AttributeError",
     "evalue": "type object 'google_book' has no attribute 'new'",
     "output_type": "error",
     "traceback": [
      "\u001b[0;31m---------------------------------------------------------------------------\u001b[0m",
      "\u001b[0;31mAttributeError\u001b[0m                            Traceback (most recent call last)",
      "\u001b[0;32m<ipython-input-123-c0b6b8295d61>\u001b[0m in \u001b[0;36m<module>\u001b[0;34m\u001b[0m\n\u001b[0;32m----> 1\u001b[0;31m \u001b[0mbook1\u001b[0m\u001b[0;34m.\u001b[0m\u001b[0mnew\u001b[0m\u001b[0;34m(\u001b[0m\u001b[0;34m'The Tale of Benjamin Bunny'\u001b[0m\u001b[0;34m)\u001b[0m\u001b[0;34m\u001b[0m\u001b[0;34m\u001b[0m\u001b[0m\n\u001b[0m",
      "\u001b[0;31mAttributeError\u001b[0m: type object 'google_book' has no attribute 'new'"
     ]
    }
   ],
   "source": [
    "book1.new('The Tale of Benjamin Bunny')\n"
   ]
  },
  {
   "cell_type": "code",
   "execution_count": 134,
   "id": "daf6a3d3",
   "metadata": {},
   "outputs": [
    {
     "ename": "FileNotFoundError",
     "evalue": "[Errno 2] No such file or directory: 'http://books.google.co.uk/books/download/Flowers_and_moonshine.pdf?id=8a8BAAAAQAAJ&hl=&output=pdf&sig=ACfU3U2MoQ79d-_HoVasAjTGWLe4T8YC0Q&source=gbs_api'",
     "output_type": "error",
     "traceback": [
      "\u001b[0;31m---------------------------------------------------------------------------\u001b[0m",
      "\u001b[0;31mFileNotFoundError\u001b[0m                         Traceback (most recent call last)",
      "\u001b[0;32m<ipython-input-134-b6a8a475ed97>\u001b[0m in \u001b[0;36m<module>\u001b[0;34m\u001b[0m\n\u001b[0;32m----> 1\u001b[0;31m \u001b[0mopen\u001b[0m\u001b[0;34m(\u001b[0m\u001b[0mdl_pdf\u001b[0m\u001b[0;34m[\u001b[0m\u001b[0;36m0\u001b[0m\u001b[0;34m]\u001b[0m\u001b[0;34m,\u001b[0m \u001b[0;34m'wb'\u001b[0m\u001b[0;34m)\u001b[0m\u001b[0;34m\u001b[0m\u001b[0;34m\u001b[0m\u001b[0m\n\u001b[0m",
      "\u001b[0;31mFileNotFoundError\u001b[0m: [Errno 2] No such file or directory: 'http://books.google.co.uk/books/download/Flowers_and_moonshine.pdf?id=8a8BAAAAQAAJ&hl=&output=pdf&sig=ACfU3U2MoQ79d-_HoVasAjTGWLe4T8YC0Q&source=gbs_api'"
     ]
    }
   ],
   "source": [
    "open(dl_pdf[0], 'wb')"
   ]
  },
  {
   "cell_type": "code",
   "execution_count": 131,
   "id": "a38a5acf",
   "metadata": {},
   "outputs": [
    {
     "ename": "FileNotFoundError",
     "evalue": "[Errno 2] No such file or directory: 'http://books.google.co.uk/books/download/Flowers_and_moonshine.pdf?id=8a8BAAAAQAAJ&hl=&output=pdf&sig=ACfU3U2MoQ79d-_HoVasAjTGWLe4T8YC0Q&source=gbs_api'",
     "output_type": "error",
     "traceback": [
      "\u001b[0;31m---------------------------------------------------------------------------\u001b[0m",
      "\u001b[0;31mFileNotFoundError\u001b[0m                         Traceback (most recent call last)",
      "\u001b[0;32m<ipython-input-131-4db4228b90ac>\u001b[0m in \u001b[0;36m<module>\u001b[0;34m\u001b[0m\n\u001b[1;32m      1\u001b[0m \u001b[0;32mimport\u001b[0m \u001b[0mpdfplumber\u001b[0m\u001b[0;34m\u001b[0m\u001b[0;34m\u001b[0m\u001b[0m\n\u001b[0;32m----> 2\u001b[0;31m \u001b[0mpdf\u001b[0m \u001b[0;34m=\u001b[0m \u001b[0mpdfplumber\u001b[0m\u001b[0;34m.\u001b[0m\u001b[0mopen\u001b[0m\u001b[0;34m(\u001b[0m\u001b[0mdl_pdf\u001b[0m\u001b[0;34m[\u001b[0m\u001b[0;36m0\u001b[0m\u001b[0;34m]\u001b[0m\u001b[0;34m)\u001b[0m\u001b[0;34m\u001b[0m\u001b[0;34m\u001b[0m\u001b[0m\n\u001b[0m\u001b[1;32m      3\u001b[0m \u001b[0mpage\u001b[0m \u001b[0;34m=\u001b[0m \u001b[0mpdf\u001b[0m\u001b[0;34m.\u001b[0m\u001b[0mpages\u001b[0m\u001b[0;34m[\u001b[0m\u001b[0;36m0\u001b[0m\u001b[0;34m]\u001b[0m\u001b[0;34m\u001b[0m\u001b[0;34m\u001b[0m\u001b[0m\n\u001b[1;32m      4\u001b[0m \u001b[0mtext\u001b[0m \u001b[0;34m=\u001b[0m \u001b[0mpage\u001b[0m\u001b[0;34m.\u001b[0m\u001b[0mextract_text\u001b[0m\u001b[0;34m(\u001b[0m\u001b[0;34m)\u001b[0m\u001b[0;34m\u001b[0m\u001b[0;34m\u001b[0m\u001b[0m\n\u001b[1;32m      5\u001b[0m \u001b[0mprint\u001b[0m\u001b[0;34m(\u001b[0m\u001b[0mtext\u001b[0m\u001b[0;34m)\u001b[0m\u001b[0;34m\u001b[0m\u001b[0;34m\u001b[0m\u001b[0m\n",
      "\u001b[0;32m~/.pyenv/versions/3.8.6/envs/lewagon/lib/python3.8/site-packages/pdfplumber/pdf.py\u001b[0m in \u001b[0;36mopen\u001b[0;34m(cls, path_or_fp, **kwargs)\u001b[0m\n\u001b[1;32m     53\u001b[0m     \u001b[0;32mdef\u001b[0m \u001b[0mopen\u001b[0m\u001b[0;34m(\u001b[0m\u001b[0mcls\u001b[0m\u001b[0;34m,\u001b[0m \u001b[0mpath_or_fp\u001b[0m\u001b[0;34m,\u001b[0m \u001b[0;34m**\u001b[0m\u001b[0mkwargs\u001b[0m\u001b[0;34m)\u001b[0m\u001b[0;34m:\u001b[0m\u001b[0;34m\u001b[0m\u001b[0;34m\u001b[0m\u001b[0m\n\u001b[1;32m     54\u001b[0m         \u001b[0;32mif\u001b[0m \u001b[0misinstance\u001b[0m\u001b[0;34m(\u001b[0m\u001b[0mpath_or_fp\u001b[0m\u001b[0;34m,\u001b[0m \u001b[0;34m(\u001b[0m\u001b[0mstr\u001b[0m\u001b[0;34m,\u001b[0m \u001b[0mpathlib\u001b[0m\u001b[0;34m.\u001b[0m\u001b[0mPath\u001b[0m\u001b[0;34m)\u001b[0m\u001b[0;34m)\u001b[0m\u001b[0;34m:\u001b[0m\u001b[0;34m\u001b[0m\u001b[0;34m\u001b[0m\u001b[0m\n\u001b[0;32m---> 55\u001b[0;31m             \u001b[0mfp\u001b[0m \u001b[0;34m=\u001b[0m \u001b[0mopen\u001b[0m\u001b[0;34m(\u001b[0m\u001b[0mpath_or_fp\u001b[0m\u001b[0;34m,\u001b[0m \u001b[0;34m\"rb\"\u001b[0m\u001b[0;34m)\u001b[0m\u001b[0;34m\u001b[0m\u001b[0;34m\u001b[0m\u001b[0m\n\u001b[0m\u001b[1;32m     56\u001b[0m             \u001b[0minst\u001b[0m \u001b[0;34m=\u001b[0m \u001b[0mcls\u001b[0m\u001b[0;34m(\u001b[0m\u001b[0mfp\u001b[0m\u001b[0;34m,\u001b[0m \u001b[0;34m**\u001b[0m\u001b[0mkwargs\u001b[0m\u001b[0;34m)\u001b[0m\u001b[0;34m\u001b[0m\u001b[0;34m\u001b[0m\u001b[0m\n\u001b[1;32m     57\u001b[0m             \u001b[0minst\u001b[0m\u001b[0;34m.\u001b[0m\u001b[0mclose_file\u001b[0m \u001b[0;34m=\u001b[0m \u001b[0mfp\u001b[0m\u001b[0;34m.\u001b[0m\u001b[0mclose\u001b[0m\u001b[0;34m\u001b[0m\u001b[0;34m\u001b[0m\u001b[0m\n",
      "\u001b[0;31mFileNotFoundError\u001b[0m: [Errno 2] No such file or directory: 'http://books.google.co.uk/books/download/Flowers_and_moonshine.pdf?id=8a8BAAAAQAAJ&hl=&output=pdf&sig=ACfU3U2MoQ79d-_HoVasAjTGWLe4T8YC0Q&source=gbs_api'"
     ]
    }
   ],
   "source": [
    "import pdfplumber\n",
    "pdf = pdfplumber.open(dl_pdf[0])\n",
    "page = pdf.pages[0]\n",
    "text = page.extract_text()\n",
    "print(text)\n",
    "pdf.close()"
   ]
  },
  {
   "cell_type": "markdown",
   "id": "b3dd0a4a",
   "metadata": {},
   "source": [
    "## Amazon"
   ]
  },
  {
   "cell_type": "code",
   "execution_count": 106,
   "id": "681c1b6a",
   "metadata": {},
   "outputs": [],
   "source": [
    "from ebooklib import epub\n",
    "from bs4 import BeautifulSoup\n",
    "\n",
    "class KindleText():\n",
    "    \"\"\"\n",
    "    Input :  Path to a kindle epub file\n",
    "    Output : Python text\n",
    "    \"\"\"\n",
    "    def __init__(self, epub_path):\n",
    "        self.epub_path = epub_path\n",
    "        self.blacklist = ['[document]','noscript', 'header',\n",
    "                          'html', 'meta', 'head','input', 'script']\n",
    "    def epub2thtml(self):\n",
    "        book = epub.read_epub(self.epub_path)\n",
    "        chapters = []\n",
    "        for item in book.get_items():\n",
    "            if item.get_type() == ebooklib.ITEM_DOCUMENT:\n",
    "                chapters.append(item.get_content())\n",
    "        return chapters\n",
    "    \n",
    "    def chap2text(chap):\n",
    "        output = ''\n",
    "        soup = BeautifulSoup(chap, 'html.parser')\n",
    "        text = soup.find_all(text=True)\n",
    "        for t in text:\n",
    "            if t.parent.name not in blacklist:\n",
    "                output += '{} '.format(t)\n",
    "        return output\n",
    "    \n",
    "    def thtml2ttext(thtml):\n",
    "        Output = []\n",
    "        for html in thtml:\n",
    "            text =  chap2text(html)\n",
    "            Output.append(text)\n",
    "        return Output\n",
    "    \n",
    "    def epub2text(self):\n",
    "        \"\"\"\n",
    "        Final function to output the text\n",
    "        \"\"\"\n",
    "        chapters = epub2thtml(self.epub_path)\n",
    "        ttext = thtml2ttext(chapters)\n",
    "        return ttext\n"
   ]
  },
  {
   "cell_type": "code",
   "execution_count": 107,
   "id": "839b4843",
   "metadata": {},
   "outputs": [],
   "source": [
    "out = KindleText(epub_path='/Users/keirferguson/Desktop/Alices Adventures in Wonderland.epub')"
   ]
  },
  {
   "cell_type": "code",
   "execution_count": 108,
   "id": "2409b229",
   "metadata": {},
   "outputs": [
    {
     "data": {
      "text/plain": [
       "<__main__.KindleText at 0x10b6489d0>"
      ]
     },
     "execution_count": 108,
     "metadata": {},
     "output_type": "execute_result"
    }
   ],
   "source": [
    "out"
   ]
  },
  {
   "cell_type": "code",
   "execution_count": 110,
   "id": "1453cd2f",
   "metadata": {},
   "outputs": [
    {
     "ename": "NameError",
     "evalue": "name 'epub2thtml' is not defined",
     "output_type": "error",
     "traceback": [
      "\u001b[0;31m---------------------------------------------------------------------------\u001b[0m",
      "\u001b[0;31mNameError\u001b[0m                                 Traceback (most recent call last)",
      "\u001b[0;32m<ipython-input-110-791c4b4c8230>\u001b[0m in \u001b[0;36m<module>\u001b[0;34m\u001b[0m\n\u001b[0;32m----> 1\u001b[0;31m \u001b[0mout\u001b[0m\u001b[0;34m.\u001b[0m\u001b[0mepub2text\u001b[0m\u001b[0;34m(\u001b[0m\u001b[0;34m)\u001b[0m\u001b[0;34m\u001b[0m\u001b[0;34m\u001b[0m\u001b[0m\n\u001b[0m\u001b[1;32m      2\u001b[0m \u001b[0mprint\u001b[0m\u001b[0;34m(\u001b[0m\u001b[0mout\u001b[0m\u001b[0;34m[\u001b[0m\u001b[0;36m0\u001b[0m\u001b[0;34m]\u001b[0m\u001b[0;34m)\u001b[0m\u001b[0;34m\u001b[0m\u001b[0;34m\u001b[0m\u001b[0m\n",
      "\u001b[0;32m<ipython-input-106-7ad0f1e10cdc>\u001b[0m in \u001b[0;36mepub2text\u001b[0;34m(self)\u001b[0m\n\u001b[1;32m     39\u001b[0m         \u001b[0mFinal\u001b[0m \u001b[0mfunction\u001b[0m \u001b[0mto\u001b[0m \u001b[0moutput\u001b[0m \u001b[0mthe\u001b[0m \u001b[0mtext\u001b[0m\u001b[0;34m\u001b[0m\u001b[0;34m\u001b[0m\u001b[0m\n\u001b[1;32m     40\u001b[0m         \"\"\"\n\u001b[0;32m---> 41\u001b[0;31m         \u001b[0mchapters\u001b[0m \u001b[0;34m=\u001b[0m \u001b[0mepub2thtml\u001b[0m\u001b[0;34m(\u001b[0m\u001b[0mself\u001b[0m\u001b[0;34m.\u001b[0m\u001b[0mepub_path\u001b[0m\u001b[0;34m)\u001b[0m\u001b[0;34m\u001b[0m\u001b[0;34m\u001b[0m\u001b[0m\n\u001b[0m\u001b[1;32m     42\u001b[0m         \u001b[0mttext\u001b[0m \u001b[0;34m=\u001b[0m \u001b[0mthtml2ttext\u001b[0m\u001b[0;34m(\u001b[0m\u001b[0mchapters\u001b[0m\u001b[0;34m)\u001b[0m\u001b[0;34m\u001b[0m\u001b[0;34m\u001b[0m\u001b[0m\n\u001b[1;32m     43\u001b[0m         \u001b[0;32mreturn\u001b[0m \u001b[0mttext\u001b[0m\u001b[0;34m\u001b[0m\u001b[0;34m\u001b[0m\u001b[0m\n",
      "\u001b[0;31mNameError\u001b[0m: name 'epub2thtml' is not defined"
     ]
    }
   ],
   "source": [
    "out.epub2text()\n",
    "print(out[0])"
   ]
  },
  {
   "cell_type": "markdown",
   "id": "b7e16c64",
   "metadata": {},
   "source": [
    "## IT Bookstore API"
   ]
  },
  {
   "cell_type": "code",
   "execution_count": 19,
   "id": "9f3a8d88",
   "metadata": {},
   "outputs": [],
   "source": [
    "class it_bookstore():\n",
    "    \n",
    "    def __init__(self, book):\n",
    "        \n",
    "        self.book = book\n",
    "    \n",
    "    def search(book):\n",
    "        \n",
    "        url = f\"https://api.itbook.store/1.0/search/{book}\"\n",
    "        response = requests.get(url)\n",
    "        if response.status_code != 200:\n",
    "            return ''\n",
    "        data = response.json()\n",
    "        \n",
    "        return data#['items'][0].get('volumeInfo').get('title')\n",
    "    \n",
    "it = it_bookstore"
   ]
  }
 ],
 "metadata": {
  "kernelspec": {
   "display_name": "Python 3",
   "language": "python",
   "name": "python3"
  },
  "language_info": {
   "codemirror_mode": {
    "name": "ipython",
    "version": 3
   },
   "file_extension": ".py",
   "mimetype": "text/x-python",
   "name": "python",
   "nbconvert_exporter": "python",
   "pygments_lexer": "ipython3",
   "version": "3.8.6"
  },
  "toc": {
   "base_numbering": 1,
   "nav_menu": {},
   "number_sections": true,
   "sideBar": true,
   "skip_h1_title": false,
   "title_cell": "Table of Contents",
   "title_sidebar": "Contents",
   "toc_cell": false,
   "toc_position": {},
   "toc_section_display": true,
   "toc_window_display": false
  }
 },
 "nbformat": 4,
 "nbformat_minor": 5
}
