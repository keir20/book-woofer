{
 "cells": [
  {
   "cell_type": "markdown",
   "id": "b2047f8d",
   "metadata": {},
   "source": [
    "# Book API"
   ]
  },
  {
   "cell_type": "code",
   "execution_count": 11,
   "id": "be0ecee8",
   "metadata": {},
   "outputs": [],
   "source": [
    "import requests"
   ]
  },
  {
   "cell_type": "markdown",
   "id": "d136052a",
   "metadata": {},
   "source": [
    "## Google"
   ]
  },
  {
   "cell_type": "code",
   "execution_count": 110,
   "id": "870b5691",
   "metadata": {},
   "outputs": [
    {
     "data": {
      "text/plain": [
       "'There are 3 versions of this book and 0 is free. []'"
      ]
     },
     "execution_count": 110,
     "metadata": {},
     "output_type": "execute_result"
    }
   ],
   "source": [
    "class book():\n",
    "    \n",
    "    def __init__(self, book):\n",
    "        \n",
    "        self.book = book\n",
    "    \n",
    "    def search(book):\n",
    "        \n",
    "        url = f\"https://www.googleapis.com/books/v1/volumes?q={book}\"\n",
    "        response = requests.get(url)\n",
    "        if response.status_code != 200:\n",
    "            return ''\n",
    "        data = response.json()\n",
    "        \n",
    "        return data['items'][0].get('volumeInfo').get('title')\n",
    "    \n",
    "    def titles(book):\n",
    "        \n",
    "        url = f\"https://www.googleapis.com/books/v1/volumes?q={book}\"\n",
    "        response = requests.get(url)\n",
    "        if response.status_code != 200:\n",
    "            return ''\n",
    "        data = response.json()\n",
    "        titles = []\n",
    "        for i,t in enumerate(data):\n",
    "            title = data.get('items')[i].get('volumeInfo').get('title')\n",
    "            titles.append(title)\n",
    "        return titles\n",
    "    \n",
    "    def is_book_free(book):\n",
    "        \n",
    "        url = f\"https://www.googleapis.com/books/v1/volumes?q={book}\"\n",
    "        response = requests.get(url)\n",
    "        if response.status_code != 200:\n",
    "            return ''\n",
    "        data = response.json()\n",
    "        \n",
    "        freeBooks = []\n",
    "        total_versions = 0\n",
    "        free_versions = 0\n",
    "        for i,t in enumerate(data):\n",
    "            isFree = data.get('items')[i].get('accessInfo').get('viewability')\n",
    "            title = data.get('items')[i].get('volumeInfo').get('title')\n",
    "            total_versions += 1\n",
    "            if isFree == 'ALL_PAGES':\n",
    "                free_versions += 1\n",
    "                freeBooks.append(title)\n",
    "        return f\"There are {total_versions} versions of this book and {free_versions} is free. {freeBooks}\"\n",
    "        \n",
    "    \n",
    "    def get_widget_url(book):\n",
    "        \n",
    "        url = f\"https://www.googleapis.com/books/v1/volumes?q={book}&full\"\n",
    "        response = requests.get(url)\n",
    "        if response.status_code != 200:\n",
    "            return ''\n",
    "        data = response.json()\n",
    "        widget_url = data['items'][0].get('accessInfo').get('webReaderLink')\n",
    "        widget = f'''<iframe frameborder=\"0\" scrolling=\"no\" style=\"border:0px\" src={widget_url} width=500 height=500></iframe>''' \n",
    "        return widget\n",
    "    \n",
    "    def get_ACSM(book):\n",
    "        \n",
    "        url = f\"https://www.googleapis.com/books/v1/volumes?q={book}\"\n",
    "        response = requests.get(url)\n",
    "        if response.status_code != 200:\n",
    "            return ''\n",
    "        data = response.json()\n",
    "        return data['items'][0].get('accessInfo').get('epub').get('acsTokenLink')\n",
    "    \n",
    "book1 = book\n",
    "book1.get_widget_url('Harry Potter')\n",
    "book1.is_book_free('Harry Potter')\n",
    "\n",
    "#The Tale of Benjamin Bunny"
   ]
  },
  {
   "cell_type": "code",
   "execution_count": 112,
   "id": "06ab9c7f",
   "metadata": {},
   "outputs": [
    {
     "data": {
      "text/plain": [
       "'There are 3 versions of this book and 0 is free. []'"
      ]
     },
     "execution_count": 112,
     "metadata": {},
     "output_type": "execute_result"
    }
   ],
   "source": [
    "book1.is_book_free('The Twits')"
   ]
  },
  {
   "cell_type": "markdown",
   "id": "94e7244a",
   "metadata": {},
   "source": [
    "## Amazon"
   ]
  },
  {
   "cell_type": "code",
   "execution_count": 121,
   "id": "681c1b6a",
   "metadata": {},
   "outputs": [],
   "source": [
    "from ebooklib import epub\n",
    "from bs4 import BeautifulSoup\n",
    "class KindleText():\n",
    "    \"\"\"\n",
    "    Input :  Path to a kindle epub file\n",
    "    Output : Python text\n",
    "    \"\"\"\n",
    "    def __init__(self, epub_path):\n",
    "        self.epub_path = epub_path\n",
    "        self.blacklist = ['[document]','noscript', 'header',\n",
    "                          'html', 'meta', 'head','input', 'script']\n",
    "    def epub2thtml(self):\n",
    "        book = epub.read_epub(self.epub_path)\n",
    "        chapters = []\n",
    "        for item in book.get_items():\n",
    "            if item.get_type() == ebooklib.ITEM_DOCUMENT:\n",
    "                chapters.append(item.get_content())\n",
    "        return chapters\n",
    "    \n",
    "    def chap2text(chap):\n",
    "        output = ''\n",
    "        soup = BeautifulSoup(chap, 'html.parser')\n",
    "        text = soup.find_all(text=True)\n",
    "        for t in text:\n",
    "            if t.parent.name not in blacklist:\n",
    "                output += '{} '.format(t)\n",
    "        return output\n",
    "    \n",
    "    def thtml2ttext(thtml):\n",
    "        Output = []\n",
    "        for html in thtml:\n",
    "            text =  chap2text(html)\n",
    "            Output.append(text)\n",
    "        return Output\n",
    "    \n",
    "    def epub2text(self):\n",
    "        \"\"\"\n",
    "        Final function to output the text\n",
    "        \"\"\"\n",
    "        chapters = epub2thtml(self.epub_path)\n",
    "        ttext = thtml2ttext(chapters)\n",
    "        return ttext\n"
   ]
  },
  {
   "cell_type": "code",
   "execution_count": 124,
   "id": "53c6739b",
   "metadata": {},
   "outputs": [],
   "source": [
    "out = KindleText('/Users/keirferguson/Desktop/Alices Adventures in Wonderland.epub')"
   ]
  },
  {
   "cell_type": "code",
   "execution_count": 125,
   "id": "86bf1b08",
   "metadata": {},
   "outputs": [
    {
     "data": {
      "text/plain": [
       "<__main__.KindleText at 0x10f247550>"
      ]
     },
     "execution_count": 125,
     "metadata": {},
     "output_type": "execute_result"
    }
   ],
   "source": [
    "out"
   ]
  },
  {
   "cell_type": "code",
   "execution_count": 123,
   "id": "71a50973",
   "metadata": {},
   "outputs": [
    {
     "ename": "NameError",
     "evalue": "name 'epub2thtml' is not defined",
     "output_type": "error",
     "traceback": [
      "\u001b[0;31m---------------------------------------------------------------------------\u001b[0m",
      "\u001b[0;31mNameError\u001b[0m                                 Traceback (most recent call last)",
      "\u001b[0;32m<ipython-input-123-791c4b4c8230>\u001b[0m in \u001b[0;36m<module>\u001b[0;34m\u001b[0m\n\u001b[0;32m----> 1\u001b[0;31m \u001b[0mout\u001b[0m\u001b[0;34m.\u001b[0m\u001b[0mepub2text\u001b[0m\u001b[0;34m(\u001b[0m\u001b[0;34m)\u001b[0m\u001b[0;34m\u001b[0m\u001b[0;34m\u001b[0m\u001b[0m\n\u001b[0m\u001b[1;32m      2\u001b[0m \u001b[0mprint\u001b[0m\u001b[0;34m(\u001b[0m\u001b[0mout\u001b[0m\u001b[0;34m[\u001b[0m\u001b[0;36m0\u001b[0m\u001b[0;34m]\u001b[0m\u001b[0;34m)\u001b[0m\u001b[0;34m\u001b[0m\u001b[0;34m\u001b[0m\u001b[0m\n",
      "\u001b[0;32m<ipython-input-121-02cf17d3b254>\u001b[0m in \u001b[0;36mepub2text\u001b[0;34m(self)\u001b[0m\n\u001b[1;32m     38\u001b[0m         \u001b[0mFinal\u001b[0m \u001b[0mfunction\u001b[0m \u001b[0mto\u001b[0m \u001b[0moutput\u001b[0m \u001b[0mthe\u001b[0m \u001b[0mtext\u001b[0m\u001b[0;34m\u001b[0m\u001b[0;34m\u001b[0m\u001b[0m\n\u001b[1;32m     39\u001b[0m         \"\"\"\n\u001b[0;32m---> 40\u001b[0;31m         \u001b[0mchapters\u001b[0m \u001b[0;34m=\u001b[0m \u001b[0mepub2thtml\u001b[0m\u001b[0;34m(\u001b[0m\u001b[0mself\u001b[0m\u001b[0;34m.\u001b[0m\u001b[0mepub_path\u001b[0m\u001b[0;34m)\u001b[0m\u001b[0;34m\u001b[0m\u001b[0;34m\u001b[0m\u001b[0m\n\u001b[0m\u001b[1;32m     41\u001b[0m         \u001b[0mttext\u001b[0m \u001b[0;34m=\u001b[0m \u001b[0mthtml2ttext\u001b[0m\u001b[0;34m(\u001b[0m\u001b[0mchapters\u001b[0m\u001b[0;34m)\u001b[0m\u001b[0;34m\u001b[0m\u001b[0;34m\u001b[0m\u001b[0m\n\u001b[1;32m     42\u001b[0m         \u001b[0;32mreturn\u001b[0m \u001b[0mttext\u001b[0m\u001b[0;34m\u001b[0m\u001b[0;34m\u001b[0m\u001b[0m\n",
      "\u001b[0;31mNameError\u001b[0m: name 'epub2thtml' is not defined"
     ]
    }
   ],
   "source": [
    "out.epub2text()\n",
    "print(out[0])"
   ]
  }
 ],
 "metadata": {
  "kernelspec": {
   "display_name": "Python 3",
   "language": "python",
   "name": "python3"
  },
  "language_info": {
   "codemirror_mode": {
    "name": "ipython",
    "version": 3
   },
   "file_extension": ".py",
   "mimetype": "text/x-python",
   "name": "python",
   "nbconvert_exporter": "python",
   "pygments_lexer": "ipython3",
   "version": "3.8.6"
  },
  "toc": {
   "base_numbering": 1,
   "nav_menu": {},
   "number_sections": true,
   "sideBar": true,
   "skip_h1_title": false,
   "title_cell": "Table of Contents",
   "title_sidebar": "Contents",
   "toc_cell": false,
   "toc_position": {},
   "toc_section_display": true,
   "toc_window_display": false
  }
 },
 "nbformat": 4,
 "nbformat_minor": 5
}
