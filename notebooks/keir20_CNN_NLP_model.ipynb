{
  "nbformat": 4,
  "nbformat_minor": 0,
  "metadata": {
    "colab": {
      "name": "CNN NLP model.ipynb",
      "provenance": [],
      "collapsed_sections": []
    },
    "kernelspec": {
      "name": "python3",
      "display_name": "Python 3"
    },
    "language_info": {
      "name": "python"
    },
    "accelerator": "GPU"
  },
  "cells": [
    {
      "cell_type": "code",
      "metadata": {
        "colab": {
          "base_uri": "https://localhost:8080/",
          "height": 368
        },
        "id": "N2241Sa7_7e1",
        "outputId": "67feb615-3452-4a12-edab-f38395205588"
      },
      "source": [
        "import pandas as pd\n",
        "import numpy as np\n",
        "import random\n",
        "from tensorflow.keras import models, Sequential, layers\n",
        "from tensorflow.keras.preprocessing.sequence import pad_sequences\n",
        "from tensorflow.keras.preprocessing.text import Tokenizer\n",
        "from tensorflow.keras import callbacks\n",
        "from tensorflow.keras.utils import to_categorical\n",
        "from sklearn.model_selection import train_test_split"
      ],
      "execution_count": 49,
      "outputs": [
        {
          "output_type": "error",
          "ename": "ImportError",
          "evalue": "ignored",
          "traceback": [
            "\u001b[0;31m---------------------------------------------------------------------------\u001b[0m",
            "\u001b[0;31mImportError\u001b[0m                               Traceback (most recent call last)",
            "\u001b[0;32m<ipython-input-49-1205c7554022>\u001b[0m in \u001b[0;36m<module>\u001b[0;34m()\u001b[0m\n\u001b[1;32m      2\u001b[0m \u001b[0;32mimport\u001b[0m \u001b[0mnumpy\u001b[0m \u001b[0;32mas\u001b[0m \u001b[0mnp\u001b[0m\u001b[0;34m\u001b[0m\u001b[0;34m\u001b[0m\u001b[0m\n\u001b[1;32m      3\u001b[0m \u001b[0;32mimport\u001b[0m \u001b[0mrandom\u001b[0m\u001b[0;34m\u001b[0m\u001b[0;34m\u001b[0m\u001b[0m\n\u001b[0;32m----> 4\u001b[0;31m \u001b[0;32mfrom\u001b[0m \u001b[0mtensorflow\u001b[0m\u001b[0;34m.\u001b[0m\u001b[0mkeras\u001b[0m \u001b[0;32mimport\u001b[0m \u001b[0mmodels\u001b[0m\u001b[0;34m,\u001b[0m \u001b[0mSequential\u001b[0m\u001b[0;34m,\u001b[0m \u001b[0mlayers\u001b[0m\u001b[0;34m,\u001b[0m \u001b[0mBidirectional\u001b[0m\u001b[0;34m\u001b[0m\u001b[0;34m\u001b[0m\u001b[0m\n\u001b[0m\u001b[1;32m      5\u001b[0m \u001b[0;32mfrom\u001b[0m \u001b[0mtensorflow\u001b[0m\u001b[0;34m.\u001b[0m\u001b[0mkeras\u001b[0m\u001b[0;34m.\u001b[0m\u001b[0mpreprocessing\u001b[0m\u001b[0;34m.\u001b[0m\u001b[0msequence\u001b[0m \u001b[0;32mimport\u001b[0m \u001b[0mpad_sequences\u001b[0m\u001b[0;34m\u001b[0m\u001b[0;34m\u001b[0m\u001b[0m\n\u001b[1;32m      6\u001b[0m \u001b[0;32mfrom\u001b[0m \u001b[0mtensorflow\u001b[0m\u001b[0;34m.\u001b[0m\u001b[0mkeras\u001b[0m\u001b[0;34m.\u001b[0m\u001b[0mpreprocessing\u001b[0m\u001b[0;34m.\u001b[0m\u001b[0mtext\u001b[0m \u001b[0;32mimport\u001b[0m \u001b[0mTokenizer\u001b[0m\u001b[0;34m\u001b[0m\u001b[0;34m\u001b[0m\u001b[0m\n",
            "\u001b[0;31mImportError\u001b[0m: cannot import name 'Bidirectional' from 'tensorflow.keras' (/usr/local/lib/python3.7/dist-packages/tensorflow/keras/__init__.py)",
            "",
            "\u001b[0;31m---------------------------------------------------------------------------\u001b[0;32m\nNOTE: If your import is failing due to a missing package, you can\nmanually install dependencies using either !pip or !apt.\n\nTo view examples of installing some common dependencies, click the\n\"Open Examples\" button below.\n\u001b[0;31m---------------------------------------------------------------------------\u001b[0m\n"
          ]
        }
      ]
    },
    {
      "cell_type": "code",
      "metadata": {
        "id": "7Xs5w1SP_961"
      },
      "source": [
        "df = pd.read_csv('Emotion_final.csv')"
      ],
      "execution_count": 2,
      "outputs": []
    },
    {
      "cell_type": "code",
      "metadata": {
        "id": "U55V4V5gD-Zr"
      },
      "source": [
        "df = df.rename(columns={'Text': 'text', 'Emotion': 'emotion'})"
      ],
      "execution_count": 3,
      "outputs": []
    },
    {
      "cell_type": "code",
      "metadata": {
        "colab": {
          "base_uri": "https://localhost:8080/",
          "height": 204
        },
        "id": "g2abjauPTb-q",
        "outputId": "805dd763-f658-4a4e-a0ca-163ece3d67fe"
      },
      "source": [
        "df.head()"
      ],
      "execution_count": 4,
      "outputs": [
        {
          "output_type": "execute_result",
          "data": {
            "text/html": [
              "<div>\n",
              "<style scoped>\n",
              "    .dataframe tbody tr th:only-of-type {\n",
              "        vertical-align: middle;\n",
              "    }\n",
              "\n",
              "    .dataframe tbody tr th {\n",
              "        vertical-align: top;\n",
              "    }\n",
              "\n",
              "    .dataframe thead th {\n",
              "        text-align: right;\n",
              "    }\n",
              "</style>\n",
              "<table border=\"1\" class=\"dataframe\">\n",
              "  <thead>\n",
              "    <tr style=\"text-align: right;\">\n",
              "      <th></th>\n",
              "      <th>text</th>\n",
              "      <th>emotion</th>\n",
              "    </tr>\n",
              "  </thead>\n",
              "  <tbody>\n",
              "    <tr>\n",
              "      <th>0</th>\n",
              "      <td>i didnt feel humiliated</td>\n",
              "      <td>sadness</td>\n",
              "    </tr>\n",
              "    <tr>\n",
              "      <th>1</th>\n",
              "      <td>i can go from feeling so hopeless to so damned...</td>\n",
              "      <td>sadness</td>\n",
              "    </tr>\n",
              "    <tr>\n",
              "      <th>2</th>\n",
              "      <td>im grabbing a minute to post i feel greedy wrong</td>\n",
              "      <td>anger</td>\n",
              "    </tr>\n",
              "    <tr>\n",
              "      <th>3</th>\n",
              "      <td>i am ever feeling nostalgic about the fireplac...</td>\n",
              "      <td>love</td>\n",
              "    </tr>\n",
              "    <tr>\n",
              "      <th>4</th>\n",
              "      <td>i am feeling grouchy</td>\n",
              "      <td>anger</td>\n",
              "    </tr>\n",
              "  </tbody>\n",
              "</table>\n",
              "</div>"
            ],
            "text/plain": [
              "                                                text  emotion\n",
              "0                            i didnt feel humiliated  sadness\n",
              "1  i can go from feeling so hopeless to so damned...  sadness\n",
              "2   im grabbing a minute to post i feel greedy wrong    anger\n",
              "3  i am ever feeling nostalgic about the fireplac...     love\n",
              "4                               i am feeling grouchy    anger"
            ]
          },
          "metadata": {
            "tags": []
          },
          "execution_count": 4
        }
      ]
    },
    {
      "cell_type": "code",
      "metadata": {
        "colab": {
          "base_uri": "https://localhost:8080/"
        },
        "id": "Dv2zthJ_OqKq",
        "outputId": "ae091f0a-1711-4e32-feb6-96a81c8ce0f5"
      },
      "source": [
        "df.emotion.value_counts().count()"
      ],
      "execution_count": 5,
      "outputs": [
        {
          "output_type": "execute_result",
          "data": {
            "text/plain": [
              "6"
            ]
          },
          "metadata": {
            "tags": []
          },
          "execution_count": 5
        }
      ]
    },
    {
      "cell_type": "code",
      "metadata": {
        "colab": {
          "base_uri": "https://localhost:8080/"
        },
        "id": "BuXh13AoF9m8",
        "outputId": "8a85a32f-69d9-46f6-a53b-d5bfd9e503f7"
      },
      "source": [
        "df.shape"
      ],
      "execution_count": 6,
      "outputs": [
        {
          "output_type": "execute_result",
          "data": {
            "text/plain": [
              "(21459, 2)"
            ]
          },
          "metadata": {
            "tags": []
          },
          "execution_count": 6
        }
      ]
    },
    {
      "cell_type": "code",
      "metadata": {
        "id": "s4jAzgXYf0KD"
      },
      "source": [
        "X = df.text\n",
        "df.emotion = pd.Categorical(df.emotion)"
      ],
      "execution_count": 7,
      "outputs": []
    },
    {
      "cell_type": "code",
      "metadata": {
        "id": "rzbYBvRj3NnW"
      },
      "source": [
        "df['code'] = df['emotion'].cat.codes"
      ],
      "execution_count": 8,
      "outputs": []
    },
    {
      "cell_type": "code",
      "metadata": {
        "id": "_89S7MNN2MjI"
      },
      "source": [
        "y = to_categorical(df['code'].values)"
      ],
      "execution_count": 9,
      "outputs": []
    },
    {
      "cell_type": "code",
      "metadata": {
        "colab": {
          "base_uri": "https://localhost:8080/",
          "height": 204
        },
        "id": "cyMKTDHzgB7a",
        "outputId": "c0436089-d6dd-48a3-ca17-f6ca988f8dda"
      },
      "source": [
        "df.head()"
      ],
      "execution_count": 10,
      "outputs": [
        {
          "output_type": "execute_result",
          "data": {
            "text/html": [
              "<div>\n",
              "<style scoped>\n",
              "    .dataframe tbody tr th:only-of-type {\n",
              "        vertical-align: middle;\n",
              "    }\n",
              "\n",
              "    .dataframe tbody tr th {\n",
              "        vertical-align: top;\n",
              "    }\n",
              "\n",
              "    .dataframe thead th {\n",
              "        text-align: right;\n",
              "    }\n",
              "</style>\n",
              "<table border=\"1\" class=\"dataframe\">\n",
              "  <thead>\n",
              "    <tr style=\"text-align: right;\">\n",
              "      <th></th>\n",
              "      <th>text</th>\n",
              "      <th>emotion</th>\n",
              "      <th>code</th>\n",
              "    </tr>\n",
              "  </thead>\n",
              "  <tbody>\n",
              "    <tr>\n",
              "      <th>0</th>\n",
              "      <td>i didnt feel humiliated</td>\n",
              "      <td>sadness</td>\n",
              "      <td>4</td>\n",
              "    </tr>\n",
              "    <tr>\n",
              "      <th>1</th>\n",
              "      <td>i can go from feeling so hopeless to so damned...</td>\n",
              "      <td>sadness</td>\n",
              "      <td>4</td>\n",
              "    </tr>\n",
              "    <tr>\n",
              "      <th>2</th>\n",
              "      <td>im grabbing a minute to post i feel greedy wrong</td>\n",
              "      <td>anger</td>\n",
              "      <td>0</td>\n",
              "    </tr>\n",
              "    <tr>\n",
              "      <th>3</th>\n",
              "      <td>i am ever feeling nostalgic about the fireplac...</td>\n",
              "      <td>love</td>\n",
              "      <td>3</td>\n",
              "    </tr>\n",
              "    <tr>\n",
              "      <th>4</th>\n",
              "      <td>i am feeling grouchy</td>\n",
              "      <td>anger</td>\n",
              "      <td>0</td>\n",
              "    </tr>\n",
              "  </tbody>\n",
              "</table>\n",
              "</div>"
            ],
            "text/plain": [
              "                                                text  emotion  code\n",
              "0                            i didnt feel humiliated  sadness     4\n",
              "1  i can go from feeling so hopeless to so damned...  sadness     4\n",
              "2   im grabbing a minute to post i feel greedy wrong    anger     0\n",
              "3  i am ever feeling nostalgic about the fireplac...     love     3\n",
              "4                               i am feeling grouchy    anger     0"
            ]
          },
          "metadata": {
            "tags": []
          },
          "execution_count": 10
        }
      ]
    },
    {
      "cell_type": "code",
      "metadata": {
        "id": "sk6w7Maofa2p"
      },
      "source": [
        "X_train, X_test, y_train, y_test = train_test_split(X, y, test_size=0.3, random_state=42)"
      ],
      "execution_count": 11,
      "outputs": []
    },
    {
      "cell_type": "code",
      "metadata": {
        "colab": {
          "base_uri": "https://localhost:8080/"
        },
        "id": "NGAXnWRtfJQl",
        "outputId": "4251048f-43f1-493a-fbdf-d495e33e132c"
      },
      "source": [
        "y_train"
      ],
      "execution_count": 12,
      "outputs": [
        {
          "output_type": "execute_result",
          "data": {
            "text/plain": [
              "array([[0., 0., 0., 0., 1., 0.],\n",
              "       [0., 0., 1., 0., 0., 0.],\n",
              "       [0., 0., 1., 0., 0., 0.],\n",
              "       ...,\n",
              "       [0., 0., 0., 1., 0., 0.],\n",
              "       [0., 0., 0., 0., 1., 0.],\n",
              "       [0., 0., 0., 0., 1., 0.]], dtype=float32)"
            ]
          },
          "metadata": {
            "tags": []
          },
          "execution_count": 12
        }
      ]
    },
    {
      "cell_type": "code",
      "metadata": {
        "colab": {
          "base_uri": "https://localhost:8080/",
          "height": 204
        },
        "id": "WkmMW4sIeV3z",
        "outputId": "7b65f828-6574-4726-84d2-b3b9d2e0c176"
      },
      "source": [
        "df.head()"
      ],
      "execution_count": 13,
      "outputs": [
        {
          "output_type": "execute_result",
          "data": {
            "text/html": [
              "<div>\n",
              "<style scoped>\n",
              "    .dataframe tbody tr th:only-of-type {\n",
              "        vertical-align: middle;\n",
              "    }\n",
              "\n",
              "    .dataframe tbody tr th {\n",
              "        vertical-align: top;\n",
              "    }\n",
              "\n",
              "    .dataframe thead th {\n",
              "        text-align: right;\n",
              "    }\n",
              "</style>\n",
              "<table border=\"1\" class=\"dataframe\">\n",
              "  <thead>\n",
              "    <tr style=\"text-align: right;\">\n",
              "      <th></th>\n",
              "      <th>text</th>\n",
              "      <th>emotion</th>\n",
              "      <th>code</th>\n",
              "    </tr>\n",
              "  </thead>\n",
              "  <tbody>\n",
              "    <tr>\n",
              "      <th>0</th>\n",
              "      <td>i didnt feel humiliated</td>\n",
              "      <td>sadness</td>\n",
              "      <td>4</td>\n",
              "    </tr>\n",
              "    <tr>\n",
              "      <th>1</th>\n",
              "      <td>i can go from feeling so hopeless to so damned...</td>\n",
              "      <td>sadness</td>\n",
              "      <td>4</td>\n",
              "    </tr>\n",
              "    <tr>\n",
              "      <th>2</th>\n",
              "      <td>im grabbing a minute to post i feel greedy wrong</td>\n",
              "      <td>anger</td>\n",
              "      <td>0</td>\n",
              "    </tr>\n",
              "    <tr>\n",
              "      <th>3</th>\n",
              "      <td>i am ever feeling nostalgic about the fireplac...</td>\n",
              "      <td>love</td>\n",
              "      <td>3</td>\n",
              "    </tr>\n",
              "    <tr>\n",
              "      <th>4</th>\n",
              "      <td>i am feeling grouchy</td>\n",
              "      <td>anger</td>\n",
              "      <td>0</td>\n",
              "    </tr>\n",
              "  </tbody>\n",
              "</table>\n",
              "</div>"
            ],
            "text/plain": [
              "                                                text  emotion  code\n",
              "0                            i didnt feel humiliated  sadness     4\n",
              "1  i can go from feeling so hopeless to so damned...  sadness     4\n",
              "2   im grabbing a minute to post i feel greedy wrong    anger     0\n",
              "3  i am ever feeling nostalgic about the fireplac...     love     3\n",
              "4                               i am feeling grouchy    anger     0"
            ]
          },
          "metadata": {
            "tags": []
          },
          "execution_count": 13
        }
      ]
    },
    {
      "cell_type": "code",
      "metadata": {
        "colab": {
          "base_uri": "https://localhost:8080/"
        },
        "id": "slX91GRSTs2H",
        "outputId": "381fa357-4a98-40a9-8bf7-75aa12a7e347"
      },
      "source": [
        "df.emotion.value_counts()"
      ],
      "execution_count": 14,
      "outputs": [
        {
          "output_type": "execute_result",
          "data": {
            "text/plain": [
              "happy       7029\n",
              "sadness     6265\n",
              "anger       2993\n",
              "fear        2652\n",
              "love        1641\n",
              "surprise     879\n",
              "Name: emotion, dtype: int64"
            ]
          },
          "metadata": {
            "tags": []
          },
          "execution_count": 14
        }
      ]
    },
    {
      "cell_type": "code",
      "metadata": {
        "colab": {
          "base_uri": "https://localhost:8080/",
          "height": 204
        },
        "id": "mwixqx3JU5YX",
        "outputId": "33778aa7-413f-4102-acbd-e32e8d4d2afb"
      },
      "source": [
        "df.head()"
      ],
      "execution_count": 15,
      "outputs": [
        {
          "output_type": "execute_result",
          "data": {
            "text/html": [
              "<div>\n",
              "<style scoped>\n",
              "    .dataframe tbody tr th:only-of-type {\n",
              "        vertical-align: middle;\n",
              "    }\n",
              "\n",
              "    .dataframe tbody tr th {\n",
              "        vertical-align: top;\n",
              "    }\n",
              "\n",
              "    .dataframe thead th {\n",
              "        text-align: right;\n",
              "    }\n",
              "</style>\n",
              "<table border=\"1\" class=\"dataframe\">\n",
              "  <thead>\n",
              "    <tr style=\"text-align: right;\">\n",
              "      <th></th>\n",
              "      <th>text</th>\n",
              "      <th>emotion</th>\n",
              "      <th>code</th>\n",
              "    </tr>\n",
              "  </thead>\n",
              "  <tbody>\n",
              "    <tr>\n",
              "      <th>0</th>\n",
              "      <td>i didnt feel humiliated</td>\n",
              "      <td>sadness</td>\n",
              "      <td>4</td>\n",
              "    </tr>\n",
              "    <tr>\n",
              "      <th>1</th>\n",
              "      <td>i can go from feeling so hopeless to so damned...</td>\n",
              "      <td>sadness</td>\n",
              "      <td>4</td>\n",
              "    </tr>\n",
              "    <tr>\n",
              "      <th>2</th>\n",
              "      <td>im grabbing a minute to post i feel greedy wrong</td>\n",
              "      <td>anger</td>\n",
              "      <td>0</td>\n",
              "    </tr>\n",
              "    <tr>\n",
              "      <th>3</th>\n",
              "      <td>i am ever feeling nostalgic about the fireplac...</td>\n",
              "      <td>love</td>\n",
              "      <td>3</td>\n",
              "    </tr>\n",
              "    <tr>\n",
              "      <th>4</th>\n",
              "      <td>i am feeling grouchy</td>\n",
              "      <td>anger</td>\n",
              "      <td>0</td>\n",
              "    </tr>\n",
              "  </tbody>\n",
              "</table>\n",
              "</div>"
            ],
            "text/plain": [
              "                                                text  emotion  code\n",
              "0                            i didnt feel humiliated  sadness     4\n",
              "1  i can go from feeling so hopeless to so damned...  sadness     4\n",
              "2   im grabbing a minute to post i feel greedy wrong    anger     0\n",
              "3  i am ever feeling nostalgic about the fireplac...     love     3\n",
              "4                               i am feeling grouchy    anger     0"
            ]
          },
          "metadata": {
            "tags": []
          },
          "execution_count": 15
        }
      ]
    },
    {
      "cell_type": "code",
      "metadata": {
        "colab": {
          "base_uri": "https://localhost:8080/"
        },
        "id": "sB0o4ussXZQX",
        "outputId": "ee9aa3e1-3898-42f6-f7a1-cec705b04b4a"
      },
      "source": [
        "### Let's tokenize the vocabulary \n",
        "tk = Tokenizer()\n",
        "tk.fit_on_texts(X)\n",
        "vocab_size = len(tk.word_index) + 1\n",
        "print(f'There are {vocab_size} different words in your corpus')\n",
        "X_train_token = tk.texts_to_sequences(X_train)\n",
        "X_test_token = tk.texts_to_sequences(X_test)\n",
        "\n",
        "\n",
        "### Pad your inputs\n",
        "X_train_pad = pad_sequences(X_train_token, maxlen=66, dtype='float32', padding='post' )\n",
        "X_test_pad = pad_sequences(X_test_token, maxlen=66, dtype='float32', padding='post')"
      ],
      "execution_count": 35,
      "outputs": [
        {
          "output_type": "stream",
          "text": [
            "There are 19259 different words in your corpus\n"
          ],
          "name": "stdout"
        }
      ]
    },
    {
      "cell_type": "code",
      "metadata": {
        "colab": {
          "base_uri": "https://localhost:8080/"
        },
        "id": "I_107wleZc8L",
        "outputId": "08fc85ae-a04f-4169-9e23-3fd25af31ca1"
      },
      "source": [
        "X_train_pad.shape"
      ],
      "execution_count": 36,
      "outputs": [
        {
          "output_type": "execute_result",
          "data": {
            "text/plain": [
              "(15021, 66)"
            ]
          },
          "metadata": {
            "tags": []
          },
          "execution_count": 36
        }
      ]
    },
    {
      "cell_type": "code",
      "metadata": {
        "colab": {
          "base_uri": "https://localhost:8080/"
        },
        "id": "l9j-y_EEGYP1",
        "outputId": "61c230e7-62de-4ef4-d21a-d07459de3c56"
      },
      "source": [
        "X_test_pad.shape"
      ],
      "execution_count": 37,
      "outputs": [
        {
          "output_type": "execute_result",
          "data": {
            "text/plain": [
              "(6438, 66)"
            ]
          },
          "metadata": {
            "tags": []
          },
          "execution_count": 37
        }
      ]
    },
    {
      "cell_type": "code",
      "metadata": {
        "colab": {
          "base_uri": "https://localhost:8080/"
        },
        "id": "L7qJ4-1HZUb2",
        "outputId": "ecf6b946-932a-4dcd-c3ec-ee018127f90a"
      },
      "source": [
        "vocab_size"
      ],
      "execution_count": 18,
      "outputs": [
        {
          "output_type": "execute_result",
          "data": {
            "text/plain": [
              "19259"
            ]
          },
          "metadata": {
            "tags": []
          },
          "execution_count": 18
        }
      ]
    },
    {
      "cell_type": "code",
      "metadata": {
        "id": "WurP1qgGRhVE"
      },
      "source": [
        "# model.add(layers.Masking(mark_value=-999))"
      ],
      "execution_count": 19,
      "outputs": []
    },
    {
      "cell_type": "code",
      "metadata": {
        "id": "4v_4vdq4RhhQ"
      },
      "source": [
        "import gensim.downloader as api\n",
        "glove_gensim  = api.load('glove-wiki-gigaword-100') #100 dimension"
      ],
      "execution_count": 38,
      "outputs": []
    },
    {
      "cell_type": "code",
      "metadata": {
        "colab": {
          "base_uri": "https://localhost:8080/"
        },
        "id": "zWdpI3omh-4h",
        "outputId": "1b512680-d24f-491b-c3d6-6d06abe59455"
      },
      "source": [
        "# Vectorize\n",
        "vector_size = 100\n",
        "gensim_weight_matrix = np.zeros((vocab_size ,vector_size))\n",
        "gensim_weight_matrix.shape\n",
        "for word, index in tk.word_index.items():\n",
        "    if index < vocab_size: # since index starts with zero \n",
        "        if word in glove_gensim.wv.vocab:\n",
        "            gensim_weight_matrix[index] = glove_gensim[word]\n",
        "        else:\n",
        "            gensim_weight_matrix[index] = np.zeros(100)"
      ],
      "execution_count": 39,
      "outputs": [
        {
          "output_type": "stream",
          "text": [
            "/usr/local/lib/python3.7/dist-packages/ipykernel_launcher.py:7: DeprecationWarning: Call to deprecated `wv` (Attribute will be removed in 4.0.0, use self instead).\n",
            "  import sys\n"
          ],
          "name": "stderr"
        }
      ]
    },
    {
      "cell_type": "code",
      "metadata": {
        "id": "2jdwOXB8iE0o"
      },
      "source": [
        "def create_model(EMBEDDING_DIM = 100): # this means the embedding layer will create  a vector in 100 dimension\n",
        "  model_cnn = Sequential()\n",
        "  model_cnn.add(layers.Embedding(input_dim = vocab_size,# the whole vocabulary size \n",
        "                            output_dim = EMBEDDING_DIM, # vector space dimension\n",
        "                            input_length= X_train_pad.shape[1], # max_len of text sequence\n",
        "                            weights = [gensim_weight_matrix],\n",
        "                            trainable = False,\n",
        "                            mask_zero=True))\n",
        "  model_cnn.add(layers.Conv1D(10, kernel_size=3))\n",
        "  model_cnn.add(layers.Flatten())\n",
        "  #model_cnn.add(layers.Dense(60, activation=\"relu\"))\n",
        "  model_cnn.add(layers.Dense(30, activation=\"relu\"))\n",
        "  model_cnn.add(layers.Dense(6, activation=\"softmax\"))\n",
        "  model_cnn.compile(loss='categorical_crossentropy',\n",
        "              optimizer='adam',\n",
        "              metrics=['accuracy'])\n",
        "  return model_cnn"
      ],
      "execution_count": 40,
      "outputs": []
    },
    {
      "cell_type": "code",
      "metadata": {
        "id": "vxCXQbImkzmx"
      },
      "source": [
        "model = create_model()"
      ],
      "execution_count": 41,
      "outputs": []
    },
    {
      "cell_type": "code",
      "metadata": {
        "colab": {
          "base_uri": "https://localhost:8080/"
        },
        "id": "sa7c5KidlF1l",
        "outputId": "7effb0ea-8600-4d99-b613-544d1945922f"
      },
      "source": [
        "model.summary()"
      ],
      "execution_count": 42,
      "outputs": [
        {
          "output_type": "stream",
          "text": [
            "Model: \"sequential_1\"\n",
            "_________________________________________________________________\n",
            "Layer (type)                 Output Shape              Param #   \n",
            "=================================================================\n",
            "embedding_1 (Embedding)      (None, 66, 100)           1925900   \n",
            "_________________________________________________________________\n",
            "conv1d_1 (Conv1D)            (None, 64, 10)            3010      \n",
            "_________________________________________________________________\n",
            "flatten_1 (Flatten)          (None, 640)               0         \n",
            "_________________________________________________________________\n",
            "dense_2 (Dense)              (None, 30)                19230     \n",
            "_________________________________________________________________\n",
            "dense_3 (Dense)              (None, 6)                 186       \n",
            "=================================================================\n",
            "Total params: 1,948,326\n",
            "Trainable params: 22,426\n",
            "Non-trainable params: 1,925,900\n",
            "_________________________________________________________________\n"
          ],
          "name": "stdout"
        }
      ]
    },
    {
      "cell_type": "code",
      "metadata": {
        "id": "_gYEYv9U_vjK"
      },
      "source": [
        "es = callbacks.EarlyStopping(patience=10, restore_best_weights=True)"
      ],
      "execution_count": 43,
      "outputs": []
    },
    {
      "cell_type": "code",
      "metadata": {
        "colab": {
          "base_uri": "https://localhost:8080/"
        },
        "id": "YjVsF0oclJr3",
        "outputId": "d6fda6fb-c01f-407d-8228-0a29df9e1bee"
      },
      "source": [
        "history = model.fit(X_train_pad, y_train, batch_size=8, epochs=100, verbose=1, validation_split=0.3, callbacks=[es])"
      ],
      "execution_count": 26,
      "outputs": [
        {
          "output_type": "stream",
          "text": [
            "Epoch 1/100\n",
            "1315/1315 [==============================] - 8s 4ms/step - loss: 1.4737 - accuracy: 0.4245 - val_loss: 1.3423 - val_accuracy: 0.4890\n",
            "Epoch 2/100\n",
            "1315/1315 [==============================] - 5s 4ms/step - loss: 1.2823 - accuracy: 0.5190 - val_loss: 1.2658 - val_accuracy: 0.5281\n",
            "Epoch 3/100\n",
            "1315/1315 [==============================] - 5s 4ms/step - loss: 1.1481 - accuracy: 0.5690 - val_loss: 1.2506 - val_accuracy: 0.5323\n",
            "Epoch 4/100\n",
            "1315/1315 [==============================] - 5s 4ms/step - loss: 1.0250 - accuracy: 0.6178 - val_loss: 1.2456 - val_accuracy: 0.5529\n",
            "Epoch 5/100\n",
            "1315/1315 [==============================] - 5s 4ms/step - loss: 0.9253 - accuracy: 0.6564 - val_loss: 1.2727 - val_accuracy: 0.5471\n",
            "Epoch 6/100\n",
            "1315/1315 [==============================] - 5s 4ms/step - loss: 0.8427 - accuracy: 0.6897 - val_loss: 1.2956 - val_accuracy: 0.5549\n",
            "Epoch 7/100\n",
            "1315/1315 [==============================] - 5s 4ms/step - loss: 0.7699 - accuracy: 0.7171 - val_loss: 1.3557 - val_accuracy: 0.5585\n",
            "Epoch 8/100\n",
            "1315/1315 [==============================] - 5s 4ms/step - loss: 0.7034 - accuracy: 0.7450 - val_loss: 1.4540 - val_accuracy: 0.5487\n",
            "Epoch 9/100\n",
            "1315/1315 [==============================] - 5s 4ms/step - loss: 0.6535 - accuracy: 0.7642 - val_loss: 1.4692 - val_accuracy: 0.5480\n",
            "Epoch 10/100\n",
            "1315/1315 [==============================] - 5s 4ms/step - loss: 0.6093 - accuracy: 0.7809 - val_loss: 1.5936 - val_accuracy: 0.5556\n",
            "Epoch 11/100\n",
            "1315/1315 [==============================] - 5s 3ms/step - loss: 0.5651 - accuracy: 0.7986 - val_loss: 1.6929 - val_accuracy: 0.5356\n",
            "Epoch 12/100\n",
            "1315/1315 [==============================] - 5s 3ms/step - loss: 0.5325 - accuracy: 0.8106 - val_loss: 1.7533 - val_accuracy: 0.5405\n",
            "Epoch 13/100\n",
            "1315/1315 [==============================] - 4s 3ms/step - loss: 0.4971 - accuracy: 0.8232 - val_loss: 1.9114 - val_accuracy: 0.5325\n",
            "Epoch 14/100\n",
            "1315/1315 [==============================] - 5s 3ms/step - loss: 0.4675 - accuracy: 0.8336 - val_loss: 1.9599 - val_accuracy: 0.5389\n"
          ],
          "name": "stdout"
        }
      ]
    },
    {
      "cell_type": "code",
      "metadata": {
        "colab": {
          "base_uri": "https://localhost:8080/"
        },
        "id": "tudEmJRZESHv",
        "outputId": "2dc9dded-7a45-4705-f707-1e71eb54b32f"
      },
      "source": [
        "model.evaluate(X_test_pad, y_test)"
      ],
      "execution_count": 44,
      "outputs": [
        {
          "output_type": "stream",
          "text": [
            "202/202 [==============================] - 1s 3ms/step - loss: 2.0320 - accuracy: 0.0980\n"
          ],
          "name": "stdout"
        },
        {
          "output_type": "execute_result",
          "data": {
            "text/plain": [
              "[2.031979560852051, 0.0980118066072464]"
            ]
          },
          "metadata": {
            "tags": []
          },
          "execution_count": 44
        }
      ]
    },
    {
      "cell_type": "code",
      "metadata": {
        "id": "E6slgk4FHcjd"
      },
      "source": [
        "def create_model2(EMBEDDING_DIM = 100): # this means the embedding layer will create  a vector in 100 dimension\n",
        "  model_cnn = Sequential()\n",
        "  model_cnn.add(layers.Embedding(input_dim = vocab_size,# the whole vocabulary size \n",
        "                            output_dim = EMBEDDING_DIM, # vector space dimension\n",
        "                            input_length= X_train_pad.shape[1], # max_len of text sequence\n",
        "                            weights = [gensim_weight_matrix],\n",
        "                            trainable = False,\n",
        "                            mask_zero=True))\n",
        "  model_cnn.add(layers.Bidirectional(layers.LSTM(100,return_sequences=True)))\n",
        "  model_cnn.add(layers.Bidirectional(layers.LSTM(100,return_sequences=True)))\n",
        "  model_cnn.add(layers.Dropout(.2,))\n",
        "  model_cnn.add(layers.Bidirectional(layers.LSTM(100,return_sequences=False)))\n",
        "  #model_cnn.add(layers.Dense(60, activation=\"relu\"))\n",
        "  model_cnn.add(layers.Dense(30, activation=\"relu\"))\n",
        "  model_cnn.add(layers.Dense(6, activation=\"softmax\"))\n",
        "  model_cnn.compile(loss='categorical_crossentropy',\n",
        "              optimizer='adam',\n",
        "              metrics=['accuracy'])\n",
        "  return model_cnn"
      ],
      "execution_count": 65,
      "outputs": []
    },
    {
      "cell_type": "code",
      "metadata": {
        "id": "zBkx8yQRHuPP"
      },
      "source": [
        "model2 = create_model2()"
      ],
      "execution_count": 66,
      "outputs": []
    },
    {
      "cell_type": "code",
      "metadata": {
        "id": "wCnYdxs3MdK4"
      },
      "source": [
        "es = callbacks.EarlyStopping(patience=3, restore_best_weights=True)"
      ],
      "execution_count": 67,
      "outputs": []
    },
    {
      "cell_type": "code",
      "metadata": {
        "colab": {
          "base_uri": "https://localhost:8080/"
        },
        "id": "nd8dzjwzH0m0",
        "outputId": "302ed009-5caa-4a4a-f1d3-cf5521ee2fa3"
      },
      "source": [
        "history2 = model2.fit(X_train_pad, y_train, batch_size=8, epochs=10, verbose=1, validation_split=0.3, callbacks=[es])"
      ],
      "execution_count": 68,
      "outputs": [
        {
          "output_type": "stream",
          "text": [
            "Epoch 1/10\n",
            "1315/1315 [==============================] - 75s 43ms/step - loss: 1.3256 - accuracy: 0.4838 - val_loss: 0.9421 - val_accuracy: 0.6434\n",
            "Epoch 2/10\n",
            "1315/1315 [==============================] - 51s 39ms/step - loss: 0.7257 - accuracy: 0.7437 - val_loss: 0.5317 - val_accuracy: 0.8187\n",
            "Epoch 3/10\n",
            "1315/1315 [==============================] - 51s 38ms/step - loss: 0.3919 - accuracy: 0.8652 - val_loss: 0.3648 - val_accuracy: 0.8642\n",
            "Epoch 4/10\n",
            "1315/1315 [==============================] - 51s 38ms/step - loss: 0.2642 - accuracy: 0.8998 - val_loss: 0.3007 - val_accuracy: 0.8919\n",
            "Epoch 5/10\n",
            "1315/1315 [==============================] - 51s 39ms/step - loss: 0.1996 - accuracy: 0.9195 - val_loss: 0.2809 - val_accuracy: 0.8908\n",
            "Epoch 6/10\n",
            "1315/1315 [==============================] - 51s 39ms/step - loss: 0.1638 - accuracy: 0.9289 - val_loss: 0.2612 - val_accuracy: 0.9039\n",
            "Epoch 7/10\n",
            "1315/1315 [==============================] - 51s 39ms/step - loss: 0.1435 - accuracy: 0.9351 - val_loss: 0.2680 - val_accuracy: 0.9017\n",
            "Epoch 8/10\n",
            "1315/1315 [==============================] - 51s 39ms/step - loss: 0.1295 - accuracy: 0.9425 - val_loss: 0.2882 - val_accuracy: 0.9002\n",
            "Epoch 9/10\n",
            "1315/1315 [==============================] - 51s 39ms/step - loss: 0.1145 - accuracy: 0.9477 - val_loss: 0.2583 - val_accuracy: 0.9075\n",
            "Epoch 10/10\n",
            "1315/1315 [==============================] - 51s 38ms/step - loss: 0.1014 - accuracy: 0.9526 - val_loss: 0.2351 - val_accuracy: 0.9061\n"
          ],
          "name": "stdout"
        }
      ]
    },
    {
      "cell_type": "code",
      "metadata": {
        "colab": {
          "base_uri": "https://localhost:8080/"
        },
        "id": "X9Uk4UOtMx1x",
        "outputId": "6f31edf8-1e8e-4080-f139-9f03020f30b4"
      },
      "source": [
        "model2.evaluate(X_test_pad, y_test)"
      ],
      "execution_count": 77,
      "outputs": [
        {
          "output_type": "stream",
          "text": [
            "202/202 [==============================] - 3s 15ms/step - loss: 0.2212 - accuracy: 0.9175\n"
          ],
          "name": "stdout"
        },
        {
          "output_type": "execute_result",
          "data": {
            "text/plain": [
              "[0.22117826342582703, 0.9175209403038025]"
            ]
          },
          "metadata": {
            "tags": []
          },
          "execution_count": 77
        }
      ]
    },
    {
      "cell_type": "code",
      "metadata": {
        "id": "uEwy-a_VTJ0h"
      },
      "source": [
        "def create_model3(EMBEDDING_DIM = 100): # this means the embedding layer will create  a vector in 100 dimension\n",
        "  model_cnn = Sequential()\n",
        "  model_cnn.add(layers.Embedding(input_dim = vocab_size,# the whole vocabulary size \n",
        "                            output_dim = EMBEDDING_DIM, # vector space dimension\n",
        "                            input_length= X_train_pad.shape[1], # max_len of text sequence\n",
        "                            weights = [gensim_weight_matrix],\n",
        "                            trainable = False,\n",
        "                            mask_zero=True))\n",
        "  model_cnn.add(layers.Bidirectional(layers.LSTM(100,return_sequences=True)))\n",
        "  model_cnn.add(layers.Dropout(.3,))\n",
        "  model_cnn.add(layers.Bidirectional(layers.LSTM(100,return_sequences=True)))\n",
        "  model_cnn.add(layers.Dropout(.3,))\n",
        "  model_cnn.add(layers.Bidirectional(layers.LSTM(100,return_sequences=False)))\n",
        "  #model_cnn.add(layers.Dense(60, activation=\"relu\"))\n",
        "  model_cnn.add(layers.Dense(30, activation=\"relu\"))\n",
        "  model_cnn.add(layers.Dropout(.3,))\n",
        "  model_cnn.add(layers.Dense(6, activation=\"softmax\"))\n",
        "  model_cnn.compile(loss='categorical_crossentropy',\n",
        "              optimizer='adam',\n",
        "              metrics=['accuracy'])\n",
        "  return model_cnn"
      ],
      "execution_count": 72,
      "outputs": []
    },
    {
      "cell_type": "code",
      "metadata": {
        "id": "qpvHs2CxTMqv"
      },
      "source": [
        "model3 = create_model3()"
      ],
      "execution_count": 73,
      "outputs": []
    },
    {
      "cell_type": "code",
      "metadata": {
        "id": "5WP-nGfdTMtP"
      },
      "source": [
        "es = callbacks.EarlyStopping(patience=3, restore_best_weights=True)"
      ],
      "execution_count": 74,
      "outputs": []
    },
    {
      "cell_type": "code",
      "metadata": {
        "colab": {
          "base_uri": "https://localhost:8080/"
        },
        "id": "f9Mwb_cCTMvo",
        "outputId": "f3e80c1d-6520-4fdf-932c-c38c8e64d850"
      },
      "source": [
        "history3 = model3.fit(X_train_pad, y_train, batch_size=8, epochs=10, verbose=1, validation_split=0.3, callbacks=[es])"
      ],
      "execution_count": 75,
      "outputs": [
        {
          "output_type": "stream",
          "text": [
            "Epoch 1/10\n",
            "1315/1315 [==============================] - 75s 43ms/step - loss: 1.4290 - accuracy: 0.4398 - val_loss: 1.0356 - val_accuracy: 0.6155\n",
            "Epoch 2/10\n",
            "1315/1315 [==============================] - 52s 40ms/step - loss: 0.9047 - accuracy: 0.6740 - val_loss: 0.6485 - val_accuracy: 0.7826\n",
            "Epoch 3/10\n",
            "1315/1315 [==============================] - 53s 40ms/step - loss: 0.5492 - accuracy: 0.8162 - val_loss: 0.4939 - val_accuracy: 0.8276\n",
            "Epoch 4/10\n",
            "1315/1315 [==============================] - 52s 39ms/step - loss: 0.3696 - accuracy: 0.8762 - val_loss: 0.3853 - val_accuracy: 0.8724\n",
            "Epoch 5/10\n",
            "1315/1315 [==============================] - 52s 39ms/step - loss: 0.2892 - accuracy: 0.8981 - val_loss: 0.3554 - val_accuracy: 0.8587\n",
            "Epoch 6/10\n",
            "1315/1315 [==============================] - 53s 40ms/step - loss: 0.2315 - accuracy: 0.9154 - val_loss: 0.3388 - val_accuracy: 0.8893\n",
            "Epoch 7/10\n",
            "1315/1315 [==============================] - 52s 39ms/step - loss: 0.2003 - accuracy: 0.9244 - val_loss: 0.2547 - val_accuracy: 0.9026\n",
            "Epoch 8/10\n",
            "1315/1315 [==============================] - 52s 39ms/step - loss: 0.1671 - accuracy: 0.9314 - val_loss: 0.3143 - val_accuracy: 0.8968\n",
            "Epoch 9/10\n",
            "1315/1315 [==============================] - 52s 39ms/step - loss: 0.1735 - accuracy: 0.9266 - val_loss: 0.2728 - val_accuracy: 0.9039\n",
            "Epoch 10/10\n",
            "1315/1315 [==============================] - 51s 39ms/step - loss: 0.1426 - accuracy: 0.9369 - val_loss: 0.2827 - val_accuracy: 0.9097\n"
          ],
          "name": "stdout"
        }
      ]
    },
    {
      "cell_type": "code",
      "metadata": {
        "colab": {
          "base_uri": "https://localhost:8080/"
        },
        "id": "cAHPQt62Vlio",
        "outputId": "d8cb6738-353c-42ac-e9b5-a133a1c6e23b"
      },
      "source": [
        "model3.evaluate(X_test_pad, y_test)"
      ],
      "execution_count": 76,
      "outputs": [
        {
          "output_type": "stream",
          "text": [
            "202/202 [==============================] - 3s 15ms/step - loss: 0.2505 - accuracy: 0.9045\n"
          ],
          "name": "stdout"
        },
        {
          "output_type": "execute_result",
          "data": {
            "text/plain": [
              "[0.25048524141311646, 0.9044734239578247]"
            ]
          },
          "metadata": {
            "tags": []
          },
          "execution_count": 76
        }
      ]
    },
    {
      "cell_type": "code",
      "metadata": {
        "id": "e0Gq_cf3HUxq"
      },
      "source": [
        "# embedding_size = 20\n",
        "# # model_cnn = Sequential()\n",
        "# create_model\n",
        "# # model_cnn.add(layers.Embedding(\n",
        "# #     input_dim=X_pad.shape[0],\n",
        "# #     input_length=X_pad.shape[1],\n",
        "# #     output_dim=20,\n",
        "# #     mask_zero=True))\n",
        "# model_cnn.add(layers.Conv1D(10, kernel_size=3))\n",
        "# model_cnn.add(layers.Flatten())\n",
        "# model_cnn.add(layers.Dense(30, activation=\"relu\"))\n",
        "# model_cnn.add(layers.Dense(6, activation=\"softmax\"))"
      ],
      "execution_count": 45,
      "outputs": []
    },
    {
      "cell_type": "code",
      "metadata": {
        "id": "A8j0inbqHJoW"
      },
      "source": [
        "# bi directional lstm\n",
        "# dropout layers\n",
        "# model.add(Bidirectional(LSTM(100,return_sequences=True)))"
      ],
      "execution_count": null,
      "outputs": []
    }
  ]
}