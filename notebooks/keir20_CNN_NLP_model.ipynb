{
  "nbformat": 4,
  "nbformat_minor": 0,
  "metadata": {
    "colab": {
      "name": "CNN NLP model.ipynb",
      "provenance": [],
      "collapsed_sections": []
    },
    "kernelspec": {
      "name": "python3",
      "display_name": "Python 3"
    },
    "language_info": {
      "name": "python"
    },
    "accelerator": "GPU"
  },
  "cells": [
    {
      "cell_type": "code",
      "metadata": {
        "id": "N2241Sa7_7e1"
      },
      "source": [
        "import pandas as pd\n",
        "import numpy as np\n",
        "import random\n",
        "from tensorflow.keras import models, Sequential, layers \n",
        "from tensorflow.keras.preprocessing.sequence import pad_sequences\n",
        "from tensorflow.keras.preprocessing.text import Tokenizer\n",
        "from tensorflow.keras import callbacks\n",
        "from tensorflow.keras.utils import to_categorical\n",
        "from sklearn.model_selection import train_test_split"
      ],
      "execution_count": 1,
      "outputs": []
    },
    {
      "cell_type": "code",
      "metadata": {
        "id": "7Xs5w1SP_961"
      },
      "source": [
        "df = pd.read_csv('Emotion_final.csv')"
      ],
      "execution_count": 2,
      "outputs": []
    },
    {
      "cell_type": "code",
      "metadata": {
        "id": "U55V4V5gD-Zr"
      },
      "source": [
        "df = df.rename(columns={'Text': 'text', 'Emotion': 'emotion'})"
      ],
      "execution_count": 3,
      "outputs": []
    },
    {
      "cell_type": "code",
      "metadata": {
        "colab": {
          "base_uri": "https://localhost:8080/",
          "height": 204
        },
        "id": "g2abjauPTb-q",
        "outputId": "ab73bed2-af11-42d7-ea24-da344ed29ceb"
      },
      "source": [
        "df.head()"
      ],
      "execution_count": 4,
      "outputs": [
        {
          "output_type": "execute_result",
          "data": {
            "text/html": [
              "<div>\n",
              "<style scoped>\n",
              "    .dataframe tbody tr th:only-of-type {\n",
              "        vertical-align: middle;\n",
              "    }\n",
              "\n",
              "    .dataframe tbody tr th {\n",
              "        vertical-align: top;\n",
              "    }\n",
              "\n",
              "    .dataframe thead th {\n",
              "        text-align: right;\n",
              "    }\n",
              "</style>\n",
              "<table border=\"1\" class=\"dataframe\">\n",
              "  <thead>\n",
              "    <tr style=\"text-align: right;\">\n",
              "      <th></th>\n",
              "      <th>text</th>\n",
              "      <th>emotion</th>\n",
              "    </tr>\n",
              "  </thead>\n",
              "  <tbody>\n",
              "    <tr>\n",
              "      <th>0</th>\n",
              "      <td>i didnt feel humiliated</td>\n",
              "      <td>sadness</td>\n",
              "    </tr>\n",
              "    <tr>\n",
              "      <th>1</th>\n",
              "      <td>i can go from feeling so hopeless to so damned...</td>\n",
              "      <td>sadness</td>\n",
              "    </tr>\n",
              "    <tr>\n",
              "      <th>2</th>\n",
              "      <td>im grabbing a minute to post i feel greedy wrong</td>\n",
              "      <td>anger</td>\n",
              "    </tr>\n",
              "    <tr>\n",
              "      <th>3</th>\n",
              "      <td>i am ever feeling nostalgic about the fireplac...</td>\n",
              "      <td>love</td>\n",
              "    </tr>\n",
              "    <tr>\n",
              "      <th>4</th>\n",
              "      <td>i am feeling grouchy</td>\n",
              "      <td>anger</td>\n",
              "    </tr>\n",
              "  </tbody>\n",
              "</table>\n",
              "</div>"
            ],
            "text/plain": [
              "                                                text  emotion\n",
              "0                            i didnt feel humiliated  sadness\n",
              "1  i can go from feeling so hopeless to so damned...  sadness\n",
              "2   im grabbing a minute to post i feel greedy wrong    anger\n",
              "3  i am ever feeling nostalgic about the fireplac...     love\n",
              "4                               i am feeling grouchy    anger"
            ]
          },
          "metadata": {
            "tags": []
          },
          "execution_count": 4
        }
      ]
    },
    {
      "cell_type": "code",
      "metadata": {
        "colab": {
          "base_uri": "https://localhost:8080/"
        },
        "id": "Dv2zthJ_OqKq",
        "outputId": "34eefccd-77db-40bb-9e5b-452c8745ce63"
      },
      "source": [
        "df.emotion.value_counts().count()"
      ],
      "execution_count": 5,
      "outputs": [
        {
          "output_type": "execute_result",
          "data": {
            "text/plain": [
              "6"
            ]
          },
          "metadata": {
            "tags": []
          },
          "execution_count": 5
        }
      ]
    },
    {
      "cell_type": "code",
      "metadata": {
        "colab": {
          "base_uri": "https://localhost:8080/"
        },
        "id": "BuXh13AoF9m8",
        "outputId": "593827a9-ae2b-43f6-e1e4-25911105a8e4"
      },
      "source": [
        "df.shape"
      ],
      "execution_count": 6,
      "outputs": [
        {
          "output_type": "execute_result",
          "data": {
            "text/plain": [
              "(21459, 2)"
            ]
          },
          "metadata": {
            "tags": []
          },
          "execution_count": 6
        }
      ]
    },
    {
      "cell_type": "code",
      "metadata": {
        "id": "s4jAzgXYf0KD"
      },
      "source": [
        "X = df.text\n",
        "df.emotion = pd.Categorical(df.emotion)"
      ],
      "execution_count": 7,
      "outputs": []
    },
    {
      "cell_type": "code",
      "metadata": {
        "id": "rzbYBvRj3NnW"
      },
      "source": [
        "df['code'] = df['emotion'].cat.codes"
      ],
      "execution_count": 8,
      "outputs": []
    },
    {
      "cell_type": "code",
      "metadata": {
        "id": "_89S7MNN2MjI"
      },
      "source": [
        "y = to_categorical(df['code'].values)"
      ],
      "execution_count": 9,
      "outputs": []
    },
    {
      "cell_type": "code",
      "metadata": {
        "colab": {
          "base_uri": "https://localhost:8080/",
          "height": 204
        },
        "id": "cyMKTDHzgB7a",
        "outputId": "f85727f1-2f8d-43c3-fa45-cc4dbfb9d81a"
      },
      "source": [
        "df.head()"
      ],
      "execution_count": 10,
      "outputs": [
        {
          "output_type": "execute_result",
          "data": {
            "text/html": [
              "<div>\n",
              "<style scoped>\n",
              "    .dataframe tbody tr th:only-of-type {\n",
              "        vertical-align: middle;\n",
              "    }\n",
              "\n",
              "    .dataframe tbody tr th {\n",
              "        vertical-align: top;\n",
              "    }\n",
              "\n",
              "    .dataframe thead th {\n",
              "        text-align: right;\n",
              "    }\n",
              "</style>\n",
              "<table border=\"1\" class=\"dataframe\">\n",
              "  <thead>\n",
              "    <tr style=\"text-align: right;\">\n",
              "      <th></th>\n",
              "      <th>text</th>\n",
              "      <th>emotion</th>\n",
              "      <th>code</th>\n",
              "    </tr>\n",
              "  </thead>\n",
              "  <tbody>\n",
              "    <tr>\n",
              "      <th>0</th>\n",
              "      <td>i didnt feel humiliated</td>\n",
              "      <td>sadness</td>\n",
              "      <td>4</td>\n",
              "    </tr>\n",
              "    <tr>\n",
              "      <th>1</th>\n",
              "      <td>i can go from feeling so hopeless to so damned...</td>\n",
              "      <td>sadness</td>\n",
              "      <td>4</td>\n",
              "    </tr>\n",
              "    <tr>\n",
              "      <th>2</th>\n",
              "      <td>im grabbing a minute to post i feel greedy wrong</td>\n",
              "      <td>anger</td>\n",
              "      <td>0</td>\n",
              "    </tr>\n",
              "    <tr>\n",
              "      <th>3</th>\n",
              "      <td>i am ever feeling nostalgic about the fireplac...</td>\n",
              "      <td>love</td>\n",
              "      <td>3</td>\n",
              "    </tr>\n",
              "    <tr>\n",
              "      <th>4</th>\n",
              "      <td>i am feeling grouchy</td>\n",
              "      <td>anger</td>\n",
              "      <td>0</td>\n",
              "    </tr>\n",
              "  </tbody>\n",
              "</table>\n",
              "</div>"
            ],
            "text/plain": [
              "                                                text  emotion  code\n",
              "0                            i didnt feel humiliated  sadness     4\n",
              "1  i can go from feeling so hopeless to so damned...  sadness     4\n",
              "2   im grabbing a minute to post i feel greedy wrong    anger     0\n",
              "3  i am ever feeling nostalgic about the fireplac...     love     3\n",
              "4                               i am feeling grouchy    anger     0"
            ]
          },
          "metadata": {
            "tags": []
          },
          "execution_count": 10
        }
      ]
    },
    {
      "cell_type": "code",
      "metadata": {
        "id": "sk6w7Maofa2p"
      },
      "source": [
        "X_train, X_test, y_train, y_test = train_test_split(X, y, test_size=0.3, random_state=42)"
      ],
      "execution_count": 11,
      "outputs": []
    },
    {
      "cell_type": "code",
      "metadata": {
        "colab": {
          "base_uri": "https://localhost:8080/"
        },
        "id": "NGAXnWRtfJQl",
        "outputId": "3f6b7683-a80e-45a8-d7a0-8ce0222e31c0"
      },
      "source": [
        "y_train"
      ],
      "execution_count": 12,
      "outputs": [
        {
          "output_type": "execute_result",
          "data": {
            "text/plain": [
              "array([[0., 0., 0., 0., 1., 0.],\n",
              "       [0., 0., 1., 0., 0., 0.],\n",
              "       [0., 0., 1., 0., 0., 0.],\n",
              "       ...,\n",
              "       [0., 0., 0., 1., 0., 0.],\n",
              "       [0., 0., 0., 0., 1., 0.],\n",
              "       [0., 0., 0., 0., 1., 0.]], dtype=float32)"
            ]
          },
          "metadata": {
            "tags": []
          },
          "execution_count": 12
        }
      ]
    },
    {
      "cell_type": "code",
      "metadata": {
        "colab": {
          "base_uri": "https://localhost:8080/",
          "height": 204
        },
        "id": "WkmMW4sIeV3z",
        "outputId": "208dca62-4cc7-4306-9886-9779b1c73a6e"
      },
      "source": [
        "df.head()"
      ],
      "execution_count": 13,
      "outputs": [
        {
          "output_type": "execute_result",
          "data": {
            "text/html": [
              "<div>\n",
              "<style scoped>\n",
              "    .dataframe tbody tr th:only-of-type {\n",
              "        vertical-align: middle;\n",
              "    }\n",
              "\n",
              "    .dataframe tbody tr th {\n",
              "        vertical-align: top;\n",
              "    }\n",
              "\n",
              "    .dataframe thead th {\n",
              "        text-align: right;\n",
              "    }\n",
              "</style>\n",
              "<table border=\"1\" class=\"dataframe\">\n",
              "  <thead>\n",
              "    <tr style=\"text-align: right;\">\n",
              "      <th></th>\n",
              "      <th>text</th>\n",
              "      <th>emotion</th>\n",
              "      <th>code</th>\n",
              "    </tr>\n",
              "  </thead>\n",
              "  <tbody>\n",
              "    <tr>\n",
              "      <th>0</th>\n",
              "      <td>i didnt feel humiliated</td>\n",
              "      <td>sadness</td>\n",
              "      <td>4</td>\n",
              "    </tr>\n",
              "    <tr>\n",
              "      <th>1</th>\n",
              "      <td>i can go from feeling so hopeless to so damned...</td>\n",
              "      <td>sadness</td>\n",
              "      <td>4</td>\n",
              "    </tr>\n",
              "    <tr>\n",
              "      <th>2</th>\n",
              "      <td>im grabbing a minute to post i feel greedy wrong</td>\n",
              "      <td>anger</td>\n",
              "      <td>0</td>\n",
              "    </tr>\n",
              "    <tr>\n",
              "      <th>3</th>\n",
              "      <td>i am ever feeling nostalgic about the fireplac...</td>\n",
              "      <td>love</td>\n",
              "      <td>3</td>\n",
              "    </tr>\n",
              "    <tr>\n",
              "      <th>4</th>\n",
              "      <td>i am feeling grouchy</td>\n",
              "      <td>anger</td>\n",
              "      <td>0</td>\n",
              "    </tr>\n",
              "  </tbody>\n",
              "</table>\n",
              "</div>"
            ],
            "text/plain": [
              "                                                text  emotion  code\n",
              "0                            i didnt feel humiliated  sadness     4\n",
              "1  i can go from feeling so hopeless to so damned...  sadness     4\n",
              "2   im grabbing a minute to post i feel greedy wrong    anger     0\n",
              "3  i am ever feeling nostalgic about the fireplac...     love     3\n",
              "4                               i am feeling grouchy    anger     0"
            ]
          },
          "metadata": {
            "tags": []
          },
          "execution_count": 13
        }
      ]
    },
    {
      "cell_type": "code",
      "metadata": {
        "colab": {
          "base_uri": "https://localhost:8080/"
        },
        "id": "slX91GRSTs2H",
        "outputId": "211ef26b-5e8a-405d-e553-04bc0ce512c1"
      },
      "source": [
        "df.emotion.value_counts()"
      ],
      "execution_count": 14,
      "outputs": [
        {
          "output_type": "execute_result",
          "data": {
            "text/plain": [
              "happy       7029\n",
              "sadness     6265\n",
              "anger       2993\n",
              "fear        2652\n",
              "love        1641\n",
              "surprise     879\n",
              "Name: emotion, dtype: int64"
            ]
          },
          "metadata": {
            "tags": []
          },
          "execution_count": 14
        }
      ]
    },
    {
      "cell_type": "code",
      "metadata": {
        "colab": {
          "base_uri": "https://localhost:8080/",
          "height": 204
        },
        "id": "mwixqx3JU5YX",
        "outputId": "865f0374-e3c5-4abf-d7b7-a63f249edcfe"
      },
      "source": [
        "df.head()"
      ],
      "execution_count": 15,
      "outputs": [
        {
          "output_type": "execute_result",
          "data": {
            "text/html": [
              "<div>\n",
              "<style scoped>\n",
              "    .dataframe tbody tr th:only-of-type {\n",
              "        vertical-align: middle;\n",
              "    }\n",
              "\n",
              "    .dataframe tbody tr th {\n",
              "        vertical-align: top;\n",
              "    }\n",
              "\n",
              "    .dataframe thead th {\n",
              "        text-align: right;\n",
              "    }\n",
              "</style>\n",
              "<table border=\"1\" class=\"dataframe\">\n",
              "  <thead>\n",
              "    <tr style=\"text-align: right;\">\n",
              "      <th></th>\n",
              "      <th>text</th>\n",
              "      <th>emotion</th>\n",
              "      <th>code</th>\n",
              "    </tr>\n",
              "  </thead>\n",
              "  <tbody>\n",
              "    <tr>\n",
              "      <th>0</th>\n",
              "      <td>i didnt feel humiliated</td>\n",
              "      <td>sadness</td>\n",
              "      <td>4</td>\n",
              "    </tr>\n",
              "    <tr>\n",
              "      <th>1</th>\n",
              "      <td>i can go from feeling so hopeless to so damned...</td>\n",
              "      <td>sadness</td>\n",
              "      <td>4</td>\n",
              "    </tr>\n",
              "    <tr>\n",
              "      <th>2</th>\n",
              "      <td>im grabbing a minute to post i feel greedy wrong</td>\n",
              "      <td>anger</td>\n",
              "      <td>0</td>\n",
              "    </tr>\n",
              "    <tr>\n",
              "      <th>3</th>\n",
              "      <td>i am ever feeling nostalgic about the fireplac...</td>\n",
              "      <td>love</td>\n",
              "      <td>3</td>\n",
              "    </tr>\n",
              "    <tr>\n",
              "      <th>4</th>\n",
              "      <td>i am feeling grouchy</td>\n",
              "      <td>anger</td>\n",
              "      <td>0</td>\n",
              "    </tr>\n",
              "  </tbody>\n",
              "</table>\n",
              "</div>"
            ],
            "text/plain": [
              "                                                text  emotion  code\n",
              "0                            i didnt feel humiliated  sadness     4\n",
              "1  i can go from feeling so hopeless to so damned...  sadness     4\n",
              "2   im grabbing a minute to post i feel greedy wrong    anger     0\n",
              "3  i am ever feeling nostalgic about the fireplac...     love     3\n",
              "4                               i am feeling grouchy    anger     0"
            ]
          },
          "metadata": {
            "tags": []
          },
          "execution_count": 15
        }
      ]
    },
    {
      "cell_type": "code",
      "metadata": {
        "colab": {
          "base_uri": "https://localhost:8080/"
        },
        "id": "sB0o4ussXZQX",
        "outputId": "bde0bfa4-1c8d-4f11-b29b-60378baf59b0"
      },
      "source": [
        "### Let's tokenize the vocabulary \n",
        "tk = Tokenizer()\n",
        "tk.fit_on_texts(X)\n",
        "vocab_size = len(tk.word_index) + 1\n",
        "print(f'There are {vocab_size} different words in your corpus')\n",
        "X_train_token = tk.texts_to_sequences(X_train)\n",
        "X_test_token = tk.texts_to_sequences(X_test)\n",
        "\n",
        "\n",
        "### Pad your inputs\n",
        "X_train_pad = pad_sequences(X_train_token, dtype='float32', padding='post')\n",
        "X_test_pad = pad_sequences(X_test_token, dtype='float32', padding='post')"
      ],
      "execution_count": 16,
      "outputs": [
        {
          "output_type": "stream",
          "text": [
            "There are 19259 different words in your corpus\n"
          ],
          "name": "stdout"
        }
      ]
    },
    {
      "cell_type": "code",
      "metadata": {
        "colab": {
          "base_uri": "https://localhost:8080/"
        },
        "id": "I_107wleZc8L",
        "outputId": "21eb3aae-3e50-465c-8d69-f72c5d5ec487"
      },
      "source": [
        "X_train_pad.shape"
      ],
      "execution_count": 17,
      "outputs": [
        {
          "output_type": "execute_result",
          "data": {
            "text/plain": [
              "(15021, 66)"
            ]
          },
          "metadata": {
            "tags": []
          },
          "execution_count": 17
        }
      ]
    },
    {
      "cell_type": "code",
      "metadata": {
        "colab": {
          "base_uri": "https://localhost:8080/"
        },
        "id": "L7qJ4-1HZUb2",
        "outputId": "5491f0e4-f0cc-4a76-c170-6e9ce6867083"
      },
      "source": [
        "vocab_size"
      ],
      "execution_count": 18,
      "outputs": [
        {
          "output_type": "execute_result",
          "data": {
            "text/plain": [
              "19259"
            ]
          },
          "metadata": {
            "tags": []
          },
          "execution_count": 18
        }
      ]
    },
    {
      "cell_type": "code",
      "metadata": {
        "id": "WurP1qgGRhVE"
      },
      "source": [
        "# model.add(layers.Masking(mark_value=-999))"
      ],
      "execution_count": 19,
      "outputs": []
    },
    {
      "cell_type": "code",
      "metadata": {
        "colab": {
          "base_uri": "https://localhost:8080/"
        },
        "id": "4v_4vdq4RhhQ",
        "outputId": "e31d3c6c-d8ac-46e0-da09-a07e5ceb0298"
      },
      "source": [
        "import gensim.downloader as api\n",
        "glove_gensim  = api.load('glove-wiki-gigaword-100') #100 dimension"
      ],
      "execution_count": 20,
      "outputs": [
        {
          "output_type": "stream",
          "text": [
            "[==================================================] 100.0% 128.1/128.1MB downloaded\n"
          ],
          "name": "stdout"
        }
      ]
    },
    {
      "cell_type": "code",
      "metadata": {
        "colab": {
          "base_uri": "https://localhost:8080/"
        },
        "id": "zWdpI3omh-4h",
        "outputId": "d71a4e85-7647-464f-a2b4-6621a96a4abe"
      },
      "source": [
        "# Vectorize\n",
        "vector_size = 100\n",
        "gensim_weight_matrix = np.zeros((vocab_size ,vector_size))\n",
        "gensim_weight_matrix.shape\n",
        "for word, index in tk.word_index.items():\n",
        "    if index < vocab_size: # since index starts with zero \n",
        "        if word in glove_gensim.wv.vocab:\n",
        "            gensim_weight_matrix[index] = glove_gensim[word]\n",
        "        else:\n",
        "            gensim_weight_matrix[index] = np.zeros(100)"
      ],
      "execution_count": 21,
      "outputs": [
        {
          "output_type": "stream",
          "text": [
            "/usr/local/lib/python3.7/dist-packages/ipykernel_launcher.py:7: DeprecationWarning: Call to deprecated `wv` (Attribute will be removed in 4.0.0, use self instead).\n",
            "  import sys\n"
          ],
          "name": "stderr"
        }
      ]
    },
    {
      "cell_type": "code",
      "metadata": {
        "id": "2jdwOXB8iE0o"
      },
      "source": [
        "def create_model(EMBEDDING_DIM = 100): # this means the embedding layer will create  a vector in 100 dimension\n",
        "  \n",
        "  model_cnn = Sequential()\n",
        "  model_cnn.add(layers.Embedding(input_dim = vocab_size,# the whole vocabulary size \n",
        "                            output_dim = EMBEDDING_DIM, # vector space dimension\n",
        "                            input_length= X_train_pad.shape[1], # max_len of text sequence\n",
        "                            weights = [gensim_weight_matrix],trainable = False))\n",
        "  model_cnn.add(layers.Conv1D(10, kernel_size=3))\n",
        "  model_cnn.add(layers.Flatten())\n",
        "  model_cnn.add(layers.Dense(30, activation=\"relu\"))\n",
        "  model_cnn.add(layers.Dense(6, activation=\"softmax\"))\n",
        "  model_cnn.compile(loss='categorical_crossentropy',\n",
        "              optimizer='rmsprop',\n",
        "              metrics=['accuracy'],\n",
        "              )\n",
        "  return model_cnn"
      ],
      "execution_count": 39,
      "outputs": []
    },
    {
      "cell_type": "code",
      "metadata": {
        "id": "vxCXQbImkzmx"
      },
      "source": [
        "model = create_model()"
      ],
      "execution_count": 41,
      "outputs": []
    },
    {
      "cell_type": "code",
      "metadata": {
        "colab": {
          "base_uri": "https://localhost:8080/"
        },
        "id": "sa7c5KidlF1l",
        "outputId": "216dd28f-3914-4a23-bca3-72d900defc8c"
      },
      "source": [
        "model.summary()"
      ],
      "execution_count": 42,
      "outputs": [
        {
          "output_type": "stream",
          "text": [
            "Model: \"sequential_6\"\n",
            "_________________________________________________________________\n",
            "Layer (type)                 Output Shape              Param #   \n",
            "=================================================================\n",
            "embedding_6 (Embedding)      (None, 66, 100)           1925900   \n",
            "_________________________________________________________________\n",
            "conv1d_6 (Conv1D)            (None, 64, 10)            3010      \n",
            "_________________________________________________________________\n",
            "flatten_6 (Flatten)          (None, 640)               0         \n",
            "_________________________________________________________________\n",
            "dense_12 (Dense)             (None, 30)                19230     \n",
            "_________________________________________________________________\n",
            "dense_13 (Dense)             (None, 6)                 186       \n",
            "=================================================================\n",
            "Total params: 1,948,326\n",
            "Trainable params: 22,426\n",
            "Non-trainable params: 1,925,900\n",
            "_________________________________________________________________\n"
          ],
          "name": "stdout"
        }
      ]
    },
    {
      "cell_type": "code",
      "metadata": {
        "colab": {
          "base_uri": "https://localhost:8080/"
        },
        "id": "YjVsF0oclJr3",
        "outputId": "521d5d47-5841-4c9e-8d12-6e2db298bbcb"
      },
      "source": [
        "history = model.fit(X_train_pad, y_train, batch_size=16, epochs=10, verbose=1, validation_split=0.3)"
      ],
      "execution_count": 25,
      "outputs": [
        {
          "output_type": "stream",
          "text": [
            "Epoch 1/10\n",
            "658/658 [==============================] - 34s 4ms/step - loss: 1.5052 - accuracy: 0.4231 - val_loss: 1.4424 - val_accuracy: 0.4395\n",
            "Epoch 2/10\n",
            "658/658 [==============================] - 2s 4ms/step - loss: 1.3099 - accuracy: 0.5021 - val_loss: 1.3273 - val_accuracy: 0.4988\n",
            "Epoch 3/10\n",
            "658/658 [==============================] - 3s 4ms/step - loss: 1.1905 - accuracy: 0.5486 - val_loss: 1.3277 - val_accuracy: 0.5043\n",
            "Epoch 4/10\n",
            "658/658 [==============================] - 2s 4ms/step - loss: 1.0939 - accuracy: 0.5846 - val_loss: 1.3821 - val_accuracy: 0.4946\n",
            "Epoch 5/10\n",
            "658/658 [==============================] - 3s 4ms/step - loss: 1.0058 - accuracy: 0.6216 - val_loss: 1.3502 - val_accuracy: 0.5181\n",
            "Epoch 6/10\n",
            "658/658 [==============================] - 2s 4ms/step - loss: 0.9314 - accuracy: 0.6527 - val_loss: 1.3766 - val_accuracy: 0.5236\n",
            "Epoch 7/10\n",
            "658/658 [==============================] - 3s 4ms/step - loss: 0.8707 - accuracy: 0.6742 - val_loss: 1.3565 - val_accuracy: 0.5272\n",
            "Epoch 8/10\n",
            "658/658 [==============================] - 2s 4ms/step - loss: 0.8105 - accuracy: 0.7048 - val_loss: 1.4670 - val_accuracy: 0.5152\n",
            "Epoch 9/10\n",
            "658/658 [==============================] - 2s 4ms/step - loss: 0.7554 - accuracy: 0.7228 - val_loss: 1.6040 - val_accuracy: 0.5203\n",
            "Epoch 10/10\n",
            "658/658 [==============================] - 2s 4ms/step - loss: 0.7124 - accuracy: 0.7398 - val_loss: 1.6303 - val_accuracy: 0.4631\n"
          ],
          "name": "stdout"
        }
      ]
    },
    {
      "cell_type": "code",
      "metadata": {
        "id": "e0Gq_cf3HUxq"
      },
      "source": [
        "# embedding_size = 20\n",
        "# # model_cnn = Sequential()\n",
        "# create_model\n",
        "# # model_cnn.add(layers.Embedding(\n",
        "# #     input_dim=X_pad.shape[0],\n",
        "# #     input_length=X_pad.shape[1],\n",
        "# #     output_dim=20,\n",
        "# #     mask_zero=True))\n",
        "# model_cnn.add(layers.Conv1D(10, kernel_size=3))\n",
        "# model_cnn.add(layers.Flatten())\n",
        "# model_cnn.add(layers.Dense(30, activation=\"relu\"))\n",
        "# model_cnn.add(layers.Dense(6, activation=\"softmax\"))"
      ],
      "execution_count": 26,
      "outputs": []
    }
  ]
}