{
  "nbformat": 4,
  "nbformat_minor": 0,
  "metadata": {
    "colab": {
      "name": "CNN NLP model.ipynb",
      "provenance": [],
      "collapsed_sections": []
    },
    "kernelspec": {
      "name": "python3",
      "display_name": "Python 3"
    },
    "language_info": {
      "name": "python"
    },
    "accelerator": "GPU"
  },
  "cells": [
    {
      "cell_type": "code",
      "metadata": {
        "id": "N2241Sa7_7e1"
      },
      "source": [
        "import pandas as pd\n",
        "import numpy as np\n",
        "import random\n",
        "from tensorflow.keras import models, Sequential, layers\n",
        "from tensorflow.keras.preprocessing.sequence import pad_sequences\n",
        "from tensorflow.keras.preprocessing.text import Tokenizer\n",
        "from tensorflow.keras import callbacks\n",
        "from tensorflow.keras.utils import to_categorical\n",
        "from sklearn.model_selection import train_test_split\n",
        "import gensim.downloader as api\n",
        "import pickle\n",
        "import gensim.downloader as api\n"
      ],
      "execution_count": 78,
      "outputs": []
    },
    {
      "cell_type": "code",
      "metadata": {
        "id": "7Xs5w1SP_961"
      },
      "source": [
        "df = pd.read_csv('/content/drive/My Drive/data/CNN_NLP/steeve_cleaned_data.csv')"
      ],
      "execution_count": 3,
      "outputs": []
    },
    {
      "cell_type": "code",
      "metadata": {
        "colab": {
          "base_uri": "https://localhost:8080/",
          "height": 204
        },
        "id": "jagNtFKp05DV",
        "outputId": "2c9f8b75-e016-4ae2-88aa-667265298c88"
      },
      "source": [
        "df.head()"
      ],
      "execution_count": 4,
      "outputs": [
        {
          "output_type": "execute_result",
          "data": {
            "text/html": [
              "<div>\n",
              "<style scoped>\n",
              "    .dataframe tbody tr th:only-of-type {\n",
              "        vertical-align: middle;\n",
              "    }\n",
              "\n",
              "    .dataframe tbody tr th {\n",
              "        vertical-align: top;\n",
              "    }\n",
              "\n",
              "    .dataframe thead th {\n",
              "        text-align: right;\n",
              "    }\n",
              "</style>\n",
              "<table border=\"1\" class=\"dataframe\">\n",
              "  <thead>\n",
              "    <tr style=\"text-align: right;\">\n",
              "      <th></th>\n",
              "      <th>Unnamed: 0</th>\n",
              "      <th>content</th>\n",
              "      <th>sentiment</th>\n",
              "    </tr>\n",
              "  </thead>\n",
              "  <tbody>\n",
              "    <tr>\n",
              "      <th>0</th>\n",
              "      <td>0</td>\n",
              "      <td>i didnt feel humiliated</td>\n",
              "      <td>sadness</td>\n",
              "    </tr>\n",
              "    <tr>\n",
              "      <th>1</th>\n",
              "      <td>1</td>\n",
              "      <td>i can go from feeling so hopeless to so damned...</td>\n",
              "      <td>sadness</td>\n",
              "    </tr>\n",
              "    <tr>\n",
              "      <th>2</th>\n",
              "      <td>2</td>\n",
              "      <td>im grabbing a minute to post i feel greedy wrong</td>\n",
              "      <td>anger</td>\n",
              "    </tr>\n",
              "    <tr>\n",
              "      <th>3</th>\n",
              "      <td>3</td>\n",
              "      <td>i am ever feeling nostalgic about the fireplac...</td>\n",
              "      <td>love</td>\n",
              "    </tr>\n",
              "    <tr>\n",
              "      <th>4</th>\n",
              "      <td>4</td>\n",
              "      <td>i am feeling grouchy</td>\n",
              "      <td>anger</td>\n",
              "    </tr>\n",
              "  </tbody>\n",
              "</table>\n",
              "</div>"
            ],
            "text/plain": [
              "   Unnamed: 0                                            content sentiment\n",
              "0           0                            i didnt feel humiliated   sadness\n",
              "1           1  i can go from feeling so hopeless to so damned...   sadness\n",
              "2           2   im grabbing a minute to post i feel greedy wrong     anger\n",
              "3           3  i am ever feeling nostalgic about the fireplac...      love\n",
              "4           4                               i am feeling grouchy     anger"
            ]
          },
          "metadata": {
            "tags": []
          },
          "execution_count": 4
        }
      ]
    },
    {
      "cell_type": "code",
      "metadata": {
        "id": "U55V4V5gD-Zr"
      },
      "source": [
        "df = df.rename(columns={'content': 'text', 'sentiment': 'emotion','Unnamed: 0': 'index'}).set_index('index')"
      ],
      "execution_count": 5,
      "outputs": []
    },
    {
      "cell_type": "code",
      "metadata": {
        "colab": {
          "base_uri": "https://localhost:8080/",
          "height": 235
        },
        "id": "g2abjauPTb-q",
        "outputId": "7f6d6736-19bf-47c8-f592-6f624c357bdf"
      },
      "source": [
        "df.head()"
      ],
      "execution_count": 6,
      "outputs": [
        {
          "output_type": "execute_result",
          "data": {
            "text/html": [
              "<div>\n",
              "<style scoped>\n",
              "    .dataframe tbody tr th:only-of-type {\n",
              "        vertical-align: middle;\n",
              "    }\n",
              "\n",
              "    .dataframe tbody tr th {\n",
              "        vertical-align: top;\n",
              "    }\n",
              "\n",
              "    .dataframe thead th {\n",
              "        text-align: right;\n",
              "    }\n",
              "</style>\n",
              "<table border=\"1\" class=\"dataframe\">\n",
              "  <thead>\n",
              "    <tr style=\"text-align: right;\">\n",
              "      <th></th>\n",
              "      <th>text</th>\n",
              "      <th>emotion</th>\n",
              "    </tr>\n",
              "    <tr>\n",
              "      <th>index</th>\n",
              "      <th></th>\n",
              "      <th></th>\n",
              "    </tr>\n",
              "  </thead>\n",
              "  <tbody>\n",
              "    <tr>\n",
              "      <th>0</th>\n",
              "      <td>i didnt feel humiliated</td>\n",
              "      <td>sadness</td>\n",
              "    </tr>\n",
              "    <tr>\n",
              "      <th>1</th>\n",
              "      <td>i can go from feeling so hopeless to so damned...</td>\n",
              "      <td>sadness</td>\n",
              "    </tr>\n",
              "    <tr>\n",
              "      <th>2</th>\n",
              "      <td>im grabbing a minute to post i feel greedy wrong</td>\n",
              "      <td>anger</td>\n",
              "    </tr>\n",
              "    <tr>\n",
              "      <th>3</th>\n",
              "      <td>i am ever feeling nostalgic about the fireplac...</td>\n",
              "      <td>love</td>\n",
              "    </tr>\n",
              "    <tr>\n",
              "      <th>4</th>\n",
              "      <td>i am feeling grouchy</td>\n",
              "      <td>anger</td>\n",
              "    </tr>\n",
              "  </tbody>\n",
              "</table>\n",
              "</div>"
            ],
            "text/plain": [
              "                                                    text  emotion\n",
              "index                                                            \n",
              "0                                i didnt feel humiliated  sadness\n",
              "1      i can go from feeling so hopeless to so damned...  sadness\n",
              "2       im grabbing a minute to post i feel greedy wrong    anger\n",
              "3      i am ever feeling nostalgic about the fireplac...     love\n",
              "4                                   i am feeling grouchy    anger"
            ]
          },
          "metadata": {
            "tags": []
          },
          "execution_count": 6
        }
      ]
    },
    {
      "cell_type": "code",
      "metadata": {
        "colab": {
          "base_uri": "https://localhost:8080/"
        },
        "id": "Dv2zthJ_OqKq",
        "outputId": "3ee18bf2-68ed-4b15-af6a-25e6db2a1261"
      },
      "source": [
        "df.emotion.value_counts().count()"
      ],
      "execution_count": 7,
      "outputs": [
        {
          "output_type": "execute_result",
          "data": {
            "text/plain": [
              "6"
            ]
          },
          "metadata": {
            "tags": []
          },
          "execution_count": 7
        }
      ]
    },
    {
      "cell_type": "code",
      "metadata": {
        "colab": {
          "base_uri": "https://localhost:8080/"
        },
        "id": "BuXh13AoF9m8",
        "outputId": "392eb3a7-80be-4044-e8b0-d2f9c1bafe3c"
      },
      "source": [
        "df.shape"
      ],
      "execution_count": 8,
      "outputs": [
        {
          "output_type": "execute_result",
          "data": {
            "text/plain": [
              "(58137, 2)"
            ]
          },
          "metadata": {
            "tags": []
          },
          "execution_count": 8
        }
      ]
    },
    {
      "cell_type": "code",
      "metadata": {
        "id": "s4jAzgXYf0KD"
      },
      "source": [
        "X = df.text\n",
        "df.emotion = pd.Categorical(df.emotion)"
      ],
      "execution_count": 9,
      "outputs": []
    },
    {
      "cell_type": "code",
      "metadata": {
        "id": "rzbYBvRj3NnW"
      },
      "source": [
        "df['code'] = df['emotion'].cat.codes"
      ],
      "execution_count": 10,
      "outputs": []
    },
    {
      "cell_type": "code",
      "metadata": {
        "id": "_89S7MNN2MjI"
      },
      "source": [
        "y = to_categorical(df['code'].values)"
      ],
      "execution_count": 11,
      "outputs": []
    },
    {
      "cell_type": "code",
      "metadata": {
        "colab": {
          "base_uri": "https://localhost:8080/",
          "height": 235
        },
        "id": "cyMKTDHzgB7a",
        "outputId": "0841c2d4-6e8a-4e7f-f86c-5e44bb5e8a9b"
      },
      "source": [
        "df.head()"
      ],
      "execution_count": 12,
      "outputs": [
        {
          "output_type": "execute_result",
          "data": {
            "text/html": [
              "<div>\n",
              "<style scoped>\n",
              "    .dataframe tbody tr th:only-of-type {\n",
              "        vertical-align: middle;\n",
              "    }\n",
              "\n",
              "    .dataframe tbody tr th {\n",
              "        vertical-align: top;\n",
              "    }\n",
              "\n",
              "    .dataframe thead th {\n",
              "        text-align: right;\n",
              "    }\n",
              "</style>\n",
              "<table border=\"1\" class=\"dataframe\">\n",
              "  <thead>\n",
              "    <tr style=\"text-align: right;\">\n",
              "      <th></th>\n",
              "      <th>text</th>\n",
              "      <th>emotion</th>\n",
              "      <th>code</th>\n",
              "    </tr>\n",
              "    <tr>\n",
              "      <th>index</th>\n",
              "      <th></th>\n",
              "      <th></th>\n",
              "      <th></th>\n",
              "    </tr>\n",
              "  </thead>\n",
              "  <tbody>\n",
              "    <tr>\n",
              "      <th>0</th>\n",
              "      <td>i didnt feel humiliated</td>\n",
              "      <td>sadness</td>\n",
              "      <td>5</td>\n",
              "    </tr>\n",
              "    <tr>\n",
              "      <th>1</th>\n",
              "      <td>i can go from feeling so hopeless to so damned...</td>\n",
              "      <td>sadness</td>\n",
              "      <td>5</td>\n",
              "    </tr>\n",
              "    <tr>\n",
              "      <th>2</th>\n",
              "      <td>im grabbing a minute to post i feel greedy wrong</td>\n",
              "      <td>anger</td>\n",
              "      <td>0</td>\n",
              "    </tr>\n",
              "    <tr>\n",
              "      <th>3</th>\n",
              "      <td>i am ever feeling nostalgic about the fireplac...</td>\n",
              "      <td>love</td>\n",
              "      <td>3</td>\n",
              "    </tr>\n",
              "    <tr>\n",
              "      <th>4</th>\n",
              "      <td>i am feeling grouchy</td>\n",
              "      <td>anger</td>\n",
              "      <td>0</td>\n",
              "    </tr>\n",
              "  </tbody>\n",
              "</table>\n",
              "</div>"
            ],
            "text/plain": [
              "                                                    text  emotion  code\n",
              "index                                                                  \n",
              "0                                i didnt feel humiliated  sadness     5\n",
              "1      i can go from feeling so hopeless to so damned...  sadness     5\n",
              "2       im grabbing a minute to post i feel greedy wrong    anger     0\n",
              "3      i am ever feeling nostalgic about the fireplac...     love     3\n",
              "4                                   i am feeling grouchy    anger     0"
            ]
          },
          "metadata": {
            "tags": []
          },
          "execution_count": 12
        }
      ]
    },
    {
      "cell_type": "code",
      "metadata": {
        "colab": {
          "base_uri": "https://localhost:8080/",
          "height": 1000
        },
        "id": "2LGnt8TjZr5i",
        "outputId": "baa4052a-dc78-4ed3-a13e-5ca2ee56d43b"
      },
      "source": [
        "df.groupby(['emotion', 'code']).count()"
      ],
      "execution_count": 13,
      "outputs": [
        {
          "output_type": "execute_result",
          "data": {
            "text/html": [
              "<div>\n",
              "<style scoped>\n",
              "    .dataframe tbody tr th:only-of-type {\n",
              "        vertical-align: middle;\n",
              "    }\n",
              "\n",
              "    .dataframe tbody tr th {\n",
              "        vertical-align: top;\n",
              "    }\n",
              "\n",
              "    .dataframe thead th {\n",
              "        text-align: right;\n",
              "    }\n",
              "</style>\n",
              "<table border=\"1\" class=\"dataframe\">\n",
              "  <thead>\n",
              "    <tr style=\"text-align: right;\">\n",
              "      <th></th>\n",
              "      <th></th>\n",
              "      <th>text</th>\n",
              "    </tr>\n",
              "    <tr>\n",
              "      <th>emotion</th>\n",
              "      <th>code</th>\n",
              "      <th></th>\n",
              "    </tr>\n",
              "  </thead>\n",
              "  <tbody>\n",
              "    <tr>\n",
              "      <th rowspan=\"6\" valign=\"top\">anger</th>\n",
              "      <th>0</th>\n",
              "      <td>4426.0</td>\n",
              "    </tr>\n",
              "    <tr>\n",
              "      <th>1</th>\n",
              "      <td>NaN</td>\n",
              "    </tr>\n",
              "    <tr>\n",
              "      <th>2</th>\n",
              "      <td>NaN</td>\n",
              "    </tr>\n",
              "    <tr>\n",
              "      <th>3</th>\n",
              "      <td>NaN</td>\n",
              "    </tr>\n",
              "    <tr>\n",
              "      <th>4</th>\n",
              "      <td>NaN</td>\n",
              "    </tr>\n",
              "    <tr>\n",
              "      <th>5</th>\n",
              "      <td>NaN</td>\n",
              "    </tr>\n",
              "    <tr>\n",
              "      <th rowspan=\"6\" valign=\"top\">fear</th>\n",
              "      <th>0</th>\n",
              "      <td>NaN</td>\n",
              "    </tr>\n",
              "    <tr>\n",
              "      <th>1</th>\n",
              "      <td>11106.0</td>\n",
              "    </tr>\n",
              "    <tr>\n",
              "      <th>2</th>\n",
              "      <td>NaN</td>\n",
              "    </tr>\n",
              "    <tr>\n",
              "      <th>3</th>\n",
              "      <td>NaN</td>\n",
              "    </tr>\n",
              "    <tr>\n",
              "      <th>4</th>\n",
              "      <td>NaN</td>\n",
              "    </tr>\n",
              "    <tr>\n",
              "      <th>5</th>\n",
              "      <td>NaN</td>\n",
              "    </tr>\n",
              "    <tr>\n",
              "      <th rowspan=\"6\" valign=\"top\">happiness</th>\n",
              "      <th>0</th>\n",
              "      <td>NaN</td>\n",
              "    </tr>\n",
              "    <tr>\n",
              "      <th>1</th>\n",
              "      <td>NaN</td>\n",
              "    </tr>\n",
              "    <tr>\n",
              "      <th>2</th>\n",
              "      <td>16298.0</td>\n",
              "    </tr>\n",
              "    <tr>\n",
              "      <th>3</th>\n",
              "      <td>NaN</td>\n",
              "    </tr>\n",
              "    <tr>\n",
              "      <th>4</th>\n",
              "      <td>NaN</td>\n",
              "    </tr>\n",
              "    <tr>\n",
              "      <th>5</th>\n",
              "      <td>NaN</td>\n",
              "    </tr>\n",
              "    <tr>\n",
              "      <th rowspan=\"6\" valign=\"top\">love</th>\n",
              "      <th>0</th>\n",
              "      <td>NaN</td>\n",
              "    </tr>\n",
              "    <tr>\n",
              "      <th>1</th>\n",
              "      <td>NaN</td>\n",
              "    </tr>\n",
              "    <tr>\n",
              "      <th>2</th>\n",
              "      <td>NaN</td>\n",
              "    </tr>\n",
              "    <tr>\n",
              "      <th>3</th>\n",
              "      <td>5482.0</td>\n",
              "    </tr>\n",
              "    <tr>\n",
              "      <th>4</th>\n",
              "      <td>NaN</td>\n",
              "    </tr>\n",
              "    <tr>\n",
              "      <th>5</th>\n",
              "      <td>NaN</td>\n",
              "    </tr>\n",
              "    <tr>\n",
              "      <th rowspan=\"6\" valign=\"top\">neutral</th>\n",
              "      <th>0</th>\n",
              "      <td>NaN</td>\n",
              "    </tr>\n",
              "    <tr>\n",
              "      <th>1</th>\n",
              "      <td>NaN</td>\n",
              "    </tr>\n",
              "    <tr>\n",
              "      <th>2</th>\n",
              "      <td>NaN</td>\n",
              "    </tr>\n",
              "    <tr>\n",
              "      <th>3</th>\n",
              "      <td>NaN</td>\n",
              "    </tr>\n",
              "    <tr>\n",
              "      <th>4</th>\n",
              "      <td>9398.0</td>\n",
              "    </tr>\n",
              "    <tr>\n",
              "      <th>5</th>\n",
              "      <td>NaN</td>\n",
              "    </tr>\n",
              "    <tr>\n",
              "      <th rowspan=\"6\" valign=\"top\">sadness</th>\n",
              "      <th>0</th>\n",
              "      <td>NaN</td>\n",
              "    </tr>\n",
              "    <tr>\n",
              "      <th>1</th>\n",
              "      <td>NaN</td>\n",
              "    </tr>\n",
              "    <tr>\n",
              "      <th>2</th>\n",
              "      <td>NaN</td>\n",
              "    </tr>\n",
              "    <tr>\n",
              "      <th>3</th>\n",
              "      <td>NaN</td>\n",
              "    </tr>\n",
              "    <tr>\n",
              "      <th>4</th>\n",
              "      <td>NaN</td>\n",
              "    </tr>\n",
              "    <tr>\n",
              "      <th>5</th>\n",
              "      <td>11427.0</td>\n",
              "    </tr>\n",
              "  </tbody>\n",
              "</table>\n",
              "</div>"
            ],
            "text/plain": [
              "                   text\n",
              "emotion   code         \n",
              "anger     0      4426.0\n",
              "          1         NaN\n",
              "          2         NaN\n",
              "          3         NaN\n",
              "          4         NaN\n",
              "          5         NaN\n",
              "fear      0         NaN\n",
              "          1     11106.0\n",
              "          2         NaN\n",
              "          3         NaN\n",
              "          4         NaN\n",
              "          5         NaN\n",
              "happiness 0         NaN\n",
              "          1         NaN\n",
              "          2     16298.0\n",
              "          3         NaN\n",
              "          4         NaN\n",
              "          5         NaN\n",
              "love      0         NaN\n",
              "          1         NaN\n",
              "          2         NaN\n",
              "          3      5482.0\n",
              "          4         NaN\n",
              "          5         NaN\n",
              "neutral   0         NaN\n",
              "          1         NaN\n",
              "          2         NaN\n",
              "          3         NaN\n",
              "          4      9398.0\n",
              "          5         NaN\n",
              "sadness   0         NaN\n",
              "          1         NaN\n",
              "          2         NaN\n",
              "          3         NaN\n",
              "          4         NaN\n",
              "          5     11427.0"
            ]
          },
          "metadata": {
            "tags": []
          },
          "execution_count": 13
        }
      ]
    },
    {
      "cell_type": "code",
      "metadata": {
        "id": "sk6w7Maofa2p"
      },
      "source": [
        "X_train, X_test, y_train, y_test = train_test_split(X, y, test_size=0.3, random_state=42)"
      ],
      "execution_count": 14,
      "outputs": []
    },
    {
      "cell_type": "code",
      "metadata": {
        "colab": {
          "base_uri": "https://localhost:8080/"
        },
        "id": "NGAXnWRtfJQl",
        "outputId": "48980e1b-ba4f-44f0-c767-b68e373c103b"
      },
      "source": [
        "y_train"
      ],
      "execution_count": 15,
      "outputs": [
        {
          "output_type": "execute_result",
          "data": {
            "text/plain": [
              "array([[0., 1., 0., 0., 0., 0.],\n",
              "       [0., 0., 0., 1., 0., 0.],\n",
              "       [0., 0., 1., 0., 0., 0.],\n",
              "       ...,\n",
              "       [0., 0., 0., 0., 0., 1.],\n",
              "       [0., 0., 1., 0., 0., 0.],\n",
              "       [0., 0., 0., 0., 1., 0.]], dtype=float32)"
            ]
          },
          "metadata": {
            "tags": []
          },
          "execution_count": 15
        }
      ]
    },
    {
      "cell_type": "code",
      "metadata": {
        "colab": {
          "base_uri": "https://localhost:8080/",
          "height": 235
        },
        "id": "WkmMW4sIeV3z",
        "outputId": "7a11e8aa-4cd3-4cd9-ba2b-24596d9cf939"
      },
      "source": [
        "df.head()"
      ],
      "execution_count": 16,
      "outputs": [
        {
          "output_type": "execute_result",
          "data": {
            "text/html": [
              "<div>\n",
              "<style scoped>\n",
              "    .dataframe tbody tr th:only-of-type {\n",
              "        vertical-align: middle;\n",
              "    }\n",
              "\n",
              "    .dataframe tbody tr th {\n",
              "        vertical-align: top;\n",
              "    }\n",
              "\n",
              "    .dataframe thead th {\n",
              "        text-align: right;\n",
              "    }\n",
              "</style>\n",
              "<table border=\"1\" class=\"dataframe\">\n",
              "  <thead>\n",
              "    <tr style=\"text-align: right;\">\n",
              "      <th></th>\n",
              "      <th>text</th>\n",
              "      <th>emotion</th>\n",
              "      <th>code</th>\n",
              "    </tr>\n",
              "    <tr>\n",
              "      <th>index</th>\n",
              "      <th></th>\n",
              "      <th></th>\n",
              "      <th></th>\n",
              "    </tr>\n",
              "  </thead>\n",
              "  <tbody>\n",
              "    <tr>\n",
              "      <th>0</th>\n",
              "      <td>i didnt feel humiliated</td>\n",
              "      <td>sadness</td>\n",
              "      <td>5</td>\n",
              "    </tr>\n",
              "    <tr>\n",
              "      <th>1</th>\n",
              "      <td>i can go from feeling so hopeless to so damned...</td>\n",
              "      <td>sadness</td>\n",
              "      <td>5</td>\n",
              "    </tr>\n",
              "    <tr>\n",
              "      <th>2</th>\n",
              "      <td>im grabbing a minute to post i feel greedy wrong</td>\n",
              "      <td>anger</td>\n",
              "      <td>0</td>\n",
              "    </tr>\n",
              "    <tr>\n",
              "      <th>3</th>\n",
              "      <td>i am ever feeling nostalgic about the fireplac...</td>\n",
              "      <td>love</td>\n",
              "      <td>3</td>\n",
              "    </tr>\n",
              "    <tr>\n",
              "      <th>4</th>\n",
              "      <td>i am feeling grouchy</td>\n",
              "      <td>anger</td>\n",
              "      <td>0</td>\n",
              "    </tr>\n",
              "  </tbody>\n",
              "</table>\n",
              "</div>"
            ],
            "text/plain": [
              "                                                    text  emotion  code\n",
              "index                                                                  \n",
              "0                                i didnt feel humiliated  sadness     5\n",
              "1      i can go from feeling so hopeless to so damned...  sadness     5\n",
              "2       im grabbing a minute to post i feel greedy wrong    anger     0\n",
              "3      i am ever feeling nostalgic about the fireplac...     love     3\n",
              "4                                   i am feeling grouchy    anger     0"
            ]
          },
          "metadata": {
            "tags": []
          },
          "execution_count": 16
        }
      ]
    },
    {
      "cell_type": "code",
      "metadata": {
        "colab": {
          "base_uri": "https://localhost:8080/"
        },
        "id": "slX91GRSTs2H",
        "outputId": "8d19f884-7e96-4cdd-ff85-ed9cd692c71b"
      },
      "source": [
        "df.emotion.value_counts()"
      ],
      "execution_count": 17,
      "outputs": [
        {
          "output_type": "execute_result",
          "data": {
            "text/plain": [
              "happiness    16298\n",
              "sadness      11427\n",
              "fear         11106\n",
              "neutral       9398\n",
              "love          5482\n",
              "anger         4426\n",
              "Name: emotion, dtype: int64"
            ]
          },
          "metadata": {
            "tags": []
          },
          "execution_count": 17
        }
      ]
    },
    {
      "cell_type": "code",
      "metadata": {
        "colab": {
          "base_uri": "https://localhost:8080/"
        },
        "id": "sB0o4ussXZQX",
        "outputId": "80a84bab-90b3-42a6-a811-be8c8f5052a3"
      },
      "source": [
        "### Let's tokenize the vocabulary \n",
        "tk = Tokenizer()\n",
        "tk.fit_on_texts(X)\n",
        "vocab_size = len(tk.word_index) + 1\n",
        "print(f'There are {vocab_size} different words in your corpus')\n",
        "X_train_token = tk.texts_to_sequences(X_train)\n",
        "X_test_token = tk.texts_to_sequences(X_test)\n",
        "\n",
        "\n",
        "### Pad your inputs\n",
        "X_train_pad = pad_sequences(X_train_token, maxlen=66, dtype='float32', padding='post' )\n",
        "X_test_pad = pad_sequences(X_test_token, maxlen=66, dtype='float32', padding='post')"
      ],
      "execution_count": 18,
      "outputs": [
        {
          "output_type": "stream",
          "text": [
            "There are 40795 different words in your corpus\n"
          ],
          "name": "stdout"
        }
      ]
    },
    {
      "cell_type": "code",
      "metadata": {
        "colab": {
          "base_uri": "https://localhost:8080/"
        },
        "id": "I_107wleZc8L",
        "outputId": "01bdbca7-3c79-469f-9e48-962e1a6794f9"
      },
      "source": [
        "X_train_pad.shape"
      ],
      "execution_count": 19,
      "outputs": [
        {
          "output_type": "execute_result",
          "data": {
            "text/plain": [
              "(40695, 66)"
            ]
          },
          "metadata": {
            "tags": []
          },
          "execution_count": 19
        }
      ]
    },
    {
      "cell_type": "code",
      "metadata": {
        "colab": {
          "base_uri": "https://localhost:8080/"
        },
        "id": "l9j-y_EEGYP1",
        "outputId": "bd678a8c-c4e7-4dd8-d1b4-79cc921c5b21"
      },
      "source": [
        "X_test_pad.shape"
      ],
      "execution_count": 20,
      "outputs": [
        {
          "output_type": "execute_result",
          "data": {
            "text/plain": [
              "(17442, 66)"
            ]
          },
          "metadata": {
            "tags": []
          },
          "execution_count": 20
        }
      ]
    },
    {
      "cell_type": "code",
      "metadata": {
        "colab": {
          "base_uri": "https://localhost:8080/"
        },
        "id": "L7qJ4-1HZUb2",
        "outputId": "6ff913ba-3417-4f92-921b-027657f6423e"
      },
      "source": [
        "vocab_size"
      ],
      "execution_count": 21,
      "outputs": [
        {
          "output_type": "execute_result",
          "data": {
            "text/plain": [
              "40795"
            ]
          },
          "metadata": {
            "tags": []
          },
          "execution_count": 21
        }
      ]
    },
    {
      "cell_type": "code",
      "metadata": {
        "colab": {
          "base_uri": "https://localhost:8080/"
        },
        "id": "EjDp16jGdREk",
        "outputId": "ffe64ea3-19dc-41fe-b3f0-6b70e8406acd"
      },
      "source": [
        "print(list(api.info()['models'].keys()))"
      ],
      "execution_count": 80,
      "outputs": [
        {
          "output_type": "stream",
          "text": [
            "['fasttext-wiki-news-subwords-300', 'conceptnet-numberbatch-17-06-300', 'word2vec-ruscorpora-300', 'word2vec-google-news-300', 'glove-wiki-gigaword-50', 'glove-wiki-gigaword-100', 'glove-wiki-gigaword-200', 'glove-wiki-gigaword-300', 'glove-twitter-25', 'glove-twitter-50', 'glove-twitter-100', 'glove-twitter-200', '__testing_word2vec-matrix-synopsis']\n"
          ],
          "name": "stdout"
        }
      ]
    },
    {
      "cell_type": "code",
      "metadata": {
        "id": "RKNOwApEgRD9"
      },
      "source": [
        "glove_gensim = api.load('glove-wiki-gigaword-100')"
      ],
      "execution_count": null,
      "outputs": []
    },
    {
      "cell_type": "code",
      "metadata": {
        "id": "4v_4vdq4RhhQ"
      },
      "source": [
        "glove_gensim_200  = api.load('glove-wiki-gigaword-200') #100 dimension"
      ],
      "execution_count": 84,
      "outputs": []
    },
    {
      "cell_type": "code",
      "metadata": {
        "colab": {
          "base_uri": "https://localhost:8080/"
        },
        "id": "pt3G0vm_d51d",
        "outputId": "a71ebfa8-a0db-4d4f-8995-877ccb4f4255"
      },
      "source": [
        "glove_twitter_200 = api.load('glove-twitter-200')"
      ],
      "execution_count": 83,
      "outputs": [
        {
          "output_type": "stream",
          "text": [
            "[==================================================] 100.0% 758.5/758.5MB downloaded\n"
          ],
          "name": "stdout"
        }
      ]
    },
    {
      "cell_type": "code",
      "metadata": {
        "colab": {
          "base_uri": "https://localhost:8080/"
        },
        "id": "zWdpI3omh-4h",
        "outputId": "8a57b56b-05aa-43da-b9dc-83ab5d7538f3"
      },
      "source": [
        "# Vectorize\n",
        "vector_size = 100\n",
        "gensim_weight_matrix = np.zeros((vocab_size ,vector_size))\n",
        "gensim_weight_matrix.shape\n",
        "for word, index in tk.word_index.items():\n",
        "    if index < vocab_size: # since index starts with zero \n",
        "        if word in glove_gensim.wv.vocab:\n",
        "            gensim_weight_matrix[index] = glove_gensim[word]\n",
        "        else:\n",
        "            gensim_weight_matrix[index] = np.zeros(100)"
      ],
      "execution_count": 23,
      "outputs": [
        {
          "output_type": "stream",
          "text": [
            "/usr/local/lib/python3.7/dist-packages/ipykernel_launcher.py:7: DeprecationWarning: Call to deprecated `wv` (Attribute will be removed in 4.0.0, use self instead).\n",
            "  import sys\n"
          ],
          "name": "stderr"
        }
      ]
    },
    {
      "cell_type": "code",
      "metadata": {
        "id": "2jdwOXB8iE0o"
      },
      "source": [
        "def create_model(EMBEDDING_DIM = 100): # this means the embedding layer will create  a vector in 100 dimension\n",
        "  model_cnn = Sequential()\n",
        "  model_cnn.add(layers.Embedding(input_dim = vocab_size,# the whole vocabulary size \n",
        "                            output_dim = EMBEDDING_DIM, # vector space dimension\n",
        "                            input_length= X_train_pad.shape[1], # max_len of text sequence\n",
        "                            weights = [gensim_weight_matrix],\n",
        "                            trainable = False,\n",
        "                            mask_zero=True))\n",
        "  model_cnn.add(layers.Conv1D(10, kernel_size=3))\n",
        "  model_cnn.add(layers.Flatten())\n",
        "  #model_cnn.add(layers.Dense(60, activation=\"relu\"))\n",
        "  model_cnn.add(layers.Dense(30, activation=\"relu\"))\n",
        "  model_cnn.add(layers.Dense(6, activation=\"softmax\"))\n",
        "  model_cnn.compile(loss='categorical_crossentropy',\n",
        "              optimizer='adam',\n",
        "              metrics=['accuracy'])\n",
        "  return model_cnn"
      ],
      "execution_count": 24,
      "outputs": []
    },
    {
      "cell_type": "code",
      "metadata": {
        "id": "vxCXQbImkzmx"
      },
      "source": [
        "model = create_model()"
      ],
      "execution_count": 25,
      "outputs": []
    },
    {
      "cell_type": "code",
      "metadata": {
        "colab": {
          "base_uri": "https://localhost:8080/"
        },
        "id": "sa7c5KidlF1l",
        "outputId": "e265a215-7066-4291-d383-0ab31a6d2ea9"
      },
      "source": [
        "model.summary()"
      ],
      "execution_count": 26,
      "outputs": [
        {
          "output_type": "stream",
          "text": [
            "Model: \"sequential\"\n",
            "_________________________________________________________________\n",
            "Layer (type)                 Output Shape              Param #   \n",
            "=================================================================\n",
            "embedding (Embedding)        (None, 66, 100)           4079500   \n",
            "_________________________________________________________________\n",
            "conv1d (Conv1D)              (None, 64, 10)            3010      \n",
            "_________________________________________________________________\n",
            "flatten (Flatten)            (None, 640)               0         \n",
            "_________________________________________________________________\n",
            "dense (Dense)                (None, 30)                19230     \n",
            "_________________________________________________________________\n",
            "dense_1 (Dense)              (None, 6)                 186       \n",
            "=================================================================\n",
            "Total params: 4,101,926\n",
            "Trainable params: 22,426\n",
            "Non-trainable params: 4,079,500\n",
            "_________________________________________________________________\n"
          ],
          "name": "stdout"
        }
      ]
    },
    {
      "cell_type": "code",
      "metadata": {
        "id": "_gYEYv9U_vjK"
      },
      "source": [
        "es = callbacks.EarlyStopping(patience=10, restore_best_weights=True)"
      ],
      "execution_count": 27,
      "outputs": []
    },
    {
      "cell_type": "code",
      "metadata": {
        "colab": {
          "base_uri": "https://localhost:8080/"
        },
        "id": "YjVsF0oclJr3",
        "outputId": "f200b402-3028-49d2-c109-2b60bb1f5de1"
      },
      "source": [
        "history = model.fit(X_train_pad, y_train, batch_size=8, epochs=100, verbose=1, validation_split=0.3, callbacks=[es])"
      ],
      "execution_count": 28,
      "outputs": [
        {
          "output_type": "stream",
          "text": [
            "Epoch 1/100\n",
            "3561/3561 [==============================] - 43s 3ms/step - loss: 1.5234 - accuracy: 0.3716 - val_loss: 1.4461 - val_accuracy: 0.4077\n",
            "Epoch 2/100\n",
            "3561/3561 [==============================] - 12s 3ms/step - loss: 1.4013 - accuracy: 0.4274 - val_loss: 1.4418 - val_accuracy: 0.4148\n",
            "Epoch 3/100\n",
            "3561/3561 [==============================] - 12s 3ms/step - loss: 1.3521 - accuracy: 0.4530 - val_loss: 1.4302 - val_accuracy: 0.4191\n",
            "Epoch 4/100\n",
            "3561/3561 [==============================] - 12s 3ms/step - loss: 1.3133 - accuracy: 0.4711 - val_loss: 1.4577 - val_accuracy: 0.4121\n",
            "Epoch 5/100\n",
            "3561/3561 [==============================] - 12s 3ms/step - loss: 1.2795 - accuracy: 0.4858 - val_loss: 1.4865 - val_accuracy: 0.4168\n",
            "Epoch 6/100\n",
            "3561/3561 [==============================] - 12s 3ms/step - loss: 1.2495 - accuracy: 0.5004 - val_loss: 1.5035 - val_accuracy: 0.4166\n",
            "Epoch 7/100\n",
            "3561/3561 [==============================] - 12s 3ms/step - loss: 1.2228 - accuracy: 0.5113 - val_loss: 1.4954 - val_accuracy: 0.4135\n",
            "Epoch 8/100\n",
            "3561/3561 [==============================] - 12s 3ms/step - loss: 1.2020 - accuracy: 0.5244 - val_loss: 1.5272 - val_accuracy: 0.4176\n",
            "Epoch 9/100\n",
            "3561/3561 [==============================] - 12s 3ms/step - loss: 1.1812 - accuracy: 0.5292 - val_loss: 1.5775 - val_accuracy: 0.4087\n",
            "Epoch 10/100\n",
            "3561/3561 [==============================] - 12s 3ms/step - loss: 1.1617 - accuracy: 0.5366 - val_loss: 1.5875 - val_accuracy: 0.4017\n",
            "Epoch 11/100\n",
            "3561/3561 [==============================] - 12s 3ms/step - loss: 1.1455 - accuracy: 0.5455 - val_loss: 1.6409 - val_accuracy: 0.4017\n",
            "Epoch 12/100\n",
            "3561/3561 [==============================] - 12s 3ms/step - loss: 1.1322 - accuracy: 0.5502 - val_loss: 1.6453 - val_accuracy: 0.4102\n",
            "Epoch 13/100\n",
            "3561/3561 [==============================] - 12s 3ms/step - loss: 1.1197 - accuracy: 0.5544 - val_loss: 1.7109 - val_accuracy: 0.3986\n"
          ],
          "name": "stdout"
        }
      ]
    },
    {
      "cell_type": "code",
      "metadata": {
        "colab": {
          "base_uri": "https://localhost:8080/"
        },
        "id": "tudEmJRZESHv",
        "outputId": "507311f7-4897-483e-b307-3f40bbc8d037"
      },
      "source": [
        "model.evaluate(X_test_pad, y_test)"
      ],
      "execution_count": 29,
      "outputs": [
        {
          "output_type": "stream",
          "text": [
            "546/546 [==============================] - 2s 2ms/step - loss: 1.4092 - accuracy: 0.4297\n"
          ],
          "name": "stdout"
        },
        {
          "output_type": "execute_result",
          "data": {
            "text/plain": [
              "[1.4092276096343994, 0.42970988154411316]"
            ]
          },
          "metadata": {
            "tags": []
          },
          "execution_count": 29
        }
      ]
    },
    {
      "cell_type": "code",
      "metadata": {
        "id": "E6slgk4FHcjd"
      },
      "source": [
        "def create_model2(EMBEDDING_DIM = 100): # this means the embedding layer will create  a vector in 100 dimension\n",
        "  model_cnn = Sequential()\n",
        "  model_cnn.add(layers.Embedding(input_dim = vocab_size,# the whole vocabulary size \n",
        "                            output_dim = EMBEDDING_DIM, # vector space dimension\n",
        "                            input_length= X_train_pad.shape[1], # max_len of text sequence\n",
        "                            weights = [gensim_weight_matrix],\n",
        "                            trainable = False,\n",
        "                            mask_zero=True))\n",
        "  model_cnn.add(layers.Bidirectional(layers.LSTM(100,return_sequences=True)))\n",
        "  model_cnn.add(layers.Bidirectional(layers.LSTM(100,return_sequences=True)))\n",
        "  model_cnn.add(layers.Dropout(.2,))\n",
        "  model_cnn.add(layers.Bidirectional(layers.LSTM(100,return_sequences=False)))\n",
        "  #model_cnn.add(layers.Dense(60, activation=\"relu\"))\n",
        "  model_cnn.add(layers.Dense(30, activation=\"relu\"))\n",
        "  model_cnn.add(layers.Dense(6, activation=\"softmax\"))\n",
        "  model_cnn.compile(loss='categorical_crossentropy',\n",
        "              optimizer='adam',\n",
        "              metrics=['accuracy'])\n",
        "  return model_cnn"
      ],
      "execution_count": 30,
      "outputs": []
    },
    {
      "cell_type": "code",
      "metadata": {
        "id": "zBkx8yQRHuPP"
      },
      "source": [
        "model2 = create_model2()"
      ],
      "execution_count": 31,
      "outputs": []
    },
    {
      "cell_type": "code",
      "metadata": {
        "id": "wCnYdxs3MdK4"
      },
      "source": [
        "es = callbacks.EarlyStopping(patience=3, restore_best_weights=True)"
      ],
      "execution_count": 32,
      "outputs": []
    },
    {
      "cell_type": "code",
      "metadata": {
        "colab": {
          "base_uri": "https://localhost:8080/"
        },
        "id": "nd8dzjwzH0m0",
        "outputId": "8a6045b2-c676-4ee0-ed7f-9ebf8e725973"
      },
      "source": [
        "history2 = model2.fit(X_train_pad, y_train, batch_size=32, epochs=10, verbose=1, validation_split=0.3, callbacks=[es])"
      ],
      "execution_count": 33,
      "outputs": [
        {
          "output_type": "stream",
          "text": [
            "Epoch 1/10\n",
            "891/891 [==============================] - 62s 50ms/step - loss: 1.4239 - accuracy: 0.4229 - val_loss: 1.2879 - val_accuracy: 0.4812\n",
            "Epoch 2/10\n",
            "891/891 [==============================] - 39s 44ms/step - loss: 1.1890 - accuracy: 0.5330 - val_loss: 1.1487 - val_accuracy: 0.5469\n",
            "Epoch 3/10\n",
            "891/891 [==============================] - 39s 44ms/step - loss: 1.0752 - accuracy: 0.5756 - val_loss: 1.0912 - val_accuracy: 0.5720\n",
            "Epoch 4/10\n",
            "891/891 [==============================] - 39s 44ms/step - loss: 1.0054 - accuracy: 0.6021 - val_loss: 1.0627 - val_accuracy: 0.5751\n",
            "Epoch 5/10\n",
            "891/891 [==============================] - 39s 44ms/step - loss: 0.9571 - accuracy: 0.6181 - val_loss: 1.0501 - val_accuracy: 0.5813\n",
            "Epoch 6/10\n",
            "891/891 [==============================] - 39s 44ms/step - loss: 0.9146 - accuracy: 0.6380 - val_loss: 1.0492 - val_accuracy: 0.5819\n",
            "Epoch 7/10\n",
            "891/891 [==============================] - 39s 44ms/step - loss: 0.8662 - accuracy: 0.6567 - val_loss: 1.0919 - val_accuracy: 0.5762\n",
            "Epoch 8/10\n",
            "891/891 [==============================] - 39s 44ms/step - loss: 0.8156 - accuracy: 0.6812 - val_loss: 1.1032 - val_accuracy: 0.5783\n",
            "Epoch 9/10\n",
            "891/891 [==============================] - 39s 44ms/step - loss: 0.7561 - accuracy: 0.7040 - val_loss: 1.1756 - val_accuracy: 0.5697\n"
          ],
          "name": "stdout"
        }
      ]
    },
    {
      "cell_type": "code",
      "metadata": {
        "colab": {
          "base_uri": "https://localhost:8080/"
        },
        "id": "X9Uk4UOtMx1x",
        "outputId": "daeadb70-f759-41c2-e682-d8ceae8c3fbe"
      },
      "source": [
        "model2.evaluate(X_test_pad, y_test)"
      ],
      "execution_count": 34,
      "outputs": [
        {
          "output_type": "stream",
          "text": [
            "546/546 [==============================] - 7s 13ms/step - loss: 1.0385 - accuracy: 0.5893\n"
          ],
          "name": "stdout"
        },
        {
          "output_type": "execute_result",
          "data": {
            "text/plain": [
              "[1.038488507270813, 0.5892673134803772]"
            ]
          },
          "metadata": {
            "tags": []
          },
          "execution_count": 34
        }
      ]
    },
    {
      "cell_type": "code",
      "metadata": {
        "id": "uEwy-a_VTJ0h"
      },
      "source": [
        "def create_model3(EMBEDDING_DIM = 100): # this means the embedding layer will create  a vector in 100 dimension\n",
        "  model_cnn = Sequential()\n",
        "  model_cnn.add(layers.Embedding(input_dim = vocab_size,# the whole vocabulary size \n",
        "                            output_dim = EMBEDDING_DIM, # vector space dimension\n",
        "                            input_length= X_train_pad.shape[1], # max_len of text sequence\n",
        "                            weights = [gensim_weight_matrix],\n",
        "                            trainable = False,\n",
        "                            mask_zero=True))\n",
        "  model_cnn.add(layers.Dropout(.3,))\n",
        "  model_cnn.add(layers.Bidirectional(layers.LSTM(100,return_sequences=True)))\n",
        "  model_cnn.add(layers.Dropout(.3,))\n",
        "  model_cnn.add(layers.Bidirectional(layers.LSTM(200,return_sequences=True)))\n",
        "  model_cnn.add(layers.Dropout(.3,))\n",
        "  model_cnn.add(layers.Bidirectional(layers.LSTM(100,return_sequences=False)))\n",
        "  #model_cnn.add(layers.Dense(60, activation=\"relu\"))\n",
        "  model_cnn.add(layers.Dense(30, activation=\"relu\"))\n",
        "  model_cnn.add(layers.Dropout(.3,))\n",
        "  model_cnn.add(layers.Dense(6, activation=\"softmax\"))\n",
        "  model_cnn.compile(loss='categorical_crossentropy',\n",
        "              optimizer='adam',\n",
        "              metrics=['accuracy'])\n",
        "  return model_cnn"
      ],
      "execution_count": 68,
      "outputs": []
    },
    {
      "cell_type": "code",
      "metadata": {
        "id": "qpvHs2CxTMqv"
      },
      "source": [
        "model3 = create_model3()"
      ],
      "execution_count": 69,
      "outputs": []
    },
    {
      "cell_type": "code",
      "metadata": {
        "id": "5WP-nGfdTMtP"
      },
      "source": [
        "es = callbacks.EarlyStopping(patience=10, restore_best_weights=True)"
      ],
      "execution_count": 70,
      "outputs": []
    },
    {
      "cell_type": "code",
      "metadata": {
        "colab": {
          "base_uri": "https://localhost:8080/"
        },
        "id": "f9Mwb_cCTMvo",
        "outputId": "fa84576b-1509-4f7b-d80d-d810b932f8f3"
      },
      "source": [
        "history3 = model3.fit(X_train_pad, y_train, batch_size=32, epochs=100, verbose=1, validation_split=0.3, callbacks=[es])"
      ],
      "execution_count": 71,
      "outputs": [
        {
          "output_type": "stream",
          "text": [
            "Epoch 1/100\n",
            "891/891 [==============================] - 87s 69ms/step - loss: 1.5662 - accuracy: 0.3517 - val_loss: 1.3615 - val_accuracy: 0.4428\n",
            "Epoch 2/100\n",
            "891/891 [==============================] - 53s 60ms/step - loss: 1.3269 - accuracy: 0.4633 - val_loss: 1.2215 - val_accuracy: 0.5119\n",
            "Epoch 3/100\n",
            "891/891 [==============================] - 52s 58ms/step - loss: 1.1968 - accuracy: 0.5344 - val_loss: 1.1933 - val_accuracy: 0.5296\n",
            "Epoch 4/100\n",
            "891/891 [==============================] - 53s 59ms/step - loss: 1.1078 - accuracy: 0.5735 - val_loss: 1.1113 - val_accuracy: 0.5616\n",
            "Epoch 5/100\n",
            "891/891 [==============================] - 52s 59ms/step - loss: 1.0550 - accuracy: 0.5922 - val_loss: 1.0705 - val_accuracy: 0.5783\n",
            "Epoch 6/100\n",
            "891/891 [==============================] - 52s 59ms/step - loss: 1.0125 - accuracy: 0.6054 - val_loss: 1.0607 - val_accuracy: 0.5762\n",
            "Epoch 7/100\n",
            "891/891 [==============================] - 52s 58ms/step - loss: 0.9847 - accuracy: 0.6167 - val_loss: 1.0629 - val_accuracy: 0.5787\n",
            "Epoch 8/100\n",
            "891/891 [==============================] - 52s 58ms/step - loss: 0.9579 - accuracy: 0.6276 - val_loss: 1.0455 - val_accuracy: 0.5824\n",
            "Epoch 9/100\n",
            "891/891 [==============================] - 52s 58ms/step - loss: 0.9306 - accuracy: 0.6332 - val_loss: 1.0539 - val_accuracy: 0.5811\n",
            "Epoch 10/100\n",
            "891/891 [==============================] - 53s 59ms/step - loss: 0.9061 - accuracy: 0.6459 - val_loss: 1.0618 - val_accuracy: 0.5827\n",
            "Epoch 11/100\n",
            "891/891 [==============================] - 54s 60ms/step - loss: 0.8759 - accuracy: 0.6585 - val_loss: 1.0684 - val_accuracy: 0.5818\n",
            "Epoch 12/100\n",
            "891/891 [==============================] - 53s 59ms/step - loss: 0.8463 - accuracy: 0.6719 - val_loss: 1.1017 - val_accuracy: 0.5796\n",
            "Epoch 13/100\n",
            "891/891 [==============================] - 53s 60ms/step - loss: 0.8157 - accuracy: 0.6800 - val_loss: 1.1124 - val_accuracy: 0.5772\n",
            "Epoch 14/100\n",
            "891/891 [==============================] - 53s 60ms/step - loss: 0.7859 - accuracy: 0.6953 - val_loss: 1.1436 - val_accuracy: 0.5801\n",
            "Epoch 15/100\n",
            "891/891 [==============================] - 53s 59ms/step - loss: 0.7545 - accuracy: 0.7071 - val_loss: 1.1837 - val_accuracy: 0.5742\n",
            "Epoch 16/100\n",
            "891/891 [==============================] - 53s 60ms/step - loss: 0.7230 - accuracy: 0.7201 - val_loss: 1.1947 - val_accuracy: 0.5720\n",
            "Epoch 17/100\n",
            "891/891 [==============================] - 53s 60ms/step - loss: 0.6903 - accuracy: 0.7317 - val_loss: 1.2749 - val_accuracy: 0.5800\n",
            "Epoch 18/100\n",
            "891/891 [==============================] - 53s 60ms/step - loss: 0.6598 - accuracy: 0.7475 - val_loss: 1.2716 - val_accuracy: 0.5720\n"
          ],
          "name": "stdout"
        }
      ]
    },
    {
      "cell_type": "code",
      "metadata": {
        "id": "cAHPQt62Vlio",
        "colab": {
          "base_uri": "https://localhost:8080/"
        },
        "outputId": "0e80227e-1ad5-4450-d364-5d23215f58ef"
      },
      "source": [
        "model3.evaluate(X_test_pad, y_test)"
      ],
      "execution_count": 66,
      "outputs": [
        {
          "output_type": "stream",
          "text": [
            "546/546 [==============================] - 7s 13ms/step - loss: 1.0308 - accuracy: 0.5922\n"
          ],
          "name": "stdout"
        },
        {
          "output_type": "execute_result",
          "data": {
            "text/plain": [
              "[1.030755639076233, 0.5921912789344788]"
            ]
          },
          "metadata": {
            "tags": []
          },
          "execution_count": 66
        }
      ]
    },
    {
      "cell_type": "code",
      "metadata": {
        "id": "19fcC6L4DC1q",
        "colab": {
          "base_uri": "https://localhost:8080/"
        },
        "outputId": "6e82e820-aadc-4bb3-e647-286ba0b2f8c1"
      },
      "source": [
        "models.save_model(\n",
        "    model3, filepath=\"/content/drive/My Drive/Colab Notebooks/CNN NLP Model\"\n",
        ")"
      ],
      "execution_count": 67,
      "outputs": [
        {
          "output_type": "stream",
          "text": [
            "WARNING:absl:Found untraced functions such as lstm_cell_19_layer_call_and_return_conditional_losses, lstm_cell_19_layer_call_fn, lstm_cell_20_layer_call_and_return_conditional_losses, lstm_cell_20_layer_call_fn, lstm_cell_22_layer_call_and_return_conditional_losses while saving (showing 5 of 30). These functions will not be directly callable after loading.\n"
          ],
          "name": "stderr"
        },
        {
          "output_type": "stream",
          "text": [
            "INFO:tensorflow:Assets written to: /content/drive/My Drive/Colab Notebooks/CNN NLP Model/assets\n"
          ],
          "name": "stdout"
        },
        {
          "output_type": "stream",
          "text": [
            "INFO:tensorflow:Assets written to: /content/drive/My Drive/Colab Notebooks/CNN NLP Model/assets\n"
          ],
          "name": "stderr"
        }
      ]
    },
    {
      "cell_type": "markdown",
      "metadata": {
        "id": "Keeh8TI6g8yg"
      },
      "source": [
        "Model 4\n",
        "\n",
        "Using more vectors and different word 2 vec models"
      ]
    },
    {
      "cell_type": "code",
      "metadata": {
        "colab": {
          "base_uri": "https://localhost:8080/"
        },
        "id": "hBYVv873gFlZ",
        "outputId": "c3b70994-9c93-422f-ef6e-0d01104177d6"
      },
      "source": [
        "# Vectorize\n",
        "vector_size = 200\n",
        "gensim_weight_matrix = np.zeros((vocab_size ,vector_size))\n",
        "gensim_weight_matrix.shape\n",
        "for word, index in tk.word_index.items():\n",
        "    if index < vocab_size: # since index starts with zero \n",
        "        if word in glove_gensim_200.wv.vocab:\n",
        "            gensim_weight_matrix[index] = glove_gensim_200[word]\n",
        "        else:\n",
        "            gensim_weight_matrix[index] = np.zeros(200)"
      ],
      "execution_count": 87,
      "outputs": [
        {
          "output_type": "stream",
          "text": [
            "/usr/local/lib/python3.7/dist-packages/ipykernel_launcher.py:7: DeprecationWarning: Call to deprecated `wv` (Attribute will be removed in 4.0.0, use self instead).\n",
            "  import sys\n"
          ],
          "name": "stderr"
        }
      ]
    },
    {
      "cell_type": "code",
      "metadata": {
        "id": "Mkucu-EXf3Mr"
      },
      "source": [
        "def create_model4(EMBEDDING_DIM = 200): # this means the embedding layer will create  a vector in 100 dimension\n",
        "  model_cnn = Sequential()\n",
        "  model_cnn.add(layers.Embedding(input_dim = vocab_size,# the whole vocabulary size \n",
        "                            output_dim = EMBEDDING_DIM, # vector space dimension\n",
        "                            input_length= X_train_pad.shape[1], # max_len of text sequence\n",
        "                            weights = [gensim_weight_matrix],\n",
        "                            trainable = False,\n",
        "                            mask_zero=True))\n",
        "  model_cnn.add(layers.Dropout(.3,))\n",
        "  model_cnn.add(layers.Bidirectional(layers.LSTM(100,return_sequences=True)))\n",
        "  model_cnn.add(layers.Dropout(.3,))\n",
        "  model_cnn.add(layers.Bidirectional(layers.LSTM(200,return_sequences=True)))\n",
        "  model_cnn.add(layers.Dropout(.3,))\n",
        "  model_cnn.add(layers.Bidirectional(layers.LSTM(200,return_sequences=False)))\n",
        "  #model_cnn.add(layers.Dense(60, activation=\"relu\"))\n",
        "  model_cnn.add(layers.Dense(30, activation=\"relu\"))\n",
        "  model_cnn.add(layers.Dropout(.3,))\n",
        "  model_cnn.add(layers.Dense(6, activation=\"softmax\"))\n",
        "  model_cnn.compile(loss='categorical_crossentropy',\n",
        "              optimizer='adam',\n",
        "              metrics=['accuracy'])\n",
        "  return model_cnn"
      ],
      "execution_count": 89,
      "outputs": []
    },
    {
      "cell_type": "code",
      "metadata": {
        "id": "2YRqnIuqiG8-"
      },
      "source": [
        "model4 = create_model4()"
      ],
      "execution_count": 90,
      "outputs": []
    },
    {
      "cell_type": "code",
      "metadata": {
        "colab": {
          "base_uri": "https://localhost:8080/"
        },
        "id": "KtG1I-PUiHEl",
        "outputId": "3b08d94d-c7ea-4cde-e4ff-b3784bf422e3"
      },
      "source": [
        "history4 = model4.fit(X_train_pad, y_train, batch_size=32, epochs=100, verbose=1, validation_split=0.3, callbacks=[es])"
      ],
      "execution_count": 91,
      "outputs": [
        {
          "output_type": "stream",
          "text": [
            "Epoch 1/100\n",
            "891/891 [==============================] - 65s 55ms/step - loss: 1.4989 - accuracy: 0.3867 - val_loss: 1.2943 - val_accuracy: 0.4756\n",
            "Epoch 2/100\n",
            "891/891 [==============================] - 42s 47ms/step - loss: 1.2901 - accuracy: 0.4946 - val_loss: 1.1746 - val_accuracy: 0.5344\n",
            "Epoch 3/100\n",
            "891/891 [==============================] - 41s 46ms/step - loss: 1.1780 - accuracy: 0.5388 - val_loss: 1.1024 - val_accuracy: 0.5635\n",
            "Epoch 4/100\n",
            "891/891 [==============================] - 41s 46ms/step - loss: 1.1148 - accuracy: 0.5651 - val_loss: 1.0525 - val_accuracy: 0.5818\n",
            "Epoch 5/100\n",
            "891/891 [==============================] - 41s 46ms/step - loss: 1.0665 - accuracy: 0.5820 - val_loss: 1.0378 - val_accuracy: 0.5815\n",
            "Epoch 6/100\n",
            "891/891 [==============================] - 41s 46ms/step - loss: 1.0317 - accuracy: 0.5934 - val_loss: 1.0289 - val_accuracy: 0.5882\n",
            "Epoch 7/100\n",
            "891/891 [==============================] - 41s 46ms/step - loss: 0.9963 - accuracy: 0.6079 - val_loss: 1.0095 - val_accuracy: 0.5912\n",
            "Epoch 8/100\n",
            "891/891 [==============================] - 41s 45ms/step - loss: 0.9818 - accuracy: 0.6144 - val_loss: 1.0142 - val_accuracy: 0.5907\n",
            "Epoch 9/100\n",
            "891/891 [==============================] - 40s 45ms/step - loss: 0.9570 - accuracy: 0.6206 - val_loss: 1.0032 - val_accuracy: 0.6007\n",
            "Epoch 10/100\n",
            "891/891 [==============================] - 41s 46ms/step - loss: 0.9356 - accuracy: 0.6326 - val_loss: 1.0084 - val_accuracy: 0.5970\n",
            "Epoch 11/100\n",
            "891/891 [==============================] - 40s 45ms/step - loss: 0.9143 - accuracy: 0.6396 - val_loss: 1.0134 - val_accuracy: 0.5991\n",
            "Epoch 12/100\n",
            "891/891 [==============================] - 40s 45ms/step - loss: 0.8940 - accuracy: 0.6468 - val_loss: 1.0219 - val_accuracy: 0.5977\n",
            "Epoch 13/100\n",
            "891/891 [==============================] - 41s 45ms/step - loss: 0.8723 - accuracy: 0.6551 - val_loss: 1.0185 - val_accuracy: 0.5973\n",
            "Epoch 14/100\n",
            "891/891 [==============================] - 40s 45ms/step - loss: 0.8533 - accuracy: 0.6665 - val_loss: 1.0212 - val_accuracy: 0.5952\n",
            "Epoch 15/100\n",
            "891/891 [==============================] - 40s 45ms/step - loss: 0.8309 - accuracy: 0.6732 - val_loss: 1.0708 - val_accuracy: 0.5964\n",
            "Epoch 16/100\n",
            "891/891 [==============================] - 40s 45ms/step - loss: 0.8163 - accuracy: 0.6766 - val_loss: 1.0515 - val_accuracy: 0.5980\n",
            "Epoch 17/100\n",
            "891/891 [==============================] - 40s 45ms/step - loss: 0.7928 - accuracy: 0.6887 - val_loss: 1.0869 - val_accuracy: 0.6011\n",
            "Epoch 18/100\n",
            "891/891 [==============================] - 40s 45ms/step - loss: 0.7824 - accuracy: 0.6984 - val_loss: 1.1070 - val_accuracy: 0.5934\n",
            "Epoch 19/100\n",
            "891/891 [==============================] - 40s 45ms/step - loss: 0.7570 - accuracy: 0.7049 - val_loss: 1.0897 - val_accuracy: 0.5937\n"
          ],
          "name": "stdout"
        }
      ]
    },
    {
      "cell_type": "code",
      "metadata": {
        "colab": {
          "base_uri": "https://localhost:8080/"
        },
        "id": "y7BSk6TkiHHf",
        "outputId": "35001c17-acdd-4e88-e39b-1205e251351f"
      },
      "source": [
        "model4.evaluate(X_test_pad, y_test)"
      ],
      "execution_count": 93,
      "outputs": [
        {
          "output_type": "stream",
          "text": [
            "546/546 [==============================] - 8s 14ms/step - loss: 0.9906 - accuracy: 0.6056\n"
          ],
          "name": "stdout"
        },
        {
          "output_type": "execute_result",
          "data": {
            "text/plain": [
              "[0.9905635714530945, 0.6056071519851685]"
            ]
          },
          "metadata": {
            "tags": []
          },
          "execution_count": 93
        }
      ]
    },
    {
      "cell_type": "code",
      "metadata": {
        "id": "xwf2TtmVibYH"
      },
      "source": [
        ""
      ],
      "execution_count": 91,
      "outputs": []
    },
    {
      "cell_type": "code",
      "metadata": {
        "id": "qTS6oma9icEw"
      },
      "source": [
        ""
      ],
      "execution_count": 91,
      "outputs": []
    },
    {
      "cell_type": "markdown",
      "metadata": {
        "id": "mtx0GEyDic_y"
      },
      "source": [
        "Model 5\n",
        "\n",
        "Using the Twitter Gensim"
      ]
    },
    {
      "cell_type": "code",
      "metadata": {
        "colab": {
          "base_uri": "https://localhost:8080/"
        },
        "id": "waR1KOMaintv",
        "outputId": "22d3ecd6-f070-46e2-9f05-79f0ee413d4a"
      },
      "source": [
        "# Vectorize\n",
        "vector_size = 200\n",
        "gensim_weight_matrix = np.zeros((vocab_size ,vector_size))\n",
        "gensim_weight_matrix.shape\n",
        "for word, index in tk.word_index.items():\n",
        "    if index < vocab_size: # since index starts with zero \n",
        "        if word in glove_twitter_200.wv.vocab:\n",
        "            gensim_weight_matrix[index] = glove_twitter_200[word]\n",
        "        else:\n",
        "            gensim_weight_matrix[index] = np.zeros(200)"
      ],
      "execution_count": 94,
      "outputs": [
        {
          "output_type": "stream",
          "text": [
            "/usr/local/lib/python3.7/dist-packages/ipykernel_launcher.py:7: DeprecationWarning: Call to deprecated `wv` (Attribute will be removed in 4.0.0, use self instead).\n",
            "  import sys\n"
          ],
          "name": "stderr"
        }
      ]
    },
    {
      "cell_type": "code",
      "metadata": {
        "id": "dpUALf35icIK"
      },
      "source": [
        "def create_model5(EMBEDDING_DIM = 200): # this means the embedding layer will create  a vector in 100 dimension\n",
        "  model_cnn = Sequential()\n",
        "  model_cnn.add(layers.Embedding(input_dim = vocab_size,# the whole vocabulary size \n",
        "                            output_dim = EMBEDDING_DIM, # vector space dimension\n",
        "                            input_length= X_train_pad.shape[1], # max_len of text sequence\n",
        "                            weights = [gensim_weight_matrix],\n",
        "                            trainable = False,\n",
        "                            mask_zero=True))\n",
        "  model_cnn.add(layers.Dropout(.5,))\n",
        "  model_cnn.add(layers.Bidirectional(layers.LSTM(100,return_sequences=True)))\n",
        "  model_cnn.add(layers.Dropout(.3,))\n",
        "  model_cnn.add(layers.Bidirectional(layers.LSTM(200,return_sequences=True)))\n",
        "  model_cnn.add(layers.Dropout(.3,))\n",
        "  model_cnn.add(layers.Bidirectional(layers.LSTM(200,return_sequences=False)))\n",
        "  #model_cnn.add(layers.Dense(60, activation=\"relu\"))\n",
        "  model_cnn.add(layers.Dense(30, activation=\"relu\"))\n",
        "  model_cnn.add(layers.Dropout(.5,))\n",
        "  model_cnn.add(layers.Dense(6, activation=\"softmax\"))\n",
        "  model_cnn.compile(loss='categorical_crossentropy',\n",
        "              optimizer='adam',\n",
        "              metrics=['accuracy'])\n",
        "  return model_cnn"
      ],
      "execution_count": 96,
      "outputs": []
    },
    {
      "cell_type": "code",
      "metadata": {
        "id": "lvLuIa6DicLt"
      },
      "source": [
        "model5 = create_model5()"
      ],
      "execution_count": 97,
      "outputs": []
    },
    {
      "cell_type": "code",
      "metadata": {
        "colab": {
          "base_uri": "https://localhost:8080/"
        },
        "id": "UT6ZOylUiz39",
        "outputId": "18ad1d00-349d-4dd4-987a-a031ffbad6b4"
      },
      "source": [
        "history5 = model5.fit(X_train_pad, y_train, batch_size=32, epochs=100, verbose=1, validation_split=0.3, callbacks=[es])"
      ],
      "execution_count": 98,
      "outputs": [
        {
          "output_type": "stream",
          "text": [
            "Epoch 1/100\n",
            "891/891 [==============================] - 64s 53ms/step - loss: 1.5683 - accuracy: 0.3538 - val_loss: 1.3752 - val_accuracy: 0.4384\n",
            "Epoch 2/100\n",
            "891/891 [==============================] - 42s 47ms/step - loss: 1.4131 - accuracy: 0.4311 - val_loss: 1.2574 - val_accuracy: 0.4791\n",
            "Epoch 3/100\n",
            "891/891 [==============================] - 41s 46ms/step - loss: 1.3288 - accuracy: 0.4691 - val_loss: 1.1726 - val_accuracy: 0.5213\n",
            "Epoch 4/100\n",
            "891/891 [==============================] - 41s 46ms/step - loss: 1.2631 - accuracy: 0.4975 - val_loss: 1.1173 - val_accuracy: 0.5561\n",
            "Epoch 5/100\n",
            "891/891 [==============================] - 41s 46ms/step - loss: 1.2009 - accuracy: 0.5263 - val_loss: 1.0558 - val_accuracy: 0.5792\n",
            "Epoch 6/100\n",
            "891/891 [==============================] - 41s 46ms/step - loss: 1.1551 - accuracy: 0.5468 - val_loss: 1.0204 - val_accuracy: 0.5896\n",
            "Epoch 7/100\n",
            "891/891 [==============================] - 41s 46ms/step - loss: 1.1200 - accuracy: 0.5621 - val_loss: 1.0012 - val_accuracy: 0.5960\n",
            "Epoch 8/100\n",
            "891/891 [==============================] - 41s 46ms/step - loss: 1.0896 - accuracy: 0.5720 - val_loss: 1.0024 - val_accuracy: 0.5921\n",
            "Epoch 9/100\n",
            "891/891 [==============================] - 41s 46ms/step - loss: 1.0730 - accuracy: 0.5761 - val_loss: 0.9911 - val_accuracy: 0.5966\n",
            "Epoch 10/100\n",
            "891/891 [==============================] - 41s 46ms/step - loss: 1.0534 - accuracy: 0.5840 - val_loss: 0.9819 - val_accuracy: 0.6041\n",
            "Epoch 11/100\n",
            "891/891 [==============================] - 41s 46ms/step - loss: 1.0384 - accuracy: 0.5926 - val_loss: 0.9684 - val_accuracy: 0.6039\n",
            "Epoch 12/100\n",
            "891/891 [==============================] - 41s 46ms/step - loss: 1.0272 - accuracy: 0.5959 - val_loss: 0.9688 - val_accuracy: 0.6032\n",
            "Epoch 13/100\n",
            "891/891 [==============================] - 41s 46ms/step - loss: 1.0146 - accuracy: 0.6012 - val_loss: 0.9673 - val_accuracy: 0.6080\n",
            "Epoch 14/100\n",
            "891/891 [==============================] - 41s 46ms/step - loss: 1.0061 - accuracy: 0.6061 - val_loss: 0.9707 - val_accuracy: 0.6048\n",
            "Epoch 15/100\n",
            "891/891 [==============================] - 40s 45ms/step - loss: 0.9907 - accuracy: 0.6078 - val_loss: 0.9850 - val_accuracy: 0.6049\n",
            "Epoch 16/100\n",
            "891/891 [==============================] - 41s 46ms/step - loss: 0.9864 - accuracy: 0.6128 - val_loss: 0.9688 - val_accuracy: 0.6090\n",
            "Epoch 17/100\n",
            "891/891 [==============================] - 40s 45ms/step - loss: 0.9727 - accuracy: 0.6159 - val_loss: 0.9775 - val_accuracy: 0.6091\n",
            "Epoch 18/100\n",
            "891/891 [==============================] - 41s 46ms/step - loss: 0.9692 - accuracy: 0.6157 - val_loss: 0.9727 - val_accuracy: 0.6089\n",
            "Epoch 19/100\n",
            "891/891 [==============================] - 41s 46ms/step - loss: 0.9615 - accuracy: 0.6203 - val_loss: 0.9820 - val_accuracy: 0.6096\n",
            "Epoch 20/100\n",
            "891/891 [==============================] - 41s 46ms/step - loss: 0.9569 - accuracy: 0.6223 - val_loss: 0.9791 - val_accuracy: 0.6069\n",
            "Epoch 21/100\n",
            "891/891 [==============================] - 41s 46ms/step - loss: 0.9469 - accuracy: 0.6262 - val_loss: 0.9848 - val_accuracy: 0.6041\n",
            "Epoch 22/100\n",
            "891/891 [==============================] - 41s 46ms/step - loss: 0.9350 - accuracy: 0.6310 - val_loss: 0.9887 - val_accuracy: 0.6053\n",
            "Epoch 23/100\n",
            "891/891 [==============================] - 40s 45ms/step - loss: 0.9358 - accuracy: 0.6296 - val_loss: 0.9858 - val_accuracy: 0.6059\n"
          ],
          "name": "stdout"
        }
      ]
    },
    {
      "cell_type": "code",
      "metadata": {
        "colab": {
          "base_uri": "https://localhost:8080/"
        },
        "id": "1EZ3Rfjriz6i",
        "outputId": "6b81af39-c009-49dd-920b-cbcc905b597c"
      },
      "source": [
        "model5.evaluate(X_test_pad, y_test)"
      ],
      "execution_count": 99,
      "outputs": [
        {
          "output_type": "stream",
          "text": [
            "546/546 [==============================] - 7s 14ms/step - loss: 0.9588 - accuracy: 0.6132\n"
          ],
          "name": "stdout"
        },
        {
          "output_type": "execute_result",
          "data": {
            "text/plain": [
              "[0.9587792158126831, 0.613232433795929]"
            ]
          },
          "metadata": {
            "tags": []
          },
          "execution_count": 99
        }
      ]
    },
    {
      "cell_type": "code",
      "metadata": {
        "colab": {
          "base_uri": "https://localhost:8080/"
        },
        "id": "zCG-faRUiz89",
        "outputId": "8822298a-ad55-4040-d9ea-d6c124ab0f39"
      },
      "source": [
        "models.save_model(\n",
        "    model5, filepath=\"/content/drive/My Drive/Colab Notebooks/CNN NLP Model/model_7\"\n",
        ")"
      ],
      "execution_count": 100,
      "outputs": [
        {
          "output_type": "stream",
          "text": [
            "WARNING:absl:Found untraced functions such as lstm_cell_49_layer_call_and_return_conditional_losses, lstm_cell_49_layer_call_fn, lstm_cell_50_layer_call_and_return_conditional_losses, lstm_cell_50_layer_call_fn, lstm_cell_52_layer_call_and_return_conditional_losses while saving (showing 5 of 30). These functions will not be directly callable after loading.\n"
          ],
          "name": "stderr"
        },
        {
          "output_type": "stream",
          "text": [
            "INFO:tensorflow:Assets written to: /content/drive/My Drive/Colab Notebooks/CNN NLP Model/model_7/assets\n"
          ],
          "name": "stdout"
        },
        {
          "output_type": "stream",
          "text": [
            "INFO:tensorflow:Assets written to: /content/drive/My Drive/Colab Notebooks/CNN NLP Model/model_7/assets\n"
          ],
          "name": "stderr"
        }
      ]
    },
    {
      "cell_type": "code",
      "metadata": {
        "id": "o5uhm21WY2Ti"
      },
      "source": [
        "def predict():\n",
        "    sentence = str(input('Enter a sentence : '))\n",
        "    sentence_lst=[]\n",
        "    sentence_lst.append(sentence)\n",
        "    sentence_seq=tk.texts_to_sequences(sentence_lst)\n",
        "    sentence_padded=pad_sequences(sentence_seq,maxlen=1000,padding='post')\n",
        "    ans=model5.predict(sentence_padded)\n",
        "    labels = ['Anger', 'Fear', 'Happiness', 'Love','Neutral','Sadness']\n",
        "    ans_dict = dict(zip(labels, ans[0]))\n",
        "    return {k: float(v) for k, v in ans_dict.items()}\n"
      ],
      "execution_count": 168,
      "outputs": []
    },
    {
      "cell_type": "code",
      "metadata": {
        "id": "Xc2dQUq1Y4n_",
        "colab": {
          "base_uri": "https://localhost:8080/"
        },
        "outputId": "4964aedf-df88-4973-deb0-fca99753274d"
      },
      "source": [
        "predict()"
      ],
      "execution_count": 177,
      "outputs": [
        {
          "output_type": "stream",
          "text": [
            "Enter a sentence : October arrived, spreading a damp chill over the grounds and into the castle. Madam Pomfrey, the nurse, was kept busy by a sudden spate of colds among the staff and students. Her Pepperup potion worked instantly, though it left the drinker smoking at the ears for several hours afterward. Ginny Weasley, who had been looking pale, was bullied into taking some by Percy. The steam pouring from under her vivid hair gave the impression that her whole head was on fire.  Raindrops the size of bullets thundered on the castle windows for days on end; the lake rose, the flower beds turned into muddy streams, and Hagrid's pumpkins swelled to the size of garden sheds. Oliver Wood's enthusiasm for regular training sessions, however, was not dampened, which was why Harry was to be found, late one stormy Saturday afternoon a few days before Halloween, returning to Gryffindor Tower, drenched to the skin and splattered with mud.  Even aside from the rain and wind it hadn't been a happy practice session. Fred and George, who had been spying on the Slytherin team, had seen for themselves the speed of those new Nimbus Two Thousand and Ones. They reported that the Slytherin team was no more than seven greenish blurs, shooting through the air like missiles.  As Harry squelched along the deserted corridor he came across somebody who looked just as preoccupied as he was. Nearly Headless Nick, the ghost of Gryffindor Tower, was staring morosely out of a window, muttering under his breath, \". . . don't fulfill their requirements . . . half an inch, if that . . .\"\n"
          ],
          "name": "stdout"
        },
        {
          "output_type": "execute_result",
          "data": {
            "text/plain": [
              "{'Anger': 0.12196821719408035,\n",
              " 'Fear': 0.12557420134544373,\n",
              " 'Happiness': 0.08757888525724411,\n",
              " 'Love': 0.009088932536542416,\n",
              " 'Neutral': 0.00750353466719389,\n",
              " 'Sadness': 0.6482862234115601}"
            ]
          },
          "metadata": {
            "tags": []
          },
          "execution_count": 177
        }
      ]
    },
    {
      "cell_type": "code",
      "metadata": {
        "id": "SSQUmAh4xFx1"
      },
      "source": [
        "def get_mood():\n",
        "    sentence = str(input('Enter a sentence : '))\n",
        "    sentence_lst=[]\n",
        "    sentence_lst.append(sentence)\n",
        "    sentence_seq=tk.texts_to_sequences(sentence_lst)\n",
        "    sentence_padded=pad_sequences(sentence_seq,maxlen=1000,padding='post')\n",
        "    ans=model5.predict(sentence_padded)\n",
        "    labels = ['Anger', 'Fear', 'Happiness', 'Love','Neutral','Sadness']\n",
        "    ans_dict = dict(zip(labels, ans[0]))\n",
        "    for key,val in ans_dict.items():\n",
        "      if (str(val)!=max(str(val))):\n",
        "        return key\n"
      ],
      "execution_count": 198,
      "outputs": []
    },
    {
      "cell_type": "code",
      "metadata": {
        "colab": {
          "base_uri": "https://localhost:8080/",
          "height": 52
        },
        "id": "xMUI_usAyhvr",
        "outputId": "ffdfe503-80e0-4e0f-cf84-8c551ca3a9e4"
      },
      "source": [
        "get_mood()"
      ],
      "execution_count": 200,
      "outputs": [
        {
          "output_type": "stream",
          "text": [
            "Enter a sentence : I hate you\n"
          ],
          "name": "stdout"
        },
        {
          "output_type": "execute_result",
          "data": {
            "application/vnd.google.colaboratory.intrinsic+json": {
              "type": "string"
            },
            "text/plain": [
              "'Anger'"
            ]
          },
          "metadata": {
            "tags": []
          },
          "execution_count": 200
        }
      ]
    },
    {
      "cell_type": "code",
      "metadata": {
        "id": "ab6Lfll3PP4U"
      },
      "source": [
        "open('tokenizer.pickle', 'wb')"
      ],
      "execution_count": null,
      "outputs": []
    },
    {
      "cell_type": "code",
      "metadata": {
        "id": "k6eLhzqXPQ8x"
      },
      "source": [
        "with open('tokenizer.pickle', 'wb') as handle:\n",
        "    pickle.dump(tk, handle, protocol=pickle.HIGHEST_PROTOCOL)"
      ],
      "execution_count": null,
      "outputs": []
    },
    {
      "cell_type": "code",
      "metadata": {
        "id": "RvyL7VYaXffN"
      },
      "source": [
        "# class Sentence():\n",
        "\n",
        "#   def get_key(value):\n",
        "#     dictionary={'anger':0,'fear':1,'happy':2,'love':3,'neutral':4,'sadness':5}\n",
        "#     for key,val in dictionary.items():\n",
        "#       if (val==value):\n",
        "#         return key\n",
        "  \n",
        "#   def get_scores():\n",
        "#     sentence = str(input('Enter a sentence : '))\n",
        "#     sentence_lst=[]\n",
        "#     sentence_lst.append(sentence)\n",
        "#     sentence_seq=tk.texts_to_sequences(sentence_lst)\n",
        "#     sentence_padded=pad_sequences(sentence_seq,maxlen=1000,padding='post')\n",
        "#     ans=model5.predict(sentence_padded)\n",
        "#     labels = ['Anger', 'Fear', 'Happiness', 'Love','Neutral','Sadness']\n",
        "#     ans_dict = dict(zip(labels, ans[0]))\n",
        "#     return {k: float(v) for k, v in ans_dict.items()}\n",
        "\n",
        "#   def get_final_feeling():\n",
        "#     pass"
      ],
      "execution_count": 165,
      "outputs": []
    },
    {
      "cell_type": "code",
      "metadata": {
        "id": "xUNGFs5EYyni"
      },
      "source": [
        "# new_text = Sentence"
      ],
      "execution_count": 166,
      "outputs": []
    },
    {
      "cell_type": "code",
      "metadata": {
        "colab": {
          "base_uri": "https://localhost:8080/"
        },
        "id": "IuSwVqfNrk3a",
        "outputId": "0e904ddd-ae77-40f7-b47f-03658cafc9b0"
      },
      "source": [
        "# new_text.get_scores()"
      ],
      "execution_count": 167,
      "outputs": [
        {
          "output_type": "stream",
          "text": [
            "Enter a sentence : Ebu likes cheese\n"
          ],
          "name": "stdout"
        },
        {
          "output_type": "execute_result",
          "data": {
            "text/plain": [
              "{'Anger': 0.004795673303306103,\n",
              " 'Fear': 0.10971111804246902,\n",
              " 'Happiness': 0.2665919363498688,\n",
              " 'Love': 0.11712934821844101,\n",
              " 'Neutral': 0.4704040288925171,\n",
              " 'Sadness': 0.03136785328388214}"
            ]
          },
          "metadata": {
            "tags": []
          },
          "execution_count": 167
        }
      ]
    },
    {
      "cell_type": "code",
      "metadata": {
        "id": "A8j0inbqHJoW"
      },
      "source": [
        "# bi directional lstm\n",
        "# dropout layers\n",
        "# model.add(Bidirectional(LSTM(100,return_sequences=True)))"
      ],
      "execution_count": null,
      "outputs": []
    },
    {
      "cell_type": "code",
      "metadata": {
        "id": "RCeoSryJmO8F"
      },
      "source": [
        ""
      ],
      "execution_count": null,
      "outputs": []
    }
  ]
}