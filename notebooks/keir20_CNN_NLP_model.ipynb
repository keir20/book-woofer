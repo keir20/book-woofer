{
  "nbformat": 4,
  "nbformat_minor": 0,
  "metadata": {
    "colab": {
      "name": "CNN NLP model.ipynb",
      "provenance": [],
      "collapsed_sections": []
    },
    "kernelspec": {
      "name": "python3",
      "display_name": "Python 3"
    },
    "language_info": {
      "name": "python"
    },
    "accelerator": "GPU"
  },
  "cells": [
    {
      "cell_type": "code",
      "metadata": {
        "id": "N2241Sa7_7e1"
      },
      "source": [
        "import pandas as pd\n",
        "import numpy as np\n",
        "import random\n",
        "from tensorflow.keras import models, Sequential, layers\n",
        "from tensorflow.keras.preprocessing.sequence import pad_sequences\n",
        "from tensorflow.keras.preprocessing.text import Tokenizer\n",
        "from tensorflow.keras import callbacks\n",
        "from tensorflow.keras.utils import to_categorical\n",
        "from sklearn.model_selection import train_test_split"
      ],
      "execution_count": 1,
      "outputs": []
    },
    {
      "cell_type": "code",
      "metadata": {
        "id": "7Xs5w1SP_961"
      },
      "source": [
        "df = pd.read_csv('Emotion_final.csv')"
      ],
      "execution_count": 2,
      "outputs": []
    },
    {
      "cell_type": "code",
      "metadata": {
        "id": "U55V4V5gD-Zr"
      },
      "source": [
        "df = df.rename(columns={'Text': 'text', 'Emotion': 'emotion'})"
      ],
      "execution_count": 3,
      "outputs": []
    },
    {
      "cell_type": "code",
      "metadata": {
        "colab": {
          "base_uri": "https://localhost:8080/",
          "height": 204
        },
        "id": "g2abjauPTb-q",
        "outputId": "fc09d205-82bc-4d5a-be6a-967c7fdf1f8c"
      },
      "source": [
        "df.head()"
      ],
      "execution_count": 4,
      "outputs": [
        {
          "output_type": "execute_result",
          "data": {
            "text/html": [
              "<div>\n",
              "<style scoped>\n",
              "    .dataframe tbody tr th:only-of-type {\n",
              "        vertical-align: middle;\n",
              "    }\n",
              "\n",
              "    .dataframe tbody tr th {\n",
              "        vertical-align: top;\n",
              "    }\n",
              "\n",
              "    .dataframe thead th {\n",
              "        text-align: right;\n",
              "    }\n",
              "</style>\n",
              "<table border=\"1\" class=\"dataframe\">\n",
              "  <thead>\n",
              "    <tr style=\"text-align: right;\">\n",
              "      <th></th>\n",
              "      <th>text</th>\n",
              "      <th>emotion</th>\n",
              "    </tr>\n",
              "  </thead>\n",
              "  <tbody>\n",
              "    <tr>\n",
              "      <th>0</th>\n",
              "      <td>i didnt feel humiliated</td>\n",
              "      <td>sadness</td>\n",
              "    </tr>\n",
              "    <tr>\n",
              "      <th>1</th>\n",
              "      <td>i can go from feeling so hopeless to so damned...</td>\n",
              "      <td>sadness</td>\n",
              "    </tr>\n",
              "    <tr>\n",
              "      <th>2</th>\n",
              "      <td>im grabbing a minute to post i feel greedy wrong</td>\n",
              "      <td>anger</td>\n",
              "    </tr>\n",
              "    <tr>\n",
              "      <th>3</th>\n",
              "      <td>i am ever feeling nostalgic about the fireplac...</td>\n",
              "      <td>love</td>\n",
              "    </tr>\n",
              "    <tr>\n",
              "      <th>4</th>\n",
              "      <td>i am feeling grouchy</td>\n",
              "      <td>anger</td>\n",
              "    </tr>\n",
              "  </tbody>\n",
              "</table>\n",
              "</div>"
            ],
            "text/plain": [
              "                                                text  emotion\n",
              "0                            i didnt feel humiliated  sadness\n",
              "1  i can go from feeling so hopeless to so damned...  sadness\n",
              "2   im grabbing a minute to post i feel greedy wrong    anger\n",
              "3  i am ever feeling nostalgic about the fireplac...     love\n",
              "4                               i am feeling grouchy    anger"
            ]
          },
          "metadata": {
            "tags": []
          },
          "execution_count": 4
        }
      ]
    },
    {
      "cell_type": "code",
      "metadata": {
        "colab": {
          "base_uri": "https://localhost:8080/"
        },
        "id": "Dv2zthJ_OqKq",
        "outputId": "2eee46fb-20fd-41f2-8af9-f07572dafd8a"
      },
      "source": [
        "df.emotion.value_counts().count()"
      ],
      "execution_count": 5,
      "outputs": [
        {
          "output_type": "execute_result",
          "data": {
            "text/plain": [
              "6"
            ]
          },
          "metadata": {
            "tags": []
          },
          "execution_count": 5
        }
      ]
    },
    {
      "cell_type": "code",
      "metadata": {
        "colab": {
          "base_uri": "https://localhost:8080/"
        },
        "id": "BuXh13AoF9m8",
        "outputId": "4d364b2a-399b-4b6a-d536-2a6761ec51b0"
      },
      "source": [
        "df.shape"
      ],
      "execution_count": 6,
      "outputs": [
        {
          "output_type": "execute_result",
          "data": {
            "text/plain": [
              "(21459, 2)"
            ]
          },
          "metadata": {
            "tags": []
          },
          "execution_count": 6
        }
      ]
    },
    {
      "cell_type": "code",
      "metadata": {
        "id": "s4jAzgXYf0KD"
      },
      "source": [
        "X = df.text\n",
        "df.emotion = pd.Categorical(df.emotion)"
      ],
      "execution_count": 7,
      "outputs": []
    },
    {
      "cell_type": "code",
      "metadata": {
        "id": "rzbYBvRj3NnW"
      },
      "source": [
        "df['code'] = df['emotion'].cat.codes"
      ],
      "execution_count": 8,
      "outputs": []
    },
    {
      "cell_type": "code",
      "metadata": {
        "id": "_89S7MNN2MjI"
      },
      "source": [
        "y = to_categorical(df['code'].values)"
      ],
      "execution_count": 9,
      "outputs": []
    },
    {
      "cell_type": "code",
      "metadata": {
        "colab": {
          "base_uri": "https://localhost:8080/",
          "height": 204
        },
        "id": "cyMKTDHzgB7a",
        "outputId": "7a455f66-e50d-46cb-9bf4-3a7e19122083"
      },
      "source": [
        "df.head()"
      ],
      "execution_count": 10,
      "outputs": [
        {
          "output_type": "execute_result",
          "data": {
            "text/html": [
              "<div>\n",
              "<style scoped>\n",
              "    .dataframe tbody tr th:only-of-type {\n",
              "        vertical-align: middle;\n",
              "    }\n",
              "\n",
              "    .dataframe tbody tr th {\n",
              "        vertical-align: top;\n",
              "    }\n",
              "\n",
              "    .dataframe thead th {\n",
              "        text-align: right;\n",
              "    }\n",
              "</style>\n",
              "<table border=\"1\" class=\"dataframe\">\n",
              "  <thead>\n",
              "    <tr style=\"text-align: right;\">\n",
              "      <th></th>\n",
              "      <th>text</th>\n",
              "      <th>emotion</th>\n",
              "      <th>code</th>\n",
              "    </tr>\n",
              "  </thead>\n",
              "  <tbody>\n",
              "    <tr>\n",
              "      <th>0</th>\n",
              "      <td>i didnt feel humiliated</td>\n",
              "      <td>sadness</td>\n",
              "      <td>4</td>\n",
              "    </tr>\n",
              "    <tr>\n",
              "      <th>1</th>\n",
              "      <td>i can go from feeling so hopeless to so damned...</td>\n",
              "      <td>sadness</td>\n",
              "      <td>4</td>\n",
              "    </tr>\n",
              "    <tr>\n",
              "      <th>2</th>\n",
              "      <td>im grabbing a minute to post i feel greedy wrong</td>\n",
              "      <td>anger</td>\n",
              "      <td>0</td>\n",
              "    </tr>\n",
              "    <tr>\n",
              "      <th>3</th>\n",
              "      <td>i am ever feeling nostalgic about the fireplac...</td>\n",
              "      <td>love</td>\n",
              "      <td>3</td>\n",
              "    </tr>\n",
              "    <tr>\n",
              "      <th>4</th>\n",
              "      <td>i am feeling grouchy</td>\n",
              "      <td>anger</td>\n",
              "      <td>0</td>\n",
              "    </tr>\n",
              "  </tbody>\n",
              "</table>\n",
              "</div>"
            ],
            "text/plain": [
              "                                                text  emotion  code\n",
              "0                            i didnt feel humiliated  sadness     4\n",
              "1  i can go from feeling so hopeless to so damned...  sadness     4\n",
              "2   im grabbing a minute to post i feel greedy wrong    anger     0\n",
              "3  i am ever feeling nostalgic about the fireplac...     love     3\n",
              "4                               i am feeling grouchy    anger     0"
            ]
          },
          "metadata": {
            "tags": []
          },
          "execution_count": 10
        }
      ]
    },
    {
      "cell_type": "code",
      "metadata": {
        "colab": {
          "base_uri": "https://localhost:8080/",
          "height": 1000
        },
        "id": "2LGnt8TjZr5i",
        "outputId": "9385d877-47bf-4b86-95ff-fb708ee9b756"
      },
      "source": [
        "df.groupby(['emotion', 'code']).count()"
      ],
      "execution_count": 11,
      "outputs": [
        {
          "output_type": "execute_result",
          "data": {
            "text/html": [
              "<div>\n",
              "<style scoped>\n",
              "    .dataframe tbody tr th:only-of-type {\n",
              "        vertical-align: middle;\n",
              "    }\n",
              "\n",
              "    .dataframe tbody tr th {\n",
              "        vertical-align: top;\n",
              "    }\n",
              "\n",
              "    .dataframe thead th {\n",
              "        text-align: right;\n",
              "    }\n",
              "</style>\n",
              "<table border=\"1\" class=\"dataframe\">\n",
              "  <thead>\n",
              "    <tr style=\"text-align: right;\">\n",
              "      <th></th>\n",
              "      <th></th>\n",
              "      <th>text</th>\n",
              "    </tr>\n",
              "    <tr>\n",
              "      <th>emotion</th>\n",
              "      <th>code</th>\n",
              "      <th></th>\n",
              "    </tr>\n",
              "  </thead>\n",
              "  <tbody>\n",
              "    <tr>\n",
              "      <th rowspan=\"6\" valign=\"top\">anger</th>\n",
              "      <th>0</th>\n",
              "      <td>2993.0</td>\n",
              "    </tr>\n",
              "    <tr>\n",
              "      <th>1</th>\n",
              "      <td>NaN</td>\n",
              "    </tr>\n",
              "    <tr>\n",
              "      <th>2</th>\n",
              "      <td>NaN</td>\n",
              "    </tr>\n",
              "    <tr>\n",
              "      <th>3</th>\n",
              "      <td>NaN</td>\n",
              "    </tr>\n",
              "    <tr>\n",
              "      <th>4</th>\n",
              "      <td>NaN</td>\n",
              "    </tr>\n",
              "    <tr>\n",
              "      <th>5</th>\n",
              "      <td>NaN</td>\n",
              "    </tr>\n",
              "    <tr>\n",
              "      <th rowspan=\"6\" valign=\"top\">fear</th>\n",
              "      <th>0</th>\n",
              "      <td>NaN</td>\n",
              "    </tr>\n",
              "    <tr>\n",
              "      <th>1</th>\n",
              "      <td>2652.0</td>\n",
              "    </tr>\n",
              "    <tr>\n",
              "      <th>2</th>\n",
              "      <td>NaN</td>\n",
              "    </tr>\n",
              "    <tr>\n",
              "      <th>3</th>\n",
              "      <td>NaN</td>\n",
              "    </tr>\n",
              "    <tr>\n",
              "      <th>4</th>\n",
              "      <td>NaN</td>\n",
              "    </tr>\n",
              "    <tr>\n",
              "      <th>5</th>\n",
              "      <td>NaN</td>\n",
              "    </tr>\n",
              "    <tr>\n",
              "      <th rowspan=\"6\" valign=\"top\">happy</th>\n",
              "      <th>0</th>\n",
              "      <td>NaN</td>\n",
              "    </tr>\n",
              "    <tr>\n",
              "      <th>1</th>\n",
              "      <td>NaN</td>\n",
              "    </tr>\n",
              "    <tr>\n",
              "      <th>2</th>\n",
              "      <td>7029.0</td>\n",
              "    </tr>\n",
              "    <tr>\n",
              "      <th>3</th>\n",
              "      <td>NaN</td>\n",
              "    </tr>\n",
              "    <tr>\n",
              "      <th>4</th>\n",
              "      <td>NaN</td>\n",
              "    </tr>\n",
              "    <tr>\n",
              "      <th>5</th>\n",
              "      <td>NaN</td>\n",
              "    </tr>\n",
              "    <tr>\n",
              "      <th rowspan=\"6\" valign=\"top\">love</th>\n",
              "      <th>0</th>\n",
              "      <td>NaN</td>\n",
              "    </tr>\n",
              "    <tr>\n",
              "      <th>1</th>\n",
              "      <td>NaN</td>\n",
              "    </tr>\n",
              "    <tr>\n",
              "      <th>2</th>\n",
              "      <td>NaN</td>\n",
              "    </tr>\n",
              "    <tr>\n",
              "      <th>3</th>\n",
              "      <td>1641.0</td>\n",
              "    </tr>\n",
              "    <tr>\n",
              "      <th>4</th>\n",
              "      <td>NaN</td>\n",
              "    </tr>\n",
              "    <tr>\n",
              "      <th>5</th>\n",
              "      <td>NaN</td>\n",
              "    </tr>\n",
              "    <tr>\n",
              "      <th rowspan=\"6\" valign=\"top\">sadness</th>\n",
              "      <th>0</th>\n",
              "      <td>NaN</td>\n",
              "    </tr>\n",
              "    <tr>\n",
              "      <th>1</th>\n",
              "      <td>NaN</td>\n",
              "    </tr>\n",
              "    <tr>\n",
              "      <th>2</th>\n",
              "      <td>NaN</td>\n",
              "    </tr>\n",
              "    <tr>\n",
              "      <th>3</th>\n",
              "      <td>NaN</td>\n",
              "    </tr>\n",
              "    <tr>\n",
              "      <th>4</th>\n",
              "      <td>6265.0</td>\n",
              "    </tr>\n",
              "    <tr>\n",
              "      <th>5</th>\n",
              "      <td>NaN</td>\n",
              "    </tr>\n",
              "    <tr>\n",
              "      <th rowspan=\"6\" valign=\"top\">surprise</th>\n",
              "      <th>0</th>\n",
              "      <td>NaN</td>\n",
              "    </tr>\n",
              "    <tr>\n",
              "      <th>1</th>\n",
              "      <td>NaN</td>\n",
              "    </tr>\n",
              "    <tr>\n",
              "      <th>2</th>\n",
              "      <td>NaN</td>\n",
              "    </tr>\n",
              "    <tr>\n",
              "      <th>3</th>\n",
              "      <td>NaN</td>\n",
              "    </tr>\n",
              "    <tr>\n",
              "      <th>4</th>\n",
              "      <td>NaN</td>\n",
              "    </tr>\n",
              "    <tr>\n",
              "      <th>5</th>\n",
              "      <td>879.0</td>\n",
              "    </tr>\n",
              "  </tbody>\n",
              "</table>\n",
              "</div>"
            ],
            "text/plain": [
              "                 text\n",
              "emotion  code        \n",
              "anger    0     2993.0\n",
              "         1        NaN\n",
              "         2        NaN\n",
              "         3        NaN\n",
              "         4        NaN\n",
              "         5        NaN\n",
              "fear     0        NaN\n",
              "         1     2652.0\n",
              "         2        NaN\n",
              "         3        NaN\n",
              "         4        NaN\n",
              "         5        NaN\n",
              "happy    0        NaN\n",
              "         1        NaN\n",
              "         2     7029.0\n",
              "         3        NaN\n",
              "         4        NaN\n",
              "         5        NaN\n",
              "love     0        NaN\n",
              "         1        NaN\n",
              "         2        NaN\n",
              "         3     1641.0\n",
              "         4        NaN\n",
              "         5        NaN\n",
              "sadness  0        NaN\n",
              "         1        NaN\n",
              "         2        NaN\n",
              "         3        NaN\n",
              "         4     6265.0\n",
              "         5        NaN\n",
              "surprise 0        NaN\n",
              "         1        NaN\n",
              "         2        NaN\n",
              "         3        NaN\n",
              "         4        NaN\n",
              "         5      879.0"
            ]
          },
          "metadata": {
            "tags": []
          },
          "execution_count": 11
        }
      ]
    },
    {
      "cell_type": "code",
      "metadata": {
        "id": "sk6w7Maofa2p"
      },
      "source": [
        "X_train, X_test, y_train, y_test = train_test_split(X, y, test_size=0.3, random_state=42)"
      ],
      "execution_count": 12,
      "outputs": []
    },
    {
      "cell_type": "code",
      "metadata": {
        "colab": {
          "base_uri": "https://localhost:8080/"
        },
        "id": "NGAXnWRtfJQl",
        "outputId": "467e8b08-6bbd-4c00-fab2-4e737f5f00d7"
      },
      "source": [
        "y_train"
      ],
      "execution_count": 13,
      "outputs": [
        {
          "output_type": "execute_result",
          "data": {
            "text/plain": [
              "array([[0., 0., 0., 0., 1., 0.],\n",
              "       [0., 0., 1., 0., 0., 0.],\n",
              "       [0., 0., 1., 0., 0., 0.],\n",
              "       ...,\n",
              "       [0., 0., 0., 1., 0., 0.],\n",
              "       [0., 0., 0., 0., 1., 0.],\n",
              "       [0., 0., 0., 0., 1., 0.]], dtype=float32)"
            ]
          },
          "metadata": {
            "tags": []
          },
          "execution_count": 13
        }
      ]
    },
    {
      "cell_type": "code",
      "metadata": {
        "colab": {
          "base_uri": "https://localhost:8080/",
          "height": 204
        },
        "id": "WkmMW4sIeV3z",
        "outputId": "80900a49-7c59-4268-cd3d-95a76b326052"
      },
      "source": [
        "df.head()"
      ],
      "execution_count": 14,
      "outputs": [
        {
          "output_type": "execute_result",
          "data": {
            "text/html": [
              "<div>\n",
              "<style scoped>\n",
              "    .dataframe tbody tr th:only-of-type {\n",
              "        vertical-align: middle;\n",
              "    }\n",
              "\n",
              "    .dataframe tbody tr th {\n",
              "        vertical-align: top;\n",
              "    }\n",
              "\n",
              "    .dataframe thead th {\n",
              "        text-align: right;\n",
              "    }\n",
              "</style>\n",
              "<table border=\"1\" class=\"dataframe\">\n",
              "  <thead>\n",
              "    <tr style=\"text-align: right;\">\n",
              "      <th></th>\n",
              "      <th>text</th>\n",
              "      <th>emotion</th>\n",
              "      <th>code</th>\n",
              "    </tr>\n",
              "  </thead>\n",
              "  <tbody>\n",
              "    <tr>\n",
              "      <th>0</th>\n",
              "      <td>i didnt feel humiliated</td>\n",
              "      <td>sadness</td>\n",
              "      <td>4</td>\n",
              "    </tr>\n",
              "    <tr>\n",
              "      <th>1</th>\n",
              "      <td>i can go from feeling so hopeless to so damned...</td>\n",
              "      <td>sadness</td>\n",
              "      <td>4</td>\n",
              "    </tr>\n",
              "    <tr>\n",
              "      <th>2</th>\n",
              "      <td>im grabbing a minute to post i feel greedy wrong</td>\n",
              "      <td>anger</td>\n",
              "      <td>0</td>\n",
              "    </tr>\n",
              "    <tr>\n",
              "      <th>3</th>\n",
              "      <td>i am ever feeling nostalgic about the fireplac...</td>\n",
              "      <td>love</td>\n",
              "      <td>3</td>\n",
              "    </tr>\n",
              "    <tr>\n",
              "      <th>4</th>\n",
              "      <td>i am feeling grouchy</td>\n",
              "      <td>anger</td>\n",
              "      <td>0</td>\n",
              "    </tr>\n",
              "  </tbody>\n",
              "</table>\n",
              "</div>"
            ],
            "text/plain": [
              "                                                text  emotion  code\n",
              "0                            i didnt feel humiliated  sadness     4\n",
              "1  i can go from feeling so hopeless to so damned...  sadness     4\n",
              "2   im grabbing a minute to post i feel greedy wrong    anger     0\n",
              "3  i am ever feeling nostalgic about the fireplac...     love     3\n",
              "4                               i am feeling grouchy    anger     0"
            ]
          },
          "metadata": {
            "tags": []
          },
          "execution_count": 14
        }
      ]
    },
    {
      "cell_type": "code",
      "metadata": {
        "colab": {
          "base_uri": "https://localhost:8080/"
        },
        "id": "slX91GRSTs2H",
        "outputId": "45914b7f-6dc6-4c36-8973-150b12fc77db"
      },
      "source": [
        "df.emotion.value_counts()"
      ],
      "execution_count": 15,
      "outputs": [
        {
          "output_type": "execute_result",
          "data": {
            "text/plain": [
              "happy       7029\n",
              "sadness     6265\n",
              "anger       2993\n",
              "fear        2652\n",
              "love        1641\n",
              "surprise     879\n",
              "Name: emotion, dtype: int64"
            ]
          },
          "metadata": {
            "tags": []
          },
          "execution_count": 15
        }
      ]
    },
    {
      "cell_type": "code",
      "metadata": {
        "colab": {
          "base_uri": "https://localhost:8080/",
          "height": 204
        },
        "id": "mwixqx3JU5YX",
        "outputId": "52056eb7-4a33-4a09-a725-8ecb3b157f3b"
      },
      "source": [
        "df.head()"
      ],
      "execution_count": 16,
      "outputs": [
        {
          "output_type": "execute_result",
          "data": {
            "text/html": [
              "<div>\n",
              "<style scoped>\n",
              "    .dataframe tbody tr th:only-of-type {\n",
              "        vertical-align: middle;\n",
              "    }\n",
              "\n",
              "    .dataframe tbody tr th {\n",
              "        vertical-align: top;\n",
              "    }\n",
              "\n",
              "    .dataframe thead th {\n",
              "        text-align: right;\n",
              "    }\n",
              "</style>\n",
              "<table border=\"1\" class=\"dataframe\">\n",
              "  <thead>\n",
              "    <tr style=\"text-align: right;\">\n",
              "      <th></th>\n",
              "      <th>text</th>\n",
              "      <th>emotion</th>\n",
              "      <th>code</th>\n",
              "    </tr>\n",
              "  </thead>\n",
              "  <tbody>\n",
              "    <tr>\n",
              "      <th>0</th>\n",
              "      <td>i didnt feel humiliated</td>\n",
              "      <td>sadness</td>\n",
              "      <td>4</td>\n",
              "    </tr>\n",
              "    <tr>\n",
              "      <th>1</th>\n",
              "      <td>i can go from feeling so hopeless to so damned...</td>\n",
              "      <td>sadness</td>\n",
              "      <td>4</td>\n",
              "    </tr>\n",
              "    <tr>\n",
              "      <th>2</th>\n",
              "      <td>im grabbing a minute to post i feel greedy wrong</td>\n",
              "      <td>anger</td>\n",
              "      <td>0</td>\n",
              "    </tr>\n",
              "    <tr>\n",
              "      <th>3</th>\n",
              "      <td>i am ever feeling nostalgic about the fireplac...</td>\n",
              "      <td>love</td>\n",
              "      <td>3</td>\n",
              "    </tr>\n",
              "    <tr>\n",
              "      <th>4</th>\n",
              "      <td>i am feeling grouchy</td>\n",
              "      <td>anger</td>\n",
              "      <td>0</td>\n",
              "    </tr>\n",
              "  </tbody>\n",
              "</table>\n",
              "</div>"
            ],
            "text/plain": [
              "                                                text  emotion  code\n",
              "0                            i didnt feel humiliated  sadness     4\n",
              "1  i can go from feeling so hopeless to so damned...  sadness     4\n",
              "2   im grabbing a minute to post i feel greedy wrong    anger     0\n",
              "3  i am ever feeling nostalgic about the fireplac...     love     3\n",
              "4                               i am feeling grouchy    anger     0"
            ]
          },
          "metadata": {
            "tags": []
          },
          "execution_count": 16
        }
      ]
    },
    {
      "cell_type": "code",
      "metadata": {
        "colab": {
          "base_uri": "https://localhost:8080/"
        },
        "id": "sB0o4ussXZQX",
        "outputId": "433fe8cb-053a-41f6-911b-e1fb1b238f5a"
      },
      "source": [
        "### Let's tokenize the vocabulary \n",
        "tk = Tokenizer()\n",
        "tk.fit_on_texts(X)\n",
        "vocab_size = len(tk.word_index) + 1\n",
        "print(f'There are {vocab_size} different words in your corpus')\n",
        "X_train_token = tk.texts_to_sequences(X_train)\n",
        "X_test_token = tk.texts_to_sequences(X_test)\n",
        "\n",
        "\n",
        "### Pad your inputs\n",
        "X_train_pad = pad_sequences(X_train_token, maxlen=66, dtype='float32', padding='post' )\n",
        "X_test_pad = pad_sequences(X_test_token, maxlen=66, dtype='float32', padding='post')"
      ],
      "execution_count": 17,
      "outputs": [
        {
          "output_type": "stream",
          "text": [
            "There are 19259 different words in your corpus\n"
          ],
          "name": "stdout"
        }
      ]
    },
    {
      "cell_type": "code",
      "metadata": {
        "colab": {
          "base_uri": "https://localhost:8080/"
        },
        "id": "I_107wleZc8L",
        "outputId": "fcd9cc67-4dc5-47d4-817a-8ed88ade92e1"
      },
      "source": [
        "X_train_pad.shape"
      ],
      "execution_count": 18,
      "outputs": [
        {
          "output_type": "execute_result",
          "data": {
            "text/plain": [
              "(15021, 66)"
            ]
          },
          "metadata": {
            "tags": []
          },
          "execution_count": 18
        }
      ]
    },
    {
      "cell_type": "code",
      "metadata": {
        "colab": {
          "base_uri": "https://localhost:8080/"
        },
        "id": "l9j-y_EEGYP1",
        "outputId": "bcdae3a0-ac1e-49ff-cd00-45d133cc802d"
      },
      "source": [
        "X_test_pad.shape"
      ],
      "execution_count": 19,
      "outputs": [
        {
          "output_type": "execute_result",
          "data": {
            "text/plain": [
              "(6438, 66)"
            ]
          },
          "metadata": {
            "tags": []
          },
          "execution_count": 19
        }
      ]
    },
    {
      "cell_type": "code",
      "metadata": {
        "colab": {
          "base_uri": "https://localhost:8080/"
        },
        "id": "L7qJ4-1HZUb2",
        "outputId": "a7e9df94-a075-4de5-e9a1-c69867329606"
      },
      "source": [
        "vocab_size"
      ],
      "execution_count": 20,
      "outputs": [
        {
          "output_type": "execute_result",
          "data": {
            "text/plain": [
              "19259"
            ]
          },
          "metadata": {
            "tags": []
          },
          "execution_count": 20
        }
      ]
    },
    {
      "cell_type": "code",
      "metadata": {
        "id": "WurP1qgGRhVE"
      },
      "source": [
        "# model.add(layers.Masking(mark_value=-999))"
      ],
      "execution_count": 21,
      "outputs": []
    },
    {
      "cell_type": "code",
      "metadata": {
        "id": "4v_4vdq4RhhQ"
      },
      "source": [
        "import gensim.downloader as api\n",
        "glove_gensim  = api.load('glove-wiki-gigaword-100') #100 dimension"
      ],
      "execution_count": 22,
      "outputs": []
    },
    {
      "cell_type": "code",
      "metadata": {
        "colab": {
          "base_uri": "https://localhost:8080/"
        },
        "id": "zWdpI3omh-4h",
        "outputId": "90e99a70-c88b-4cd3-9c98-5cfd2d7e8a18"
      },
      "source": [
        "# Vectorize\n",
        "vector_size = 100\n",
        "gensim_weight_matrix = np.zeros((vocab_size ,vector_size))\n",
        "gensim_weight_matrix.shape\n",
        "for word, index in tk.word_index.items():\n",
        "    if index < vocab_size: # since index starts with zero \n",
        "        if word in glove_gensim.wv.vocab:\n",
        "            gensim_weight_matrix[index] = glove_gensim[word]\n",
        "        else:\n",
        "            gensim_weight_matrix[index] = np.zeros(100)"
      ],
      "execution_count": 23,
      "outputs": [
        {
          "output_type": "stream",
          "text": [
            "/usr/local/lib/python3.7/dist-packages/ipykernel_launcher.py:7: DeprecationWarning: Call to deprecated `wv` (Attribute will be removed in 4.0.0, use self instead).\n",
            "  import sys\n"
          ],
          "name": "stderr"
        }
      ]
    },
    {
      "cell_type": "code",
      "metadata": {
        "id": "2jdwOXB8iE0o"
      },
      "source": [
        "def create_model(EMBEDDING_DIM = 100): # this means the embedding layer will create  a vector in 100 dimension\n",
        "  model_cnn = Sequential()\n",
        "  model_cnn.add(layers.Embedding(input_dim = vocab_size,# the whole vocabulary size \n",
        "                            output_dim = EMBEDDING_DIM, # vector space dimension\n",
        "                            input_length= X_train_pad.shape[1], # max_len of text sequence\n",
        "                            weights = [gensim_weight_matrix],\n",
        "                            trainable = False,\n",
        "                            mask_zero=True))\n",
        "  model_cnn.add(layers.Conv1D(10, kernel_size=3))\n",
        "  model_cnn.add(layers.Flatten())\n",
        "  #model_cnn.add(layers.Dense(60, activation=\"relu\"))\n",
        "  model_cnn.add(layers.Dense(30, activation=\"relu\"))\n",
        "  model_cnn.add(layers.Dense(6, activation=\"softmax\"))\n",
        "  model_cnn.compile(loss='categorical_crossentropy',\n",
        "              optimizer='adam',\n",
        "              metrics=['accuracy'])\n",
        "  return model_cnn"
      ],
      "execution_count": 24,
      "outputs": []
    },
    {
      "cell_type": "code",
      "metadata": {
        "id": "vxCXQbImkzmx"
      },
      "source": [
        "model = create_model()"
      ],
      "execution_count": 25,
      "outputs": []
    },
    {
      "cell_type": "code",
      "metadata": {
        "colab": {
          "base_uri": "https://localhost:8080/"
        },
        "id": "sa7c5KidlF1l",
        "outputId": "a74b36fb-afb8-43c0-c80b-6b9f09b6200a"
      },
      "source": [
        "model.summary()"
      ],
      "execution_count": 26,
      "outputs": [
        {
          "output_type": "stream",
          "text": [
            "Model: \"sequential\"\n",
            "_________________________________________________________________\n",
            "Layer (type)                 Output Shape              Param #   \n",
            "=================================================================\n",
            "embedding (Embedding)        (None, 66, 100)           1925900   \n",
            "_________________________________________________________________\n",
            "conv1d (Conv1D)              (None, 64, 10)            3010      \n",
            "_________________________________________________________________\n",
            "flatten (Flatten)            (None, 640)               0         \n",
            "_________________________________________________________________\n",
            "dense (Dense)                (None, 30)                19230     \n",
            "_________________________________________________________________\n",
            "dense_1 (Dense)              (None, 6)                 186       \n",
            "=================================================================\n",
            "Total params: 1,948,326\n",
            "Trainable params: 22,426\n",
            "Non-trainable params: 1,925,900\n",
            "_________________________________________________________________\n"
          ],
          "name": "stdout"
        }
      ]
    },
    {
      "cell_type": "code",
      "metadata": {
        "id": "_gYEYv9U_vjK"
      },
      "source": [
        "es = callbacks.EarlyStopping(patience=10, restore_best_weights=True)"
      ],
      "execution_count": 27,
      "outputs": []
    },
    {
      "cell_type": "code",
      "metadata": {
        "colab": {
          "base_uri": "https://localhost:8080/"
        },
        "id": "YjVsF0oclJr3",
        "outputId": "efe7e79f-8083-404f-d6d2-10dbcd19fffb"
      },
      "source": [
        "history = model.fit(X_train_pad, y_train, batch_size=8, epochs=100, verbose=1, validation_split=0.3, callbacks=[es])"
      ],
      "execution_count": 28,
      "outputs": [
        {
          "output_type": "stream",
          "text": [
            "Epoch 1/100\n",
            "1315/1315 [==============================] - 8s 4ms/step - loss: 1.4741 - accuracy: 0.4257 - val_loss: 1.3324 - val_accuracy: 0.5068\n",
            "Epoch 2/100\n",
            "1315/1315 [==============================] - 5s 4ms/step - loss: 1.2644 - accuracy: 0.5244 - val_loss: 1.2751 - val_accuracy: 0.5172\n",
            "Epoch 3/100\n",
            "1315/1315 [==============================] - 5s 3ms/step - loss: 1.1092 - accuracy: 0.5809 - val_loss: 1.1963 - val_accuracy: 0.5536\n",
            "Epoch 4/100\n",
            "1315/1315 [==============================] - 4s 3ms/step - loss: 0.9905 - accuracy: 0.6315 - val_loss: 1.2393 - val_accuracy: 0.5471\n",
            "Epoch 5/100\n",
            "1315/1315 [==============================] - 5s 4ms/step - loss: 0.8851 - accuracy: 0.6731 - val_loss: 1.2938 - val_accuracy: 0.5471\n",
            "Epoch 6/100\n",
            "1315/1315 [==============================] - 5s 4ms/step - loss: 0.8117 - accuracy: 0.6986 - val_loss: 1.3321 - val_accuracy: 0.5531\n",
            "Epoch 7/100\n",
            "1315/1315 [==============================] - 5s 4ms/step - loss: 0.7412 - accuracy: 0.7291 - val_loss: 1.3959 - val_accuracy: 0.5547\n",
            "Epoch 8/100\n",
            "1315/1315 [==============================] - 5s 4ms/step - loss: 0.6880 - accuracy: 0.7491 - val_loss: 1.4524 - val_accuracy: 0.5394\n",
            "Epoch 9/100\n",
            "1315/1315 [==============================] - 5s 4ms/step - loss: 0.6344 - accuracy: 0.7666 - val_loss: 1.5385 - val_accuracy: 0.5332\n",
            "Epoch 10/100\n",
            "1315/1315 [==============================] - 5s 3ms/step - loss: 0.5857 - accuracy: 0.7875 - val_loss: 1.6226 - val_accuracy: 0.5296\n",
            "Epoch 11/100\n",
            "1315/1315 [==============================] - 5s 3ms/step - loss: 0.5472 - accuracy: 0.8060 - val_loss: 1.7463 - val_accuracy: 0.5192\n",
            "Epoch 12/100\n",
            "1315/1315 [==============================] - 5s 4ms/step - loss: 0.5124 - accuracy: 0.8137 - val_loss: 1.7671 - val_accuracy: 0.5418\n",
            "Epoch 13/100\n",
            "1315/1315 [==============================] - 5s 4ms/step - loss: 0.4832 - accuracy: 0.8284 - val_loss: 1.8811 - val_accuracy: 0.5034\n"
          ],
          "name": "stdout"
        }
      ]
    },
    {
      "cell_type": "code",
      "metadata": {
        "colab": {
          "base_uri": "https://localhost:8080/"
        },
        "id": "tudEmJRZESHv",
        "outputId": "71932009-aba0-41fa-aed7-ba32091cbf43"
      },
      "source": [
        "model.evaluate(X_test_pad, y_test)"
      ],
      "execution_count": 29,
      "outputs": [
        {
          "output_type": "stream",
          "text": [
            "202/202 [==============================] - 1s 3ms/step - loss: 1.2210 - accuracy: 0.5463\n"
          ],
          "name": "stdout"
        },
        {
          "output_type": "execute_result",
          "data": {
            "text/plain": [
              "[1.2209725379943848, 0.5462876558303833]"
            ]
          },
          "metadata": {
            "tags": []
          },
          "execution_count": 29
        }
      ]
    },
    {
      "cell_type": "code",
      "metadata": {
        "id": "E6slgk4FHcjd"
      },
      "source": [
        "def create_model2(EMBEDDING_DIM = 100): # this means the embedding layer will create  a vector in 100 dimension\n",
        "  model_cnn = Sequential()\n",
        "  model_cnn.add(layers.Embedding(input_dim = vocab_size,# the whole vocabulary size \n",
        "                            output_dim = EMBEDDING_DIM, # vector space dimension\n",
        "                            input_length= X_train_pad.shape[1], # max_len of text sequence\n",
        "                            weights = [gensim_weight_matrix],\n",
        "                            trainable = False,\n",
        "                            mask_zero=True))\n",
        "  model_cnn.add(layers.Bidirectional(layers.LSTM(100,return_sequences=True)))\n",
        "  model_cnn.add(layers.Bidirectional(layers.LSTM(100,return_sequences=True)))\n",
        "  model_cnn.add(layers.Dropout(.2,))\n",
        "  model_cnn.add(layers.Bidirectional(layers.LSTM(100,return_sequences=False)))\n",
        "  #model_cnn.add(layers.Dense(60, activation=\"relu\"))\n",
        "  model_cnn.add(layers.Dense(30, activation=\"relu\"))\n",
        "  model_cnn.add(layers.Dense(6, activation=\"softmax\"))\n",
        "  model_cnn.compile(loss='categorical_crossentropy',\n",
        "              optimizer='adam',\n",
        "              metrics=['accuracy'])\n",
        "  return model_cnn"
      ],
      "execution_count": 30,
      "outputs": []
    },
    {
      "cell_type": "code",
      "metadata": {
        "id": "zBkx8yQRHuPP"
      },
      "source": [
        "model2 = create_model2()"
      ],
      "execution_count": 31,
      "outputs": []
    },
    {
      "cell_type": "code",
      "metadata": {
        "id": "wCnYdxs3MdK4"
      },
      "source": [
        "es = callbacks.EarlyStopping(patience=3, restore_best_weights=True)"
      ],
      "execution_count": 32,
      "outputs": []
    },
    {
      "cell_type": "code",
      "metadata": {
        "colab": {
          "base_uri": "https://localhost:8080/"
        },
        "id": "nd8dzjwzH0m0",
        "outputId": "3ef2a366-1294-4d01-9e03-f0cbcf336a24"
      },
      "source": [
        "history2 = model2.fit(X_train_pad, y_train, batch_size=8, epochs=10, verbose=1, validation_split=0.3, callbacks=[es])"
      ],
      "execution_count": 33,
      "outputs": [
        {
          "output_type": "stream",
          "text": [
            "Epoch 1/10\n",
            "1315/1315 [==============================] - 75s 43ms/step - loss: 1.3046 - accuracy: 0.5106 - val_loss: 0.9931 - val_accuracy: 0.6399\n",
            "Epoch 2/10\n",
            "1315/1315 [==============================] - 51s 39ms/step - loss: 0.7419 - accuracy: 0.7364 - val_loss: 0.5448 - val_accuracy: 0.8065\n",
            "Epoch 3/10\n",
            "1315/1315 [==============================] - 51s 39ms/step - loss: 0.3971 - accuracy: 0.8628 - val_loss: 0.3886 - val_accuracy: 0.8556\n",
            "Epoch 4/10\n",
            "1315/1315 [==============================] - 50s 38ms/step - loss: 0.2609 - accuracy: 0.9020 - val_loss: 0.3005 - val_accuracy: 0.8937\n",
            "Epoch 5/10\n",
            "1315/1315 [==============================] - 50s 38ms/step - loss: 0.1969 - accuracy: 0.9214 - val_loss: 0.3046 - val_accuracy: 0.8906\n",
            "Epoch 6/10\n",
            "1315/1315 [==============================] - 51s 39ms/step - loss: 0.1544 - accuracy: 0.9313 - val_loss: 0.2405 - val_accuracy: 0.9064\n",
            "Epoch 7/10\n",
            "1315/1315 [==============================] - 51s 39ms/step - loss: 0.1359 - accuracy: 0.9367 - val_loss: 0.2389 - val_accuracy: 0.9079\n",
            "Epoch 8/10\n",
            "1315/1315 [==============================] - 51s 39ms/step - loss: 0.1281 - accuracy: 0.9393 - val_loss: 0.2516 - val_accuracy: 0.9077\n",
            "Epoch 9/10\n",
            "1315/1315 [==============================] - 51s 39ms/step - loss: 0.1068 - accuracy: 0.9495 - val_loss: 0.2593 - val_accuracy: 0.9090\n",
            "Epoch 10/10\n",
            "1315/1315 [==============================] - 51s 38ms/step - loss: 0.1082 - accuracy: 0.9504 - val_loss: 0.2728 - val_accuracy: 0.8997\n"
          ],
          "name": "stdout"
        }
      ]
    },
    {
      "cell_type": "code",
      "metadata": {
        "colab": {
          "base_uri": "https://localhost:8080/"
        },
        "id": "X9Uk4UOtMx1x",
        "outputId": "6956c948-bb86-4e89-ca25-cadf3a14ac34"
      },
      "source": [
        "model2.evaluate(X_test_pad, y_test)"
      ],
      "execution_count": 34,
      "outputs": [
        {
          "output_type": "stream",
          "text": [
            "202/202 [==============================] - 3s 15ms/step - loss: 0.2330 - accuracy: 0.9096\n"
          ],
          "name": "stdout"
        },
        {
          "output_type": "execute_result",
          "data": {
            "text/plain": [
              "[0.23301631212234497, 0.909599244594574]"
            ]
          },
          "metadata": {
            "tags": []
          },
          "execution_count": 34
        }
      ]
    },
    {
      "cell_type": "code",
      "metadata": {
        "id": "uEwy-a_VTJ0h"
      },
      "source": [
        "def create_model3(EMBEDDING_DIM = 100): # this means the embedding layer will create  a vector in 100 dimension\n",
        "  model_cnn = Sequential()\n",
        "  model_cnn.add(layers.Embedding(input_dim = vocab_size,# the whole vocabulary size \n",
        "                            output_dim = EMBEDDING_DIM, # vector space dimension\n",
        "                            input_length= X_train_pad.shape[1], # max_len of text sequence\n",
        "                            weights = [gensim_weight_matrix],\n",
        "                            trainable = False,\n",
        "                            mask_zero=True))\n",
        "  model_cnn.add(layers.Bidirectional(layers.LSTM(100,return_sequences=True)))\n",
        "  model_cnn.add(layers.Dropout(.3,))\n",
        "  model_cnn.add(layers.Bidirectional(layers.LSTM(100,return_sequences=True)))\n",
        "  model_cnn.add(layers.Dropout(.3,))\n",
        "  model_cnn.add(layers.Bidirectional(layers.LSTM(100,return_sequences=False)))\n",
        "  #model_cnn.add(layers.Dense(60, activation=\"relu\"))\n",
        "  model_cnn.add(layers.Dense(30, activation=\"relu\"))\n",
        "  model_cnn.add(layers.Dropout(.3,))\n",
        "  model_cnn.add(layers.Dense(6, activation=\"softmax\"))\n",
        "  model_cnn.compile(loss='categorical_crossentropy',\n",
        "              optimizer='adam',\n",
        "              metrics=['accuracy'])\n",
        "  return model_cnn"
      ],
      "execution_count": 35,
      "outputs": []
    },
    {
      "cell_type": "code",
      "metadata": {
        "id": "qpvHs2CxTMqv"
      },
      "source": [
        "model3 = create_model3()"
      ],
      "execution_count": 36,
      "outputs": []
    },
    {
      "cell_type": "code",
      "metadata": {
        "id": "5WP-nGfdTMtP"
      },
      "source": [
        "es = callbacks.EarlyStopping(patience=3, restore_best_weights=True)"
      ],
      "execution_count": 37,
      "outputs": []
    },
    {
      "cell_type": "code",
      "metadata": {
        "colab": {
          "base_uri": "https://localhost:8080/"
        },
        "id": "f9Mwb_cCTMvo",
        "outputId": "6acdc1e4-c089-4295-b176-6ce781cc4867"
      },
      "source": [
        "history3 = model3.fit(X_train_pad, y_train, batch_size=8, epochs=10, verbose=1, validation_split=0.3, callbacks=[es])"
      ],
      "execution_count": 38,
      "outputs": [
        {
          "output_type": "stream",
          "text": [
            "Epoch 1/10\n",
            "1315/1315 [==============================] - 74s 43ms/step - loss: 1.4445 - accuracy: 0.4402 - val_loss: 1.0787 - val_accuracy: 0.6037\n",
            "Epoch 2/10\n",
            "1315/1315 [==============================] - 51s 39ms/step - loss: 0.9060 - accuracy: 0.6893 - val_loss: 0.6330 - val_accuracy: 0.7948\n",
            "Epoch 3/10\n",
            "1315/1315 [==============================] - 53s 41ms/step - loss: 0.5419 - accuracy: 0.8168 - val_loss: 0.4801 - val_accuracy: 0.8236\n",
            "Epoch 4/10\n",
            "1315/1315 [==============================] - 52s 39ms/step - loss: 0.3748 - accuracy: 0.8736 - val_loss: 0.3344 - val_accuracy: 0.8811\n",
            "Epoch 5/10\n",
            "1315/1315 [==============================] - 51s 39ms/step - loss: 0.2780 - accuracy: 0.8996 - val_loss: 0.3121 - val_accuracy: 0.8855\n",
            "Epoch 6/10\n",
            "1315/1315 [==============================] - 52s 39ms/step - loss: 0.2303 - accuracy: 0.9130 - val_loss: 0.2952 - val_accuracy: 0.8899\n",
            "Epoch 7/10\n",
            "1315/1315 [==============================] - 52s 40ms/step - loss: 0.1987 - accuracy: 0.9220 - val_loss: 0.2766 - val_accuracy: 0.8924\n",
            "Epoch 8/10\n",
            "1315/1315 [==============================] - 52s 39ms/step - loss: 0.1801 - accuracy: 0.9232 - val_loss: 0.2604 - val_accuracy: 0.8997\n",
            "Epoch 9/10\n",
            "1315/1315 [==============================] - 52s 39ms/step - loss: 0.1578 - accuracy: 0.9339 - val_loss: 0.2667 - val_accuracy: 0.9050\n",
            "Epoch 10/10\n",
            "1315/1315 [==============================] - 51s 39ms/step - loss: 0.1457 - accuracy: 0.9369 - val_loss: 0.2589 - val_accuracy: 0.9050\n"
          ],
          "name": "stdout"
        }
      ]
    },
    {
      "cell_type": "code",
      "metadata": {
        "colab": {
          "base_uri": "https://localhost:8080/"
        },
        "id": "cAHPQt62Vlio",
        "outputId": "d36598e5-b533-4ab4-9eb7-8b8025bd2622"
      },
      "source": [
        "model3.evaluate(X_test_pad, y_test)"
      ],
      "execution_count": 39,
      "outputs": [
        {
          "output_type": "stream",
          "text": [
            "202/202 [==============================] - 3s 15ms/step - loss: 0.2447 - accuracy: 0.9104\n"
          ],
          "name": "stdout"
        },
        {
          "output_type": "execute_result",
          "data": {
            "text/plain": [
              "[0.2446947693824768, 0.9103758931159973]"
            ]
          },
          "metadata": {
            "tags": []
          },
          "execution_count": 39
        }
      ]
    },
    {
      "cell_type": "code",
      "metadata": {
        "colab": {
          "base_uri": "https://localhost:8080/"
        },
        "id": "9J_VRrr7iMrS",
        "outputId": "c0d429c7-0d9c-40eb-debd-6b78f003cdf7"
      },
      "source": [
        "models.save_model(\n",
        "    model, filepath='/Users/keirferguson/code/keir20/book-woofer/models'\n",
        ")"
      ],
      "execution_count": 50,
      "outputs": [
        {
          "output_type": "stream",
          "text": [
            "INFO:tensorflow:Assets written to: /Users/keirferguson/code/keir20/book-woofer/models/assets\n"
          ],
          "name": "stdout"
        }
      ]
    },
    {
      "cell_type": "code",
      "metadata": {
        "colab": {
          "base_uri": "https://localhost:8080/"
        },
        "id": "_yy8wVvFiNsC",
        "outputId": "eb596efc-0f82-4b01-f34d-7f33ff9118a4"
      },
      "source": [
        "models.save_model(\n",
        "    model2, filepath='/Users/keirferguson/code/keir20/book-woofer/models'\n",
        ")"
      ],
      "execution_count": 51,
      "outputs": [
        {
          "output_type": "stream",
          "text": [
            "WARNING:absl:Found untraced functions such as lstm_cell_1_layer_call_fn, lstm_cell_1_layer_call_and_return_conditional_losses, lstm_cell_2_layer_call_fn, lstm_cell_2_layer_call_and_return_conditional_losses, lstm_cell_4_layer_call_fn while saving (showing 5 of 30). These functions will not be directly callable after loading.\n"
          ],
          "name": "stderr"
        },
        {
          "output_type": "stream",
          "text": [
            "INFO:tensorflow:Assets written to: /Users/keirferguson/code/keir20/book-woofer/models/assets\n"
          ],
          "name": "stdout"
        },
        {
          "output_type": "stream",
          "text": [
            "INFO:tensorflow:Assets written to: /Users/keirferguson/code/keir20/book-woofer/models/assets\n"
          ],
          "name": "stderr"
        }
      ]
    },
    {
      "cell_type": "code",
      "metadata": {
        "colab": {
          "base_uri": "https://localhost:8080/"
        },
        "id": "QIxCp3UsiN7O",
        "outputId": "a159f6db-4bc2-4f11-9dd5-92a5e7452a11"
      },
      "source": [
        "models.save_model(\n",
        "    model3, filepath='/Users/keirferguson/code/keir20/book-woofer/models'\n",
        ")"
      ],
      "execution_count": 52,
      "outputs": [
        {
          "output_type": "stream",
          "text": [
            "WARNING:absl:Found untraced functions such as lstm_cell_10_layer_call_fn, lstm_cell_10_layer_call_and_return_conditional_losses, lstm_cell_11_layer_call_fn, lstm_cell_11_layer_call_and_return_conditional_losses, lstm_cell_13_layer_call_fn while saving (showing 5 of 30). These functions will not be directly callable after loading.\n"
          ],
          "name": "stderr"
        },
        {
          "output_type": "stream",
          "text": [
            "INFO:tensorflow:Assets written to: /Users/keirferguson/code/keir20/book-woofer/models/assets\n"
          ],
          "name": "stdout"
        },
        {
          "output_type": "stream",
          "text": [
            "INFO:tensorflow:Assets written to: /Users/keirferguson/code/keir20/book-woofer/models/assets\n"
          ],
          "name": "stderr"
        }
      ]
    },
    {
      "cell_type": "code",
      "metadata": {
        "id": "86ZSk0_0YknZ"
      },
      "source": [
        "def get_key(value):\n",
        "    dictionary={'anger':0,'fear':1,'happy':2,'love':3,'sadness':4,'surprise':5}\n",
        "    for key,val in dictionary.items():\n",
        "          if (val==value):\n",
        "            return key"
      ],
      "execution_count": 53,
      "outputs": []
    },
    {
      "cell_type": "code",
      "metadata": {
        "id": "o5uhm21WY2Ti"
      },
      "source": [
        "# def predict(sentence):\n",
        "#     sentence_lst=[]\n",
        "#     sentence_lst.append(sentence)\n",
        "#     sentence_seq=tk.texts_to_sequences(sentence_lst)\n",
        "#     sentence_padded=pad_sequences(sentence_seq,maxlen=300,padding='post')\n",
        "#     ans=get_key(model.predict_classes(sentence_padded))\n",
        "#     print(\"The emotion predicted is\",ans)\n",
        "\n",
        "\n",
        "def predict(sentence):\n",
        "    sentence_lst=[]\n",
        "    sentence_lst.append(sentence)\n",
        "    sentence_seq=tk.texts_to_sequences(sentence_lst)\n",
        "    sentence_padded=pad_sequences(sentence_seq,maxlen=300,padding='post')\n",
        "    ans=model3.predict(sentence_padded)\n",
        "    print(\"The emotion predicted is\",ans)\n"
      ],
      "execution_count": 86,
      "outputs": []
    },
    {
      "cell_type": "code",
      "metadata": {
        "colab": {
          "base_uri": "https://localhost:8080/"
        },
        "id": "Xc2dQUq1Y4n_",
        "outputId": "7368bbcd-2f4d-4b84-ec18-f0a0c75fdc88"
      },
      "source": [
        "predict(str(input('Enter a sentence : ')))"
      ],
      "execution_count": 87,
      "outputs": [
        {
          "output_type": "stream",
          "text": [
            "Enter a sentence : The grown-ups advised me to set drawings of open or closed boa constrictors aside, and to concentrate instead on geography, history, mathematics and grammar. So it was, at the age of six, that I abandoned a magnificent career as a painter. I’d been discouraged by the failure of my drawing number 1 and my drawing number 2. Grown-ups never understand anything on their own, and it’s tiring, for children, to be for ever and ever explaining…\n",
            "The emotion predicted is [[0.5395469  0.12869728 0.2298384  0.00785758 0.04694536 0.04711451]]\n"
          ],
          "name": "stdout"
        }
      ]
    },
    {
      "cell_type": "code",
      "metadata": {
        "id": "A8j0inbqHJoW"
      },
      "source": [
        "# bi directional lstm\n",
        "# dropout layers\n",
        "# model.add(Bidirectional(LSTM(100,return_sequences=True)))"
      ],
      "execution_count": 63,
      "outputs": []
    },
    {
      "cell_type": "code",
      "metadata": {
        "colab": {
          "base_uri": "https://localhost:8080/",
          "height": 669
        },
        "id": "4orWtcuek1mX",
        "outputId": "c792f698-824d-410c-8c82-a870c33040df"
      },
      "source": [
        "df.head(20)"
      ],
      "execution_count": 65,
      "outputs": [
        {
          "output_type": "execute_result",
          "data": {
            "text/html": [
              "<div>\n",
              "<style scoped>\n",
              "    .dataframe tbody tr th:only-of-type {\n",
              "        vertical-align: middle;\n",
              "    }\n",
              "\n",
              "    .dataframe tbody tr th {\n",
              "        vertical-align: top;\n",
              "    }\n",
              "\n",
              "    .dataframe thead th {\n",
              "        text-align: right;\n",
              "    }\n",
              "</style>\n",
              "<table border=\"1\" class=\"dataframe\">\n",
              "  <thead>\n",
              "    <tr style=\"text-align: right;\">\n",
              "      <th></th>\n",
              "      <th>text</th>\n",
              "      <th>emotion</th>\n",
              "      <th>code</th>\n",
              "    </tr>\n",
              "  </thead>\n",
              "  <tbody>\n",
              "    <tr>\n",
              "      <th>0</th>\n",
              "      <td>i didnt feel humiliated</td>\n",
              "      <td>sadness</td>\n",
              "      <td>4</td>\n",
              "    </tr>\n",
              "    <tr>\n",
              "      <th>1</th>\n",
              "      <td>i can go from feeling so hopeless to so damned...</td>\n",
              "      <td>sadness</td>\n",
              "      <td>4</td>\n",
              "    </tr>\n",
              "    <tr>\n",
              "      <th>2</th>\n",
              "      <td>im grabbing a minute to post i feel greedy wrong</td>\n",
              "      <td>anger</td>\n",
              "      <td>0</td>\n",
              "    </tr>\n",
              "    <tr>\n",
              "      <th>3</th>\n",
              "      <td>i am ever feeling nostalgic about the fireplac...</td>\n",
              "      <td>love</td>\n",
              "      <td>3</td>\n",
              "    </tr>\n",
              "    <tr>\n",
              "      <th>4</th>\n",
              "      <td>i am feeling grouchy</td>\n",
              "      <td>anger</td>\n",
              "      <td>0</td>\n",
              "    </tr>\n",
              "    <tr>\n",
              "      <th>5</th>\n",
              "      <td>ive been feeling a little burdened lately wasn...</td>\n",
              "      <td>sadness</td>\n",
              "      <td>4</td>\n",
              "    </tr>\n",
              "    <tr>\n",
              "      <th>6</th>\n",
              "      <td>ive been taking or milligrams or times recomme...</td>\n",
              "      <td>surprise</td>\n",
              "      <td>5</td>\n",
              "    </tr>\n",
              "    <tr>\n",
              "      <th>7</th>\n",
              "      <td>i feel as confused about life as a teenager or...</td>\n",
              "      <td>fear</td>\n",
              "      <td>1</td>\n",
              "    </tr>\n",
              "    <tr>\n",
              "      <th>8</th>\n",
              "      <td>i have been with petronas for years i feel tha...</td>\n",
              "      <td>happy</td>\n",
              "      <td>2</td>\n",
              "    </tr>\n",
              "    <tr>\n",
              "      <th>9</th>\n",
              "      <td>i feel romantic too</td>\n",
              "      <td>love</td>\n",
              "      <td>3</td>\n",
              "    </tr>\n",
              "    <tr>\n",
              "      <th>10</th>\n",
              "      <td>i feel like i have to make the suffering i m s...</td>\n",
              "      <td>sadness</td>\n",
              "      <td>4</td>\n",
              "    </tr>\n",
              "    <tr>\n",
              "      <th>11</th>\n",
              "      <td>i do feel that running is a divine experience ...</td>\n",
              "      <td>happy</td>\n",
              "      <td>2</td>\n",
              "    </tr>\n",
              "    <tr>\n",
              "      <th>12</th>\n",
              "      <td>i think it s the easiest time of year to feel ...</td>\n",
              "      <td>anger</td>\n",
              "      <td>0</td>\n",
              "    </tr>\n",
              "    <tr>\n",
              "      <th>13</th>\n",
              "      <td>i feel low energy i m just thirsty</td>\n",
              "      <td>sadness</td>\n",
              "      <td>4</td>\n",
              "    </tr>\n",
              "    <tr>\n",
              "      <th>14</th>\n",
              "      <td>i have immense sympathy with the general point...</td>\n",
              "      <td>happy</td>\n",
              "      <td>2</td>\n",
              "    </tr>\n",
              "    <tr>\n",
              "      <th>15</th>\n",
              "      <td>i do not feel reassured anxiety is on each side</td>\n",
              "      <td>happy</td>\n",
              "      <td>2</td>\n",
              "    </tr>\n",
              "    <tr>\n",
              "      <th>16</th>\n",
              "      <td>i didnt really feel that embarrassed</td>\n",
              "      <td>sadness</td>\n",
              "      <td>4</td>\n",
              "    </tr>\n",
              "    <tr>\n",
              "      <th>17</th>\n",
              "      <td>i feel pretty pathetic most of the time</td>\n",
              "      <td>sadness</td>\n",
              "      <td>4</td>\n",
              "    </tr>\n",
              "    <tr>\n",
              "      <th>18</th>\n",
              "      <td>i started feeling sentimental about dolls i ha...</td>\n",
              "      <td>sadness</td>\n",
              "      <td>4</td>\n",
              "    </tr>\n",
              "    <tr>\n",
              "      <th>19</th>\n",
              "      <td>i now feel compromised and skeptical of the va...</td>\n",
              "      <td>fear</td>\n",
              "      <td>1</td>\n",
              "    </tr>\n",
              "  </tbody>\n",
              "</table>\n",
              "</div>"
            ],
            "text/plain": [
              "                                                 text   emotion  code\n",
              "0                             i didnt feel humiliated   sadness     4\n",
              "1   i can go from feeling so hopeless to so damned...   sadness     4\n",
              "2    im grabbing a minute to post i feel greedy wrong     anger     0\n",
              "3   i am ever feeling nostalgic about the fireplac...      love     3\n",
              "4                                i am feeling grouchy     anger     0\n",
              "5   ive been feeling a little burdened lately wasn...   sadness     4\n",
              "6   ive been taking or milligrams or times recomme...  surprise     5\n",
              "7   i feel as confused about life as a teenager or...      fear     1\n",
              "8   i have been with petronas for years i feel tha...     happy     2\n",
              "9                                 i feel romantic too      love     3\n",
              "10  i feel like i have to make the suffering i m s...   sadness     4\n",
              "11  i do feel that running is a divine experience ...     happy     2\n",
              "12  i think it s the easiest time of year to feel ...     anger     0\n",
              "13                 i feel low energy i m just thirsty   sadness     4\n",
              "14  i have immense sympathy with the general point...     happy     2\n",
              "15    i do not feel reassured anxiety is on each side     happy     2\n",
              "16               i didnt really feel that embarrassed   sadness     4\n",
              "17            i feel pretty pathetic most of the time   sadness     4\n",
              "18  i started feeling sentimental about dolls i ha...   sadness     4\n",
              "19  i now feel compromised and skeptical of the va...      fear     1"
            ]
          },
          "metadata": {
            "tags": []
          },
          "execution_count": 65
        }
      ]
    },
    {
      "cell_type": "code",
      "metadata": {
        "id": "RCeoSryJmO8F"
      },
      "source": [
        ""
      ],
      "execution_count": null,
      "outputs": []
    }
  ]
}