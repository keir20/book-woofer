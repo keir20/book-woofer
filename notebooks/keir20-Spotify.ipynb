{
 "cells": [
  {
   "cell_type": "markdown",
   "id": "3ac2cc55",
   "metadata": {},
   "source": [
    "# Spotify API\n"
   ]
  },
  {
   "cell_type": "code",
   "execution_count": 60,
   "id": "369c4f92",
   "metadata": {},
   "outputs": [],
   "source": [
    "import os\n",
    "import pandas as pd\n",
    "import numpy as np\n",
    "import json\n",
    "import matplotlib.pyplot as plt\n",
    "import seaborn as sns\n",
    "%config InlineBackend.figure_format ='retina'\n",
    "import spotipy\n",
    "import spotipy.util as util\n",
    "from spotipy.oauth2 import SpotifyClientCredentials, SpotifyOAuth\n",
    "from spotipy import oauth2\n",
    "import random\n",
    "from functools import reduce\n",
    "import requests\n",
    "from spotify.spotify_creds import SPOTIFY_CLIENT_ID, SPOTIFY_CLIENT_SECRET, SPOTIFY_USER, SPOTIFY_REDIRECT_URI\n",
    "import streamlit as st\n",
    "import streamlit.components.v1 as components"
   ]
  },
  {
   "cell_type": "markdown",
   "id": "dca0688c",
   "metadata": {},
   "source": [
    "## Authentification\n"
   ]
  },
  {
   "cell_type": "code",
   "execution_count": 2,
   "id": "ca29c19d",
   "metadata": {},
   "outputs": [],
   "source": [
    "# ID and password\n",
    "cid = SPOTIFY_CLIENT_ID\n",
    "secret = SPOTIFY_CLIENT_SECRET\n",
    "username = SPOTIFY_USER\n",
    "uri = SPOTIFY_REDIRECT_URI\n",
    "scope = 'user-read-private user-read-email'"
   ]
  },
  {
   "cell_type": "code",
   "execution_count": 3,
   "id": "75216aa8",
   "metadata": {},
   "outputs": [],
   "source": [
    "client_credentials_manager = SpotifyClientCredentials(client_id=cid, client_secret=secret)\n",
    "sp = spotipy.Spotify(client_credentials_manager=client_credentials_manager)"
   ]
  },
  {
   "cell_type": "code",
   "execution_count": 4,
   "id": "1a49814f",
   "metadata": {},
   "outputs": [],
   "source": [
    "# sp = spotipy.Spotify(auth_manager=SpotifyClientCredentials(client_id=\"YOUR_APP_CLIENT_ID\",\n",
    "#                                                            client_secret=\"YOUR_APP_CLIENT_SECRET\"))\n",
    "\n",
    "# results = sp.search(q='bicep', limit=20)\n",
    "# for idx, track in enumerate(results['tracks']['items']):\n",
    "#     print(idx, track['name'])"
   ]
  },
  {
   "cell_type": "code",
   "execution_count": 5,
   "id": "58a56e64",
   "metadata": {},
   "outputs": [],
   "source": [
    "# sp = spotipy.Spotify(auth_manager=SpotifyOAuth(client_id=cid,\n",
    "#                                                client_secret=secret,\n",
    "#                                                redirect_uri=uri,\n",
    "#                                                scope=scope))\n",
    "\n",
    "# results = sp.current_user_saved_tracks()\n",
    "# for idx, item in enumerate(results['items']):\n",
    "#     track = item['track']\n",
    "#     print(idx, track['artists'][0]['name'], \" – \", track['name'])"
   ]
  },
  {
   "cell_type": "code",
   "execution_count": 6,
   "id": "206cb1ca",
   "metadata": {},
   "outputs": [],
   "source": [
    "def spotify_authentification():\n",
    "    \"\"\"\n",
    "    Api authentification using requests\n",
    "    \"\"\"\n",
    "    AUTH_URL = 'https://accounts.spotify.com/api/token'\n",
    "\n",
    "    # POST\n",
    "    auth_response = requests.post(AUTH_URL, {\n",
    "        'grant_type': 'client_credentials',\n",
    "        'client_id': cid,\n",
    "        'client_secret': secret,\n",
    "    })\n",
    "\n",
    "    # convert the response to JSON\n",
    "    auth_response_data = auth_response.json()\n",
    "\n",
    "    # save the access token\n",
    "    access_token = auth_response_data['access_token']\n",
    "\n",
    "    headers = {\n",
    "        'Authorization': 'Bearer {token}'.format(token=access_token)\n",
    "    }\n",
    "    return headers\n",
    "\n",
    "headers = spotify_authentification()"
   ]
  },
  {
   "cell_type": "markdown",
   "id": "5722a494",
   "metadata": {},
   "source": [
    "## Playlist function"
   ]
  },
  {
   "cell_type": "code",
   "execution_count": 52,
   "id": "4557a330",
   "metadata": {},
   "outputs": [
    {
     "data": {
      "text/plain": [
       "['https://open.spotify.com/playlist/7xOHp3ZlSBJNJOgsQwF85S']"
      ]
     },
     "execution_count": 52,
     "metadata": {},
     "output_type": "execute_result"
    }
   ],
   "source": [
    "def select_and_play(feeling):\n",
    "    happiness = sp.playlist(playlist_id = '2oFSJfwxmLUqZUU4SgD0I7?si=671d061cbcfc4810')\n",
    "    sadness = sp.playlist(playlist_id = '0LbtLlb9G4M7TFi8OsDYMg?si=f6cf8536ee3c4e6f')\n",
    "    #neutral\n",
    "    worry = sp.playlist(playlist_id = '06Gh1LqdIfG1HMHKa44B7k?si=ad744fcfa57c4be3') #Same playlist as fear\n",
    "    love = sp.playlist(playlist_id = '37i9dQZF1DX7rOY2tZUw1k?si=88404786a9ae4cc6')\n",
    "    anger = sp.playlist(playlist_id = '5c5NfSIO6bMrUSoCZKMudz?si=211e93362660427b')\n",
    "    #surprise\n",
    "    fear = sp.playlist(playlist_id = '06Gh1LqdIfG1HMHKa44B7k?si=ad744fcfa57c4be3')#same playlist as worry\n",
    "    fun = sp.playlist(playlist_id = '7xOHp3ZlSBJNJOgsQwF85S?si=f04c656c9241412b')\n",
    "    relief = sp.playlist(playlist_id = '37i9dQZF1DWXe9gFZP0gtP?si=cefe9eafc2e14d8d')\n",
    "    hate = sp.playlist(playlist_id = '4OGYlQGUpMY6EZsmFdiJ1e?si=0252727c471f41e8')\n",
    "    enthusiasm = sp.playlist(playlist_id = '5t0hWEUHZ89a8jzBulvuvY?si=3dd98c1bb2c24bb2')\n",
    "    boredom = sp.playlist(playlist_id = '37i9dQZF1DWWQRwui0ExPn?si=575ab13eac8c418f')\n",
    "    feeling_playlists = [happiness, sadness, worry, love, anger, fear, fun, relief, hate, enthusiasm, boredom]\n",
    "    d= {'happy':happiness, 'sad':sadness, 'worry':worry, 'love':love, \n",
    "        'anger':anger, 'fear':fear, 'fun':fun, \n",
    "        'relief': relief, 'hate':hate, 'enthusiasm':enthusiasm,\n",
    "        'boredom':boredom\n",
    "       }\n",
    "    return list(d[feeling].get('external_urls').values())\n",
    "#     for i in feeling_playlists:\n",
    "#         if i == str(feeling):\n",
    "#             return i.get('external_urls').values()\n",
    "select_and_play('fun')"
   ]
  },
  {
   "cell_type": "code",
   "execution_count": 44,
   "id": "b7adb076",
   "metadata": {},
   "outputs": [
    {
     "data": {
      "text/plain": [
       "{'spotify': 'https://open.spotify.com/playlist/7xOHp3ZlSBJNJOgsQwF85S'}"
      ]
     },
     "execution_count": 44,
     "metadata": {},
     "output_type": "execute_result"
    }
   ],
   "source": [
    "select_and_play('fun')"
   ]
  },
  {
   "cell_type": "code",
   "execution_count": 26,
   "id": "0dcef16a",
   "metadata": {},
   "outputs": [],
   "source": [
    "def select_and_play_second(feeling):\n",
    "    happy = '2oFSJfwxmLUqZUU4SgD0I7?si=671d061cbcfc4810'\n",
    "    sad = '0LbtLlb9G4M7TFi8OsDYMg?si=f6cf8536ee3c4e6f'\n",
    "    #neutral\n",
    "    worry = '06Gh1LqdIfG1HMHKa44B7k?si=ad744fcfa57c4be3' #Same playlist as fear\n",
    "    love = '37i9dQZF1DX7rOY2tZUw1k?si=88404786a9ae4cc6'\n",
    "    anger = '5c5NfSIO6bMrUSoCZKMudz?si=211e93362660427b'\n",
    "    #surprise\n",
    "    fear = '06Gh1LqdIfG1HMHKa44B7k?si=ad744fcfa57c4be3' #same playlist as worry\n",
    "    fun = '7xOHp3ZlSBJNJOgsQwF85S?si=f04c656c9241412b'\n",
    "    relief = '37i9dQZF1DWXe9gFZP0gtP?si=cefe9eafc2e14d8d'\n",
    "    hate = '4OGYlQGUpMY6EZsmFdiJ1e?si=0252727c471f41e8'\n",
    "    enthusiasm = '5t0hWEUHZ89a8jzBulvuvY?si=3dd98c1bb2c24bb2'\n",
    "    boredom = '37i9dQZF1DWWQRwui0ExPn?si=575ab13eac8c418f'\n",
    "    d= {'happy':happy, 'sad':sad, 'worry':worry, 'love':love, \n",
    "        'anger':anger, 'fear':fear, 'fun':fun, \n",
    "        'relief': relief, 'hate':hate, 'enthusiasm':enthusiasm,\n",
    "        'boredom':boredom\n",
    "       }\n",
    "    return d[feeling]\n",
    "#     for i in feeling_playlists_2:\n",
    "#         if i == feeling:\n",
    "#             return i"
   ]
  },
  {
   "cell_type": "code",
   "execution_count": 53,
   "id": "60b4918c",
   "metadata": {},
   "outputs": [
    {
     "data": {
      "text/plain": [
       "'0LbtLlb9G4M7TFi8OsDYMg?si=f6cf8536ee3c4e6f'"
      ]
     },
     "execution_count": 53,
     "metadata": {},
     "output_type": "execute_result"
    }
   ],
   "source": [
    "select_and_play_second('sad')"
   ]
  },
  {
   "cell_type": "code",
   "execution_count": 62,
   "id": "72d54051",
   "metadata": {},
   "outputs": [],
   "source": [
    "def select_and_play(feeling):\n",
    "    happy = 'https://open.spotify.com/playlist/556ICk4gRzDknRfWGeQ3x1?si=317b09e2dc4b45f3'\n",
    "    sad = 'https://open.spotify.com/playlist/0dRxDrR1PfZMlVbfnuBRbR?si=1c1095aff5cf4b24'\n",
    "    anger = 'https://open.spotify.com/playlist/7FjP7MbRgFYFdv5avuhiBI?si=4289f7bbaa1243af'\n",
    "    enthusiasm = 'https://open.spotify.com/playlist/4JsAKbWk4AoBcfpSs2afOM?si=d578284db05845ca'\n",
    "    empty = 'https://open.spotify.com/playlist/77OpFLSdLy3nC9huQIXlxk?si=205fa8c2b1d24e8d'\n",
    "    boredom = 'https://open.spotify.com/playlist/2rA0wLILuvNuLhAacn4kth?si=9ec06d60f5b14c53'\n",
    "    worry = 'https://open.spotify.com/playlist/5Dt93qIXccZvZbU6r3oIbs?si=061a1e6b521b422f'\n",
    "    love = 'https://open.spotify.com/playlist/73KuPUAtOecLDAetRn80TW?si=dda2764abcde4498'\n",
    "    surprise = 'https://open.spotify.com/playlist/0BaRZECQEqp4zDd0Njzlj1?si=d943c1a27fec45df'\n",
    "    fun = 'https://open.spotify.com/playlist/7HwdXmzNKXBzTAisOKYVsJ?si=6f73860860db49d1'\n",
    "    relief = 'https://open.spotify.com/playlist/2zaAFRdI6lEaX8Esc11XPZ?si=b4ea70e95eca4506'\n",
    "    hate = 'https://open.spotify.com/playlist/6vdOF3ZRqiYimqEm4lk98V?si=eb11df3e48b44e4e'\n",
    "    neutral = 'https://open.spotify.com/playlist/5pSdjjPHbXpbqFJGf31Ksn?si=8a2e9c4bf0e04ef5'\n",
    "\n",
    "    d= {'happy':happy, 'sad':sad, 'worry':worry, 'love':love, \n",
    "        'anger':anger, 'fun':fun, 'relief': relief, 'empty':empty,\n",
    "        'hate':hate, 'enthusiasm':enthusiasm, 'surprise':surprise,\n",
    "        'boredom':boredom, 'neutral':neutral\n",
    "       }\n",
    "    \n",
    "    mood = d[feeling]\n",
    "    \n",
    "    return components.html(\n",
    "                f'<iframe src=\"{mood}\" width=\"300\" height=\"380\" frameborder=\"0\" allowtransparency=\"true\" allow=\"encrypted-media\"></iframe>',\n",
    "                height=600\n",
    "                )\n"
   ]
  },
  {
   "cell_type": "code",
   "execution_count": 63,
   "id": "078de09f",
   "metadata": {},
   "outputs": [
    {
     "name": "stderr",
     "output_type": "stream",
     "text": [
      "2021-06-08 12:32:13.988 WARNING root: \n",
      "  \u001b[33m\u001b[1mWarning:\u001b[0m to view this Streamlit app on a browser, run it with the following\n",
      "  command:\n",
      "\n",
      "    streamlit run /Users/keirferguson/.pyenv/versions/3.8.6/envs/lewagon/lib/python3.8/site-packages/ipykernel_launcher.py [ARGUMENTS]\n"
     ]
    },
    {
     "data": {
      "text/plain": [
       "DeltaGenerator(_root_container=0, _provided_cursor=None, _parent=None, _block_type=None, _form_data=None)"
      ]
     },
     "execution_count": 63,
     "metadata": {},
     "output_type": "execute_result"
    }
   ],
   "source": [
    "components.html(\n",
    "        f'<iframe src=\"https://open.spotify.com/playlist/2rA0wLILuvNuLhAacn4kth?si=9ec06d60f5b14c53\" width=\"300\" height=\"380\" frameborder=\"0\" allowtransparency=\"true\" allow=\"encrypted-media\"></iframe>',\n",
    "    height=600\n",
    ")"
   ]
  },
  {
   "cell_type": "markdown",
   "id": "9a06d65d",
   "metadata": {},
   "source": [
    "## Putting it together"
   ]
  },
  {
   "cell_type": "code",
   "execution_count": null,
   "id": "3a1c8891",
   "metadata": {},
   "outputs": [],
   "source": [
    "try:\n",
    "    token = util.prompt_for_user_token(username, scope) # add scope\n",
    "except (AttributeError, JSONDecodeError):\n",
    "    os.remove(f\".cache-{username}\")\n",
    "    token = util.prompt_for_user_token(username, scope) # add scope\n",
    "\n",
    "# Create our spotify object with permissions\n",
    "spotifyObject = spotipy.Spotify(auth=token)"
   ]
  },
  {
   "cell_type": "code",
   "execution_count": null,
   "id": "1dac8570",
   "metadata": {},
   "outputs": [],
   "source": [
    "# Current track information\n",
    "track = spotifyObject.current_user_playing_track()\n",
    "artist = track['item']['artists'][0]['name']\n",
    "track = track['item']['name']\n",
    "\n",
    "if artist != \"\":\n",
    "    print(\"Currently playing \" + artist + \" - \" + track)"
   ]
  },
  {
   "cell_type": "code",
   "execution_count": null,
   "id": "66477137",
   "metadata": {},
   "outputs": [],
   "source": [
    "#User information\n",
    "user = spotifyObject.current_user()\n",
    "displayName = user['display_name']\n",
    "followers = user['followers']['total']"
   ]
  },
  {
   "cell_type": "code",
   "execution_count": null,
   "id": "3a2e1032",
   "metadata": {},
   "outputs": [],
   "source": [
    "# Loop\n",
    "while True:\n",
    "    # Main Menu\n",
    "    print()\n",
    "    print(\">>> Welcome to Spotipy \" + displayName + \"!\")\n",
    "    print(\">>> You have \" + str(followers) + \" followers.\")\n",
    "    print()\n",
    "    print(\"0 - Search for an artist\")\n",
    "    print(\"1 - exit\")\n",
    "    print()\n",
    "    choice = input(\"Your choice: \")\n",
    "\n",
    "    if choice == \"0\":\n",
    "        print()\n",
    "        searchQuery = input(\"Ok, what's their name?: \")\n",
    "        print()\n",
    "\n",
    "        # Get search results\n",
    "        searchResults = spotifyObject.search(searchQuery,1,0,\"artist\")\n",
    "\n",
    "        # Artist details\n",
    "        artist = searchResults['artists']['items'][0]\n",
    "        print(artist['name'])\n",
    "        print(str(artist['followers']['total']) + \" followers\")\n",
    "        print(artist['genres'][0])\n",
    "        print()\n",
    "        #webbrowser.open(artist['images'][0]['url'])\n",
    "        artistID = artist['id']\n",
    "\n",
    "\n",
    "        # Album and track details\n",
    "        trackURIs = []\n",
    "        trackArt = []\n",
    "        z = 0\n",
    "\n",
    "        # Extract album data\n",
    "        albumResults = spotifyObject.artist_albums(artistID)\n",
    "        albumResults = albumResults['items']\n",
    "\n",
    "        for item in albumResults:\n",
    "            print(\"ALBUM: \" + item['name'])\n",
    "            albumID = item['id']\n",
    "            albumArt = item['images'][0]['url']\n",
    "\n",
    "            # Extract track data\n",
    "            trackResults = spotifyObject.album_tracks(albumID)\n",
    "            trackResults = trackResults['items']\n",
    "\n",
    "            for item in trackResults:\n",
    "                print(str(z) + \": \" + item['name'])\n",
    "                trackURIs.append(item['uri'])\n",
    "                trackArt.append(albumArt)\n",
    "                z+=1\n",
    "            print()\n",
    "\n",
    "        # See album art\n",
    "        while True:\n",
    "            songSelection = input(\"Enter a song number to see album art and play the song (x to exit): \") # and play the song\n",
    "            if songSelection == \"x\":\n",
    "                break\n",
    "            trackSelectionList = []\n",
    "            trackSelectionList.append(trackURIs[int(songSelection)])\n",
    "            spotifyObject.start_playback(deviceID, None, trackSelectionList) # added\n",
    "            #webbrowser.open(trackArt[int(songSelection)])\n",
    "\n",
    "    if choice == \"1\":\n",
    "        break\n"
   ]
  }
 ],
 "metadata": {
  "kernelspec": {
   "display_name": "Python 3",
   "language": "python",
   "name": "python3"
  },
  "language_info": {
   "codemirror_mode": {
    "name": "ipython",
    "version": 3
   },
   "file_extension": ".py",
   "mimetype": "text/x-python",
   "name": "python",
   "nbconvert_exporter": "python",
   "pygments_lexer": "ipython3",
   "version": "3.8.6"
  },
  "toc": {
   "base_numbering": 1,
   "nav_menu": {},
   "number_sections": true,
   "sideBar": true,
   "skip_h1_title": false,
   "title_cell": "Table of Contents",
   "title_sidebar": "Contents",
   "toc_cell": false,
   "toc_position": {},
   "toc_section_display": true,
   "toc_window_display": false
  }
 },
 "nbformat": 4,
 "nbformat_minor": 5
}
