{
  "nbformat": 4,
  "nbformat_minor": 0,
  "metadata": {
    "colab": {
      "name": "Ebu_Word2Vec_Model.ipynb",
      "provenance": [],
      "collapsed_sections": [
        "DmdBnx5PCpxh",
        "M_iRAL7UCX8K",
        "Mnk3Z8Y4CIb0",
        "8-K-ahyJB1x1"
      ]
    },
    "kernelspec": {
      "name": "python3",
      "display_name": "Python 3"
    },
    "language_info": {
      "name": "python"
    },
    "accelerator": "GPU",
    "widgets": {
      "application/vnd.jupyter.widget-state+json": {
        "a5de39becf744981ac66f57105759030": {
          "model_module": "@jupyter-widgets/controls",
          "model_name": "HBoxModel",
          "state": {
            "_view_name": "HBoxView",
            "_dom_classes": [],
            "_model_name": "HBoxModel",
            "_view_module": "@jupyter-widgets/controls",
            "_model_module_version": "1.5.0",
            "_view_count": null,
            "_view_module_version": "1.5.0",
            "box_style": "",
            "layout": "IPY_MODEL_89cf8991c30c47f78961236d47568f4c",
            "_model_module": "@jupyter-widgets/controls",
            "children": [
              "IPY_MODEL_137678a37620435695974b7cf4e86131",
              "IPY_MODEL_ba1164234c15492aa7adbfa7102586fa"
            ]
          }
        },
        "89cf8991c30c47f78961236d47568f4c": {
          "model_module": "@jupyter-widgets/base",
          "model_name": "LayoutModel",
          "state": {
            "_view_name": "LayoutView",
            "grid_template_rows": null,
            "right": null,
            "justify_content": null,
            "_view_module": "@jupyter-widgets/base",
            "overflow": null,
            "_model_module_version": "1.2.0",
            "_view_count": null,
            "flex_flow": null,
            "width": null,
            "min_width": null,
            "border": null,
            "align_items": null,
            "bottom": null,
            "_model_module": "@jupyter-widgets/base",
            "top": null,
            "grid_column": null,
            "overflow_y": null,
            "overflow_x": null,
            "grid_auto_flow": null,
            "grid_area": null,
            "grid_template_columns": null,
            "flex": null,
            "_model_name": "LayoutModel",
            "justify_items": null,
            "grid_row": null,
            "max_height": null,
            "align_content": null,
            "visibility": null,
            "align_self": null,
            "height": null,
            "min_height": null,
            "padding": null,
            "grid_auto_rows": null,
            "grid_gap": null,
            "max_width": null,
            "order": null,
            "_view_module_version": "1.2.0",
            "grid_template_areas": null,
            "object_position": null,
            "object_fit": null,
            "grid_auto_columns": null,
            "margin": null,
            "display": null,
            "left": null
          }
        },
        "137678a37620435695974b7cf4e86131": {
          "model_module": "@jupyter-widgets/controls",
          "model_name": "FloatProgressModel",
          "state": {
            "_view_name": "ProgressView",
            "style": "IPY_MODEL_cfa5695c08db42f592827965bd26869c",
            "_dom_classes": [],
            "description": "100%",
            "_model_name": "FloatProgressModel",
            "bar_style": "success",
            "max": 17167,
            "_view_module": "@jupyter-widgets/controls",
            "_model_module_version": "1.5.0",
            "value": 17167,
            "_view_count": null,
            "_view_module_version": "1.5.0",
            "orientation": "horizontal",
            "min": 0,
            "description_tooltip": null,
            "_model_module": "@jupyter-widgets/controls",
            "layout": "IPY_MODEL_9ff803f4a9f7448eba8060f0ac3fe32b"
          }
        },
        "ba1164234c15492aa7adbfa7102586fa": {
          "model_module": "@jupyter-widgets/controls",
          "model_name": "HTMLModel",
          "state": {
            "_view_name": "HTMLView",
            "style": "IPY_MODEL_6727cfe310384f7882aa22aa0f3fa2fe",
            "_dom_classes": [],
            "description": "",
            "_model_name": "HTMLModel",
            "placeholder": "​",
            "_view_module": "@jupyter-widgets/controls",
            "_model_module_version": "1.5.0",
            "value": " 17167/17167 [00:20&lt;00:00, 850.76it/s]",
            "_view_count": null,
            "_view_module_version": "1.5.0",
            "description_tooltip": null,
            "_model_module": "@jupyter-widgets/controls",
            "layout": "IPY_MODEL_d24c1b49278f4abe81a14344e3faa430"
          }
        },
        "cfa5695c08db42f592827965bd26869c": {
          "model_module": "@jupyter-widgets/controls",
          "model_name": "ProgressStyleModel",
          "state": {
            "_view_name": "StyleView",
            "_model_name": "ProgressStyleModel",
            "description_width": "initial",
            "_view_module": "@jupyter-widgets/base",
            "_model_module_version": "1.5.0",
            "_view_count": null,
            "_view_module_version": "1.2.0",
            "bar_color": null,
            "_model_module": "@jupyter-widgets/controls"
          }
        },
        "9ff803f4a9f7448eba8060f0ac3fe32b": {
          "model_module": "@jupyter-widgets/base",
          "model_name": "LayoutModel",
          "state": {
            "_view_name": "LayoutView",
            "grid_template_rows": null,
            "right": null,
            "justify_content": null,
            "_view_module": "@jupyter-widgets/base",
            "overflow": null,
            "_model_module_version": "1.2.0",
            "_view_count": null,
            "flex_flow": null,
            "width": null,
            "min_width": null,
            "border": null,
            "align_items": null,
            "bottom": null,
            "_model_module": "@jupyter-widgets/base",
            "top": null,
            "grid_column": null,
            "overflow_y": null,
            "overflow_x": null,
            "grid_auto_flow": null,
            "grid_area": null,
            "grid_template_columns": null,
            "flex": null,
            "_model_name": "LayoutModel",
            "justify_items": null,
            "grid_row": null,
            "max_height": null,
            "align_content": null,
            "visibility": null,
            "align_self": null,
            "height": null,
            "min_height": null,
            "padding": null,
            "grid_auto_rows": null,
            "grid_gap": null,
            "max_width": null,
            "order": null,
            "_view_module_version": "1.2.0",
            "grid_template_areas": null,
            "object_position": null,
            "object_fit": null,
            "grid_auto_columns": null,
            "margin": null,
            "display": null,
            "left": null
          }
        },
        "6727cfe310384f7882aa22aa0f3fa2fe": {
          "model_module": "@jupyter-widgets/controls",
          "model_name": "DescriptionStyleModel",
          "state": {
            "_view_name": "StyleView",
            "_model_name": "DescriptionStyleModel",
            "description_width": "",
            "_view_module": "@jupyter-widgets/base",
            "_model_module_version": "1.5.0",
            "_view_count": null,
            "_view_module_version": "1.2.0",
            "_model_module": "@jupyter-widgets/controls"
          }
        },
        "d24c1b49278f4abe81a14344e3faa430": {
          "model_module": "@jupyter-widgets/base",
          "model_name": "LayoutModel",
          "state": {
            "_view_name": "LayoutView",
            "grid_template_rows": null,
            "right": null,
            "justify_content": null,
            "_view_module": "@jupyter-widgets/base",
            "overflow": null,
            "_model_module_version": "1.2.0",
            "_view_count": null,
            "flex_flow": null,
            "width": null,
            "min_width": null,
            "border": null,
            "align_items": null,
            "bottom": null,
            "_model_module": "@jupyter-widgets/base",
            "top": null,
            "grid_column": null,
            "overflow_y": null,
            "overflow_x": null,
            "grid_auto_flow": null,
            "grid_area": null,
            "grid_template_columns": null,
            "flex": null,
            "_model_name": "LayoutModel",
            "justify_items": null,
            "grid_row": null,
            "max_height": null,
            "align_content": null,
            "visibility": null,
            "align_self": null,
            "height": null,
            "min_height": null,
            "padding": null,
            "grid_auto_rows": null,
            "grid_gap": null,
            "max_width": null,
            "order": null,
            "_view_module_version": "1.2.0",
            "grid_template_areas": null,
            "object_position": null,
            "object_fit": null,
            "grid_auto_columns": null,
            "margin": null,
            "display": null,
            "left": null
          }
        },
        "ba11d08b2eb949fe8a9894dbcf3956bf": {
          "model_module": "@jupyter-widgets/controls",
          "model_name": "HBoxModel",
          "state": {
            "_view_name": "HBoxView",
            "_dom_classes": [],
            "_model_name": "HBoxModel",
            "_view_module": "@jupyter-widgets/controls",
            "_model_module_version": "1.5.0",
            "_view_count": null,
            "_view_module_version": "1.5.0",
            "box_style": "",
            "layout": "IPY_MODEL_966464da4a454d14b1a826c16d9e28d1",
            "_model_module": "@jupyter-widgets/controls",
            "children": [
              "IPY_MODEL_f471b30f025a4031a0f20a1428b50a3c",
              "IPY_MODEL_34f29e4217924a8dae68040628322dce"
            ]
          }
        },
        "966464da4a454d14b1a826c16d9e28d1": {
          "model_module": "@jupyter-widgets/base",
          "model_name": "LayoutModel",
          "state": {
            "_view_name": "LayoutView",
            "grid_template_rows": null,
            "right": null,
            "justify_content": null,
            "_view_module": "@jupyter-widgets/base",
            "overflow": null,
            "_model_module_version": "1.2.0",
            "_view_count": null,
            "flex_flow": null,
            "width": null,
            "min_width": null,
            "border": null,
            "align_items": null,
            "bottom": null,
            "_model_module": "@jupyter-widgets/base",
            "top": null,
            "grid_column": null,
            "overflow_y": null,
            "overflow_x": null,
            "grid_auto_flow": null,
            "grid_area": null,
            "grid_template_columns": null,
            "flex": null,
            "_model_name": "LayoutModel",
            "justify_items": null,
            "grid_row": null,
            "max_height": null,
            "align_content": null,
            "visibility": null,
            "align_self": null,
            "height": null,
            "min_height": null,
            "padding": null,
            "grid_auto_rows": null,
            "grid_gap": null,
            "max_width": null,
            "order": null,
            "_view_module_version": "1.2.0",
            "grid_template_areas": null,
            "object_position": null,
            "object_fit": null,
            "grid_auto_columns": null,
            "margin": null,
            "display": null,
            "left": null
          }
        },
        "f471b30f025a4031a0f20a1428b50a3c": {
          "model_module": "@jupyter-widgets/controls",
          "model_name": "FloatProgressModel",
          "state": {
            "_view_name": "ProgressView",
            "style": "IPY_MODEL_0dd4f467c5c748b8b5589d3c7a0822c2",
            "_dom_classes": [],
            "description": "100%",
            "_model_name": "FloatProgressModel",
            "bar_style": "success",
            "max": 17167,
            "_view_module": "@jupyter-widgets/controls",
            "_model_module_version": "1.5.0",
            "value": 17167,
            "_view_count": null,
            "_view_module_version": "1.5.0",
            "orientation": "horizontal",
            "min": 0,
            "description_tooltip": null,
            "_model_module": "@jupyter-widgets/controls",
            "layout": "IPY_MODEL_2d3ee8175a4145d5b6d53511f9a32e8c"
          }
        },
        "34f29e4217924a8dae68040628322dce": {
          "model_module": "@jupyter-widgets/controls",
          "model_name": "HTMLModel",
          "state": {
            "_view_name": "HTMLView",
            "style": "IPY_MODEL_677c98c0fe9549fe8e77185bfa5d3044",
            "_dom_classes": [],
            "description": "",
            "_model_name": "HTMLModel",
            "placeholder": "​",
            "_view_module": "@jupyter-widgets/controls",
            "_model_module_version": "1.5.0",
            "value": " 17167/17167 [00:20&lt;00:00, 858.03it/s]",
            "_view_count": null,
            "_view_module_version": "1.5.0",
            "description_tooltip": null,
            "_model_module": "@jupyter-widgets/controls",
            "layout": "IPY_MODEL_b9da3e4900754e08b8ba903182b25de7"
          }
        },
        "0dd4f467c5c748b8b5589d3c7a0822c2": {
          "model_module": "@jupyter-widgets/controls",
          "model_name": "ProgressStyleModel",
          "state": {
            "_view_name": "StyleView",
            "_model_name": "ProgressStyleModel",
            "description_width": "initial",
            "_view_module": "@jupyter-widgets/base",
            "_model_module_version": "1.5.0",
            "_view_count": null,
            "_view_module_version": "1.2.0",
            "bar_color": null,
            "_model_module": "@jupyter-widgets/controls"
          }
        },
        "2d3ee8175a4145d5b6d53511f9a32e8c": {
          "model_module": "@jupyter-widgets/base",
          "model_name": "LayoutModel",
          "state": {
            "_view_name": "LayoutView",
            "grid_template_rows": null,
            "right": null,
            "justify_content": null,
            "_view_module": "@jupyter-widgets/base",
            "overflow": null,
            "_model_module_version": "1.2.0",
            "_view_count": null,
            "flex_flow": null,
            "width": null,
            "min_width": null,
            "border": null,
            "align_items": null,
            "bottom": null,
            "_model_module": "@jupyter-widgets/base",
            "top": null,
            "grid_column": null,
            "overflow_y": null,
            "overflow_x": null,
            "grid_auto_flow": null,
            "grid_area": null,
            "grid_template_columns": null,
            "flex": null,
            "_model_name": "LayoutModel",
            "justify_items": null,
            "grid_row": null,
            "max_height": null,
            "align_content": null,
            "visibility": null,
            "align_self": null,
            "height": null,
            "min_height": null,
            "padding": null,
            "grid_auto_rows": null,
            "grid_gap": null,
            "max_width": null,
            "order": null,
            "_view_module_version": "1.2.0",
            "grid_template_areas": null,
            "object_position": null,
            "object_fit": null,
            "grid_auto_columns": null,
            "margin": null,
            "display": null,
            "left": null
          }
        },
        "677c98c0fe9549fe8e77185bfa5d3044": {
          "model_module": "@jupyter-widgets/controls",
          "model_name": "DescriptionStyleModel",
          "state": {
            "_view_name": "StyleView",
            "_model_name": "DescriptionStyleModel",
            "description_width": "",
            "_view_module": "@jupyter-widgets/base",
            "_model_module_version": "1.5.0",
            "_view_count": null,
            "_view_module_version": "1.2.0",
            "_model_module": "@jupyter-widgets/controls"
          }
        },
        "b9da3e4900754e08b8ba903182b25de7": {
          "model_module": "@jupyter-widgets/base",
          "model_name": "LayoutModel",
          "state": {
            "_view_name": "LayoutView",
            "grid_template_rows": null,
            "right": null,
            "justify_content": null,
            "_view_module": "@jupyter-widgets/base",
            "overflow": null,
            "_model_module_version": "1.2.0",
            "_view_count": null,
            "flex_flow": null,
            "width": null,
            "min_width": null,
            "border": null,
            "align_items": null,
            "bottom": null,
            "_model_module": "@jupyter-widgets/base",
            "top": null,
            "grid_column": null,
            "overflow_y": null,
            "overflow_x": null,
            "grid_auto_flow": null,
            "grid_area": null,
            "grid_template_columns": null,
            "flex": null,
            "_model_name": "LayoutModel",
            "justify_items": null,
            "grid_row": null,
            "max_height": null,
            "align_content": null,
            "visibility": null,
            "align_self": null,
            "height": null,
            "min_height": null,
            "padding": null,
            "grid_auto_rows": null,
            "grid_gap": null,
            "max_width": null,
            "order": null,
            "_view_module_version": "1.2.0",
            "grid_template_areas": null,
            "object_position": null,
            "object_fit": null,
            "grid_auto_columns": null,
            "margin": null,
            "display": null,
            "left": null
          }
        },
        "bdc25d8ac9814cc09152732ebdac1cda": {
          "model_module": "@jupyter-widgets/controls",
          "model_name": "HBoxModel",
          "state": {
            "_view_name": "HBoxView",
            "_dom_classes": [],
            "_model_name": "HBoxModel",
            "_view_module": "@jupyter-widgets/controls",
            "_model_module_version": "1.5.0",
            "_view_count": null,
            "_view_module_version": "1.5.0",
            "box_style": "",
            "layout": "IPY_MODEL_6c778d09dcc54fff8ebc375d5df46114",
            "_model_module": "@jupyter-widgets/controls",
            "children": [
              "IPY_MODEL_ee31edf368d14519b072237a80a13a99",
              "IPY_MODEL_9f905b4d9a6b452a9b93017b291250ba"
            ]
          }
        },
        "6c778d09dcc54fff8ebc375d5df46114": {
          "model_module": "@jupyter-widgets/base",
          "model_name": "LayoutModel",
          "state": {
            "_view_name": "LayoutView",
            "grid_template_rows": null,
            "right": null,
            "justify_content": null,
            "_view_module": "@jupyter-widgets/base",
            "overflow": null,
            "_model_module_version": "1.2.0",
            "_view_count": null,
            "flex_flow": null,
            "width": null,
            "min_width": null,
            "border": null,
            "align_items": null,
            "bottom": null,
            "_model_module": "@jupyter-widgets/base",
            "top": null,
            "grid_column": null,
            "overflow_y": null,
            "overflow_x": null,
            "grid_auto_flow": null,
            "grid_area": null,
            "grid_template_columns": null,
            "flex": null,
            "_model_name": "LayoutModel",
            "justify_items": null,
            "grid_row": null,
            "max_height": null,
            "align_content": null,
            "visibility": null,
            "align_self": null,
            "height": null,
            "min_height": null,
            "padding": null,
            "grid_auto_rows": null,
            "grid_gap": null,
            "max_width": null,
            "order": null,
            "_view_module_version": "1.2.0",
            "grid_template_areas": null,
            "object_position": null,
            "object_fit": null,
            "grid_auto_columns": null,
            "margin": null,
            "display": null,
            "left": null
          }
        },
        "ee31edf368d14519b072237a80a13a99": {
          "model_module": "@jupyter-widgets/controls",
          "model_name": "FloatProgressModel",
          "state": {
            "_view_name": "ProgressView",
            "style": "IPY_MODEL_fd77c4387a7c49bab7a8bc8792d33c47",
            "_dom_classes": [],
            "description": "100%",
            "_model_name": "FloatProgressModel",
            "bar_style": "success",
            "max": 17167,
            "_view_module": "@jupyter-widgets/controls",
            "_model_module_version": "1.5.0",
            "value": 17167,
            "_view_count": null,
            "_view_module_version": "1.5.0",
            "orientation": "horizontal",
            "min": 0,
            "description_tooltip": null,
            "_model_module": "@jupyter-widgets/controls",
            "layout": "IPY_MODEL_77c367ca48084a75a637cad69d4733ce"
          }
        },
        "9f905b4d9a6b452a9b93017b291250ba": {
          "model_module": "@jupyter-widgets/controls",
          "model_name": "HTMLModel",
          "state": {
            "_view_name": "HTMLView",
            "style": "IPY_MODEL_52b26281a2344cad864c5cce07995f65",
            "_dom_classes": [],
            "description": "",
            "_model_name": "HTMLModel",
            "placeholder": "​",
            "_view_module": "@jupyter-widgets/controls",
            "_model_module_version": "1.5.0",
            "value": " 17167/17167 [00:00&lt;00:00, 95976.54it/s]",
            "_view_count": null,
            "_view_module_version": "1.5.0",
            "description_tooltip": null,
            "_model_module": "@jupyter-widgets/controls",
            "layout": "IPY_MODEL_6a58f4546c594f869462bd4b44582618"
          }
        },
        "fd77c4387a7c49bab7a8bc8792d33c47": {
          "model_module": "@jupyter-widgets/controls",
          "model_name": "ProgressStyleModel",
          "state": {
            "_view_name": "StyleView",
            "_model_name": "ProgressStyleModel",
            "description_width": "initial",
            "_view_module": "@jupyter-widgets/base",
            "_model_module_version": "1.5.0",
            "_view_count": null,
            "_view_module_version": "1.2.0",
            "bar_color": null,
            "_model_module": "@jupyter-widgets/controls"
          }
        },
        "77c367ca48084a75a637cad69d4733ce": {
          "model_module": "@jupyter-widgets/base",
          "model_name": "LayoutModel",
          "state": {
            "_view_name": "LayoutView",
            "grid_template_rows": null,
            "right": null,
            "justify_content": null,
            "_view_module": "@jupyter-widgets/base",
            "overflow": null,
            "_model_module_version": "1.2.0",
            "_view_count": null,
            "flex_flow": null,
            "width": null,
            "min_width": null,
            "border": null,
            "align_items": null,
            "bottom": null,
            "_model_module": "@jupyter-widgets/base",
            "top": null,
            "grid_column": null,
            "overflow_y": null,
            "overflow_x": null,
            "grid_auto_flow": null,
            "grid_area": null,
            "grid_template_columns": null,
            "flex": null,
            "_model_name": "LayoutModel",
            "justify_items": null,
            "grid_row": null,
            "max_height": null,
            "align_content": null,
            "visibility": null,
            "align_self": null,
            "height": null,
            "min_height": null,
            "padding": null,
            "grid_auto_rows": null,
            "grid_gap": null,
            "max_width": null,
            "order": null,
            "_view_module_version": "1.2.0",
            "grid_template_areas": null,
            "object_position": null,
            "object_fit": null,
            "grid_auto_columns": null,
            "margin": null,
            "display": null,
            "left": null
          }
        },
        "52b26281a2344cad864c5cce07995f65": {
          "model_module": "@jupyter-widgets/controls",
          "model_name": "DescriptionStyleModel",
          "state": {
            "_view_name": "StyleView",
            "_model_name": "DescriptionStyleModel",
            "description_width": "",
            "_view_module": "@jupyter-widgets/base",
            "_model_module_version": "1.5.0",
            "_view_count": null,
            "_view_module_version": "1.2.0",
            "_model_module": "@jupyter-widgets/controls"
          }
        },
        "6a58f4546c594f869462bd4b44582618": {
          "model_module": "@jupyter-widgets/base",
          "model_name": "LayoutModel",
          "state": {
            "_view_name": "LayoutView",
            "grid_template_rows": null,
            "right": null,
            "justify_content": null,
            "_view_module": "@jupyter-widgets/base",
            "overflow": null,
            "_model_module_version": "1.2.0",
            "_view_count": null,
            "flex_flow": null,
            "width": null,
            "min_width": null,
            "border": null,
            "align_items": null,
            "bottom": null,
            "_model_module": "@jupyter-widgets/base",
            "top": null,
            "grid_column": null,
            "overflow_y": null,
            "overflow_x": null,
            "grid_auto_flow": null,
            "grid_area": null,
            "grid_template_columns": null,
            "flex": null,
            "_model_name": "LayoutModel",
            "justify_items": null,
            "grid_row": null,
            "max_height": null,
            "align_content": null,
            "visibility": null,
            "align_self": null,
            "height": null,
            "min_height": null,
            "padding": null,
            "grid_auto_rows": null,
            "grid_gap": null,
            "max_width": null,
            "order": null,
            "_view_module_version": "1.2.0",
            "grid_template_areas": null,
            "object_position": null,
            "object_fit": null,
            "grid_auto_columns": null,
            "margin": null,
            "display": null,
            "left": null
          }
        },
        "a45d97104f0b441aa5ee28551f7cc8a1": {
          "model_module": "@jupyter-widgets/controls",
          "model_name": "HBoxModel",
          "state": {
            "_view_name": "HBoxView",
            "_dom_classes": [],
            "_model_name": "HBoxModel",
            "_view_module": "@jupyter-widgets/controls",
            "_model_module_version": "1.5.0",
            "_view_count": null,
            "_view_module_version": "1.5.0",
            "box_style": "",
            "layout": "IPY_MODEL_020066f464d346b18e68f8006f79de8e",
            "_model_module": "@jupyter-widgets/controls",
            "children": [
              "IPY_MODEL_801e3b4302f84c6687715cfbbd77bf2a",
              "IPY_MODEL_277ea6da3745441b8fd1401b3a7165a4"
            ]
          }
        },
        "020066f464d346b18e68f8006f79de8e": {
          "model_module": "@jupyter-widgets/base",
          "model_name": "LayoutModel",
          "state": {
            "_view_name": "LayoutView",
            "grid_template_rows": null,
            "right": null,
            "justify_content": null,
            "_view_module": "@jupyter-widgets/base",
            "overflow": null,
            "_model_module_version": "1.2.0",
            "_view_count": null,
            "flex_flow": null,
            "width": null,
            "min_width": null,
            "border": null,
            "align_items": null,
            "bottom": null,
            "_model_module": "@jupyter-widgets/base",
            "top": null,
            "grid_column": null,
            "overflow_y": null,
            "overflow_x": null,
            "grid_auto_flow": null,
            "grid_area": null,
            "grid_template_columns": null,
            "flex": null,
            "_model_name": "LayoutModel",
            "justify_items": null,
            "grid_row": null,
            "max_height": null,
            "align_content": null,
            "visibility": null,
            "align_self": null,
            "height": null,
            "min_height": null,
            "padding": null,
            "grid_auto_rows": null,
            "grid_gap": null,
            "max_width": null,
            "order": null,
            "_view_module_version": "1.2.0",
            "grid_template_areas": null,
            "object_position": null,
            "object_fit": null,
            "grid_auto_columns": null,
            "margin": null,
            "display": null,
            "left": null
          }
        },
        "801e3b4302f84c6687715cfbbd77bf2a": {
          "model_module": "@jupyter-widgets/controls",
          "model_name": "FloatProgressModel",
          "state": {
            "_view_name": "ProgressView",
            "style": "IPY_MODEL_818de19ee07842d692a2c9c8b7eb9f70",
            "_dom_classes": [],
            "description": "100%",
            "_model_name": "FloatProgressModel",
            "bar_style": "success",
            "max": 17167,
            "_view_module": "@jupyter-widgets/controls",
            "_model_module_version": "1.5.0",
            "value": 17167,
            "_view_count": null,
            "_view_module_version": "1.5.0",
            "orientation": "horizontal",
            "min": 0,
            "description_tooltip": null,
            "_model_module": "@jupyter-widgets/controls",
            "layout": "IPY_MODEL_eeee301c0cd3478c8383000eef6e7f3c"
          }
        },
        "277ea6da3745441b8fd1401b3a7165a4": {
          "model_module": "@jupyter-widgets/controls",
          "model_name": "HTMLModel",
          "state": {
            "_view_name": "HTMLView",
            "style": "IPY_MODEL_e0746aa627444a4ca5ac1eeefef88aa1",
            "_dom_classes": [],
            "description": "",
            "_model_name": "HTMLModel",
            "placeholder": "​",
            "_view_module": "@jupyter-widgets/controls",
            "_model_module_version": "1.5.0",
            "value": " 17167/17167 [23:25&lt;00:00, 12.21it/s]",
            "_view_count": null,
            "_view_module_version": "1.5.0",
            "description_tooltip": null,
            "_model_module": "@jupyter-widgets/controls",
            "layout": "IPY_MODEL_eec9d497ddfb4678aa49c656248c6233"
          }
        },
        "818de19ee07842d692a2c9c8b7eb9f70": {
          "model_module": "@jupyter-widgets/controls",
          "model_name": "ProgressStyleModel",
          "state": {
            "_view_name": "StyleView",
            "_model_name": "ProgressStyleModel",
            "description_width": "initial",
            "_view_module": "@jupyter-widgets/base",
            "_model_module_version": "1.5.0",
            "_view_count": null,
            "_view_module_version": "1.2.0",
            "bar_color": null,
            "_model_module": "@jupyter-widgets/controls"
          }
        },
        "eeee301c0cd3478c8383000eef6e7f3c": {
          "model_module": "@jupyter-widgets/base",
          "model_name": "LayoutModel",
          "state": {
            "_view_name": "LayoutView",
            "grid_template_rows": null,
            "right": null,
            "justify_content": null,
            "_view_module": "@jupyter-widgets/base",
            "overflow": null,
            "_model_module_version": "1.2.0",
            "_view_count": null,
            "flex_flow": null,
            "width": null,
            "min_width": null,
            "border": null,
            "align_items": null,
            "bottom": null,
            "_model_module": "@jupyter-widgets/base",
            "top": null,
            "grid_column": null,
            "overflow_y": null,
            "overflow_x": null,
            "grid_auto_flow": null,
            "grid_area": null,
            "grid_template_columns": null,
            "flex": null,
            "_model_name": "LayoutModel",
            "justify_items": null,
            "grid_row": null,
            "max_height": null,
            "align_content": null,
            "visibility": null,
            "align_self": null,
            "height": null,
            "min_height": null,
            "padding": null,
            "grid_auto_rows": null,
            "grid_gap": null,
            "max_width": null,
            "order": null,
            "_view_module_version": "1.2.0",
            "grid_template_areas": null,
            "object_position": null,
            "object_fit": null,
            "grid_auto_columns": null,
            "margin": null,
            "display": null,
            "left": null
          }
        },
        "e0746aa627444a4ca5ac1eeefef88aa1": {
          "model_module": "@jupyter-widgets/controls",
          "model_name": "DescriptionStyleModel",
          "state": {
            "_view_name": "StyleView",
            "_model_name": "DescriptionStyleModel",
            "description_width": "",
            "_view_module": "@jupyter-widgets/base",
            "_model_module_version": "1.5.0",
            "_view_count": null,
            "_view_module_version": "1.2.0",
            "_model_module": "@jupyter-widgets/controls"
          }
        },
        "eec9d497ddfb4678aa49c656248c6233": {
          "model_module": "@jupyter-widgets/base",
          "model_name": "LayoutModel",
          "state": {
            "_view_name": "LayoutView",
            "grid_template_rows": null,
            "right": null,
            "justify_content": null,
            "_view_module": "@jupyter-widgets/base",
            "overflow": null,
            "_model_module_version": "1.2.0",
            "_view_count": null,
            "flex_flow": null,
            "width": null,
            "min_width": null,
            "border": null,
            "align_items": null,
            "bottom": null,
            "_model_module": "@jupyter-widgets/base",
            "top": null,
            "grid_column": null,
            "overflow_y": null,
            "overflow_x": null,
            "grid_auto_flow": null,
            "grid_area": null,
            "grid_template_columns": null,
            "flex": null,
            "_model_name": "LayoutModel",
            "justify_items": null,
            "grid_row": null,
            "max_height": null,
            "align_content": null,
            "visibility": null,
            "align_self": null,
            "height": null,
            "min_height": null,
            "padding": null,
            "grid_auto_rows": null,
            "grid_gap": null,
            "max_width": null,
            "order": null,
            "_view_module_version": "1.2.0",
            "grid_template_areas": null,
            "object_position": null,
            "object_fit": null,
            "grid_auto_columns": null,
            "margin": null,
            "display": null,
            "left": null
          }
        },
        "3f7ecc3badd34b53b050c4eb4007cbca": {
          "model_module": "@jupyter-widgets/controls",
          "model_name": "HBoxModel",
          "state": {
            "_view_name": "HBoxView",
            "_dom_classes": [],
            "_model_name": "HBoxModel",
            "_view_module": "@jupyter-widgets/controls",
            "_model_module_version": "1.5.0",
            "_view_count": null,
            "_view_module_version": "1.5.0",
            "box_style": "",
            "layout": "IPY_MODEL_1e84c2b683bb432bad5aa966341e22c1",
            "_model_module": "@jupyter-widgets/controls",
            "children": [
              "IPY_MODEL_2dd0cfbe630346c7970c422136081570",
              "IPY_MODEL_ea39771e8fcc46239ef5c7470e68a19b"
            ]
          }
        },
        "1e84c2b683bb432bad5aa966341e22c1": {
          "model_module": "@jupyter-widgets/base",
          "model_name": "LayoutModel",
          "state": {
            "_view_name": "LayoutView",
            "grid_template_rows": null,
            "right": null,
            "justify_content": null,
            "_view_module": "@jupyter-widgets/base",
            "overflow": null,
            "_model_module_version": "1.2.0",
            "_view_count": null,
            "flex_flow": null,
            "width": null,
            "min_width": null,
            "border": null,
            "align_items": null,
            "bottom": null,
            "_model_module": "@jupyter-widgets/base",
            "top": null,
            "grid_column": null,
            "overflow_y": null,
            "overflow_x": null,
            "grid_auto_flow": null,
            "grid_area": null,
            "grid_template_columns": null,
            "flex": null,
            "_model_name": "LayoutModel",
            "justify_items": null,
            "grid_row": null,
            "max_height": null,
            "align_content": null,
            "visibility": null,
            "align_self": null,
            "height": null,
            "min_height": null,
            "padding": null,
            "grid_auto_rows": null,
            "grid_gap": null,
            "max_width": null,
            "order": null,
            "_view_module_version": "1.2.0",
            "grid_template_areas": null,
            "object_position": null,
            "object_fit": null,
            "grid_auto_columns": null,
            "margin": null,
            "display": null,
            "left": null
          }
        },
        "2dd0cfbe630346c7970c422136081570": {
          "model_module": "@jupyter-widgets/controls",
          "model_name": "FloatProgressModel",
          "state": {
            "_view_name": "ProgressView",
            "style": "IPY_MODEL_4409301f200046949120a0a9e29cf5ed",
            "_dom_classes": [],
            "description": "100%",
            "_model_name": "FloatProgressModel",
            "bar_style": "success",
            "max": 17167,
            "_view_module": "@jupyter-widgets/controls",
            "_model_module_version": "1.5.0",
            "value": 17167,
            "_view_count": null,
            "_view_module_version": "1.5.0",
            "orientation": "horizontal",
            "min": 0,
            "description_tooltip": null,
            "_model_module": "@jupyter-widgets/controls",
            "layout": "IPY_MODEL_d0f9e0d1671c4c93b1d81b5ef6758563"
          }
        },
        "ea39771e8fcc46239ef5c7470e68a19b": {
          "model_module": "@jupyter-widgets/controls",
          "model_name": "HTMLModel",
          "state": {
            "_view_name": "HTMLView",
            "style": "IPY_MODEL_3923cd40b75c4c2cafdee9f7fbe7e0a3",
            "_dom_classes": [],
            "description": "",
            "_model_name": "HTMLModel",
            "placeholder": "​",
            "_view_module": "@jupyter-widgets/controls",
            "_model_module_version": "1.5.0",
            "value": " 17167/17167 [23:22&lt;00:00, 12.24it/s]",
            "_view_count": null,
            "_view_module_version": "1.5.0",
            "description_tooltip": null,
            "_model_module": "@jupyter-widgets/controls",
            "layout": "IPY_MODEL_24ef31001f874577ba2b4ca8c75e26cc"
          }
        },
        "4409301f200046949120a0a9e29cf5ed": {
          "model_module": "@jupyter-widgets/controls",
          "model_name": "ProgressStyleModel",
          "state": {
            "_view_name": "StyleView",
            "_model_name": "ProgressStyleModel",
            "description_width": "initial",
            "_view_module": "@jupyter-widgets/base",
            "_model_module_version": "1.5.0",
            "_view_count": null,
            "_view_module_version": "1.2.0",
            "bar_color": null,
            "_model_module": "@jupyter-widgets/controls"
          }
        },
        "d0f9e0d1671c4c93b1d81b5ef6758563": {
          "model_module": "@jupyter-widgets/base",
          "model_name": "LayoutModel",
          "state": {
            "_view_name": "LayoutView",
            "grid_template_rows": null,
            "right": null,
            "justify_content": null,
            "_view_module": "@jupyter-widgets/base",
            "overflow": null,
            "_model_module_version": "1.2.0",
            "_view_count": null,
            "flex_flow": null,
            "width": null,
            "min_width": null,
            "border": null,
            "align_items": null,
            "bottom": null,
            "_model_module": "@jupyter-widgets/base",
            "top": null,
            "grid_column": null,
            "overflow_y": null,
            "overflow_x": null,
            "grid_auto_flow": null,
            "grid_area": null,
            "grid_template_columns": null,
            "flex": null,
            "_model_name": "LayoutModel",
            "justify_items": null,
            "grid_row": null,
            "max_height": null,
            "align_content": null,
            "visibility": null,
            "align_self": null,
            "height": null,
            "min_height": null,
            "padding": null,
            "grid_auto_rows": null,
            "grid_gap": null,
            "max_width": null,
            "order": null,
            "_view_module_version": "1.2.0",
            "grid_template_areas": null,
            "object_position": null,
            "object_fit": null,
            "grid_auto_columns": null,
            "margin": null,
            "display": null,
            "left": null
          }
        },
        "3923cd40b75c4c2cafdee9f7fbe7e0a3": {
          "model_module": "@jupyter-widgets/controls",
          "model_name": "DescriptionStyleModel",
          "state": {
            "_view_name": "StyleView",
            "_model_name": "DescriptionStyleModel",
            "description_width": "",
            "_view_module": "@jupyter-widgets/base",
            "_model_module_version": "1.5.0",
            "_view_count": null,
            "_view_module_version": "1.2.0",
            "_model_module": "@jupyter-widgets/controls"
          }
        },
        "24ef31001f874577ba2b4ca8c75e26cc": {
          "model_module": "@jupyter-widgets/base",
          "model_name": "LayoutModel",
          "state": {
            "_view_name": "LayoutView",
            "grid_template_rows": null,
            "right": null,
            "justify_content": null,
            "_view_module": "@jupyter-widgets/base",
            "overflow": null,
            "_model_module_version": "1.2.0",
            "_view_count": null,
            "flex_flow": null,
            "width": null,
            "min_width": null,
            "border": null,
            "align_items": null,
            "bottom": null,
            "_model_module": "@jupyter-widgets/base",
            "top": null,
            "grid_column": null,
            "overflow_y": null,
            "overflow_x": null,
            "grid_auto_flow": null,
            "grid_area": null,
            "grid_template_columns": null,
            "flex": null,
            "_model_name": "LayoutModel",
            "justify_items": null,
            "grid_row": null,
            "max_height": null,
            "align_content": null,
            "visibility": null,
            "align_self": null,
            "height": null,
            "min_height": null,
            "padding": null,
            "grid_auto_rows": null,
            "grid_gap": null,
            "max_width": null,
            "order": null,
            "_view_module_version": "1.2.0",
            "grid_template_areas": null,
            "object_position": null,
            "object_fit": null,
            "grid_auto_columns": null,
            "margin": null,
            "display": null,
            "left": null
          }
        },
        "8b77b4e33b5b4192b5de521b8a2b3414": {
          "model_module": "@jupyter-widgets/controls",
          "model_name": "HBoxModel",
          "state": {
            "_view_name": "HBoxView",
            "_dom_classes": [],
            "_model_name": "HBoxModel",
            "_view_module": "@jupyter-widgets/controls",
            "_model_module_version": "1.5.0",
            "_view_count": null,
            "_view_module_version": "1.5.0",
            "box_style": "",
            "layout": "IPY_MODEL_662154d2a4f84f5aab543fc79d48a9c2",
            "_model_module": "@jupyter-widgets/controls",
            "children": [
              "IPY_MODEL_d69cd6f00b45421aba6ddac46f582e1a",
              "IPY_MODEL_015cbf45665942c7957d62ca2c3fc778"
            ]
          }
        },
        "662154d2a4f84f5aab543fc79d48a9c2": {
          "model_module": "@jupyter-widgets/base",
          "model_name": "LayoutModel",
          "state": {
            "_view_name": "LayoutView",
            "grid_template_rows": null,
            "right": null,
            "justify_content": null,
            "_view_module": "@jupyter-widgets/base",
            "overflow": null,
            "_model_module_version": "1.2.0",
            "_view_count": null,
            "flex_flow": null,
            "width": null,
            "min_width": null,
            "border": null,
            "align_items": null,
            "bottom": null,
            "_model_module": "@jupyter-widgets/base",
            "top": null,
            "grid_column": null,
            "overflow_y": null,
            "overflow_x": null,
            "grid_auto_flow": null,
            "grid_area": null,
            "grid_template_columns": null,
            "flex": null,
            "_model_name": "LayoutModel",
            "justify_items": null,
            "grid_row": null,
            "max_height": null,
            "align_content": null,
            "visibility": null,
            "align_self": null,
            "height": null,
            "min_height": null,
            "padding": null,
            "grid_auto_rows": null,
            "grid_gap": null,
            "max_width": null,
            "order": null,
            "_view_module_version": "1.2.0",
            "grid_template_areas": null,
            "object_position": null,
            "object_fit": null,
            "grid_auto_columns": null,
            "margin": null,
            "display": null,
            "left": null
          }
        },
        "d69cd6f00b45421aba6ddac46f582e1a": {
          "model_module": "@jupyter-widgets/controls",
          "model_name": "FloatProgressModel",
          "state": {
            "_view_name": "ProgressView",
            "style": "IPY_MODEL_75198922f049485c95e7409f452c939e",
            "_dom_classes": [],
            "description": "100%",
            "_model_name": "FloatProgressModel",
            "bar_style": "success",
            "max": 17167,
            "_view_module": "@jupyter-widgets/controls",
            "_model_module_version": "1.5.0",
            "value": 17167,
            "_view_count": null,
            "_view_module_version": "1.5.0",
            "orientation": "horizontal",
            "min": 0,
            "description_tooltip": null,
            "_model_module": "@jupyter-widgets/controls",
            "layout": "IPY_MODEL_4980735bb7cd432990eee89fdf0411a5"
          }
        },
        "015cbf45665942c7957d62ca2c3fc778": {
          "model_module": "@jupyter-widgets/controls",
          "model_name": "HTMLModel",
          "state": {
            "_view_name": "HTMLView",
            "style": "IPY_MODEL_4ae737da3a3343bda881b2e0e6f0297c",
            "_dom_classes": [],
            "description": "",
            "_model_name": "HTMLModel",
            "placeholder": "​",
            "_view_module": "@jupyter-widgets/controls",
            "_model_module_version": "1.5.0",
            "value": " 17167/17167 [00:00&lt;00:00, 47688.56it/s]",
            "_view_count": null,
            "_view_module_version": "1.5.0",
            "description_tooltip": null,
            "_model_module": "@jupyter-widgets/controls",
            "layout": "IPY_MODEL_0db31915abaa46f999f853d8362e3ceb"
          }
        },
        "75198922f049485c95e7409f452c939e": {
          "model_module": "@jupyter-widgets/controls",
          "model_name": "ProgressStyleModel",
          "state": {
            "_view_name": "StyleView",
            "_model_name": "ProgressStyleModel",
            "description_width": "initial",
            "_view_module": "@jupyter-widgets/base",
            "_model_module_version": "1.5.0",
            "_view_count": null,
            "_view_module_version": "1.2.0",
            "bar_color": null,
            "_model_module": "@jupyter-widgets/controls"
          }
        },
        "4980735bb7cd432990eee89fdf0411a5": {
          "model_module": "@jupyter-widgets/base",
          "model_name": "LayoutModel",
          "state": {
            "_view_name": "LayoutView",
            "grid_template_rows": null,
            "right": null,
            "justify_content": null,
            "_view_module": "@jupyter-widgets/base",
            "overflow": null,
            "_model_module_version": "1.2.0",
            "_view_count": null,
            "flex_flow": null,
            "width": null,
            "min_width": null,
            "border": null,
            "align_items": null,
            "bottom": null,
            "_model_module": "@jupyter-widgets/base",
            "top": null,
            "grid_column": null,
            "overflow_y": null,
            "overflow_x": null,
            "grid_auto_flow": null,
            "grid_area": null,
            "grid_template_columns": null,
            "flex": null,
            "_model_name": "LayoutModel",
            "justify_items": null,
            "grid_row": null,
            "max_height": null,
            "align_content": null,
            "visibility": null,
            "align_self": null,
            "height": null,
            "min_height": null,
            "padding": null,
            "grid_auto_rows": null,
            "grid_gap": null,
            "max_width": null,
            "order": null,
            "_view_module_version": "1.2.0",
            "grid_template_areas": null,
            "object_position": null,
            "object_fit": null,
            "grid_auto_columns": null,
            "margin": null,
            "display": null,
            "left": null
          }
        },
        "4ae737da3a3343bda881b2e0e6f0297c": {
          "model_module": "@jupyter-widgets/controls",
          "model_name": "DescriptionStyleModel",
          "state": {
            "_view_name": "StyleView",
            "_model_name": "DescriptionStyleModel",
            "description_width": "",
            "_view_module": "@jupyter-widgets/base",
            "_model_module_version": "1.5.0",
            "_view_count": null,
            "_view_module_version": "1.2.0",
            "_model_module": "@jupyter-widgets/controls"
          }
        },
        "0db31915abaa46f999f853d8362e3ceb": {
          "model_module": "@jupyter-widgets/base",
          "model_name": "LayoutModel",
          "state": {
            "_view_name": "LayoutView",
            "grid_template_rows": null,
            "right": null,
            "justify_content": null,
            "_view_module": "@jupyter-widgets/base",
            "overflow": null,
            "_model_module_version": "1.2.0",
            "_view_count": null,
            "flex_flow": null,
            "width": null,
            "min_width": null,
            "border": null,
            "align_items": null,
            "bottom": null,
            "_model_module": "@jupyter-widgets/base",
            "top": null,
            "grid_column": null,
            "overflow_y": null,
            "overflow_x": null,
            "grid_auto_flow": null,
            "grid_area": null,
            "grid_template_columns": null,
            "flex": null,
            "_model_name": "LayoutModel",
            "justify_items": null,
            "grid_row": null,
            "max_height": null,
            "align_content": null,
            "visibility": null,
            "align_self": null,
            "height": null,
            "min_height": null,
            "padding": null,
            "grid_auto_rows": null,
            "grid_gap": null,
            "max_width": null,
            "order": null,
            "_view_module_version": "1.2.0",
            "grid_template_areas": null,
            "object_position": null,
            "object_fit": null,
            "grid_auto_columns": null,
            "margin": null,
            "display": null,
            "left": null
          }
        },
        "f7853bb61aba4501a6a21f5a45a61d4a": {
          "model_module": "@jupyter-widgets/controls",
          "model_name": "HBoxModel",
          "state": {
            "_view_name": "HBoxView",
            "_dom_classes": [],
            "_model_name": "HBoxModel",
            "_view_module": "@jupyter-widgets/controls",
            "_model_module_version": "1.5.0",
            "_view_count": null,
            "_view_module_version": "1.5.0",
            "box_style": "",
            "layout": "IPY_MODEL_cc6f8a483d0c4b8db754b16052816085",
            "_model_module": "@jupyter-widgets/controls",
            "children": [
              "IPY_MODEL_1d07d4ccbf99401e997794b1e12500dc",
              "IPY_MODEL_02156a0ba4fd4fcfab9e3118cd9d8052"
            ]
          }
        },
        "cc6f8a483d0c4b8db754b16052816085": {
          "model_module": "@jupyter-widgets/base",
          "model_name": "LayoutModel",
          "state": {
            "_view_name": "LayoutView",
            "grid_template_rows": null,
            "right": null,
            "justify_content": null,
            "_view_module": "@jupyter-widgets/base",
            "overflow": null,
            "_model_module_version": "1.2.0",
            "_view_count": null,
            "flex_flow": null,
            "width": null,
            "min_width": null,
            "border": null,
            "align_items": null,
            "bottom": null,
            "_model_module": "@jupyter-widgets/base",
            "top": null,
            "grid_column": null,
            "overflow_y": null,
            "overflow_x": null,
            "grid_auto_flow": null,
            "grid_area": null,
            "grid_template_columns": null,
            "flex": null,
            "_model_name": "LayoutModel",
            "justify_items": null,
            "grid_row": null,
            "max_height": null,
            "align_content": null,
            "visibility": null,
            "align_self": null,
            "height": null,
            "min_height": null,
            "padding": null,
            "grid_auto_rows": null,
            "grid_gap": null,
            "max_width": null,
            "order": null,
            "_view_module_version": "1.2.0",
            "grid_template_areas": null,
            "object_position": null,
            "object_fit": null,
            "grid_auto_columns": null,
            "margin": null,
            "display": null,
            "left": null
          }
        },
        "1d07d4ccbf99401e997794b1e12500dc": {
          "model_module": "@jupyter-widgets/controls",
          "model_name": "FloatProgressModel",
          "state": {
            "_view_name": "ProgressView",
            "style": "IPY_MODEL_bc110dab4721421f8eaa77c79d3f48aa",
            "_dom_classes": [],
            "description": "100%",
            "_model_name": "FloatProgressModel",
            "bar_style": "success",
            "max": 17167,
            "_view_module": "@jupyter-widgets/controls",
            "_model_module_version": "1.5.0",
            "value": 17167,
            "_view_count": null,
            "_view_module_version": "1.5.0",
            "orientation": "horizontal",
            "min": 0,
            "description_tooltip": null,
            "_model_module": "@jupyter-widgets/controls",
            "layout": "IPY_MODEL_cf440f1fd4534a62bf4ffd26ae823778"
          }
        },
        "02156a0ba4fd4fcfab9e3118cd9d8052": {
          "model_module": "@jupyter-widgets/controls",
          "model_name": "HTMLModel",
          "state": {
            "_view_name": "HTMLView",
            "style": "IPY_MODEL_822472f31af1454297d31d29c2df419d",
            "_dom_classes": [],
            "description": "",
            "_model_name": "HTMLModel",
            "placeholder": "​",
            "_view_module": "@jupyter-widgets/controls",
            "_model_module_version": "1.5.0",
            "value": " 17167/17167 [23:22&lt;00:00, 12.24it/s]",
            "_view_count": null,
            "_view_module_version": "1.5.0",
            "description_tooltip": null,
            "_model_module": "@jupyter-widgets/controls",
            "layout": "IPY_MODEL_cb88de68fb4f4027b1a04aca41eff7b6"
          }
        },
        "bc110dab4721421f8eaa77c79d3f48aa": {
          "model_module": "@jupyter-widgets/controls",
          "model_name": "ProgressStyleModel",
          "state": {
            "_view_name": "StyleView",
            "_model_name": "ProgressStyleModel",
            "description_width": "initial",
            "_view_module": "@jupyter-widgets/base",
            "_model_module_version": "1.5.0",
            "_view_count": null,
            "_view_module_version": "1.2.0",
            "bar_color": null,
            "_model_module": "@jupyter-widgets/controls"
          }
        },
        "cf440f1fd4534a62bf4ffd26ae823778": {
          "model_module": "@jupyter-widgets/base",
          "model_name": "LayoutModel",
          "state": {
            "_view_name": "LayoutView",
            "grid_template_rows": null,
            "right": null,
            "justify_content": null,
            "_view_module": "@jupyter-widgets/base",
            "overflow": null,
            "_model_module_version": "1.2.0",
            "_view_count": null,
            "flex_flow": null,
            "width": null,
            "min_width": null,
            "border": null,
            "align_items": null,
            "bottom": null,
            "_model_module": "@jupyter-widgets/base",
            "top": null,
            "grid_column": null,
            "overflow_y": null,
            "overflow_x": null,
            "grid_auto_flow": null,
            "grid_area": null,
            "grid_template_columns": null,
            "flex": null,
            "_model_name": "LayoutModel",
            "justify_items": null,
            "grid_row": null,
            "max_height": null,
            "align_content": null,
            "visibility": null,
            "align_self": null,
            "height": null,
            "min_height": null,
            "padding": null,
            "grid_auto_rows": null,
            "grid_gap": null,
            "max_width": null,
            "order": null,
            "_view_module_version": "1.2.0",
            "grid_template_areas": null,
            "object_position": null,
            "object_fit": null,
            "grid_auto_columns": null,
            "margin": null,
            "display": null,
            "left": null
          }
        },
        "822472f31af1454297d31d29c2df419d": {
          "model_module": "@jupyter-widgets/controls",
          "model_name": "DescriptionStyleModel",
          "state": {
            "_view_name": "StyleView",
            "_model_name": "DescriptionStyleModel",
            "description_width": "",
            "_view_module": "@jupyter-widgets/base",
            "_model_module_version": "1.5.0",
            "_view_count": null,
            "_view_module_version": "1.2.0",
            "_model_module": "@jupyter-widgets/controls"
          }
        },
        "cb88de68fb4f4027b1a04aca41eff7b6": {
          "model_module": "@jupyter-widgets/base",
          "model_name": "LayoutModel",
          "state": {
            "_view_name": "LayoutView",
            "grid_template_rows": null,
            "right": null,
            "justify_content": null,
            "_view_module": "@jupyter-widgets/base",
            "overflow": null,
            "_model_module_version": "1.2.0",
            "_view_count": null,
            "flex_flow": null,
            "width": null,
            "min_width": null,
            "border": null,
            "align_items": null,
            "bottom": null,
            "_model_module": "@jupyter-widgets/base",
            "top": null,
            "grid_column": null,
            "overflow_y": null,
            "overflow_x": null,
            "grid_auto_flow": null,
            "grid_area": null,
            "grid_template_columns": null,
            "flex": null,
            "_model_name": "LayoutModel",
            "justify_items": null,
            "grid_row": null,
            "max_height": null,
            "align_content": null,
            "visibility": null,
            "align_self": null,
            "height": null,
            "min_height": null,
            "padding": null,
            "grid_auto_rows": null,
            "grid_gap": null,
            "max_width": null,
            "order": null,
            "_view_module_version": "1.2.0",
            "grid_template_areas": null,
            "object_position": null,
            "object_fit": null,
            "grid_auto_columns": null,
            "margin": null,
            "display": null,
            "left": null
          }
        },
        "647d8780643f4e1e89533e1a9f2fe6d1": {
          "model_module": "@jupyter-widgets/controls",
          "model_name": "HBoxModel",
          "state": {
            "_view_name": "HBoxView",
            "_dom_classes": [],
            "_model_name": "HBoxModel",
            "_view_module": "@jupyter-widgets/controls",
            "_model_module_version": "1.5.0",
            "_view_count": null,
            "_view_module_version": "1.5.0",
            "box_style": "",
            "layout": "IPY_MODEL_05a92c7a6ca14d6eaac7fcbae1ce02f5",
            "_model_module": "@jupyter-widgets/controls",
            "children": [
              "IPY_MODEL_7e817cf54bae48ddbb20c0e973146851",
              "IPY_MODEL_055c128c702346f1962676a11b3e9fff"
            ]
          }
        },
        "05a92c7a6ca14d6eaac7fcbae1ce02f5": {
          "model_module": "@jupyter-widgets/base",
          "model_name": "LayoutModel",
          "state": {
            "_view_name": "LayoutView",
            "grid_template_rows": null,
            "right": null,
            "justify_content": null,
            "_view_module": "@jupyter-widgets/base",
            "overflow": null,
            "_model_module_version": "1.2.0",
            "_view_count": null,
            "flex_flow": null,
            "width": null,
            "min_width": null,
            "border": null,
            "align_items": null,
            "bottom": null,
            "_model_module": "@jupyter-widgets/base",
            "top": null,
            "grid_column": null,
            "overflow_y": null,
            "overflow_x": null,
            "grid_auto_flow": null,
            "grid_area": null,
            "grid_template_columns": null,
            "flex": null,
            "_model_name": "LayoutModel",
            "justify_items": null,
            "grid_row": null,
            "max_height": null,
            "align_content": null,
            "visibility": null,
            "align_self": null,
            "height": null,
            "min_height": null,
            "padding": null,
            "grid_auto_rows": null,
            "grid_gap": null,
            "max_width": null,
            "order": null,
            "_view_module_version": "1.2.0",
            "grid_template_areas": null,
            "object_position": null,
            "object_fit": null,
            "grid_auto_columns": null,
            "margin": null,
            "display": null,
            "left": null
          }
        },
        "7e817cf54bae48ddbb20c0e973146851": {
          "model_module": "@jupyter-widgets/controls",
          "model_name": "FloatProgressModel",
          "state": {
            "_view_name": "ProgressView",
            "style": "IPY_MODEL_308b26a5bd0a47b7ada263b6e91f6714",
            "_dom_classes": [],
            "description": "100%",
            "_model_name": "FloatProgressModel",
            "bar_style": "success",
            "max": 2146,
            "_view_module": "@jupyter-widgets/controls",
            "_model_module_version": "1.5.0",
            "value": 2146,
            "_view_count": null,
            "_view_module_version": "1.5.0",
            "orientation": "horizontal",
            "min": 0,
            "description_tooltip": null,
            "_model_module": "@jupyter-widgets/controls",
            "layout": "IPY_MODEL_673e9c679a56423d90fd410221572768"
          }
        },
        "055c128c702346f1962676a11b3e9fff": {
          "model_module": "@jupyter-widgets/controls",
          "model_name": "HTMLModel",
          "state": {
            "_view_name": "HTMLView",
            "style": "IPY_MODEL_79d9b5279f7f46d8a9e97689cd7ad8b6",
            "_dom_classes": [],
            "description": "",
            "_model_name": "HTMLModel",
            "placeholder": "​",
            "_view_module": "@jupyter-widgets/controls",
            "_model_module_version": "1.5.0",
            "value": " 2146/2146 [00:02&lt;00:00, 940.33it/s]",
            "_view_count": null,
            "_view_module_version": "1.5.0",
            "description_tooltip": null,
            "_model_module": "@jupyter-widgets/controls",
            "layout": "IPY_MODEL_f2b3048c0d2c428a93c440acdc940659"
          }
        },
        "308b26a5bd0a47b7ada263b6e91f6714": {
          "model_module": "@jupyter-widgets/controls",
          "model_name": "ProgressStyleModel",
          "state": {
            "_view_name": "StyleView",
            "_model_name": "ProgressStyleModel",
            "description_width": "initial",
            "_view_module": "@jupyter-widgets/base",
            "_model_module_version": "1.5.0",
            "_view_count": null,
            "_view_module_version": "1.2.0",
            "bar_color": null,
            "_model_module": "@jupyter-widgets/controls"
          }
        },
        "673e9c679a56423d90fd410221572768": {
          "model_module": "@jupyter-widgets/base",
          "model_name": "LayoutModel",
          "state": {
            "_view_name": "LayoutView",
            "grid_template_rows": null,
            "right": null,
            "justify_content": null,
            "_view_module": "@jupyter-widgets/base",
            "overflow": null,
            "_model_module_version": "1.2.0",
            "_view_count": null,
            "flex_flow": null,
            "width": null,
            "min_width": null,
            "border": null,
            "align_items": null,
            "bottom": null,
            "_model_module": "@jupyter-widgets/base",
            "top": null,
            "grid_column": null,
            "overflow_y": null,
            "overflow_x": null,
            "grid_auto_flow": null,
            "grid_area": null,
            "grid_template_columns": null,
            "flex": null,
            "_model_name": "LayoutModel",
            "justify_items": null,
            "grid_row": null,
            "max_height": null,
            "align_content": null,
            "visibility": null,
            "align_self": null,
            "height": null,
            "min_height": null,
            "padding": null,
            "grid_auto_rows": null,
            "grid_gap": null,
            "max_width": null,
            "order": null,
            "_view_module_version": "1.2.0",
            "grid_template_areas": null,
            "object_position": null,
            "object_fit": null,
            "grid_auto_columns": null,
            "margin": null,
            "display": null,
            "left": null
          }
        },
        "79d9b5279f7f46d8a9e97689cd7ad8b6": {
          "model_module": "@jupyter-widgets/controls",
          "model_name": "DescriptionStyleModel",
          "state": {
            "_view_name": "StyleView",
            "_model_name": "DescriptionStyleModel",
            "description_width": "",
            "_view_module": "@jupyter-widgets/base",
            "_model_module_version": "1.5.0",
            "_view_count": null,
            "_view_module_version": "1.2.0",
            "_model_module": "@jupyter-widgets/controls"
          }
        },
        "f2b3048c0d2c428a93c440acdc940659": {
          "model_module": "@jupyter-widgets/base",
          "model_name": "LayoutModel",
          "state": {
            "_view_name": "LayoutView",
            "grid_template_rows": null,
            "right": null,
            "justify_content": null,
            "_view_module": "@jupyter-widgets/base",
            "overflow": null,
            "_model_module_version": "1.2.0",
            "_view_count": null,
            "flex_flow": null,
            "width": null,
            "min_width": null,
            "border": null,
            "align_items": null,
            "bottom": null,
            "_model_module": "@jupyter-widgets/base",
            "top": null,
            "grid_column": null,
            "overflow_y": null,
            "overflow_x": null,
            "grid_auto_flow": null,
            "grid_area": null,
            "grid_template_columns": null,
            "flex": null,
            "_model_name": "LayoutModel",
            "justify_items": null,
            "grid_row": null,
            "max_height": null,
            "align_content": null,
            "visibility": null,
            "align_self": null,
            "height": null,
            "min_height": null,
            "padding": null,
            "grid_auto_rows": null,
            "grid_gap": null,
            "max_width": null,
            "order": null,
            "_view_module_version": "1.2.0",
            "grid_template_areas": null,
            "object_position": null,
            "object_fit": null,
            "grid_auto_columns": null,
            "margin": null,
            "display": null,
            "left": null
          }
        },
        "c36ee7ab43bb49eb919d1cee44706349": {
          "model_module": "@jupyter-widgets/controls",
          "model_name": "HBoxModel",
          "state": {
            "_view_name": "HBoxView",
            "_dom_classes": [],
            "_model_name": "HBoxModel",
            "_view_module": "@jupyter-widgets/controls",
            "_model_module_version": "1.5.0",
            "_view_count": null,
            "_view_module_version": "1.5.0",
            "box_style": "",
            "layout": "IPY_MODEL_f6eaddfea5164daa84fc10a6ac8c4d50",
            "_model_module": "@jupyter-widgets/controls",
            "children": [
              "IPY_MODEL_fc7819d448b14d4c8dc2436c5a132a6f",
              "IPY_MODEL_d20346eac5e549aca35b8d1dd7879587"
            ]
          }
        },
        "f6eaddfea5164daa84fc10a6ac8c4d50": {
          "model_module": "@jupyter-widgets/base",
          "model_name": "LayoutModel",
          "state": {
            "_view_name": "LayoutView",
            "grid_template_rows": null,
            "right": null,
            "justify_content": null,
            "_view_module": "@jupyter-widgets/base",
            "overflow": null,
            "_model_module_version": "1.2.0",
            "_view_count": null,
            "flex_flow": null,
            "width": null,
            "min_width": null,
            "border": null,
            "align_items": null,
            "bottom": null,
            "_model_module": "@jupyter-widgets/base",
            "top": null,
            "grid_column": null,
            "overflow_y": null,
            "overflow_x": null,
            "grid_auto_flow": null,
            "grid_area": null,
            "grid_template_columns": null,
            "flex": null,
            "_model_name": "LayoutModel",
            "justify_items": null,
            "grid_row": null,
            "max_height": null,
            "align_content": null,
            "visibility": null,
            "align_self": null,
            "height": null,
            "min_height": null,
            "padding": null,
            "grid_auto_rows": null,
            "grid_gap": null,
            "max_width": null,
            "order": null,
            "_view_module_version": "1.2.0",
            "grid_template_areas": null,
            "object_position": null,
            "object_fit": null,
            "grid_auto_columns": null,
            "margin": null,
            "display": null,
            "left": null
          }
        },
        "fc7819d448b14d4c8dc2436c5a132a6f": {
          "model_module": "@jupyter-widgets/controls",
          "model_name": "FloatProgressModel",
          "state": {
            "_view_name": "ProgressView",
            "style": "IPY_MODEL_9c0aab62907a43428a0cc259720eb9c9",
            "_dom_classes": [],
            "description": "100%",
            "_model_name": "FloatProgressModel",
            "bar_style": "success",
            "max": 2146,
            "_view_module": "@jupyter-widgets/controls",
            "_model_module_version": "1.5.0",
            "value": 2146,
            "_view_count": null,
            "_view_module_version": "1.5.0",
            "orientation": "horizontal",
            "min": 0,
            "description_tooltip": null,
            "_model_module": "@jupyter-widgets/controls",
            "layout": "IPY_MODEL_b66c7a6d2c244f39a0cf39fa612b4ba6"
          }
        },
        "d20346eac5e549aca35b8d1dd7879587": {
          "model_module": "@jupyter-widgets/controls",
          "model_name": "HTMLModel",
          "state": {
            "_view_name": "HTMLView",
            "style": "IPY_MODEL_b79d509e19694017878d959666ed8fd3",
            "_dom_classes": [],
            "description": "",
            "_model_name": "HTMLModel",
            "placeholder": "​",
            "_view_module": "@jupyter-widgets/controls",
            "_model_module_version": "1.5.0",
            "value": " 2146/2146 [00:02&lt;00:00, 773.00it/s]",
            "_view_count": null,
            "_view_module_version": "1.5.0",
            "description_tooltip": null,
            "_model_module": "@jupyter-widgets/controls",
            "layout": "IPY_MODEL_7fa1d0cb18884b9e9be33beac0948ec0"
          }
        },
        "9c0aab62907a43428a0cc259720eb9c9": {
          "model_module": "@jupyter-widgets/controls",
          "model_name": "ProgressStyleModel",
          "state": {
            "_view_name": "StyleView",
            "_model_name": "ProgressStyleModel",
            "description_width": "initial",
            "_view_module": "@jupyter-widgets/base",
            "_model_module_version": "1.5.0",
            "_view_count": null,
            "_view_module_version": "1.2.0",
            "bar_color": null,
            "_model_module": "@jupyter-widgets/controls"
          }
        },
        "b66c7a6d2c244f39a0cf39fa612b4ba6": {
          "model_module": "@jupyter-widgets/base",
          "model_name": "LayoutModel",
          "state": {
            "_view_name": "LayoutView",
            "grid_template_rows": null,
            "right": null,
            "justify_content": null,
            "_view_module": "@jupyter-widgets/base",
            "overflow": null,
            "_model_module_version": "1.2.0",
            "_view_count": null,
            "flex_flow": null,
            "width": null,
            "min_width": null,
            "border": null,
            "align_items": null,
            "bottom": null,
            "_model_module": "@jupyter-widgets/base",
            "top": null,
            "grid_column": null,
            "overflow_y": null,
            "overflow_x": null,
            "grid_auto_flow": null,
            "grid_area": null,
            "grid_template_columns": null,
            "flex": null,
            "_model_name": "LayoutModel",
            "justify_items": null,
            "grid_row": null,
            "max_height": null,
            "align_content": null,
            "visibility": null,
            "align_self": null,
            "height": null,
            "min_height": null,
            "padding": null,
            "grid_auto_rows": null,
            "grid_gap": null,
            "max_width": null,
            "order": null,
            "_view_module_version": "1.2.0",
            "grid_template_areas": null,
            "object_position": null,
            "object_fit": null,
            "grid_auto_columns": null,
            "margin": null,
            "display": null,
            "left": null
          }
        },
        "b79d509e19694017878d959666ed8fd3": {
          "model_module": "@jupyter-widgets/controls",
          "model_name": "DescriptionStyleModel",
          "state": {
            "_view_name": "StyleView",
            "_model_name": "DescriptionStyleModel",
            "description_width": "",
            "_view_module": "@jupyter-widgets/base",
            "_model_module_version": "1.5.0",
            "_view_count": null,
            "_view_module_version": "1.2.0",
            "_model_module": "@jupyter-widgets/controls"
          }
        },
        "7fa1d0cb18884b9e9be33beac0948ec0": {
          "model_module": "@jupyter-widgets/base",
          "model_name": "LayoutModel",
          "state": {
            "_view_name": "LayoutView",
            "grid_template_rows": null,
            "right": null,
            "justify_content": null,
            "_view_module": "@jupyter-widgets/base",
            "overflow": null,
            "_model_module_version": "1.2.0",
            "_view_count": null,
            "flex_flow": null,
            "width": null,
            "min_width": null,
            "border": null,
            "align_items": null,
            "bottom": null,
            "_model_module": "@jupyter-widgets/base",
            "top": null,
            "grid_column": null,
            "overflow_y": null,
            "overflow_x": null,
            "grid_auto_flow": null,
            "grid_area": null,
            "grid_template_columns": null,
            "flex": null,
            "_model_name": "LayoutModel",
            "justify_items": null,
            "grid_row": null,
            "max_height": null,
            "align_content": null,
            "visibility": null,
            "align_self": null,
            "height": null,
            "min_height": null,
            "padding": null,
            "grid_auto_rows": null,
            "grid_gap": null,
            "max_width": null,
            "order": null,
            "_view_module_version": "1.2.0",
            "grid_template_areas": null,
            "object_position": null,
            "object_fit": null,
            "grid_auto_columns": null,
            "margin": null,
            "display": null,
            "left": null
          }
        },
        "196926210a924e398feb379403b6bcd3": {
          "model_module": "@jupyter-widgets/controls",
          "model_name": "HBoxModel",
          "state": {
            "_view_name": "HBoxView",
            "_dom_classes": [],
            "_model_name": "HBoxModel",
            "_view_module": "@jupyter-widgets/controls",
            "_model_module_version": "1.5.0",
            "_view_count": null,
            "_view_module_version": "1.5.0",
            "box_style": "",
            "layout": "IPY_MODEL_93c22fcac220441cb081ac31f084aa7d",
            "_model_module": "@jupyter-widgets/controls",
            "children": [
              "IPY_MODEL_a892cecce3d84345aad4519e72fd4aa3",
              "IPY_MODEL_d614252badcb4c68a0dbf653c646c754"
            ]
          }
        },
        "93c22fcac220441cb081ac31f084aa7d": {
          "model_module": "@jupyter-widgets/base",
          "model_name": "LayoutModel",
          "state": {
            "_view_name": "LayoutView",
            "grid_template_rows": null,
            "right": null,
            "justify_content": null,
            "_view_module": "@jupyter-widgets/base",
            "overflow": null,
            "_model_module_version": "1.2.0",
            "_view_count": null,
            "flex_flow": null,
            "width": null,
            "min_width": null,
            "border": null,
            "align_items": null,
            "bottom": null,
            "_model_module": "@jupyter-widgets/base",
            "top": null,
            "grid_column": null,
            "overflow_y": null,
            "overflow_x": null,
            "grid_auto_flow": null,
            "grid_area": null,
            "grid_template_columns": null,
            "flex": null,
            "_model_name": "LayoutModel",
            "justify_items": null,
            "grid_row": null,
            "max_height": null,
            "align_content": null,
            "visibility": null,
            "align_self": null,
            "height": null,
            "min_height": null,
            "padding": null,
            "grid_auto_rows": null,
            "grid_gap": null,
            "max_width": null,
            "order": null,
            "_view_module_version": "1.2.0",
            "grid_template_areas": null,
            "object_position": null,
            "object_fit": null,
            "grid_auto_columns": null,
            "margin": null,
            "display": null,
            "left": null
          }
        },
        "a892cecce3d84345aad4519e72fd4aa3": {
          "model_module": "@jupyter-widgets/controls",
          "model_name": "FloatProgressModel",
          "state": {
            "_view_name": "ProgressView",
            "style": "IPY_MODEL_bd2657200303475f80b4763fb74f456c",
            "_dom_classes": [],
            "description": "100%",
            "_model_name": "FloatProgressModel",
            "bar_style": "success",
            "max": 2146,
            "_view_module": "@jupyter-widgets/controls",
            "_model_module_version": "1.5.0",
            "value": 2146,
            "_view_count": null,
            "_view_module_version": "1.5.0",
            "orientation": "horizontal",
            "min": 0,
            "description_tooltip": null,
            "_model_module": "@jupyter-widgets/controls",
            "layout": "IPY_MODEL_b9753cbc24094155ba5621728d79be28"
          }
        },
        "d614252badcb4c68a0dbf653c646c754": {
          "model_module": "@jupyter-widgets/controls",
          "model_name": "HTMLModel",
          "state": {
            "_view_name": "HTMLView",
            "style": "IPY_MODEL_b194f8ab71924f2ba75872a58c542197",
            "_dom_classes": [],
            "description": "",
            "_model_name": "HTMLModel",
            "placeholder": "​",
            "_view_module": "@jupyter-widgets/controls",
            "_model_module_version": "1.5.0",
            "value": " 2146/2146 [00:00&lt;00:00, 21222.21it/s]",
            "_view_count": null,
            "_view_module_version": "1.5.0",
            "description_tooltip": null,
            "_model_module": "@jupyter-widgets/controls",
            "layout": "IPY_MODEL_fc9948a008f7438bbbc7ef0d36e3ce7b"
          }
        },
        "bd2657200303475f80b4763fb74f456c": {
          "model_module": "@jupyter-widgets/controls",
          "model_name": "ProgressStyleModel",
          "state": {
            "_view_name": "StyleView",
            "_model_name": "ProgressStyleModel",
            "description_width": "initial",
            "_view_module": "@jupyter-widgets/base",
            "_model_module_version": "1.5.0",
            "_view_count": null,
            "_view_module_version": "1.2.0",
            "bar_color": null,
            "_model_module": "@jupyter-widgets/controls"
          }
        },
        "b9753cbc24094155ba5621728d79be28": {
          "model_module": "@jupyter-widgets/base",
          "model_name": "LayoutModel",
          "state": {
            "_view_name": "LayoutView",
            "grid_template_rows": null,
            "right": null,
            "justify_content": null,
            "_view_module": "@jupyter-widgets/base",
            "overflow": null,
            "_model_module_version": "1.2.0",
            "_view_count": null,
            "flex_flow": null,
            "width": null,
            "min_width": null,
            "border": null,
            "align_items": null,
            "bottom": null,
            "_model_module": "@jupyter-widgets/base",
            "top": null,
            "grid_column": null,
            "overflow_y": null,
            "overflow_x": null,
            "grid_auto_flow": null,
            "grid_area": null,
            "grid_template_columns": null,
            "flex": null,
            "_model_name": "LayoutModel",
            "justify_items": null,
            "grid_row": null,
            "max_height": null,
            "align_content": null,
            "visibility": null,
            "align_self": null,
            "height": null,
            "min_height": null,
            "padding": null,
            "grid_auto_rows": null,
            "grid_gap": null,
            "max_width": null,
            "order": null,
            "_view_module_version": "1.2.0",
            "grid_template_areas": null,
            "object_position": null,
            "object_fit": null,
            "grid_auto_columns": null,
            "margin": null,
            "display": null,
            "left": null
          }
        },
        "b194f8ab71924f2ba75872a58c542197": {
          "model_module": "@jupyter-widgets/controls",
          "model_name": "DescriptionStyleModel",
          "state": {
            "_view_name": "StyleView",
            "_model_name": "DescriptionStyleModel",
            "description_width": "",
            "_view_module": "@jupyter-widgets/base",
            "_model_module_version": "1.5.0",
            "_view_count": null,
            "_view_module_version": "1.2.0",
            "_model_module": "@jupyter-widgets/controls"
          }
        },
        "fc9948a008f7438bbbc7ef0d36e3ce7b": {
          "model_module": "@jupyter-widgets/base",
          "model_name": "LayoutModel",
          "state": {
            "_view_name": "LayoutView",
            "grid_template_rows": null,
            "right": null,
            "justify_content": null,
            "_view_module": "@jupyter-widgets/base",
            "overflow": null,
            "_model_module_version": "1.2.0",
            "_view_count": null,
            "flex_flow": null,
            "width": null,
            "min_width": null,
            "border": null,
            "align_items": null,
            "bottom": null,
            "_model_module": "@jupyter-widgets/base",
            "top": null,
            "grid_column": null,
            "overflow_y": null,
            "overflow_x": null,
            "grid_auto_flow": null,
            "grid_area": null,
            "grid_template_columns": null,
            "flex": null,
            "_model_name": "LayoutModel",
            "justify_items": null,
            "grid_row": null,
            "max_height": null,
            "align_content": null,
            "visibility": null,
            "align_self": null,
            "height": null,
            "min_height": null,
            "padding": null,
            "grid_auto_rows": null,
            "grid_gap": null,
            "max_width": null,
            "order": null,
            "_view_module_version": "1.2.0",
            "grid_template_areas": null,
            "object_position": null,
            "object_fit": null,
            "grid_auto_columns": null,
            "margin": null,
            "display": null,
            "left": null
          }
        },
        "ea9e14aa2351439787327ab1f0f8b3b7": {
          "model_module": "@jupyter-widgets/controls",
          "model_name": "HBoxModel",
          "state": {
            "_view_name": "HBoxView",
            "_dom_classes": [],
            "_model_name": "HBoxModel",
            "_view_module": "@jupyter-widgets/controls",
            "_model_module_version": "1.5.0",
            "_view_count": null,
            "_view_module_version": "1.5.0",
            "box_style": "",
            "layout": "IPY_MODEL_d4fe482577a94ed9a3e3de46f6fa44cb",
            "_model_module": "@jupyter-widgets/controls",
            "children": [
              "IPY_MODEL_b068266bc3344255886e1ad307e7a70d",
              "IPY_MODEL_552e896a05694facbc7946eea9f27fde"
            ]
          }
        },
        "d4fe482577a94ed9a3e3de46f6fa44cb": {
          "model_module": "@jupyter-widgets/base",
          "model_name": "LayoutModel",
          "state": {
            "_view_name": "LayoutView",
            "grid_template_rows": null,
            "right": null,
            "justify_content": null,
            "_view_module": "@jupyter-widgets/base",
            "overflow": null,
            "_model_module_version": "1.2.0",
            "_view_count": null,
            "flex_flow": null,
            "width": null,
            "min_width": null,
            "border": null,
            "align_items": null,
            "bottom": null,
            "_model_module": "@jupyter-widgets/base",
            "top": null,
            "grid_column": null,
            "overflow_y": null,
            "overflow_x": null,
            "grid_auto_flow": null,
            "grid_area": null,
            "grid_template_columns": null,
            "flex": null,
            "_model_name": "LayoutModel",
            "justify_items": null,
            "grid_row": null,
            "max_height": null,
            "align_content": null,
            "visibility": null,
            "align_self": null,
            "height": null,
            "min_height": null,
            "padding": null,
            "grid_auto_rows": null,
            "grid_gap": null,
            "max_width": null,
            "order": null,
            "_view_module_version": "1.2.0",
            "grid_template_areas": null,
            "object_position": null,
            "object_fit": null,
            "grid_auto_columns": null,
            "margin": null,
            "display": null,
            "left": null
          }
        },
        "b068266bc3344255886e1ad307e7a70d": {
          "model_module": "@jupyter-widgets/controls",
          "model_name": "FloatProgressModel",
          "state": {
            "_view_name": "ProgressView",
            "style": "IPY_MODEL_cdf5fe7b5ef44d4187b8d379235f4de8",
            "_dom_classes": [],
            "description": "100%",
            "_model_name": "FloatProgressModel",
            "bar_style": "success",
            "max": 2146,
            "_view_module": "@jupyter-widgets/controls",
            "_model_module_version": "1.5.0",
            "value": 2146,
            "_view_count": null,
            "_view_module_version": "1.5.0",
            "orientation": "horizontal",
            "min": 0,
            "description_tooltip": null,
            "_model_module": "@jupyter-widgets/controls",
            "layout": "IPY_MODEL_217dc1c2f3ba4042a6427a51d8a38252"
          }
        },
        "552e896a05694facbc7946eea9f27fde": {
          "model_module": "@jupyter-widgets/controls",
          "model_name": "HTMLModel",
          "state": {
            "_view_name": "HTMLView",
            "style": "IPY_MODEL_09a9da7e1b21400bb58d9ab017f90f25",
            "_dom_classes": [],
            "description": "",
            "_model_name": "HTMLModel",
            "placeholder": "​",
            "_view_module": "@jupyter-widgets/controls",
            "_model_module_version": "1.5.0",
            "value": " 2146/2146 [00:00&lt;00:00, 4551.71it/s]",
            "_view_count": null,
            "_view_module_version": "1.5.0",
            "description_tooltip": null,
            "_model_module": "@jupyter-widgets/controls",
            "layout": "IPY_MODEL_49f47907efb24bce9047dee255296327"
          }
        },
        "cdf5fe7b5ef44d4187b8d379235f4de8": {
          "model_module": "@jupyter-widgets/controls",
          "model_name": "ProgressStyleModel",
          "state": {
            "_view_name": "StyleView",
            "_model_name": "ProgressStyleModel",
            "description_width": "initial",
            "_view_module": "@jupyter-widgets/base",
            "_model_module_version": "1.5.0",
            "_view_count": null,
            "_view_module_version": "1.2.0",
            "bar_color": null,
            "_model_module": "@jupyter-widgets/controls"
          }
        },
        "217dc1c2f3ba4042a6427a51d8a38252": {
          "model_module": "@jupyter-widgets/base",
          "model_name": "LayoutModel",
          "state": {
            "_view_name": "LayoutView",
            "grid_template_rows": null,
            "right": null,
            "justify_content": null,
            "_view_module": "@jupyter-widgets/base",
            "overflow": null,
            "_model_module_version": "1.2.0",
            "_view_count": null,
            "flex_flow": null,
            "width": null,
            "min_width": null,
            "border": null,
            "align_items": null,
            "bottom": null,
            "_model_module": "@jupyter-widgets/base",
            "top": null,
            "grid_column": null,
            "overflow_y": null,
            "overflow_x": null,
            "grid_auto_flow": null,
            "grid_area": null,
            "grid_template_columns": null,
            "flex": null,
            "_model_name": "LayoutModel",
            "justify_items": null,
            "grid_row": null,
            "max_height": null,
            "align_content": null,
            "visibility": null,
            "align_self": null,
            "height": null,
            "min_height": null,
            "padding": null,
            "grid_auto_rows": null,
            "grid_gap": null,
            "max_width": null,
            "order": null,
            "_view_module_version": "1.2.0",
            "grid_template_areas": null,
            "object_position": null,
            "object_fit": null,
            "grid_auto_columns": null,
            "margin": null,
            "display": null,
            "left": null
          }
        },
        "09a9da7e1b21400bb58d9ab017f90f25": {
          "model_module": "@jupyter-widgets/controls",
          "model_name": "DescriptionStyleModel",
          "state": {
            "_view_name": "StyleView",
            "_model_name": "DescriptionStyleModel",
            "description_width": "",
            "_view_module": "@jupyter-widgets/base",
            "_model_module_version": "1.5.0",
            "_view_count": null,
            "_view_module_version": "1.2.0",
            "_model_module": "@jupyter-widgets/controls"
          }
        },
        "49f47907efb24bce9047dee255296327": {
          "model_module": "@jupyter-widgets/base",
          "model_name": "LayoutModel",
          "state": {
            "_view_name": "LayoutView",
            "grid_template_rows": null,
            "right": null,
            "justify_content": null,
            "_view_module": "@jupyter-widgets/base",
            "overflow": null,
            "_model_module_version": "1.2.0",
            "_view_count": null,
            "flex_flow": null,
            "width": null,
            "min_width": null,
            "border": null,
            "align_items": null,
            "bottom": null,
            "_model_module": "@jupyter-widgets/base",
            "top": null,
            "grid_column": null,
            "overflow_y": null,
            "overflow_x": null,
            "grid_auto_flow": null,
            "grid_area": null,
            "grid_template_columns": null,
            "flex": null,
            "_model_name": "LayoutModel",
            "justify_items": null,
            "grid_row": null,
            "max_height": null,
            "align_content": null,
            "visibility": null,
            "align_self": null,
            "height": null,
            "min_height": null,
            "padding": null,
            "grid_auto_rows": null,
            "grid_gap": null,
            "max_width": null,
            "order": null,
            "_view_module_version": "1.2.0",
            "grid_template_areas": null,
            "object_position": null,
            "object_fit": null,
            "grid_auto_columns": null,
            "margin": null,
            "display": null,
            "left": null
          }
        },
        "db5da79552614202ba3c9c31ff7c43f1": {
          "model_module": "@jupyter-widgets/controls",
          "model_name": "HBoxModel",
          "state": {
            "_view_name": "HBoxView",
            "_dom_classes": [],
            "_model_name": "HBoxModel",
            "_view_module": "@jupyter-widgets/controls",
            "_model_module_version": "1.5.0",
            "_view_count": null,
            "_view_module_version": "1.5.0",
            "box_style": "",
            "layout": "IPY_MODEL_4b7ea34be97d4314af15cae8f15975b5",
            "_model_module": "@jupyter-widgets/controls",
            "children": [
              "IPY_MODEL_792b897ac4ab4b9c89f72ea371f9be64",
              "IPY_MODEL_e318d56e5f78472b91d7c92eccb19212"
            ]
          }
        },
        "4b7ea34be97d4314af15cae8f15975b5": {
          "model_module": "@jupyter-widgets/base",
          "model_name": "LayoutModel",
          "state": {
            "_view_name": "LayoutView",
            "grid_template_rows": null,
            "right": null,
            "justify_content": null,
            "_view_module": "@jupyter-widgets/base",
            "overflow": null,
            "_model_module_version": "1.2.0",
            "_view_count": null,
            "flex_flow": null,
            "width": null,
            "min_width": null,
            "border": null,
            "align_items": null,
            "bottom": null,
            "_model_module": "@jupyter-widgets/base",
            "top": null,
            "grid_column": null,
            "overflow_y": null,
            "overflow_x": null,
            "grid_auto_flow": null,
            "grid_area": null,
            "grid_template_columns": null,
            "flex": null,
            "_model_name": "LayoutModel",
            "justify_items": null,
            "grid_row": null,
            "max_height": null,
            "align_content": null,
            "visibility": null,
            "align_self": null,
            "height": null,
            "min_height": null,
            "padding": null,
            "grid_auto_rows": null,
            "grid_gap": null,
            "max_width": null,
            "order": null,
            "_view_module_version": "1.2.0",
            "grid_template_areas": null,
            "object_position": null,
            "object_fit": null,
            "grid_auto_columns": null,
            "margin": null,
            "display": null,
            "left": null
          }
        },
        "792b897ac4ab4b9c89f72ea371f9be64": {
          "model_module": "@jupyter-widgets/controls",
          "model_name": "FloatProgressModel",
          "state": {
            "_view_name": "ProgressView",
            "style": "IPY_MODEL_59210ea531354a60b37916b7e409acd2",
            "_dom_classes": [],
            "description": "100%",
            "_model_name": "FloatProgressModel",
            "bar_style": "success",
            "max": 2146,
            "_view_module": "@jupyter-widgets/controls",
            "_model_module_version": "1.5.0",
            "value": 2146,
            "_view_count": null,
            "_view_module_version": "1.5.0",
            "orientation": "horizontal",
            "min": 0,
            "description_tooltip": null,
            "_model_module": "@jupyter-widgets/controls",
            "layout": "IPY_MODEL_c440e8b60ef24c1895fb51fa69ebf563"
          }
        },
        "e318d56e5f78472b91d7c92eccb19212": {
          "model_module": "@jupyter-widgets/controls",
          "model_name": "HTMLModel",
          "state": {
            "_view_name": "HTMLView",
            "style": "IPY_MODEL_538dcade3d834c2b9f32c984e83006c6",
            "_dom_classes": [],
            "description": "",
            "_model_name": "HTMLModel",
            "placeholder": "​",
            "_view_module": "@jupyter-widgets/controls",
            "_model_module_version": "1.5.0",
            "value": " 2146/2146 [00:00&lt;00:00, 17668.03it/s]",
            "_view_count": null,
            "_view_module_version": "1.5.0",
            "description_tooltip": null,
            "_model_module": "@jupyter-widgets/controls",
            "layout": "IPY_MODEL_bf56f24dad73416f8d75ae8340654ff5"
          }
        },
        "59210ea531354a60b37916b7e409acd2": {
          "model_module": "@jupyter-widgets/controls",
          "model_name": "ProgressStyleModel",
          "state": {
            "_view_name": "StyleView",
            "_model_name": "ProgressStyleModel",
            "description_width": "initial",
            "_view_module": "@jupyter-widgets/base",
            "_model_module_version": "1.5.0",
            "_view_count": null,
            "_view_module_version": "1.2.0",
            "bar_color": null,
            "_model_module": "@jupyter-widgets/controls"
          }
        },
        "c440e8b60ef24c1895fb51fa69ebf563": {
          "model_module": "@jupyter-widgets/base",
          "model_name": "LayoutModel",
          "state": {
            "_view_name": "LayoutView",
            "grid_template_rows": null,
            "right": null,
            "justify_content": null,
            "_view_module": "@jupyter-widgets/base",
            "overflow": null,
            "_model_module_version": "1.2.0",
            "_view_count": null,
            "flex_flow": null,
            "width": null,
            "min_width": null,
            "border": null,
            "align_items": null,
            "bottom": null,
            "_model_module": "@jupyter-widgets/base",
            "top": null,
            "grid_column": null,
            "overflow_y": null,
            "overflow_x": null,
            "grid_auto_flow": null,
            "grid_area": null,
            "grid_template_columns": null,
            "flex": null,
            "_model_name": "LayoutModel",
            "justify_items": null,
            "grid_row": null,
            "max_height": null,
            "align_content": null,
            "visibility": null,
            "align_self": null,
            "height": null,
            "min_height": null,
            "padding": null,
            "grid_auto_rows": null,
            "grid_gap": null,
            "max_width": null,
            "order": null,
            "_view_module_version": "1.2.0",
            "grid_template_areas": null,
            "object_position": null,
            "object_fit": null,
            "grid_auto_columns": null,
            "margin": null,
            "display": null,
            "left": null
          }
        },
        "538dcade3d834c2b9f32c984e83006c6": {
          "model_module": "@jupyter-widgets/controls",
          "model_name": "DescriptionStyleModel",
          "state": {
            "_view_name": "StyleView",
            "_model_name": "DescriptionStyleModel",
            "description_width": "",
            "_view_module": "@jupyter-widgets/base",
            "_model_module_version": "1.5.0",
            "_view_count": null,
            "_view_module_version": "1.2.0",
            "_model_module": "@jupyter-widgets/controls"
          }
        },
        "bf56f24dad73416f8d75ae8340654ff5": {
          "model_module": "@jupyter-widgets/base",
          "model_name": "LayoutModel",
          "state": {
            "_view_name": "LayoutView",
            "grid_template_rows": null,
            "right": null,
            "justify_content": null,
            "_view_module": "@jupyter-widgets/base",
            "overflow": null,
            "_model_module_version": "1.2.0",
            "_view_count": null,
            "flex_flow": null,
            "width": null,
            "min_width": null,
            "border": null,
            "align_items": null,
            "bottom": null,
            "_model_module": "@jupyter-widgets/base",
            "top": null,
            "grid_column": null,
            "overflow_y": null,
            "overflow_x": null,
            "grid_auto_flow": null,
            "grid_area": null,
            "grid_template_columns": null,
            "flex": null,
            "_model_name": "LayoutModel",
            "justify_items": null,
            "grid_row": null,
            "max_height": null,
            "align_content": null,
            "visibility": null,
            "align_self": null,
            "height": null,
            "min_height": null,
            "padding": null,
            "grid_auto_rows": null,
            "grid_gap": null,
            "max_width": null,
            "order": null,
            "_view_module_version": "1.2.0",
            "grid_template_areas": null,
            "object_position": null,
            "object_fit": null,
            "grid_auto_columns": null,
            "margin": null,
            "display": null,
            "left": null
          }
        },
        "d16e386ff7ba4ec9a2b80052600e95de": {
          "model_module": "@jupyter-widgets/controls",
          "model_name": "HBoxModel",
          "state": {
            "_view_name": "HBoxView",
            "_dom_classes": [],
            "_model_name": "HBoxModel",
            "_view_module": "@jupyter-widgets/controls",
            "_model_module_version": "1.5.0",
            "_view_count": null,
            "_view_module_version": "1.5.0",
            "box_style": "",
            "layout": "IPY_MODEL_e8eb2d5eb1914c27ad87a50afacf954c",
            "_model_module": "@jupyter-widgets/controls",
            "children": [
              "IPY_MODEL_5dc0d47c7452419584e4eed9edae683b",
              "IPY_MODEL_a14b3ae5591f4f6cbe19f993eedef2d3"
            ]
          }
        },
        "e8eb2d5eb1914c27ad87a50afacf954c": {
          "model_module": "@jupyter-widgets/base",
          "model_name": "LayoutModel",
          "state": {
            "_view_name": "LayoutView",
            "grid_template_rows": null,
            "right": null,
            "justify_content": null,
            "_view_module": "@jupyter-widgets/base",
            "overflow": null,
            "_model_module_version": "1.2.0",
            "_view_count": null,
            "flex_flow": null,
            "width": null,
            "min_width": null,
            "border": null,
            "align_items": null,
            "bottom": null,
            "_model_module": "@jupyter-widgets/base",
            "top": null,
            "grid_column": null,
            "overflow_y": null,
            "overflow_x": null,
            "grid_auto_flow": null,
            "grid_area": null,
            "grid_template_columns": null,
            "flex": null,
            "_model_name": "LayoutModel",
            "justify_items": null,
            "grid_row": null,
            "max_height": null,
            "align_content": null,
            "visibility": null,
            "align_self": null,
            "height": null,
            "min_height": null,
            "padding": null,
            "grid_auto_rows": null,
            "grid_gap": null,
            "max_width": null,
            "order": null,
            "_view_module_version": "1.2.0",
            "grid_template_areas": null,
            "object_position": null,
            "object_fit": null,
            "grid_auto_columns": null,
            "margin": null,
            "display": null,
            "left": null
          }
        },
        "5dc0d47c7452419584e4eed9edae683b": {
          "model_module": "@jupyter-widgets/controls",
          "model_name": "FloatProgressModel",
          "state": {
            "_view_name": "ProgressView",
            "style": "IPY_MODEL_8e3a4041aff34700b4200c6f599f68e5",
            "_dom_classes": [],
            "description": "100%",
            "_model_name": "FloatProgressModel",
            "bar_style": "success",
            "max": 2146,
            "_view_module": "@jupyter-widgets/controls",
            "_model_module_version": "1.5.0",
            "value": 2146,
            "_view_count": null,
            "_view_module_version": "1.5.0",
            "orientation": "horizontal",
            "min": 0,
            "description_tooltip": null,
            "_model_module": "@jupyter-widgets/controls",
            "layout": "IPY_MODEL_8ad2e05daad24691b2f6cd9192778f4f"
          }
        },
        "a14b3ae5591f4f6cbe19f993eedef2d3": {
          "model_module": "@jupyter-widgets/controls",
          "model_name": "HTMLModel",
          "state": {
            "_view_name": "HTMLView",
            "style": "IPY_MODEL_a778bbe13c114e649e2cbf9b650100da",
            "_dom_classes": [],
            "description": "",
            "_model_name": "HTMLModel",
            "placeholder": "​",
            "_view_module": "@jupyter-widgets/controls",
            "_model_module_version": "1.5.0",
            "value": " 2146/2146 [02:58&lt;00:00, 12.01it/s]",
            "_view_count": null,
            "_view_module_version": "1.5.0",
            "description_tooltip": null,
            "_model_module": "@jupyter-widgets/controls",
            "layout": "IPY_MODEL_b808b9d21020432f83710c1c87cfd882"
          }
        },
        "8e3a4041aff34700b4200c6f599f68e5": {
          "model_module": "@jupyter-widgets/controls",
          "model_name": "ProgressStyleModel",
          "state": {
            "_view_name": "StyleView",
            "_model_name": "ProgressStyleModel",
            "description_width": "initial",
            "_view_module": "@jupyter-widgets/base",
            "_model_module_version": "1.5.0",
            "_view_count": null,
            "_view_module_version": "1.2.0",
            "bar_color": null,
            "_model_module": "@jupyter-widgets/controls"
          }
        },
        "8ad2e05daad24691b2f6cd9192778f4f": {
          "model_module": "@jupyter-widgets/base",
          "model_name": "LayoutModel",
          "state": {
            "_view_name": "LayoutView",
            "grid_template_rows": null,
            "right": null,
            "justify_content": null,
            "_view_module": "@jupyter-widgets/base",
            "overflow": null,
            "_model_module_version": "1.2.0",
            "_view_count": null,
            "flex_flow": null,
            "width": null,
            "min_width": null,
            "border": null,
            "align_items": null,
            "bottom": null,
            "_model_module": "@jupyter-widgets/base",
            "top": null,
            "grid_column": null,
            "overflow_y": null,
            "overflow_x": null,
            "grid_auto_flow": null,
            "grid_area": null,
            "grid_template_columns": null,
            "flex": null,
            "_model_name": "LayoutModel",
            "justify_items": null,
            "grid_row": null,
            "max_height": null,
            "align_content": null,
            "visibility": null,
            "align_self": null,
            "height": null,
            "min_height": null,
            "padding": null,
            "grid_auto_rows": null,
            "grid_gap": null,
            "max_width": null,
            "order": null,
            "_view_module_version": "1.2.0",
            "grid_template_areas": null,
            "object_position": null,
            "object_fit": null,
            "grid_auto_columns": null,
            "margin": null,
            "display": null,
            "left": null
          }
        },
        "a778bbe13c114e649e2cbf9b650100da": {
          "model_module": "@jupyter-widgets/controls",
          "model_name": "DescriptionStyleModel",
          "state": {
            "_view_name": "StyleView",
            "_model_name": "DescriptionStyleModel",
            "description_width": "",
            "_view_module": "@jupyter-widgets/base",
            "_model_module_version": "1.5.0",
            "_view_count": null,
            "_view_module_version": "1.2.0",
            "_model_module": "@jupyter-widgets/controls"
          }
        },
        "b808b9d21020432f83710c1c87cfd882": {
          "model_module": "@jupyter-widgets/base",
          "model_name": "LayoutModel",
          "state": {
            "_view_name": "LayoutView",
            "grid_template_rows": null,
            "right": null,
            "justify_content": null,
            "_view_module": "@jupyter-widgets/base",
            "overflow": null,
            "_model_module_version": "1.2.0",
            "_view_count": null,
            "flex_flow": null,
            "width": null,
            "min_width": null,
            "border": null,
            "align_items": null,
            "bottom": null,
            "_model_module": "@jupyter-widgets/base",
            "top": null,
            "grid_column": null,
            "overflow_y": null,
            "overflow_x": null,
            "grid_auto_flow": null,
            "grid_area": null,
            "grid_template_columns": null,
            "flex": null,
            "_model_name": "LayoutModel",
            "justify_items": null,
            "grid_row": null,
            "max_height": null,
            "align_content": null,
            "visibility": null,
            "align_self": null,
            "height": null,
            "min_height": null,
            "padding": null,
            "grid_auto_rows": null,
            "grid_gap": null,
            "max_width": null,
            "order": null,
            "_view_module_version": "1.2.0",
            "grid_template_areas": null,
            "object_position": null,
            "object_fit": null,
            "grid_auto_columns": null,
            "margin": null,
            "display": null,
            "left": null
          }
        },
        "4955301cac7b47b2b55355325e4c24cf": {
          "model_module": "@jupyter-widgets/controls",
          "model_name": "HBoxModel",
          "state": {
            "_view_name": "HBoxView",
            "_dom_classes": [],
            "_model_name": "HBoxModel",
            "_view_module": "@jupyter-widgets/controls",
            "_model_module_version": "1.5.0",
            "_view_count": null,
            "_view_module_version": "1.5.0",
            "box_style": "",
            "layout": "IPY_MODEL_989bb2af6f3c4d439d432689d9848c34",
            "_model_module": "@jupyter-widgets/controls",
            "children": [
              "IPY_MODEL_e04565a0705741f9b22a89b292069383",
              "IPY_MODEL_b666096c6cf249beb2a9dfa91dae4644"
            ]
          }
        },
        "989bb2af6f3c4d439d432689d9848c34": {
          "model_module": "@jupyter-widgets/base",
          "model_name": "LayoutModel",
          "state": {
            "_view_name": "LayoutView",
            "grid_template_rows": null,
            "right": null,
            "justify_content": null,
            "_view_module": "@jupyter-widgets/base",
            "overflow": null,
            "_model_module_version": "1.2.0",
            "_view_count": null,
            "flex_flow": null,
            "width": null,
            "min_width": null,
            "border": null,
            "align_items": null,
            "bottom": null,
            "_model_module": "@jupyter-widgets/base",
            "top": null,
            "grid_column": null,
            "overflow_y": null,
            "overflow_x": null,
            "grid_auto_flow": null,
            "grid_area": null,
            "grid_template_columns": null,
            "flex": null,
            "_model_name": "LayoutModel",
            "justify_items": null,
            "grid_row": null,
            "max_height": null,
            "align_content": null,
            "visibility": null,
            "align_self": null,
            "height": null,
            "min_height": null,
            "padding": null,
            "grid_auto_rows": null,
            "grid_gap": null,
            "max_width": null,
            "order": null,
            "_view_module_version": "1.2.0",
            "grid_template_areas": null,
            "object_position": null,
            "object_fit": null,
            "grid_auto_columns": null,
            "margin": null,
            "display": null,
            "left": null
          }
        },
        "e04565a0705741f9b22a89b292069383": {
          "model_module": "@jupyter-widgets/controls",
          "model_name": "FloatProgressModel",
          "state": {
            "_view_name": "ProgressView",
            "style": "IPY_MODEL_d11de198fbfc49d19710c7df4378b5dd",
            "_dom_classes": [],
            "description": "100%",
            "_model_name": "FloatProgressModel",
            "bar_style": "success",
            "max": 2146,
            "_view_module": "@jupyter-widgets/controls",
            "_model_module_version": "1.5.0",
            "value": 2146,
            "_view_count": null,
            "_view_module_version": "1.5.0",
            "orientation": "horizontal",
            "min": 0,
            "description_tooltip": null,
            "_model_module": "@jupyter-widgets/controls",
            "layout": "IPY_MODEL_b36ed8b4628b433089cfd745d87c3b61"
          }
        },
        "b666096c6cf249beb2a9dfa91dae4644": {
          "model_module": "@jupyter-widgets/controls",
          "model_name": "HTMLModel",
          "state": {
            "_view_name": "HTMLView",
            "style": "IPY_MODEL_a9a4366d2b4d452ebdb17ac35af9116f",
            "_dom_classes": [],
            "description": "",
            "_model_name": "HTMLModel",
            "placeholder": "​",
            "_view_module": "@jupyter-widgets/controls",
            "_model_module_version": "1.5.0",
            "value": " 2146/2146 [02:58&lt;00:00, 12.02it/s]",
            "_view_count": null,
            "_view_module_version": "1.5.0",
            "description_tooltip": null,
            "_model_module": "@jupyter-widgets/controls",
            "layout": "IPY_MODEL_5ee084e6fa1e4e3284922db9d0064a90"
          }
        },
        "d11de198fbfc49d19710c7df4378b5dd": {
          "model_module": "@jupyter-widgets/controls",
          "model_name": "ProgressStyleModel",
          "state": {
            "_view_name": "StyleView",
            "_model_name": "ProgressStyleModel",
            "description_width": "initial",
            "_view_module": "@jupyter-widgets/base",
            "_model_module_version": "1.5.0",
            "_view_count": null,
            "_view_module_version": "1.2.0",
            "bar_color": null,
            "_model_module": "@jupyter-widgets/controls"
          }
        },
        "b36ed8b4628b433089cfd745d87c3b61": {
          "model_module": "@jupyter-widgets/base",
          "model_name": "LayoutModel",
          "state": {
            "_view_name": "LayoutView",
            "grid_template_rows": null,
            "right": null,
            "justify_content": null,
            "_view_module": "@jupyter-widgets/base",
            "overflow": null,
            "_model_module_version": "1.2.0",
            "_view_count": null,
            "flex_flow": null,
            "width": null,
            "min_width": null,
            "border": null,
            "align_items": null,
            "bottom": null,
            "_model_module": "@jupyter-widgets/base",
            "top": null,
            "grid_column": null,
            "overflow_y": null,
            "overflow_x": null,
            "grid_auto_flow": null,
            "grid_area": null,
            "grid_template_columns": null,
            "flex": null,
            "_model_name": "LayoutModel",
            "justify_items": null,
            "grid_row": null,
            "max_height": null,
            "align_content": null,
            "visibility": null,
            "align_self": null,
            "height": null,
            "min_height": null,
            "padding": null,
            "grid_auto_rows": null,
            "grid_gap": null,
            "max_width": null,
            "order": null,
            "_view_module_version": "1.2.0",
            "grid_template_areas": null,
            "object_position": null,
            "object_fit": null,
            "grid_auto_columns": null,
            "margin": null,
            "display": null,
            "left": null
          }
        },
        "a9a4366d2b4d452ebdb17ac35af9116f": {
          "model_module": "@jupyter-widgets/controls",
          "model_name": "DescriptionStyleModel",
          "state": {
            "_view_name": "StyleView",
            "_model_name": "DescriptionStyleModel",
            "description_width": "",
            "_view_module": "@jupyter-widgets/base",
            "_model_module_version": "1.5.0",
            "_view_count": null,
            "_view_module_version": "1.2.0",
            "_model_module": "@jupyter-widgets/controls"
          }
        },
        "5ee084e6fa1e4e3284922db9d0064a90": {
          "model_module": "@jupyter-widgets/base",
          "model_name": "LayoutModel",
          "state": {
            "_view_name": "LayoutView",
            "grid_template_rows": null,
            "right": null,
            "justify_content": null,
            "_view_module": "@jupyter-widgets/base",
            "overflow": null,
            "_model_module_version": "1.2.0",
            "_view_count": null,
            "flex_flow": null,
            "width": null,
            "min_width": null,
            "border": null,
            "align_items": null,
            "bottom": null,
            "_model_module": "@jupyter-widgets/base",
            "top": null,
            "grid_column": null,
            "overflow_y": null,
            "overflow_x": null,
            "grid_auto_flow": null,
            "grid_area": null,
            "grid_template_columns": null,
            "flex": null,
            "_model_name": "LayoutModel",
            "justify_items": null,
            "grid_row": null,
            "max_height": null,
            "align_content": null,
            "visibility": null,
            "align_self": null,
            "height": null,
            "min_height": null,
            "padding": null,
            "grid_auto_rows": null,
            "grid_gap": null,
            "max_width": null,
            "order": null,
            "_view_module_version": "1.2.0",
            "grid_template_areas": null,
            "object_position": null,
            "object_fit": null,
            "grid_auto_columns": null,
            "margin": null,
            "display": null,
            "left": null
          }
        },
        "12373aa254f14752b113252f451c94d8": {
          "model_module": "@jupyter-widgets/controls",
          "model_name": "HBoxModel",
          "state": {
            "_view_name": "HBoxView",
            "_dom_classes": [],
            "_model_name": "HBoxModel",
            "_view_module": "@jupyter-widgets/controls",
            "_model_module_version": "1.5.0",
            "_view_count": null,
            "_view_module_version": "1.5.0",
            "box_style": "",
            "layout": "IPY_MODEL_a5c15925bd604dc795f565ab2322c5af",
            "_model_module": "@jupyter-widgets/controls",
            "children": [
              "IPY_MODEL_0bdb7447fa7c461a8ea5f8df136b9b55",
              "IPY_MODEL_b647cef423684876ba4b0084f1c9c4b9"
            ]
          }
        },
        "a5c15925bd604dc795f565ab2322c5af": {
          "model_module": "@jupyter-widgets/base",
          "model_name": "LayoutModel",
          "state": {
            "_view_name": "LayoutView",
            "grid_template_rows": null,
            "right": null,
            "justify_content": null,
            "_view_module": "@jupyter-widgets/base",
            "overflow": null,
            "_model_module_version": "1.2.0",
            "_view_count": null,
            "flex_flow": null,
            "width": null,
            "min_width": null,
            "border": null,
            "align_items": null,
            "bottom": null,
            "_model_module": "@jupyter-widgets/base",
            "top": null,
            "grid_column": null,
            "overflow_y": null,
            "overflow_x": null,
            "grid_auto_flow": null,
            "grid_area": null,
            "grid_template_columns": null,
            "flex": null,
            "_model_name": "LayoutModel",
            "justify_items": null,
            "grid_row": null,
            "max_height": null,
            "align_content": null,
            "visibility": null,
            "align_self": null,
            "height": null,
            "min_height": null,
            "padding": null,
            "grid_auto_rows": null,
            "grid_gap": null,
            "max_width": null,
            "order": null,
            "_view_module_version": "1.2.0",
            "grid_template_areas": null,
            "object_position": null,
            "object_fit": null,
            "grid_auto_columns": null,
            "margin": null,
            "display": null,
            "left": null
          }
        },
        "0bdb7447fa7c461a8ea5f8df136b9b55": {
          "model_module": "@jupyter-widgets/controls",
          "model_name": "FloatProgressModel",
          "state": {
            "_view_name": "ProgressView",
            "style": "IPY_MODEL_d57dfedaa62b4e0fb6c48400a36b4109",
            "_dom_classes": [],
            "description": "100%",
            "_model_name": "FloatProgressModel",
            "bar_style": "success",
            "max": 2146,
            "_view_module": "@jupyter-widgets/controls",
            "_model_module_version": "1.5.0",
            "value": 2146,
            "_view_count": null,
            "_view_module_version": "1.5.0",
            "orientation": "horizontal",
            "min": 0,
            "description_tooltip": null,
            "_model_module": "@jupyter-widgets/controls",
            "layout": "IPY_MODEL_584976318ae8441e80d994ec0f7d6c53"
          }
        },
        "b647cef423684876ba4b0084f1c9c4b9": {
          "model_module": "@jupyter-widgets/controls",
          "model_name": "HTMLModel",
          "state": {
            "_view_name": "HTMLView",
            "style": "IPY_MODEL_ef7eb402b5dc41288b5a7ce4ec6bb2da",
            "_dom_classes": [],
            "description": "",
            "_model_name": "HTMLModel",
            "placeholder": "​",
            "_view_module": "@jupyter-widgets/controls",
            "_model_module_version": "1.5.0",
            "value": " 2146/2146 [00:02&lt;00:00, 816.86it/s]",
            "_view_count": null,
            "_view_module_version": "1.5.0",
            "description_tooltip": null,
            "_model_module": "@jupyter-widgets/controls",
            "layout": "IPY_MODEL_05a90328443b4d84af868fa3360853af"
          }
        },
        "d57dfedaa62b4e0fb6c48400a36b4109": {
          "model_module": "@jupyter-widgets/controls",
          "model_name": "ProgressStyleModel",
          "state": {
            "_view_name": "StyleView",
            "_model_name": "ProgressStyleModel",
            "description_width": "initial",
            "_view_module": "@jupyter-widgets/base",
            "_model_module_version": "1.5.0",
            "_view_count": null,
            "_view_module_version": "1.2.0",
            "bar_color": null,
            "_model_module": "@jupyter-widgets/controls"
          }
        },
        "584976318ae8441e80d994ec0f7d6c53": {
          "model_module": "@jupyter-widgets/base",
          "model_name": "LayoutModel",
          "state": {
            "_view_name": "LayoutView",
            "grid_template_rows": null,
            "right": null,
            "justify_content": null,
            "_view_module": "@jupyter-widgets/base",
            "overflow": null,
            "_model_module_version": "1.2.0",
            "_view_count": null,
            "flex_flow": null,
            "width": null,
            "min_width": null,
            "border": null,
            "align_items": null,
            "bottom": null,
            "_model_module": "@jupyter-widgets/base",
            "top": null,
            "grid_column": null,
            "overflow_y": null,
            "overflow_x": null,
            "grid_auto_flow": null,
            "grid_area": null,
            "grid_template_columns": null,
            "flex": null,
            "_model_name": "LayoutModel",
            "justify_items": null,
            "grid_row": null,
            "max_height": null,
            "align_content": null,
            "visibility": null,
            "align_self": null,
            "height": null,
            "min_height": null,
            "padding": null,
            "grid_auto_rows": null,
            "grid_gap": null,
            "max_width": null,
            "order": null,
            "_view_module_version": "1.2.0",
            "grid_template_areas": null,
            "object_position": null,
            "object_fit": null,
            "grid_auto_columns": null,
            "margin": null,
            "display": null,
            "left": null
          }
        },
        "ef7eb402b5dc41288b5a7ce4ec6bb2da": {
          "model_module": "@jupyter-widgets/controls",
          "model_name": "DescriptionStyleModel",
          "state": {
            "_view_name": "StyleView",
            "_model_name": "DescriptionStyleModel",
            "description_width": "",
            "_view_module": "@jupyter-widgets/base",
            "_model_module_version": "1.5.0",
            "_view_count": null,
            "_view_module_version": "1.2.0",
            "_model_module": "@jupyter-widgets/controls"
          }
        },
        "05a90328443b4d84af868fa3360853af": {
          "model_module": "@jupyter-widgets/base",
          "model_name": "LayoutModel",
          "state": {
            "_view_name": "LayoutView",
            "grid_template_rows": null,
            "right": null,
            "justify_content": null,
            "_view_module": "@jupyter-widgets/base",
            "overflow": null,
            "_model_module_version": "1.2.0",
            "_view_count": null,
            "flex_flow": null,
            "width": null,
            "min_width": null,
            "border": null,
            "align_items": null,
            "bottom": null,
            "_model_module": "@jupyter-widgets/base",
            "top": null,
            "grid_column": null,
            "overflow_y": null,
            "overflow_x": null,
            "grid_auto_flow": null,
            "grid_area": null,
            "grid_template_columns": null,
            "flex": null,
            "_model_name": "LayoutModel",
            "justify_items": null,
            "grid_row": null,
            "max_height": null,
            "align_content": null,
            "visibility": null,
            "align_self": null,
            "height": null,
            "min_height": null,
            "padding": null,
            "grid_auto_rows": null,
            "grid_gap": null,
            "max_width": null,
            "order": null,
            "_view_module_version": "1.2.0",
            "grid_template_areas": null,
            "object_position": null,
            "object_fit": null,
            "grid_auto_columns": null,
            "margin": null,
            "display": null,
            "left": null
          }
        },
        "fb6c9d243aa6475aae6f8a1d1a76e054": {
          "model_module": "@jupyter-widgets/controls",
          "model_name": "HBoxModel",
          "state": {
            "_view_name": "HBoxView",
            "_dom_classes": [],
            "_model_name": "HBoxModel",
            "_view_module": "@jupyter-widgets/controls",
            "_model_module_version": "1.5.0",
            "_view_count": null,
            "_view_module_version": "1.5.0",
            "box_style": "",
            "layout": "IPY_MODEL_c4ddb721f1714456bc91d31241e9ffe2",
            "_model_module": "@jupyter-widgets/controls",
            "children": [
              "IPY_MODEL_04944a492a514cfc917fefb07027975b",
              "IPY_MODEL_30f115b300964ff1a5ab40849164c98e"
            ]
          }
        },
        "c4ddb721f1714456bc91d31241e9ffe2": {
          "model_module": "@jupyter-widgets/base",
          "model_name": "LayoutModel",
          "state": {
            "_view_name": "LayoutView",
            "grid_template_rows": null,
            "right": null,
            "justify_content": null,
            "_view_module": "@jupyter-widgets/base",
            "overflow": null,
            "_model_module_version": "1.2.0",
            "_view_count": null,
            "flex_flow": null,
            "width": null,
            "min_width": null,
            "border": null,
            "align_items": null,
            "bottom": null,
            "_model_module": "@jupyter-widgets/base",
            "top": null,
            "grid_column": null,
            "overflow_y": null,
            "overflow_x": null,
            "grid_auto_flow": null,
            "grid_area": null,
            "grid_template_columns": null,
            "flex": null,
            "_model_name": "LayoutModel",
            "justify_items": null,
            "grid_row": null,
            "max_height": null,
            "align_content": null,
            "visibility": null,
            "align_self": null,
            "height": null,
            "min_height": null,
            "padding": null,
            "grid_auto_rows": null,
            "grid_gap": null,
            "max_width": null,
            "order": null,
            "_view_module_version": "1.2.0",
            "grid_template_areas": null,
            "object_position": null,
            "object_fit": null,
            "grid_auto_columns": null,
            "margin": null,
            "display": null,
            "left": null
          }
        },
        "04944a492a514cfc917fefb07027975b": {
          "model_module": "@jupyter-widgets/controls",
          "model_name": "FloatProgressModel",
          "state": {
            "_view_name": "ProgressView",
            "style": "IPY_MODEL_1ccc7ac9f09f4731a7b46d0da8621c58",
            "_dom_classes": [],
            "description": "100%",
            "_model_name": "FloatProgressModel",
            "bar_style": "success",
            "max": 2146,
            "_view_module": "@jupyter-widgets/controls",
            "_model_module_version": "1.5.0",
            "value": 2146,
            "_view_count": null,
            "_view_module_version": "1.5.0",
            "orientation": "horizontal",
            "min": 0,
            "description_tooltip": null,
            "_model_module": "@jupyter-widgets/controls",
            "layout": "IPY_MODEL_1bbc4ec493e543f080b880f2b6076924"
          }
        },
        "30f115b300964ff1a5ab40849164c98e": {
          "model_module": "@jupyter-widgets/controls",
          "model_name": "HTMLModel",
          "state": {
            "_view_name": "HTMLView",
            "style": "IPY_MODEL_de1dbd6595784165948d3fdb93938891",
            "_dom_classes": [],
            "description": "",
            "_model_name": "HTMLModel",
            "placeholder": "​",
            "_view_module": "@jupyter-widgets/controls",
            "_model_module_version": "1.5.0",
            "value": " 2146/2146 [00:02&lt;00:00, 834.31it/s]",
            "_view_count": null,
            "_view_module_version": "1.5.0",
            "description_tooltip": null,
            "_model_module": "@jupyter-widgets/controls",
            "layout": "IPY_MODEL_0c5e02a52a4d4e12ab479a9bc4181aeb"
          }
        },
        "1ccc7ac9f09f4731a7b46d0da8621c58": {
          "model_module": "@jupyter-widgets/controls",
          "model_name": "ProgressStyleModel",
          "state": {
            "_view_name": "StyleView",
            "_model_name": "ProgressStyleModel",
            "description_width": "initial",
            "_view_module": "@jupyter-widgets/base",
            "_model_module_version": "1.5.0",
            "_view_count": null,
            "_view_module_version": "1.2.0",
            "bar_color": null,
            "_model_module": "@jupyter-widgets/controls"
          }
        },
        "1bbc4ec493e543f080b880f2b6076924": {
          "model_module": "@jupyter-widgets/base",
          "model_name": "LayoutModel",
          "state": {
            "_view_name": "LayoutView",
            "grid_template_rows": null,
            "right": null,
            "justify_content": null,
            "_view_module": "@jupyter-widgets/base",
            "overflow": null,
            "_model_module_version": "1.2.0",
            "_view_count": null,
            "flex_flow": null,
            "width": null,
            "min_width": null,
            "border": null,
            "align_items": null,
            "bottom": null,
            "_model_module": "@jupyter-widgets/base",
            "top": null,
            "grid_column": null,
            "overflow_y": null,
            "overflow_x": null,
            "grid_auto_flow": null,
            "grid_area": null,
            "grid_template_columns": null,
            "flex": null,
            "_model_name": "LayoutModel",
            "justify_items": null,
            "grid_row": null,
            "max_height": null,
            "align_content": null,
            "visibility": null,
            "align_self": null,
            "height": null,
            "min_height": null,
            "padding": null,
            "grid_auto_rows": null,
            "grid_gap": null,
            "max_width": null,
            "order": null,
            "_view_module_version": "1.2.0",
            "grid_template_areas": null,
            "object_position": null,
            "object_fit": null,
            "grid_auto_columns": null,
            "margin": null,
            "display": null,
            "left": null
          }
        },
        "de1dbd6595784165948d3fdb93938891": {
          "model_module": "@jupyter-widgets/controls",
          "model_name": "DescriptionStyleModel",
          "state": {
            "_view_name": "StyleView",
            "_model_name": "DescriptionStyleModel",
            "description_width": "",
            "_view_module": "@jupyter-widgets/base",
            "_model_module_version": "1.5.0",
            "_view_count": null,
            "_view_module_version": "1.2.0",
            "_model_module": "@jupyter-widgets/controls"
          }
        },
        "0c5e02a52a4d4e12ab479a9bc4181aeb": {
          "model_module": "@jupyter-widgets/base",
          "model_name": "LayoutModel",
          "state": {
            "_view_name": "LayoutView",
            "grid_template_rows": null,
            "right": null,
            "justify_content": null,
            "_view_module": "@jupyter-widgets/base",
            "overflow": null,
            "_model_module_version": "1.2.0",
            "_view_count": null,
            "flex_flow": null,
            "width": null,
            "min_width": null,
            "border": null,
            "align_items": null,
            "bottom": null,
            "_model_module": "@jupyter-widgets/base",
            "top": null,
            "grid_column": null,
            "overflow_y": null,
            "overflow_x": null,
            "grid_auto_flow": null,
            "grid_area": null,
            "grid_template_columns": null,
            "flex": null,
            "_model_name": "LayoutModel",
            "justify_items": null,
            "grid_row": null,
            "max_height": null,
            "align_content": null,
            "visibility": null,
            "align_self": null,
            "height": null,
            "min_height": null,
            "padding": null,
            "grid_auto_rows": null,
            "grid_gap": null,
            "max_width": null,
            "order": null,
            "_view_module_version": "1.2.0",
            "grid_template_areas": null,
            "object_position": null,
            "object_fit": null,
            "grid_auto_columns": null,
            "margin": null,
            "display": null,
            "left": null
          }
        },
        "4f67d6074902422e99228520ab74f67f": {
          "model_module": "@jupyter-widgets/controls",
          "model_name": "HBoxModel",
          "state": {
            "_view_name": "HBoxView",
            "_dom_classes": [],
            "_model_name": "HBoxModel",
            "_view_module": "@jupyter-widgets/controls",
            "_model_module_version": "1.5.0",
            "_view_count": null,
            "_view_module_version": "1.5.0",
            "box_style": "",
            "layout": "IPY_MODEL_f2355a56875e4f0daa7bfacf0aec85a8",
            "_model_module": "@jupyter-widgets/controls",
            "children": [
              "IPY_MODEL_f298bfef79874acfadac9dedad9d7fb7",
              "IPY_MODEL_44c33931e87d4fe6a82aeae097035d7d"
            ]
          }
        },
        "f2355a56875e4f0daa7bfacf0aec85a8": {
          "model_module": "@jupyter-widgets/base",
          "model_name": "LayoutModel",
          "state": {
            "_view_name": "LayoutView",
            "grid_template_rows": null,
            "right": null,
            "justify_content": null,
            "_view_module": "@jupyter-widgets/base",
            "overflow": null,
            "_model_module_version": "1.2.0",
            "_view_count": null,
            "flex_flow": null,
            "width": null,
            "min_width": null,
            "border": null,
            "align_items": null,
            "bottom": null,
            "_model_module": "@jupyter-widgets/base",
            "top": null,
            "grid_column": null,
            "overflow_y": null,
            "overflow_x": null,
            "grid_auto_flow": null,
            "grid_area": null,
            "grid_template_columns": null,
            "flex": null,
            "_model_name": "LayoutModel",
            "justify_items": null,
            "grid_row": null,
            "max_height": null,
            "align_content": null,
            "visibility": null,
            "align_self": null,
            "height": null,
            "min_height": null,
            "padding": null,
            "grid_auto_rows": null,
            "grid_gap": null,
            "max_width": null,
            "order": null,
            "_view_module_version": "1.2.0",
            "grid_template_areas": null,
            "object_position": null,
            "object_fit": null,
            "grid_auto_columns": null,
            "margin": null,
            "display": null,
            "left": null
          }
        },
        "f298bfef79874acfadac9dedad9d7fb7": {
          "model_module": "@jupyter-widgets/controls",
          "model_name": "FloatProgressModel",
          "state": {
            "_view_name": "ProgressView",
            "style": "IPY_MODEL_ffb747af73a441cda17b023754223e59",
            "_dom_classes": [],
            "description": "100%",
            "_model_name": "FloatProgressModel",
            "bar_style": "success",
            "max": 2146,
            "_view_module": "@jupyter-widgets/controls",
            "_model_module_version": "1.5.0",
            "value": 2146,
            "_view_count": null,
            "_view_module_version": "1.5.0",
            "orientation": "horizontal",
            "min": 0,
            "description_tooltip": null,
            "_model_module": "@jupyter-widgets/controls",
            "layout": "IPY_MODEL_402f9580410447d08419bb4cba0d57ad"
          }
        },
        "44c33931e87d4fe6a82aeae097035d7d": {
          "model_module": "@jupyter-widgets/controls",
          "model_name": "HTMLModel",
          "state": {
            "_view_name": "HTMLView",
            "style": "IPY_MODEL_f14c846433014b5487b51c70597f8620",
            "_dom_classes": [],
            "description": "",
            "_model_name": "HTMLModel",
            "placeholder": "​",
            "_view_module": "@jupyter-widgets/controls",
            "_model_module_version": "1.5.0",
            "value": " 2146/2146 [00:00&lt;00:00, 14449.51it/s]",
            "_view_count": null,
            "_view_module_version": "1.5.0",
            "description_tooltip": null,
            "_model_module": "@jupyter-widgets/controls",
            "layout": "IPY_MODEL_328bfacb66ba4e5b821e99b39b2e31df"
          }
        },
        "ffb747af73a441cda17b023754223e59": {
          "model_module": "@jupyter-widgets/controls",
          "model_name": "ProgressStyleModel",
          "state": {
            "_view_name": "StyleView",
            "_model_name": "ProgressStyleModel",
            "description_width": "initial",
            "_view_module": "@jupyter-widgets/base",
            "_model_module_version": "1.5.0",
            "_view_count": null,
            "_view_module_version": "1.2.0",
            "bar_color": null,
            "_model_module": "@jupyter-widgets/controls"
          }
        },
        "402f9580410447d08419bb4cba0d57ad": {
          "model_module": "@jupyter-widgets/base",
          "model_name": "LayoutModel",
          "state": {
            "_view_name": "LayoutView",
            "grid_template_rows": null,
            "right": null,
            "justify_content": null,
            "_view_module": "@jupyter-widgets/base",
            "overflow": null,
            "_model_module_version": "1.2.0",
            "_view_count": null,
            "flex_flow": null,
            "width": null,
            "min_width": null,
            "border": null,
            "align_items": null,
            "bottom": null,
            "_model_module": "@jupyter-widgets/base",
            "top": null,
            "grid_column": null,
            "overflow_y": null,
            "overflow_x": null,
            "grid_auto_flow": null,
            "grid_area": null,
            "grid_template_columns": null,
            "flex": null,
            "_model_name": "LayoutModel",
            "justify_items": null,
            "grid_row": null,
            "max_height": null,
            "align_content": null,
            "visibility": null,
            "align_self": null,
            "height": null,
            "min_height": null,
            "padding": null,
            "grid_auto_rows": null,
            "grid_gap": null,
            "max_width": null,
            "order": null,
            "_view_module_version": "1.2.0",
            "grid_template_areas": null,
            "object_position": null,
            "object_fit": null,
            "grid_auto_columns": null,
            "margin": null,
            "display": null,
            "left": null
          }
        },
        "f14c846433014b5487b51c70597f8620": {
          "model_module": "@jupyter-widgets/controls",
          "model_name": "DescriptionStyleModel",
          "state": {
            "_view_name": "StyleView",
            "_model_name": "DescriptionStyleModel",
            "description_width": "",
            "_view_module": "@jupyter-widgets/base",
            "_model_module_version": "1.5.0",
            "_view_count": null,
            "_view_module_version": "1.2.0",
            "_model_module": "@jupyter-widgets/controls"
          }
        },
        "328bfacb66ba4e5b821e99b39b2e31df": {
          "model_module": "@jupyter-widgets/base",
          "model_name": "LayoutModel",
          "state": {
            "_view_name": "LayoutView",
            "grid_template_rows": null,
            "right": null,
            "justify_content": null,
            "_view_module": "@jupyter-widgets/base",
            "overflow": null,
            "_model_module_version": "1.2.0",
            "_view_count": null,
            "flex_flow": null,
            "width": null,
            "min_width": null,
            "border": null,
            "align_items": null,
            "bottom": null,
            "_model_module": "@jupyter-widgets/base",
            "top": null,
            "grid_column": null,
            "overflow_y": null,
            "overflow_x": null,
            "grid_auto_flow": null,
            "grid_area": null,
            "grid_template_columns": null,
            "flex": null,
            "_model_name": "LayoutModel",
            "justify_items": null,
            "grid_row": null,
            "max_height": null,
            "align_content": null,
            "visibility": null,
            "align_self": null,
            "height": null,
            "min_height": null,
            "padding": null,
            "grid_auto_rows": null,
            "grid_gap": null,
            "max_width": null,
            "order": null,
            "_view_module_version": "1.2.0",
            "grid_template_areas": null,
            "object_position": null,
            "object_fit": null,
            "grid_auto_columns": null,
            "margin": null,
            "display": null,
            "left": null
          }
        },
        "bda8b0918d81460aa8ccedeb95ccb38f": {
          "model_module": "@jupyter-widgets/controls",
          "model_name": "HBoxModel",
          "state": {
            "_view_name": "HBoxView",
            "_dom_classes": [],
            "_model_name": "HBoxModel",
            "_view_module": "@jupyter-widgets/controls",
            "_model_module_version": "1.5.0",
            "_view_count": null,
            "_view_module_version": "1.5.0",
            "box_style": "",
            "layout": "IPY_MODEL_280e03dc50944008ad339f92608928f6",
            "_model_module": "@jupyter-widgets/controls",
            "children": [
              "IPY_MODEL_c73b35d7fb25410bbff40a5941f02d3c",
              "IPY_MODEL_4a5f6b80410f44de83e77d73c0650e8b"
            ]
          }
        },
        "280e03dc50944008ad339f92608928f6": {
          "model_module": "@jupyter-widgets/base",
          "model_name": "LayoutModel",
          "state": {
            "_view_name": "LayoutView",
            "grid_template_rows": null,
            "right": null,
            "justify_content": null,
            "_view_module": "@jupyter-widgets/base",
            "overflow": null,
            "_model_module_version": "1.2.0",
            "_view_count": null,
            "flex_flow": null,
            "width": null,
            "min_width": null,
            "border": null,
            "align_items": null,
            "bottom": null,
            "_model_module": "@jupyter-widgets/base",
            "top": null,
            "grid_column": null,
            "overflow_y": null,
            "overflow_x": null,
            "grid_auto_flow": null,
            "grid_area": null,
            "grid_template_columns": null,
            "flex": null,
            "_model_name": "LayoutModel",
            "justify_items": null,
            "grid_row": null,
            "max_height": null,
            "align_content": null,
            "visibility": null,
            "align_self": null,
            "height": null,
            "min_height": null,
            "padding": null,
            "grid_auto_rows": null,
            "grid_gap": null,
            "max_width": null,
            "order": null,
            "_view_module_version": "1.2.0",
            "grid_template_areas": null,
            "object_position": null,
            "object_fit": null,
            "grid_auto_columns": null,
            "margin": null,
            "display": null,
            "left": null
          }
        },
        "c73b35d7fb25410bbff40a5941f02d3c": {
          "model_module": "@jupyter-widgets/controls",
          "model_name": "FloatProgressModel",
          "state": {
            "_view_name": "ProgressView",
            "style": "IPY_MODEL_fcc61abf82294b13a86028fd5a395469",
            "_dom_classes": [],
            "description": "100%",
            "_model_name": "FloatProgressModel",
            "bar_style": "success",
            "max": 2146,
            "_view_module": "@jupyter-widgets/controls",
            "_model_module_version": "1.5.0",
            "value": 2146,
            "_view_count": null,
            "_view_module_version": "1.5.0",
            "orientation": "horizontal",
            "min": 0,
            "description_tooltip": null,
            "_model_module": "@jupyter-widgets/controls",
            "layout": "IPY_MODEL_088bf31e318f4e36bdbecc151d0967ae"
          }
        },
        "4a5f6b80410f44de83e77d73c0650e8b": {
          "model_module": "@jupyter-widgets/controls",
          "model_name": "HTMLModel",
          "state": {
            "_view_name": "HTMLView",
            "style": "IPY_MODEL_2393f1c1fec6485ca5c4c764fe52cee2",
            "_dom_classes": [],
            "description": "",
            "_model_name": "HTMLModel",
            "placeholder": "​",
            "_view_module": "@jupyter-widgets/controls",
            "_model_module_version": "1.5.0",
            "value": " 2146/2146 [00:00&lt;00:00, 4421.04it/s]",
            "_view_count": null,
            "_view_module_version": "1.5.0",
            "description_tooltip": null,
            "_model_module": "@jupyter-widgets/controls",
            "layout": "IPY_MODEL_9c1e9f38d39a4f028ee4c2e0f264442b"
          }
        },
        "fcc61abf82294b13a86028fd5a395469": {
          "model_module": "@jupyter-widgets/controls",
          "model_name": "ProgressStyleModel",
          "state": {
            "_view_name": "StyleView",
            "_model_name": "ProgressStyleModel",
            "description_width": "initial",
            "_view_module": "@jupyter-widgets/base",
            "_model_module_version": "1.5.0",
            "_view_count": null,
            "_view_module_version": "1.2.0",
            "bar_color": null,
            "_model_module": "@jupyter-widgets/controls"
          }
        },
        "088bf31e318f4e36bdbecc151d0967ae": {
          "model_module": "@jupyter-widgets/base",
          "model_name": "LayoutModel",
          "state": {
            "_view_name": "LayoutView",
            "grid_template_rows": null,
            "right": null,
            "justify_content": null,
            "_view_module": "@jupyter-widgets/base",
            "overflow": null,
            "_model_module_version": "1.2.0",
            "_view_count": null,
            "flex_flow": null,
            "width": null,
            "min_width": null,
            "border": null,
            "align_items": null,
            "bottom": null,
            "_model_module": "@jupyter-widgets/base",
            "top": null,
            "grid_column": null,
            "overflow_y": null,
            "overflow_x": null,
            "grid_auto_flow": null,
            "grid_area": null,
            "grid_template_columns": null,
            "flex": null,
            "_model_name": "LayoutModel",
            "justify_items": null,
            "grid_row": null,
            "max_height": null,
            "align_content": null,
            "visibility": null,
            "align_self": null,
            "height": null,
            "min_height": null,
            "padding": null,
            "grid_auto_rows": null,
            "grid_gap": null,
            "max_width": null,
            "order": null,
            "_view_module_version": "1.2.0",
            "grid_template_areas": null,
            "object_position": null,
            "object_fit": null,
            "grid_auto_columns": null,
            "margin": null,
            "display": null,
            "left": null
          }
        },
        "2393f1c1fec6485ca5c4c764fe52cee2": {
          "model_module": "@jupyter-widgets/controls",
          "model_name": "DescriptionStyleModel",
          "state": {
            "_view_name": "StyleView",
            "_model_name": "DescriptionStyleModel",
            "description_width": "",
            "_view_module": "@jupyter-widgets/base",
            "_model_module_version": "1.5.0",
            "_view_count": null,
            "_view_module_version": "1.2.0",
            "_model_module": "@jupyter-widgets/controls"
          }
        },
        "9c1e9f38d39a4f028ee4c2e0f264442b": {
          "model_module": "@jupyter-widgets/base",
          "model_name": "LayoutModel",
          "state": {
            "_view_name": "LayoutView",
            "grid_template_rows": null,
            "right": null,
            "justify_content": null,
            "_view_module": "@jupyter-widgets/base",
            "overflow": null,
            "_model_module_version": "1.2.0",
            "_view_count": null,
            "flex_flow": null,
            "width": null,
            "min_width": null,
            "border": null,
            "align_items": null,
            "bottom": null,
            "_model_module": "@jupyter-widgets/base",
            "top": null,
            "grid_column": null,
            "overflow_y": null,
            "overflow_x": null,
            "grid_auto_flow": null,
            "grid_area": null,
            "grid_template_columns": null,
            "flex": null,
            "_model_name": "LayoutModel",
            "justify_items": null,
            "grid_row": null,
            "max_height": null,
            "align_content": null,
            "visibility": null,
            "align_self": null,
            "height": null,
            "min_height": null,
            "padding": null,
            "grid_auto_rows": null,
            "grid_gap": null,
            "max_width": null,
            "order": null,
            "_view_module_version": "1.2.0",
            "grid_template_areas": null,
            "object_position": null,
            "object_fit": null,
            "grid_auto_columns": null,
            "margin": null,
            "display": null,
            "left": null
          }
        },
        "f531c5d1863641c8a65f73030e1d97fb": {
          "model_module": "@jupyter-widgets/controls",
          "model_name": "HBoxModel",
          "state": {
            "_view_name": "HBoxView",
            "_dom_classes": [],
            "_model_name": "HBoxModel",
            "_view_module": "@jupyter-widgets/controls",
            "_model_module_version": "1.5.0",
            "_view_count": null,
            "_view_module_version": "1.5.0",
            "box_style": "",
            "layout": "IPY_MODEL_565263ba52a544c3948dd92f4373a45d",
            "_model_module": "@jupyter-widgets/controls",
            "children": [
              "IPY_MODEL_2898648de442483a8f7549f4226fd728",
              "IPY_MODEL_fa32e97f2d184eebbdf42688d48107f7"
            ]
          }
        },
        "565263ba52a544c3948dd92f4373a45d": {
          "model_module": "@jupyter-widgets/base",
          "model_name": "LayoutModel",
          "state": {
            "_view_name": "LayoutView",
            "grid_template_rows": null,
            "right": null,
            "justify_content": null,
            "_view_module": "@jupyter-widgets/base",
            "overflow": null,
            "_model_module_version": "1.2.0",
            "_view_count": null,
            "flex_flow": null,
            "width": null,
            "min_width": null,
            "border": null,
            "align_items": null,
            "bottom": null,
            "_model_module": "@jupyter-widgets/base",
            "top": null,
            "grid_column": null,
            "overflow_y": null,
            "overflow_x": null,
            "grid_auto_flow": null,
            "grid_area": null,
            "grid_template_columns": null,
            "flex": null,
            "_model_name": "LayoutModel",
            "justify_items": null,
            "grid_row": null,
            "max_height": null,
            "align_content": null,
            "visibility": null,
            "align_self": null,
            "height": null,
            "min_height": null,
            "padding": null,
            "grid_auto_rows": null,
            "grid_gap": null,
            "max_width": null,
            "order": null,
            "_view_module_version": "1.2.0",
            "grid_template_areas": null,
            "object_position": null,
            "object_fit": null,
            "grid_auto_columns": null,
            "margin": null,
            "display": null,
            "left": null
          }
        },
        "2898648de442483a8f7549f4226fd728": {
          "model_module": "@jupyter-widgets/controls",
          "model_name": "FloatProgressModel",
          "state": {
            "_view_name": "ProgressView",
            "style": "IPY_MODEL_e17e03270e984ece83d10a8d492a35da",
            "_dom_classes": [],
            "description": "100%",
            "_model_name": "FloatProgressModel",
            "bar_style": "success",
            "max": 2146,
            "_view_module": "@jupyter-widgets/controls",
            "_model_module_version": "1.5.0",
            "value": 2146,
            "_view_count": null,
            "_view_module_version": "1.5.0",
            "orientation": "horizontal",
            "min": 0,
            "description_tooltip": null,
            "_model_module": "@jupyter-widgets/controls",
            "layout": "IPY_MODEL_ad3a48df16244ca5951e8784ce59afaf"
          }
        },
        "fa32e97f2d184eebbdf42688d48107f7": {
          "model_module": "@jupyter-widgets/controls",
          "model_name": "HTMLModel",
          "state": {
            "_view_name": "HTMLView",
            "style": "IPY_MODEL_745f53eb50ba40c2bd3a671d27760f67",
            "_dom_classes": [],
            "description": "",
            "_model_name": "HTMLModel",
            "placeholder": "​",
            "_view_module": "@jupyter-widgets/controls",
            "_model_module_version": "1.5.0",
            "value": " 2146/2146 [00:00&lt;00:00, 11732.93it/s]",
            "_view_count": null,
            "_view_module_version": "1.5.0",
            "description_tooltip": null,
            "_model_module": "@jupyter-widgets/controls",
            "layout": "IPY_MODEL_ad1bf22d66d1478890ce422de8c5cfc5"
          }
        },
        "e17e03270e984ece83d10a8d492a35da": {
          "model_module": "@jupyter-widgets/controls",
          "model_name": "ProgressStyleModel",
          "state": {
            "_view_name": "StyleView",
            "_model_name": "ProgressStyleModel",
            "description_width": "initial",
            "_view_module": "@jupyter-widgets/base",
            "_model_module_version": "1.5.0",
            "_view_count": null,
            "_view_module_version": "1.2.0",
            "bar_color": null,
            "_model_module": "@jupyter-widgets/controls"
          }
        },
        "ad3a48df16244ca5951e8784ce59afaf": {
          "model_module": "@jupyter-widgets/base",
          "model_name": "LayoutModel",
          "state": {
            "_view_name": "LayoutView",
            "grid_template_rows": null,
            "right": null,
            "justify_content": null,
            "_view_module": "@jupyter-widgets/base",
            "overflow": null,
            "_model_module_version": "1.2.0",
            "_view_count": null,
            "flex_flow": null,
            "width": null,
            "min_width": null,
            "border": null,
            "align_items": null,
            "bottom": null,
            "_model_module": "@jupyter-widgets/base",
            "top": null,
            "grid_column": null,
            "overflow_y": null,
            "overflow_x": null,
            "grid_auto_flow": null,
            "grid_area": null,
            "grid_template_columns": null,
            "flex": null,
            "_model_name": "LayoutModel",
            "justify_items": null,
            "grid_row": null,
            "max_height": null,
            "align_content": null,
            "visibility": null,
            "align_self": null,
            "height": null,
            "min_height": null,
            "padding": null,
            "grid_auto_rows": null,
            "grid_gap": null,
            "max_width": null,
            "order": null,
            "_view_module_version": "1.2.0",
            "grid_template_areas": null,
            "object_position": null,
            "object_fit": null,
            "grid_auto_columns": null,
            "margin": null,
            "display": null,
            "left": null
          }
        },
        "745f53eb50ba40c2bd3a671d27760f67": {
          "model_module": "@jupyter-widgets/controls",
          "model_name": "DescriptionStyleModel",
          "state": {
            "_view_name": "StyleView",
            "_model_name": "DescriptionStyleModel",
            "description_width": "",
            "_view_module": "@jupyter-widgets/base",
            "_model_module_version": "1.5.0",
            "_view_count": null,
            "_view_module_version": "1.2.0",
            "_model_module": "@jupyter-widgets/controls"
          }
        },
        "ad1bf22d66d1478890ce422de8c5cfc5": {
          "model_module": "@jupyter-widgets/base",
          "model_name": "LayoutModel",
          "state": {
            "_view_name": "LayoutView",
            "grid_template_rows": null,
            "right": null,
            "justify_content": null,
            "_view_module": "@jupyter-widgets/base",
            "overflow": null,
            "_model_module_version": "1.2.0",
            "_view_count": null,
            "flex_flow": null,
            "width": null,
            "min_width": null,
            "border": null,
            "align_items": null,
            "bottom": null,
            "_model_module": "@jupyter-widgets/base",
            "top": null,
            "grid_column": null,
            "overflow_y": null,
            "overflow_x": null,
            "grid_auto_flow": null,
            "grid_area": null,
            "grid_template_columns": null,
            "flex": null,
            "_model_name": "LayoutModel",
            "justify_items": null,
            "grid_row": null,
            "max_height": null,
            "align_content": null,
            "visibility": null,
            "align_self": null,
            "height": null,
            "min_height": null,
            "padding": null,
            "grid_auto_rows": null,
            "grid_gap": null,
            "max_width": null,
            "order": null,
            "_view_module_version": "1.2.0",
            "grid_template_areas": null,
            "object_position": null,
            "object_fit": null,
            "grid_auto_columns": null,
            "margin": null,
            "display": null,
            "left": null
          }
        },
        "59412f8f09e643ad9555a04a59d6f57c": {
          "model_module": "@jupyter-widgets/controls",
          "model_name": "HBoxModel",
          "state": {
            "_view_name": "HBoxView",
            "_dom_classes": [],
            "_model_name": "HBoxModel",
            "_view_module": "@jupyter-widgets/controls",
            "_model_module_version": "1.5.0",
            "_view_count": null,
            "_view_module_version": "1.5.0",
            "box_style": "",
            "layout": "IPY_MODEL_9d8cc2c6fbb844efb4aaf8ffb6a41a01",
            "_model_module": "@jupyter-widgets/controls",
            "children": [
              "IPY_MODEL_69c888664bcb489fb9bce71f1e32ef94",
              "IPY_MODEL_e7d0cc00ca5e42769f98ae12348c11fe"
            ]
          }
        },
        "9d8cc2c6fbb844efb4aaf8ffb6a41a01": {
          "model_module": "@jupyter-widgets/base",
          "model_name": "LayoutModel",
          "state": {
            "_view_name": "LayoutView",
            "grid_template_rows": null,
            "right": null,
            "justify_content": null,
            "_view_module": "@jupyter-widgets/base",
            "overflow": null,
            "_model_module_version": "1.2.0",
            "_view_count": null,
            "flex_flow": null,
            "width": null,
            "min_width": null,
            "border": null,
            "align_items": null,
            "bottom": null,
            "_model_module": "@jupyter-widgets/base",
            "top": null,
            "grid_column": null,
            "overflow_y": null,
            "overflow_x": null,
            "grid_auto_flow": null,
            "grid_area": null,
            "grid_template_columns": null,
            "flex": null,
            "_model_name": "LayoutModel",
            "justify_items": null,
            "grid_row": null,
            "max_height": null,
            "align_content": null,
            "visibility": null,
            "align_self": null,
            "height": null,
            "min_height": null,
            "padding": null,
            "grid_auto_rows": null,
            "grid_gap": null,
            "max_width": null,
            "order": null,
            "_view_module_version": "1.2.0",
            "grid_template_areas": null,
            "object_position": null,
            "object_fit": null,
            "grid_auto_columns": null,
            "margin": null,
            "display": null,
            "left": null
          }
        },
        "69c888664bcb489fb9bce71f1e32ef94": {
          "model_module": "@jupyter-widgets/controls",
          "model_name": "FloatProgressModel",
          "state": {
            "_view_name": "ProgressView",
            "style": "IPY_MODEL_145becadff16494ab4c5a834f5763c79",
            "_dom_classes": [],
            "description": "100%",
            "_model_name": "FloatProgressModel",
            "bar_style": "success",
            "max": 2146,
            "_view_module": "@jupyter-widgets/controls",
            "_model_module_version": "1.5.0",
            "value": 2146,
            "_view_count": null,
            "_view_module_version": "1.5.0",
            "orientation": "horizontal",
            "min": 0,
            "description_tooltip": null,
            "_model_module": "@jupyter-widgets/controls",
            "layout": "IPY_MODEL_b5a828ca063e43d5b6e9e3f38b1aa7eb"
          }
        },
        "e7d0cc00ca5e42769f98ae12348c11fe": {
          "model_module": "@jupyter-widgets/controls",
          "model_name": "HTMLModel",
          "state": {
            "_view_name": "HTMLView",
            "style": "IPY_MODEL_c608468b8f774c7a843c221300c90b93",
            "_dom_classes": [],
            "description": "",
            "_model_name": "HTMLModel",
            "placeholder": "​",
            "_view_module": "@jupyter-widgets/controls",
            "_model_module_version": "1.5.0",
            "value": " 2146/2146 [00:00&lt;00:00, 18397.57it/s]",
            "_view_count": null,
            "_view_module_version": "1.5.0",
            "description_tooltip": null,
            "_model_module": "@jupyter-widgets/controls",
            "layout": "IPY_MODEL_613c5a9eb4da465ba47c646581933c7f"
          }
        },
        "145becadff16494ab4c5a834f5763c79": {
          "model_module": "@jupyter-widgets/controls",
          "model_name": "ProgressStyleModel",
          "state": {
            "_view_name": "StyleView",
            "_model_name": "ProgressStyleModel",
            "description_width": "initial",
            "_view_module": "@jupyter-widgets/base",
            "_model_module_version": "1.5.0",
            "_view_count": null,
            "_view_module_version": "1.2.0",
            "bar_color": null,
            "_model_module": "@jupyter-widgets/controls"
          }
        },
        "b5a828ca063e43d5b6e9e3f38b1aa7eb": {
          "model_module": "@jupyter-widgets/base",
          "model_name": "LayoutModel",
          "state": {
            "_view_name": "LayoutView",
            "grid_template_rows": null,
            "right": null,
            "justify_content": null,
            "_view_module": "@jupyter-widgets/base",
            "overflow": null,
            "_model_module_version": "1.2.0",
            "_view_count": null,
            "flex_flow": null,
            "width": null,
            "min_width": null,
            "border": null,
            "align_items": null,
            "bottom": null,
            "_model_module": "@jupyter-widgets/base",
            "top": null,
            "grid_column": null,
            "overflow_y": null,
            "overflow_x": null,
            "grid_auto_flow": null,
            "grid_area": null,
            "grid_template_columns": null,
            "flex": null,
            "_model_name": "LayoutModel",
            "justify_items": null,
            "grid_row": null,
            "max_height": null,
            "align_content": null,
            "visibility": null,
            "align_self": null,
            "height": null,
            "min_height": null,
            "padding": null,
            "grid_auto_rows": null,
            "grid_gap": null,
            "max_width": null,
            "order": null,
            "_view_module_version": "1.2.0",
            "grid_template_areas": null,
            "object_position": null,
            "object_fit": null,
            "grid_auto_columns": null,
            "margin": null,
            "display": null,
            "left": null
          }
        },
        "c608468b8f774c7a843c221300c90b93": {
          "model_module": "@jupyter-widgets/controls",
          "model_name": "DescriptionStyleModel",
          "state": {
            "_view_name": "StyleView",
            "_model_name": "DescriptionStyleModel",
            "description_width": "",
            "_view_module": "@jupyter-widgets/base",
            "_model_module_version": "1.5.0",
            "_view_count": null,
            "_view_module_version": "1.2.0",
            "_model_module": "@jupyter-widgets/controls"
          }
        },
        "613c5a9eb4da465ba47c646581933c7f": {
          "model_module": "@jupyter-widgets/base",
          "model_name": "LayoutModel",
          "state": {
            "_view_name": "LayoutView",
            "grid_template_rows": null,
            "right": null,
            "justify_content": null,
            "_view_module": "@jupyter-widgets/base",
            "overflow": null,
            "_model_module_version": "1.2.0",
            "_view_count": null,
            "flex_flow": null,
            "width": null,
            "min_width": null,
            "border": null,
            "align_items": null,
            "bottom": null,
            "_model_module": "@jupyter-widgets/base",
            "top": null,
            "grid_column": null,
            "overflow_y": null,
            "overflow_x": null,
            "grid_auto_flow": null,
            "grid_area": null,
            "grid_template_columns": null,
            "flex": null,
            "_model_name": "LayoutModel",
            "justify_items": null,
            "grid_row": null,
            "max_height": null,
            "align_content": null,
            "visibility": null,
            "align_self": null,
            "height": null,
            "min_height": null,
            "padding": null,
            "grid_auto_rows": null,
            "grid_gap": null,
            "max_width": null,
            "order": null,
            "_view_module_version": "1.2.0",
            "grid_template_areas": null,
            "object_position": null,
            "object_fit": null,
            "grid_auto_columns": null,
            "margin": null,
            "display": null,
            "left": null
          }
        },
        "12fe0b4d98f6439fb1f0759144986a6f": {
          "model_module": "@jupyter-widgets/controls",
          "model_name": "HBoxModel",
          "state": {
            "_view_name": "HBoxView",
            "_dom_classes": [],
            "_model_name": "HBoxModel",
            "_view_module": "@jupyter-widgets/controls",
            "_model_module_version": "1.5.0",
            "_view_count": null,
            "_view_module_version": "1.5.0",
            "box_style": "",
            "layout": "IPY_MODEL_a8ccf889f11541208f716c7d6bb03a40",
            "_model_module": "@jupyter-widgets/controls",
            "children": [
              "IPY_MODEL_712b13918126424db9613cb3a01154b4",
              "IPY_MODEL_c6d892cb816845db93b95b6b1fb4448c"
            ]
          }
        },
        "a8ccf889f11541208f716c7d6bb03a40": {
          "model_module": "@jupyter-widgets/base",
          "model_name": "LayoutModel",
          "state": {
            "_view_name": "LayoutView",
            "grid_template_rows": null,
            "right": null,
            "justify_content": null,
            "_view_module": "@jupyter-widgets/base",
            "overflow": null,
            "_model_module_version": "1.2.0",
            "_view_count": null,
            "flex_flow": null,
            "width": null,
            "min_width": null,
            "border": null,
            "align_items": null,
            "bottom": null,
            "_model_module": "@jupyter-widgets/base",
            "top": null,
            "grid_column": null,
            "overflow_y": null,
            "overflow_x": null,
            "grid_auto_flow": null,
            "grid_area": null,
            "grid_template_columns": null,
            "flex": null,
            "_model_name": "LayoutModel",
            "justify_items": null,
            "grid_row": null,
            "max_height": null,
            "align_content": null,
            "visibility": null,
            "align_self": null,
            "height": null,
            "min_height": null,
            "padding": null,
            "grid_auto_rows": null,
            "grid_gap": null,
            "max_width": null,
            "order": null,
            "_view_module_version": "1.2.0",
            "grid_template_areas": null,
            "object_position": null,
            "object_fit": null,
            "grid_auto_columns": null,
            "margin": null,
            "display": null,
            "left": null
          }
        },
        "712b13918126424db9613cb3a01154b4": {
          "model_module": "@jupyter-widgets/controls",
          "model_name": "FloatProgressModel",
          "state": {
            "_view_name": "ProgressView",
            "style": "IPY_MODEL_7387fc913ece4910909bd2b010ab2462",
            "_dom_classes": [],
            "description": "100%",
            "_model_name": "FloatProgressModel",
            "bar_style": "success",
            "max": 2146,
            "_view_module": "@jupyter-widgets/controls",
            "_model_module_version": "1.5.0",
            "value": 2146,
            "_view_count": null,
            "_view_module_version": "1.5.0",
            "orientation": "horizontal",
            "min": 0,
            "description_tooltip": null,
            "_model_module": "@jupyter-widgets/controls",
            "layout": "IPY_MODEL_10ba6c21e15c48ef8b0dfa0f8a3b8834"
          }
        },
        "c6d892cb816845db93b95b6b1fb4448c": {
          "model_module": "@jupyter-widgets/controls",
          "model_name": "HTMLModel",
          "state": {
            "_view_name": "HTMLView",
            "style": "IPY_MODEL_eaf523aa22e54708bc9154676e3f5ebe",
            "_dom_classes": [],
            "description": "",
            "_model_name": "HTMLModel",
            "placeholder": "​",
            "_view_module": "@jupyter-widgets/controls",
            "_model_module_version": "1.5.0",
            "value": " 2146/2146 [1:00:23&lt;00:00,  1.69s/it]",
            "_view_count": null,
            "_view_module_version": "1.5.0",
            "description_tooltip": null,
            "_model_module": "@jupyter-widgets/controls",
            "layout": "IPY_MODEL_5dcfc58770574058bb422fa553d9d94d"
          }
        },
        "7387fc913ece4910909bd2b010ab2462": {
          "model_module": "@jupyter-widgets/controls",
          "model_name": "ProgressStyleModel",
          "state": {
            "_view_name": "StyleView",
            "_model_name": "ProgressStyleModel",
            "description_width": "initial",
            "_view_module": "@jupyter-widgets/base",
            "_model_module_version": "1.5.0",
            "_view_count": null,
            "_view_module_version": "1.2.0",
            "bar_color": null,
            "_model_module": "@jupyter-widgets/controls"
          }
        },
        "10ba6c21e15c48ef8b0dfa0f8a3b8834": {
          "model_module": "@jupyter-widgets/base",
          "model_name": "LayoutModel",
          "state": {
            "_view_name": "LayoutView",
            "grid_template_rows": null,
            "right": null,
            "justify_content": null,
            "_view_module": "@jupyter-widgets/base",
            "overflow": null,
            "_model_module_version": "1.2.0",
            "_view_count": null,
            "flex_flow": null,
            "width": null,
            "min_width": null,
            "border": null,
            "align_items": null,
            "bottom": null,
            "_model_module": "@jupyter-widgets/base",
            "top": null,
            "grid_column": null,
            "overflow_y": null,
            "overflow_x": null,
            "grid_auto_flow": null,
            "grid_area": null,
            "grid_template_columns": null,
            "flex": null,
            "_model_name": "LayoutModel",
            "justify_items": null,
            "grid_row": null,
            "max_height": null,
            "align_content": null,
            "visibility": null,
            "align_self": null,
            "height": null,
            "min_height": null,
            "padding": null,
            "grid_auto_rows": null,
            "grid_gap": null,
            "max_width": null,
            "order": null,
            "_view_module_version": "1.2.0",
            "grid_template_areas": null,
            "object_position": null,
            "object_fit": null,
            "grid_auto_columns": null,
            "margin": null,
            "display": null,
            "left": null
          }
        },
        "eaf523aa22e54708bc9154676e3f5ebe": {
          "model_module": "@jupyter-widgets/controls",
          "model_name": "DescriptionStyleModel",
          "state": {
            "_view_name": "StyleView",
            "_model_name": "DescriptionStyleModel",
            "description_width": "",
            "_view_module": "@jupyter-widgets/base",
            "_model_module_version": "1.5.0",
            "_view_count": null,
            "_view_module_version": "1.2.0",
            "_model_module": "@jupyter-widgets/controls"
          }
        },
        "5dcfc58770574058bb422fa553d9d94d": {
          "model_module": "@jupyter-widgets/base",
          "model_name": "LayoutModel",
          "state": {
            "_view_name": "LayoutView",
            "grid_template_rows": null,
            "right": null,
            "justify_content": null,
            "_view_module": "@jupyter-widgets/base",
            "overflow": null,
            "_model_module_version": "1.2.0",
            "_view_count": null,
            "flex_flow": null,
            "width": null,
            "min_width": null,
            "border": null,
            "align_items": null,
            "bottom": null,
            "_model_module": "@jupyter-widgets/base",
            "top": null,
            "grid_column": null,
            "overflow_y": null,
            "overflow_x": null,
            "grid_auto_flow": null,
            "grid_area": null,
            "grid_template_columns": null,
            "flex": null,
            "_model_name": "LayoutModel",
            "justify_items": null,
            "grid_row": null,
            "max_height": null,
            "align_content": null,
            "visibility": null,
            "align_self": null,
            "height": null,
            "min_height": null,
            "padding": null,
            "grid_auto_rows": null,
            "grid_gap": null,
            "max_width": null,
            "order": null,
            "_view_module_version": "1.2.0",
            "grid_template_areas": null,
            "object_position": null,
            "object_fit": null,
            "grid_auto_columns": null,
            "margin": null,
            "display": null,
            "left": null
          }
        }
      }
    }
  },
  "cells": [
    {
      "cell_type": "markdown",
      "metadata": {
        "id": "DmdBnx5PCpxh"
      },
      "source": [
        "###### From the Kaggle (not used code)"
      ]
    },
    {
      "cell_type": "code",
      "metadata": {
        "id": "pl83mJBFMA7c"
      },
      "source": [
        "# This Python 3 environment comes with many helpful analytics libraries installed\n",
        "# It is defined by the kaggle/python Docker image: https://github.com/kaggle/docker-python\n",
        "# For example, here's several helpful packages to load\n",
        "\n",
        "# import numpy as np # linear algebra\n",
        "# import pandas as pd # data processing, CSV file I/O (e.g. pd.read_csv)\n",
        "\n",
        "# Input data files are available in the read-only \"../input/\" directory\n",
        "# For example, running this (by clicking run or pressing Shift+Enter) will list all files under the input directory\n",
        "\n",
        "# import os\n",
        "# for dirname, _, filenames in os.walk('/kaggle/input'):\n",
        "#     for filename in filenames:\n",
        "#         print(os.path.join(dirname, filename))\n",
        "\n",
        "# You can write up to 20GB to the current directory (/kaggle/working/) that gets preserved as output when you create a version using \"Save & Run All\" \n",
        "# You can also write temporary files to /kaggle/temp/, but they won't be saved outside of the current session\n",
        "\n",
        "# import warnings\n",
        "# warnings.filterwarnings('ignore')\n",
        "# %config Completer.use_jedi = False # if autocompletion doesnot work in kaggle notebook | hit tab\n",
        "\n",
        "# # importing the dataset \n",
        "# df_train = pd.read_csv('../input/emotions-dataset-for-nlp/train.txt', header =None, sep =';', names = ['Input','Sentiment'], encoding='utf-8')\n",
        "# df_test = pd.read_csv('../input/emotions-dataset-for-nlp/test.txt', header = None, sep =';', names = ['Input','Sentiment'],encoding='utf-8')\n",
        "# df_val=pd.read_csv('../input/emotions-dataset-for-nlp/val.txt',header=None,sep=';',names=['Input','Sentiment'],encoding='utf-8')"
      ],
      "execution_count": 5,
      "outputs": []
    },
    {
      "cell_type": "markdown",
      "metadata": {
        "id": "M_iRAL7UCX8K"
      },
      "source": [
        "### Loading and Exploring the Data"
      ]
    },
    {
      "cell_type": "code",
      "metadata": {
        "id": "H64hnkezLeB_"
      },
      "source": [
        "import numpy as np\n",
        "import pandas as pd"
      ],
      "execution_count": 6,
      "outputs": []
    },
    {
      "cell_type": "code",
      "metadata": {
        "colab": {
          "base_uri": "https://localhost:8080/",
          "height": 197
        },
        "id": "5wuDb6SPRBDF",
        "outputId": "0cdca7bc-4655-4e98-83cd-f7bf7087cab0"
      },
      "source": [
        "df = pd.read_csv(\"/content/drive/MyDrive/Colab Notebooks/data/Book-Woofer/Emotion_final.csv\")\n",
        "df.head()"
      ],
      "execution_count": 7,
      "outputs": [
        {
          "output_type": "execute_result",
          "data": {
            "text/html": [
              "<div>\n",
              "<style scoped>\n",
              "    .dataframe tbody tr th:only-of-type {\n",
              "        vertical-align: middle;\n",
              "    }\n",
              "\n",
              "    .dataframe tbody tr th {\n",
              "        vertical-align: top;\n",
              "    }\n",
              "\n",
              "    .dataframe thead th {\n",
              "        text-align: right;\n",
              "    }\n",
              "</style>\n",
              "<table border=\"1\" class=\"dataframe\">\n",
              "  <thead>\n",
              "    <tr style=\"text-align: right;\">\n",
              "      <th></th>\n",
              "      <th>Text</th>\n",
              "      <th>Emotion</th>\n",
              "    </tr>\n",
              "  </thead>\n",
              "  <tbody>\n",
              "    <tr>\n",
              "      <th>0</th>\n",
              "      <td>i didnt feel humiliated</td>\n",
              "      <td>sadness</td>\n",
              "    </tr>\n",
              "    <tr>\n",
              "      <th>1</th>\n",
              "      <td>i can go from feeling so hopeless to so damned...</td>\n",
              "      <td>sadness</td>\n",
              "    </tr>\n",
              "    <tr>\n",
              "      <th>2</th>\n",
              "      <td>im grabbing a minute to post i feel greedy wrong</td>\n",
              "      <td>anger</td>\n",
              "    </tr>\n",
              "    <tr>\n",
              "      <th>3</th>\n",
              "      <td>i am ever feeling nostalgic about the fireplac...</td>\n",
              "      <td>love</td>\n",
              "    </tr>\n",
              "    <tr>\n",
              "      <th>4</th>\n",
              "      <td>i am feeling grouchy</td>\n",
              "      <td>anger</td>\n",
              "    </tr>\n",
              "  </tbody>\n",
              "</table>\n",
              "</div>"
            ],
            "text/plain": [
              "                                                Text  Emotion\n",
              "0                            i didnt feel humiliated  sadness\n",
              "1  i can go from feeling so hopeless to so damned...  sadness\n",
              "2   im grabbing a minute to post i feel greedy wrong    anger\n",
              "3  i am ever feeling nostalgic about the fireplac...     love\n",
              "4                               i am feeling grouchy    anger"
            ]
          },
          "metadata": {
            "tags": []
          },
          "execution_count": 7
        }
      ]
    },
    {
      "cell_type": "code",
      "metadata": {
        "colab": {
          "base_uri": "https://localhost:8080/"
        },
        "id": "m0_tphx1e2kA",
        "outputId": "48d0f402-1ecf-44c2-cae3-47a28b48b5bf"
      },
      "source": [
        "df['Emotion'].value_counts()"
      ],
      "execution_count": 8,
      "outputs": [
        {
          "output_type": "execute_result",
          "data": {
            "text/plain": [
              "happy       7029\n",
              "sadness     6265\n",
              "anger       2993\n",
              "fear        2652\n",
              "love        1641\n",
              "surprise     879\n",
              "Name: Emotion, dtype: int64"
            ]
          },
          "metadata": {
            "tags": []
          },
          "execution_count": 8
        }
      ]
    },
    {
      "cell_type": "markdown",
      "metadata": {
        "id": "Mnk3Z8Y4CIb0"
      },
      "source": [
        "### Splitting the Data into 3 Parts (Train, Test, Val) and Exporting them as csv"
      ]
    },
    {
      "cell_type": "code",
      "metadata": {
        "id": "XXlMQm1qXiy2"
      },
      "source": [
        "from sklearn.model_selection import train_test_split\n",
        "\n",
        "df_train, df_rem = train_test_split(df,test_size=0.2,train_size=0.8)\n",
        "df_val, df_test = train_test_split(df_rem,test_size=0.5,train_size=0.5)"
      ],
      "execution_count": 9,
      "outputs": []
    },
    {
      "cell_type": "code",
      "metadata": {
        "id": "Bue8EHMDPJd1"
      },
      "source": [
        "# ! pip install fast-ml\n",
        "# from fast_ml.model_development import train_valid_test_split\n",
        "\n",
        "# X_train, y_train, X_valid, y_valid, X_test, y_test = train_valid_test_split(df, target = 'Emotion', \n",
        "#                                                                             train_size=0.7, valid_size=0.2, test_size=0.1)"
      ],
      "execution_count": 10,
      "outputs": []
    },
    {
      "cell_type": "code",
      "metadata": {
        "id": "mF1ILv7mMB-W",
        "colab": {
          "base_uri": "https://localhost:8080/"
        },
        "outputId": "8303ddf1-be07-40c9-ae21-2b21ea04f2a7"
      },
      "source": [
        "print(df_train.shape, df_test.shape, df_val.shape)"
      ],
      "execution_count": 11,
      "outputs": [
        {
          "output_type": "stream",
          "text": [
            "(17167, 2) (2146, 2) (2146, 2)\n"
          ],
          "name": "stdout"
        }
      ]
    },
    {
      "cell_type": "code",
      "metadata": {
        "id": "l5tG0sNf3GUv"
      },
      "source": [
        "df_train.to_csv('Emotion_train%80-10-10.csv')\n",
        "df_test.to_csv('Emotion_test%80-10-10.csv')\n",
        "df_val.to_csv('Emotion_val%80-10-10.csv')"
      ],
      "execution_count": 12,
      "outputs": []
    },
    {
      "cell_type": "code",
      "metadata": {
        "id": "MYL7GiQvMCQo",
        "colab": {
          "base_uri": "https://localhost:8080/",
          "height": 334
        },
        "outputId": "41c03ae1-147c-4ca0-b157-b984a4c1540d"
      },
      "source": [
        "import matplotlib.pyplot as plt\n",
        "import seaborn as sns\n",
        "# sns.set()\n",
        "# %config InlineBackend.figure_format = 'retina'\n",
        "\n",
        "sns.countplot(df_train.Emotion)\n",
        "plt.show()"
      ],
      "execution_count": 13,
      "outputs": [
        {
          "output_type": "stream",
          "text": [
            "/usr/local/lib/python3.7/dist-packages/seaborn/_decorators.py:43: FutureWarning: Pass the following variable as a keyword arg: x. From version 0.12, the only valid positional argument will be `data`, and passing other arguments without an explicit keyword will result in an error or misinterpretation.\n",
            "  FutureWarning\n"
          ],
          "name": "stderr"
        },
        {
          "output_type": "display_data",
          "data": {
            "image/png": "[encoded data removed]",
            "text/plain": [
              "<Figure size 432x288 with 1 Axes>"
            ]
          },
          "metadata": {
            "tags": [],
            "needs_background": "light"
          }
        }
      ]
    },
    {
      "cell_type": "markdown",
      "metadata": {
        "id": "8-K-ahyJB1x1"
      },
      "source": [
        "### Adding a column 'Length' and explore the lengths of the Text"
      ]
    },
    {
      "cell_type": "code",
      "metadata": {
        "id": "iz9qh7FQMcAB",
        "colab": {
          "base_uri": "https://localhost:8080/"
        },
        "outputId": "7fa919c6-9a9c-4a2d-b030-4c68576caf5b"
      },
      "source": [
        "df_train['Length'] = df_train.Text.apply(lambda x:len(x))"
      ],
      "execution_count": 14,
      "outputs": [
        {
          "output_type": "stream",
          "text": [
            "/usr/local/lib/python3.7/dist-packages/ipykernel_launcher.py:1: SettingWithCopyWarning: \n",
            "A value is trying to be set on a copy of a slice from a DataFrame.\n",
            "Try using .loc[row_indexer,col_indexer] = value instead\n",
            "\n",
            "See the caveats in the documentation: https://pandas.pydata.org/pandas-docs/stable/user_guide/indexing.html#returning-a-view-versus-a-copy\n",
            "  \"\"\"Entry point for launching an IPython kernel.\n"
          ],
          "name": "stderr"
        }
      ]
    },
    {
      "cell_type": "code",
      "metadata": {
        "id": "fBWRs74AMctH",
        "colab": {
          "base_uri": "https://localhost:8080/",
          "height": 282
        },
        "outputId": "03553ab5-b597-4d07-80ec-b53875c56054"
      },
      "source": [
        "# plt.plot(df_train.Length)\n",
        "df_train.Length.hist()"
      ],
      "execution_count": 15,
      "outputs": [
        {
          "output_type": "execute_result",
          "data": {
            "text/plain": [
              "<matplotlib.axes._subplots.AxesSubplot at 0x7f2b9f9d1510>"
            ]
          },
          "metadata": {
            "tags": []
          },
          "execution_count": 15
        },
        {
          "output_type": "display_data",
          "data": {
            "image/png": "[encoded data removed]",
            "text/plain": [
              "<Figure size 432x288 with 1 Axes>"
            ]
          },
          "metadata": {
            "tags": [],
            "needs_background": "light"
          }
        }
      ]
    },
    {
      "cell_type": "code",
      "metadata": {
        "id": "bMMiBQH9Mcys",
        "colab": {
          "base_uri": "https://localhost:8080/",
          "height": 70
        },
        "outputId": "448bfb73-f709-4a78-e758-865e9335f1ea"
      },
      "source": [
        "display(df_train.Length.max())\n",
        "display(int(df_train.Length.mean()))\n",
        "display(int(df_train.Length.std()))"
      ],
      "execution_count": 16,
      "outputs": [
        {
          "output_type": "display_data",
          "data": {
            "text/plain": [
              "307"
            ]
          },
          "metadata": {
            "tags": []
          }
        },
        {
          "output_type": "display_data",
          "data": {
            "text/plain": [
              "96"
            ]
          },
          "metadata": {
            "tags": []
          }
        },
        {
          "output_type": "display_data",
          "data": {
            "text/plain": [
              "55"
            ]
          },
          "metadata": {
            "tags": []
          }
        }
      ]
    },
    {
      "cell_type": "markdown",
      "metadata": {
        "id": "sY6lc2C_BoXx"
      },
      "source": [
        "### Preprocessing with package from kaggle"
      ]
    },
    {
      "cell_type": "code",
      "metadata": {
        "id": "lohELcM1Mc4b",
        "colab": {
          "base_uri": "https://localhost:8080/"
        },
        "outputId": "d49f3b8f-9606-48a0-93c6-20cbe9efd23c"
      },
      "source": [
        "# preprocessing library from kaggle \n",
        "!pip install git+https://github.com/laxmimerit/preprocess_kgptalkie.git --upgrade --force-reinstall\n",
        "!pip install BeautifulSoup4\n",
        "\n",
        "import preprocess_kgptalkie as ps\n",
        "\n",
        "# %%time\n",
        "\n",
        "from tqdm._tqdm_notebook import tqdm_notebook\n",
        "tqdm_notebook.pandas()\n",
        "\n",
        "def text_preprocessing(df,col_name):\n",
        "    column = col_name\n",
        "    df[column] = df[column].progress_apply(lambda x:str(x).lower())\n",
        "    df[column] = df[column].progress_apply(lambda x: ps.cont_exp(x)) #you're -> you are; i'm -> i am\n",
        "    df[column] = df[column].progress_apply(lambda x: ps.remove_emails(x))\n",
        "    df[column] = df[column].progress_apply(lambda x: ps.remove_html_tags(x))\n",
        "#     df[column] = df[column].progress_apply(lambda x: ps.remove_stopwords(x))\n",
        "\n",
        "    df[column] = df[column].progress_apply(lambda x: ps.remove_special_chars(x))\n",
        "    df[column] = df[column].progress_apply(lambda x: ps.remove_accented_chars(x))\n",
        "    df[column] = df[column].progress_apply(lambda x: ps.make_base(x)) #ran -> run,\n",
        "    return(df)"
      ],
      "execution_count": 17,
      "outputs": [
        {
          "output_type": "stream",
          "text": [
            "Collecting git+https://github.com/laxmimerit/preprocess_kgptalkie.git\n",
            "  Cloning https://github.com/laxmimerit/preprocess_kgptalkie.git to /tmp/pip-req-build-htyvkezz\n",
            "  Running command git clone -q https://github.com/laxmimerit/preprocess_kgptalkie.git /tmp/pip-req-build-htyvkezz\n",
            "Building wheels for collected packages: preprocess-kgptalkie\n",
            "  Building wheel for preprocess-kgptalkie (setup.py) ... \u001b[?25l\u001b[?25hdone\n",
            "  Created wheel for preprocess-kgptalkie: filename=preprocess_kgptalkie-0.1.3-cp37-none-any.whl size=11759 sha256=60cbdd3191531841b54a94296a462177d2cbebfcb10fced66ddacc0681942394\n",
            "  Stored in directory: /tmp/pip-ephem-wheel-cache-p8_3sdjr/wheels/a8/18/22/90afa4bd43247fb9a75b710a4a3fcd94966c022ce9e3c7d0a6\n",
            "Successfully built preprocess-kgptalkie\n",
            "Installing collected packages: preprocess-kgptalkie\n",
            "Successfully installed preprocess-kgptalkie-0.1.3\n",
            "Requirement already satisfied: BeautifulSoup4 in /usr/local/lib/python3.7/dist-packages (4.6.3)\n"
          ],
          "name": "stdout"
        },
        {
          "output_type": "stream",
          "text": [
            "/usr/local/lib/python3.7/dist-packages/ipykernel_launcher.py:9: TqdmDeprecationWarning: This function will be removed in tqdm==5.0.0\n",
            "Please use `tqdm.notebook.*` instead of `tqdm._tqdm_notebook.*`\n",
            "  if __name__ == '__main__':\n",
            "/usr/local/lib/python3.7/dist-packages/tqdm/std.py:658: FutureWarning: The Panel class is removed from pandas. Accessing it from the top-level namespace will also be removed in the next version\n",
            "  from pandas import Panel\n"
          ],
          "name": "stderr"
        }
      ]
    },
    {
      "cell_type": "code",
      "metadata": {
        "id": "1__3j1c5Mc9q",
        "colab": {
          "base_uri": "https://localhost:8080/",
          "height": 1000,
          "referenced_widgets": [
            "a5de39becf744981ac66f57105759030",
            "89cf8991c30c47f78961236d47568f4c",
            "137678a37620435695974b7cf4e86131",
            "ba1164234c15492aa7adbfa7102586fa",
            "cfa5695c08db42f592827965bd26869c",
            "9ff803f4a9f7448eba8060f0ac3fe32b",
            "6727cfe310384f7882aa22aa0f3fa2fe",
            "d24c1b49278f4abe81a14344e3faa430",
            "ba11d08b2eb949fe8a9894dbcf3956bf",
            "966464da4a454d14b1a826c16d9e28d1",
            "f471b30f025a4031a0f20a1428b50a3c",
            "34f29e4217924a8dae68040628322dce",
            "0dd4f467c5c748b8b5589d3c7a0822c2",
            "2d3ee8175a4145d5b6d53511f9a32e8c",
            "677c98c0fe9549fe8e77185bfa5d3044",
            "b9da3e4900754e08b8ba903182b25de7",
            "bdc25d8ac9814cc09152732ebdac1cda",
            "6c778d09dcc54fff8ebc375d5df46114",
            "ee31edf368d14519b072237a80a13a99",
            "9f905b4d9a6b452a9b93017b291250ba",
            "fd77c4387a7c49bab7a8bc8792d33c47",
            "77c367ca48084a75a637cad69d4733ce",
            "52b26281a2344cad864c5cce07995f65",
            "6a58f4546c594f869462bd4b44582618",
            "a45d97104f0b441aa5ee28551f7cc8a1",
            "020066f464d346b18e68f8006f79de8e",
            "801e3b4302f84c6687715cfbbd77bf2a",
            "277ea6da3745441b8fd1401b3a7165a4",
            "818de19ee07842d692a2c9c8b7eb9f70",
            "eeee301c0cd3478c8383000eef6e7f3c",
            "e0746aa627444a4ca5ac1eeefef88aa1",
            "eec9d497ddfb4678aa49c656248c6233",
            "3f7ecc3badd34b53b050c4eb4007cbca",
            "1e84c2b683bb432bad5aa966341e22c1",
            "2dd0cfbe630346c7970c422136081570",
            "ea39771e8fcc46239ef5c7470e68a19b",
            "4409301f200046949120a0a9e29cf5ed",
            "d0f9e0d1671c4c93b1d81b5ef6758563",
            "3923cd40b75c4c2cafdee9f7fbe7e0a3",
            "24ef31001f874577ba2b4ca8c75e26cc",
            "8b77b4e33b5b4192b5de521b8a2b3414",
            "662154d2a4f84f5aab543fc79d48a9c2",
            "d69cd6f00b45421aba6ddac46f582e1a",
            "015cbf45665942c7957d62ca2c3fc778",
            "75198922f049485c95e7409f452c939e",
            "4980735bb7cd432990eee89fdf0411a5",
            "4ae737da3a3343bda881b2e0e6f0297c",
            "0db31915abaa46f999f853d8362e3ceb",
            "f7853bb61aba4501a6a21f5a45a61d4a",
            "cc6f8a483d0c4b8db754b16052816085",
            "1d07d4ccbf99401e997794b1e12500dc",
            "02156a0ba4fd4fcfab9e3118cd9d8052",
            "bc110dab4721421f8eaa77c79d3f48aa",
            "cf440f1fd4534a62bf4ffd26ae823778",
            "822472f31af1454297d31d29c2df419d",
            "cb88de68fb4f4027b1a04aca41eff7b6"
          ]
        },
        "outputId": "5d39676b-eda3-4568-e1d9-b8eb3d17177e"
      },
      "source": [
        "df_cleaned_train = text_preprocessing(df_train, 'Text')\n",
        "df_cleaned_train.head()"
      ],
      "execution_count": 18,
      "outputs": [
        {
          "output_type": "display_data",
          "data": {
            "application/vnd.jupyter.widget-view+json": {
              "model_id": "a5de39becf744981ac66f57105759030",
              "version_minor": 0,
              "version_major": 2
            },
            "text/plain": [
              "HBox(children=(FloatProgress(value=0.0, max=17167.0), HTML(value='')))"
            ]
          },
          "metadata": {
            "tags": []
          }
        },
        {
          "output_type": "stream",
          "text": [
            "\n"
          ],
          "name": "stdout"
        },
        {
          "output_type": "stream",
          "text": [
            "/usr/local/lib/python3.7/dist-packages/ipykernel_launcher.py:14: SettingWithCopyWarning: \n",
            "A value is trying to be set on a copy of a slice from a DataFrame.\n",
            "Try using .loc[row_indexer,col_indexer] = value instead\n",
            "\n",
            "See the caveats in the documentation: https://pandas.pydata.org/pandas-docs/stable/user_guide/indexing.html#returning-a-view-versus-a-copy\n",
            "  \n"
          ],
          "name": "stderr"
        },
        {
          "output_type": "display_data",
          "data": {
            "application/vnd.jupyter.widget-view+json": {
              "model_id": "ba11d08b2eb949fe8a9894dbcf3956bf",
              "version_minor": 0,
              "version_major": 2
            },
            "text/plain": [
              "HBox(children=(FloatProgress(value=0.0, max=17167.0), HTML(value='')))"
            ]
          },
          "metadata": {
            "tags": []
          }
        },
        {
          "output_type": "stream",
          "text": [
            "\n"
          ],
          "name": "stdout"
        },
        {
          "output_type": "stream",
          "text": [
            "/usr/local/lib/python3.7/dist-packages/ipykernel_launcher.py:15: SettingWithCopyWarning: \n",
            "A value is trying to be set on a copy of a slice from a DataFrame.\n",
            "Try using .loc[row_indexer,col_indexer] = value instead\n",
            "\n",
            "See the caveats in the documentation: https://pandas.pydata.org/pandas-docs/stable/user_guide/indexing.html#returning-a-view-versus-a-copy\n",
            "  from ipykernel import kernelapp as app\n"
          ],
          "name": "stderr"
        },
        {
          "output_type": "display_data",
          "data": {
            "application/vnd.jupyter.widget-view+json": {
              "model_id": "bdc25d8ac9814cc09152732ebdac1cda",
              "version_minor": 0,
              "version_major": 2
            },
            "text/plain": [
              "HBox(children=(FloatProgress(value=0.0, max=17167.0), HTML(value='')))"
            ]
          },
          "metadata": {
            "tags": []
          }
        },
        {
          "output_type": "stream",
          "text": [
            "\n"
          ],
          "name": "stdout"
        },
        {
          "output_type": "stream",
          "text": [
            "/usr/local/lib/python3.7/dist-packages/ipykernel_launcher.py:16: SettingWithCopyWarning: \n",
            "A value is trying to be set on a copy of a slice from a DataFrame.\n",
            "Try using .loc[row_indexer,col_indexer] = value instead\n",
            "\n",
            "See the caveats in the documentation: https://pandas.pydata.org/pandas-docs/stable/user_guide/indexing.html#returning-a-view-versus-a-copy\n",
            "  app.launch_new_instance()\n"
          ],
          "name": "stderr"
        },
        {
          "output_type": "display_data",
          "data": {
            "application/vnd.jupyter.widget-view+json": {
              "model_id": "a45d97104f0b441aa5ee28551f7cc8a1",
              "version_minor": 0,
              "version_major": 2
            },
            "text/plain": [
              "HBox(children=(FloatProgress(value=0.0, max=17167.0), HTML(value='')))"
            ]
          },
          "metadata": {
            "tags": []
          }
        },
        {
          "output_type": "stream",
          "text": [
            "\n"
          ],
          "name": "stdout"
        },
        {
          "output_type": "stream",
          "text": [
            "/usr/local/lib/python3.7/dist-packages/ipykernel_launcher.py:17: SettingWithCopyWarning: \n",
            "A value is trying to be set on a copy of a slice from a DataFrame.\n",
            "Try using .loc[row_indexer,col_indexer] = value instead\n",
            "\n",
            "See the caveats in the documentation: https://pandas.pydata.org/pandas-docs/stable/user_guide/indexing.html#returning-a-view-versus-a-copy\n"
          ],
          "name": "stderr"
        },
        {
          "output_type": "display_data",
          "data": {
            "application/vnd.jupyter.widget-view+json": {
              "model_id": "3f7ecc3badd34b53b050c4eb4007cbca",
              "version_minor": 0,
              "version_major": 2
            },
            "text/plain": [
              "HBox(children=(FloatProgress(value=0.0, max=17167.0), HTML(value='')))"
            ]
          },
          "metadata": {
            "tags": []
          }
        },
        {
          "output_type": "stream",
          "text": [
            "\n"
          ],
          "name": "stdout"
        },
        {
          "output_type": "stream",
          "text": [
            "/usr/local/lib/python3.7/dist-packages/ipykernel_launcher.py:20: SettingWithCopyWarning: \n",
            "A value is trying to be set on a copy of a slice from a DataFrame.\n",
            "Try using .loc[row_indexer,col_indexer] = value instead\n",
            "\n",
            "See the caveats in the documentation: https://pandas.pydata.org/pandas-docs/stable/user_guide/indexing.html#returning-a-view-versus-a-copy\n"
          ],
          "name": "stderr"
        },
        {
          "output_type": "display_data",
          "data": {
            "application/vnd.jupyter.widget-view+json": {
              "model_id": "8b77b4e33b5b4192b5de521b8a2b3414",
              "version_minor": 0,
              "version_major": 2
            },
            "text/plain": [
              "HBox(children=(FloatProgress(value=0.0, max=17167.0), HTML(value='')))"
            ]
          },
          "metadata": {
            "tags": []
          }
        },
        {
          "output_type": "stream",
          "text": [
            "\n"
          ],
          "name": "stdout"
        },
        {
          "output_type": "stream",
          "text": [
            "/usr/local/lib/python3.7/dist-packages/ipykernel_launcher.py:21: SettingWithCopyWarning: \n",
            "A value is trying to be set on a copy of a slice from a DataFrame.\n",
            "Try using .loc[row_indexer,col_indexer] = value instead\n",
            "\n",
            "See the caveats in the documentation: https://pandas.pydata.org/pandas-docs/stable/user_guide/indexing.html#returning-a-view-versus-a-copy\n"
          ],
          "name": "stderr"
        },
        {
          "output_type": "display_data",
          "data": {
            "application/vnd.jupyter.widget-view+json": {
              "model_id": "f7853bb61aba4501a6a21f5a45a61d4a",
              "version_minor": 0,
              "version_major": 2
            },
            "text/plain": [
              "HBox(children=(FloatProgress(value=0.0, max=17167.0), HTML(value='')))"
            ]
          },
          "metadata": {
            "tags": []
          }
        },
        {
          "output_type": "stream",
          "text": [
            "\n"
          ],
          "name": "stdout"
        },
        {
          "output_type": "stream",
          "text": [
            "/usr/local/lib/python3.7/dist-packages/ipykernel_launcher.py:22: SettingWithCopyWarning: \n",
            "A value is trying to be set on a copy of a slice from a DataFrame.\n",
            "Try using .loc[row_indexer,col_indexer] = value instead\n",
            "\n",
            "See the caveats in the documentation: https://pandas.pydata.org/pandas-docs/stable/user_guide/indexing.html#returning-a-view-versus-a-copy\n"
          ],
          "name": "stderr"
        },
        {
          "output_type": "execute_result",
          "data": {
            "text/html": [
              "<div>\n",
              "<style scoped>\n",
              "    .dataframe tbody tr th:only-of-type {\n",
              "        vertical-align: middle;\n",
              "    }\n",
              "\n",
              "    .dataframe tbody tr th {\n",
              "        vertical-align: top;\n",
              "    }\n",
              "\n",
              "    .dataframe thead th {\n",
              "        text-align: right;\n",
              "    }\n",
              "</style>\n",
              "<table border=\"1\" class=\"dataframe\">\n",
              "  <thead>\n",
              "    <tr style=\"text-align: right;\">\n",
              "      <th></th>\n",
              "      <th>Text</th>\n",
              "      <th>Emotion</th>\n",
              "      <th>Length</th>\n",
              "    </tr>\n",
              "  </thead>\n",
              "  <tbody>\n",
              "    <tr>\n",
              "      <th>20525</th>\n",
              "      <td>one unnamed area was criticise after it appear...</td>\n",
              "      <td>sadness</td>\n",
              "      <td>105</td>\n",
              "    </tr>\n",
              "    <tr>\n",
              "      <th>6247</th>\n",
              "      <td>i have no idea i was give off this vibe but i ...</td>\n",
              "      <td>anger</td>\n",
              "      <td>121</td>\n",
              "    </tr>\n",
              "    <tr>\n",
              "      <th>5150</th>\n",
              "      <td>i feel defeat loss and confused</td>\n",
              "      <td>sadness</td>\n",
              "      <td>33</td>\n",
              "    </tr>\n",
              "    <tr>\n",
              "      <th>13030</th>\n",
              "      <td>i am feel mad at him as he do not reply get me...</td>\n",
              "      <td>anger</td>\n",
              "      <td>61</td>\n",
              "    </tr>\n",
              "    <tr>\n",
              "      <th>13498</th>\n",
              "      <td>i like to keep them on hand when i m feeling n...</td>\n",
              "      <td>happy</td>\n",
              "      <td>74</td>\n",
              "    </tr>\n",
              "  </tbody>\n",
              "</table>\n",
              "</div>"
            ],
            "text/plain": [
              "                                                    Text  Emotion  Length\n",
              "20525  one unnamed area was criticise after it appear...  sadness     105\n",
              "6247   i have no idea i was give off this vibe but i ...    anger     121\n",
              "5150                     i feel defeat loss and confused  sadness      33\n",
              "13030  i am feel mad at him as he do not reply get me...    anger      61\n",
              "13498  i like to keep them on hand when i m feeling n...    happy      74"
            ]
          },
          "metadata": {
            "tags": []
          },
          "execution_count": 18
        }
      ]
    },
    {
      "cell_type": "code",
      "metadata": {
        "colab": {
          "base_uri": "https://localhost:8080/",
          "height": 1000,
          "referenced_widgets": [
            "647d8780643f4e1e89533e1a9f2fe6d1",
            "05a92c7a6ca14d6eaac7fcbae1ce02f5",
            "7e817cf54bae48ddbb20c0e973146851",
            "055c128c702346f1962676a11b3e9fff",
            "308b26a5bd0a47b7ada263b6e91f6714",
            "673e9c679a56423d90fd410221572768",
            "79d9b5279f7f46d8a9e97689cd7ad8b6",
            "f2b3048c0d2c428a93c440acdc940659",
            "c36ee7ab43bb49eb919d1cee44706349",
            "f6eaddfea5164daa84fc10a6ac8c4d50",
            "fc7819d448b14d4c8dc2436c5a132a6f",
            "d20346eac5e549aca35b8d1dd7879587",
            "9c0aab62907a43428a0cc259720eb9c9",
            "b66c7a6d2c244f39a0cf39fa612b4ba6",
            "b79d509e19694017878d959666ed8fd3",
            "7fa1d0cb18884b9e9be33beac0948ec0",
            "196926210a924e398feb379403b6bcd3",
            "93c22fcac220441cb081ac31f084aa7d",
            "a892cecce3d84345aad4519e72fd4aa3",
            "d614252badcb4c68a0dbf653c646c754",
            "bd2657200303475f80b4763fb74f456c",
            "b9753cbc24094155ba5621728d79be28",
            "b194f8ab71924f2ba75872a58c542197",
            "fc9948a008f7438bbbc7ef0d36e3ce7b",
            "ea9e14aa2351439787327ab1f0f8b3b7",
            "d4fe482577a94ed9a3e3de46f6fa44cb",
            "b068266bc3344255886e1ad307e7a70d",
            "552e896a05694facbc7946eea9f27fde",
            "cdf5fe7b5ef44d4187b8d379235f4de8",
            "217dc1c2f3ba4042a6427a51d8a38252",
            "09a9da7e1b21400bb58d9ab017f90f25",
            "49f47907efb24bce9047dee255296327",
            "db5da79552614202ba3c9c31ff7c43f1",
            "4b7ea34be97d4314af15cae8f15975b5",
            "792b897ac4ab4b9c89f72ea371f9be64",
            "e318d56e5f78472b91d7c92eccb19212",
            "59210ea531354a60b37916b7e409acd2",
            "c440e8b60ef24c1895fb51fa69ebf563",
            "538dcade3d834c2b9f32c984e83006c6",
            "bf56f24dad73416f8d75ae8340654ff5",
            "d16e386ff7ba4ec9a2b80052600e95de",
            "e8eb2d5eb1914c27ad87a50afacf954c",
            "5dc0d47c7452419584e4eed9edae683b",
            "a14b3ae5591f4f6cbe19f993eedef2d3",
            "8e3a4041aff34700b4200c6f599f68e5",
            "8ad2e05daad24691b2f6cd9192778f4f",
            "a778bbe13c114e649e2cbf9b650100da",
            "b808b9d21020432f83710c1c87cfd882",
            "4955301cac7b47b2b55355325e4c24cf",
            "989bb2af6f3c4d439d432689d9848c34",
            "e04565a0705741f9b22a89b292069383",
            "b666096c6cf249beb2a9dfa91dae4644",
            "d11de198fbfc49d19710c7df4378b5dd",
            "b36ed8b4628b433089cfd745d87c3b61",
            "a9a4366d2b4d452ebdb17ac35af9116f",
            "5ee084e6fa1e4e3284922db9d0064a90",
            "12373aa254f14752b113252f451c94d8",
            "a5c15925bd604dc795f565ab2322c5af",
            "0bdb7447fa7c461a8ea5f8df136b9b55",
            "b647cef423684876ba4b0084f1c9c4b9",
            "d57dfedaa62b4e0fb6c48400a36b4109",
            "584976318ae8441e80d994ec0f7d6c53",
            "ef7eb402b5dc41288b5a7ce4ec6bb2da",
            "05a90328443b4d84af868fa3360853af",
            "fb6c9d243aa6475aae6f8a1d1a76e054",
            "c4ddb721f1714456bc91d31241e9ffe2",
            "04944a492a514cfc917fefb07027975b",
            "30f115b300964ff1a5ab40849164c98e",
            "1ccc7ac9f09f4731a7b46d0da8621c58",
            "1bbc4ec493e543f080b880f2b6076924",
            "de1dbd6595784165948d3fdb93938891",
            "0c5e02a52a4d4e12ab479a9bc4181aeb",
            "4f67d6074902422e99228520ab74f67f",
            "f2355a56875e4f0daa7bfacf0aec85a8",
            "f298bfef79874acfadac9dedad9d7fb7",
            "44c33931e87d4fe6a82aeae097035d7d",
            "ffb747af73a441cda17b023754223e59",
            "402f9580410447d08419bb4cba0d57ad",
            "f14c846433014b5487b51c70597f8620",
            "328bfacb66ba4e5b821e99b39b2e31df",
            "bda8b0918d81460aa8ccedeb95ccb38f",
            "280e03dc50944008ad339f92608928f6",
            "c73b35d7fb25410bbff40a5941f02d3c",
            "4a5f6b80410f44de83e77d73c0650e8b",
            "fcc61abf82294b13a86028fd5a395469",
            "088bf31e318f4e36bdbecc151d0967ae",
            "2393f1c1fec6485ca5c4c764fe52cee2",
            "9c1e9f38d39a4f028ee4c2e0f264442b",
            "f531c5d1863641c8a65f73030e1d97fb",
            "565263ba52a544c3948dd92f4373a45d",
            "2898648de442483a8f7549f4226fd728",
            "fa32e97f2d184eebbdf42688d48107f7",
            "e17e03270e984ece83d10a8d492a35da",
            "ad3a48df16244ca5951e8784ce59afaf",
            "745f53eb50ba40c2bd3a671d27760f67",
            "ad1bf22d66d1478890ce422de8c5cfc5",
            "59412f8f09e643ad9555a04a59d6f57c",
            "9d8cc2c6fbb844efb4aaf8ffb6a41a01",
            "69c888664bcb489fb9bce71f1e32ef94",
            "e7d0cc00ca5e42769f98ae12348c11fe",
            "145becadff16494ab4c5a834f5763c79",
            "b5a828ca063e43d5b6e9e3f38b1aa7eb",
            "c608468b8f774c7a843c221300c90b93",
            "613c5a9eb4da465ba47c646581933c7f",
            "12fe0b4d98f6439fb1f0759144986a6f",
            "a8ccf889f11541208f716c7d6bb03a40",
            "712b13918126424db9613cb3a01154b4",
            "c6d892cb816845db93b95b6b1fb4448c",
            "7387fc913ece4910909bd2b010ab2462",
            "10ba6c21e15c48ef8b0dfa0f8a3b8834",
            "eaf523aa22e54708bc9154676e3f5ebe",
            "5dcfc58770574058bb422fa553d9d94d"
          ]
        },
        "id": "7YZSTiu2bBaB",
        "outputId": "17c782b9-755d-4859-c383-ae0e947ad412"
      },
      "source": [
        "df_cleaned_test = text_preprocessing(df_test, 'Text')\n",
        "df_cleaned_val = text_preprocessing(df_val, 'Text')"
      ],
      "execution_count": 49,
      "outputs": [
        {
          "output_type": "display_data",
          "data": {
            "application/vnd.jupyter.widget-view+json": {
              "model_id": "647d8780643f4e1e89533e1a9f2fe6d1",
              "version_minor": 0,
              "version_major": 2
            },
            "text/plain": [
              "HBox(children=(FloatProgress(value=0.0, max=2146.0), HTML(value='')))"
            ]
          },
          "metadata": {
            "tags": []
          }
        },
        {
          "output_type": "stream",
          "text": [
            "\n"
          ],
          "name": "stdout"
        },
        {
          "output_type": "stream",
          "text": [
            "/usr/local/lib/python3.7/dist-packages/ipykernel_launcher.py:14: SettingWithCopyWarning: \n",
            "A value is trying to be set on a copy of a slice from a DataFrame.\n",
            "Try using .loc[row_indexer,col_indexer] = value instead\n",
            "\n",
            "See the caveats in the documentation: https://pandas.pydata.org/pandas-docs/stable/user_guide/indexing.html#returning-a-view-versus-a-copy\n",
            "  \n"
          ],
          "name": "stderr"
        },
        {
          "output_type": "display_data",
          "data": {
            "application/vnd.jupyter.widget-view+json": {
              "model_id": "c36ee7ab43bb49eb919d1cee44706349",
              "version_minor": 0,
              "version_major": 2
            },
            "text/plain": [
              "HBox(children=(FloatProgress(value=0.0, max=2146.0), HTML(value='')))"
            ]
          },
          "metadata": {
            "tags": []
          }
        },
        {
          "output_type": "stream",
          "text": [
            "\n"
          ],
          "name": "stdout"
        },
        {
          "output_type": "stream",
          "text": [
            "/usr/local/lib/python3.7/dist-packages/ipykernel_launcher.py:15: SettingWithCopyWarning: \n",
            "A value is trying to be set on a copy of a slice from a DataFrame.\n",
            "Try using .loc[row_indexer,col_indexer] = value instead\n",
            "\n",
            "See the caveats in the documentation: https://pandas.pydata.org/pandas-docs/stable/user_guide/indexing.html#returning-a-view-versus-a-copy\n",
            "  from ipykernel import kernelapp as app\n"
          ],
          "name": "stderr"
        },
        {
          "output_type": "display_data",
          "data": {
            "application/vnd.jupyter.widget-view+json": {
              "model_id": "196926210a924e398feb379403b6bcd3",
              "version_minor": 0,
              "version_major": 2
            },
            "text/plain": [
              "HBox(children=(FloatProgress(value=0.0, max=2146.0), HTML(value='')))"
            ]
          },
          "metadata": {
            "tags": []
          }
        },
        {
          "output_type": "stream",
          "text": [
            "\n"
          ],
          "name": "stdout"
        },
        {
          "output_type": "stream",
          "text": [
            "/usr/local/lib/python3.7/dist-packages/ipykernel_launcher.py:16: SettingWithCopyWarning: \n",
            "A value is trying to be set on a copy of a slice from a DataFrame.\n",
            "Try using .loc[row_indexer,col_indexer] = value instead\n",
            "\n",
            "See the caveats in the documentation: https://pandas.pydata.org/pandas-docs/stable/user_guide/indexing.html#returning-a-view-versus-a-copy\n",
            "  app.launch_new_instance()\n"
          ],
          "name": "stderr"
        },
        {
          "output_type": "display_data",
          "data": {
            "application/vnd.jupyter.widget-view+json": {
              "model_id": "ea9e14aa2351439787327ab1f0f8b3b7",
              "version_minor": 0,
              "version_major": 2
            },
            "text/plain": [
              "HBox(children=(FloatProgress(value=0.0, max=2146.0), HTML(value='')))"
            ]
          },
          "metadata": {
            "tags": []
          }
        },
        {
          "output_type": "stream",
          "text": [
            "\n"
          ],
          "name": "stdout"
        },
        {
          "output_type": "stream",
          "text": [
            "/usr/local/lib/python3.7/dist-packages/ipykernel_launcher.py:17: SettingWithCopyWarning: \n",
            "A value is trying to be set on a copy of a slice from a DataFrame.\n",
            "Try using .loc[row_indexer,col_indexer] = value instead\n",
            "\n",
            "See the caveats in the documentation: https://pandas.pydata.org/pandas-docs/stable/user_guide/indexing.html#returning-a-view-versus-a-copy\n"
          ],
          "name": "stderr"
        },
        {
          "output_type": "display_data",
          "data": {
            "application/vnd.jupyter.widget-view+json": {
              "model_id": "db5da79552614202ba3c9c31ff7c43f1",
              "version_minor": 0,
              "version_major": 2
            },
            "text/plain": [
              "HBox(children=(FloatProgress(value=0.0, max=2146.0), HTML(value='')))"
            ]
          },
          "metadata": {
            "tags": []
          }
        },
        {
          "output_type": "stream",
          "text": [
            "\n"
          ],
          "name": "stdout"
        },
        {
          "output_type": "stream",
          "text": [
            "/usr/local/lib/python3.7/dist-packages/ipykernel_launcher.py:20: SettingWithCopyWarning: \n",
            "A value is trying to be set on a copy of a slice from a DataFrame.\n",
            "Try using .loc[row_indexer,col_indexer] = value instead\n",
            "\n",
            "See the caveats in the documentation: https://pandas.pydata.org/pandas-docs/stable/user_guide/indexing.html#returning-a-view-versus-a-copy\n"
          ],
          "name": "stderr"
        },
        {
          "output_type": "display_data",
          "data": {
            "application/vnd.jupyter.widget-view+json": {
              "model_id": "d16e386ff7ba4ec9a2b80052600e95de",
              "version_minor": 0,
              "version_major": 2
            },
            "text/plain": [
              "HBox(children=(FloatProgress(value=0.0, max=2146.0), HTML(value='')))"
            ]
          },
          "metadata": {
            "tags": []
          }
        },
        {
          "output_type": "stream",
          "text": [
            "\n"
          ],
          "name": "stdout"
        },
        {
          "output_type": "stream",
          "text": [
            "/usr/local/lib/python3.7/dist-packages/ipykernel_launcher.py:21: SettingWithCopyWarning: \n",
            "A value is trying to be set on a copy of a slice from a DataFrame.\n",
            "Try using .loc[row_indexer,col_indexer] = value instead\n",
            "\n",
            "See the caveats in the documentation: https://pandas.pydata.org/pandas-docs/stable/user_guide/indexing.html#returning-a-view-versus-a-copy\n"
          ],
          "name": "stderr"
        },
        {
          "output_type": "display_data",
          "data": {
            "application/vnd.jupyter.widget-view+json": {
              "model_id": "4955301cac7b47b2b55355325e4c24cf",
              "version_minor": 0,
              "version_major": 2
            },
            "text/plain": [
              "HBox(children=(FloatProgress(value=0.0, max=2146.0), HTML(value='')))"
            ]
          },
          "metadata": {
            "tags": []
          }
        },
        {
          "output_type": "stream",
          "text": [
            "\n"
          ],
          "name": "stdout"
        },
        {
          "output_type": "stream",
          "text": [
            "/usr/local/lib/python3.7/dist-packages/ipykernel_launcher.py:22: SettingWithCopyWarning: \n",
            "A value is trying to be set on a copy of a slice from a DataFrame.\n",
            "Try using .loc[row_indexer,col_indexer] = value instead\n",
            "\n",
            "See the caveats in the documentation: https://pandas.pydata.org/pandas-docs/stable/user_guide/indexing.html#returning-a-view-versus-a-copy\n"
          ],
          "name": "stderr"
        },
        {
          "output_type": "display_data",
          "data": {
            "application/vnd.jupyter.widget-view+json": {
              "model_id": "12373aa254f14752b113252f451c94d8",
              "version_minor": 0,
              "version_major": 2
            },
            "text/plain": [
              "HBox(children=(FloatProgress(value=0.0, max=2146.0), HTML(value='')))"
            ]
          },
          "metadata": {
            "tags": []
          }
        },
        {
          "output_type": "stream",
          "text": [
            "\n"
          ],
          "name": "stdout"
        },
        {
          "output_type": "display_data",
          "data": {
            "application/vnd.jupyter.widget-view+json": {
              "model_id": "fb6c9d243aa6475aae6f8a1d1a76e054",
              "version_minor": 0,
              "version_major": 2
            },
            "text/plain": [
              "HBox(children=(FloatProgress(value=0.0, max=2146.0), HTML(value='')))"
            ]
          },
          "metadata": {
            "tags": []
          }
        },
        {
          "output_type": "stream",
          "text": [
            "\n"
          ],
          "name": "stdout"
        },
        {
          "output_type": "display_data",
          "data": {
            "application/vnd.jupyter.widget-view+json": {
              "model_id": "4f67d6074902422e99228520ab74f67f",
              "version_minor": 0,
              "version_major": 2
            },
            "text/plain": [
              "HBox(children=(FloatProgress(value=0.0, max=2146.0), HTML(value='')))"
            ]
          },
          "metadata": {
            "tags": []
          }
        },
        {
          "output_type": "stream",
          "text": [
            "\n"
          ],
          "name": "stdout"
        },
        {
          "output_type": "display_data",
          "data": {
            "application/vnd.jupyter.widget-view+json": {
              "model_id": "bda8b0918d81460aa8ccedeb95ccb38f",
              "version_minor": 0,
              "version_major": 2
            },
            "text/plain": [
              "HBox(children=(FloatProgress(value=0.0, max=2146.0), HTML(value='')))"
            ]
          },
          "metadata": {
            "tags": []
          }
        },
        {
          "output_type": "stream",
          "text": [
            "\n"
          ],
          "name": "stdout"
        },
        {
          "output_type": "display_data",
          "data": {
            "application/vnd.jupyter.widget-view+json": {
              "model_id": "f531c5d1863641c8a65f73030e1d97fb",
              "version_minor": 0,
              "version_major": 2
            },
            "text/plain": [
              "HBox(children=(FloatProgress(value=0.0, max=2146.0), HTML(value='')))"
            ]
          },
          "metadata": {
            "tags": []
          }
        },
        {
          "output_type": "stream",
          "text": [
            "\n"
          ],
          "name": "stdout"
        },
        {
          "output_type": "display_data",
          "data": {
            "application/vnd.jupyter.widget-view+json": {
              "model_id": "59412f8f09e643ad9555a04a59d6f57c",
              "version_minor": 0,
              "version_major": 2
            },
            "text/plain": [
              "HBox(children=(FloatProgress(value=0.0, max=2146.0), HTML(value='')))"
            ]
          },
          "metadata": {
            "tags": []
          }
        },
        {
          "output_type": "stream",
          "text": [
            "\n"
          ],
          "name": "stdout"
        },
        {
          "output_type": "display_data",
          "data": {
            "application/vnd.jupyter.widget-view+json": {
              "model_id": "12fe0b4d98f6439fb1f0759144986a6f",
              "version_minor": 0,
              "version_major": 2
            },
            "text/plain": [
              "HBox(children=(FloatProgress(value=0.0, max=2146.0), HTML(value='')))"
            ]
          },
          "metadata": {
            "tags": []
          }
        },
        {
          "output_type": "stream",
          "text": [
            "\n"
          ],
          "name": "stdout"
        }
      ]
    },
    {
      "cell_type": "code",
      "metadata": {
        "id": "hCf75CC64FKM"
      },
      "source": [
        "df_train.to_csv('Emotion_train_cleaned%80-10-10.csv')"
      ],
      "execution_count": 19,
      "outputs": []
    },
    {
      "cell_type": "code",
      "metadata": {
        "id": "WKaVwQ0qMdC3",
        "colab": {
          "base_uri": "https://localhost:8080/",
          "height": 197
        },
        "outputId": "7e425941-9f69-47fe-b7db-06539a783bae"
      },
      "source": [
        "df_cleaned_train.head()"
      ],
      "execution_count": 20,
      "outputs": [
        {
          "output_type": "execute_result",
          "data": {
            "text/html": [
              "<div>\n",
              "<style scoped>\n",
              "    .dataframe tbody tr th:only-of-type {\n",
              "        vertical-align: middle;\n",
              "    }\n",
              "\n",
              "    .dataframe tbody tr th {\n",
              "        vertical-align: top;\n",
              "    }\n",
              "\n",
              "    .dataframe thead th {\n",
              "        text-align: right;\n",
              "    }\n",
              "</style>\n",
              "<table border=\"1\" class=\"dataframe\">\n",
              "  <thead>\n",
              "    <tr style=\"text-align: right;\">\n",
              "      <th></th>\n",
              "      <th>Text</th>\n",
              "      <th>Emotion</th>\n",
              "      <th>Length</th>\n",
              "    </tr>\n",
              "  </thead>\n",
              "  <tbody>\n",
              "    <tr>\n",
              "      <th>20525</th>\n",
              "      <td>one unnamed area was criticise after it appear...</td>\n",
              "      <td>sadness</td>\n",
              "      <td>105</td>\n",
              "    </tr>\n",
              "    <tr>\n",
              "      <th>6247</th>\n",
              "      <td>i have no idea i was give off this vibe but i ...</td>\n",
              "      <td>anger</td>\n",
              "      <td>121</td>\n",
              "    </tr>\n",
              "    <tr>\n",
              "      <th>5150</th>\n",
              "      <td>i feel defeat loss and confused</td>\n",
              "      <td>sadness</td>\n",
              "      <td>33</td>\n",
              "    </tr>\n",
              "    <tr>\n",
              "      <th>13030</th>\n",
              "      <td>i am feel mad at him as he do not reply get me...</td>\n",
              "      <td>anger</td>\n",
              "      <td>61</td>\n",
              "    </tr>\n",
              "    <tr>\n",
              "      <th>13498</th>\n",
              "      <td>i like to keep them on hand when i m feeling n...</td>\n",
              "      <td>happy</td>\n",
              "      <td>74</td>\n",
              "    </tr>\n",
              "  </tbody>\n",
              "</table>\n",
              "</div>"
            ],
            "text/plain": [
              "                                                    Text  Emotion  Length\n",
              "20525  one unnamed area was criticise after it appear...  sadness     105\n",
              "6247   i have no idea i was give off this vibe but i ...    anger     121\n",
              "5150                     i feel defeat loss and confused  sadness      33\n",
              "13030  i am feel mad at him as he do not reply get me...    anger      61\n",
              "13498  i like to keep them on hand when i m feeling n...    happy      74"
            ]
          },
          "metadata": {
            "tags": []
          },
          "execution_count": 20
        }
      ]
    },
    {
      "cell_type": "markdown",
      "metadata": {
        "id": "JPNNYKJAAUeY"
      },
      "source": [
        "### df Emotion Column to Numbers"
      ]
    },
    {
      "cell_type": "code",
      "metadata": {
        "id": "kCidRdVSMdHY",
        "colab": {
          "base_uri": "https://localhost:8080/",
          "height": 352
        },
        "outputId": "6cdb63ae-b0d3-4441-98b6-0d061aae571a"
      },
      "source": [
        "df_cleaned_train['Emotion']=df_cleaned_train.Emotion.replace({'happy':0,'anger':1,'love':2,'sadness':3,'fear':4,'surprise':5})\n",
        "df_test['Emotion']=df_test.Emotion.replace({'happy':0,'anger':1,'love':2,'sadness':3,'fear':4,'surprise':5})\n",
        "df_val['Emotion']=df_val.Emotion.replace({'happy':0,'anger':1,'love':2,'sadness':3,'fear':4,'surprise':5})"
      ],
      "execution_count": 57,
      "outputs": [
        {
          "output_type": "error",
          "ename": "TypeError",
          "evalue": "ignored",
          "traceback": [
            "\u001b[0;31m---------------------------------------------------------------------------\u001b[0m",
            "\u001b[0;31mTypeError\u001b[0m                                 Traceback (most recent call last)",
            "\u001b[0;32m<ipython-input-57-d8eaabc4a8a9>\u001b[0m in \u001b[0;36m<module>\u001b[0;34m()\u001b[0m\n\u001b[0;32m----> 1\u001b[0;31m \u001b[0mdf_cleaned_train\u001b[0m\u001b[0;34m[\u001b[0m\u001b[0;34m'Emotion'\u001b[0m\u001b[0;34m]\u001b[0m\u001b[0;34m=\u001b[0m\u001b[0mdf_cleaned_train\u001b[0m\u001b[0;34m.\u001b[0m\u001b[0mEmotion\u001b[0m\u001b[0;34m.\u001b[0m\u001b[0mreplace\u001b[0m\u001b[0;34m(\u001b[0m\u001b[0;34m{\u001b[0m\u001b[0;34m'happy'\u001b[0m\u001b[0;34m:\u001b[0m\u001b[0;36m0\u001b[0m\u001b[0;34m,\u001b[0m\u001b[0;34m'anger'\u001b[0m\u001b[0;34m:\u001b[0m\u001b[0;36m1\u001b[0m\u001b[0;34m,\u001b[0m\u001b[0;34m'love'\u001b[0m\u001b[0;34m:\u001b[0m\u001b[0;36m2\u001b[0m\u001b[0;34m,\u001b[0m\u001b[0;34m'sadness'\u001b[0m\u001b[0;34m:\u001b[0m\u001b[0;36m3\u001b[0m\u001b[0;34m,\u001b[0m\u001b[0;34m'fear'\u001b[0m\u001b[0;34m:\u001b[0m\u001b[0;36m4\u001b[0m\u001b[0;34m,\u001b[0m\u001b[0;34m'surprise'\u001b[0m\u001b[0;34m:\u001b[0m\u001b[0;36m5\u001b[0m\u001b[0;34m}\u001b[0m\u001b[0;34m)\u001b[0m\u001b[0;34m\u001b[0m\u001b[0;34m\u001b[0m\u001b[0m\n\u001b[0m\u001b[1;32m      2\u001b[0m \u001b[0mdf_test\u001b[0m\u001b[0;34m[\u001b[0m\u001b[0;34m'Emotion'\u001b[0m\u001b[0;34m]\u001b[0m\u001b[0;34m=\u001b[0m\u001b[0mdf_test\u001b[0m\u001b[0;34m.\u001b[0m\u001b[0mEmotion\u001b[0m\u001b[0;34m.\u001b[0m\u001b[0mreplace\u001b[0m\u001b[0;34m(\u001b[0m\u001b[0;34m{\u001b[0m\u001b[0;34m'happy'\u001b[0m\u001b[0;34m:\u001b[0m\u001b[0;36m0\u001b[0m\u001b[0;34m,\u001b[0m\u001b[0;34m'anger'\u001b[0m\u001b[0;34m:\u001b[0m\u001b[0;36m1\u001b[0m\u001b[0;34m,\u001b[0m\u001b[0;34m'love'\u001b[0m\u001b[0;34m:\u001b[0m\u001b[0;36m2\u001b[0m\u001b[0;34m,\u001b[0m\u001b[0;34m'sadness'\u001b[0m\u001b[0;34m:\u001b[0m\u001b[0;36m3\u001b[0m\u001b[0;34m,\u001b[0m\u001b[0;34m'fear'\u001b[0m\u001b[0;34m:\u001b[0m\u001b[0;36m4\u001b[0m\u001b[0;34m,\u001b[0m\u001b[0;34m'surprise'\u001b[0m\u001b[0;34m:\u001b[0m\u001b[0;36m5\u001b[0m\u001b[0;34m}\u001b[0m\u001b[0;34m)\u001b[0m\u001b[0;34m\u001b[0m\u001b[0;34m\u001b[0m\u001b[0m\n\u001b[1;32m      3\u001b[0m \u001b[0mdf_val\u001b[0m\u001b[0;34m[\u001b[0m\u001b[0;34m'Emotion'\u001b[0m\u001b[0;34m]\u001b[0m\u001b[0;34m=\u001b[0m\u001b[0mdf_val\u001b[0m\u001b[0;34m.\u001b[0m\u001b[0mEmotion\u001b[0m\u001b[0;34m.\u001b[0m\u001b[0mreplace\u001b[0m\u001b[0;34m(\u001b[0m\u001b[0;34m{\u001b[0m\u001b[0;34m'happy'\u001b[0m\u001b[0;34m:\u001b[0m\u001b[0;36m0\u001b[0m\u001b[0;34m,\u001b[0m\u001b[0;34m'anger'\u001b[0m\u001b[0;34m:\u001b[0m\u001b[0;36m1\u001b[0m\u001b[0;34m,\u001b[0m\u001b[0;34m'love'\u001b[0m\u001b[0;34m:\u001b[0m\u001b[0;36m2\u001b[0m\u001b[0;34m,\u001b[0m\u001b[0;34m'sadness'\u001b[0m\u001b[0;34m:\u001b[0m\u001b[0;36m3\u001b[0m\u001b[0;34m,\u001b[0m\u001b[0;34m'fear'\u001b[0m\u001b[0;34m:\u001b[0m\u001b[0;36m4\u001b[0m\u001b[0;34m,\u001b[0m\u001b[0;34m'surprise'\u001b[0m\u001b[0;34m:\u001b[0m\u001b[0;36m5\u001b[0m\u001b[0;34m}\u001b[0m\u001b[0;34m)\u001b[0m\u001b[0;34m\u001b[0m\u001b[0;34m\u001b[0m\u001b[0m\n",
            "\u001b[0;32m/usr/local/lib/python3.7/dist-packages/pandas/core/series.py\u001b[0m in \u001b[0;36mreplace\u001b[0;34m(self, to_replace, value, inplace, limit, regex, method)\u001b[0m\n\u001b[1;32m   4580\u001b[0m             \u001b[0mlimit\u001b[0m\u001b[0;34m=\u001b[0m\u001b[0mlimit\u001b[0m\u001b[0;34m,\u001b[0m\u001b[0;34m\u001b[0m\u001b[0;34m\u001b[0m\u001b[0m\n\u001b[1;32m   4581\u001b[0m             \u001b[0mregex\u001b[0m\u001b[0;34m=\u001b[0m\u001b[0mregex\u001b[0m\u001b[0;34m,\u001b[0m\u001b[0;34m\u001b[0m\u001b[0;34m\u001b[0m\u001b[0m\n\u001b[0;32m-> 4582\u001b[0;31m             \u001b[0mmethod\u001b[0m\u001b[0;34m=\u001b[0m\u001b[0mmethod\u001b[0m\u001b[0;34m,\u001b[0m\u001b[0;34m\u001b[0m\u001b[0;34m\u001b[0m\u001b[0m\n\u001b[0m\u001b[1;32m   4583\u001b[0m         )\n\u001b[1;32m   4584\u001b[0m \u001b[0;34m\u001b[0m\u001b[0m\n",
            "\u001b[0;32m/usr/local/lib/python3.7/dist-packages/pandas/core/generic.py\u001b[0m in \u001b[0;36mreplace\u001b[0;34m(self, to_replace, value, inplace, limit, regex, method)\u001b[0m\n\u001b[1;32m   6505\u001b[0m \u001b[0;34m\u001b[0m\u001b[0m\n\u001b[1;32m   6506\u001b[0m             return self.replace(\n\u001b[0;32m-> 6507\u001b[0;31m                 \u001b[0mto_replace\u001b[0m\u001b[0;34m,\u001b[0m \u001b[0mvalue\u001b[0m\u001b[0;34m,\u001b[0m \u001b[0minplace\u001b[0m\u001b[0;34m=\u001b[0m\u001b[0minplace\u001b[0m\u001b[0;34m,\u001b[0m \u001b[0mlimit\u001b[0m\u001b[0;34m=\u001b[0m\u001b[0mlimit\u001b[0m\u001b[0;34m,\u001b[0m \u001b[0mregex\u001b[0m\u001b[0;34m=\u001b[0m\u001b[0mregex\u001b[0m\u001b[0;34m\u001b[0m\u001b[0;34m\u001b[0m\u001b[0m\n\u001b[0m\u001b[1;32m   6508\u001b[0m             )\n\u001b[1;32m   6509\u001b[0m         \u001b[0;32melse\u001b[0m\u001b[0;34m:\u001b[0m\u001b[0;34m\u001b[0m\u001b[0;34m\u001b[0m\u001b[0m\n",
            "\u001b[0;32m/usr/local/lib/python3.7/dist-packages/pandas/core/series.py\u001b[0m in \u001b[0;36mreplace\u001b[0;34m(self, to_replace, value, inplace, limit, regex, method)\u001b[0m\n\u001b[1;32m   4580\u001b[0m             \u001b[0mlimit\u001b[0m\u001b[0;34m=\u001b[0m\u001b[0mlimit\u001b[0m\u001b[0;34m,\u001b[0m\u001b[0;34m\u001b[0m\u001b[0;34m\u001b[0m\u001b[0m\n\u001b[1;32m   4581\u001b[0m             \u001b[0mregex\u001b[0m\u001b[0;34m=\u001b[0m\u001b[0mregex\u001b[0m\u001b[0;34m,\u001b[0m\u001b[0;34m\u001b[0m\u001b[0;34m\u001b[0m\u001b[0m\n\u001b[0;32m-> 4582\u001b[0;31m             \u001b[0mmethod\u001b[0m\u001b[0;34m=\u001b[0m\u001b[0mmethod\u001b[0m\u001b[0;34m,\u001b[0m\u001b[0;34m\u001b[0m\u001b[0;34m\u001b[0m\u001b[0m\n\u001b[0m\u001b[1;32m   4583\u001b[0m         )\n\u001b[1;32m   4584\u001b[0m \u001b[0;34m\u001b[0m\u001b[0m\n",
            "\u001b[0;32m/usr/local/lib/python3.7/dist-packages/pandas/core/generic.py\u001b[0m in \u001b[0;36mreplace\u001b[0;34m(self, to_replace, value, inplace, limit, regex, method)\u001b[0m\n\u001b[1;32m   6551\u001b[0m                         \u001b[0mdest_list\u001b[0m\u001b[0;34m=\u001b[0m\u001b[0mvalue\u001b[0m\u001b[0;34m,\u001b[0m\u001b[0;34m\u001b[0m\u001b[0;34m\u001b[0m\u001b[0m\n\u001b[1;32m   6552\u001b[0m                         \u001b[0minplace\u001b[0m\u001b[0;34m=\u001b[0m\u001b[0minplace\u001b[0m\u001b[0;34m,\u001b[0m\u001b[0;34m\u001b[0m\u001b[0;34m\u001b[0m\u001b[0m\n\u001b[0;32m-> 6553\u001b[0;31m                         \u001b[0mregex\u001b[0m\u001b[0;34m=\u001b[0m\u001b[0mregex\u001b[0m\u001b[0;34m,\u001b[0m\u001b[0;34m\u001b[0m\u001b[0;34m\u001b[0m\u001b[0m\n\u001b[0m\u001b[1;32m   6554\u001b[0m                     )\n\u001b[1;32m   6555\u001b[0m \u001b[0;34m\u001b[0m\u001b[0m\n",
            "\u001b[0;32m/usr/local/lib/python3.7/dist-packages/pandas/core/internals/managers.py\u001b[0m in \u001b[0;36mreplace_list\u001b[0;34m(self, src_list, dest_list, inplace, regex)\u001b[0m\n\u001b[1;32m    649\u001b[0m         \u001b[0mmask\u001b[0m \u001b[0;34m=\u001b[0m \u001b[0;34m~\u001b[0m\u001b[0misna\u001b[0m\u001b[0;34m(\u001b[0m\u001b[0mvalues\u001b[0m\u001b[0;34m)\u001b[0m\u001b[0;34m\u001b[0m\u001b[0;34m\u001b[0m\u001b[0m\n\u001b[1;32m    650\u001b[0m \u001b[0;34m\u001b[0m\u001b[0m\n\u001b[0;32m--> 651\u001b[0;31m         \u001b[0mmasks\u001b[0m \u001b[0;34m=\u001b[0m \u001b[0;34m[\u001b[0m\u001b[0mcomp\u001b[0m\u001b[0;34m(\u001b[0m\u001b[0ms\u001b[0m\u001b[0;34m,\u001b[0m \u001b[0mmask\u001b[0m\u001b[0;34m,\u001b[0m \u001b[0mregex\u001b[0m\u001b[0;34m)\u001b[0m \u001b[0;32mfor\u001b[0m \u001b[0ms\u001b[0m \u001b[0;32min\u001b[0m \u001b[0msrc_list\u001b[0m\u001b[0;34m]\u001b[0m\u001b[0;34m\u001b[0m\u001b[0;34m\u001b[0m\u001b[0m\n\u001b[0m\u001b[1;32m    652\u001b[0m \u001b[0;34m\u001b[0m\u001b[0m\n\u001b[1;32m    653\u001b[0m         \u001b[0mresult_blocks\u001b[0m \u001b[0;34m=\u001b[0m \u001b[0;34m[\u001b[0m\u001b[0;34m]\u001b[0m\u001b[0;34m\u001b[0m\u001b[0;34m\u001b[0m\u001b[0m\n",
            "\u001b[0;32m/usr/local/lib/python3.7/dist-packages/pandas/core/internals/managers.py\u001b[0m in \u001b[0;36m<listcomp>\u001b[0;34m(.0)\u001b[0m\n\u001b[1;32m    649\u001b[0m         \u001b[0mmask\u001b[0m \u001b[0;34m=\u001b[0m \u001b[0;34m~\u001b[0m\u001b[0misna\u001b[0m\u001b[0;34m(\u001b[0m\u001b[0mvalues\u001b[0m\u001b[0;34m)\u001b[0m\u001b[0;34m\u001b[0m\u001b[0;34m\u001b[0m\u001b[0m\n\u001b[1;32m    650\u001b[0m \u001b[0;34m\u001b[0m\u001b[0m\n\u001b[0;32m--> 651\u001b[0;31m         \u001b[0mmasks\u001b[0m \u001b[0;34m=\u001b[0m \u001b[0;34m[\u001b[0m\u001b[0mcomp\u001b[0m\u001b[0;34m(\u001b[0m\u001b[0ms\u001b[0m\u001b[0;34m,\u001b[0m \u001b[0mmask\u001b[0m\u001b[0;34m,\u001b[0m \u001b[0mregex\u001b[0m\u001b[0;34m)\u001b[0m \u001b[0;32mfor\u001b[0m \u001b[0ms\u001b[0m \u001b[0;32min\u001b[0m \u001b[0msrc_list\u001b[0m\u001b[0;34m]\u001b[0m\u001b[0;34m\u001b[0m\u001b[0;34m\u001b[0m\u001b[0m\n\u001b[0m\u001b[1;32m    652\u001b[0m \u001b[0;34m\u001b[0m\u001b[0m\n\u001b[1;32m    653\u001b[0m         \u001b[0mresult_blocks\u001b[0m \u001b[0;34m=\u001b[0m \u001b[0;34m[\u001b[0m\u001b[0;34m]\u001b[0m\u001b[0;34m\u001b[0m\u001b[0;34m\u001b[0m\u001b[0m\n",
            "\u001b[0;32m/usr/local/lib/python3.7/dist-packages/pandas/core/internals/managers.py\u001b[0m in \u001b[0;36mcomp\u001b[0;34m(s, mask, regex)\u001b[0m\n\u001b[1;32m    643\u001b[0m \u001b[0;34m\u001b[0m\u001b[0m\n\u001b[1;32m    644\u001b[0m             \u001b[0ms\u001b[0m \u001b[0;34m=\u001b[0m \u001b[0mcom\u001b[0m\u001b[0;34m.\u001b[0m\u001b[0mmaybe_box_datetimelike\u001b[0m\u001b[0;34m(\u001b[0m\u001b[0ms\u001b[0m\u001b[0;34m)\u001b[0m\u001b[0;34m\u001b[0m\u001b[0;34m\u001b[0m\u001b[0m\n\u001b[0;32m--> 645\u001b[0;31m             \u001b[0;32mreturn\u001b[0m \u001b[0m_compare_or_regex_search\u001b[0m\u001b[0;34m(\u001b[0m\u001b[0mvalues\u001b[0m\u001b[0;34m,\u001b[0m \u001b[0ms\u001b[0m\u001b[0;34m,\u001b[0m \u001b[0mregex\u001b[0m\u001b[0;34m,\u001b[0m \u001b[0mmask\u001b[0m\u001b[0;34m)\u001b[0m\u001b[0;34m\u001b[0m\u001b[0;34m\u001b[0m\u001b[0m\n\u001b[0m\u001b[1;32m    646\u001b[0m \u001b[0;34m\u001b[0m\u001b[0m\n\u001b[1;32m    647\u001b[0m         \u001b[0;31m# Calculate the mask once, prior to the call of comp\u001b[0m\u001b[0;34m\u001b[0m\u001b[0;34m\u001b[0m\u001b[0;34m\u001b[0m\u001b[0m\n",
            "\u001b[0;32m/usr/local/lib/python3.7/dist-packages/pandas/core/internals/managers.py\u001b[0m in \u001b[0;36m_compare_or_regex_search\u001b[0;34m(a, b, regex, mask)\u001b[0m\n\u001b[1;32m   1999\u001b[0m     \u001b[0;32mif\u001b[0m \u001b[0mis_datetimelike_v_numeric\u001b[0m\u001b[0;34m(\u001b[0m\u001b[0ma\u001b[0m\u001b[0;34m,\u001b[0m \u001b[0mb\u001b[0m\u001b[0;34m)\u001b[0m \u001b[0;32mor\u001b[0m \u001b[0mis_numeric_v_string_like\u001b[0m\u001b[0;34m(\u001b[0m\u001b[0ma\u001b[0m\u001b[0;34m,\u001b[0m \u001b[0mb\u001b[0m\u001b[0;34m)\u001b[0m\u001b[0;34m:\u001b[0m\u001b[0;34m\u001b[0m\u001b[0;34m\u001b[0m\u001b[0m\n\u001b[1;32m   2000\u001b[0m         \u001b[0;31m# GH#29553 avoid deprecation warnings from numpy\u001b[0m\u001b[0;34m\u001b[0m\u001b[0;34m\u001b[0m\u001b[0;34m\u001b[0m\u001b[0m\n\u001b[0;32m-> 2001\u001b[0;31m         \u001b[0m_check_comparison_types\u001b[0m\u001b[0;34m(\u001b[0m\u001b[0;32mFalse\u001b[0m\u001b[0;34m,\u001b[0m \u001b[0ma\u001b[0m\u001b[0;34m,\u001b[0m \u001b[0mb\u001b[0m\u001b[0;34m)\u001b[0m\u001b[0;34m\u001b[0m\u001b[0;34m\u001b[0m\u001b[0m\n\u001b[0m\u001b[1;32m   2002\u001b[0m         \u001b[0;32mreturn\u001b[0m \u001b[0;32mFalse\u001b[0m\u001b[0;34m\u001b[0m\u001b[0;34m\u001b[0m\u001b[0m\n\u001b[1;32m   2003\u001b[0m \u001b[0;34m\u001b[0m\u001b[0m\n",
            "\u001b[0;32m/usr/local/lib/python3.7/dist-packages/pandas/core/internals/managers.py\u001b[0m in \u001b[0;36m_check_comparison_types\u001b[0;34m(result, a, b)\u001b[0m\n\u001b[1;32m   1979\u001b[0m \u001b[0;34m\u001b[0m\u001b[0m\n\u001b[1;32m   1980\u001b[0m             raise TypeError(\n\u001b[0;32m-> 1981\u001b[0;31m                 \u001b[0;34mf\"Cannot compare types {repr(type_names[0])} and {repr(type_names[1])}\"\u001b[0m\u001b[0;34m\u001b[0m\u001b[0;34m\u001b[0m\u001b[0m\n\u001b[0m\u001b[1;32m   1982\u001b[0m             )\n\u001b[1;32m   1983\u001b[0m \u001b[0;34m\u001b[0m\u001b[0m\n",
            "\u001b[0;31mTypeError\u001b[0m: Cannot compare types 'ndarray(dtype=int64)' and 'str'"
          ]
        }
      ]
    },
    {
      "cell_type": "markdown",
      "metadata": {
        "id": "CBLmfGDVANUA"
      },
      "source": [
        "### Tokenizing to have Word Vectors"
      ]
    },
    {
      "cell_type": "code",
      "metadata": {
        "id": "alT4yUapMdMe",
        "colab": {
          "base_uri": "https://localhost:8080/"
        },
        "outputId": "3ad63028-921d-4463-bc17-f33316d88feb"
      },
      "source": [
        "from keras.preprocessing.text import Tokenizer\n",
        "\n",
        "num_words = 10000 # this means 15000 unique words can be taken \n",
        "tokenizer=Tokenizer(num_words,lower=True)\n",
        "df_total = pd.concat([df_cleaned_train['Text'], df_test.Text], axis = 0)\n",
        "tokenizer.fit_on_texts(df_total)\n",
        "\n",
        "len(tokenizer.word_index) # this is whole unique words in our corpus\n",
        "# but we are taking only 10000 words in our model\n",
        "\n",
        "from keras.preprocessing.sequence import pad_sequences\n",
        "\n",
        "X_train=tokenizer.texts_to_sequences(df_cleaned_train['Text'])\n",
        "X_train_pad=pad_sequences(X_train,maxlen=300,padding='post')\n",
        "X_test = tokenizer.texts_to_sequences(df_test.Text)\n",
        "X_test_pad = pad_sequences(X_test, maxlen = 300, padding = 'post')\n",
        "X_val = tokenizer.texts_to_sequences(df_val.Text)\n",
        "X_val_pad = pad_sequences(X_val, maxlen = 300, padding = 'post')\n",
        "\n",
        "print(X_train_pad.shape, X_val_pad.shape)"
      ],
      "execution_count": 50,
      "outputs": [
        {
          "output_type": "stream",
          "text": [
            "(17167, 300) (2146, 300)\n"
          ],
          "name": "stdout"
        }
      ]
    },
    {
      "cell_type": "code",
      "metadata": {
        "id": "ZK-5KlGf5acg"
      },
      "source": [
        "from tensorflow.keras.utils import to_categorical\n",
        "y_train = to_categorical(df_cleaned_train.Emotion.values)\n",
        "y_test = to_categorical(df_test.Emotion.values)\n",
        "y_val = to_categorical(df_val.Emotion.values)"
      ],
      "execution_count": 51,
      "outputs": []
    },
    {
      "cell_type": "markdown",
      "metadata": {
        "id": "gYttFzYh_8Oo"
      },
      "source": [
        "##### Importing Gensim Words\n",
        "\n"
      ]
    },
    {
      "cell_type": "code",
      "metadata": {
        "id": "dDzmN5mVM3DE",
        "colab": {
          "base_uri": "https://localhost:8080/"
        },
        "outputId": "c2a20741-587a-4ba9-ba6f-98d3cb95c0b4"
      },
      "source": [
        "import gensim.downloader as api\n",
        "glove_gensim  = api.load('glove-wiki-gigaword-100') #100 dimension"
      ],
      "execution_count": 24,
      "outputs": [
        {
          "output_type": "stream",
          "text": [
            "[==================================================] 100.0% 128.1/128.1MB downloaded\n"
          ],
          "name": "stdout"
        }
      ]
    },
    {
      "cell_type": "markdown",
      "metadata": {
        "id": "381698md_tqf"
      },
      "source": [
        "### Creating a word2Vec weight matrix"
      ]
    },
    {
      "cell_type": "code",
      "metadata": {
        "colab": {
          "base_uri": "https://localhost:8080/",
          "height": 34
        },
        "id": "m1XCBcB472ad",
        "outputId": "cf116636-7efd-4e3d-86f4-baa2d33cd84a"
      },
      "source": [
        "vector_size = 100\n",
        "gensim_weight_matrix = np.zeros((num_words ,vector_size))\n",
        "\n",
        "display(gensim_weight_matrix.shape)\n",
        "# pd.DataFrame(gensim_weight_matrix).head()"
      ],
      "execution_count": 52,
      "outputs": [
        {
          "output_type": "display_data",
          "data": {
            "text/plain": [
              "(10000, 100)"
            ]
          },
          "metadata": {
            "tags": []
          }
        }
      ]
    },
    {
      "cell_type": "code",
      "metadata": {
        "colab": {
          "base_uri": "https://localhost:8080/",
          "height": 54
        },
        "id": "sMibUBmf71NK",
        "outputId": "dc2dd2da-cdfa-4bbb-a2cc-cff57a858416"
      },
      "source": [
        "# display(tokenizer)\n",
        "# display(tokenizer.word_index)\n",
        "display(tokenizer.word_index.items())"
      ],
      "execution_count": 53,
      "outputs": [
        {
          "output_type": "display_data",
          "data": {
            "text/plain": [
              "dict_items([('i', 1), ('feel', 2), ('and', 3), ('the', 4), ('to', 5), ('a', 6), ('that', 7), ('of', 8), ('my', 9), ('have', 10), ('in', 11), ('not', 12), ('it', 13), ('like', 14), ('is', 15), ('m', 16), ('do', 17), ('was', 18), ('so', 19), ('for', 20), ('but', 21), ('me', 22), ('with', 23), ('this', 24), ('am', 25), ('about', 26), ('be', 27), ('on', 28), ('you', 29), ('as', 30), ('at', 31), ('feeling', 32), ('just', 33), ('when', 34), ('can', 35), ('get', 36), ('or', 37), ('make', 38), ('all', 39), ('because', 40), ('more', 41), ('go', 42), ('know', 43), ('he', 44), ('time', 45), ('up', 46), ('s', 47), ('really', 48), ('t', 49), ('by', 50), ('are', 51), ('very', 52), ('been', 53), ('will', 54), ('out', 55), ('think', 56), ('would', 57), ('if', 58), ('her', 59), ('want', 60), ('what', 61), ('they', 62), ('myself', 63), ('from', 64), ('how', 65), ('little', 66), ('now', 67), ('people', 68), ('say', 69), ('being', 70), ('day', 71), ('one', 72), ('she', 73), ('thing', 74), ('love', 75), ('them', 76), ('him', 77), ('some', 78), ('who', 79), ('there', 80), ('his', 81), ('an', 82), ('life', 83), ('still', 84), ('even', 85), ('could', 86), ('we', 87), ('its', 88), ('see', 89), ('way', 90), ('much', 91), ('something', 92), ('need', 93), ('bit', 94), ('look', 95), ('other', 96), ('good', 97), ('come', 98), ('than', 99), ('no', 100), ('work', 101), ('start', 102), ('back', 103), ('take', 104), ('too', 105), ('try', 106), ('their', 107), ('into', 108), ('don', 109), ('well', 110), ('which', 111), ('pretty', 112), ('were', 113), ('find', 114), ('leave', 115), ('over', 116), ('then', 117), ('always', 118), ('only', 119), ('your', 120), ('right', 121), ('these', 122), ('should', 123), ('also', 124), ('tell', 125), ('today', 126), ('give', 127), ('year', 128), ('after', 129), ('help', 130), ('friend', 131), ('around', 132), ('again', 133), ('most', 134), ('our', 135), ('though', 136), ('may', 137), ('write', 138), ('here', 139), ('happy', 140), ('down', 141), ('those', 142), ('where', 143), ('any', 144), ('through', 145), ('never', 146), ('someone', 147), ('quite', 148), ('lot', 149), ('week', 150), ('every', 151), ('less', 152), ('keep', 153), ('before', 154), ('use', 155), ('hate', 156), ('enough', 157), ('many', 158), ('sure', 159), ('read', 160), ('off', 161), ('last', 162), ('away', 163), ('own', 164), ('kind', 165), ('home', 166), ('anything', 167), ('talk', 168), ('why', 169), ('bad', 170), ('new', 171), ('person', 172), ('without', 173), ('such', 174), ('everything', 175), ('ever', 176), ('remember', 177), ('let', 178), ('world', 179), ('while', 180), ('sometimes', 181), ('seem', 182), ('first', 183), ('few', 184), ('re', 185), ('become', 186), ('long', 187), ('face', 188), ('end', 189), ('care', 190), ('http', 191), ('family', 192), ('hope', 193), ('put', 194), ('actually', 195), ('miss', 196), ('moment', 197), ('post', 198), ('sit', 199), ('lose', 200), ('ask', 201), ('rather', 202), ('child', 203), ('happen', 204), ('able', 205), ('man', 206), ('run', 207), ('live', 208), ('two', 209), ('href', 210), ('stop', 211), ('heart', 212), ('walk', 213), ('old', 214), ('place', 215), ('since', 216), ('part', 217), ('mean', 218), ('sad', 219), ('already', 220), ('book', 221), ('night', 222), ('call', 223), ('alone', 224), ('same', 225), ('nothing', 226), ('girl', 227), ('spend', 228), ('support', 229), ('us', 230), ('wake', 231), ('often', 232), ('morning', 233), ('point', 234), ('blog', 235), ('woman', 236), ('god', 237), ('watch', 238), ('yet', 239), ('sleep', 240), ('ill', 241), ('hurt', 242), ('hear', 243), ('pain', 244), ('hard', 245), ('great', 246), ('angry', 247), ('begin', 248), ('word', 249), ('share', 250), ('school', 251), ('another', 252), ('strange', 253), ('excited', 254), ('whole', 255), ('eat', 256), ('sweet', 257), ('guess', 258), ('everyone', 259), ('accept', 260), ('learn', 261), ('experience', 262), ('didn', 263), ('turn', 264), ('body', 265), ('month', 266), ('once', 267), ('show', 268), ('eye', 269), ('anyone', 270), ('reason', 271), ('head', 272), ('understand', 273), ('must', 274), ('almost', 275), ('enjoy', 276), ('weird', 277), ('change', 278), ('each', 279), ('thought', 280), ('hour', 281), ('anxious', 282), ('believe', 283), ('fact', 284), ('move', 285), ('amazing', 286), ('hand', 287), ('completely', 288), ('next', 289), ('kid', 290), ('overwhelmed', 291), ('else', 292), ('especially', 293), ('ve', 294), ('stress', 295), ('helpless', 296), ('stupid', 297), ('past', 298), ('cold', 299), ('passionate', 300), ('free', 301), ('sense', 302), ('wish', 303), ('wrong', 304), ('self', 305), ('important', 306), ('maybe', 307), ('mind', 308), ('least', 309), ('guy', 310), ('strong', 311), ('until', 312), ('break', 313), ('realize', 314), ('afraid', 315), ('class', 316), ('towards', 317), ('tired', 318), ('decide', 319), ('real', 320), ('cause', 321), ('wait', 322), ('depressed', 323), ('wear', 324), ('lately', 325), ('wonder', 326), ('inside', 327), ('job', 328), ('close', 329), ('story', 330), ('meet', 331), ('idea', 332), ('sort', 333), ('nervous', 334), ('house', 335), ('far', 336), ('mother', 337), ('big', 338), ('sorry', 339), ('admit', 340), ('trust', 341), ('cry', 342), ('slightly', 343), ('stay', 344), ('miserable', 345), ('generous', 346), ('bring', 347), ('wonderful', 348), ('low', 349), ('during', 350), ('situation', 351), ('totally', 352), ('ok', 353), ('thankful', 354), ('listen', 355), ('probably', 356), ('guilty', 357), ('extremely', 358), ('lonely', 359), ('special', 360), ('glad', 361), ('particularly', 362), ('amp', 363), ('parent', 364), ('smile', 365), ('fine', 366), ('play', 367), ('matter', 368), ('baby', 369), ('fuck', 370), ('continue', 371), ('suppose', 372), ('stand', 373), ('room', 374), ('hold', 375), ('stuff', 376), ('side', 377), ('young', 378), ('future', 379), ('finally', 380), ('positive', 381), ('comfortable', 382), ('buy', 383), ('beat', 384), ('both', 385), ('question', 386), ('perfect', 387), ('hot', 388), ('emotional', 389), ('relationship', 390), ('proud', 391), ('content', 392), ('cool', 393), ('safe', 394), ('ache', 395), ('rest', 396), ('mad', 397), ('value', 398), ('together', 399), ('song', 400), ('allow', 401), ('confident', 402), ('truly', 403), ('open', 404), ('shake', 405), ('blessed', 406), ('control', 407), ('beloved', 408), ('plan', 409), ('better', 410), ('anymore', 411), ('bed', 412), ('calm', 413), ('usually', 414), ('boy', 415), ('problem', 416), ('funny', 417), ('full', 418), ('ashamed', 419), ('deal', 420), ('instead', 421), ('finish', 422), ('fall', 423), ('terrible', 424), ('burden', 425), ('somewhat', 426), ('resentful', 427), ('grow', 428), ('amazed', 429), ('food', 430), ('between', 431), ('frustrated', 432), ('brave', 433), ('bother', 434), ('shitty', 435), ('scared', 436), ('agitated', 437), ('small', 438), ('d', 439), ('unhappy', 440), ('dream', 441), ('fear', 442), ('emotion', 443), ('lie', 444), ('laugh', 445), ('horrible', 446), ('lovely', 447), ('energy', 448), ('high', 449), ('irritable', 450), ('embarrassed', 451), ('husband', 452), ('popular', 453), ('super', 454), ('creative', 455), ('add', 456), ('awkward', 457), ('expect', 458), ('punish', 459), ('lucky', 460), ('ago', 461), ('minute', 462), ('cute', 463), ('inspire', 464), ('against', 465), ('pass', 466), ('speak', 467), ('deep', 468), ('useless', 469), ('mom', 470), ('win', 471), ('weekend', 472), ('selfish', 473), ('somehow', 474), ('absolutely', 475), ('respect', 476), ('successful', 477), ('unsure', 478), ('pleased', 479), ('touch', 480), ('either', 481), ('soon', 482), ('comment', 483), ('useful', 484), ('light', 485), ('dull', 486), ('ignore', 487), ('whether', 488), ('fun', 489), ('second', 490), ('jealous', 491), ('state', 492), ('picture', 493), ('satisfied', 494), ('ugly', 495), ('money', 496), ('frightened', 497), ('heartbroken', 498), ('awful', 499), ('couple', 500), ('course', 501), ('uncomfortable', 502), ('lethargic', 503), ('vain', 504), ('reject', 505), ('hopeful', 506), ('pleasant', 507), ('empty', 508), ('front', 509), ('issue', 510), ('struggle', 511), ('however', 512), ('character', 513), ('anger', 514), ('kinda', 515), ('hair', 516), ('energetic', 517), ('curious', 518), ('hopeless', 519), ('set', 520), ('different', 521), ('game', 522), ('greedy', 523), ('act', 524), ('suddenly', 525), ('uncertain', 526), ('gorgeous', 527), ('longer', 528), ('nice', 529), ('melancholy', 530), ('forget', 531), ('music', 532), ('sympathetic', 533), ('rude', 534), ('voice', 535), ('result', 536), ('cranky', 537), ('die', 538), ('three', 539), ('yesterday', 540), ('apprehensive', 541), ('shy', 542), ('faithful', 543), ('precious', 544), ('create', 545), ('insecure', 546), ('irritated', 547), ('follow', 548), ('step', 549), ('certain', 550), ('tonight', 551), ('bitter', 552), ('unwelcome', 553), ('talented', 554), ('smart', 555), ('list', 556), ('blank', 557), ('movie', 558), ('valuable', 559), ('relaxed', 560), ('homesick', 561), ('tear', 562), ('ready', 563), ('rich', 564), ('offend', 565), ('under', 566), ('vulnerable', 567), ('choose', 568), ('defeat', 569), ('joyful', 570), ('groggy', 571), ('andt', 572), ('crappy', 573), ('type', 574), ('peaceful', 575), ('sound', 576), ('stressed', 577), ('rush', 578), ('exhausted', 579), ('sincere', 580), ('violent', 581), ('honestly', 582), ('surprised', 583), ('worthless', 584), ('productive', 585), ('human', 586), ('joy', 587), ('definitely', 588), ('simply', 589), ('paranoid', 590), ('pathetic', 591), ('dumb', 592), ('unimportant', 593), ('half', 594), ('dirty', 595), ('behind', 596), ('suffer', 597), ('piece', 598), ('decision', 599), ('outside', 600), ('country', 601), ('student', 602), ('optimistic', 603), ('numb', 604), ('incredibly', 605), ('terrified', 606), ('desire', 607), ('notice', 608), ('beautiful', 609), ('sick', 610), ('hesitant', 611), ('innocent', 612), ('pull', 613), ('bitchy', 614), ('easy', 615), ('confused', 616), ('romantic', 617), ('friendly', 618), ('lack', 619), ('gloomy', 620), ('consider', 621), ('drain', 622), ('mine', 623), ('party', 624), ('fake', 625), ('drive', 626), ('disappointed', 627), ('pressure', 628), ('tender', 629), ('gentle', 630), ('www', 631), ('oh', 632), ('reluctant', 633), ('mood', 634), ('worthwhile', 635), ('thank', 636), ('eager', 637), ('whatever', 638), ('dangerous', 639), ('worry', 640), ('naughty', 641), ('group', 642), ('divine', 643), ('bless', 644), ('torture', 645), ('reach', 646), ('lead', 647), ('foot', 648), ('weight', 649), ('imagine', 650), ('nostalgic', 651), ('pay', 652), ('throw', 653), ('superior', 654), ('petty', 655), ('choice', 656), ('car', 657), ('skin', 658), ('festive', 659), ('focus', 660), ('damage', 661), ('project', 662), ('ecstatic', 663), ('although', 664), ('intelligent', 665), ('return', 666), ('christmas', 667), ('acceptable', 668), ('regretful', 669), ('answer', 670), ('early', 671), ('name', 672), ('pick', 673), ('mention', 674), ('reader', 675), ('horny', 676), ('style', 677), ('resolve', 678), ('inadequate', 679), ('explain', 680), ('please', 681), ('mellow', 682), ('upset', 683), ('lame', 684), ('receive', 685), ('order', 686), ('manage', 687), ('appreciate', 688), ('dissatisfied', 689), ('intimidate', 690), ('trip', 691), ('needy', 692), ('within', 693), ('hit', 694), ('whenever', 695), ('express', 696), ('clever', 697), ('water', 698), ('drink', 699), ('true', 700), ('lousy', 701), ('agitate', 702), ('fearful', 703), ('treat', 704), ('event', 705), ('discontent', 706), ('supportive', 707), ('fill', 708), ('wasn', 709), ('disgusted', 710), ('shaky', 711), ('impatient', 712), ('fight', 713), ('father', 714), ('normal', 715), ('remind', 716), ('unfortunate', 717), ('perhaps', 718), ('line', 719), ('phone', 720), ('effort', 721), ('foolish', 722), ('loyal', 723), ('restless', 724), ('spirit', 725), ('virtuous', 726), ('delicious', 727), ('team', 728), ('short', 729), ('level', 730), ('toward', 731), ('age', 732), ('generally', 733), ('fantastic', 734), ('chance', 735), ('fabulous', 736), ('rotten', 737), ('ungrateful', 738), ('late', 739), ('constantly', 740), ('exactly', 741), ('grumpy', 742), ('describe', 743), ('door', 744), ('offer', 745), ('terrific', 746), ('grateful', 747), ('later', 748), ('annoyed', 749), ('present', 750), ('along', 751), ('impressed', 752), ('welcome', 753), ('single', 754), ('view', 755), ('gift', 756), ('summer', 757), ('threaten', 758), ('devastated', 759), ('upon', 760), ('opportunity', 761), ('catch', 762), ('privileged', 763), ('stubborn', 764), ('case', 765), ('adventurous', 766), ('pressured', 767), ('rebellious', 768), ('race', 769), ('holiday', 770), ('photo', 771), ('area', 772), ('loss', 773), ('memory', 774), ('figure', 775), ('smug', 776), ('fan', 777), ('visit', 778), ('wife', 779), ('son', 780), ('delicate', 781), ('space', 782), ('listless', 783), ('arm', 784), ('dark', 785), ('triumphant', 786), ('community', 787), ('worth', 788), ('attention', 789), ('artistic', 790), ('sister', 791), ('top', 792), ('despite', 793), ('longing', 794), ('honoured', 795), ('possible', 796), ('season', 797), ('forward', 798), ('vital', 799), ('discouraged', 800), ('warm', 801), ('personal', 802), ('shit', 803), ('excitement', 804), ('clean', 805), ('carefree', 806), ('determined', 807), ('kick', 808), ('damn', 809), ('appreciative', 810), ('distract', 811), ('skeptical', 812), ('push', 813), ('leg', 814), ('contented', 815), ('seriously', 816), ('study', 817), ('dress', 818), ('ability', 819), ('stick', 820), ('yes', 821), ('fit', 822), ('conversation', 823), ('due', 824), ('casual', 825), ('truth', 826), ('honored', 827), ('convinced', 828), ('tomorrow', 829), ('hang', 830), ('several', 831), ('deeply', 832), ('force', 833), ('hide', 834), ('art', 835), ('stomach', 836), ('connection', 837), ('cut', 838), ('writing', 839), ('peace', 840), ('across', 841), ('fond', 842), ('doom', 843), ('healthy', 844), ('news', 845), ('attempt', 846), ('themselves', 847), ('daughter', 848), ('easily', 849), ('abuse', 850), ('envious', 851), ('deprive', 852), ('fail', 853), ('mostly', 854), ('challenge', 855), ('delighted', 856), ('submissive', 857), ('frantic', 858), ('crazy', 859), ('date', 860), ('unloved', 861), ('doesn', 862), ('utterly', 863), ('evening', 864), ('deserve', 865), ('number', 866), ('four', 867), ('send', 868), ('member', 869), ('color', 870), ('goal', 871), ('cover', 872), ('company', 873), ('health', 874), ('certainly', 875), ('church', 876), ('himself', 877), ('relieved', 878), ('negative', 879), ('except', 880), ('bear', 881), ('unpleasant', 882), ('isolated', 883), ('product', 884), ('messy', 885), ('insulted', 886), ('quickly', 887), ('convince', 888), ('idiotic', 889), ('amount', 890), ('public', 891), ('humiliate', 892), ('sadness', 893), ('sentimental', 894), ('gain', 895), ('film', 896), ('general', 897), ('doubtful', 898), ('invigorate', 899), ('dad', 900), ('shocked', 901), ('troubled', 902), ('jade', 903), ('ground', 904), ('drop', 905), ('lady', 906), ('yourself', 907), ('insult', 908), ('boring', 909), ('dog', 910), ('everyday', 911), ('realise', 912), ('assured', 913), ('city', 914), ('piss', 915), ('recently', 916), ('src', 917), ('remain', 918), ('distressed', 919), ('air', 920), ('suspicious', 921), ('fairly', 922), ('cross', 923), ('pray', 924), ('honest', 925), ('tragic', 926), ('clothe', 927), ('kiss', 928), ('complete', 929), ('possibly', 930), ('red', 931), ('death', 932), ('medium', 933), ('loud', 934), ('teach', 935), ('anguish', 936), ('simple', 937), ('process', 938), ('pissed', 939), ('provide', 940), ('stare', 941), ('expression', 942), ('strongly', 943), ('finger', 944), ('sun', 945), ('effect', 946), ('physically', 947), ('social', 948), ('wall', 949), ('college', 950), ('check', 951), ('reassured', 952), ('tend', 953), ('surprise', 954), ('breath', 955), ('sorrow', 956), ('spot', 957), ('glamorous', 958), ('thrilled', 959), ('dazed', 960), ('action', 961), ('avoid', 962), ('boyfriend', 963), ('remorseful', 964), ('keen', 965), ('strength', 966), ('beyond', 967), ('doubt', 968), ('brain', 969), ('clear', 970), ('power', 971), ('large', 972), ('indecisive', 973), ('dismay', 974), ('guilt', 975), ('playful', 976), ('devastate', 977), ('computer', 978), ('wanna', 979), ('paper', 980), ('dance', 981), ('hell', 982), ('disturb', 983), ('lesson', 984), ('busy', 985), ('presence', 986), ('personally', 987), ('ahead', 988), ('disquiet', 989), ('shame', 990), ('physical', 991), ('scream', 992), ('fully', 993), ('blame', 994), ('unable', 995), ('grouchy', 996), ('emotionally', 997), ('thrill', 998), ('near', 999), ('slowly', 1000), ('whom', 1001), ('progress', 1002), ('difficult', 1003), ('further', 1004), ('carry', 1005), ('mile', 1006), ('training', 1007), ('handle', 1008), ('annoy', 1009), ('five', 1010), ('draw', 1011), ('brother', 1012), ('mistake', 1013), ('title', 1014), ('nor', 1015), ('waste', 1016), ('terribly', 1017), ('anyway', 1018), ('comfort', 1019), ('exhaust', 1020), ('disheartened', 1021), ('furious', 1022), ('pregnant', 1023), ('kill', 1024), ('letter', 1025), ('tortured', 1026), ('itself', 1027), ('sociable', 1028), ('breathe', 1029), ('writer', 1030), ('usual', 1031), ('settle', 1032), ('blue', 1033), ('lord', 1034), ('teacher', 1035), ('entertain', 1036), ('sex', 1037), ('likely', 1038), ('weather', 1039), ('grief', 1040), ('isolate', 1041), ('page', 1042), ('search', 1043), ('onto', 1044), ('card', 1045), ('discover', 1046), ('trouble', 1047), ('black', 1048), ('white', 1049), ('message', 1050), ('crap', 1051), ('subject', 1052), ('hostile', 1053), ('huge', 1054), ('extra', 1055), ('admire', 1056), ('shoe', 1057), ('feed', 1058), ('achieve', 1059), ('office', 1060), ('fucking', 1061), ('rise', 1062), ('dinner', 1063), ('term', 1064), ('anxiety', 1065), ('exam', 1066), ('soul', 1067), ('complacent', 1068), ('form', 1069), ('image', 1070), ('horror', 1071), ('street', 1072), ('raise', 1073), ('distraught', 1074), ('discourage', 1075), ('career', 1076), ('interest', 1077), ('knowledge', 1078), ('pound', 1079), ('delight', 1080), ('lip', 1081), ('lazy', 1082), ('beauty', 1083), ('facebook', 1084), ('note', 1085), ('system', 1086), ('loving', 1087), ('hateful', 1088), ('tree', 1089), ('smell', 1090), ('okay', 1091), ('offended', 1092), ('road', 1093), ('img', 1094), ('assault', 1095), ('save', 1096), ('fault', 1097), ('mark', 1098), ('doctor', 1099), ('meeting', 1100), ('worried', 1101), ('compare', 1102), ('release', 1103), ('information', 1104), ('daily', 1105), ('couldn', 1106), ('relax', 1107), ('assure', 1108), ('taste', 1109), ('b', 1110), ('mouth', 1111), ('jolly', 1112), ('shop', 1113), ('entirely', 1114), ('lay', 1115), ('period', 1116), ('build', 1117), ('exercise', 1118), ('gracious', 1119), ('aware', 1120), ('shoot', 1121), ('sunday', 1122), ('direction', 1123), ('bag', 1124), ('happiness', 1125), ('appear', 1126), ('determine', 1127), ('artist', 1128), ('task', 1129), ('quiet', 1130), ('business', 1131), ('particular', 1132), ('throughout', 1133), ('include', 1134), ('nature', 1135), ('amused', 1136), ('enter', 1137), ('travel', 1138), ('service', 1139), ('belong', 1140), ('suck', 1141), ('stunned', 1142), ('birthday', 1143), ('folk', 1144), ('tv', 1145), ('pop', 1146), ('stage', 1147), ('mister', 1148), ('bitch', 1149), ('journey', 1150), ('wedding', 1151), ('regard', 1152), ('bothered', 1153), ('obnoxious', 1154), ('slow', 1155), ('mum', 1156), ('beginning', 1157), ('entire', 1158), ('fly', 1159), ('practice', 1160), ('somewhere', 1161), ('reaction', 1162), ('shock', 1163), ('dead', 1164), ('favorite', 1165), ('join', 1166), ('suffering', 1167), ('respected', 1168), ('faith', 1169), ('arrive', 1170), ('disillusioned', 1171), ('heartless', 1172), ('complain', 1173), ('concern', 1174), ('difference', 1175), ('agree', 1176), ('detail', 1177), ('site', 1178), ('bore', 1179), ('sarcastic', 1180), ('herself', 1181), ('freak', 1182), ('series', 1183), ('involve', 1184), ('link', 1185), ('f', 1186), ('muscle', 1187), ('poor', 1188), ('fix', 1189), ('nearly', 1190), ('purpose', 1191), ('interesting', 1192), ('distance', 1193), ('sign', 1194), ('e', 1195), ('rain', 1196), ('target', 1197), ('uptight', 1198), ('forgive', 1199), ('elegant', 1200), ('society', 1201), ('local', 1202), ('confidence', 1203), ('current', 1204), ('fat', 1205), ('badly', 1206), ('above', 1207), ('prepare', 1208), ('awesome', 1209), ('meal', 1210), ('afterwards', 1211), ('heat', 1212), ('similar', 1213), ('path', 1214), ('weak', 1215), ('christ', 1216), ('position', 1217), ('immediately', 1218), ('headache', 1219), ('mix', 1220), ('bouncy', 1221), ('embrace', 1222), ('compassionate', 1223), ('count', 1224), ('key', 1225), ('weepy', 1226), ('middle', 1227), ('store', 1228), ('mess', 1229), ('earth', 1230), ('silly', 1231), ('paint', 1232), ('audience', 1233), ('freedom', 1234), ('partner', 1235), ('prove', 1236), ('pride', 1237), ('scene', 1238), ('test', 1239), ('jump', 1240), ('haven', 1241), ('isn', 1242), ('midday', 1243), ('culture', 1244), ('base', 1245), ('opinion', 1246), ('sore', 1247), ('review', 1248), ('living', 1249), ('online', 1250), ('table', 1251), ('genuinely', 1252), ('episode', 1253), ('disappoint', 1254), ('window', 1255), ('monday', 1256), ('winter', 1257), ('neglectful', 1258), ('lively', 1259), ('relate', 1260), ('report', 1261), ('non', 1262), ('train', 1263), ('chair', 1264), ('ride', 1265), ('earlier', 1266), ('attack', 1267), ('author', 1268), ('blood', 1269), ('reality', 1270), ('pace', 1271), ('awake', 1272), ('pretend', 1273), ('despair', 1274), ('wave', 1275), ('ear', 1276), ('overwhelm', 1277), ('friday', 1278), ('mental', 1279), ('accomplish', 1280), ('victim', 1281), ('program', 1282), ('afternoon', 1283), ('skill', 1284), ('shut', 1285), ('mentally', 1286), ('joke', 1287), ('protect', 1288), ('success', 1289), ('cheer', 1290), ('refuse', 1291), ('whose', 1292), ('history', 1293), ('otherwise', 1294), ('gut', 1295), ('anybody', 1296), ('individual', 1297), ('currently', 1298), ('rushed', 1299), ('master', 1300), ('design', 1301), ('heal', 1302), ('lost', 1303), ('hug', 1304), ('internet', 1305), ('shoulder', 1306), ('tough', 1307), ('graceful', 1308), ('pair', 1309), ('scare', 1310), ('statement', 1311), ('normally', 1312), ('attend', 1313), ('steal', 1314), ('language', 1315), ('rock', 1316), ('workout', 1317), ('bird', 1318), ('text', 1319), ('regret', 1320), ('girlfriend', 1321), ('overall', 1322), ('unless', 1323), ('total', 1324), ('attitude', 1325), ('response', 1326), ('among', 1327), ('patient', 1328), ('disturbed', 1329), ('serve', 1330), ('forever', 1331), ('final', 1332), ('size', 1333), ('club', 1334), ('basically', 1335), ('approach', 1336), ('chocolate', 1337), ('common', 1338), ('thinking', 1339), ('fast', 1340), ('secret', 1341), ('alive', 1342), ('kitchen', 1343), ('reply', 1344), ('utter', 1345), ('betray', 1346), ('press', 1347), ('rel', 1348), ('chest', 1349), ('tool', 1350), ('match', 1351), ('obviously', 1352), ('price', 1353), ('activity', 1354), ('impress', 1355), ('performance', 1356), ('contact', 1357), ('video', 1358), ('loved', 1359), ('equally', 1360), ('humiliated', 1361), ('glass', 1362), ('straight', 1363), ('coffee', 1364), ('depth', 1365), ('develop', 1366), ('surround', 1367), ('celebrate', 1368), ('universe', 1369), ('environment', 1370), ('government', 1371), ('relieve', 1372), ('responsibility', 1373), ('charming', 1374), ('idiot', 1375), ('exist', 1376), ('cat', 1377), ('star', 1378), ('fearless', 1379), ('edge', 1380), ('burn', 1381), ('shift', 1382), ('blogger', 1383), ('saturday', 1384), ('clearly', 1385), ('shall', 1386), ('escape', 1387), ('thus', 1388), ('round', 1389), ('box', 1390), ('town', 1391), ('treatment', 1392), ('brown', 1393), ('item', 1394), ('odd', 1395), ('cycle', 1396), ('sorrowful', 1397), ('friendship', 1398), ('seek', 1399), ('grab', 1400), ('despondent', 1401), ('depend', 1402), ('yoga', 1403), ('beside', 1404), ('corner', 1405), ('main', 1406), ('climb', 1407), ('heavy', 1408), ('tone', 1409), ('terrify', 1410), ('shouldn', 1411), ('degree', 1412), ('discuss', 1413), ('customer', 1414), ('interested', 1415), ('perfectly', 1416), ('w', 1417), ('th', 1418), ('pregnancy', 1419), ('reading', 1420), ('connect', 1421), ('willing', 1422), ('sell', 1423), ('glance', 1424), ('bright', 1425), ('field', 1426), ('flow', 1427), ('p', 1428), ('amuse', 1429), ('barely', 1430), ('anywhere', 1431), ('prayer', 1432), ('blogge', 1433), ('considerate', 1434), ('eventually', 1435), ('sexual', 1436), ('urge', 1437), ('bewilder', 1438), ('inhibited', 1439), ('topic', 1440), ('throat', 1441), ('wash', 1442), ('option', 1443), ('timid', 1444), ('schedule', 1445), ('strangely', 1446), ('c', 1447), ('recognize', 1448), ('charm', 1449), ('jesus', 1450), ('apart', 1451), ('balance', 1452), ('bike', 1453), ('judge', 1454), ('fab', 1455), ('bunch', 1456), ('roll', 1457), ('react', 1458), ('stranger', 1459), ('university', 1460), ('novel', 1461), ('session', 1462), ('ass', 1463), ('dishearten', 1464), ('blow', 1465), ('shower', 1466), ('lock', 1467), ('highly', 1468), ('perspective', 1469), ('cast', 1470), ('hopefully', 1471), ('wine', 1472), ('confuse', 1473), ('properly', 1474), ('english', 1475), ('bus', 1476), ('haha', 1477), ('honor', 1478), ('email', 1479), ('outraged', 1480), ('movement', 1481), ('nobody', 1482), ('band', 1483), ('astonishment', 1484), ('ease', 1485), ('animal', 1486), ('explore', 1487), ('aspect', 1488), ('truthful', 1489), ('personality', 1490), ('promise', 1491), ('concerned', 1492), ('vacation', 1493), ('hospital', 1494), ('serious', 1495), ('specific', 1496), ('maintain', 1497), ('necessary', 1498), ('adventure', 1499), ('entry', 1500), ('tad', 1501), ('soft', 1502), ('england', 1503), ('failure', 1504), ('improve', 1505), ('constant', 1506), ('gym', 1507), ('asleep', 1508), ('advice', 1509), ('worker', 1510), ('birth', 1511), ('till', 1512), ('behavior', 1513), ('frustration', 1514), ('alarm', 1515), ('breakfast', 1516), ('player', 1517), ('blessing', 1518), ('somebody', 1519), ('instantly', 1520), ('drug', 1521), ('sensitive', 1522), ('left', 1523), ('recipe', 1524), ('gratitude', 1525), ('bill', 1526), ('sky', 1527), ('outfit', 1528), ('overly', 1529), ('fresh', 1530), ('startled', 1531), ('wind', 1532), ('law', 1533), ('shaken', 1534), ('sigh', 1535), ('record', 1536), ('blah', 1537), ('abandon', 1538), ('swear', 1539), ('childhood', 1540), ('yeah', 1541), ('extent', 1542), ('depression', 1543), ('distracted', 1544), ('sing', 1545), ('police', 1546), ('benefit', 1547), ('o', 1548), ('thanksgiving', 1549), ('guest', 1550), ('million', 1551), ('neither', 1552), ('minister', 1553), ('increase', 1554), ('concentrate', 1555), ('lyric', 1556), ('sugar', 1557), ('dear', 1558), ('exasperation', 1559), ('six', 1560), ('green', 1561), ('america', 1562), ('harder', 1563), ('north', 1564), ('tiny', 1565), ('socially', 1566), ('cope', 1567), ('desperately', 1568), ('x', 1569), ('apartment', 1570), ('pack', 1571), ('london', 1572), ('education', 1573), ('none', 1574), ('hero', 1575), ('elation', 1576), ('drama', 1577), ('expectation', 1578), ('victimize', 1579), ('per', 1580), ('marry', 1581), ('height', 1582), ('hardly', 1583), ('fellow', 1584), ('wouldn', 1585), ('repeat', 1586), ('cook', 1587), ('impact', 1588), ('increasingly', 1589), ('adult', 1590), ('marriage', 1591), ('solution', 1592), ('pursue', 1593), ('teenager', 1594), ('spread', 1595), ('nail', 1596), ('hated', 1597), ('park', 1598), ('floor', 1599), ('third', 1600), ('hungry', 1601), ('example', 1602), ('horse', 1603), ('bored', 1604), ('respond', 1605), ('risk', 1606), ('accepted', 1607), ('role', 1608), ('intention', 1609), ('oil', 1610), ('bewilderment', 1611), ('h', 1612), ('resign', 1613), ('confess', 1614), ('vote', 1615), ('flower', 1616), ('damaged', 1617), ('crush', 1618), ('replace', 1619), ('rarely', 1620), ('grant', 1621), ('bite', 1622), ('thin', 1623), ('quality', 1624), ('poetry', 1625), ('christian', 1626), ('fabric', 1627), ('wimpy', 1628), ('tip', 1629), ('routine', 1630), ('possibility', 1631), ('contribute', 1632), ('reflect', 1633), ('bar', 1634), ('condition', 1635), ('bottom', 1636), ('cream', 1637), ('storm', 1638), ('encourage', 1639), ('annoying', 1640), ('circumstance', 1641), ('neurotic', 1642), ('circle', 1643), ('album', 1644), ('recommend', 1645), ('yell', 1646), ('blogging', 1647), ('dare', 1648), ('familiar', 1649), ('crowd', 1650), ('lift', 1651), ('stretch', 1652), ('measure', 1653), ('plus', 1654), ('professional', 1655), ('garden', 1656), ('welcomed', 1657), ('therefore', 1658), ('core', 1659), ('battle', 1660), ('sea', 1661), ('threatened', 1662), ('annoyance', 1663), ('intend', 1664), ('devoted', 1665), ('lifestyle', 1666), ('colour', 1667), ('silence', 1668), ('understanding', 1669), ('frustrate', 1670), ('morose', 1671), ('gt', 1672), ('beg', 1673), ('cos', 1674), ('accident', 1675), ('alarmed', 1676), ('desperate', 1677), ('prime', 1678), ('twitter', 1679), ('shape', 1680), ('feature', 1681), ('brush', 1682), ('actual', 1683), ('excuse', 1684), ('rule', 1685), ('cough', 1686), ('separate', 1687), ('plot', 1688), ('center', 1689), ('ourselves', 1690), ('habit', 1691), ('article', 1692), ('load', 1693), ('market', 1694), ('meaning', 1695), ('st', 1696), ('diet', 1697), ('excite', 1698), ('radio', 1699), ('bank', 1700), ('slip', 1701), ('score', 1702), ('vision', 1703), ('inhibit', 1704), ('quote', 1705), ('seat', 1706), ('regular', 1707), ('block', 1708), ('plant', 1709), ('whiney', 1710), ('indignant', 1711), ('reassure', 1712), ('relief', 1713), ('david', 1714), ('amusement', 1715), ('research', 1716), ('aside', 1717), ('suggest', 1718), ('cup', 1719), ('political', 1720), ('uk', 1721), ('slight', 1722), ('leader', 1723), ('emo', 1724), ('loose', 1725), ('anticipation', 1726), ('r', 1727), ('capture', 1728), ('duty', 1729), ('tie', 1730), ('american', 1731), ('potential', 1732), ('adore', 1733), ('wound', 1734), ('affect', 1735), ('prefer', 1736), ('produce', 1737), ('marathon', 1738), ('pic', 1739), ('illness', 1740), ('apply', 1741), ('warmth', 1742), ('horrified', 1743), ('splendid', 1744), ('suspect', 1745), ('dread', 1746), ('journal', 1747), ('surgery', 1748), ('prevent', 1749), ('require', 1750), ('background', 1751), ('shirt', 1752), ('natural', 1753), ('lunch', 1754), ('appal', 1755), ('version', 1756), ('conflict', 1757), ('camera', 1758), ('plenty', 1759), ('grade', 1760), ('nap', 1761), ('alot', 1762), ('overwhelming', 1763), ('humble', 1764), ('update', 1765), ('conscious', 1766), ('credit', 1767), ('sensation', 1768), ('limit', 1769), ('hundred', 1770), ('y', 1771), ('ring', 1772), ('chat', 1773), ('refer', 1774), ('passion', 1775), ('overcome', 1776), ('tongue', 1777), ('uncle', 1778), ('identify', 1779), ('google', 1780), ('mild', 1781), ('scent', 1782), ('lover', 1783), ('hey', 1784), ('reminder', 1785), ('apologize', 1786), ('suicide', 1787), ('invest', 1788), ('dismayed', 1789), ('survive', 1790), ('british', 1791), ('couch', 1792), ('sympathy', 1793), ('spring', 1794), ('perform', 1795), ('swim', 1796), ('intimidated', 1797), ('cuz', 1798), ('unsuccessful', 1799), ('neck', 1800), ('outcome', 1801), ('standard', 1802), ('pity', 1803), ('secure', 1804), ('pleasure', 1805), ('manner', 1806), ('treasure', 1807), ('reveal', 1808), ('york', 1809), ('quick', 1810), ('sight', 1811), ('disgust', 1812), ('display', 1813), ('partly', 1814), ('sake', 1815), ('spiteful', 1816), ('recent', 1817), ('beer', 1818), ('trail', 1819), ('tea', 1820), ('consume', 1821), ('inspired', 1822), ('hill', 1823), ('flash', 1824), ('wise', 1825), ('land', 1826), ('bone', 1827), ('contain', 1828), ('plane', 1829), ('sweat', 1830), ('fire', 1831), ('experiment', 1832), ('drown', 1833), ('toe', 1834), ('pour', 1835), ('dry', 1836), ('fair', 1837), ('energized', 1838), ('vicious', 1839), ('disappear', 1840), ('button', 1841), ('sexy', 1842), ('sale', 1843), ('shopping', 1844), ('shout', 1845), ('function', 1846), ('advance', 1847), ('pool', 1848), ('dish', 1849), ('soo', 1850), ('symptom', 1851), ('literally', 1852), ('previous', 1853), ('exasperate', 1854), ('ball', 1855), ('ludicrous', 1856), ('sudden', 1857), ('random', 1858), ('naturally', 1859), ('devote', 1860), ('tuesday', 1861), ('fish', 1862), ('emerge', 1863), ('sink', 1864), ('coz', 1865), ('whilst', 1866), ('intense', 1867), ('bet', 1868), ('unworthy', 1869), ('basis', 1870), ('brand', 1871), ('football', 1872), ('deny', 1873), ('mountain', 1874), ('track', 1875), ('bookmark', 1876), ('method', 1877), ('grey', 1878), ('newborn', 1879), ('obligation', 1880), ('hop', 1881), ('engage', 1882), ('unwanted', 1883), ('crave', 1884), ('glimpse', 1885), ('silent', 1886), ('cheap', 1887), ('scale', 1888), ('shed', 1889), ('gay', 1890), ('commit', 1891), ('livid', 1892), ('speech', 1893), ('irate', 1894), ('hole', 1895), ('worthy', 1896), ('fashion', 1897), ('crash', 1898), ('faster', 1899), ('dislike', 1900), ('tooth', 1901), ('gaze', 1902), ('fruit', 1903), ('flight', 1904), ('despondency', 1905), ('peer', 1906), ('indulge', 1907), ('float', 1908), ('everywhere', 1909), ('industry', 1910), ('succeed', 1911), ('vibe', 1912), ('remove', 1913), ('ten', 1914), ('security', 1915), ('angel', 1916), ('prince', 1917), ('unkind', 1918), ('address', 1919), ('holy', 1920), ('religious', 1921), ('development', 1922), ('destroy', 1923), ('expensive', 1924), ('loneliness', 1925), ('importance', 1926), ('abused', 1927), ('cheek', 1928), ('hi', 1929), ('recover', 1930), ('affectionate', 1931), ('major', 1932), ('cherish', 1933), ('officer', 1934), ('desk', 1935), ('mission', 1936), ('un', 1937), ('tension', 1938), ('cancer', 1939), ('broke', 1940), ('occasion', 1941), ('prospect', 1942), ('painting', 1943), ('boss', 1944), ('slide', 1945), ('powerful', 1946), ('assume', 1947), ('spin', 1948), ('clothing', 1949), ('beach', 1950), ('fac', 1951), ('pre', 1952), ('awhile', 1953), ('former', 1954), ('manager', 1955), ('demand', 1956), ('mixture', 1957), ('male', 1958), ('compliment', 1959), ('pattern', 1960), ('defend', 1961), ('below', 1962), ('represent', 1963), ('aggravate', 1964), ('occur', 1965), ('belief', 1966), ('consequence', 1967), ('grand', 1968), ('cuddle', 1969), ('moral', 1970), ('average', 1971), ('plain', 1972), ('pink', 1973), ('obvious', 1974), ('conservative', 1975), ('dump', 1976), ('private', 1977), ('neglect', 1978), ('participate', 1979), ('accomplishment', 1980), ('coat', 1981), ('giggly', 1982), ('interview', 1983), ('repressed', 1984), ('mournful', 1985), ('strike', 1986), ('outgoing', 1987), ('influence', 1988), ('surface', 1989), ('everybody', 1990), ('follower', 1991), ('shamed', 1992), ('sand', 1993), ('enraged', 1994), ('invite', 1995), ('discussion', 1996), ('considerable', 1997), ('safety', 1998), ('machine', 1999), ('hellip', 2000), ('court', 2001), ('jealousy', 2002), ('medicine', 2003), ('ought', 2004), ('awfully', 2005), ('makeup', 2006), ('downcast', 2007), ('initial', 2008), ('generation', 2009), ('root', 2010), ('advantage', 2011), ('fulfil', 2012), ('wood', 2013), ('unnecessary', 2014), ('forth', 2015), ('educate', 2016), ('cheat', 2017), ('stun', 2018), ('dr', 2019), ('mass', 2020), ('injury', 2021), ('handsome', 2022), ('tight', 2023), ('creativity', 2024), ('army', 2025), ('gather', 2026), ('coach', 2027), ('snap', 2028), ('invigorated', 2029), ('building', 2030), ('defective', 2031), ('pile', 2032), ('gear', 2033), ('miserabl', 2034), ('semester', 2035), ('wet', 2036), ('happily', 2037), ('wrap', 2038), ('reference', 2039), ('indeed', 2040), ('shine', 2041), ('chill', 2042), ('section', 2043), ('justice', 2044), ('ex', 2045), ('religion', 2046), ('ruin', 2047), ('spiritual', 2048), ('inspiration', 2049), ('craft', 2050), ('panic', 2051), ('perceive', 2052), ('burst', 2053), ('giant', 2054), ('impression', 2055), ('la', 2056), ('elated', 2057), ('aren', 2058), ('recall', 2059), ('incredible', 2060), ('switch', 2061), ('frighten', 2062), ('praise', 2063), ('lean', 2064), ('sunshine', 2065), ('youth', 2066), ('sin', 2067), ('tranquil', 2068), ('temper', 2069), ('various', 2070), ('unprotected', 2071), ('vent', 2072), ('nasty', 2073), ('horribly', 2074), ('sunny', 2075), ('comparison', 2076), ('belly', 2077), ('claim', 2078), ('material', 2079), ('curl', 2080), ('war', 2081), ('whisper', 2082), ('graduate', 2083), ('purchase', 2084), ('occasionally', 2085), ('charge', 2086), ('tackle', 2087), ('bond', 2088), ('argument', 2089), ('responsible', 2090), ('unknown', 2091), ('best', 2092), ('original', 2093), ('accord', 2094), ('mode', 2095), ('shot', 2096), ('hat', 2097), ('guitar', 2098), ('wide', 2099), ('ordinary', 2100), ('witness', 2101), ('production', 2102), ('click', 2103), ('apparently', 2104), ('benevolent', 2105), ('ending', 2106), ('conference', 2107), ('awareness', 2108), ('lash', 2109), ('breeze', 2110), ('homework', 2111), ('favourite', 2112), ('radiant', 2113), ('argue', 2114), ('combination', 2115), ('laundry', 2116), ('chicken', 2117), ('startle', 2118), ('available', 2119), ('font', 2120), ('viewer', 2121), ('nerve', 2122), ('sooner', 2123), ('exasperat', 2124), ('repress', 2125), ('justify', 2126), ('publish', 2127), ('wing', 2128), ('motivation', 2129), ('aunt', 2130), ('encounter', 2131), ('ocean', 2132), ('website', 2133), ('rid', 2134), ('charity', 2135), ('sheer', 2136), ('puppy', 2137), ('flawless', 2138), ('butt', 2139), ('unfold', 2140), ('stroke', 2141), ('nofollow', 2142), ('alternative', 2143), ('model', 2144), ('debate', 2145), ('exact', 2146), ('wander', 2147), ('grin', 2148), ('behave', 2149), ('knee', 2150), ('laughter', 2151), ('driver', 2152), ('tempt', 2153), ('scary', 2154), ('dunno', 2155), ('library', 2156), ('rate', 2157), ('presentation', 2158), ('king', 2159), ('ha', 2160), ('jack', 2161), ('host', 2162), ('rage', 2163), ('ridiculous', 2164), ('suppress', 2165), ('rely', 2166), ('modern', 2167), ('altogether', 2168), ('century', 2169), ('meat', 2170), ('crack', 2171), ('sandwich', 2172), ('craving', 2173), ('dig', 2174), ('creep', 2175), ('classroom', 2176), ('med', 2177), ('shell', 2178), ('wednesday', 2179), ('breast', 2180), ('unmotivated', 2181), ('painful', 2182), ('status', 2183), ('contemplate', 2184), ('phrase', 2185), ('used', 2186), ('motion', 2187), ('resent', 2188), ('slutty', 2189), ('opposite', 2190), ('consistently', 2191), ('appointment', 2192), ('grip', 2193), ('speed', 2194), ('restaurant', 2195), ('award', 2196), ('focused', 2197), ('thick', 2198), ('magazine', 2199), ('relatively', 2200), ('capable', 2201), ('violence', 2202), ('cookie', 2203), ('wild', 2204), ('frankly', 2205), ('chinese', 2206), ('science', 2207), ('differently', 2208), ('silently', 2209), ('airport', 2210), ('sport', 2211), ('infuriate', 2212), ('smoke', 2213), ('incident', 2214), ('bedroom', 2215), ('boat', 2216), ('international', 2217), ('hadn', 2218), ('john', 2219), ('temperature', 2220), ('difficulty', 2221), ('teen', 2222), ('intensely', 2223), ('direct', 2224), ('genre', 2225), ('appearance', 2226), ('previously', 2227), ('planet', 2228), ('grandmother', 2229), ('deprived', 2230), ('object', 2231), ('cake', 2232), ('cramp', 2233), ('bashful', 2234), ('active', 2235), ('disconsolate', 2236), ('double', 2237), ('attract', 2238), ('surely', 2239), ('jubilant', 2240), ('talente', 2241), ('behaviour', 2242), ('authority', 2243), ('horrify', 2244), ('rape', 2245), ('equal', 2246), ('designer', 2247), ('cloud', 2248), ('co', 2249), ('range', 2250), ('luck', 2251), ('hint', 2252), ('absolute', 2253), ('crawl', 2254), ('minor', 2255), ('depress', 2256), ('female', 2257), ('president', 2258), ('tune', 2259), ('drag', 2260), ('cost', 2261), ('alright', 2262), ('doomed', 2263), ('financial', 2264), ('screw', 2265), ('oddly', 2266), ('boot', 2267), ('companion', 2268), ('impossible', 2269), ('ton', 2270), ('honour', 2271), ('magic', 2272), ('conclusion', 2273), ('fool', 2274), ('flip', 2275), ('theme', 2276), ('betrayed', 2277), ('punch', 2278), ('relation', 2279), ('strain', 2280), ('motivated', 2281), ('peter', 2282), ('prepared', 2283), ('inner', 2284), ('majority', 2285), ('decent', 2286), ('freeze', 2287), ('volunteer', 2288), ('nose', 2289), ('structure', 2290), ('pant', 2291), ('log', 2292), ('vaguely', 2293), ('fever', 2294), ('pang', 2295), ('cigarette', 2296), ('foreign', 2297), ('celebration', 2298), ('tense', 2299), ('department', 2300), ('concept', 2301), ('savage', 2302), ('china', 2303), ('merely', 2304), ('ad', 2305), ('clue', 2306), ('pub', 2307), ('ticket', 2308), ('closer', 2309), ('bathroom', 2310), ('instinct', 2311), ('solve', 2312), ('greet', 2313), ('layer', 2314), ('stone', 2315), ('rainy', 2316), ('knowing', 2317), ('resist', 2318), ('exciting', 2319), ('communicate', 2320), ('spill', 2321), ('atmosphere', 2322), ('definition', 2323), ('closet', 2324), ('pot', 2325), ('extend', 2326), ('decline', 2327), ('dollar', 2328), ('magical', 2329), ('portray', 2330), ('zone', 2331), ('exchange', 2332), ('toss', 2333), ('colleague', 2334), ('acceptance', 2335), ('squeeze', 2336), ('south', 2337), ('theory', 2338), ('despai', 2339), ('ai', 2340), ('attach', 2341), ('copy', 2342), ('fitness', 2343), ('remark', 2344), ('frequently', 2345), ('unique', 2346), ('rough', 2347), ('grace', 2348), ('suggestion', 2349), ('citizen', 2350), ('island', 2351), ('sentence', 2352), ('mirror', 2353), ('fucked', 2354), ('crisis', 2355), ('ya', 2356), ('spending', 2357), ('phase', 2358), ('nostalgia', 2359), ('bread', 2360), ('breathing', 2361), ('blind', 2362), ('guide', 2363), ('ultimately', 2364), ('regardless', 2365), ('flat', 2366), ('suit', 2367), ('jim', 2368), ('april', 2369), ('quit', 2370), ('gas', 2371), ('nauseous', 2372), ('luckily', 2373), ('creature', 2374), ('poem', 2375), ('announce', 2376), ('chapter', 2377), ('tolerate', 2378), ('rare', 2379), ('weigh', 2380), ('pleasantly', 2381), ('earn', 2382), ('introduce', 2383), ('capacity', 2384), ('compassion', 2385), ('refresh', 2386), ('sharp', 2387), ('hence', 2388), ('moon', 2389), ('director', 2390), ('realization', 2391), ('drunk', 2392), ('actor', 2393), ('butterfly', 2394), ('doll', 2395), ('collection', 2396), ('tug', 2397), ('growth', 2398), ('desolate', 2399), ('seemingly', 2400), ('raw', 2401), ('substance', 2402), ('wisdom', 2403), ('pause', 2404), ('sum', 2405), ('chase', 2406), ('resource', 2407), ('lil', 2408), ('medical', 2409), ('application', 2410), ('protest', 2411), ('bastard', 2412), ('financially', 2413), ('starve', 2414), ('distress', 2415), ('surprisingly', 2416), ('document', 2417), ('danger', 2418), ('jane', 2419), ('rhythm', 2420), ('santa', 2421), ('cooking', 2422), ('thousand', 2423), ('cousin', 2424), ('medication', 2425), ('therapy', 2426), ('bare', 2427), ('weakness', 2428), ('transition', 2429), ('brilliant', 2430), ('feelin', 2431), ('healing', 2432), ('board', 2433), ('code', 2434), ('bonus', 2435), ('humorous', 2436), ('sewing', 2437), ('toy', 2438), ('assistant', 2439), ('dism', 2440), ('october', 2441), ('depresse', 2442), ('ideal', 2443), ('gold', 2444), ('dust', 2445), ('lap', 2446), ('nurse', 2447), ('nicely', 2448), ('grasp', 2449), ('stumble', 2450), ('tingle', 2451), ('camp', 2452), ('venture', 2453), ('alex', 2454), ('directly', 2455), ('harm', 2456), ('whine', 2457), ('screen', 2458), ('significant', 2459), ('catholic', 2460), ('unfortunately', 2461), ('aching', 2462), ('perverse', 2463), ('fiction', 2464), ('horr', 2465), ('blanket', 2466), ('en', 2467), ('mid', 2468), ('enemy', 2469), ('vile', 2470), ('photography', 2471), ('wronged', 2472), ('thoroughly', 2473), ('clock', 2474), ('adopt', 2475), ('relative', 2476), ('murder', 2477), ('owner', 2478), ('moronic', 2479), ('gun', 2480), ('glum', 2481), ('disappointment', 2482), ('julia', 2483), ('nowhere', 2484), ('orange', 2485), ('married', 2486), ('mommy', 2487), ('prize', 2488), ('file', 2489), ('goodbye', 2490), ('resentment', 2491), ('mike', 2492), ('ridiculously', 2493), ('scheme', 2494), ('shadow', 2495), ('endless', 2496), ('opening', 2497), ('sorta', 2498), ('ignored', 2499), ('sadden', 2500), ('eight', 2501), ('rant', 2502), ('angered', 2503), ('knock', 2504), ('print', 2505), ('lend', 2506), ('crime', 2507), ('juice', 2508), ('twice', 2509), ('helpful', 2510), ('mrs', 2511), ('amazingly', 2512), ('clinic', 2513), ('wipe', 2514), ('tuck', 2515), ('de', 2516), ('insist', 2517), ('conceal', 2518), ('disregard', 2519), ('yours', 2520), ('identity', 2521), ('frown', 2522), ('canada', 2523), ('cash', 2524), ('massive', 2525), ('african', 2526), ('strategy', 2527), ('sip', 2528), ('quarter', 2529), ('tale', 2530), ('bowl', 2531), ('regain', 2532), ('fandom', 2533), ('endure', 2534), ('flush', 2535), ('pen', 2536), ('expose', 2537), ('classic', 2538), ('debt', 2539), ('giddy', 2540), ('cow', 2541), ('apathetic', 2542), ('heel', 2543), ('everytime', 2544), ('snow', 2545), ('basic', 2546), ('thigh', 2547), ('tour', 2548), ('musical', 2549), ('paul', 2550), ('expert', 2551), ('solid', 2552), ('reduce', 2553), ('potato', 2554), ('plate', 2555), ('disadvantaged', 2556), ('centre', 2557), ('swing', 2558), ('source', 2559), ('fa', 2560), ('dignified', 2561), ('talent', 2562), ('exceptionally', 2563), ('observe', 2564), ('ministry', 2565), ('deliver', 2566), ('fancy', 2567), ('fulfill', 2568), ('practical', 2569), ('description', 2570), ('harry', 2571), ('k', 2572), ('imagination', 2573), ('nevertheless', 2574), ('heck', 2575), ('staff', 2576), ('tall', 2577), ('immensely', 2578), ('knit', 2579), ('nursing', 2580), ('induce', 2581), ('necessity', 2582), ('beneath', 2583), ('alongside', 2584), ('officially', 2585), ('west', 2586), ('draft', 2587), ('nod', 2588), ('pale', 2589), ('bake', 2590), ('calorie', 2591), ('apology', 2592), ('infection', 2593), ('v', 2594), ('nation', 2595), ('satisfaction', 2596), ('mere', 2597), ('mount', 2598), ('miracle', 2599), ('yard', 2600), ('factor', 2601), ('fade', 2602), ('lee', 2603), ('enjoyment', 2604), ('roof', 2605), ('skinny', 2606), ('griefstricken', 2607), ('cricket', 2608), ('election', 2609), ('excellent', 2610), ('anticipate', 2611), ('studio', 2612), ('soak', 2613), ('enrage', 2614), ('working', 2615), ('contraction', 2616), ('midst', 2617), ('request', 2618), ('input', 2619), ('guidance', 2620), ('chamber', 2621), ('snack', 2622), ('curtain', 2623), ('abit', 2624), ('tinge', 2625), ('romance', 2626), ('smooth', 2627), ('nine', 2628), ('nightmare', 2629), ('washington', 2630), ('official', 2631), ('foggy', 2632), ('apple', 2633), ('treasured', 2634), ('binge', 2635), ('charlie', 2636), ('chick', 2637), ('reputation', 2638), ('wow', 2639), ('positively', 2640), ('dwell', 2641), ('canvas', 2642), ('chemo', 2643), ('string', 2644), ('singapore', 2645), ('lucy', 2646), ('unlike', 2647), ('christians', 2648), ('goodness', 2649), ('fortunate', 2650), ('vein', 2651), ('pit', 2652), ('television', 2653), ('looking', 2654), ('immense', 2655), ('quilt', 2656), ('nd', 2657), ('accompany', 2658), ('forum', 2659), ('tightly', 2660), ('bath', 2661), ('queen', 2662), ('swallow', 2663), ('county', 2664), ('alternate', 2665), ('california', 2666), ('kindness', 2667), ('l', 2668), ('foundation', 2669), ('competition', 2670), ('context', 2671), ('march', 2672), ('deject', 2673), ('november', 2674), ('toilet', 2675), ('comedy', 2676), ('muse', 2677), ('g', 2678), ('repeatedly', 2679), ('gesture', 2680), ('complex', 2681), ('heavenly', 2682), ('ah', 2683), ('budget', 2684), ('pin', 2685), ('apparent', 2686), ('curse', 2687), ('aim', 2688), ('ness', 2689), ('wheel', 2690), ('photograph', 2691), ('daze', 2692), ('billy', 2693), ('trial', 2694), ('simultaneously', 2695), ('regularly', 2696), ('running', 2697), ('explode', 2698), ('spite', 2699), ('flavor', 2700), ('visitor', 2701), ('motor', 2702), ('secretly', 2703), ('disrespect', 2704), ('length', 2705), ('contrast', 2706), ('temple', 2707), ('bum', 2708), ('affair', 2709), ('wo', 2710), ('fund', 2711), ('spiritually', 2712), ('bottle', 2713), ('gross', 2714), ('contract', 2715), ('strip', 2716), ('yay', 2717), ('robin', 2718), ('fate', 2719), ('grandfather', 2720), ('technique', 2721), ('ed', 2722), ('excitem', 2723), ('glee', 2724), ('nonsense', 2725), ('ward', 2726), ('acknowledge', 2727), ('jacket', 2728), ('supply', 2729), ('zero', 2730), ('associate', 2731), ('jaded', 2732), ('americans', 2733), ('combine', 2734), ('invade', 2735), ('runner', 2736), ('caffeine', 2737), ('warn', 2738), ('affection', 2739), ('tube', 2740), ('intensity', 2741), ('bury', 2742), ('bible', 2743), ('disorder', 2744), ('derby', 2745), ('px', 2746), ('rubbish', 2747), ('largely', 2748), ('lung', 2749), ('potentially', 2750), ('mini', 2751), ('aggressive', 2752), ('tiredness', 2753), ('verse', 2754), ('tourist', 2755), ('jewelry', 2756), ('region', 2757), ('tag', 2758), ('jean', 2759), ('dancer', 2760), ('mask', 2761), ('rejection', 2762), ('pie', 2763), ('accidentally', 2764), ('boundary', 2765), ('boost', 2766), ('upload', 2767), ('cafe', 2768), ('puzzle', 2769), ('explanation', 2770), ('french', 2771), ('specifically', 2772), ('seed', 2773), ('trap', 2774), ('client', 2775), ('extreme', 2776), ('stir', 2777), ('uncertainty', 2778), ('lifetime', 2779), ('distant', 2780), ('creation', 2781), ('publisher', 2782), ('intelligence', 2783), ('disease', 2784), ('chris', 2785), ('misunderstood', 2786), ('bounce', 2787), ('brow', 2788), ('steve', 2789), ('pagetitle', 2790), ('tim', 2791), ('cheerful', 2792), ('amongst', 2793), ('anti', 2794), ('attribute', 2795), ('powerless', 2796), ('pained', 2797), ('hah', 2798), ('labor', 2799), ('famous', 2800), ('japanese', 2801), ('https', 2802), ('hip', 2803), ('anime', 2804), ('disgusting', 2805), ('lightly', 2806), ('despise', 2807), ('mildly', 2808), ('unexpected', 2809), ('obtain', 2810), ('ish', 2811), ('achievement', 2812), ('account', 2813), ('whoever', 2814), ('central', 2815), ('neighborhood', 2816), ('sweep', 2817), ('immature', 2818), ('empower', 2819), ('practically', 2820), ('empathize', 2821), ('pro', 2822), ('inform', 2823), ('mindset', 2824), ('soup', 2825), ('uneasy', 2826), ('pillow', 2827), ('rice', 2828), ('er', 2829), ('scan', 2830), ('instruction', 2831), ('investment', 2832), ('stem', 2833), ('sooo', 2834), ('darkness', 2835), ('aid', 2836), ('lense', 2837), ('stupefy', 2838), ('lily', 2839), ('hotel', 2840), ('yearn', 2841), ('submit', 2842), ('irritate', 2843), ('downright', 2844), ('bubble', 2845), ('unhealthy', 2846), ('association', 2847), ('economy', 2848), ('stressful', 2849), ('vigorous', 2850), ('transform', 2851), ('consumer', 2852), ('dramatic', 2853), ('discomfort', 2854), ('paris', 2855), ('unit', 2856), ('whim', 2857), ('establish', 2858), ('drawing', 2859), ('dizzy', 2860), ('seven', 2861), ('giggle', 2862), ('info', 2863), ('farm', 2864), ('reflection', 2865), ('twist', 2866), ('knot', 2867), ('philosophy', 2868), ('treadmill', 2869), ('critical', 2870), ('easter', 2871), ('choir', 2872), ('taylor', 2873), ('curiosity', 2874), ('exit', 2875), ('severely', 2876), ('roommate', 2877), ('woebegone', 2878), ('wee', 2879), ('gently', 2880), ('notion', 2881), ('greatly', 2882), ('sexually', 2883), ('te', 2884), ('articulate', 2885), ('importantly', 2886), ('traitor', 2887), ('numerous', 2888), ('lugubrious', 2889), ('noise', 2890), ('behalf', 2891), ('recognise', 2892), ('subside', 2893), ('gleeful', 2894), ('dessert', 2895), ('youngster', 2896), ('label', 2897), ('campaign', 2898), ('dragon', 2899), ('resort', 2900), ('interact', 2901), ('traffic', 2902), ('extraordinarily', 2903), ('flick', 2904), ('collect', 2905), ('paranoia', 2906), ('prior', 2907), ('setting', 2908), ('morally', 2909), ('dan', 2910), ('expense', 2911), ('cheese', 2912), ('quietly', 2913), ('skip', 2914), ('serenity', 2915), ('heavily', 2916), ('brew', 2917), ('european', 2918), ('resolution', 2919), ('cheated', 2920), ('meditate', 2921), ('india', 2922), ('closure', 2923), ('preparation', 2924), ('prom', 2925), ('via', 2926), ('favor', 2927), ('princess', 2928), ('verge', 2929), ('afterward', 2930), ('permanently', 2931), ('possession', 2932), ('planning', 2933), ('misery', 2934), ('italian', 2935), ('continually', 2936), ('stride', 2937), ('succumb', 2938), ('oppose', 2939), ('daddy', 2940), ('network', 2941), ('script', 2942), ('brief', 2943), ('anna', 2944), ('rescue', 2945), ('vegan', 2946), ('distraction', 2947), ('surge', 2948), ('bewild', 2949), ('span', 2950), ('inevitably', 2951), ('user', 2952), ('bang', 2953), ('hardcore', 2954), ('senior', 2955), ('heartbreak', 2956), ('hardship', 2957), ('journalist', 2958), ('pill', 2959), ('anne', 2960), ('chain', 2961), ('gradually', 2962), ('halfway', 2963), ('discovery', 2964), ('deem', 2965), ('sadly', 2966), ('stuck', 2967), ('tradition', 2968), ('contribution', 2969), ('endeavor', 2970), ('loser', 2971), ('genuine', 2972), ('sacrifice', 2973), ('slap', 2974), ('emily', 2975), ('enthusiasm', 2976), ('tom', 2977), ('petrified', 2978), ('acutely', 2979), ('cop', 2980), ('grocery', 2981), ('nausea', 2982), ('transfer', 2983), ('category', 2984), ('grieve', 2985), ('seldom', 2986), ('twenty', 2987), ('privilege', 2988), ('sam', 2989), ('sa', 2990), ('effective', 2991), ('wonderfully', 2992), ('virus', 2993), ('mail', 2994), ('addition', 2995), ('nonetheless', 2996), ('declare', 2997), ('scatter', 2998), ('crunch', 2999), ('shallow', 3000), ('choke', 3001), ('collar', 3002), ('snobbish', 3003), ('puzzlement', 3004), ('realistic', 3005), ('surrounding', 3006), ('porn', 3007), ('singe', 3008), ('warning', 3009), ('cell', 3010), ('latter', 3011), ('costume', 3012), ('anniversary', 3013), ('stash', 3014), ('whereas', 3015), ('execute', 3016), ('organization', 3017), ('handful', 3018), ('offensive', 3019), ('apologise', 3020), ('crew', 3021), ('soothe', 3022), ('captain', 3023), ('cringe', 3024), ('dancing', 3025), ('hire', 3026), ('withdraw', 3027), ('moan', 3028), ('logic', 3029), ('trick', 3030), ('trigger', 3031), ('agitat', 3032), ('learning', 3033), ('sauce', 3034), ('politician', 3035), ('january', 3036), ('select', 3037), ('elat', 3038), ('disillusion', 3039), ('antsy', 3040), ('piano', 3041), ('width', 3042), ('addict', 3043), ('courage', 3044), ('income', 3045), ('tiger', 3046), ('sometime', 3047), ('demon', 3048), ('bug', 3049), ('korean', 3050), ('darn', 3051), ('cancel', 3052), ('michael', 3053), ('harsh', 3054), ('starter', 3055), ('ta', 3056), ('richard', 3057), ('september', 3058), ('weep', 3059), ('egg', 3060), ('complaint', 3061), ('empathy', 3062), ('esteem', 3063), ('sheet', 3064), ('perfume', 3065), ('decade', 3066), ('boob', 3067), ('embarrass', 3068), ('existence', 3069), ('supporter', 3070), ('fog', 3071), ('coworker', 3072), ('conduct', 3073), ('bah', 3074), ('parenting', 3075), ('youtube', 3076), ('sickness', 3077), ('confusion', 3078), ('whip', 3079), ('mixed', 3080), ('bruise', 3081), ('diary', 3082), ('despondenc', 3083), ('motivate', 3084), ('zombie', 3085), ('xd', 3086), ('household', 3087), ('hunting', 3088), ('candy', 3089), ('humor', 3090), ('cyber', 3091), ('restore', 3092), ('sweater', 3093), ('virginia', 3094), ('overseas', 3095), ('border', 3096), ('bundle', 3097), ('charles', 3098), ('disagree', 3099), ('exhilarate', 3100), ('san', 3101), ('partially', 3102), ('quest', 3103), ('picnic', 3104), ('scratch', 3105), ('melt', 3106), ('envy', 3107), ('needle', 3108), ('golden', 3109), ('childish', 3110), ('mud', 3111), ('glory', 3112), ('plastic', 3113), ('proper', 3114), ('dvd', 3115), ('bold', 3116), ('overload', 3117), ('entertainment', 3118), ('ryan', 3119), ('anguis', 3120), ('sloth', 3121), ('widow', 3122), ('criticism', 3123), ('necessarily', 3124), ('hormone', 3125), ('al', 3126), ('divorce', 3127), ('web', 3128), ('haul', 3129), ('crestfallen', 3130), ('fortune', 3131), ('patrick', 3132), ('tickle', 3133), ('virtual', 3134), ('revenge', 3135), ('norm', 3136), ('mainly', 3137), ('upper', 3138), ('flaw', 3139), ('worship', 3140), ('december', 3141), ('protein', 3142), ('confrontation', 3143), ('contest', 3144), ('eyelid', 3145), ('blur', 3146), ('james', 3147), ('tap', 3148), ('definately', 3149), ('dose', 3150), ('compromise', 3151), ('chaos', 3152), ('impose', 3153), ('todd', 3154), ('scott', 3155), ('dramatically', 3156), ('heap', 3157), ('nurture', 3158), ('sofa', 3159), ('dip', 3160), ('ray', 3161), ('stamp', 3162), ('strive', 3163), ('glare', 3164), ('slack', 3165), ('bush', 3166), ('min', 3167), ('spell', 3168), ('fifteen', 3169), ('flee', 3170), ('tomato', 3171), ('condemn', 3172), ('farmer', 3173), ('accessory', 3174), ('distinctly', 3175), ('wa', 3176), ('wi', 3177), ('flashback', 3178), ('reception', 3179), ('rapidly', 3180), ('stair', 3181), ('whiny', 3182), ('route', 3183), ('rachel', 3184), ('nagging', 3185), ('internal', 3186), ('cr', 3187), ('command', 3188), ('killer', 3189), ('tease', 3190), ('sweaty', 3191), ('firmly', 3192), ('stream', 3193), ('union', 3194), ('policy', 3195), ('neighbour', 3196), ('thereby', 3197), ('ca', 3198), ('mama', 3199), ('hunt', 3200), ('weary', 3201), ('unfair', 3202), ('evil', 3203), ('stre', 3204), ('texte', 3205), ('anatomy', 3206), ('professor', 3207), ('lj', 3208), ('sm', 3209), ('communication', 3210), ('nowadays', 3211), ('stereotype', 3212), ('multiple', 3213), ('tape', 3214), ('darling', 3215), ('automatically', 3216), ('royal', 3217), ('inferior', 3218), ('false', 3219), ('dejection', 3220), ('spanish', 3221), ('bf', 3222), ('butter', 3223), ('spice', 3224), ('typical', 3225), ('coope', 3226), ('hatred', 3227), ('arrange', 3228), ('roast', 3229), ('em', 3230), ('opposition', 3231), ('gate', 3232), ('hook', 3233), ('echo', 3234), ('jordan', 3235), ('league', 3236), ('goddamn', 3237), ('essential', 3238), ('carefully', 3239), ('governor', 3240), ('victory', 3241), ('profoundly', 3242), ('virgin', 3243), ('sue', 3244), ('jeremy', 3245), ('meaningless', 3246), ('downcas', 3247), ('ultimate', 3248), ('operation', 3249), ('thursday', 3250), ('admiration', 3251), ('primary', 3252), ('devil', 3253), ('terror', 3254), ('enthral', 3255), ('pencil', 3256), ('skirt', 3257), ('desperation', 3258), ('eve', 3259), ('permanent', 3260), ('elevator', 3261), ('tail', 3262), ('enjoyable', 3263), ('fleeting', 3264), ('motherhood', 3265), ('interaction', 3266), ('wax', 3267), ('split', 3268), ('nutrition', 3269), ('classmate', 3270), ('passenger', 3271), ('evoke', 3272), ('disability', 3273), ('engagement', 3274), ('angle', 3275), ('sarah', 3276), ('era', 3277), ('bow', 3278), ('fairy', 3279), ('accomplished', 3280), ('obsession', 3281), ('broken', 3282), ('agai', 3283), ('dawn', 3284), ('delivery', 3285), ('naked', 3286), ('lump', 3287), ('overwhelmingly', 3288), ('traditional', 3289), ('perception', 3290), ('cd', 3291), ('examination', 3292), ('mall', 3293), ('flood', 3294), ('newspaper', 3295), ('musician', 3296), ('someday', 3297), ('essentially', 3298), ('adjust', 3299), ('bomb', 3300), ('campus', 3301), ('gathering', 3302), ('legal', 3303), ('brim', 3304), ('manuscript', 3305), ('pump', 3306), ('outsider', 3307), ('vintage', 3308), ('donate', 3309), ('weave', 3310), ('grave', 3311), ('revelation', 3312), ('astoni', 3313), ('stitch', 3314), ('inch', 3315), ('shade', 3316), ('disney', 3317), ('clip', 3318), ('predictable', 3319), ('trusting', 3320), ('exhibition', 3321), ('attraction', 3322), ('defensive', 3323), ('protection', 3324), ('highschool', 3325), ('complicated', 3326), ('feedback', 3327), ('allergy', 3328), ('economic', 3329), ('civil', 3330), ('epic', 3331), ('actively', 3332), ('accuse', 3333), ('neighbor', 3334), ('resigned', 3335), ('diverse', 3336), ('subconsciously', 3337), ('plead', 3338), ('register', 3339), ('buck', 3340), ('sir', 3341), ('iv', 3342), ('separation', 3343), ('mate', 3344), ('yarn', 3345), ('rally', 3346), ('vibration', 3347), ('sequel', 3348), ('steam', 3349), ('bombing', 3350), ('whatsoever', 3351), ('editor', 3352), ('disqui', 3353), ('appreciation', 3354), ('hopelessness', 3355), ('sole', 3356), ('gaming', 3357), ('consciously', 3358), ('scenario', 3359), ('junior', 3360), ('engineer', 3361), ('mystery', 3362), ('lettuce', 3363), ('academic', 3364), ('tory', 3365), ('narrow', 3366), ('fuckin', 3367), ('munch', 3368), ('asian', 3369), ('therapist', 3370), ('cupcake', 3371), ('hasn', 3372), ('intimacy', 3373), ('relaxation', 3374), ('fling', 3375), ('assignment', 3376), ('kindly', 3377), ('uni', 3378), ('besides', 3379), ('intent', 3380), ('bitterness', 3381), ('legitimate', 3382), ('moody', 3383), ('profession', 3384), ('giveaway', 3385), ('unappreciated', 3386), ('caring', 3387), ('pursuit', 3388), ('resume', 3389), ('elder', 3390), ('amusem', 3391), ('fishing', 3392), ('enormous', 3393), ('garbage', 3394), ('milk', 3395), ('bob', 3396), ('glow', 3397), ('advocate', 3398), ('plague', 3399), ('maria', 3400), ('frame', 3401), ('lore', 3402), ('daniel', 3403), ('meditation', 3404), ('hollywood', 3405), ('blink', 3406), ('sacred', 3407), ('glamourous', 3408), ('patience', 3409), ('dissatisfy', 3410), ('pet', 3411), ('metaphor', 3412), ('lecture', 3413), ('visibly', 3414), ('thirty', 3415), ('stance', 3416), ('justin', 3417), ('bleed', 3418), ('reread', 3419), ('gamer', 3420), ('bunny', 3421), ('pointless', 3422), ('vexed', 3423), ('timing', 3424), ('chip', 3425), ('rob', 3426), ('legend', 3427), ('junk', 3428), ('robert', 3429), ('temporary', 3430), ('exci', 3431), ('alcohol', 3432), ('council', 3433), ('grandparent', 3434), ('evident', 3435), ('retrospect', 3436), ('analyze', 3437), ('station', 3438), ('conscience', 3439), ('spray', 3440), ('amorous', 3441), ('invitation', 3442), ('cap', 3443), ('joe', 3444), ('irrational', 3445), ('evaluate', 3446), ('arouse', 3447), ('uber', 3448), ('dissolve', 3449), ('native', 3450), ('indian', 3451), ('access', 3452), ('eating', 3453), ('pasta', 3454), ('attractive', 3455), ('stink', 3456), ('hubby', 3457), ('determination', 3458), ('radiation', 3459), ('quicker', 3460), ('agent', 3461), ('owe', 3462), ('yo', 3463), ('programming', 3464), ('village', 3465), ('reasonably', 3466), ('twin', 3467), ('gallery', 3468), ('believer', 3469), ('insecurity', 3470), ('lt', 3471), ('jackson', 3472), ('compete', 3473), ('blake', 3474), ('pocket', 3475), ('appropriate', 3476), ('package', 3477), ('afford', 3478), ('hype', 3479), ('await', 3480), ('hall', 3481), ('bewi', 3482), ('spider', 3483), ('nick', 3484), ('owl', 3485), ('bla', 3486), ('ken', 3487), ('disorient', 3488), ('candle', 3489), ('electric', 3490), ('depressive', 3491), ('truck', 3492), ('florida', 3493), ('typically', 3494), ('outrage', 3495), ('illusion', 3496), ('slice', 3497), ('marketing', 3498), ('epidural', 3499), ('fiance', 3500), ('scar', 3501), ('stack', 3502), ('swell', 3503), ('chil', 3504), ('athelstan', 3505), ('square', 3506), ('shortly', 3507), ('proposal', 3508), ('mi', 3509), ('embarrassment', 3510), ('tummy', 3511), ('marie', 3512), ('exhibit', 3513), ('existance', 3514), ('ordeal', 3515), ('rat', 3516), ('modigliani', 3517), ('whack', 3518), ('swift', 3519), ('lake', 3520), ('aussie', 3521), ('orchestra', 3522), ('appeal', 3523), ('hopelessly', 3524), ('prone', 3525), ('bullshit', 3526), ('salt', 3527), ('pole', 3528), ('stat', 3529), ('polish', 3530), ('tendency', 3531), ('cruel', 3532), ('elizabeth', 3533), ('subsequently', 3534), ('indign', 3535), ('benjamin', 3536), ('reinforce', 3537), ('emptiness', 3538), ('lemon', 3539), ('solely', 3540), ('instance', 3541), ('sponsor', 3542), ('slump', 3543), ('breed', 3544), ('soooo', 3545), ('clarity', 3546), ('comfortably', 3547), ('means', 3548), ('promotion', 3549), ('improvement', 3550), ('repair', 3551), ('joint', 3552), ('momentarily', 3553), ('thyroid', 3554), ('sock', 3555), ('finland', 3556), ('pulse', 3557), ('anguished', 3558), ('lighten', 3559), ('spare', 3560), ('adorable', 3561), ('arrangement', 3562), ('horrifi', 3563), ('swimming', 3564), ('define', 3565), ('representative', 3566), ('lab', 3567), ('tick', 3568), ('infertility', 3569), ('cure', 3570), ('practise', 3571), ('profit', 3572), ('maker', 3573), ('annual', 3574), ('hike', 3575), ('liberal', 3576), ('rip', 3577), ('oncologist', 3578), ('adrenaline', 3579), ('appalled', 3580), ('bat', 3581), ('transformation', 3582), ('trimester', 3583), ('thi', 3584), ('winner', 3585), ('resonate', 3586), ('privacy', 3587), ('quilting', 3588), ('safely', 3589), ('east', 3590), ('cage', 3591), ('eff', 3592), ('gel', 3593), ('duke', 3594), ('upside', 3595), ('mush', 3596), ('independent', 3597), ('jerk', 3598), ('muck', 3599), ('ho', 3600), ('refreshing', 3601), ('hello', 3602), ('profound', 3603), ('exaspera', 3604), ('times', 3605), ('sized', 3606), ('passionately', 3607), ('advertisement', 3608), ('veil', 3609), ('beef', 3610), ('frozen', 3611), ('happening', 3612), ('signal', 3613), ('initially', 3614), ('plea', 3615), ('q', 3616), ('prop', 3617), ('martin', 3618), ('remarkably', 3619), ('spontaneous', 3620), ('eternal', 3621), ('bridge', 3622), ('di', 3623), ('property', 3624), ('publishing', 3625), ('steady', 3626), ('alice', 3627), ('massage', 3628), ('blindly', 3629), ('injure', 3630), ('div', 3631), ('neutral', 3632), ('comparatively', 3633), ('frustrating', 3634), ('mindful', 3635), ('kit', 3636), ('apt', 3637), ('greatness', 3638), ('datum', 3639), ('underground', 3640), ('tribute', 3641), ('permalink', 3642), ('isolation', 3643), ('priest', 3644), ('dejected', 3645), ('allen', 3646), ('booth', 3647), ('despairing', 3648), ('slut', 3649), ('employee', 3650), ('politic', 3651), ('sample', 3652), ('dreamy', 3653), ('ecsta', 3654), ('plunge', 3655), ('desert', 3656), ('insignificant', 3657), ('iphone', 3658), ('sucker', 3659), ('handed', 3660), ('comfy', 3661), ('departure', 3662), ('milestone', 3663), ('aesthetic', 3664), ('aka', 3665), ('drip', 3666), ('fork', 3667), ('slave', 3668), ('bump', 3669), ('generate', 3670), ('bald', 3671), ('blonde', 3672), ('tire', 3673), ('rub', 3674), ('overshadow', 3675), ('tower', 3676), ('chew', 3677), ('ghost', 3678), ('ballet', 3679), ('remorse', 3680), ('deadline', 3681), ('dot', 3682), ('triumph', 3683), ('commitment', 3684), ('confront', 3685), ('prick', 3686), ('evolve', 3687), ('frequency', 3688), ('grass', 3689), ('envelope', 3690), ('ste', 3691), ('cent', 3692), ('selection', 3693), ('linger', 3694), ('diamond', 3695), ('stiff', 3696), ('priority', 3697), ('row', 3698), ('scientist', 3699), ('immerse', 3700), ('sinus', 3701), ('furniture', 3702), ('concert', 3703), ('counter', 3704), ('sis', 3705), ('backyard', 3706), ('essence', 3707), ('consistent', 3708), ('mundane', 3709), ('secondary', 3710), ('deepen', 3711), ('linux', 3712), ('platform', 3713), ('heaven', 3714), ('following', 3715), ('trailer', 3716), ('ma', 3717), ('terrorstricken', 3718), ('employ', 3719), ('encouragement', 3720), ('dismiss', 3721), ('weapon', 3722), ('wah', 3723), ('clay', 3724), ('hers', 3725), ('knight', 3726), ('grit', 3727), ('lounge', 3728), ('employer', 3729), ('injustice', 3730), ('calf', 3731), ('yellow', 3732), ('sour', 3733), ('dorky', 3734), ('tutorial', 3735), ('donut', 3736), ('decorate', 3737), ('awe', 3738), ('gladly', 3739), ('pierce', 3740), ('fold', 3741), ('bloody', 3742), ('greed', 3743), ('ensure', 3744), ('thread', 3745), ('hesitate', 3746), ('sting', 3747), ('specie', 3748), ('insincere', 3749), ('recreate', 3750), ('diminish', 3751), ('awkwardness', 3752), ('math', 3753), ('module', 3754), ('peep', 3755), ('dedicate', 3756), ('mutual', 3757), ('zealand', 3758), ('seam', 3759), ('foul', 3760), ('impolite', 3761), ('alien', 3762), ('xmas', 3763), ('massively', 3764), ('bully', 3765), ('portrayal', 3766), ('likeable', 3767), ('thrilling', 3768), ('drinking', 3769), ('chief', 3770), ('mislead', 3771), ('june', 3772), ('trade', 3773), ('puzz', 3774), ('jason', 3775), ('kim', 3776), ('profile', 3777), ('cube', 3778), ('heaviness', 3779), ('dun', 3780), ('whore', 3781), ('technology', 3782), ('darle', 3783), ('zoom', 3784), ('temporarily', 3785), ('palm', 3786), ('duck', 3787), ('hyper', 3788), ('stock', 3789), ('remarkable', 3790), ('overjoyed', 3791), ('unsafe', 3792), ('marvelous', 3793), ('hearing', 3794), ('upstairs', 3795), ('careful', 3796), ('unusual', 3797), ('noisy', 3798), ('wrongly', 3799), ('reward', 3800), ('entrance', 3801), ('toll', 3802), ('vow', 3803), ('bell', 3804), ('hong', 3805), ('kong', 3806), ('psychotic', 3807), ('theater', 3808), ('cashier', 3809), ('cleanse', 3810), ('grieving', 3811), ('shatter', 3812), ('li', 3813), ('ginger', 3814), ('stray', 3815), ('formula', 3816), ('daycare', 3817), ('stable', 3818), ('decently', 3819), ('giving', 3820), ('imply', 3821), ('assistance', 3822), ('humility', 3823), ('dh', 3824), ('intentionally', 3825), ('independence', 3826), ('custom', 3827), ('appropriately', 3828), ('sensible', 3829), ('inadequacy', 3830), ('exception', 3831), ('metal', 3832), ('supermarket', 3833), ('remotely', 3834), ('dick', 3835), ('apathy', 3836), ('cling', 3837), ('national', 3838), ('dependent', 3839), ('forehead', 3840), ('toddler', 3841), ('insensitive', 3842), ('proclaim', 3843), ('crumble', 3844), ('confession', 3845), ('da', 3846), ('chatter', 3847), ('jersey', 3848), ('negativity', 3849), ('teary', 3850), ('clench', 3851), ('schoolgirl', 3852), ('lick', 3853), ('lipstick', 3854), ('indicate', 3855), ('grumble', 3856), ('intellectual', 3857), ('breastfeed', 3858), ('blush', 3859), ('fuel', 3860), ('sleepy', 3861), ('amsterdam', 3862), ('teammate', 3863), ('anthony', 3864), ('commercial', 3865), ('ethic', 3866), ('loyalty', 3867), ('german', 3868), ('wire', 3869), ('idol', 3870), ('rack', 3871), ('pee', 3872), ('teaching', 3873), ('quarrel', 3874), ('rating', 3875), ('deodorant', 3876), ('underneath', 3877), ('readily', 3878), ('predict', 3879), ('jones', 3880), ('woeful', 3881), ('thai', 3882), ('deeper', 3883), ('intellect', 3884), ('literature', 3885), ('absurd', 3886), ('bind', 3887), ('analyse', 3888), ('insane', 3889), ('prep', 3890), ('unity', 3891), ('rose', 3892), ('extended', 3893), ('sickening', 3894), ('stupidity', 3895), ('quo', 3896), ('smoothly', 3897), ('marvel', 3898), ('maggie', 3899), ('accommodate', 3900), ('gigantic', 3901), ('monster', 3902), ('saint', 3903), ('naive', 3904), ('barrier', 3905), ('devotee', 3906), ('legacy', 3907), ('ancient', 3908), ('element', 3909), ('momo', 3910), ('hmmm', 3911), ('url', 3912), ('assert', 3913), ('clutter', 3914), ('prisoner', 3915), ('survey', 3916), ('moisturizer', 3917), ('comeback', 3918), ('panel', 3919), ('purple', 3920), ('nake', 3921), ('guarantee', 3922), ('convey', 3923), ('confirm', 3924), ('absence', 3925), ('empathetic', 3926), ('grown', 3927), ('miffed', 3928), ('foster', 3929), ('teenage', 3930), ('twelve', 3931), ('cartoon', 3932), ('translate', 3933), ('exhaustion', 3934), ('shelf', 3935), ('roller', 3936), ('coaster', 3937), ('river', 3938), ('severe', 3939), ('trash', 3940), ('disabled', 3941), ('unlove', 3942), ('siren', 3943), ('mummy', 3944), ('george', 3945), ('voic', 3946), ('february', 3947), ('gary', 3948), ('cubicle', 3949), ('mac', 3950), ('outdoors', 3951), ('racism', 3952), ('calling', 3953), ('hurry', 3954), ('cave', 3955), ('mentality', 3956), ('fantasy', 3957), ('oscar', 3958), ('going', 3959), ('fierce', 3960), ('crystal', 3961), ('etsy', 3962), ('wallet', 3963), ('subconscious', 3964), ('sparkle', 3965), ('dining', 3966), ('luggage', 3967), ('expand', 3968), ('breaking', 3969), ('spoil', 3970), ('republic', 3971), ('notebook', 3972), ('wince', 3973), ('twinge', 3974), ('vo', 3975), ('potter', 3976), ('deck', 3977), ('publicity', 3978), ('ignorant', 3979), ('jan', 3980), ('baptize', 3981), ('inconsolable', 3982), ('consideration', 3983), ('encompass', 3984), ('harmful', 3985), ('countless', 3986), ('stupefaction', 3987), ('cranston', 3988), ('panicky', 3989), ('landscape', 3990), ('poke', 3991), ('benedict', 3992), ('frank', 3993), ('enable', 3994), ('whining', 3995), ('needlessly', 3996), ('melody', 3997), ('heartbeat', 3998), ('strengthen', 3999), ('su', 4000), ('addiction', 4001), ('nudge', 4002), ('continuous', 4003), ('inconsolabl', 4004), ('hobby', 4005), ('discount', 4006), ('finance', 4007), ('maternal', 4008), ('brat', 4009), ('volume', 4010), ('matt', 4011), ('watcher', 4012), ('wrist', 4013), ('balanced', 4014), ('warehouse', 4015), ('observer', 4016), ('management', 4017), ('refuge', 4018), ('chaotic', 4019), ('celebrity', 4020), ('z', 4021), ('kissing', 4022), ('preferably', 4023), ('attachment', 4024), ('squad', 4025), ('fluid', 4026), ('invasion', 4027), ('heartache', 4028), ('passing', 4029), ('artwork', 4030), ('decoration', 4031), ('slam', 4032), ('convention', 4033), ('eyebrow', 4034), ('bin', 4035), ('agreement', 4036), ('rep', 4037), ('spit', 4038), ('hypocrite', 4039), ('wherever', 4040), ('annoya', 4041), ('shiny', 4042), ('sober', 4043), ('teddy', 4044), ('thrift', 4045), ('psychologist', 4046), ('listener', 4047), ('ironic', 4048), ('albeit', 4049), ('adjustment', 4050), ('telephone', 4051), ('leadership', 4052), ('liz', 4053), ('baseball', 4054), ('lisa', 4055), ('mightily', 4056), ('impressive', 4057), ('corpse', 4058), ('excess', 4059), ('benign', 4060), ('device', 4061), ('fluster', 4062), ('scripture', 4063), ('raid', 4064), ('tantrum', 4065), ('sympathize', 4066), ('muffin', 4067), ('indication', 4068), ('agency', 4069), ('unnatural', 4070), ('monitor', 4071), ('reckon', 4072), ('elaine', 4073), ('ali', 4074), ('wicked', 4075), ('fiercely', 4076), ('numbness', 4077), ('intimate', 4078), ('ey', 4079), ('annoyingly', 4080), ('texture', 4081), ('jamie', 4082), ('veggie', 4083), ('suspense', 4084), ('geek', 4085), ('sh', 4086), ('usa', 4087), ('ingredient', 4088), ('finding', 4089), ('cease', 4090), ('bipolar', 4091), ('rider', 4092), ('autumn', 4093), ('bewildered', 4094), ('united', 4095), ('convenience', 4096), ('condescending', 4097), ('australia', 4098), ('oily', 4099), ('prompt', 4100), ('annum', 4101), ('trauma', 4102), ('nuclear', 4103), ('shove', 4104), ('pig', 4105), ('girly', 4106), ('outing', 4107), ('conspiracy', 4108), ('genius', 4109), ('historical', 4110), ('flesh', 4111), ('cliff', 4112), ('pinch', 4113), ('counsel', 4114), ('commuter', 4115), ('missionary', 4116), ('ellie', 4117), ('sidewalk', 4118), ('provoke', 4119), ('tissue', 4120), ('error', 4121), ('hum', 4122), ('solo', 4123), ('transport', 4124), ('vomit', 4125), ('disaster', 4126), ('pat', 4127), ('jo', 4128), ('purely', 4129), ('shimmer', 4130), ('immediate', 4131), ('sew', 4132), ('syndrome', 4133), ('burger', 4134), ('crying', 4135), ('jenny', 4136), ('honesty', 4137), ('kava', 4138), ('vulnerability', 4139), ('worldly', 4140), ('gloom', 4141), ('adapt', 4142), ('exploit', 4143), ('perry', 4144), ('moreover', 4145), ('meanwhile', 4146), ('situati', 4147), ('mineral', 4148), ('pretentious', 4149), ('loathe', 4150), ('entertained', 4151), ('visible', 4152), ('mock', 4153), ('feeble', 4154), ('ruth', 4155), ('western', 4156), ('si', 4157), ('cruz', 4158), ('bracelet', 4159), ('destiny', 4160), ('nicola', 4161), ('marvellous', 4162), ('upcoming', 4163), ('michelle', 4164), ('elderly', 4165), ('pillar', 4166), ('setback', 4167), ('tumblr', 4168), ('instagram', 4169), ('vast', 4170), ('respectful', 4171), ('getaway', 4172), ('relish', 4173), ('grain', 4174), ('theirs', 4175), ('rinse', 4176), ('cotton', 4177), ('overdo', 4178), ('snug', 4179), ('socialise', 4180), ('creatively', 4181), ('passage', 4182), ('haze', 4183), ('legitimately', 4184), ('sombre', 4185), ('irma', 4186), ('forest', 4187), ('clutch', 4188), ('apostrophe', 4189), ('limited', 4190), ('garment', 4191), ('organisation', 4192), ('ipod', 4193), ('recession', 4194), ('bee', 4195), ('advertising', 4196), ('randomly', 4197), ('smack', 4198), ('racist', 4199), ('quirky', 4200), ('eighty', 4201), ('forgiveness', 4202), ('berry', 4203), ('crampy', 4204), ('assumption', 4205), ('cloudy', 4206), ('conclude', 4207), ('hom', 4208), ('xanax', 4209), ('suffocated', 4210), ('nicer', 4211), ('costly', 4212), ('turkey', 4213), ('manipulate', 4214), ('traumatic', 4215), ('combat', 4216), ('corporate', 4217), ('parallel', 4218), ('walking', 4219), ('shiver', 4220), ('spine', 4221), ('soap', 4222), ('eric', 4223), ('pizza', 4224), ('slope', 4225), ('sunrise', 4226), ('athletic', 4227), ('perfection', 4228), ('hurricane', 4229), ('madness', 4230), ('richness', 4231), ('mandarin', 4232), ('allowfullscreen', 4233), ('whoop', 4234), ('unbearably', 4235), ('downhearte', 4236), ('nominate', 4237), ('gosh', 4238), ('beast', 4239), ('feminist', 4240), ('polar', 4241), ('july', 4242), ('vice', 4243), ('amaze', 4244), ('vexat', 4245), ('collapse', 4246), ('tunnel', 4247), ('jar', 4248), ('godly', 4249), ('nonp', 4250), ('carrot', 4251), ('indulgent', 4252), ('stew', 4253), ('violate', 4254), ('engine', 4255), ('pinterest', 4256), ('minority', 4257), ('shelter', 4258), ('germans', 4259), ('elementary', 4260), ('buzz', 4261), ('unusually', 4262), ('abdoman', 4263), ('hon', 4264), ('gentleman', 4265), ('miller', 4266), ('interrupt', 4267), ('oregon', 4268), ('courthouse', 4269), ('betrayal', 4270), ('coming', 4271), ('hangover', 4272), ('standing', 4273), ('midterm', 4274), ('morbid', 4275), ('immigrant', 4276), ('download', 4277), ('thirsty', 4278), ('prejudice', 4279), ('inspect', 4280), ('pl', 4281), ('feast', 4282), ('prompting', 4283), ('destine', 4284), ('bitterly', 4285), ('mormon', 4286), ('instill', 4287), ('goddess', 4288), ('bye', 4289), ('recognition', 4290), ('tabby', 4291), ('sniffle', 4292), ('channel', 4293), ('roberts', 4294), ('euphoria', 4295), ('onset', 4296), ('programme', 4297), ('percieve', 4298), ('unsavory', 4299), ('padding', 4300), ('threat', 4301), ('mariana', 4302), ('italy', 4303), ('queasy', 4304), ('population', 4305), ('australian', 4306), ('kay', 4307), ('borrow', 4308), ('sai', 4309), ('quantity', 4310), ('deceive', 4311), ('loop', 4312), ('lest', 4313), ('portion', 4314), ('murmur', 4315), ('military', 4316), ('dave', 4317), ('paralysed', 4318), ('beneficial', 4319), ('specially', 4320), ('accurately', 4321), ('satisfy', 4322), ('kg', 4323), ('mull', 4324), ('christopher', 4325), ('spark', 4326), ('casually', 4327), ('fitting', 4328), ('judgement', 4329), ('fascination', 4330), ('lure', 4331), ('eco', 4332), ('knitting', 4333), ('myspace', 4334), ('katy', 4335), ('obama', 4336), ('brake', 4337), ('lower', 4338), ('eternally', 4339), ('allah', 4340), ('suspicion', 4341), ('slumber', 4342), ('exhausting', 4343), ('repetition', 4344), ('showing', 4345), ('literary', 4346), ('caregiver', 4347), ('electricity', 4348), ('hurtful', 4349), ('wales', 4350), ('organise', 4351), ('laurie', 4352), ('noone', 4353), ('del', 4354), ('sluggish', 4355), ('memorize', 4356), ('corps', 4357), ('accent', 4358), ('wrestle', 4359), ('pb', 4360), ('shuffle', 4361), ('wp', 4362), ('gaia', 4363), ('twitchy', 4364), ('knife', 4365), ('browse', 4366), ('recording', 4367), ('anyways', 4368), ('scissor', 4369), ('inconvenience', 4370), ('homeless', 4371), ('reddit', 4372), ('abandonment', 4373), ('majorly', 4374), ('visual', 4375), ('gratification', 4376), ('rouge', 4377), ('likelihood', 4378), ('throbbing', 4379), ('cock', 4380), ('pantie', 4381), ('voter', 4382), ('aa', 4383), ('scrutiny', 4384), ('insert', 4385), ('global', 4386), ('vocal', 4387), ('spy', 4388), ('communal', 4389), ('supervision', 4390), ('regulation', 4391), ('incapable', 4392), ('labour', 4393), ('mayhem', 4394), ('advise', 4395), ('gnaw', 4396), ('solemn', 4397), ('sleeve', 4398), ('stimulate', 4399), ('cynical', 4400), ('survivor', 4401), ('consecutive', 4402), ('poo', 4403), ('attain', 4404), ('hehe', 4405), ('memoir', 4406), ('micah', 4407), ('obstacle', 4408), ('federal', 4409), ('dialog', 4410), ('trophy', 4411), ('beam', 4412), ('hunger', 4413), ('chi', 4414), ('flowy', 4415), ('boo', 4416), ('wildly', 4417), ('politely', 4418), ('minimal', 4419), ('groan', 4420), ('cara', 4421), ('corn', 4422), ('thru', 4423), ('secretary', 4424), ('dublin', 4425), ('arch', 4426), ('incense', 4427), ('socialist', 4428), ('equivalent', 4429), ('aversion', 4430), ('outer', 4431), ('affirmation', 4432), ('integrate', 4433), ('deed', 4434), ('andrea', 4435), ('disconnect', 4436), ('cautious', 4437), ('hack', 4438), ('inclined', 4439), ('genetic', 4440), ('rash', 4441), ('fulfillment', 4442), ('flirt', 4443), ('councillor', 4444), ('lull', 4445), ('recoil', 4446), ('soundtrack', 4447), ('dazzle', 4448), ('trouser', 4449), ('peak', 4450), ('belonging', 4451), ('lit', 4452), ('pedestrian', 4453), ('ana', 4454), ('mantra', 4455), ('wistful', 4456), ('agony', 4457), ('penis', 4458), ('scrap', 4459), ('protagonist', 4460), ('racing', 4461), ('ailment', 4462), ('preform', 4463), ('icy', 4464), ('formal', 4465), ('fireplace', 4466), ('relive', 4467), ('riot', 4468), ('trainer', 4469), ('remedy', 4470), ('aggravated', 4471), ('diagnosis', 4472), ('imminent', 4473), ('weekly', 4474), ('minimum', 4475), ('servant', 4476), ('flame', 4477), ('sunlight', 4478), ('unreasonable', 4479), ('retire', 4480), ('kin', 4481), ('openly', 4482), ('sideline', 4483), ('loner', 4484), ('subtle', 4485), ('conducive', 4486), ('unattractive', 4487), ('slate', 4488), ('distinct', 4489), ('operate', 4490), ('splash', 4491), ('nearby', 4492), ('fingernail', 4493), ('pertain', 4494), ('making', 4495), ('daunt', 4496), ('nigel', 4497), ('footing', 4498), ('bliss', 4499), ('disrespected', 4500), ('jake', 4501), ('windy', 4502), ('lane', 4503), ('photographer', 4504), ('exclusively', 4505), ('j', 4506), ('deaf', 4507), ('masse', 4508), ('ship', 4509), ('emotionless', 4510), ('mumble', 4511), ('port', 4512), ('occupy', 4513), ('comic', 4514), ('taco', 4515), ('fridge', 4516), ('vibrant', 4517), ('enthusiastic', 4518), ('fascinate', 4519), ('serif', 4520), ('apron', 4521), ('disclaimer', 4522), ('ignorance', 4523), ('canadian', 4524), ('hollow', 4525), ('hockey', 4526), ('belt', 4527), ('tighten', 4528), ('chemistry', 4529), ('dignity', 4530), ('freely', 4531), ('evolution', 4532), ('barbie', 4533), ('europe', 4534), ('blossom', 4535), ('disservice', 4536), ('pore', 4537), ('expr', 4538), ('destructive', 4539), ('tote', 4540), ('chore', 4541), ('sarcasm', 4542), ('branch', 4543), ('tide', 4544), ('implement', 4545), ('boil', 4546), ('overtake', 4547), ('dd', 4548), ('le', 4549), ('duct', 4550), ('equation', 4551), ('jewellery', 4552), ('facial', 4553), ('invariably', 4554), ('diplomatic', 4555), ('cre', 4556), ('layout', 4557), ('differ', 4558), ('guard', 4559), ('possess', 4560), ('compensate', 4561), ('philippines', 4562), ('disrupt', 4563), ('mouse', 4564), ('tshirt', 4565), ('revisit', 4566), ('stud', 4567), ('courageous', 4568), ('exhilaration', 4569), ('flag', 4570), ('aftermath', 4571), ('laura', 4572), ('fashioned', 4573), ('creepy', 4574), ('query', 4575), ('bearable', 4576), ('yash', 4577), ('mexican', 4578), ('simplicity', 4579), ('favour', 4580), ('max', 4581), ('flutter', 4582), ('repercussion', 4583), ('affected', 4584), ('overpower', 4585), ('pete', 4586), ('smoothie', 4587), ('courtesy', 4588), ('saying', 4589), ('haiku', 4590), ('basket', 4591), ('storage', 4592), ('bull', 4593), ('slug', 4594), ('inherent', 4595), ('paralysis', 4596), ('sketch', 4597), ('upbeat', 4598), ('impending', 4599), ('montana', 4600), ('wor', 4601), ('bent', 4602), ('penn', 4603), ('virtually', 4604), ('km', 4605), ('inevitable', 4606), ('mob', 4607), ('backward', 4608), ('grandchild', 4609), ('reporter', 4610), ('martha', 4611), ('transcend', 4612), ('cruise', 4613), ('doc', 4614), ('gospel', 4615), ('iron', 4616), ('snob', 4617), ('xxx', 4618), ('speaker', 4619), ('offering', 4620), ('wayne', 4621), ('trace', 4622), ('oneself', 4623), ('passport', 4624), ('introduction', 4625), ('patch', 4626), ('caress', 4627), ('tangle', 4628), ('uninteresting', 4629), ('pushy', 4630), ('desponden', 4631), ('flare', 4632), ('wiggle', 4633), ('bunk', 4634), ('dial', 4635), ('ro', 4636), ('mechanical', 4637), ('williams', 4638), ('wholly', 4639), ('bi', 4640), ('auto', 4641), ('sift', 4642), ('peeve', 4643), ('barrage', 4644), ('sleepless', 4645), ('acquaintance', 4646), ('alert', 4647), ('stadium', 4648), ('joshua', 4649), ('josh', 4650), ('tr', 4651), ('lawyer', 4652), ('mill', 4653), ('verdict', 4654), ('alain', 4655), ('annie', 4656), ('pastor', 4657), ('homemade', 4658), ('pure', 4659), ('correct', 4660), ('doodle', 4661), ('energize', 4662), ('examine', 4663), ('legion', 4664), ('consolation', 4665), ('thief', 4666), ('fur', 4667), ('tango', 4668), ('nude', 4669), ('hilarious', 4670), ('narrator', 4671), ('faux', 4672), ('leap', 4673), ('clarify', 4674), ('announcement', 4675), ('withdrawal', 4676), ('protective', 4677), ('banter', 4678), ('faint', 4679), ('replacement', 4680), ('sincerity', 4681), ('vague', 4682), ('primer', 4683), ('terrorist', 4684), ('kidnap', 4685), ('relevant', 4686), ('mary', 4687), ('elect', 4688), ('belittle', 4689), ('soccer', 4690), ('showcase', 4691), ('acquire', 4692), ('monastery', 4693), ('los', 4694), ('angeles', 4695), ('france', 4696), ('bam', 4697), ('mercy', 4698), ('flop', 4699), ('restricted', 4700), ('quicken', 4701), ('israel', 4702), ('emphasize', 4703), ('qualified', 4704), ('abide', 4705), ('disciple', 4706), ('tang', 4707), ('10', 4708), ('impractical', 4709), ('bod', 4710), ('unease', 4711), ('bbq', 4712), ('festival', 4713), ('salon', 4714), ('pal', 4715), ('enrich', 4716), ('spirituality', 4717), ('continuously', 4718), ('lace', 4719), ('connected', 4720), ('authentic', 4721), ('nephew', 4722), ('lessen', 4723), ('column', 4724), ('interpretation', 4725), ('trend', 4726), ('impatience', 4727), ('whale', 4728), ('dissect', 4729), ('stanza', 4730), ('moss', 4731), ('scotland', 4732), ('irrelevant', 4733), ('sweetheart', 4734), ('ra', 4735), ('polite', 4736), ('devour', 4737), ('julie', 4738), ('bridesmaid', 4739), ('beating', 4740), ('unrealistic', 4741), ('awa', 4742), ('thumb', 4743), ('ponder', 4744), ('impotent', 4745), ('enact', 4746), ('snuggle', 4747), ('bench', 4748), ('undergo', 4749), ('questionnaire', 4750), ('embark', 4751), ('playing', 4752), ('validation', 4753), ('tweet', 4754), ('gap', 4755), ('singular', 4756), ('erik', 4757), ('nov', 4758), ('crazily', 4759), ('rev', 4760), ('pumped', 4761), ('playground', 4762), ('levi', 4763), ('testing', 4764), ('semi', 4765), ('tattoo', 4766), ('criminal', 4767), ('abusive', 4768), ('surf', 4769), ('listening', 4770), ('ji', 4771), ('powder', 4772), ('christmassy', 4773), ('perpetually', 4774), ('limb', 4775), ('assessment', 4776), ('olympic', 4777), ('tub', 4778), ('kingdom', 4779), ('ignite', 4780), ('ping', 4781), ('rejuvenate', 4782), ('rewrite', 4783), ('blanche', 4784), ('artisan', 4785), ('wealth', 4786), ('yearning', 4787), ('assurance', 4788), ('wig', 4789), ('disdain', 4790), ('void', 4791), ('stevens', 4792), ('fellowship', 4793), ('excruciating', 4794), ('judgment', 4795), ('entitle', 4796), ('hammer', 4797), ('forgiving', 4798), ('clique', 4799), ('weariness', 4800), ('youthful', 4801), ('accustomed', 4802), ('skype', 4803), ('taiwan', 4804), ('depressio', 4805), ('manual', 4806), ('buff', 4807), ('babys', 4808), ('retirement', 4809), ('detox', 4810), ('ugg', 4811), ('multitude', 4812), ('incensed', 4813), ('orphan', 4814), ('recovery', 4815), ('evidence', 4816), ('haunt', 4817), ('homosexual', 4818), ('converse', 4819), ('instructor', 4820), ('bask', 4821), ('awaken', 4822), ('insight', 4823), ('district', 4824), ('snake', 4825), ('arena', 4826), ('maid', 4827), ('circus', 4828), ('whistle', 4829), ('stubbornly', 4830), ('giver', 4831), ('microsoft', 4832), ('pakistan', 4833), ('sible', 4834), ('na', 4835), ('asshole', 4836), ('museum', 4837), ('pas', 4838), ('familiarity', 4839), ('rank', 4840), ('cycling', 4841), ('throne', 4842), ('vanilla', 4843), ('flabbergast', 4844), ('stroll', 4845), ('ain', 4846), ('creator', 4847), ('chant', 4848), ('retain', 4849), ('cherry', 4850), ('caterpillar', 4851), ('unsettle', 4852), ('cozy', 4853), ('unbearable', 4854), ('haircut', 4855), ('ambition', 4856), ('ted', 4857), ('joey', 4858), ('proceed', 4859), ('dine', 4860), ('sara', 4861), ('floral', 4862), ('tidy', 4863), ('dam', 4864), ('backpack', 4865), ('defence', 4866), ('surrender', 4867), ('penny', 4868), ('sanity', 4869), ('stiffen', 4870), ('swamp', 4871), ('rhetoric', 4872), ('soil', 4873), ('premature', 4874), ('thrifte', 4875), ('merit', 4876), ('helen', 4877), ('firm', 4878), ('fatigue', 4879), ('irish', 4880), ('singer', 4881), ('daisy', 4882), ('regime', 4883), ('rightly', 4884), ('tech', 4885), ('bash', 4886), ('mince', 4887), ('devastating', 4888), ('bruce', 4889), ('division', 4890), ('consist', 4891), ('headphone', 4892), ('drawer', 4893), ('counselling', 4894), ('yeast', 4895), ('saving', 4896), ('johnny', 4897), ('urgency', 4898), ('fluff', 4899), ('narrative', 4900), ('significantly', 4901), ('mia', 4902), ('amy', 4903), ('bladder', 4904), ('plug', 4905), ('jam', 4906), ('luxury', 4907), ('rhyme', 4908), ('lds', 4909), ('horrid', 4910), ('ian', 4911), ('welfare', 4912), ('producer', 4913), ('blend', 4914), ('pitch', 4915), ('fare', 4916), ('fave', 4917), ('irritation', 4918), ('greg', 4919), ('weirdly', 4920), ('whimsical', 4921), ('homophobic', 4922), ('inanimate', 4923), ('com', 4924), ('productivity', 4925), ('satan', 4926), ('ugliness', 4927), ('womens', 4928), ('acne', 4929), ('gown', 4930), ('meantime', 4931), ('merciful', 4932), ('masterpiece', 4933), ('ri', 4934), ('inability', 4935), ('sharing', 4936), ('toxin', 4937), ('silver', 4938), ('confine', 4939), ('rabbit', 4940), ('vet', 4941), ('sweatshirt', 4942), ('coffin', 4943), ('sally', 4944), ('wierd', 4945), ('char', 4946), ('kevin', 4947), ('jay', 4948), ('claudia', 4949), ('amid', 4950), ('loudly', 4951), ('wit', 4952), ('leapt', 4953), ('shinobi', 4954), ('heartedly', 4955), ('chunk', 4956), ('mash', 4957), ('russia', 4958), ('arise', 4959), ('wanting', 4960), ('license', 4961), ('lin', 4962), ('introvert', 4963), ('sage', 4964), ('parade', 4965), ('dreadful', 4966), ('elsewhere', 4967), ('stab', 4968), ('fl', 4969), ('suitcase', 4970), ('offen', 4971), ('castle', 4972), ('fee', 4973), ('vividly', 4974), ('batch', 4975), ('rex', 4976), ('nest', 4977), ('reliable', 4978), ('salad', 4979), ('uncare', 4980), ('roughly', 4981), ('factory', 4982), ('crib', 4983), ('sincerely', 4984), ('lurk', 4985), ('motivator', 4986), ('conductor', 4987), ('component', 4988), ('locate', 4989), ('lapse', 4990), ('grammar', 4991), ('cab', 4992), ('chicago', 4993), ('fragrance', 4994), ('highlight', 4995), ('baffle', 4996), ('modify', 4997), ('smirk', 4998), ('insomnia', 4999), ('rag', 5000), ('suitably', 5001), ('carriage', 5002), ('dive', 5003), ('bud', 5004), ('shield', 5005), ('oblige', 5006), ('wen', 5007), ('balloon', 5008), ('onion', 5009), ('strand', 5010), ('optimism', 5011), ('default', 5012), ('freaking', 5013), ('tank', 5014), ('capital', 5015), ('squeal', 5016), ('pupil', 5017), ('vampire', 5018), ('nip', 5019), ('unintentionally', 5020), ('childr', 5021), ('excitment', 5022), ('bomber', 5023), ('bryan', 5024), ('observation', 5025), ('gush', 5026), ('lemonade', 5027), ('drift', 5028), ('delay', 5029), ('preservation', 5030), ('pesky', 5031), ('depressing', 5032), ('mediocre', 5033), ('exceedingly', 5034), ('honey', 5035), ('wal', 5036), ('flexible', 5037), ('admission', 5038), ('convenient', 5039), ('organic', 5040), ('contaminate', 5041), ('gape', 5042), ('trapping', 5043), ('sugary', 5044), ('donna', 5045), ('abc', 5046), ('supremely', 5047), ('psycho', 5048), ('enthusiast', 5049), ('rapture', 5050), ('procedure', 5051), ('tornado', 5052), ('zach', 5053), ('ccs', 5054), ('shrug', 5055), ('constructive', 5056), ('noon', 5057), ('taking', 5058), ('wardrobe', 5059), ('noodle', 5060), ('limitation', 5061), ('van', 5062), ('morph', 5063), ('paula', 5064), ('jumper', 5065), ('ensue', 5066), ('assaulted', 5067), ('hoard', 5068), ('ladder', 5069), ('tsunami', 5070), ('packet', 5071), ('biofuel', 5072), ('pushover', 5073), ('willy', 5074), ('unexplained', 5075), ('dammit', 5076), ('macsharry', 5077), ('interference', 5078), ('workplace', 5079), ('tow', 5080), ('pickup', 5081), ('privately', 5082), ('infrequent', 5083), ('midwest', 5084), ('reverse', 5085), ('lik', 5086), ('mandate', 5087), ('vaccine', 5088), ('crowe', 5089), ('carnage', 5090), ('unfurl', 5091), ('tightness', 5092), ('interpersonal', 5093), ('affiliate', 5094), ('reluctantly', 5095), ('rolling', 5096), ('relentless', 5097), ('speculation', 5098), ('foreigner', 5099), ('gasp', 5100), ('rouse', 5101), ('inscribe', 5102), ('nickname', 5103), ('demonstration', 5104), ('desirable', 5105), ('franc', 5106), ('parliamentary', 5107), ('ministerial', 5108), ('shaving', 5109), ('stutter', 5110), ('tess', 5111), ('ambulance', 5112), ('chart', 5113), ('taunt', 5114), ('frailty', 5115), ('exterior', 5116), ('harmony', 5117), ('tugging', 5118), ('alight', 5119), ('antonio', 5120), ('warrior', 5121), ('referee', 5122), ('requirement', 5123), ('tyre', 5124), ('bloom', 5125), ('harshly', 5126), ('unsettling', 5127), ('atheist', 5128), ('retail', 5129), ('vexation', 5130), ('sinai', 5131), ('extension', 5132), ('beefy', 5133), ('escort', 5134), ('spain', 5135), ('cue', 5136), ('sack', 5137), ('runny', 5138), ('widely', 5139), ('posting', 5140), ('wool', 5141), ('dorothy', 5142), ('supervisor', 5143), ('incompetent', 5144), ('amplify', 5145), ('trendy', 5146), ('outsource', 5147), ('picky', 5148), ('sod', 5149), ('nyquil', 5150), ('mire', 5151), ('harden', 5152), ('goth', 5153), ('punk', 5154), ('rut', 5155), ('sensory', 5156), ('stoic', 5157), ('icky', 5158), ('tastic', 5159), ('newly', 5160), ('unfinished', 5161), ('edit', 5162), ('completion', 5163), ('whiskey', 5164), ('align', 5165), ('rightfully', 5166), ('tedious', 5167), ('incorrect', 5168), ('mas', 5169), ('blissfully', 5170), ('digital', 5171), ('webpage', 5172), ('unemployment', 5173), ('candidate', 5174), ('seafood', 5175), ('prawn', 5176), ('fin', 5177), ('startling', 5178), ('investigate', 5179), ('congratulation', 5180), ('grove', 5181), ('bloat', 5182), ('nightly', 5183), ('physician', 5184), ('particulary', 5185), ('revival', 5186), ('deflate', 5187), ('victoria', 5188), ('telegram', 5189), ('tigger', 5190), ('bowler', 5191), ('puncture', 5192), ('medically', 5193), ('sleek', 5194), ('blaster', 5195), ('futile', 5196), ('clap', 5197), ('wagon', 5198), ('onetwothree', 5199), ('cus', 5200), ('prosperous', 5201), ('assess', 5202), ('lauren', 5203), ('warmly', 5204), ('similarly', 5205), ('keyboard', 5206), ('postgraduate', 5207), ('karen', 5208), ('worm', 5209), ('ally', 5210), ('chronicle', 5211), ('cardio', 5212), ('vertigo', 5213), ('nursery', 5214), ('precipice', 5215), ('rabb', 5216), ('chai', 5217), ('athlete', 5218), ('regimented', 5219), ('protocol', 5220), ('shinae', 5221), ('calendar', 5222), ('grill', 5223), ('stellar', 5224), ('decorative', 5225), ('iframe', 5226), ('frameborder', 5227), ('shopper', 5228), ('carter', 5229), ('sweeney', 5230), ('duration', 5231), ('journaling', 5232), ('rapid', 5233), ('variety', 5234), ('parting', 5235), ('crab', 5236), ('illustrate', 5237), ('shun', 5238), ('impulse', 5239), ('bert', 5240), ('ty', 5241), ('divulge', 5242), ('tero', 5243), ('quieter', 5244), ('erika', 5245), ('skincare', 5246), ('snail', 5247), ('convict', 5248), ('smash', 5249), ('garage', 5250), ('irrationally', 5251), ('children', 5252), ('hahaha', 5253), ('backwards', 5254), ('susceptible', 5255), ('thomas', 5256), ('ec', 5257), ('coventry', 5258), ('baba', 5259), ('unconscious', 5260), ('ego', 5261), ('unhappiness', 5262), ('wip', 5263), ('deepika', 5264), ('accumulate', 5265), ('restlessly', 5266), ('karate', 5267), ('chop', 5268), ('defiance', 5269), ('heavier', 5270), ('atheism', 5271), ('whirlwind', 5272), ('kentucky', 5273), ('unworthiness', 5274), ('soviet', 5275), ('expatriate', 5276), ('susan', 5277), ('margaret', 5278), ('dejecte', 5279), ('organised', 5280), ('finn', 5281), ('hannah', 5282), ('surprising', 5283), ('alley', 5284), ('turmoil', 5285), ('egyptian', 5286), ('wrench', 5287), ('wonderland', 5288), ('ism', 5289), ('conversion', 5290), ('champagne', 5291), ('normalcy', 5292), ('installment', 5293), ('alaska', 5294), ('snowy', 5295), ('pine', 5296), ('southern', 5297), ('leaf', 5298), ('towel', 5299), ('guilte', 5300), ('arrival', 5301), ('outcasted', 5302), ('flawed', 5303), ('academia', 5304), ('shelley', 5305), ('cheerfulness', 5306), ('falter', 5307), ('spoken', 5308), ('philadelphia', 5309), ('pa', 5310), ('oftentime', 5311), ('biology', 5312), ('atlanta', 5313), ('shirley', 5314), ('partnership', 5315), ('asa', 5316), ('embarrassing', 5317), ('cecilia', 5318), ('outright', 5319), ('curiously', 5320), ('vienna', 5321), ('clearboth', 5322), ('biggie', 5323), ('marginalize', 5324), ('retaliation', 5325), ('daydream', 5326), ('chuckle', 5327), ('historian', 5328), ('salute', 5329), ('disclose', 5330), ('reside', 5331), ('statistic', 5332), ('hsp', 5333), ('milan', 5334), ('ambassador', 5335), ('shortlist', 5336), ('beautifully', 5337), ('dew', 5338), ('moisturising', 5339), ('luxurious', 5340), ('pr', 5341), ('falling', 5342), ('plusone', 5343), ('prank', 5344), ('effin', 5345), ('humanity', 5346), ('checklist', 5347), ('sharia', 5348), ('thesis', 5349), ('trillion', 5350), ('frau', 5351), ('nordern', 5352), ('hood', 5353), ('moderately', 5354), ('twat', 5355), ('oliver', 5356), ('cliche', 5357), ('embed', 5358), ('seal', 5359), ('akin', 5360), ('vine', 5361), ('software', 5362), ('encouraging', 5363), ('wheat', 5364), ('rocket', 5365), ('neatly', 5366), ('approximately', 5367), ('definitive', 5368), ('buddhism', 5369), ('roger', 5370), ('marginalized', 5371), ('credential', 5372), ('entitled', 5373), ('redeem', 5374), ('wallpaper', 5375), ('mobile', 5376), ('malaysia', 5377), ('rot', 5378), ('clumsy', 5379), ('mammoth', 5380), ('commemorate', 5381), ('invisible', 5382), ('pacific', 5383), ('denise', 5384), ('tracy', 5385), ('delete', 5386), ('correctly', 5387), ('ann', 5388), ('internalize', 5389), ('poet', 5390), ('turning', 5391), ('scum', 5392), ('submission', 5393), ('ipad', 5394), ('andrew', 5395), ('ceremony', 5396), ('occasional', 5397), ('beijing', 5398), ('supreme', 5399), ('hugh', 5400), ('fumble', 5401), ('applause', 5402), ('jonah', 5403), ('trite', 5404), ('wishful', 5405), ('sculpt', 5406), ('mope', 5407), ('indonesia', 5408), ('knuckle', 5409), ('helplessness', 5410), ('impostor', 5411), ('preposterous', 5412), ('cryin', 5413), ('valentine', 5414), ('freshman', 5415), ('fil', 5416), ('resident', 5417), ('climate', 5418), ('leslie', 5419), ('eucharist', 5420), ('banker', 5421), ('technorati', 5422), ('interrupted', 5423), ('butcher', 5424), ('smarter', 5425), ('rearrange', 5426), ('assemble', 5427), ('demise', 5428), ('spritz', 5429), ('moisturize', 5430), ('javascript', 5431), ('ebook', 5432), ('tablet', 5433), ('scold', 5434), ('definite', 5435), ('laden', 5436), ('continued', 5437), ('timeline', 5438), ('principle', 5439), ('1978', 5440), ('elsewher', 5441), ('granny', 5442), ('regurgitate', 5443), ('barbara', 5444), ('curb', 5445), ('teasing', 5446), ('breakup', 5447), ('swan', 5448), ('brutality', 5449), ('excel', 5450), ('pitcher', 5451), ('mound', 5452), ('scorn', 5453), ('rebecca', 5454), ('lissa', 5455), ('measurement', 5456), ('astounded', 5457), ('trumpet', 5458), ('immune', 5459), ('constance', 5460), ('democrats', 5461), ('gimmick', 5462), ('admired', 5463), ('reprieve', 5464), ('figuratively', 5465), ('fir', 5466), ('breach', 5467), ('temp', 5468), ('mankind', 5469), ('alcoholic', 5470), ('dribble', 5471), ('daylight', 5472), ('shrink', 5473), ('parliament', 5474), ('unduly', 5475), ('kneel', 5476), ('integral', 5477), ('cha', 5478), ('permeate', 5479), ('qualify', 5480), ('halloween', 5481), ('fig', 5482), ('crutch', 5483), ('approval', 5484), ('armor', 5485), ('analysis', 5486), ('homelessness', 5487), ('commentator', 5488), ('xx', 5489), ('ellen', 5490), ('gla', 5491), ('ecstasy', 5492), ('amish', 5493), ('rd', 5494), ('sever', 5495), ('carb', 5496), ('ditch', 5497), ('jews', 5498), ('oz', 5499), ('asset', 5500), ('undo', 5501), ('ebony', 5502), ('compose', 5503), ('recluse', 5504), ('ohio', 5505), ('fran', 5506), ('ankle', 5507), ('metallic', 5508), ('shameful', 5509), ('gaulle', 5510), ('massu', 5511), ('adviser', 5512), ('permit', 5513), ('collective', 5514), ('torso', 5515), ('siwon', 5516), ('chalk', 5517), ('emergency', 5518), ('nerdy', 5519), ('revere', 5520), ('celtic', 5521), ('anonymous', 5522), ('eleanor', 5523), ('dentist', 5524), ('remote', 5525), ('incessant', 5526), ('undertake', 5527), ('stepchildren', 5528), ('hiding', 5529), ('melbourne', 5530), ('frequent', 5531), ('exaggerate', 5532), ('bu', 5533), ('mathematic', 5534), ('trans', 5535), ('cognitive', 5536), ('limbo', 5537), ('conflicted', 5538), ('softly', 5539), ('tilt', 5540), ('horizontal', 5541), ('smil', 5542), ('rubber', 5543), ('storytelling', 5544), ('agonize', 5545), ('biscuit', 5546), ('outcast', 5547), ('individuality', 5548), ('backstage', 5549), ('gar', 5550), ('toby', 5551), ('tremendous', 5552), ('fetch', 5553), ('constable', 5554), ('freshly', 5555), ('invincible', 5556), ('postpone', 5557), ('persuade', 5558), ('selfless', 5559), ('besiege', 5560), ('ceiling', 5561), ('vivid', 5562), ('mourn', 5563), ('frankie', 5564), ('terrain', 5565), ('eventual', 5566), ('trustworthy', 5567), ('mutter', 5568), ('korea', 5569), ('perpetuate', 5570), ('provocation', 5571), ('bulk', 5572), ('whipping', 5573), ('joyous', 5574), ('celebratory', 5575), ('unsatisfied', 5576), ('radiance', 5577), ('undergraduate', 5578), ('friggin', 5579), ('ominously', 5580), ('superhero', 5581), ('kilter', 5582), ('tommy', 5583), ('compile', 5584), ('boldly', 5585), ('brink', 5586), ('undercurrent', 5587), ('savour', 5588), ('purposely', 5589), ('misty', 5590), ('freshness', 5591), ('herald', 5592), ('friar', 5593), ('mailman', 5594), ('clerk', 5595), ('willingness', 5596), ('stressor', 5597), ('segment', 5598), ('unwilling', 5599), ('engineering', 5600), ('emanate', 5601), ('inactivity', 5602), ('uncommon', 5603), ('dejectio', 5604), ('stanley', 5605), ('cosmetic', 5606), ('hamper', 5607), ('dc', 5608), ('lawson', 5609), ('crotch', 5610), ('alleviate', 5611), ('fondle', 5612), ('instinctively', 5613), ('bc', 5614), ('aimlessly', 5615), ('unintelligent', 5616), ('shiona', 5617), ('reall', 5618), ('misbehavior', 5619), ('lightning', 5620), ('broad', 5621), ('sheepish', 5622), ('ballroom', 5623), ('gluten', 5624), ('ne', 5625), ('parcel', 5626), ('timer', 5627), ('persecute', 5628), ('pms', 5629), ('guitarist', 5630), ('blogosphere', 5631), ('pimp', 5632), ('raini', 5633), ('rocky', 5634), ('vex', 5635), ('shaun', 5636), ('backing', 5637), ('subtly', 5638), ('unsung', 5639), ('jubilation', 5640), ('menu', 5641), ('longevity', 5642), ('marius', 5643), ('schoolboy', 5644), ('counselor', 5645), ('trumpeter', 5646), ('hearted', 5647), ('lacklustre', 5648), ('liar', 5649), ('stuffy', 5650), ('georgia', 5651), ('maze', 5652), ('healthcare', 5653), ('shush', 5654), ('elate', 5655), ('hierarchy', 5656), ('fighting', 5657), ('apologetic', 5658), ('advertise', 5659), ('disbelieve', 5660), ('overweight', 5661), ('despised', 5662), ('yelling', 5663), ('indenture', 5664), ('successfully', 5665), ('amazement', 5666), ('integrity', 5667), ('eviction', 5668), ('plod', 5669), ('dallas', 5670), ('dean', 5671), ('hometown', 5672), ('jaw', 5673), ('paste', 5674), ('uggs', 5675), ('foil', 5676), ('trying', 5677), ('sixty', 5678), ('luminary', 5679), ('nugget', 5680), ('outbreak', 5681), ('busin', 5682), ('caption', 5683), ('mimic', 5684), ('tu', 5685), ('sinking', 5686), ('outrageously', 5687), ('demanding', 5688), ('witty', 5689), ('relentlessly', 5690), ('ashame', 5691), ('hypocrisy', 5692), ('durham', 5693), ('ti', 5694), ('competitive', 5695), ('excitedly', 5696), ('ds', 5697), ('preschool', 5698), ('francis', 5699), ('mesh', 5700), ('pavilion', 5701), ('plateau', 5702), ('aspire', 5703), ('austere', 5704), ('discard', 5705), ('banish', 5706), ('revenue', 5707), ('doubly', 5708), ('gaffe', 5709), ('crc', 5710), ('investigati', 5711), ('wrinkle', 5712), ('haptic', 5713), ('uncharacteristically', 5714), ('fleece', 5715), ('fluffy', 5716), ('psalm', 5717), ('throb', 5718), ('stinging', 5719), ('demotivate', 5720), ('dat', 5721), ('bereft', 5722), ('momma', 5723), ('amvassago', 5724), ('deadpan', 5725), ('shone', 5726), ('thompson', 5727), ('dint', 5728), ('wingtip', 5729), ('scrub', 5730), ('vinegar', 5731), ('heroine', 5732), ('imprint', 5733), ('vibrate', 5734), ('sceptical', 5735), ('glowing', 5736), ('colby', 5737), ('turkish', 5738), ('detest', 5739), ('flourish', 5740), ('graduation', 5741), ('ab', 5742), ('aged', 5743), ('resistant', 5744), ('diabetes', 5745), ('loopy', 5746), ('cocky', 5747), ('che', 5748), ('assist', 5749), ('gag', 5750), ('cont', 5751), ('unjust', 5752), ('devoid', 5753), ('coin', 5754), ('frog', 5755), ('incoming', 5756), ('patron', 5757), ('pitiful', 5758), ('intruder', 5759), ('disorientate', 5760), ('affirm', 5761), ('mingle', 5762), ('snatch', 5763), ('boston', 5764), ('explosion', 5765), ('dutch', 5766), ('sentiment', 5767), ('nourish', 5768), ('myriad', 5769), ('variation', 5770), ('edochie', 5771), ('hoax', 5772), ('tropical', 5773), ('asians', 5774), ('weewee', 5775), ('dong', 5776), ('ski', 5777), ('steep', 5778), ('pronounce', 5779), ('caretaker', 5780), ('validity', 5781), ('collaboration', 5782), ('inexplicably', 5783), ('passeng', 5784), ('savior', 5785), ('net', 5786), ('wifi', 5787), ('utmost', 5788), ('sorro', 5789), ('extrovert', 5790), ('overwork', 5791), ('certify', 5792), ('sandy', 5793), ('achy', 5794), ('tumor', 5795), ('persevere', 5796), ('flavour', 5797), ('stripe', 5798), ('rea', 5799), ('hobble', 5800), ('fo', 5801), ('lynch', 5802), ('distinguished', 5803), ('heav', 5804), ('unza', 5805), ('gwen', 5806), ('tread', 5807), ('walter', 5808), ('scenery', 5809), ('closed', 5810), ('iris', 5811), ('noe', 5812), ('thump', 5813), ('imperfect', 5814), ('motivational', 5815), ('fragment', 5816), ('logan', 5817), ('bead', 5818), ('becuz', 5819), ('dirt', 5820), ('cam', 5821), ('jungle', 5822), ('pelvi', 5823), ('boutique', 5824), ('aku', 5825), ('psychology', 5826), ('1991', 5827), ('croissant', 5828), ('prominent', 5829), ('obligated', 5830), ('descend', 5831), ('mumbai', 5832), ('auguste', 5833), ('captivate', 5834), ('mojo', 5835), ('missing', 5836), ('stub', 5837), ('distinction', 5838), ('fell', 5839), ('marketplace', 5840), ('rite', 5841), ('battery', 5842), ('clive', 5843), ('falsely', 5844), ('seep', 5845), ('endorphin', 5846), ('seize', 5847), ('humour', 5848), ('glaring', 5849), ('globe', 5850), ('characteristic', 5851), ('elicit', 5852), ('refocus', 5853), ('pip', 5854), ('insider', 5855), ('ep', 5856), ('chorus', 5857), ('dope', 5858), ('smiley', 5859), ('islam', 5860), ('hesitation', 5861), ('lonel', 5862), ('slum', 5863), ('huddle', 5864), ('gloss', 5865), ('jon', 5866), ('advanced', 5867), ('overtly', 5868), ('unwittingly', 5869), ('trivial', 5870), ('inclusive', 5871), ('unpopular', 5872), ('handedly', 5873), ('daring', 5874), ('pac', 5875), ('playoff', 5876), ('perceptive', 5877), ('ashley', 5878), ('intuition', 5879), ('soda', 5880), ('violently', 5881), ('container', 5882), ('mystify', 5883), ('abroad', 5884), ('css', 5885), ('clamour', 5886), ('austin', 5887), ('seattle', 5888), ('critically', 5889), ('exposure', 5890), ('affront', 5891), ('gettin', 5892), ('therapeutic', 5893), ('unite', 5894), ('memorial', 5895), ('rupture', 5896), ('palette', 5897), ('pulsar', 5898), ('angie', 5899), ('hawk', 5900), ('talking', 5901), ('sasha', 5902), ('cardinal', 5903), ('heighten', 5904), ('predominantly', 5905), ('smear', 5906), ('dent', 5907), ('artistry', 5908), ('unbelievable', 5909), ('environmental', 5910), ('substitute', 5911), ('bass', 5912), ('dozen', 5913), ('swirl', 5914), ('abyss', 5915), ('rebuild', 5916), ('uncaring', 5917), ('iraq', 5918), ('creme', 5919), ('entrust', 5920), ('muslim', 5921), ('hijack', 5922), ('bio', 5923), ('confusing', 5924), ('deform', 5925), ('obey', 5926), ('consumerism', 5927), ('pokemon', 5928), ('happ', 5929), ('fondly', 5930), ('inarticulate', 5931), ('knowledgeable', 5932), ('hover', 5933), ('queer', 5934), ('territory', 5935), ('precisely', 5936), ('robyn', 5937), ('sep', 5938), ('parenthood', 5939), ('helplessly', 5940), ('swarm', 5941), ('alteration', 5942), ('claret', 5943), ('jug', 5944), ('sucky', 5945), ('northern', 5946), ('nominee', 5947), ('decidedly', 5948), ('egalitarian', 5949), ('blogs', 5950), ('edgy', 5951), ('summary', 5952), ('olivia', 5953), ('wh', 5954), ('popeye', 5955), ('phenomenon', 5956), ('eid', 5957), ('sail', 5958), ('bookstore', 5959), ('louis', 5960), ('ebay', 5961), ('hurriedly', 5962), ('sta', 5963), ('fragile', 5964), ('wonderfull', 5965), ('unresolved', 5966), ('manifestation', 5967), ('whiff', 5968), ('kenny', 5969), ('spectator', 5970), ('coordinate', 5971), ('sulk', 5972), ('sd', 5973), ('dieting', 5974), ('lion', 5975), ('prey', 5976), ('loki', 5977), ('gratefulness', 5978), ('spiraling', 5979), ('outward', 5980), ('hail', 5981), ('ember', 5982), ('flake', 5983), ('needless', 5984), ('sabotage', 5985), ('ritual', 5986), ('concoction', 5987), ('afield', 5988), ('strop', 5989), ('rte', 5990), ('emoticons', 5991), ('sob', 5992), ('recount', 5993), ('sublime', 5994), ('keenly', 5995), ('sweetness', 5996), ('eater', 5997), ('bleak', 5998), ('newcomer', 5999), ('oxygen', 6000), ('weaving', 6001), ('dangle', 6002), ('frugal', 6003), ('incorporate', 6004), ('bogge', 6005), ('definetly', 6006), ('yank', 6007), ('readjust', 6008), ('scarf', 6009), ('pavement', 6010), ('mentor', 6011), ('guardian', 6012), ('yer', 6013), ('auction', 6014), ('unforgettable', 6015), ('blowout', 6016), ('lobby', 6017), ('etape', 6018), ('comprehend', 6019), ('barry', 6020), ('almond', 6021), ('mature', 6022), ('hiccup', 6023), ('organize', 6024), ('nun', 6025), ('lif', 6026), ('canal', 6027), ('encase', 6028), ('whirl', 6029), ('anxiously', 6030), ('compel', 6031), ('actress', 6032), ('sans', 6033), ('vista', 6034), ('cynicism', 6035), ('tangible', 6036), ('pragmatic', 6037), ('prescribe', 6038), ('sensibility', 6039), ('locker', 6040), ('seventy', 6041), ('deteriorate', 6042), ('forgotten', 6043), ('poison', 6044), ('fame', 6045), ('environmentally', 6046), ('undoubtedly', 6047), ('tuition', 6048), ('sci', 6049), ('administrator', 6050), ('downtown', 6051), ('cheerfull', 6052), ('allocate', 6053), ('aretha', 6054), ('feat', 6055), ('tragedy', 6056), ('educational', 6057), ('exceptional', 6058), ('acquaint', 6059), ('wield', 6060), ('superstition', 6061), ('dubai', 6062), ('communion', 6063), ('reciprocate', 6064), ('starring', 6065), ('spew', 6066), ('narrate', 6067), ('civilian', 6068), ('phil', 6069), ('premonition', 6070), ('justified', 6071), ('dominican', 6072), ('arabs', 6073), ('homely', 6074), ('prestigious', 6075), ('unemployed', 6076), ('professionalism', 6077), ('diversity', 6078), ('tee', 6079), ('baggy', 6080), ('manifest', 6081), ('adoption', 6082), ('vegetable', 6083), ('hummus', 6084), ('tournament', 6085), ('situate', 6086), ('adverse', 6087), ('bs', 6088), ('wooden', 6089), ('charlotte', 6090), ('graphic', 6091), ('rpg', 6092), ('rear', 6093), ('maeve', 6094), ('subscriber', 6095), ('fulfilling', 6096), ('phoebe', 6097), ('sheriff', 6098), ('freakishly', 6099), ('clinton', 6100), ('psychologically', 6101), ('classwork', 6102), ('alon', 6103), ('trimming', 6104), ('related', 6105), ('appealing', 6106), ('fuss', 6107), ('wisconsin', 6108), ('fic', 6109), ('cassandra', 6110), ('barn', 6111), ('huckleberry', 6112), ('elevated', 6113), ('founder', 6114), ('poverty', 6115), ('mabel', 6116), ('greek', 6117), ('soldier', 6118), ('monogamous', 6119), ('paragraph', 6120), ('outdoor', 6121), ('lag', 6122), ('holly', 6123), ('harmonious', 6124), ('unfulfilled', 6125), ('drake', 6126), ('rib', 6127), ('blade', 6128), ('delusion', 6129), ('spoiler', 6130), ('refreshed', 6131), ('par', 6132), ('undesired', 6133), ('glenn', 6134), ('alittle', 6135), ('jew', 6136), ('persona', 6137), ('utah', 6138), ('fourth', 6139), ('centered', 6140), ('mega', 6141), ('thankfully', 6142), ('intake', 6143), ('diaper', 6144), ('claustrophobic', 6145), ('unfit', 6146), ('defense', 6147), ('joan', 6148), ('wailing', 6149), ('ross', 6150), ('teeny', 6151), ('mainstream', 6152), ('condone', 6153), ('britney', 6154), ('ect', 6155), ('mammal', 6156), ('spencer', 6157), ('howl', 6158), ('superficial', 6159), ('payday', 6160), ('loan', 6161), ('monthly', 6162), ('rattle', 6163), ('governme', 6164), ('tempting', 6165), ('domestic', 6166), ('residential', 6167), ('natasha', 6168), ('bengal', 6169), ('mothering', 6170), ('chilli', 6171), ('chuffed', 6172), ('socket', 6173), ('typing', 6174), ('clare', 6175), ('autistic', 6176), ('obese', 6177), ('yuuki', 6178), ('ni', 6179), ('congregation', 6180), ('ye', 6181), ('christine', 6182), ('ip', 6183), ('schs', 6184), ('sp', 6185), ('sneeze', 6186), ('tulip', 6187), ('feely', 6188), ('unfairness', 6189), ('housewife', 6190), ('screening', 6191), ('lush', 6192), ('raphael', 6193), ('naught', 6194), ('striking', 6195), ('parody', 6196), ('holler', 6197), ('crossroad', 6198), ('toronto', 6199), ('handheld', 6200), ('jail', 6201), ('beaten', 6202), ('compromised', 6203), ('bonding', 6204), ('rekindle', 6205), ('waking', 6206), ('compound', 6207), ('estrogen', 6208), ('germany', 6209), ('positivity', 6210), ('delve', 6211), ('journalism', 6212), ('priceless', 6213), ('ban', 6214), ('cared', 6215), ('valley', 6216), ('rod', 6217), ('neuropathy', 6218), ('residual', 6219), ('boast', 6220), ('valid', 6221), ('tempura', 6222), ('leanne', 6223), ('lloyd', 6224), ('soulmate', 6225), ('handmade', 6226), ('fifty', 6227), ('neil', 6228), ('il', 6229), ('considerably', 6230), ('crestfalle', 6231), ('comp', 6232), ('manchester', 6233), ('ancestral', 6234), ('wearily', 6235), ('holding', 6236), ('margin', 6237), ('devotion', 6238), ('tutor', 6239), ('dara', 6240), ('erm', 6241), ('punjabi', 6242), ('masala', 6243), ('exasperated', 6244), ('austen', 6245), ('thug', 6246), ('enamour', 6247), ('commission', 6248), ('lesbian', 6249), ('explorer', 6250), ('offline', 6251), ('tenure', 6252), ('richie', 6253), ('uplifting', 6254), ('necklace', 6255), ('flu', 6256), ('cramping', 6257), ('farther', 6258), ('fiber', 6259), ('glasgow', 6260), ('cairns', 6261), ('lh', 6262), ('obedient', 6263), ('bathing', 6264), ('ethiopia', 6265), ('mba', 6266), ('mighty', 6267), ('weirdo', 6268), ('outta', 6269), ('justification', 6270), ('outlet', 6271), ('similarity', 6272), ('proof', 6273), ('acting', 6274), ('wat', 6275), ('inspector', 6276), ('preference', 6277), ('barney', 6278), ('storyline', 6279), ('victorious', 6280), ('offspring', 6281), ('pompous', 6282), ('exotic', 6283), ('icon', 6284), ('supported', 6285), ('hamburger', 6286), ('heartbreake', 6287), ('minuscule', 6288), ('nasal', 6289), ('norma', 6290), ('outburst', 6291), ('energised', 6292), ('buddy', 6293), ('jog', 6294), ('conveniently', 6295), ('unwind', 6296), ('hamster', 6297), ('harness', 6298), ('sooooo', 6299), ('readership', 6300), ('complainy', 6301), ('sheila', 6302), ('baggage', 6303), ('arcade', 6304), ('unlovable', 6305), ('flatmate', 6306), ('origin', 6307), ('revolve', 6308), ('fortitude', 6309), ('triangle', 6310), ('administration', 6311), ('jacob', 6312), ('mourner', 6313), ('robinson', 6314), ('notify', 6315), ('sweden', 6316), ('teeter', 6317), ('claw', 6318), ('aboard', 6319), ('comforting', 6320), ('powerlessness', 6321), ('posto', 6322), ('15', 6323), ('facility', 6324), ('ink', 6325), ('theatre', 6326), ('lid', 6327), ('intrigue', 6328), ('tin', 6329), ('superman', 6330), ('grim', 6331), ('precise', 6332), ('sensitivity', 6333), ('underage', 6334), ('shannon', 6335), ('sharply', 6336), ('yahoo', 6337), ('diagnose', 6338), ('ballistic', 6339), ('jose', 6340), ('promptly', 6341), ('unwell', 6342), ('ben', 6343), ('childs', 6344), ('mascara', 6345), ('brazil', 6346), ('swimsuit', 6347), ('galaxy', 6348), ('dennis', 6349), ('moonlight', 6350), ('scramble', 6351), ('logical', 6352), ('henry', 6353), ('sane', 6354), ('truely', 6355), ('scr', 6356), ('xvi', 6357), ('hurl', 6358), ('indigo', 6359), ('sausage', 6360), ('broaden', 6361), ('wll', 6362), ('baking', 6363), ('housebound', 6364), ('peckish', 6365), ('morris', 6366), ('classical', 6367), ('burrow', 6368), ('atleast', 6369), ('discipline', 6370), ('distrustful', 6371), ('bizarre', 6372), ('coke', 6373), ('organ', 6374), ('saudi', 6375), ('wink', 6376), ('entertainer', 6377), ('happier', 6378), ('guild', 6379), ('rumour', 6380), ('shore', 6381), ('zimbabwe', 6382), ('hostel', 6383), ('softball', 6384), ('quiver', 6385), ('snooze', 6386), ('11', 6387), ('firefly', 6388), ('fraud', 6389), ('lethal', 6390), ('lather', 6391), ('eagle', 6392), ('dangerously', 6393), ('gardening', 6394), ('earnest', 6395), ('heavens', 6396), ('luke', 6397), ('wrestling', 6398), ('hump', 6399), ('lunge', 6400), ('viewing', 6401), ('kuya', 6402), ('lunchtime', 6403), ('printer', 6404), ('esp', 6405), ('lengthy', 6406), ('nonplus', 6407), ('underappreciated', 6408), ('nervousness', 6409), ('hrs', 6410), ('shameless', 6411), ('blond', 6412), ('fist', 6413), ('liberate', 6414), ('sandal', 6415), ('validate', 6416), ('seizure', 6417), ('fury', 6418), ('critic', 6419), ('mamma', 6420), ('combo', 6421), ('timetable', 6422), ('dung', 6423), ('grievance', 6424), ('propose', 6425), ('clingy', 6426), ('unnaturally', 6427), ('becasue', 6428), ('parking', 6429), ('tis', 6430), ('spoiled', 6431), ('suspiciously', 6432), ('fullness', 6433), ('gloria', 6434), ('rang', 6435), ('katniss', 6436), ('realm', 6437), ('remembrance', 6438), ('aryiku', 6439), ('revert', 6440), ('ow', 6441), ('underway', 6442), ('speechless', 6443), ('alexandra', 6444), ('janet', 6445), ('drastic', 6446), ('br', 6447), ('roman', 6448), ('makin', 6449), ('envision', 6450), ('brag', 6451), ('algebra', 6452), ('screenshot', 6453), ('thailand', 6454), ('hen', 6455), ('laziness', 6456), ('pendant', 6457), ('kai', 6458), ('squishing', 6459), ('entail', 6460), ('leer', 6461), ('redundant', 6462), ('strut', 6463), ('dude', 6464), ('glycerin', 6465), ('cleansing', 6466), ('cleaning', 6467), ('ice', 6468), ('lumber', 6469), ('raider', 6470), ('hidden', 6471), ('idle', 6472), ('bureaucrat', 6473), ('salvation', 6474), ('stunt', 6475), ('beirut', 6476), ('surgeon', 6477), ('snoop', 6478), ('questionable', 6479), ('criticize', 6480), ('internally', 6481), ('championship', 6482), ('opt', 6483), ('loon', 6484), ('commandment', 6485), ('zumba', 6486), ('photoshoot', 6487), ('jessica', 6488), ('primitive', 6489), ('ole', 6490), ('unwarranted', 6491), ('wounded', 6492), ('passersby', 6493), ('halt', 6494), ('aaron', 6495), ('states', 6496), ('disguise', 6497), ('stella', 6498), ('royally', 6499), ('newtown', 6500), ('widespread', 6501), ('subsequent', 6502), ('publication', 6503), ('reilly', 6504), ('rosemary', 6505), ('travis', 6506), ('nutty', 6507), ('intervention', 6508), ('socializing', 6509), ('leather', 6510), ('finished', 6511), ('pimple', 6512), ('outweigh', 6513), ('ivory', 6514), ('betty', 6515), ('performer', 6516), ('adulthood', 6517), ('enlist', 6518), ('ibs', 6519), ('rmb', 6520), ('innate', 6521), ('novice', 6522), ('identical', 6523), ('testicle', 6524), ('decrease', 6525), ('spout', 6526), ('sinister', 6527), ('pleasing', 6528), ('vegetarian', 6529), ('suburban', 6530), ('mu', 6531), ('smoking', 6532), ('peppermint', 6533), ('patty', 6534), ('woodland', 6535), ('stinky', 6536), ('sibling', 6537), ('predictably', 6538), ('oop', 6539), ('laxman', 6540), ('slipper', 6541), ('onel', 6542), ('eminent', 6543), ('patriotic', 6544), ('bobby', 6545), ('glitter', 6546), ('shyness', 6547), ('stagnate', 6548), ('asking', 6549), ('renew', 6550), ('endurance', 6551), ('adjective', 6552), ('paw', 6553), ('cooperation', 6554), ('underwhelmed', 6555), ('inspection', 6556), ('secrecy', 6557), ('ag', 6558), ('dreading', 6559), ('sharpe', 6560), ('tenderly', 6561), ('exclaim', 6562), ('gender', 6563), ('donation', 6564), ('domain', 6565), ('luh', 6566), ('cautiously', 6567), ('workmate', 6568), ('carole', 6569), ('karaoke', 6570), ('guideline', 6571), ('ahem', 6572), ('blurt', 6573), ('mythology', 6574), ('composition', 6575), ('walmart', 6576), ('vs', 6577), ('willi', 6578), ('dub', 6579), ('console', 6580), ('reconcile', 6581), ('disgruntle', 6582), ('external', 6583), ('crossfit', 6584), ('pipe', 6585), ('overhear', 6586), ('englishman', 6587), ('trim', 6588), ('recite', 6589), ('usage', 6590), ('steak', 6591), ('hedge', 6592), ('vbac', 6593), ('collector', 6594), ('medal', 6595), ('strew', 6596), ('speaking', 6597), ('webkit', 6598), ('gina', 6599), ('educated', 6600), ('newbie', 6601), ('blackburn', 6602), ('blackpool', 6603), ('solicit', 6604), ('dash', 6605), ('sufficient', 6606), ('scientific', 6607), ('sassy', 6608), ('prophet', 6609), ('slalom', 6610), ('crowded', 6611), ('ukrainian', 6612), ('multi', 6613), ('deer', 6614), ('seduce', 6615), ('heartburn', 6616), ('crease', 6617), ('thoughtless', 6618), ('urban', 6619), ('battering', 6620), ('disturbing', 6621), ('talkative', 6622), ('tactic', 6623), ('worn', 6624), ('originally', 6625), ('poorly', 6626), ('customary', 6627), ('democratic', 6628), ('fanfiction', 6629), ('burner', 6630), ('astonished', 6631), ('scarlet', 6632), ('electrical', 6633), ('wilfrid', 6634), ('reconciliation', 6635), ('cereal', 6636), ('waft', 6637), ('tether', 6638), ('resemble', 6639), ('leed', 6640), ('sub', 6641), ('unloveable', 6642), ('underline', 6643), ('slighted', 6644), ('culprit', 6645), ('cutting', 6646), ('defeated', 6647), ('mural', 6648), ('expectant', 6649), ('beth', 6650), ('leisurely', 6651), ('universal', 6652), ('slew', 6653), ('paren', 6654), ('weren', 6655), ('rudy', 6656), ('bellmont', 6657), ('cabinet', 6658), ('maxs', 6659), ('vancouver', 6660), ('cardboard', 6661), ('rile', 6662), ('homeowner', 6663), ('loathing', 6664), ('celebrated', 6665), ('womanhood', 6666), ('undertaking', 6667), ('frazzle', 6668), ('stagger', 6669), ('harbor', 6670), ('seagull', 6671), ('mm', 6672), ('participant', 6673), ('untouched', 6674), ('ingrate', 6675), ('4', 6676), ('forwards', 6677), ('donor', 6678), ('polo', 6679), ('morsel', 6680), ('generosity', 6681), ('sufferer', 6682), ('dissatisfaction', 6683), ('quell', 6684), ('doorstep', 6685), ('motive', 6686), ('nationality', 6687), ('spoon', 6688), ('refined', 6689), ('incline', 6690), ('brd', 6691), ('ration', 6692), ('packaging', 6693), ('stumbleupon', 6694), ('antisocial', 6695), ('enthralled', 6696), ('incomplete', 6697), ('inconvenienced', 6698), ('warsaw', 6699), ('nutshell', 6700), ('angst', 6701), ('oatmeal', 6702), ('distributor', 6703), ('preface', 6704), ('committee', 6705), ('veer', 6706), ('grandma', 6707), ('pointing', 6708), ('trut', 6709), ('moving', 6710), ('unfairly', 6711), ('gm', 6712), ('fulfilled', 6713), ('laptop', 6714), ('refrain', 6715), ('rewarding', 6716), ('clo', 6717), ('construction', 6718), ('reasonable', 6719), ('iam', 6720), ('muster', 6721), ('lifeline', 6722), ('kiddy', 6723), ('harvey', 6724), ('spotless', 6725), ('yu', 6726), ('fr', 6727), ('boisterous', 6728), ('fathom', 6729), ('nano', 6730), ('nearness', 6731), ('grandpa', 6732), ('nfl', 6733), ('morgan', 6734), ('mon', 6735), ('muddy', 6736), ('righteousness', 6737), ('singing', 6738), ('underlying', 6739), ('sleeping', 6740), ('exclude', 6741), ('sloppy', 6742), ('empathise', 6743), ('dee', 6744), ('cinema', 6745), ('creaminess', 6746), ('lightness', 6747), ('guru', 6748), ('eliminate', 6749), ('senator', 6750), ('sandpiper', 6751), ('lone', 6752), ('reserve', 6753), ('matthew', 6754), ('funeral', 6755), ('reunite', 6756), ('leo', 6757), ('paradise', 6758), ('delightful', 6759), ('romeo', 6760), ('juliet', 6761), ('overjoy', 6762), ('sesame', 6763), ('wryly', 6764), ('pineapple', 6765), ('coconut', 6766), ('occupied', 6767), ('psych', 6768), ('petrify', 6769), ('tat', 6770), ('britain', 6771), ('infrastructure', 6772), ('clown', 6773), ('meanness', 6774), ('envelop', 6775), ('indenbaum', 6776), ('comprehensive', 6777), ('toon', 6778), ('pilot', 6779), ('rainbow', 6780), ('inject', 6781), ('incase', 6782), ('leak', 6783), ('insidious', 6784), ('cro', 6785), ('cultural', 6786), ('bodily', 6787), ('resolved', 6788), ('underrated', 6789), ('downstairs', 6790), ('enormously', 6791), ('calmly', 6792), ('closely', 6793), ('bullet', 6794), ('nay', 6795), ('liquor', 6796), ('gratuitously', 6797), ('gunong', 6798), ('ledang', 6799), ('illustration', 6800), ('rational', 6801), ('enquiry', 6802), ('batter', 6803), ('colleag', 6804), ('rejected', 6805), ('complication', 6806), ('flounder', 6807), ('unfeeling', 6808), ('granddaughter', 6809), ('wr', 6810), ('jerry', 6811), ('springer', 6812), ('slough', 6813), ('gorgeously', 6814), ('convoluted', 6815), ('usher', 6816), ('spa', 6817), ('counseling', 6818), ('nicotine', 6819), ('transparent', 6820), ('pester', 6821), ('thoughtful', 6822), ('droop', 6823), ('ironically', 6824), ('kate', 6825), ('wainwright', 6826), ('docs', 6827), ('abstract', 6828), ('technical', 6829), ('plummet', 6830), ('menopause', 6831), ('opponent', 6832), ('intensify', 6833), ('ahaha', 6834), ('tumble', 6835), ('lucas', 6836), ('cracker', 6837), ('ambitious', 6838), ('preach', 6839), ('dearly', 6840), ('flattered', 6841), ('ratty', 6842), ('temptation', 6843), ('midwife', 6844), ('calmness', 6845), ('creed', 6846), ('elite', 6847), ('mo', 6848), ('manila', 6849), ('savory', 6850), ('vehicle', 6851), ('contradict', 6852), ('bay', 6853), ('gleam', 6854), ('cornelius', 6855), ('ceo', 6856), ('mccann', 6857), ('disappearance', 6858), ('embarasse', 6859), ('nerd', 6860), ('venue', 6861), ('sufficiently', 6862), ('provocative', 6863), ('ingrid', 6864), ('marginalised', 6865), ('homeland', 6866), ('stillness', 6867), ('cooper', 6868), ('appease', 6869), ('clog', 6870), ('shocking', 6871), ('istanbul', 6872), ('wholeness', 6873), ('forty', 6874), ('inhaler', 6875), ('babysit', 6876), ('unprepared', 6877), ('lego', 6878), ('intermediary', 6879), ('standby', 6880), ('angsty', 6881), ('darken', 6882), ('purposeless', 6883), ('denial', 6884), ('cohen', 6885), ('keegan', 6886), ('whereby', 6887), ('wreck', 6888), ('conceive', 6889), ('vendor', 6890), ('underwear', 6891), ('olu', 6892), ('jacobs', 6893), ('screenwriter', 6894), ('hs', 6895), ('pony', 6896), ('certainty', 6897), ('actuality', 6898), ('gossip', 6899), ('breakdown', 6900), ('consult', 6901), ('flatter', 6902), ('contrary', 6903), ('topaz', 6904), ('champion', 6905), ('feng', 6906), ('inquire', 6907), ('peril', 6908), ('skillz', 6909), ('crossing', 6910), ('vicarious', 6911), ('map', 6912), ('callous', 6913), ('separately', 6914), ('chronically', 6915), ('erupt', 6916), ('gravity', 6917), ('spontaneously', 6918), ('grapple', 6919), ('twitch', 6920), ('psychological', 6921), ('gna', 6922), ('disagreement', 6923), ('sprint', 6924), ('sonia', 6925), ('coloured', 6926), ('swollen', 6927), ('camping', 6928), ('effortlessly', 6929), ('touchy', 6930), ('menswear', 6931), ('coma', 6932), ('offence', 6933), ('unconditional', 6934), ('hypnosis', 6935), ('rugby', 6936), ('haircute', 6937), ('bowel', 6938), ('sorbet', 6939), ('christianity', 6940), ('nosy', 6941), ('darkly', 6942), ('arnold', 6943), ('solace', 6944), ('proce', 6945), ('robot', 6946), ('straightforward', 6947), ('bohemian', 6948), ('pearl', 6949), ('supposedly', 6950), ('facilitate', 6951), ('awed', 6952), ('admittedly', 6953), ('upfront', 6954), ('packing', 6955), ('impend', 6956), ('salty', 6957), ('funky', 6958), ('hurried', 6959), ('orient', 6960), ('baker', 6961), ('colourful', 6962), ('sams', 6963), ('pinpoint', 6964), ('hoop', 6965), ('fetched', 6966), ('menstrual', 6967), ('tart', 6968), ('pickle', 6969), ('bun', 6970), ('uh', 6971), ('edward', 6972), ('tab', 6973), ('pose', 6974), ('sexuality', 6975), ('unattainable', 6976), ('bleeding', 6977), ('jeff', 6978), ('broadly', 6979), ('stoner', 6980), ('vitamin', 6981), ('gods', 6982), ('individually', 6983), ('appetite', 6984), ('peanut', 6985), ('destinys', 6986), ('famil', 6987), ('railway', 6988), ('fob', 6989), ('prevail', 6990), ('evaporate', 6991), ('agne', 6992), ('adequately', 6993), ('untrustworthy', 6994), ('bolt', 6995), ('institution', 6996), ('brotherhood', 6997), ('vanish', 6998), ('insanity', 6999), ('abou', 7000), ('slytherin', 7001), ('homeschooling', 7002), ('infuriated', 7003), ('zen', 7004), ('tranny', 7005), ('stroller', 7006), ('cray', 7007), ('cantor', 7008), ('babe', 7009), ('chanel', 7010), ('tram', 7011), ('soapbox', 7012), ('cabin', 7013), ('illustrator', 7014), ('tan', 7015), ('poppy', 7016), ('woody', 7017), ('tremendously', 7018), ('dialogue', 7019), ('flirty', 7020), ('vary', 7021), ('lineker', 7022), ('phenomenal', 7023), ('recruiter', 7024), ('cornbread', 7025), ('crud', 7026), ('tyler', 7027), ('peek', 7028), ('cloth', 7029), ('william', 7030), ('eh', 7031), ('plight', 7032), ('mudder', 7033), ('slink', 7034), ('nuance', 7035), ('dissipate', 7036), ('ml', 7037), ('spur', 7038), ('depart', 7039), ('apothecary', 7040), ('miscarriage', 7041), ('drastically', 7042), ('dreaded', 7043), ('suicidal', 7044), ('yanto', 7045), ('um', 7046), ('duality', 7047), ('personnel', 7048), ('peach', 7049), ('sterile', 7050), ('adoman', 7051), ('badass', 7052), ('dork', 7053), ('rope', 7054), ('drinkin', 7055), ('douche', 7056), ('cdm', 7057), ('flac', 7058), ('custode', 7059), ('winston', 7060), ('churchill', 7061), ('tsa', 7062), ('coerce', 7063), ('grader', 7064), ('obligate', 7065), ('negate', 7066), ('feauture', 7067), ('befriend', 7068), ('toenail', 7069), ('bal', 7070), ('consultation', 7071), ('rivalry', 7072), ('melancholic', 7073), ('wushu', 7074), ('constructivism', 7075), ('reportedly', 7076), ('congress', 7077), ('nao', 7078), ('tmr', 7079), ('rewrote', 7080), ('lookout', 7081), ('jet', 7082), ('pronto', 7083), ('jelly', 7084), ('courtney', 7085), ('mau', 7086), ('unnamed', 7087), ('criticise', 7088), ('industrial', 7089), ('dereliction', 7090), ('peopl', 7091), ('nilly', 7092), ('extraordinary', 7093), ('sunderland', 7094), ('crosby', 7095), ('overshare', 7096), ('answering', 7097), ('magnetic', 7098), ('cable', 7099), ('squint', 7100), ('boarder', 7101), ('irishman', 7102), ('delor', 7103), ('nemesis', 7104), ('bungalow', 7105), ('wobbly', 7106), ('gould', 7107), ('ornithological', 7108), ('natu', 7109), ('welfa', 7110), ('suburb', 7111), ('heimbuch', 7112), ('midwestern', 7113), ('manly', 7114), ('thinly', 7115), ('lime', 7116), ('missy', 7117), ('airbrush', 7118), ('navigating', 7119), ('ghd', 7120), ('straightener', 7121), ('animator', 7122), ('pixar', 7123), ('outdo', 7124), ('attracted', 7125), ('frappe', 7126), ('papermakeupstamp', 7127), ('hickory', 7128), ('lenoir', 7129), ('morganton', 7130), ('dichotomy', 7131), ('straightforwardness', 7132), ('fundamental', 7133), ('emphasise', 7134), ('pamper', 7135), ('incredulously', 7136), ('coro', 7137), ('suitable', 7138), ('meaningful', 7139), ('shops', 7140), ('caf', 7141), ('concealer', 7142), ('fred', 7143), ('gladys', 7144), ('glu', 7145), ('simplify', 7146), ('mcintyre', 7147), ('worse', 7148), ('precision', 7149), ('muff', 7150), ('scape', 7151), ('laurent', 7152), ('questioning', 7153), ('scabs', 7154), ('bruis', 7155), ('masculinity', 7156), ('unsuitable', 7157), ('skinner', 7158), ('continuer', 7159), ('riotousrambling', 7160), ('spurs', 7161), ('continui', 7162), ('semifina', 7163), ('deride', 7164), ('shouting', 7165), ('swearing', 7166), ('squelch', 7167), ('planter', 7168), ('hath', 7169), ('apprecia', 7170), ('belmont', 7171), ('halfroaste', 7172), ('trance', 7173), ('abjectly', 7174), ('tel', 7175), ('plumb', 7176), ('drily', 7177), ('rushhou', 7178), ('headway', 7179), ('goddamne', 7180), ('stereotypical', 7181), ('narcissism', 7182), ('spoonful', 7183), ('boredom', 7184), ('happywarmworld', 7185), ('welshpool', 7186), ('viewpoint', 7187), ('mystique', 7188), ('bodypump', 7189), ('compulsory', 7190), ('agnostic', 7191), ('judeo', 7192), ('fundamentalist', 7193), ('detergent', 7194), ('kelsey', 7195), ('sssas', 7196), ('portsmouth', 7197), ('machiavelli', 7198), ('chilling', 7199), ('selfpity', 7200), ('foo', 7201), ('japan', 7202), ('unfriendly', 7203), ('predator', 7204), ('elevate', 7205), ('classy', 7206), ('adrasteius', 7207), ('eulalia', 7208), ('mowbray', 7209), ('mien', 7210), ('cour', 7211), ('freud', 7212), ('injection', 7213), ('altitude', 7214), ('equipman', 7215), ('gump', 7216), ('stayviolation', 7217), ('spasm', 7218), ('diarrhea', 7219), ('mouthful', 7220), ('ller', 7221), ('medicate', 7222), ('sarcoidosis', 7223), ('waterside', 7224), ('speedy', 7225), ('misused', 7226), ('spelling', 7227), ('itv', 7228), ('copyright', 7229), ('violation', 7230), ('machiavellian', 7231), ('tomorr', 7232), ('arrangment', 7233), ('cleo', 7234), ('mar', 7235), ('prose', 7236), ('sneakily', 7237), ('prance', 7238), ('eartha', 7239), ('kitt', 7240), ('blare', 7241), ('anon', 7242), ('malign', 7243), ('photographically', 7244), ('proplem', 7245), ('slr', 7246), ('sensibly', 7247), ('idealistic', 7248), ('clam', 7249), ('shark', 7250), ('recommendation', 7251), ('misspell', 7252), ('cumme', 7253), ('girlie', 7254), ('uplift', 7255), ('wilderness', 7256), ('elegantly', 7257), ('dispos', 7258), ('19th', 7259), ('byron', 7260), ('wonka', 7261), ('faceplate', 7262), ('redesign', 7263), ('marketer', 7264), ('bleat', 7265), ('vanquish', 7266), ('bqff', 7267), ('thirteen', 7268), ('shishido', 7269), ('senpai', 7270), ('sor', 7271), ('dubie', 7272), ('rundown', 7273), ('preston', 7274), ('worsen', 7275), ('ambience', 7276), ('efficient', 7277), ('persistence', 7278), ('nadia', 7279), ('deity', 7280), ('backache', 7281), ('mait', 7282), ('nonplussed', 7283), ('stu', 7284), ('nervo', 7285), ('avery', 7286), ('tearfully', 7287), ('lizard', 7288), ('gill', 7289), ('restroom', 7290), ('unjustified', 7291), ('treasury', 7292), ('swaddle', 7293), ('janne', 7294), ('suominen', 7295), ('trait', 7296), ('untilthenpleasant', 7297), ('stour', 7298), ('burde', 7299), ('jackie', 7300), ('esily', 7301), ('airritate', 7302), ('debra', 7303), ('woodston', 7304), ('kansas', 7305), ('assembly', 7306), ('prob', 7307), ('ruby', 7308), ('tychelle', 7309), ('nonexistent', 7310), ('simulation', 7311), ('midwifery', 7312), ('comfor', 7313), ('umbrella', 7314), ('bangor', 7315), ('lightbody', 7316), ('niba', 7317), ('jittery', 7318), ('meh', 7319), ('attached', 7320), ('haggle', 7321), ('irreparably', 7322), ('bre', 7323), ('simon', 7324), ('skew', 7325), ('vietnam', 7326), ('tofurkey', 7327), ('teac', 7328), ('bunion', 7329), ('brighter', 7330), ('stuckin', 7331), ('snore', 7332), ('caversham', 7333), ('mating', 7334), ('calculate', 7335), ('mediate', 7336), ('clich', 7337), ('isaac', 7338), ('respirometry', 7339), ('effectual', 7340), ('asami', 7341), ('1974', 7342), ('submiss', 7343), ('hackle', 7344), ('solopgangfor', 7345), ('barnog', 7346), ('thy', 7347), ('freakin', 7348), ('exaggerated', 7349), ('olden', 7350), ('sarawak', 7351), ('jugra', 7352), ('synthwave', 7353), ('neds', 7354), ('atomic', 7355), ('dustbin', 7356), ('posy', 7357), ('pixie', 7358), ('springhouse', 7359), ('morrissey', 7360), ('soberly', 7361), ('jeddah', 7362), ('printout', 7363), ('magnum', 7364), ('membre', 7365), ('shonas', 7366), ('athe', 7367), ('unspecified', 7368), ('equipment', 7369), ('auster', 7370), ('nightmarish', 7371), ('prescribed', 7372), ('spook', 7373), ('wherein', 7374), ('mt', 7375), ('unpleasantly', 7376), ('intimidation', 7377), ('stigmatize', 7378), ('stigma', 7379), ('paralyse', 7380), ('abate', 7381), ('jonti', 7382), ('nw', 7383), ('skinnie', 7384), ('datey', 7385), ('apprise', 7386), ('radiologist', 7387), ('constrain', 7388), ('glint', 7389), ('pathological', 7390), ('edible', 7391), ('garnish', 7392), ('samphire', 7393), ('corys', 7394), ('paulo', 7395), ('coelho', 7396), ('trepidatious', 7397), ('inquisitive', 7398), ('handsomefamily', 7399), ('liv', 7400), ('oxford', 7401), ('derange', 7402), ('helena', 7403), ('bonham', 7404), ('slippery', 7405), ('retry', 7406), ('unsteady', 7407), ('crushingly', 7408), ('creativeliar', 7409), ('senilit', 7410), ('liebster', 7411), ('bacon', 7412), ('nickey', 7413), ('homemaker', 7414), ('scanning', 7415), ('comical', 7416), ('pitifu', 7417), ('dependence', 7418), ('revamp', 7419), ('changele', 7420), ('choc', 7421), ('bloc', 7422), ('burmeister', 7423), ('rafferty', 7424), ('cli', 7425), ('blair', 7426), ('coolum', 7427), ('concentration', 7428), ('shepherd', 7429), ('boyfriends', 7430), ('americas', 7431), ('janine', 7432), ('sectret', 7433), ('egf', 7434), ('sparkleapple', 7435), ('mps', 7436), ('hazzard', 7437), ('scoff', 7438), ('smother', 7439), ('oak', 7440), ('heung', 7441), ('unrelated', 7442), ('subcontinent', 7443), ('technically', 7444), ('pea', 7445), ('peas', 7446), ('carrots', 7447), ('clodia', 7448), ('everitt', 7449), ('wherefore', 7450), ('ableness', 7451), ('quorum', 7452), ('furthermore', 7453), ('rambo', 7454), ('massac', 7455), ('cache', 7456), ('brian', 7457), ('davies', 7458), ('pumpkin', 7459), ('marrow', 7460), ('mournfu', 7461), ('audre', 7462), ('lorde', 7463), ('ravenous', 7464), ('emote', 7465), ('spaniard', 7466), ('jun', 7467), ('retarte', 7468), ('merry', 7469), ('insufficiency', 7470), ('ostler', 7471), ('sycf', 7472), ('sonam', 7473), ('genelia', 7474), ('affirmed', 7475), ('sensuous', 7476), ('watching', 7477), ('changez', 7478), ('recline', 7479), ('morosely', 7480), ('cultivated', 7481), ('arca', 7482), ('infact', 7483), ('kudo', 7484), ('organizer', 7485), ('summit', 7486), ('fasttrack', 7487), ('superintendent', 7488), ('ny', 7489), ('shakiness', 7490), ('secretive', 7491), ('crake', 7492), ('sendi', 7493), ('knitter', 7494), ('novoye', 7495), ('russkoye', 7496), ('enclave', 7497), ('brighton', 7498), ('ode', 7499), ('culley', 7500), ('yorke', 7501), ('overslept', 7502), ('constituency', 7503), ('monmouth', 7504), ('proposa', 7505), ('physics', 7506), ('mortuary', 7507), ('compasionate', 7508), ('greive', 7509), ('pani', 7510), ('loiter', 7511), ('dunham', 7512), ('minimise', 7513), ('causing', 7514), ('ryota', 7515), ('keita', 7516), ('kota', 7517), ('bridgewater', 7518), ('illegal', 7519), ('prosecute', 7520), ('africans', 7521), ('umpire', 7522), ('cumberbatch', 7523), ('legside', 7524), ('matteroffact', 7525), ('wiki', 7526), ('assimilate', 7527), ('ganging', 7528), ('engrain', 7529), ('irk', 7530), ('laminate', 7531), ('espa', 7532), ('hd', 7533), ('espouse', 7534), ('graze', 7535), ('imporant', 7536), ('sheep', 7537), ('legality', 7538), ('tatter', 7539), ('crow', 7540), ('moulding', 7541), ('scrapbook', 7542), ('revising', 7543), ('jacksonville', 7544), ('juliannas', 7545), ('spazzola', 7546), ('prima', 7547), ('andare', 7548), ('dormire', 7549), ('creek', 7550), ('meadow', 7551), ('attorney', 7552), ('belle', 7553), ('sebastian', 7554), ('maclaine', 7555), ('unfocused', 7556), ('hatter', 7557), ('aftereffect', 7558), ('hideous', 7559), ('gooooood', 7560), ('obssesse', 7561), ('kermit', 7562), ('didint', 7563), ('tina', 7564), ('reli', 7565), ('diatribe', 7566), ('infamous', 7567), ('bonk', 7568), ('placce', 7569), ('masturbate', 7570), ('sporkgasm', 7571), ('humiliation', 7572), ('camper', 7573), ('denmark', 7574), ('tennyson', 7575), ('shakespeare', 7576), ('moated', 7577), ('grang', 7578), ('oyyy', 7579), ('noh', 7580), ('barbarossa', 7581), ('milanese', 7582), ('consul', 7583), ('imperial', 7584), ('chaste', 7585), ('database', 7586), ('curate', 7587), ('systemic', 7588), ('mishandling', 7589), ('understandably', 7590), ('pollution', 7591), ('chinesepod', 7592), ('podcast', 7593), ('ultrasound', 7594), ('continent', 7595), ('badger', 7596), ('arse', 7597), ('rawr', 7598), ('unkempt', 7599), ('honkerblonke', 7600), ('tony', 7601), ('employman', 7602), ('barker', 7603), ('suppous', 7604), ('skinnyg', 7605), ('provider', 7606), ('mcraven', 7607), ('ut', 7608), ('wilcfry', 7609), ('babysat', 7610), ('remainder', 7611), ('nut', 7612), ('schalm', 7613), ('denis', 7614), ('shoc', 7615), ('jeanpaul', 7616), ('depleted', 7617), ('carping', 7618), ('glc', 7619), ('aldridge', 7620), ('finishe', 7621), ('taint', 7622), ('grie', 7623), ('whimper', 7624), ('uncared', 7625), ('whinge', 7626), ('thrifty', 7627), ('poignantly', 7628), ('browser', 7629), ('twitt', 7630), ('hitler', 7631), ('blaming', 7632), ('shaming', 7633), ('spurn', 7634), ('ramadan', 7635), ('kiat', 7636), ('obsessive', 7637), ('anal', 7638), ('enriching', 7639), ('kindergartener', 7640), ('graph', 7641), ('compress', 7642), ('correspondingly', 7643), ('temperatur', 7644), ('distill', 7645), ('complexity', 7646), ('objective', 7647), ('tantric', 7648), ('harshness', 7649), ('relentlessness', 7650), ('gro', 7651), ('dryer', 7652), ('fodder', 7653), ('rafael', 7654), ('bosch', 7655), ('wacky', 7656), ('percentage', 7657), ('informality', 7658), ('spat', 7659), ('geremiafamily', 7660), ('entrenchedly', 7661), ('pureland', 7662), ('infp', 7663), ('introverted', 7664), ('archeological', 7665), ('wap', 7666), ('folder', 7667), ('discernment', 7668), ('sepang', 7669), ('emoexaderistic', 7670), ('bassanio', 7671), ('woo', 7672), ('portia', 7673), ('renovation', 7674), ('murt', 7675), ('shoulde', 7676), ('grumpily', 7677), ('arriva', 7678), ('avant', 7679), ('garde', 7680), ('justquiltn', 7681), ('uncharted', 7682), ('maturity', 7683), ('midlife', 7684), ('anderson', 7685), ('danny', 7686), ('stalk', 7687), ('erica', 7688), ('hillary', 7689), ('slacker', 7690), ('mcslackerson', 7691), ('pbss', 7692), ('grou', 7693), ('kx', 7694), ('disc', 7695), ('puff', 7696), ('broomfield', 7697), ('usmleasy', 7698), ('intellectually', 7699), ('receiver', 7700), ('steamy', 7701), ('nanashi', 7702), ('convolute', 7703), ('skdd', 7704), ('castanet', 7705), ('raposa', 7706), ('crest', 7707), ('quad', 7708), ('eccentricity', 7709), ('direspecte', 7710), ('desp', 7711), ('jolt', 7712), ('hurting', 7713), ('hermione', 7714), ('segregate', 7715), ('unanswered', 7716), ('cunt', 7717), ('capi', 7718), ('hencke', 7719), ('gillard', 7720), ('roslin', 7721), ('incidence', 7722), ('alexis', 7723), ('trope', 7724), ('normalized', 7725), ('oblivion', 7726), ('irresponsible', 7727), ('folklore', 7728), ('dobie', 7729), ('exorcise', 7730), ('rocking', 7731), ('bourbon', 7732), ('wrecke', 7733), ('leopard', 7734), ('soothing', 7735), ('reagan', 7736), ('harrass', 7737), ('oppress', 7738), ('massacre', 7739), ('necessar', 7740), ('manitz', 7741), ('gfs', 7742), ('toddlerhood', 7743), ('elitist', 7744), ('kilometre', 7745), ('aligncenter', 7746), ('mrdanbaird', 7747), ('reign', 7748), ('grayish', 7749), ('debris', 7750), ('hairstye', 7751), ('organized', 7752), ('nutrient', 7753), ('dense', 7754), ('spaghetti', 7755), ('meatball', 7756), ('invert', 7757), ('suspension', 7758), ('uneven', 7759), ('oscillate', 7760), ('sodium', 7761), ('eatery', 7762), ('creamy', 7763), ('cheesecake', 7764), ('annotation', 7765), ('thequeenbuzz', 7766), ('partne', 7767), ('grind', 7768), ('brandish', 7769), ('gon', 7770), ('kinnock', 7771), ('iss', 7772), ('dunstable', 7773), ('trialle', 7774), ('grudgingly', 7775), ('doucher', 7776), ('aroma', 7777), ('bhubaneswar', 7778), ('orissa', 7779), ('subdue', 7780), ('qaf', 7781), ('jacynthe', 7782), ('lookin', 7783), ('rupaul', 7784), ('kayle', 7785), ('gerle', 7786), ('foist', 7787), ('truley', 7788), ('polanski', 7789), ('edmontonian', 7790), ('nellie', 7791), ('wanatribe', 7792), ('arrogant', 7793), ('incen', 7794), ('inflammatory', 7795), ('rounded', 7796), ('terbutaline', 7797), ('drank', 7798), ('amazon', 7799), ('barne', 7800), ('noble', 7801), ('charging', 7802), ('beanbag', 7803), ('petal', 7804), ('taboo', 7805), ('mungo', 7806), ('sobriety', 7807), ('understandable', 7808), ('alignment', 7809), ('proximity', 7810), ('dpns', 7811), ('blackwell', 7812), ('exp', 7813), ('offset', 7814), ('foray', 7815), ('khmer', 7816), ('atrocity', 7817), ('1975', 7818), ('cambodia', 7819), ('cambodian', 7820), ('factio', 7821), ('alexei', 7822), ('preschooler', 7823), ('vengeance', 7824), ('hovel', 7825), ('blo', 7826), ('goodnight', 7827), ('neglected', 7828), ('undeservedly', 7829), ('transient', 7830), ('unconsciousness', 7831), ('stymie', 7832), ('unintended', 7833), ('warming', 7834), ('correctness', 7835), ('geese', 7836), ('bevy', 7837), ('du', 7838), ('gratificat', 7839), ('traveler', 7840), ('humping', 7841), ('laddie', 7842), ('establishment', 7843), ('xango', 7844), ('commodore', 7845), ('vulturous', 7846), ('sic', 7847), ('poisonous', 7848), ('marbled', 7849), ('murrelet', 7850), ('potent', 7851), ('irfan', 7852), ('pathan', 7853), ('hilariously', 7854), ('ka', 7855), ('adam', 7856), ('grinch', 7857), ('skellington', 7858), ('untidy', 7859), ('soundly', 7860), ('thrash', 7861), ('mot', 7862), ('kook', 7863), ('tamar', 7864), ('ahahahaha', 7865), ('morbidly', 7866), ('independently', 7867), ('vale', 7868), ('smelly', 7869), ('jalopy', 7870), ('dea', 7871), ('sloshy', 7872), ('pistol', 7873), ('hewson', 7874), ('australi', 7875), ('societys', 7876), ('mistreat', 7877), ('vocref', 7878), ('ontology', 7879), ('riley', 7880), ('republican', 7881), ('unseat', 7882), ('formulate', 7883), ('baht', 7884), ('usd', 7885), ('rlsh', 7886), ('litsen', 7887), ('struff', 7888), ('fedtastic', 7889), ('tennis', 7890), ('trout', 7891), ('tasty', 7892), ('abound', 7893), ('unseen', 7894), ('ambient', 7895), ('renowne', 7896), ('socalled', 7897), ('regiment', 7898), ('substantially', 7899), ('detention', 7900), ('stephen', 7901), ('spielberg', 7902), ('hamnett', 7903), ('allege', 7904), ('500', 7905), ('jasper', 7906), ('crone', 7907), ('comer', 7908), ('thankk', 7909), ('artificially', 7910), ('snotface', 7911), ('scotch', 7912), ('expedition', 7913), ('cooke', 7914), ('ind', 7915), ('peregrinos', 7916), ('hapiness', 7917), ('miniscule', 7918), ('chriss', 7919), ('liberalisation', 7920), ('hardliner', 7921), ('forgo', 7922), ('ronaldsay', 7923), ('mayo', 7924), ('karmardav', 7925), ('ubuntu', 7926), ('testosterone', 7927), ('unruly', 7928), ('resilience', 7929), ('tiring', 7930), ('randythomas', 7931), ('marvin', 7932), ('nesting', 7933), ('homemake', 7934), ('leaden', 7935), ('trader', 7936), ('tartandheathere', 7937), ('frisky', 7938), ('minicab', 7939), ('cabb', 7940), ('reluctance', 7941), ('having', 7942), ('suited', 7943), ('playboy', 7944), ('portable', 7945), ('compatible', 7946), ('judy', 7947), ('glasberg', 7948), ('blunt', 7949), ('chink', 7950), ('yourselves', 7951), ('cripple', 7952), ('forsaken', 7953), ('rul', 7954), ('isobelmeg', 7955), ('threequarter', 7956), ('vinyl', 7957), ('floo', 7958), ('tai', 7959), ('stony', 7960), ('nationalism', 7961), ('aryans', 7962), ('nothnig', 7963), ('someoen', 7964), ('lauging', 7965), ('scarecrow', 7966), ('wizard', 7967), ('undone', 7968), ('mastery', 7969), ('itemised', 7970), ('bedworth', 7971), ('34', 7972), ('jury', 7973), ('hea', 7974), ('complement', 7975), ('chic', 7976), ('structured', 7977), ('sequence', 7978), ('squire', 7979), ('batman', 7980), ('musicianship', 7981), ('goliath', 7982), ('humblest', 7983), ('arsenal', 7984), ('polenta', 7985), ('wyatt', 7986), ('bowie', 7987), ('iman', 7988), ('limbed', 7989), ('journale', 7990), ('overcommit', 7991), ('entertaining', 7992), ('homis', 7993), ('conection', 7994), ('customize', 7995), ('inthewarmholdofyourlovingmind', 7996), ('countryside', 7997), ('postcard', 7998), ('holyhead', 7999), ('pacman', 8000), ('pacquiao', 8001), ('comm', 8002), ('bedriacum', 8003), ('swans', 8004), ('yunhos', 8005), ('rap', 8006), ('indigestion', 8007), ('harakiri', 8008), ('paradoxically', 8009), ('grudge', 8010), ('someway', 8011), ('enfold', 8012), ('endeavour', 8013), ('transformer', 8014), ('fluidly', 8015), ('cosmically', 8016), ('klysta', 8017), ('fence', 8018), ('pioneer', 8019), ('brady', 8020), ('directorial', 8021), ('progre', 8022), ('likewise', 8023), ('hurtle', 8024), ('latley', 8025), ('jasmine', 8026), ('teapot', 8027), ('pretzel', 8028), ('contractual', 8029), ('vietnamese', 8030), ('eurodancemix', 8031), ('splutter', 8032), ('frost', 8033), ('frosting', 8034), ('shorten', 8035), ('tran', 8036), ('sophist', 8037), ('israelis', 8038), ('arguably', 8039), ('constitute', 8040), ('palestinians', 8041), ('vitor', 8042), ('hunker', 8043), ('sxe', 8044), ('gobble', 8045), ('birdwatcher', 8046), ('yesterda', 8047), ('unlucky', 8048), ('orthodontist', 8049), ('pediatric', 8050), ('cleanser', 8051), ('ivspirit', 8052), ('translatethis', 8053), ('gauge', 8054), ('flog', 8055), ('subkect', 8056), ('growl', 8057), ('gertrude', 8058), ('bitching', 8059), ('dawning', 8060), ('marlowe', 8061), ('humanitys', 8062), ('ruthless', 8063), ('rapacity', 8064), ('gloome', 8065), ('assuredly', 8066), ('identifying', 8067), ('anonymity', 8068), ('buuuuuut', 8069), ('rach', 8070), ('caba', 8071), ('reasoning', 8072), ('awkwardly', 8073), ('acquainted', 8074), ('scrawny', 8075), ('wheelchair', 8076), ('toobright', 8077), ('poster', 8078), ('cello', 8079), ('cert', 8080), ('kiyoshi', 8081), ('mormonism', 8082), ('krakauer', 8083), ('duel', 8084), ('recou', 8085), ('reali', 8086), ('flirtie', 8087), ('ther', 8088), ('dismantle', 8089), ('agility', 8090), ('certifiably', 8091), ('reinforcement', 8092), ('reframe', 8093), ('dissolving', 8094), ('defer', 8095), ('prelim', 8096), ('niche', 8097), ('sonogram', 8098), ('nauseated', 8099), ('rejecte', 8100), ('laundering', 8101), ('stoop', 8102), ('gyp', 8103), ('confirmation', 8104), ('snidey', 8105), ('soooooooooooo', 8106), ('heartsick', 8107), ('eurovision', 8108), ('earthquake', 8109), ('christchurch', 8110), ('fad', 8111), ('embarrased', 8112), ('dominant', 8113), ('beaubronz', 8114), ('tanning', 8115), ('boudoir', 8116), ('asma', 8117), ('docrat', 8118), ('tolonen', 8119), ('grittily', 8120), ('pointy', 8121), ('floss', 8122), ('etch', 8123), ('britt', 8124), ('ekland', 8125), ('processing', 8126), ('treble', 8127), ('sooooooooper', 8128), ('tonigh', 8129), ('crisp', 8130), ('tch', 8131), ('endzone', 8132), ('springpad', 8133), ('culmination', 8134), ('dancefloor', 8135), ('tempo', 8136), ('wane', 8137), ('dummy', 8138), ('pariah', 8139), ('hella', 8140), ('clot', 8141), ('superduperreally', 8142), ('backstabber', 8143), ('accusation', 8144), ('ymor', 8145), ('raven', 8146), ('lite', 8147), ('waterskiiing', 8148), ('tyr', 8149), ('amidst', 8150), ('semiinebriated', 8151), ('hyena', 8152), ('jareth', 8153), ('labyrinth', 8154), ('psychically', 8155), ('galvanise', 8156), ('finalize', 8157), ('shackel', 8158), ('magistrate', 8159), ('tltg', 8160), ('cretin', 8161), ('nouveau', 8162), ('rockabilly', 8163), ('tier', 8164), ('thankfulness', 8165), ('weed', 8166), ('evaluation', 8167), ('headless', 8168), ('restive', 8169), ('reliant', 8170), ('latin', 8171), ('prefecture', 8172), ('pol', 8173), ('conventional', 8174), ('barraclough', 8175), ('methuen', 8176), ('1295', 8177), ('schindler', 8178), ('contend', 8179), ('morality', 8180), ('pollicino', 8181), ('quixote', 8182), ('windmill', 8183), ('spazze', 8184), ('exexbf', 8185), ('punctual', 8186), ('drape', 8187), ('gardener', 8188), ('adulth', 8189), ('jong', 8190), ('unpaid', 8191), ('tangibly', 8192), ('okc', 8193), ('eharmony', 8194), ('treacherous', 8195), ('kardashians', 8196), ('roseanne', 8197), ('linda', 8198), ('systematically', 8199), ('assassinate', 8200), ('slog', 8201), ('mulligan', 8202), ('undutiful', 8203), ('aaaand', 8204), ('utopia', 8205), ('dullness', 8206), ('porch', 8207), ('bathe', 8208), ('fightstar', 8209), ('catchy', 8210), ('fantastically', 8211), ('possesive', 8212), ('canva', 8213), ('voldemort', 8214), ('maggovertski', 8215), ('powde', 8216), ('twd', 8217), ('dual', 8218), ('excellence', 8219), ('pollen', 8220), ('barometric', 8221), ('cambridge', 8222), ('norfolk', 8223), ('soar', 8224), ('paparazzo', 8225), ('zq', 8226), ('jcho', 8227), ('cpine', 8228), ('metaphorically', 8229), ('maudie', 8230), ('wonde', 8231), ('infect', 8232), ('disea', 8233), ('kith', 8234), ('oprah', 8235), ('aforementione', 8236), ('schmidt', 8237), ('nipigon', 8238), ('sledding', 8239), ('liverpool', 8240), ('forefoot', 8241), ('lateral', 8242), ('purpos', 8243), ('wantig', 8244), ('zicam', 8245), ('unbound', 8246), ('fluctuation', 8247), ('conce', 8248), ('coldness', 8249), ('merchant', 8250), ('mailbox', 8251), ('wally', 8252), ('lamb', 8253), ('addle', 8254), ('turnout', 8255), ('err', 8256), ('wrapping', 8257), ('longingly', 8258), ('probe', 8259), ('hardness', 8260), ('freelance', 8261), ('cogently', 8262), ('misogynist', 8263), ('intermarry', 8264), ('indifferen', 8265), ('dezinesamaze', 8266), ('unearthly', 8267), ('weightloss', 8268), ('irresistible', 8269), ('frock', 8270), ('hypothermia', 8271), ('balmy', 8272), ('witted', 8273), ('ulta', 8274), ('sephora', 8275), ('carol', 8276), ('fareha', 8277), ('brightness', 8278), ('dispel', 8279), ('eline', 8280), ('feminine', 8281), ('masculine', 8282), ('mun', 8283), ('wheeler', 8284), ('laug', 8285), ('sid', 8286), ('odone', 8287), ('1984', 8288), ('funlove', 8289), ('sixyearold', 8290), ('ald', 8291), ('signify', 8292), ('undue', 8293), ('bail', 8294), ('henrietta', 8295), ('ariel', 8296), ('chelmsford', 8297), ('tyrant', 8298), ('happiuness', 8299), ('pai', 8300), ('boxer', 8301), ('evar', 8302), ('beard', 8303), ('grocer', 8304), ('ap', 8305), ('stiller', 8306), ('vaughn', 8307), ('hater', 8308), ('synod', 8309), ('peeved', 8310), ('induced', 8311), ('nightlife', 8312), ('relaxing', 8313), ('pines', 8314), ('follicle', 8315), ('rudley', 8316), ('ica', 8317), ('unavoidable', 8318), ('misscariage', 8319), ('va', 8320), ('prandi', 8321), ('contention', 8322), ('admittance', 8323), ('canon', 8324), ('iii', 8325), ('scafell', 8326), ('unemotional', 8327), ('lauper', 8328), ('rollercoaster', 8329), ('unplanned', 8330), ('continu', 8331), ('prideful', 8332), ('aout', 8333), ('seo', 8334), ('corey', 8335), ('vesa', 8336), ('kivinen', 8337), ('dlpt', 8338), ('mortality', 8339), ('colbert', 8340), ('batting', 8341), ('enjorlas', 8342), ('concequence', 8343), ('funk', 8344), ('sodden', 8345), ('sardonic', 8346), ('squat', 8347), ('brunch', 8348), ('waldo', 8349), ('flinch', 8350), ('alotta', 8351), ('truman', 8352), ('sinosoviet', 8353), ('dairen', 8354), ('liaotung', 8355), ('peninsula', 8356), ('manchur', 8357), ('intermittent', 8358), ('beverage', 8359), ('carryout', 8360), ('chukey', 8361), ('inapporpriate', 8362), ('fergie', 8363), ('tonic', 8364), ('whisky', 8365), ('gin', 8366), ('churchoffuck', 8367), ('hostage', 8368), ('negotiator', 8369), ('elvive', 8370), ('sls', 8371), ('ting', 8372), ('alec', 8373), ('torch', 8374), ('autism', 8375), ('enforcement', 8376), ('congest', 8377), ('holistic', 8378), ('ebb', 8379), ('whooping', 8380), ('trample', 8381), ('bgr', 8382), ('upswing', 8383), ('trav', 8384), ('drivel', 8385), ('stupendous', 8386), ('incredulity', 8387), ('amorphous', 8388), ('argume', 8389), ('replica', 8390), ('lindo', 8391), ('devin', 8392), ('smith', 8393), ('eradication', 8394), ('hearth', 8395), ('accrue', 8396), ('nameless', 8397), ('marginally', 8398), ('awash', 8399), ('overeducate', 8400), ('underpaid', 8401), ('dupe', 8402), ('unspokenword', 8403), ('keptinside', 8404), ('intact', 8405), ('quota', 8406), ('overdue', 8407), ('wuthere', 8408), ('nigeria', 8409), ('rustie', 8410), ('moose', 8411), ('reevaluate', 8412), ('bikini', 8413), ('peacefulness', 8414), ('bandwagon', 8415), ('gifted', 8416), ('awesomness', 8417), ('headmaster', 8418), ('originality', 8419), ('conformity', 8420), ('bobbin', 8421), ('fulsome', 8422), ('nicole', 8423), ('dedicated', 8424), ('fraction', 8425), ('ure', 8426), ('emilyhursh', 8427), ('paternal', 8428), ('publicly', 8429), ('believ', 8430), ('chabad', 8431), ('sukkah', 8432), ('filter', 8433), ('schach', 8434), ('lattice', 8435), ('devestate', 8436), ('suzannah', 8437), ('dwyer', 8438), ('24', 8439), ('bates', 8440), ('conferenc', 8441), ('rupee', 8442), ('tricky', 8443), ('zenos', 8444), ('nannye', 8445), ('snark', 8446), ('chiharu', 8447), ('galileo', 8448), ('rival', 8449), ('characteristically', 8450), ('framework', 8451), ('dom', 8452), ('beforehand', 8453), ('platitude', 8454), ('pram', 8455), ('fucker', 8456), ('laughing', 8457), ('audie', 8458), ('mona', 8459), ('multiply', 8460), ('doingaone', 8461), ('superdrug', 8462), ('bunche', 8463), ('heeled', 8464), ('liriano', 8465), ('recycled', 8466), ('generic', 8467), ('infatuation', 8468), ('civilization', 8469), ('establishm', 8470), ('imitate', 8471), ('irregardless', 8472), ('wro', 8473), ('shaw', 8474), ('cleveland', 8475), ('veteran', 8476), ('50', 8477), ('complimentary', 8478), ('provoking', 8479), ('weighing', 8480), ('devon', 8481), ('loch', 8482), ('fro', 8483), ('yarns', 8484), ('sync', 8485), ('itune', 8486), ('accessible', 8487), ('discouraging', 8488), ('pret', 8489), ('md', 8490), ('immigration', 8491), ('province', 8492), ('prudent', 8493), ('zipline', 8494), ('romantically', 8495), ('introspective', 8496), ('euskc', 8497), ('forming', 8498), ('thanksgive', 8499), ('sparse', 8500), ('adjectival', 8501), ('punctuation', 8502), ('butttt', 8503), ('semuanya', 8504), ('sudah', 8505), ('terlambat', 8506), ('scrunching', 8507), ('herrman', 8508), ('jonny', 8509), ('reset', 8510), ('unheard', 8511), ('interestingly', 8512), ('nipple', 8513), ('weekday', 8514), ('diwali', 8515), ('feminism', 8516), ('bauer', 8517), ('unconvinced', 8518), ('cudnt', 8519), ('fren', 8520), ('dolly', 8521), ('luce', 8522), ('hote', 8523), ('willed', 8524), ('tx', 8525), ('sassiness', 8526), ('amkris', 8527), ('toshibalol', 8528), ('amit', 8529), ('nooo', 8530), ('cameraman', 8531), ('micky', 8532), ('incongruousl', 8533), ('urgent', 8534), ('enclose', 8535), ('sergeant', 8536), ('lancaster', 8537), ('aircraft', 8538), ('broom', 8539), ('madden', 8540), ('uncomposed', 8541), ('phew', 8542), ('eagleandhammer', 8543), ('swif', 8544), ('rin', 8545), ('isi', 8546), ('enna', 8547), ('razo', 8548), ('ellis', 8549), ('nightmar', 8550), ('jt', 8551), ('humanly', 8552), ('cempaka', 8553), ('yup', 8554), ('gilbert', 8555), ('theybf', 8556), ('hb', 8557), ('ac', 8558), ('cracked', 8559), ('samuel', 8560), ('inconsistent', 8561), ('called', 8562), ('familys', 8563), ('pediatrician', 8564), ('pyongyang', 8565), ('mover', 8566), ('auburn', 8567), ('clung', 8568), ('scalp', 8569), ('freckle', 8570), ('tigh', 8571), ('fateh', 8572), ('duet', 8573), ('exert', 8574), ('chug', 8575), ('alhamdulillah', 8576), ('steadily', 8577), ('jeal', 8578), ('economically', 8579), ('hem', 8580), ('haw', 8581), ('goer', 8582), ('awoken', 8583), ('bodega', 8584), ('changer', 8585), ('winterpaysforsummer', 8586), ('seemad', 8587), ('goldschlager', 8588), ('farth', 8589), ('loreal', 8590), ('patent', 8591), ('brabham', 8592), ('downstream', 8593), ('picoult', 8594), ('julian', 8595), ('nutritious', 8596), ('griff', 8597), ('retreat', 8598), ('zenden', 8599), ('reuters', 8600), ('kidnapper', 8601), ('magnate', 8602), ('freddy', 8603), ('heineken', 8604), ('educationg', 8605), ('mamas', 8606), ('papas', 8607), ('overactive', 8608), ('edwin', 8609), ('olajideolafunmbi', 8610), ('batchmate', 8611), ('sheri', 8612), ('confide', 8613), ('accordance', 8614), ('faithfulness', 8615), ('dissassociate', 8616), ('lottery', 8617), ('barking', 8618), ('squirrel', 8619), ('johann', 8620), ('khartoum', 8621), ('descara', 8622), ('handbag', 8623), ('donald', 8624), ('densely', 8625), ('meandering', 8626), ('shortcoming', 8627), ('outstanding', 8628), ('impair', 8629), ('clumsiness', 8630), ('whee', 8631), ('unstable', 8632), ('yourweightlossmethod', 8633), ('dispaire', 8634), ('bop', 8635), ('noticable', 8636), ('commonplace', 8637), ('loathed', 8638), ('spritzer', 8639), ('nagalene', 8640), ('stellarium', 8641), ('sf', 8642), ('deterioration', 8643), ('cutback', 8644), ('philippa', 8645), ('steely', 8646), ('suppliers', 8647), ('lopez', 8648), ('competito', 8649), ('constrained', 8650), ('culinary', 8651), ('stander', 8652), ('overrate', 8653), ('planner', 8654), ('bridezilla', 8655), ('groom', 8656), ('thos', 8657), ('extremly', 8658), ('superstorm', 8659), ('metastasis', 8660), ('glossy', 8661), ('mihm', 8662), ('jogless', 8663), ('oogle', 8664), ('barefoot', 8665), ('hummpffff', 8666), ('polyamorous', 8667), ('oviedo', 8668), ('melndez', 8669), ('vald', 8670), ('thirtyeight', 8671), ('sag', 8672), ('jawline', 8673), ('paramilitary', 8674), ('arc', 8675), ('stacey', 8676), ('baremineral', 8677), ('marjane', 8678), ('researched', 8679), ('delicately', 8680), ('kristi', 8681), ('uhuru', 8682), ('karua', 8683), ('crol', 8684), ('tl', 8685), ('clairee', 8686), ('ambleside', 8687), ('undress', 8688), ('cineworld', 8689), ('lambrusco', 8690), ('bubbly', 8691), ('understo', 8692), ('twas', 8693), ('bedside', 8694), ('handing', 8695), ('paining', 8696), ('alva', 8697), ('doorway', 8698), ('paypal', 8699), ('disgestive', 8700), ('scabbe', 8701), ('unheale', 8702), ('gourmet', 8703), ('delicacy', 8704), ('disperse', 8705), ('fragmented', 8706), ('gallow', 8707), ('unedited', 8708), ('preacher', 8709), ('podium', 8710), ('intricate', 8711), ('jeer', 8712), ('raging', 8713), ('rever', 8714), ('mite', 8715), ('dianne', 8716), ('realisation', 8717), ('berk', 8718), ('hotshot', 8719), ('humming', 8720), ('pulp', 8721), ('promoter', 8722), ('duva', 8723), ('contender', 8724), ('fi', 8725), ('js', 8726), ('jilt', 8727), ('childre', 8728), ('jeannie', 8729), ('badman', 8730), ('forego', 8731), ('futon', 8732), ('prolong', 8733), ('pistil', 8734), ('manliness', 8735), ('notcied', 8736), ('itchy', 8737), ('reprogramme', 8738), ('eper', 8739), ('melty', 8740), ('dryeye', 8741), ('coercive', 8742), ('moriartys', 8743), ('evilness', 8744), ('lydi', 8745), ('prowl', 8746), ('cite', 8747), ('scarce', 8748), ('igle', 8749), ('pristine', 8750), ('merasa', 8751), ('luar', 8752), ('biasa', 8753), ('karena', 8754), ('kulihat', 8755), ('specialty', 8756), ('utilize', 8757), ('lea', 8758), ('pleasent', 8759), ('9th', 8760), ('travesty', 8761), ('impe', 8762), ('unsurprising', 8763), ('kicking', 8764), ('diagonal', 8765), ('kendo', 8766), ('admiral', 8767), ('byng', 8768), ('minorca', 8769), ('cowardice', 8770), ('wan', 8771), ('reproduce', 8772), ('expressive', 8773), ('eurosceptic', 8774), ('handling', 8775), ('maastricht', 8776), ('shamble', 8777), ('dharavi', 8778), ('turnover', 8779), ('understoo', 8780), ('unopened', 8781), ('progression', 8782), ('pneumonia', 8783), ('disadvantag', 8784), ('iteration', 8785), ('strait', 8786), ('deke', 8787), ('legitimize', 8788), ('varsity', 8789), ('shifty', 8790), ('ediebloom', 8791), ('pave', 8792), ('prabhupada', 8793), ('benzema', 8794), ('mould', 8795), ('contempt', 8796), ('dicken', 8797), ('blurred', 8798), ('tremor', 8799), ('inaugural', 8800), ('vanity', 8801), ('meme', 8802), ('autocorrect', 8803), ('payperpost', 8804), ('artifically', 8805), ('reground', 8806), ('faite', 8807), ('adf', 8808), ('consecrate', 8809), ('groban', 8810), ('excessively', 8811), ('hipster', 8812), ('songy', 8813), ('recede', 8814), ('wading', 8815), ('fune', 8816), ('craisin', 8817), ('inflated', 8818), ('sno', 8819), ('gusto', 8820), ('crucified', 8821), ('forsake', 8822), ('trembly', 8823), ('piggy', 8824), ('amus', 8825), ('hardbroom', 8826), ('reprimand', 8827), ('defect', 8828), ('clover', 8829), ('blatant', 8830), ('olivias', 8831), ('unbelievably', 8832), ('additional', 8833), ('jogger', 8834), ('outsprinte', 8835), ('instant', 8836), ('disruptive', 8837), ('canne', 8838), ('pedretti', 8839), ('scandalou', 8840), ('mehow', 8841), ('infield', 8842), ('auggie', 8843), ('outro', 8844), ('trancelike', 8845), ('edgware', 8846), ('multitudinous', 8847), ('unreceptive', 8848), ('neverende', 8849), ('abu', 8850), ('inexperience', 8851), ('saddened', 8852), ('monarchs', 8853), ('ineffectual', 8854), ('authoritative', 8855), ('clinical', 8856), ('knelt', 8857), ('occult', 8858), ('grandpare', 8859), ('jakun', 8860), ('allergen', 8861), ('restriction', 8862), ('irina', 8863), ('reaffirm', 8864), ('rolex', 8865), ('unilaterally', 8866), ('carelessness', 8867), ('martialle', 8868), ('acquit', 8869), ('cathy', 8870), ('fatherly', 8871), ('inste', 8872), ('fukumura', 8873), ('mizuki', 8874), ('buying', 8875), ('treated', 8876), ('lathi', 8877), ('corset', 8878), ('gulp', 8879), ('interactive', 8880), ('intentional', 8881), ('tgirl', 8882), ('ruslan', 8883), ('fedotenko', 8884), ('hinderance', 8885), ('activation', 8886), ('eclipse', 8887), ('solomon', 8888), ('unfollow', 8889), ('maniacal', 8890), ('frickin', 8891), ('cholesterol', 8892), ('turbulently', 8893), ('euan', 8894), ('unbreakable', 8895), ('bombard', 8896), ('dya', 8897), ('jacque', 8898), ('feelingless', 8899), ('kisser', 8900), ('nijifagilie', 8901), ('toast', 8902), ('stylesheet', 8903), ('jdelivery', 8904), ('exicte', 8905), ('eagerly', 8906), ('andri', 8907), ('torne', 8908), ('weatherman', 8909), ('forecast', 8910), ('mcarthur', 8911), ('aficionado', 8912), ('kingswood', 8913), ('lightheaded', 8914), ('calgary', 8915), ('desolation', 8916), ('miniature', 8917), ('rapist', 8918), ('rigorously', 8919), ('crudely', 8920), ('huvin', 8921), ('stretcher', 8922), ('perr', 8923), ('kerte', 8924), ('oot', 8925), ('poplin', 8926), ('shor', 8927), ('heyy', 8928), ('mak', 8929), ('transiently', 8930), ('thebalm', 8931), ('tude', 8932), ('interlochen', 8933), ('jonathan', 8934), ('mcwhinney', 8935), ('55', 8936), ('drumhark', 8937), ('comber', 8938), ('singleengined', 8939), ('spectato', 8940), ('hy', 8941), ('portugu', 8942), ('dehydrate', 8943), ('zimmerman', 8944), ('detoxified', 8945), ('iws', 8946), ('unlock', 8947), ('wimp', 8948), ('helmet', 8949), ('dykey', 8950), ('data', 8951), ('crucial', 8952), ('budgetary', 8953), ('fascinating', 8954), ('pap', 8955), ('airplane', 8956), ('committed', 8957), ('zoo', 8958), ('mag', 8959), ('blahness', 8960), ('pagan', 8961), ('originate', 8962), ('nipping', 8963), ('wilkinson', 8964), ('defea', 8965), ('viol', 8966), ('sniff', 8967), ('madre', 8968), ('fieldtrip', 8969), ('thang', 8970), ('blacken', 8971), ('remai', 8972), ('lesley', 8973), ('harvest', 8974), ('damp', 8975), ('lighthearted', 8976), ('informational', 8977), ('dummies', 8978), ('prequel', 8979), ('jedi', 8980), ('huda', 8981), ('hairdryer', 8982), ('dumbass', 8983), ('rukia', 8984), ('minded', 8985), ('ignre', 8986), ('solidarity', 8987), ('stripping', 8988), ('rights', 8989), ('prupose', 8990), ('snippet', 8991), ('attire', 8992), ('attainable', 8993), ('sadne', 8994), ('johnson', 8995), ('mikala', 8996), ('noticeably', 8997), ('revalidation', 8998), ('portfolio', 8999), ('sadistic', 9000), ('opis', 9001), ('sashy', 9002), ('toned', 9003), ('lavander', 9004), ('brick', 9005), ('warfare', 9006), ('vicente', 9007), ('reproductive', 9008), ('instrumental', 9009), ('ala', 9010), ('hizaki', 9011), ('predatory', 9012), ('lunar', 9013), ('hubbie', 9014), ('corabeth', 9015), ('observant', 9016), ('cheerleader', 9017), ('enchant', 9018), ('deferential', 9019), ('khezef', 9020), ('eventuallythe', 9021), ('lovein', 9022), ('condescend', 9023), ('wu', 9024), ('marten', 9025), ('laughable', 9026), ('flattened', 9027), ('obvi', 9028), ('eit', 9029), ('herb', 9030), ('wiry', 9031), ('polished', 9032), ('profusely', 9033), ('unclear', 9034), ('joel', 9035), ('jonese', 9036), ('outr', 9037), ('moribund', 9038), ('reverend', 9039), ('prentice', 9040), ('federation', 9041), ('dispense', 9042), ('contracept', 9043), ('affectionately', 9044), ('sparsh', 9045), ('witless', 9046), ('gabriel', 9047), ('putter', 9048), ('asthma', 9049), ('collapese', 9050), ('reseach', 9051), ('unsophisticated', 9052), ('dittmar', 9053), ('pochayiv', 9054), ('consulate', 9055), ('counterproductive', 9056), ('saskatchewan', 9057), ('silverygreen', 9058), ('cesspool', 9059), ('shimmy', 9060), ('ing', 9061), ('whitney', 9062), ('fox', 9063), ('jonalyn', 9064), ('fincher', 9065), ('soulation', 9066), ('bellman', 9067), ('romanticise', 9068), ('castiel', 9069), ('legtimately', 9070), ('habitual', 9071), ('initiation', 9072), ('seedy', 9073), ('ayumi', 9074), ('nitch', 9075), ('vt', 9076), ('illegitimate', 9077), ('deedee', 9078), ('backdrop', 9079), ('imaginary', 9080), ('cognize', 9081), ('cosmos', 9082), ('years', 9083), ('vuitton', 9084), ('lv', 9085), ('boundless', 9086), ('homey', 9087), ('vase', 9088), ('acctually', 9089), ('maine', 9090), ('headlamp', 9091), ('tent', 9092), ('pork', 9093), ('loin', 9094), ('gallon', 9095), ('ziplock', 9096), ('marinade', 9097), ('freezer', 9098), ('clueless', 9099), ('pacify', 9100), ('intoxication', 9101), ('bosom', 9102), ('sexist', 9103), ('ts', 9104), ('kassim', 9105), ('selamat', 9106), ('pond', 9107), ('timor', 9108), ('compass', 9109), ('awry', 9110), ('melbour', 9111), ('invent', 9112), ('deen', 9113), ('bandhu', 9114), ('fallen', 9115), ('uplifter', 9116), ('browness', 9117), ('holi', 9118), ('younger', 9119), ('peo', 9120), ('genetically', 9121), ('microbe', 9122), ('witch', 9123), ('tbr', 9124), ('ruffle', 9125), ('inflate', 9126), ('conform', 9127), ('squirm', 9128), ('sharknado', 9129), ('outsid', 9130), ('simplethoughtsonthing', 9131), ('pogue', 9132), ('reggae', 9133), ('interviewer', 9134), ('contemptuously', 9135), ('tryin', 9136), ('gud', 9137), ('understad', 9138), ('abt', 9139), ('problemn', 9140), ('carin', 9141), ('pumpin', 9142), ('inventory', 9143), ('perishable', 9144), ('passer', 9145), ('spectra', 9146), ('gfb', 9147), ('finale', 9148), ('reincarnation', 9149), ('euphoric', 9150), ('abundance', 9151), ('spazzing', 9152), ('thingy', 9153), ('gikwang', 9154), ('manageable', 9155), ('ruddy', 9156), ('decay', 9157), ('washedout', 9158), ('perspi', 9159), ('caustic', 9160), ('influx', 9161), ('flist', 9162), ('temperamental', 9163), ('trio', 9164), ('heroes', 9165), ('lieutenant', 9166), ('protectiveness', 9167), ('orthodox', 9168), ('mixer', 9169), ('detoxing', 9170), ('electrified', 9171), ('thirtieth', 9172), ('linesman', 9173), ('offside', 9174), ('adjoining', 9175), ('outsize', 9176), ('sou', 9177), ('wester', 9178), ('wellie', 9179), ('scone', 9180), ('matta', 9181), ('nashville', 9182), ('cum', 9183), ('monroe', 9184), ('launch', 9185), ('hertha', 9186), ('predawn', 9187), ('forebode', 9188), ('suicidalness', 9189), ('earley', 9190), ('havet', 9191), ('snarl', 9192), ('umpteenth', 9193), ('detach', 9194), ('hudson', 9195), ('sweetly', 9196), ('pout', 9197), ('resolutely', 9198), ('rosebery', 9199), ('sotheby', 9200), ('goahead', 9201), ('cordial', 9202), ('exemplify', 9203), ('extensive', 9204), ('geez', 9205), ('mord', 9206), ('sith', 9207), ('sympathic', 9208), ('warweary', 9209), ('rebelliou', 9210), ('longlaste', 9211), ('rad', 9212), ('caledonia', 9213), ('decluttere', 9214), ('cellular', 9215), ('sweetie', 9216), ('stevie', 9217), ('amma', 9218), ('whelm', 9219), ('ugh', 9220), ('shortsighted', 9221), ('misunderstanding', 9222), ('reexplain', 9223), ('horrendously', 9224), ('beluga', 9225), ('busk', 9226), ('instrument', 9227), ('colorado', 9228), ('brendon', 9229), ('molest', 9230), ('uncomfterble', 9231), ('opener', 9232), ('cdn', 9233), ('hank', 9234), ('convent', 9235), ('muffle', 9236), ('annabel', 9237), ('madly', 9238), ('hurrica', 9239), ('ww', 9240), ('hmm', 9241), ('absorption', 9242), ('meek', 9243), ('ethnicity', 9244), ('congratulate', 9245), ('intro', 9246), ('fff', 9247), ('trebuchet', 9248), ('helvetica', 9249), ('bitstream', 9250), ('vera', 9251), ('intolerance', 9252), ('affronted', 9253), ('suffe', 9254), ('kiddo', 9255), ('kiddos', 9256), ('solitude', 9257), ('enmayi', 9258), ('elf', 9259), ('billiard', 9260), ('bleach', 9261), ('johnnykaje', 9262), ('uwilnevrknow', 9263), ('viral', 9264), ('hotline', 9265), ('biochemistry', 9266), ('zambia', 9267), ('wod', 9268), ('existent', 9269), ('mug', 9270), ('backpacking', 9271), ('comprimise', 9272), ('antidepressant', 9273), ('faber', 9274), ('vaudeville', 9275), ('1929', 9276), ('baritone', 9277), ('bolovian', 9278), ('ballad', 9279), ('bab', 9280), ('mimm', 9281), ('thislifeissparkling', 9282), ('inlove', 9283), ('sean', 9284), ('faris', 9285), ('sleepover', 9286), ('scavenger', 9287), ('granting', 9288), ('lotta', 9289), ('twosong', 9290), ('gp', 9291), ('halfprice', 9292), ('loo', 9293), ('stale', 9294), ('swe', 9295), ('serene', 9296), ('dominating', 9297), ('earring', 9298), ('sabrina', 9299), ('notting', 9300), ('denounce', 9301), ('grotesque', 9302), ('wieght', 9303), ('marilyn', 9304), ('pundit', 9305), ('briefly', 9306), ('venerate', 9307), ('embarra', 9308), ('electrocute', 9309), ('tenderness', 9310), ('uninspired', 9311), ('thereof', 9312), ('investigator', 9313), ('pager', 9314), ('fortunately', 9315), ('trench', 9316), ('silen', 9317), ('juliemadblogger', 9318), ('overt', 9319), ('roundly', 9320), ('ravage', 9321), ('studies', 9322), ('haunting', 9323), ('dogs', 9324), ('movies', 9325), ('thrillers', 9326), ('mysteries', 9327), ('ssr', 9328), ('vegitarianism', 9329), ('sailo', 9330), ('hooker', 9331), ('concentrated', 9332), ('holli', 9333), ('reese', 9334), ('dalla', 9335), ('folksy', 9336), ('unaware', 9337), ('nig', 9338), ('shoelace', 9339), ('steroid', 9340), ('favs', 9341), ('daunting', 9342), ('doodlesandscrapsofme', 9343), ('mellon', 9344), ('collie', 9345), ('emma', 9346), ('jamaica', 9347), ('greatest', 9348), ('pandora', 9349), ('cosmopolitian', 9350), ('bontoc', 9351), ('hectic', 9352), ('wangxuehai', 9353), ('penelope', 9354), ('huntley', 9355), ('chainsmoke', 9356), ('velvet', 9357), ('flogger', 9358), ('earreade', 9359), ('audiobook', 9360), ('wimbledon', 9361), ('handbook', 9362), ('discharge', 9363), ('trickery', 9364), ('carl', 9365), ('clarke', 9366), ('smidgen', 9367), ('negligible', 9368), ('blip', 9369), ('epiphany', 9370), ('dhawan', 9371), ('borne', 9372), ('rockstar', 9373), ('razzle', 9374), ('baton', 9375), ('iolani', 9376), ('proponent', 9377), ('theologically', 9378), ('hymn', 9379), ('proffer', 9380), ('spock', 9381), ('concise', 9382), ('gop', 9383), ('drinky', 9384), ('lemur', 9385), ('consignment', 9386), ('goodwill', 9387), ('autobiography', 9388), ('blackwater', 9389), ('dewi', 9390), ('lestari', 9391), ('profita', 9392), ('pooper', 9393), ('basher', 9394), ('arab', 9395), ('specification', 9396), ('maintenance', 9397), ('kitoben', 9398), ('artificial', 9399), ('oversized', 9400), ('streak', 9401), ('aaaaaaand', 9402), ('chendol', 9403), ('kacang', 9404), ('paulie', 9405), ('mend', 9406), ('overconfident', 9407), ('intercessor', 9408), ('ranch', 9409), ('zendikar', 9410), ('rotate', 9411), ('coverage', 9412), ('lava', 9413), ('export', 9414), ('adversely', 9415), ('hearnsay', 9416), ('informed', 9417), ('looooong', 9418), ('discriminate', 9419), ('flunk', 9420), ('undefinable', 9421), ('atom', 9422), ('lokpal', 9423), ('dontknow', 9424), ('linus', 9425), ('focalor', 9426), ('sigil', 9427), ('opium', 9428), ('painstakingly', 9429), ('rigorous', 9430), ('ingenious', 9431), ('fixture', 9432), ('woefully', 9433), ('merge', 9434), ('rinoa', 9435), ('ursula', 9436), ('nestle', 9437), ('vivek', 9438), ('oberoi', 9439), ('xia', 9440), ('togehter', 9441), ('gozeleme', 9442), ('agi', 9443), ('impulsive', 9444), ('vulgar', 9445), ('gees', 9446), ('hardworke', 9447), ('mri', 9448), ('wif', 9449), ('perfumed', 9450), ('jrpgs', 9451), ('bilberrypicker', 9452), ('drunkenly', 9453), ('waist', 9454), ('outlandish', 9455), ('misplace', 9456), ('flagellate', 9457), ('albino', 9458), ('scrawl', 9459), ('memo', 9460), ('swinelord', 9461), ('deluxe', 9462), ('forefront', 9463), ('glam', 9464), ('nuptial', 9465), ('tweety', 9466), ('unliked', 9467), ('rein', 9468), ('handove', 9469), ('psychiatry', 9470), ('tomfoolery', 9471), ('shenanigan', 9472), ('bigotry', 9473), ('louise', 9474), ('carolina', 9475), ('lens', 9476), ('dao', 9477), ('ladyship', 9478), ('impoverished', 9479), ('giardina', 9480), ('televis', 9481), ('mistreatment', 9482), ('gastro', 9483), ('homosexuality', 9484), ('giraffe', 9485), ('majestic', 9486), ('goose', 9487), ('dealer', 9488), ('philter', 9489), ('paaker', 9490), ('platter', 9491), ('maximise', 9492), ('nope', 9493), ('writte', 9494), ('writting', 9495), ('writter', 9496), ('heartdesire', 9497), ('mentel', 9498), ('attic', 9499), ('abelard', 9500), ('metabolism', 9501), ('hyperthyroidism', 9502), ('goad', 9503), ('willpower', 9504), ('hazel', 9505), ('valerie', 9506), ('throng', 9507), ('fervor', 9508), ('rejoice', 9509), ('semblance', 9510), ('normality', 9511), ('armed', 9512), ('aff', 9513), ('inadaquate', 9514), ('fel', 9515), ('sms', 9516), ('expereince', 9517), ('rifkind', 9518), ('chairman', 9519), ('scholey', 9520), ('leade', 9521), ('prosecutor', 9522), ('diss', 9523), ('fug', 9524), ('aubrey', 9525), ('baptism', 9526), ('lo', 9527), ('documentary', 9528), ('wheeeeee', 9529), ('nowwwwww', 9530), ('dorama', 9531), ('dodge', 9532), ('kakashi', 9533), ('rapport', 9534), ('amazingness', 9535), ('motel', 9536), ('abstain', 9537), ('nonabolitionist', 9538), ('spectrum', 9539), ('priso', 9540), ('prominently', 9541), ('valente', 9542), ('maschke', 9543), ('nikki', 9544), ('minaj', 9545), ('undecorating', 9546), ('warhound', 9547), ('fieldi', 9548), ('endgame', 9549), ('exuberance', 9550), ('beware', 9551), ('consciousness', 9552), ('tempestuous', 9553), ('mccolgan', 9554), ('testimony', 9555), ('raffaella', 9556), ('marshal', 9557), ('askin', 9558), ('hyundai', 9559), ('tucson', 9560), ('practicie', 9561), ('cult', 9562), ('falun', 9563), ('gong', 9564), ('bemuse', 9565), ('calvaryccv', 9566), ('prohibition', 9567), ('ff', 9568), ('monica', 9569), ('molyneux', 9570), ('payne', 9571), ('companionship', 9572), ('varvel', 9573), ('landmass', 9574), ('unrest', 9575), ('carcenogenic', 9576), ('pleasantness', 9577), ('waken', 9578), ('occupant', 9579), ('flub', 9580), ('lovingly', 9581), ('inkling', 9582), ('afterpulse', 9583), ('nag', 9584), ('absolutly', 9585), ('flourishing', 9586), ('recklessly', 9587), ('alfie', 9588), ('dir', 9589), ('ltr', 9590), ('henypire', 9591), ('hearty', 9592), ('rejoyce', 9593), ('carlas', 9594), ('creating', 9595), ('extrememly', 9596), ('pacesetter', 9597), ('shedding', 9598), ('naega', 9599), ('deo', 9600), ('apaya', 9601), ('hae', 9602), ('dasi', 9603), ('neol', 9604), ('chajeul', 9605), ('itge', 9606), ('sigani', 9607), ('heureulsurok', 9608), ('gaseumi', 9609), ('apawa', 9610), ('hanbeon', 9611), ('manirado', 9612), ('doedollil', 9613), ('suman', 9614), ('itdamyeon', 9615), ('gotong', 9616), ('ttawin', 9617), ('naegen', 9618), ('rotund', 9619), ('bloke', 9620), ('poll', 9621), ('universally', 9622), ('happenstance', 9623), ('dowagerduchess', 9624), ('sven', 9625), ('hjerson', 9626), ('oakwood', 9627), ('govrenment', 9628), ('pension', 9629), ('ama', 9630), ('diploma', 9631), ('marlon', 9632), ('brando', 9633), ('1989', 9634), ('libel', 9635), ('proceeding', 9636), ('privy', 9637), ('37574', 9638), ('rye', 9639), ('disgrace', 9640), ('sprog', 9641), ('yussuf', 9642), ('higher', 9643), ('itsy', 9644), ('bitsy', 9645), ('vogue', 9646), ('sexaholic', 9647), ('scroll', 9648), ('belongingness', 9649), ('pinky', 9650), ('automation', 9651), ('memset', 9652), ('pilgrimage', 9653), ('dovercourt', 9654), ('endlessly', 9655), ('accompaniment', 9656), ('wendy', 9657), ('alexa', 9658), ('stammer', 9659), ('comet', 9660), ('strove', 9661), ('airsplitte', 9662), ('highrevving', 9663), ('engi', 9664), ('griefs', 9665), ('queezy', 9666), ('unloving', 9667), ('hogmanay', 9668), ('clint', 9669), ('tingly', 9670), ('mica', 9671), ('wealthy', 9672), ('lightweight', 9673), ('shooting', 9674), ('indulgence', 9675), ('audacity', 9676), ('beleagure', 9677), ('hallucinate', 9678), ('cooler', 9679), ('jen', 9680), ('mitchell', 9681), ('dkang', 9682), ('hiit', 9683), ('interval', 9684), ('underst', 9685), ('broodiness', 9686), ('aww', 9687), ('expansion', 9688), ('dolphin', 9689), ('cincinnati', 9690), ('overtime', 9691), ('dinosaur', 9692), ('procure', 9693), ('brass', 9694), ('stupor', 9695), ('wildstar', 9696), ('stokill', 9697), ('duluth', 9698), ('antipasti', 9699), ('mozzarella', 9700), ('proscuito', 9701), ('bul', 9702), ('taewuhbeoryeo', 9703), ('niga', 9704), ('ulbujitneun', 9705), ('nal', 9706), ('neoneun', 9707), ('wiheomhae', 9708), ('ttaekkaji', 9709), ('gatsseo', 9710), ('woooo', 9711), ('hernia', 9712), ('voyeur', 9713), ('commercialism', 9714), ('effigy', 9715), ('overnight', 9716), ('vaster', 9717), ('magically', 9718), ('dishwasher', 9719), ('tunji', 9720), ('turbillion', 9721), ('legitemately', 9722), ('ba', 9723), ('dojo', 9724), ('untried', 9725), ('generator', 9726), ('krem', 9727), ('tget', 9728), ('carbohydrate', 9729), ('waistline', 9730), ('slowco', 9731), ('slouchy', 9732), ('michigan', 9733), ('prostitute', 9734), ('beeeeeeeeeeee', 9735), ('bmw', 9736), ('interce', 9737), ('tianjin', 9738), ('democrat', 9739), ('aiiiiighhhht', 9740), ('revealthestaryoutrulyare', 9741), ('theatrical', 9742), ('edmund', 9743), ('wilson', 9744), ('audien', 9745), ('styling', 9746), ('laban', 9747), ('malthouse', 9748), ('debut', 9749), ('versa', 9750), ('unappreciative', 9751), ('omd', 9752), ('venus', 9753), ('cologne', 9754), ('fanatic', 9755), ('ribcage', 9756), ('axilla', 9757), ('atmospheric', 9758), ('progressively', 9759), ('upgrade', 9760), ('raising', 9761), ('flashy', 9762), ('adversary', 9763), ('isabel', 9764), ('widget', 9765), ('squash', 9766), ('eloquence', 9767), ('vacancy', 9768), ('satire', 9769), ('chlorine', 9770), ('portly', 9771), ('mustache', 9772), ('prepubescent', 9773), ('mesmerism', 9774), ('nonchalant', 9775), ('easi', 9776), ('degrassi', 9777), ('helping', 9778), ('refugee', 9779), ('remand', 9780), ('prescence', 9781), ('demonstrate', 9782), ('miraculous', 9783), ('tought', 9784), ('lilongwe', 9785), ('assistat', 9786), ('diagnostician', 9787), ('23r', 9788), ('correspond', 9789), ('catsa', 9790), ('monetarily', 9791), ('diazepam', 9792), ('whimsy', 9793), ('jz', 9794), ('dosage', 9795), ('supplemental', 9796), ('transgend', 9797), ('brainwashing', 9798), ('intersex', 9799), ('skudrive', 9800), ('becsuse', 9801), ('glued', 9802), ('gui', 9803), ('robins', 9804), ('staffed', 9805), ('irritant', 9806), ('reminisce', 9807), ('supportiveness', 9808), ('bro', 9809), ('redcoat', 9810), ('forgave', 9811), ('huhwe', 9812), ('neun', 9813), ('gatda', 9814), ('beoryeo', 9815), ('sesang', 9816), ('bani', 9817), ('namja', 9818), ('neottaemune', 9819), ('ulji', 9820), ('anha', 9821), ('gucha', 9822), ('hage', 9823), ('neoreul', 9824), ('jabgeo', 9825), ('mae', 9826), ('dallil', 9827), ('ireun', 9828), ('jeoldae', 9829), ('portugal', 9830), ('philosophical', 9831), ('chivalry', 9832), ('magnanimity', 9833), ('solitary', 9834), ('lightwater', 9835), ('dri', 9836), ('tygerman', 9837), ('mongoose', 9838), ('spiral', 9839), ('incision', 9840), ('disqualify', 9841), ('celibate', 9842), ('misjudge', 9843), ('yummy', 9844), ('leftover', 9845), ('ablo', 9846), ('sundae', 9847), ('cantina', 9848), ('brasse', 9849), ('ren', 9850), ('stimpy', 9851), ('gemini', 9852), ('scorpio', 9853), ('barro', 9854), ('vermont', 9855), ('futility', 9856), ('angelic', 9857), ('abigail', 9858), ('copycat', 9859), ('gus', 9860), ('preoccupation', 9861), ('hihi', 9862), ('wearer', 9863), ('idaho', 9864), ('enriched', 9865), ('dharma', 9866), ('rendall', 9867), ('munroe', 9868), ('underestimate', 9869), ('prese', 9870), ('nowher', 9871), ('kilo', 9872), ('pious', 9873), ('uppity', 9874), ('lancashire', 9875), ('gooch', 9876), ('selector', 9877), ('axe', 9878), ('defreitas', 9879), ('essex', 9880), ('pacemen', 9881), ('lovey', 9882), ('dovey', 9883), ('cooperative', 9884), ('harass', 9885), ('materialise', 9886), ('disgustingness', 9887), ('geneva', 9888), ('aunty', 9889), ('determinedly', 9890), ('brokenhearte', 9891), ('traipse', 9892), ('trompe', 9893), ('stilettos', 9894), ('yoke', 9895), ('physicality', 9896), ('briant', 9897), ('evangelical', 9898), ('slit', 9899), ('priestess', 9900), ('ven', 9901), ('talia', 9902), ('scratchy', 9903), ('marge', 9904), ('simpson', 9905), ('crooked', 9906), ('apprehension', 9907), ('simultaneous', 9908), ('undeniably', 9909), ('roshanara', 9910), ('recycling', 9911), ('grandeur', 9912), ('burning', 9913), ('bartender', 9914), ('lobia', 9915), ('whereupon', 9916), ('cagey', 9917), ('bernie', 9918), ('bleu', 9919), ('somethign', 9920), ('webmate', 9921), ('alphabet', 9922), ('jsk', 9923), ('lolita', 9924), ('imagi', 9925), ('kierkegaard', 9926), ('philosopher', 9927), ('porcelain', 9928), ('marsilid', 9929), ('disadvantage', 9930), ('nevil', 9931), ('dyke', 9932), ('gen', 9933), ('xers', 9934), ('chunky', 9935), ('allowable', 9936), ('resonance', 9937), ('caramel', 9938), ('syrup', 9939), ('shhh', 9940), ('coeur', 9941), ('alene', 9942), ('nuts', 9943), ('verbally', 9944), ('blackhaire', 9945), ('insid', 9946), ('imperialism', 9947), ('playwright', 9948), ('reid', 9949), ('ditlevsen', 9950), ('healer', 9951), ('enuff', 9952), ('stairs', 9953), ('baffroom', 9954), ('gray', 9955), ('mare', 9956), ('kilburn', 9957), ('kelly', 9958), ('socialize', 9959), ('dissappear', 9960), ('arou', 9961), ('points', 9962), ('wondrous', 9963), ('defination', 9964), ('silky', 9965), ('sri', 9966), ('lankas', 9967), ('manufacturing', 9968), ('palcebowhore', 9969), ('shortage', 9970), ('combing', 9971), ('fixing', 9972), ('cathing', 9973), ('dusty', 9974), ('oblivio', 9975), ('feverish', 9976), ('invocation', 9977), ('sterne', 9978), ('sundry', 9979), ('pinnacle', 9980), ('materialistic', 9981), ('brad', 9982), ('enid', 9983), ('blyton', 9984), ('johns', 9985), ('gig', 9986), ('blaze', 9987), ('marker', 9988), ('celexa', 9989), ('abortion', 9990), ('mushroom', 9991), ('cullam', 9992), ('goosey', 9993), ('inexcusable', 9994), ('bestial', 9995), ('macho', 9996), ('audrey', 9997), ('roar', 9998), ('biblical', 9999), ('cobwebs', 10000), ('psychopathology', 10001), ('akron', 10002), ('fashionable', 10003), ('msg', 10004), ('torn', 10005), ('affecti', 10006), ('unwillingly', 10007), ('florence', 10008), ('meaty', 10009), ('spamme', 10010), ('af', 10011), ('waaaant', 10012), ('eaaaat', 10013), ('unleash', 10014), ('fromthe', 10015), ('sizzler', 10016), ('regulated', 10017), ('sustain', 10018), ('heaaa', 10019), ('effectively', 10020), ('overreact', 10021), ('amplified', 10022), ('epileptic', 10023), ('exertion', 10024), ('prevalent', 10025), ('unreality', 10026), ('deceased', 10027), ('riku', 10028), ('plainly', 10029), ('skilled', 10030), ('presentational', 10031), ('wilder', 10032), ('grandson', 10033), ('metre', 10034), ('coupon', 10035), ('jumpy', 10036), ('acid', 10037), ('reflux', 10038), ('nizan', 10039), ('wexford', 10040), ('bef', 10041), ('saloon', 10042), ('violinist', 10043), ('instrume', 10044), ('isolating', 10045), ('societal', 10046), ('quinn', 10047), ('nuh', 10048), ('boyfirend', 10049), ('ciaran', 10050), ('oozing', 10051), ('downstair', 10052), ('repeal', 10053), ('hopkins', 10054), ('collusion', 10055), ('telstra', 10056), ('triple', 10057), ('notoriety', 10058), ('retort', 10059), ('tatsuma', 10060), ('aoi', 10061), ('dreary', 10062), ('tolerable', 10063), ('destroyer', 10064), ('alfred', 10065), ('molina', 10066), ('dimensional', 10067), ('caricature', 10068), ('adress', 10069), ('shack', 10070), ('dough', 10071), ('tampon', 10072), ('firs', 10073), ('initally', 10074), ('internist', 10075), ('sarcoma', 10076), ('earle', 10077), ('intentionality', 10078), ('conor', 10079), ('hallmark', 10080), ('roomates', 10081), ('shermin', 10082), ('mk', 10083), ('everblight', 10084), ('advertorial', 10085), ('networking', 10086), ('advert', 10087), ('unmitigate', 10088), ('graeme', 10089), ('souness', 10090), ('touchline', 10091), ('bo', 10092), ('breather', 10093), ('vip', 10094), ('sticker', 10095), ('matty', 10096), ('siege', 10097), ('nevercontrary', 10098), ('stalker', 10099), ('barcial', 10100), ('tod', 10101), ('estate', 10102), ('abruptly', 10103), ('satiate', 10104), ('piddle', 10105), ('uncoil', 10106), ('maureen', 10107), ('spee', 10108), ('swish', 10109), ('deffinately', 10110), ('grounded', 10111), ('hyde', 10112), ('teresa', 10113), ('overemotional', 10114), ('seeking', 10115), ('stein', 10116), ('unsuccessfully', 10117), ('nigh', 10118), ('materialist', 10119), ('foodie', 10120), ('ace', 10121), ('portraiture', 10122), ('bernice', 10123), ('newsprint', 10124), ('rue', 10125), ('policeman', 10126), ('reserved', 10127), ('eleven', 10128), ('clozapine', 10129), ('acuity', 10130), ('performing', 10131), ('puppet', 10132), ('crochet', 10133), ('offing', 10134), ('doubtless', 10135), ('nikolas', 10136), ('looter', 10137), ('kali', 10138), ('dah', 10139), ('bertukar', 10140), ('jadi', 10141), ('benci', 10142), ('concidence', 10143), ('upholstered', 10144), ('timeless', 10145), ('infusion', 10146), ('malignant', 10147), ('melonoma', 10148), ('neat', 10149), ('acknowledgment', 10150), ('fiddly', 10151), ('footbed', 10152), ('rockette', 10153), ('digress', 10154), ('workaholic', 10155), ('wage', 10156), ('albert', 10157), ('athletically', 10158), ('livevideo', 10159), ('sylvie', 10160), ('bedr', 10161), ('uv', 10162), ('penance', 10163), ('negatively', 10164), ('logging', 10165), ('linsay', 10166), ('witnese', 10167), ('infidelity', 10168), ('sweety', 10169), ('savingyourmarriagebeforeitstart', 10170), ('juggle', 10171), ('doraemon', 10172), ('aston', 10173), ('villa', 10174), ('norwich', 10175), ('playe', 10176), ('eyewitness', 10177), ('shrapnel', 10178), ('castlitter', 10179), ('apa', 10180), ('keith', 10181), ('detour', 10182), ('xela', 10183), ('comedian', 10184), ('mechanism', 10185), ('katrinas', 10186), ('bishan', 10187), ('detector', 10188), ('mysterious', 10189), ('intimately', 10190), ('buoy', 10191), ('transcendent', 10192), ('totere', 10193), ('topple', 10194), ('whiteridge', 10195), ('alll', 10196), ('veryy', 10197), ('simpl', 10198), ('travelling', 10199), ('commodity', 10200), ('dank', 10201), ('melee', 10202), ('dps', 10203), ('playroom', 10204), ('bombsite', 10205), ('conservatory', 10206), ('pageview', 10207), ('reaaallyyyy', 10208), ('glenys', 10209), ('monaco', 10210), ('plac', 10211), ('accessibility', 10212), ('warfighter', 10213), ('swag', 10214), ('overtone', 10215), ('irreplaceable', 10216), ('idrc', 10217), ('advancement', 10218), ('dunnno', 10219), ('heartrende', 10220), ('yearned', 10221), ('deprivation', 10222), ('bayou', 10223), ('cypress', 10224), ('wildlife', 10225), ('apc', 10226), ('atletico', 10227), ('unacceptably', 10228), ('protrude', 10229), ('peggy', 10230), ('mara', 10231), ('disdainful', 10232), ('abba', 10233), ('laetshi', 10234), ('shockingly', 10235), ('slobby', 10236), ('playlist', 10237), ('carseat', 10238), ('scout', 10239), ('pinewood', 10240), ('sec', 10241), ('supersensitive', 10242), ('ampatuan', 10243), ('odor', 10244), ('orihime', 10245), ('softness', 10246), ('cabernet', 10247), ('congenial', 10248), ('insanely', 10249), ('ideally', 10250), ('acim', 10251), ('abraham', 10252), ('predicament', 10253), ('bel', 10254), ('civilly', 10255), ('babble', 10256), ('fri', 10257), ('mansoor', 10258), ('structural', 10259), ('linguistic', 10260), ('deconstructionist', 10261), ('zapper', 10262), ('colic', 10263), ('valorize', 10264), ('disposition', 10265), ('killjoy', 10266), ('toner', 10267), ('gil', 10268), ('robles', 10269), ('charette', 10270), ('pende', 10271), ('apo', 10272), ('shortli', 10273), ('breakthrough', 10274), ('ari', 10275), ('menashe', 10276), ('mousavi', 10277), ('manuchehr', 10278), ('ghorbani', 10279), ('migraine', 10280), ('rave', 10281), ('drier', 10282), ('sat', 10283), ('nephews', 10284), ('overboard', 10285), ('desendant', 10286), ('traumatised', 10287), ('blogoversary', 10288), ('io', 10289), ('sii', 10290), ('lumia', 10291), ('covingtons', 10292), ('closing', 10293), ('rebekah', 10294), ('satisfactory', 10295), ('klaus', 10296), ('stefan', 10297), ('damon', 10298), ('qualm', 10299), ('intubate', 10300), ('americana', 10301), ('crunk', 10302), ('architect', 10303), ('defriende', 10304), ('otherworldliness', 10305), ('translucent', 10306), ('peacefully', 10307), ('gurgle', 10308), ('disorganised', 10309), ('uuuugh', 10310), ('nailart', 10311), ('pelvic', 10312), ('succede', 10313), ('poisoned', 10314), ('sinc', 10315), ('meningioma', 10316), ('dither', 10317), ('francesca', 10318), ('bower', 10319), ('chateau', 10320), ('undertone', 10321), ('convo', 10322), ('logically', 10323), ('scheduler', 10324), ('repairman', 10325), ('detectin', 10326), ('pope', 10327), ('epithet', 10328), ('stumped', 10329), ('discombobulate', 10330), ('paralyzed', 10331), ('rewarded', 10332), ('avast', 10333), ('antivirus', 10334), ('polling', 10335), ('ribbon', 10336), ('correction', 10337), ('limply', 10338), ('leadingstring', 10339), ('jerome', 10340), ('relay', 10341), ('pounding', 10342), ('spicy', 10343), ('disintereste', 10344), ('ss', 10345), ('excotick', 10346), ('beaty', 10347), ('yummyy', 10348), ('deisire', 10349), ('enjoin', 10350), ('intrusive', 10351), ('cordelia', 10352), ('countr', 10353), ('gulam', 10354), ('unnoticeable', 10355), ('doctorate', 10356), ('posh', 10357), ('cushy', 10358), ('acker', 10359), ('magnitude', 10360), ('backlog', 10361), ('fascinat', 10362), ('unsuspecting', 10363), ('mereka', 10364), ('penyeri', 10365), ('wail', 10366), ('spoke', 10367), ('formerly', 10368), ('untouchable', 10369), ('overzealous', 10370), ('persecution', 10371), ('mousekin', 10372), ('apendage', 10373), ('preferred', 10374), ('tna', 10375), ('crimson', 10376), ('terminal', 10377), ('dulle', 10378), ('atlantic', 10379), ('holden', 10380), ('caulfield', 10381), ('cindy', 10382), ('atticus', 10383), ('kao', 10384), ('cascade', 10385), ('sexualy', 10386), ('turtle', 10387), ('sneak', 10388), ('palate', 10389), ('messianic', 10390), ('scribble', 10391), ('katherine', 10392), ('jaguar', 10393), ('rover', 10394), ('wanted', 10395), ('battalion', 10396), ('heater', 10397), ('muddling', 10398), ('wot', 10399), ('gw', 10400), ('rebellion', 10401), ('prejudging', 10402), ('tt', 10403), ('partition', 10404), ('figu', 10405), ('drum', 10406), ('ious', 10407), ('goodie', 10408), ('catapult', 10409), ('gracefully', 10410), ('humbly', 10411), ('comradeship', 10412), ('exile', 10413), ('inhospitable', 10414), ('uncanny', 10415), ('unpleasantness', 10416), ('zofran', 10417), ('wretch', 10418), ('absurdity', 10419), ('zimbabweans', 10420), ('diego', 10421), ('diva', 10422), ('wrestler', 10423), ('pulpit', 10424), ('efficacy', 10425), ('preaching', 10426), ('poop', 10427), ('republicans', 10428), ('hydration', 10429), ('glue', 10430), ('terrorstruck', 10431), ('recounting', 10432), ('embroider', 10433), ('rocker', 10434), ('shayla', 10435), ('mommys', 10436), ('primo', 10437), ('1987', 10438), ('reade', 10439), ('corinthians', 10440), ('dwindle', 10441), ('informal', 10442), ('landing', 10443), ('homepage', 10444), ('keyword', 10445), ('feelbut', 10446), ('stormy', 10447), ('mane', 10448), ('lp', 10449), ('compunction', 10450), ('abduct', 10451), ('hinterland', 10452), ('gaige', 10453), ('overdose', 10454), ('irc', 10455), ('lotion', 10456), ('stupidly', 10457), ('accurate', 10458), ('payoff', 10459), ('gwiyomi', 10460), ('lifespan', 10461), ('sissy', 10462), ('inclination', 10463), ('impromptu', 10464), ('ensign', 10465), ('mso', 10466), ('bidi', 10467), ('folkeskole', 10468), ('shave', 10469), ('refrence', 10470), ('filmic', 10471), ('orgy', 10472), ('depravity', 10473), ('angee', 10474), ('emoticon', 10475), ('providence', 10476), ('sensational', 10477), ('ash', 10478), ('stench', 10479), ('greasy', 10480), ('ela', 10481), ('melodious', 10482), ('uw', 10483), ('peg', 10484), ('kat', 10485), ('denningss', 10486), ('katarina', 10487), ('maliciouslooke', 10488), ('wom', 10489), ('resurrect', 10490), ('advocacy', 10491), ('subaru', 10492), ('dickish', 10493), ('perplex', 10494), ('liam', 10495), ('speculate', 10496), ('chryselius', 10497), ('pennington', 10498), ('avril', 10499), ('lavigne', 10500), ('moffat', 10501), ('foreshadowing', 10502), ('babysitter', 10503), ('lad', 10504), ('combinations', 10505), ('yogurt', 10506), ('analogy', 10507), ('broadcast', 10508), ('torment', 10509), ('eyre', 10510), ('bigge', 10511), ('buddys', 10512), ('orgasm', 10513), ('explosive', 10514), ('agiatate', 10515), ('appt', 10516), ('rehearsal', 10517), ('obsessively', 10518), ('loquacious', 10519), ('hunter', 10520), ('fn', 10521), ('suuuper', 10522), ('debbie', 10523), ('todayyy', 10524), ('buffy', 10525), ('pan', 10526), ('eyesight', 10527), ('dersingham', 10528), ('disharmony', 10529), ('expend', 10530), ('frightfully', 10531), ('expressway', 10532), ('ome', 10533), ('supplicate', 10534), ('smugly', 10535), ('textile', 10536), ('suzanne', 10537), ('flaunt', 10538), ('advil', 10539), ('inflammation', 10540), ('waitrose', 10541), ('babysitte', 10542), ('ninth', 10543), ('pri', 10544), ('bibliography', 10545), ('aaaaand', 10546), ('retro', 10547), ('poignant', 10548), ('penetrating', 10549), ('figment', 10550), ('arlovski', 10551), ('ufc', 10552), ('orderly', 10553), ('procession', 10554), ('ritalin', 10555), ('flia', 10556), ('sol', 10557), ('prenatal', 10558), ('ivy', 10559), ('pointlessly', 10560), ('patronize', 10561), ('estefan', 10562), ('ology', 10563), ('comme', 10564), ('hasan', 10565), ('retiring', 10566), ('modest', 10567), ('schadenfreude', 10568), ('adolescence', 10569), ('martinez', 10570), ('harley', 10571), ('goalpost', 10572), ('banne', 10573), ('unpresse', 10574), ('tyremark', 10575), ('archdiocese', 10576), ('restoration', 10577), ('cathedral', 10578), ('strategic', 10579), ('adaption', 10580), ('friendfeed', 10581), ('dearwendy', 10582), ('overexcite', 10583), ('opin', 10584), ('muaz', 10585), ('buoie', 10586), ('abbigail', 10587), ('apraxia', 10588), ('restraint', 10589), ('cineplex', 10590), ('marlin', 10591), ('psyche', 10592), ('atari', 10593), ('pukey', 10594), ('apoplectic', 10595), ('loveitt', 10596), ('garmin', 10597), ('uae', 10598), ('oblivious', 10599), ('readmit', 10600), ('collin', 10601), ('finnerty', 10602), ('tourism', 10603), ('hospitality', 10604), ('trump', 10605), ('gullible', 10606), ('inauguration', 10607), ('montagues', 10608), ('sonipro', 10609), ('geekparty', 10610), ('linkedin', 10611), ('pervasive', 10612), ('finality', 10613), ('irwins', 10614), ('lied', 10615), ('brilliance', 10616), ('purse', 10617), ('easygoing', 10618), ('xelliealicex', 10619), ('housemate', 10620), ('statesman', 10621), ('vunerable', 10622), ('sooooooooooo', 10623), ('vinegary', 10624), ('calli', 10625), ('rune', 10626), ('eagleeye', 10627), ('simkin', 10628), ('noob', 10629), ('undeservingly', 10630), ('armpit', 10631), ('disastrous', 10632), ('favorable', 10633), ('museli', 10634), ('yoghurt', 10635), ('onscreen', 10636), ('firework', 10637), ('reboot', 10638), ('conquerer', 10639), ('impressionable', 10640), ('unconformable', 10641), ('miyavi', 10642), ('casserole', 10643), ('ins', 10644), ('picnics', 10645), ('luncheon', 10646), ('nevermind', 10647), ('monogrammed', 10648), ('fascinated', 10649), ('titan', 10650), ('underf', 10651), ('contradictory', 10652), ('lrdg', 10653), ('patrol', 10654), ('repentant', 10655), ('happend', 10656), ('vortex', 10657), ('glitch', 10658), ('paperwork', 10659), ('revel', 10660), ('likeaudrey', 10661), ('hepburn', 10662), ('tiffanys', 10663), ('douse', 10664), ('freind', 10665), ('asasoulawaken', 10666), ('feeli', 10667), ('bachelorette', 10668), ('firmness', 10669), ('confidently', 10670), ('tiananman', 10671), ('bland', 10672), ('negotiation', 10673), ('peke', 10674), ('post1997', 10675), ('glamour', 10676), ('brainless', 10677), ('snuck', 10678), ('omit', 10679), ('nyps', 10680), ('presidency', 10681), ('innanimate', 10682), ('carpet', 10683), ('herman', 10684), ('disconcert', 10685), ('pensive', 10686), ('nl', 10687), ('cog', 10688), ('cbc', 10689), ('jazzyboy', 10690), ('photojournalistically', 10691), ('aimless', 10692), ('farewell', 10693), ('benadryl', 10694), ('neo', 10695), ('terminology', 10696), ('modification', 10697), ('bona', 10698), ('fide', 10699), ('stamina', 10700), ('barf', 10701), ('alic', 10702), ('stubbled', 10703), ('stinkin', 10704), ('reviewer', 10705), ('breeder', 10706), ('squeak', 10707), ('baachan', 10708), ('trolley', 10709), ('morrow', 10710), ('banjo', 10711), ('molly', 10712), ('purrrr', 10713), ('bestselle', 10714), ('kathy', 10715), ('lette', 10716), ('trot', 10717), ('twentysomething', 10718), ('chub', 10719), ('ceramic', 10720), ('repairment', 10721), ('atelier', 10722), ('patrimony', 10723), ('specialize', 10724), ('antiquity', 10725), ('ashtray', 10726), ('upstream', 10727), ('1926', 10728), ('abd', 10729), ('karim', 10730), ('frenc', 10731), ('ample', 10732), ('projection', 10733), ('repression', 10734), ('hypocritical', 10735), ('bobo', 10736), ('clammy', 10737), ('palac', 10738), ('ig', 10739), ('cartoonish', 10740), ('carpenter', 10741), ('explosively', 10742), ('muas', 10743), ('agonising', 10744), ('copland', 10745), ('fanfare', 10746), ('dist', 10747), ('dodgy', 10748), ('kindest', 10749), ('therein', 10750), ('brightly', 10751), ('lovedi', 10752), ('evgeni', 10753), ('malkin', 10754), ('padlock', 10755), ('uniform', 10756), ('glove', 10757), ('errand', 10758), ('cora', 10759), ('sleeper', 10760), ('begging', 10761), ('elsewhe', 10762), ('rld', 10763), ('vanguard', 10764), ('annul', 10765), ('pressed', 10766), ('disrespectful', 10767), ('hilly', 10768), ('morton', 10769), ('contort', 10770), ('trotting', 10771), ('flail', 10772), ('brazilian', 10773), ('nathans', 10774), ('spurt', 10775), ('befc', 10776), ('bunnysuit', 10777), ('gutte', 10778), ('residence', 10779), ('rememberie', 10780), ('springy', 10781), ('animated', 10782), ('activist', 10783), ('grue', 10784), ('spacious', 10785), ('consultant', 10786), ('overanalyze', 10787), ('dressing', 10788), ('traditionalist', 10789), ('skeletal', 10790), ('wiggy', 10791), ('lib', 10792), ('georgie', 10793), ('porgie', 10794), ('ashe', 10795), ('coca', 10796), ('cola', 10797), ('collaborative', 10798), ('documenti', 10799), ('superfluous', 10800), ('jenn', 10801), ('mccarthy', 10802), ('humanize', 10803), ('provisio', 10804), ('winehouse', 10805), ('ford', 10806), ('carby', 10807), ('glycemic', 10808), ('dagger', 10809), ('mensa', 10810), ('standout', 10811), ('feist', 10812), ('genentech', 10813), ('takeover', 10814), ('concieve', 10815), ('pussy', 10816), ('ploy', 10817), ('ashraf', 10818), ('pakistani', 10819), ('squeek', 10820), ('grossed', 10821), ('sw', 10822), ('revovle', 10823), ('ansi', 10824), ('briar', 10825), ('beagle', 10826), ('souless', 10827), ('aj', 10828), ('lcd', 10829), ('wireless', 10830), ('bluetooth', 10831), ('isight', 10832), ('heh', 10833), ('linklater', 10834), ('naomi', 10835), ('klein', 10836), ('paraphrase', 10837), ('cinnamon', 10838), ('nutmeg', 10839), ('anymmore', 10840), ('relegate', 10841), ('tidbit', 10842), ('atell', 10843), ('getyourprettyon', 10844), ('dotty', 10845), ('papamoka', 10846), ('procrastinator', 10847), ('meekly', 10848), ('hangin', 10849), ('skillzz', 10850), ('aforementioned', 10851), ('tylenol', 10852), ('caller', 10853), ('newness', 10854), ('masochistically', 10855), ('inadequacie', 10856), ('consequently', 10857), ('phobia', 10858), ('urinate', 10859), ('semen', 10860), ('quake', 10861), ('lulu', 10862), ('inaccurate', 10863), ('unsavoury', 10864), ('squalor', 10865), ('unamerican', 10866), ('deceptively', 10867), ('blubber', 10868), ('undeserving', 10869), ('ranbir', 10870), ('ayan', 10871), ('mukerji', 10872), ('filmfare', 10873), ('woodstock', 10874), ('salvage', 10875), ('provokingbeauty', 10876), ('kardashion', 10877), ('woe', 10878), ('brach', 10879), ('chipmunk', 10880), ('geography', 10881), ('tou', 10882), ('umlungu', 10883), ('neurosurgeon', 10884), ('cm', 10885), ('thickness', 10886), ('slat', 10887), ('mattress', 10888), ('unsurprisingly', 10889), ('browns', 10890), ('moonligh', 10891), ('influential', 10892), ('horizon', 10893), ('pilfer', 10894), ('maneuverable', 10895), ('permanence', 10896), ('fingertip', 10897), ('compagnon', 10898), ('oakland', 10899), ('jin', 10900), ('hee', 10901), ('lotte', 10902), ('kleinkinder', 10903), ('andintrupte', 10904), ('trad', 10905), ('bagan', 10906), ('se', 10907), ('inscrie', 10908), ('intr', 10909), ('rafinament', 10910), ('lejer', 10911), ('extrem', 10912), ('feminin', 10913), ('pileon', 10914), ('ttc', 10915), ('yuck', 10916), ('tenge', 10917), ('pleeeeeease', 10918), ('meditative', 10919), ('wc', 10920), ('deadly', 10921), ('dinesh', 10922), ('melodramatically', 10923), ('downward', 10924), ('splendor', 10925), ('hansen', 10926), ('ching', 10927), ('aloof', 10928), ('heritage', 10929), ('approve', 10930), ('disapprove', 10931), ('orlando', 10932), ('tody', 10933), ('mange', 10934), ('headachie', 10935), ('disco', 10936), ('coward', 10937), ('decompress', 10938), ('emphasis', 10939), ('bra', 10940), ('yea', 10941), ('nonstop', 10942), ('inter', 10943), ('generational', 10944), ('summery', 10945), ('bummin', 10946), ('savor', 10947), ('wrung', 10948), ('adsense', 10949), ('wisely', 10950), ('gunk', 10951), ('organising', 10952), ('companionable', 10953), ('flora', 10954), ('wer', 10955), ('accordingly', 10956), ('hart', 10957), ('wiz', 10958), ('khalifa', 10959), ('thaim', 10960), ('tripper', 10961), ('isle', 10962), ('wight', 10963), ('hilmari', 10964), ('grandiosely', 10965), ('animesh', 10966), ('tankouban', 10967), ('lucille', 10968), ('desponde', 10969), ('translation', 10970), ('eighthcentury', 10971), ('hermit', 10972), ('beehive', 10973), ('hut', 10974), ('irel', 10975), ('eepctqlhiafjwnrrmas', 10976), ('openplan', 10977), ('diningroom', 10978), ('christina', 10979), ('cho', 10980), ('skimmable', 10981), ('shalt', 10982), ('din', 10983), ('hw', 10984), ('dysphoria', 10985), ('fend', 10986), ('charitable', 10987), ('andover', 10988), ('sodding', 10989), ('canteen', 10990), ('godaddy', 10991), ('privellege', 10992), ('vehemently', 10993), ('cosplay', 10994), ('goons', 10995), ('bean', 10996), ('finke', 10997), ('hysterical', 10998), ('giggling', 10999), ('compartment', 11000), ('parmesan', 11001), ('truffle', 11002), ('lollipop', 11003), ('moxie', 11004), ('cath', 11005), ('genetice', 11006), ('pentup', 11007), ('waggoner', 11008), ('details', 11009), ('ssa', 11010), ('modernization', 11011), ('detraction', 11012), ('andrus', 11013), ('bias', 11014), ('themed', 11015), ('anthology', 11016), ('jinny', 11017), ('bucke', 11018), ('oneil', 11019), ('reel', 11020), ('teensiest', 11021), ('repressive', 11022), ('partaking', 11023), ('revelry', 11024), ('gander', 11025), ('trainable', 11026), ('lewis', 11027), ('carroll', 11028), ('poseur', 11029), ('keiko', 11030), ('zoll', 11031), ('mousse', 11032), ('swedish', 11033), ('turnip', 11034), ('derek', 11035), ('alli', 11036), ('jillian', 11037), ('macey', 11038), ('xbla', 11039), ('sony', 11040), ('transcribe', 11041), ('occassional', 11042), ('terrorise', 11043), ('arialblue', 11044), ('renege', 11045), ('columbus', 11046), ('swap', 11047), ('gorge', 11048), ('disgustingly', 11049), ('florist', 11050), ('georg', 11051), ('intercept', 11052), ('pavem', 11053), ('convener', 11054), ('40000', 11055), ('stadia', 11056), ('mino', 11057), ('stoically', 11058), ('newland', 11059), ('tracifishbowl', 11060), ('noman', 11061), ('bluestarlight', 11062), ('mashmellow', 11063), ('deprecation', 11064), ('demostrator', 11065), ('atrophy', 11066), ('algorithmic', 11067), ('efficiency', 11068), ('persist', 11069), ('tourette', 11070), ('unpredictability', 11071), ('nakahara', 11072), ('mai', 11073), ('derbyshire', 11074), ('lola', 11075), ('demographic', 11076), ('copper', 11077), ('norah', 11078), ('flab', 11079), ('ringtone', 11080), ('taut', 11081), ('kickoff', 11082), ('piddi', 11083), ('kj', 11084), ('middot', 11085), ('shiftless', 11086), ('cricnepal', 11087), ('sti', 11088), ('parlor', 11089), ('selective', 11090), ('privacys', 11091), ('gent', 11092), ('damper', 11093), ('mercilessly', 11094), ('abominable', 11095), ('addison', 11096), ('reed', 11097), ('wycliffe', 11098), ('humbugish', 11099), ('racket', 11100), ('decorating', 11101), ('scad', 11102), ('poser', 11103), ('waiting', 11104), ('charmed', 11105), ('adherence', 11106), ('august', 11107), ('gervase', 11108), ('distortion', 11109), ('wickedness', 11110), ('confetti', 11111), ('palpably', 11112), ('hibernating', 11113), ('sanctity', 11114), ('inline', 11115), ('incestuous', 11116), ('twoyear', 11117), ('abhorrent', 11118), ('muslims', 11119), ('generalize', 11120), ('hgtv', 11121), ('crumple', 11122), ('perspiration', 11123), ('platonic', 11124), ('sobs', 11125), ('holloway', 11126), ('taxis', 11127), ('tibris', 11128), ('frumpy', 11129), ('osp', 11130), ('rand', 11131), ('abnormally', 11132), ('stake', 11133), ('feeder', 11134), ('adrian', 11135), ('billion', 11136), ('digest', 11137), ('strappy', 11138), ('ninew', 11139), ('barrel', 11140), ('dink', 11141), ('prettymuch', 11142), ('acronym', 11143), ('catherine', 11144), ('mcleish', 11145), ('felt', 11146), ('unea', 11147), ('slugging', 11148), ('takeaway', 11149), ('choccy', 11150), ('lemme', 11151), ('menatar', 11152), ('matching', 11153), ('mustard', 11154), ('auntie', 11155), ('confound', 11156), ('loyalist', 11157), ('intac', 11158), ('aspieness', 11159), ('iq', 11160), ('myslef', 11161), ('chaperone', 11162), ('seasonal', 11163), ('redhead', 11164), ('mice', 11165), ('eventualit', 11166), ('con', 11167), ('connive', 11168), ('ongoing', 11169), ('relocation', 11170), ('cuss', 11171), ('cocktail', 11172), ('coldplay', 11173), ('colette', 11174), ('upse', 11175), ('dim', 11176), ('empowerment', 11177), ('recless', 11178), ('headlock', 11179), ('whooooos', 11180), ('whooooooooos', 11181), ('whooooo', 11182), ('craaaaaaack', 11183), ('snuffle', 11184), ('yardage', 11185), ('footballer', 11186), ('nothingness', 11187), ('repulsion', 11188), ('cruelty', 11189), ('biannual', 11190), ('mammogram', 11191), ('grunt', 11192), ('eva', 11193), ('alan', 11194), ('overcompensate', 11195), ('estimate', 11196), ('nepali', 11197), ('magzine', 11198), ('prioritise', 11199), ('seoul', 11200), ('siesta', 11201), ('belate', 11202), ('selfinf', 11203), ('nutritionally', 11204), ('seriouly', 11205), ('endill', 11206), ('obbie', 11207), ('rowing', 11208), ('karapiro', 11209), ('regatta', 11210), ('hobbs', 11211), ('mcpherson', 11212), ('maman', 11213), ('villain', 11214), ('druian', 11215), ('miler', 11216), ('gerry', 11217), ('inundate', 11218), ('hu', 11219), ('jia', 11220), ('mansell', 11221), ('trou', 11222), ('uruk', 11223), ('hai', 11224), ('hondura', 11225), ('goldembroidere', 11226), ('satin', 11227), ('breeches', 11228), ('jabot', 11229), ('eighteenth', 11230), ('hyperventilate', 11231), ('pigeon', 11232), ('uninhabited', 11233), ('telling', 11234), ('hone', 11235), ('completeness', 11236), ('naight', 11237), ('pesach', 11238), ('ethnic', 11239), ('jingly', 11240), ('camille', 11241), ('matador', 11242), ('horn', 11243), ('radiator', 11244), ('koyama', 11245), ('immoral', 11246), ('morali', 11247), ('cantankerous', 11248), ('marijuana', 11249), ('tamper', 11250), ('applaince', 11251), ('cyprus', 11252), ('macabre', 11253), ('fountain', 11254), ('playhousecomm', 11255), ('bride', 11256), ('reeeeeeeeally', 11257), ('lacy', 11258), ('nights', 11259), ('skater', 11260), ('burkie', 11261), ('redden', 11262), ('manhood', 11263), ('poetic', 11264), ('osthryth', 11265), ('ecgfrith', 11266), ('bestow', 11267), ('archbishop', 11268), ('theodore', 11269), ('keeper', 11270), ('qq', 11271), ('devalue', 11272), ('cart', 11273), ('katz', 11274), ('lament', 11275), ('countenance', 11276), ('tal', 11277), ('allegation', 11278), ('untalente', 11279), ('trusty', 11280), ('chex', 11281), ('spreadsheet', 11282), ('someplace', 11283), ('antic', 11284), ('improv', 11285), ('carte', 11286), ('tizzy', 11287), ('haagen', 11288), ('dazs', 11289), ('fractured', 11290), ('excessive', 11291), ('rudderless', 11292), ('moist', 11293), ('stuffing', 11294), ('ahhh', 11295), ('cashmere', 11296), ('rainboot', 11297), ('bonamy', 11298), ('dobre', 11299), ('skelton', 11300), ('fellowstude', 11301), ('attuned', 11302), ('specialness', 11303), ('alway', 11304), ('elusively', 11305), ('eurgh', 11306), ('kareena', 11307), ('akshay', 11308), ('kumar', 11309), ('minissha', 11310), ('amisha', 11311), ('patel', 11312), ('avtaar', 11313), ('poli', 11314), ('frivolous', 11315), ('controversy', 11316), ('espresse', 11317), ('bollywood', 11318), ('bouncing', 11319), ('backpacker', 11320), ('overland', 11321), ('preppe', 11322), ('gallivant', 11323), ('rubble', 11324), ('talentless', 11325), ('misinterpret', 11326), ('cinderalla', 11327), ('birding', 11328), ('heading', 11329), ('sandblog', 11330), ('majesty', 11331), ('windsor', 11332), ('1992', 11333), ('annus', 11334), ('horribilis', 11335), ('dumpee', 11336), ('gloat', 11337), ('preclude', 11338), ('pluto', 11339), ('proford', 11340), ('tes', 11341), ('skirtsport', 11342), ('oral', 11343), ('badminton', 11344), ('lunapad', 11345), ('frightening', 11346), ('teetotaller', 11347), ('harrowing', 11348), ('repell', 11349), ('avenue', 11350), ('moshav', 11351), ('dancin', 11352), ('beatle', 11353), ('stature', 11354), ('persistent', 11355), ('inferiority', 11356), ('fuchsia', 11357), ('cena', 11358), ('worst', 11359), ('waffle', 11360), ('anim', 11361), ('happpy', 11362), ('shamelessly', 11363), ('spilt', 11364), ('assortment', 11365), ('excluded', 11366), ('summarily', 11367), ('wither', 11368), ('finge', 11369), ('sadnes', 11370), ('acknowledgement', 11371), ('eddie', 11372), ('mopping', 11373), ('tidying', 11374), ('spinach', 11375), ('feta', 11376), ('cranberry', 11377), ('balsamic', 11378), ('viniagrette', 11379), ('sustainabilitys', 11380), ('hinder', 11381), ('hiatus', 11382), ('soporific', 11383), ('luscious', 11384), ('hazy', 11385), ('tomoe', 11386), ('barbeque', 11387), ('innovative', 11388), ('semipro', 11389), ('noticeable', 11390), ('template', 11391), ('nytime', 11392), ('feisty', 11393), ('tentative', 11394), ('aloft', 11395), ('traumatise', 11396), ('pestilence', 11397), ('starvation', 11398), ('discreetly', 11399), ('rattl', 11400), ('bargain', 11401), ('whingee', 11402), ('afrad', 11403), ('skinful', 11404), ('whistling', 11405), ('methodically', 11406), ('machinery', 11407), ('shotgun', 11408), ('lovesong', 11409), ('audio', 11410), ('amped', 11411), ('moanday', 11412), ('terpene', 11413), ('upsetting', 11414), ('srcurl', 11415), ('draftbloger', 11416), ('catalog', 11417), ('barcomb', 11418), ('boe', 11419), ('diversified', 11420), ('enchanted', 11421), ('teachable', 11422), ('tiphany', 11423), ('offi', 11424), ('complicate', 11425), ('heed', 11426), ('visable', 11427), ('spotlighted', 11428), ('unfashionable', 11429), ('strolling', 11430), ('gosman', 11431), ('touristy', 11432), ('montauk', 11433), ('cawing', 11434), ('lapping', 11435), ('piling', 11436), ('vinnie', 11437), ('kompany', 11438), ('joleon', 11439), ('kolo', 11440), ('toure', 11441), ('chemotherapy', 11442), ('niggle', 11443), ('artefact', 11444), ('locomotive', 11445), ('bewertung', 11446), ('heartbroke', 11447), ('ungodly', 11448), ('morla', 11449), ('instructable', 11450), ('cavatina', 11451), ('fleming', 11452), ('zzap', 11453), ('lyme', 11454), ('coinfection', 11455), ('seth', 11456), ('gutted', 11457), ('veiled', 11458), ('taryns', 11459), ('affirmative', 11460), ('traveling', 11461), ('warmhearte', 11462), ('maxim', 11463), ('martina', 11464), ('crowed', 11465), ('afaerytaleinmakebelieve', 11466), ('snicker', 11467), ('headcold', 11468), ('nesty', 11469), ('weeny', 11470), ('sinclair', 11471), ('nylon', 11472), ('infuria', 11473), ('sustainability', 11474), ('recess', 11475), ('muze', 11476), ('mujhe', 11477), ('zay', 11478), ('lisas', 11479), ('msm', 11480), ('monthe', 11481), ('guil', 11482), ('conditioning', 11483), ('inclusion', 11484), ('kubrick', 11485), ('shandur', 11486), ('scrape', 11487), ('nook', 11488), ('cranny', 11489), ('juicy', 11490), ('uninspiring', 11491), ('addictive', 11492), ('odkh', 11493), ('alumninium', 11494), ('restrained', 11495), ('workload', 11496), ('rampage', 11497), ('condiment', 11498), ('pressie', 11499), ('selling', 11500), ('dart', 11501), ('indifferent', 11502), ('inbalance', 11503), ('committment', 11504), ('cadore', 11505), ('bloodshed', 11506), ('yori', 11507), ('aoshi', 11508), ('figt', 11509), ('cutie', 11510), ('mathematical', 11511), ('teleporter', 11512), ('sweetener', 11513), ('spinner', 11514), ('detachedly', 11515), ('bulls', 11516), ('openness', 11517), ('sylvanian', 11518), ('flock', 11519), ('ptsd', 11520), ('sabbatical', 11521), ('shafted', 11522), ('contr', 11523), ('dovetail', 11524), ('rotation', 11525), ('zz', 11526), ('logo', 11527), ('keychain', 11528), ('mazawattee', 11529), ('hersel', 11530), ('ssba', 11531), ('alt', 11532), ('mira', 11533), ('clinique', 11534), ('blunder', 11535), ('fattie', 11536), ('dissapeare', 11537), ('envous', 11538), ('undiscovered', 11539), ('spore', 11540), ('mailorder', 11541), ('kome', 11542), ('kinship', 11543), ('poggy', 11544), ('tuxedo', 11545), ('cufflink', 11546), ('yelping', 11547), ('proudly', 11548), ('ignoring', 11549), ('lightmeter', 11550), ('inappropriate', 11551), ('videogame', 11552), ('et', 11553), ('cetera', 11554), ('motherland', 11555), ('futur', 11556), ('leibnitz', 11557), ('humane', 11558), ('thaliad', 11559), ('genealogical', 11560), ('aslef', 11561), ('disp', 11562), ('kyte', 11563), ('intolerably', 11564), ('subjective', 11565), ('slogging', 11566), ('popcorn', 11567), ('pinot', 11568), ('gris', 11569), ('prolific', 11570), ('inhuman', 11571), ('netherlands', 11572), ('baltimore', 11573), ('ick', 11574), ('wellbee', 11575), ('boom', 11576), ('1980s', 11577), ('westernstyle', 11578), ('recessio', 11579), ('ferocious', 11580), ('wizarding', 11581), ('mudblood', 11582), ('whatnot', 11583), ('oooh', 11584), ('seamlessly', 11585), ('infer', 11586), ('bellingham', 11587), ('unread', 11588), ('communicator', 11589), ('danielle', 11590), ('personalize', 11591), ('procrastinate', 11592), ('snippy', 11593), ('entirety', 11594), ('consumption', 11595), ('floyd', 11596), ('patterson', 11597), ('treatme', 11598), ('uninstalle', 11599), ('deactivate', 11600), ('hatena', 11601), ('pry', 11602), ('shailene', 11603), ('location', 11604), ('sunset', 11605), ('cliched', 11606), ('conifer', 11607), ('shovel', 11608), ('opa', 11609), ('peel', 11610), ('chemical', 11611), ('allergic', 11612), ('lavender', 11613), ('insightful', 11614), ('impersonal', 11615), ('screeching', 11616), ('cornish', 11617), ('cornwall', 11618), ('aac', 11619), ('registration', 11620), ('uneventful', 11621), ('chiefs', 11622), ('ccw', 11623), ('lex', 11624), ('lunajubilee', 11625), ('wellequippe', 11626), ('sadlovequotesforhim', 11627), ('403', 11628), ('mettaful', 11629), ('astonishe', 11630), ('predicate', 11631), ('biochem', 11632), ('muay', 11633), ('drizzle', 11634), ('flowerseller', 11635), ('disconsolat', 11636), ('luka', 11637), ('cleat', 11638), ('gucci', 11639), ('unmentioned', 11640), ('spiel', 11641), ('bookworm', 11642), ('horrific', 11643), ('sitting', 11644), ('outgrow', 11645), ('defenseman', 11646), ('theu', 11647), ('carlie', 11648), ('trea', 11649), ('offspre', 11650), ('unwante', 11651), ('directionless', 11652), ('thorough', 11653), ('detroit', 11654), ('specialized', 11655), ('dnt', 11656), ('knwe', 11657), ('nthing', 11658), ('plastikan', 11659), ('ambulatory', 11660), ('contin', 11661), ('videotape', 11662), ('parisian', 11663), ('schizofrenic', 11664), ('flaky', 11665), ('streaky', 11666), ('horsepower', 11667), ('plugged', 11668), ('wretched', 11669), ('forelorn', 11670), ('unenthusiastic', 11671), ('realism', 11672), ('rudely', 11673), ('execution', 11674), ('turned', 11675), ('pooped', 11676), ('sacrament', 11677), ('inflict', 11678), ('glowy', 11679), ('bishop', 11680), ('behi', 11681), ('remotional', 11682), ('scandalized', 11683), ('unforgive', 11684), ('willie', 11685), ('terminate', 11686), ('lucrative', 11687), ('eqafe', 11688), ('acco', 11689), ('nahariya', 11690), ('sistah', 11691), ('musically', 11692), ('larry', 11693), ('thrust', 11694), ('namely', 11695), ('obligatory', 11696), ('jill', 11697), ('glumness', 11698), ('louder', 11699), ('overstep', 11700), ('egypt', 11701), ('thisisntcuteanymore', 11702), ('conceptualize', 11703), ('huhuhu', 11704), ('skinned', 11705), ('unprofessional', 11706), ('govern', 11707), ('header', 11708), ('blowjob', 11709), ('kara', 11710), ('biomedical', 11711), ('runnin', 11712), ('bein', 11713), ('stic', 11714), ('sicken', 11715), ('lance', 11716), ('seriousness', 11717), ('oven', 11718), ('multitasking', 11719), ('destination', 11720), ('constipated', 11721), ('yhhhay', 11722), ('gaga', 11723), ('laughin', 11724), ('kisling', 11725), ('sculptor', 11726), ('stairwell', 11727), ('seventh', 11728), ('humid', 11729), ('shamefully', 11730), ('persuasively', 11731), ('ovation', 11732), ('ptk', 11733), ('biff', 11734), ('thunder', 11735), ('ingrained', 11736), ('braeden', 11737), ('calvin', 11738), ('abdominal', 11739), ('stuc', 11740), ('picketing', 11741), ('pledge', 11742), ('evenhande', 11743), ('bondmusing', 11744), ('redshank', 11745), ('ffayth', 11746), ('guion', 11747), ('millennia', 11748), ('brainstorm', 11749), ('hui', 11750), ('bruno', 11751), ('marzzz', 11752), ('survival', 11753), ('onwards', 11754), ('boardwalk', 11755), ('clara', 11756), ('daley', 11757), ('bronze', 11758), ('imagebox', 11759), ('gladiator', 11760), ('construct', 11761), ('hopefull', 11762), ('jeweller', 11763), ('tak', 11764), ('banal', 11765), ('missgiving', 11766), ('gracia', 11767), ('por', 11768), ('todo', 11769), ('milly', 11770), ('insyallah', 11771), ('jene', 11772), ('grape', 11773), ('watermelon', 11774), ('mint', 11775), ('liqueur', 11776), ('rum', 11777), ('drambuie', 11778), ('incl', 11779), ('mil', 11780), ('keynote', 11781), ('architectural', 11782), ('bridal', 11783), ('damned', 11784), ('jurys', 11785), ('tranquility', 11786), ('spotlessly', 11787), ('burgle', 11788), ('krupke', 11789), ('idreamculture', 11790), ('scottish', 11791), ('mountains', 11792), ('weir', 11793), ('wakeful', 11794), ('thatrupert', 11795), ('urgh', 11796), ('bommie', 11797), ('chillax', 11798), ('remodeled', 11799), ('amenity', 11800), ('khthon', 11801), ('melod', 11802), ('hookah', 11803), ('nicky', 11804), ('moo', 11805), ('sumthg', 11806), ('thk', 11807), ('surpris', 11808), ('ecology', 11809), ('absoloutely', 11810), ('ou', 11811), ('edition', 11812), ('antoinette', 11813), ('publican', 11814), ('repel', 11815), ('armoury', 11816), ('taciturnity', 11817), ('malevolent', 11818), ('servic', 11819), ('inequality', 11820), ('tgt', 11821), ('rampant', 11822), ('shahzad', 11823), ('ismaily', 11824), ('toot', 11825), ('ringside', 11826), ('clarinet', 11827), ('omission', 11828), ('avoidance', 11829), ('eschew', 11830), ('foraging', 11831), ('bid', 11832), ('indie', 11833), ('irresponcible', 11834), ('daddys', 11835), ('unfathomably', 11836), ('chakotay', 11837), ('alexander', 11838), ('comfident', 11839), ('defile', 11840), ('portrait', 11841), ('rrreeaallyy', 11842), ('padre', 11843), ('shooter', 11844), ('improvising', 11845), ('slatebook', 11846), ('bm', 11847), ('roster', 11848), ('housekeep', 11849), ('ebaye', 11850), ('heroic', 11851), ('flap', 11852), ('flapped', 11853), ('machi', 11854), ('jude', 11855), ('kirkwood', 11856), ('decisive', 11857), ('winne', 11858), ('horsley', 11859), ('evans', 11860), ('lighting', 11861), ('jigsaw', 11862), ('leare', 11863), ('bravely', 11864), ('scoop', 11865), ('loosen', 11866), ('restrict', 11867), ('carson', 11868), ('assertive', 11869), ('skid', 11870), ('irrevocably', 11871), ('minimize', 11872), ('segregated', 11873), ('vessel', 11874), ('mallrat', 11875), ('roam', 11876), ('appoint', 11877), ('cushion', 11878), ('cohesive', 11879), ('arist', 11880), ('helier', 11881), ('hospita', 11882), ('deplete', 11883), ('mysalvagedtreasure', 11884), ('logistic', 11885), ('herpe', 11886), ('checkup', 11887), ('eternity', 11888), ('def', 11889), ('sentinel', 11890), ('hanford', 11891), ('councilman', 11892), ('chins', 11893), ('serioulsy', 11894), ('mack', 11895), ('benefice', 11896), ('hyperchondria', 11897), ('exaggeration', 11898), ('calculated', 11899), ('damaging', 11900), ('beachbody', 11901), ('rays', 11902), ('buffalo', 11903), ('sek', 11904), ('duo', 11905), ('sorrowfu', 11906), ('ratbagx', 11907), ('losse', 11908), ('earplug', 11909), ('versus', 11910), ('stor', 11911), ('reiterate', 11912), ('mermaidhaire', 11913), ('pew', 11914), ('fundamentally', 11915), ('reverence', 11916), ('omega', 11917), ('weightlessly', 11918), ('flo', 11919), ('tbt', 11920), ('suckere', 11921), ('siri', 11922), ('metier', 11923), ('helterskelter', 11924), ('frighte', 11925), ('freestone', 11926), ('winetasting', 11927), ('hawaiian', 11928), ('monkey', 11929), ('coax', 11930), ('nastily', 11931), ('kinison', 11932), ('pensioner', 11933), ('puteri', 11934), ('burp', 11935), ('dating', 11936), ('dingler', 11937), ('ladybit', 11938), ('thaw', 11939), ('dehydrated', 11940), ('tzann', 11941), ('cluck', 11942), ('accessary', 11943), ('bumper', 11944), ('conditioner', 11945), ('arrest', 11946), ('insatiable', 11947), ('foh', 11948), ('coroner', 11949), ('dubstep', 11950), ('enormity', 11951), ('weasel', 11952), ('ptl', 11953), ('wrongfully', 11954), ('astray', 11955), ('restrain', 11956), ('humanbeing', 11957), ('nancy', 11958), ('taiko', 11959), ('estonians', 11960), ('russianspeake', 11961), ('populati', 11962), ('manicure', 11963), ('eighteen', 11964), ('superbike', 11965), ('cbs', 11966), ('sportsline', 11967), ('sparkly', 11968), ('plank', 11969), ('allthingsbuck', 11970), ('ballater', 11971), ('representation', 11972), ('describ', 11973), ('aoa', 11974), ('extract', 11975), ('roundabout', 11976), ('resting', 11977), ('oppie', 11978), ('rudimentary', 11979), ('unlikely', 11980), ('cyst', 11981), ('flirtiness', 11982), ('peeta', 11983), ('katnisss', 11984), ('hun', 11985), ('kathumpe', 11986), ('cinematic', 11987), ('thunk', 11988), ('kala', 11989), ('sniping', 11990), ('vm', 11991), ('peta', 11992), ('lajoie', 11993), ('famer', 11994), ('developer', 11995), ('opinionated', 11996), ('adn', 11997), ('someobdy', 11998), ('reapply', 11999), ('parker', 12000), ('smacked', 12001), ('smoker', 12002), ('diversionary', 12003), ('selectively', 12004), ('prevention', 12005), ('joyfully', 12006), ('ehb', 12007), ('worrie', 12008), ('lsd', 12009), ('chemist', 12010), ('shroomery', 12011), ('smarty', 12012), ('templates', 12013), ('lobelia', 12014), ('murua', 12015), ('admin', 12016), ('lenin', 12017), ('wispy', 12018), ('metropolitan', 12019), ('emm', 12020), ('surreal', 12021), ('zara', 12022), ('drained', 12023), ('panty', 12024), ('mexigoth', 12025), ('merson', 12026), ('parch', 12027), ('lightsync', 12028), ('porcupine', 12029), ('hairstyle', 12030), ('frizz', 12031), ('endorsed', 12032), ('litter', 12033), ('loudon', 12034), ('mcgarrigle', 12035), ('rufus', 12036), ('lise', 12037), ('tot', 12038), ('burgeoning', 12039), ('reactive', 12040), ('tith', 12041), ('ath', 12042), ('afp', 12043), ('potty', 12044), ('benson', 12045), ('sadhana', 12046), ('yurusei', 12047), ('yatsura', 12048), ('coheed', 12049), ('cambria', 12050), ('unencumberedness', 12051), ('seller', 12052), ('katanya', 12053), ('enought', 12054), ('remourseful', 12055), ('arvo', 12056), ('tallinn', 12057), ('unsupervised', 12058), ('sucessfully', 12059), ('handbrake', 12060), ('coney', 12061), ('psychiatric', 12062), ('serendipity', 12063), ('collide', 12064), ('inspir', 12065), ('po', 12066), ('effec', 12067), ('agonized', 12068), ('offhand', 12069), ('kindaish', 12070), ('sighhh', 12071), ('pessimism', 12072), ('soulbitesblog', 12073), ('veery', 12074), ('hor', 12075), ('murakami', 12076), ('oxbow', 12077), ('preakness', 12078), ('inspite', 12079), ('perusal', 12080), ('arugh', 12081), ('tinsel', 12082), ('headband', 12083), ('brooch', 12084), ('balk', 12085), ('musicjuzz', 12086), ('scheduling', 12087), ('notch', 12088), ('agn', 12089), ('wakeup', 12090), ('revise', 12091), ('earnestness', 12092), ('lard', 12093), ('neal', 12094), ('oiut', 12095), ('minibus', 12096), ('mopey', 12097), ('logarythmic', 12098), ('curriculum', 12099), ('capitol', 12100), ('engaging', 12101), ('watchable', 12102), ('polyvore', 12103), ('advent', 12104), ('schaub', 12105), ('bleacherreport', 12106), ('stimulating', 12107), ('ominous', 12108), ('pepper', 12109), ('zico', 12110), ('woop', 12111), ('onlooker', 12112), ('ir', 12113), ('fundraiser', 12114), ('rightful', 12115), ('predecessor', 12116), ('kame', 12117), ('hospitalize', 12118), ('functional', 12119), ('java', 12120), ('python', 12121), ('haskell', 12122), ('swath', 12123), ('trusted', 12124), ('ridgerunner', 12125), ('solberg', 12126), ('pc', 12127), ('gona', 12128), ('decribe', 12129), ('nakedness', 12130), ('drawn', 12131), ('parable', 12132), ('disband', 12133), ('server', 12134), ('gulity', 12135), ('onguard', 12136), ('alter', 12137), ('expressio', 12138), ('woolton', 12139), ('leeds', 12140), ('199394', 12141), ('adorn', 12142), ('pear', 12143), ('blueberry', 12144), ('asylum', 12145), ('seeker', 12146), ('herd', 12147), ('mindless', 12148), ('pti', 12149), ('jamiat', 12150), ('raymond', 12151), ('davis', 12152), ('selfconcept', 12153), ('shattere', 12154), ('sustainable', 12155), ('painridden', 12156), ('effectiveness', 12157), ('monarch', 12158), ('geographically', 12159), ('rfttttttttttsjiowefmklldkavsvdsbtwrsbdvfocxfibjxrklrgrmvaeridubneosdvfrwfd', 12160), ('stressing', 12161), ('banana', 12162), ('gatorade', 12163), ('forefinger', 12164), ('cede', 12165), ('doomnation', 12166), ('damnation', 12167), ('agonise', 12168), ('ars', 12169), ('nes', 12170), ('croatian', 12171), ('waiter', 12172), ('raucous', 12173), ('crudity', 12174), ('soldie', 12175), ('glittery', 12176), ('pubicly', 12177), ('caste', 12178), ('mogul', 12179), ('exhibitionism', 12180), ('newrhinegargoyle', 12181), ('hanley', 12182), ('prison', 12183), ('surkov', 12184), ('anaestheti', 12185), ('unexpectedly', 12186), ('aiw', 12187), ('phantomwise', 12188), ('totality', 12189), ('manic', 12190), ('childine', 12191), ('meath', 12192), ('rudolph', 12193), ('valentino', 12194), ('unspeakable', 12195), ('rammstein', 12196), ('offender', 12197), ('obrian', 12198), ('characterisation', 12199), ('dentis', 12200), ('bagshot', 12201), ('bacuse', 12202), ('passerby', 12203), ('excercise', 12204), ('beet', 12205), ('rabiola', 12206), ('fresca', 12207), ('ravioli', 12208), ('yin', 12209), ('yang', 12210), ('pastas', 12211), ('legislator', 12212), ('qaeda', 12213), ('iraqi', 12214), ('upbringing', 12215), ('filthy', 12216), ('beckon', 12217), ('compere', 12218), ('thwart', 12219), ('immobile', 12220), ('70', 12221), ('aisl', 12222), ('constitutional', 12223), ('amendment', 12224), ('vicepresident', 12225), ('moudud', 12226), ('ahme', 12227), ('membe', 12228), ('bradbury', 12229), ('ripe', 12230), ('sox', 12231), ('tampa', 12232), ('imbibe', 12233), ('incalculable', 12234), ('mischief', 12235), ('thoughtfully', 12236), ('climber', 12237), ('irongrey', 12238), ('rumble', 12239), ('ene', 12240), ('intrusion', 12241), ('herzog', 12242), ('tally', 12243), ('npr', 12244), ('lugubriou', 12245), ('applebees', 12246), ('cram', 12247), ('30', 12248), ('dian', 12249), ('swaddled', 12250), ('ade', 12251), ('wordless', 12252), ('greeting', 12253), ('titanium', 12254), ('hedgehog', 12255), ('coincidence', 12256), ('outset', 12257), ('irresistable', 12258), ('unlikeable', 12259), ('stpm', 12260), ('jahmene', 12261), ('tartan', 12262), ('soho', 12263), ('candlelit', 12264), ('dinne', 12265), ('unkindness', 12266), ('selfishness', 12267), ('distorted', 12268), ('convert', 12269), ('currency', 12270), ('smackdown', 12271), ('terrribly', 12272), ('hourglass', 12273), ('loada', 12274), ('maybee', 12275), ('bitt', 12276), ('unintelligible', 12277), ('blabbering', 12278), ('jot', 12279), ('hussein', 12280), ('becoz', 12281), ('rollere', 12282), ('rueful', 12283), ('jenna', 12284), ('grossman', 12285), ('flooring', 12286), ('bobs', 12287), ('snorkeling', 12288), ('foresee', 12289), ('hypersexual', 12290), ('tartlet', 12291), ('rihanna', 12292), ('ewan', 12293), ('paella', 12294), ('sangria', 12295), ('nerv', 12296), ('hirsi', 12297), ('invitati', 12298), ('stationary', 12299), ('brokeup', 12300), ('topical', 12301), ('zola', 12302), ('tri', 12303), ('encouraged', 12304), ('paddington', 12305), ('liste', 12306), ('douevenlift', 12307), ('inherently', 12308), ('bicycle', 12309), ('flying', 12310), ('loom', 12311), ('designati', 12312), ('cheaply', 12313), ('prizecompetition', 12314), ('sardine', 12315), ('warmt', 12316), ('bothersome', 12317), ('convoy', 12318), ('hauler', 12319), ('targeted', 12320), ('int', 12321), ('knowlege', 12322), ('bridget', 12323), ('ros', 12324), ('eerily', 12325), ('vocalize', 12326), ('eagles', 12327), ('affend', 12328), ('stirring', 12329), ('ebloggy', 12330), ('sewage', 12331), ('diarrhoea', 12332), ('prosperity', 12333), ('sensed', 12334), ('reestablish', 12335), ('panorma', 12336), ('homesickish', 12337), ('snowpea', 12338), ('nissan', 12339), ('retweet', 12340), ('palace', 12341), ('westminster', 12342), ('condolence', 12343), ('dogowner', 12344), ('jamila', 12345), ('decis', 12346), ('nape', 12347), ('problematic', 12348), ('mooch', 12349), ('200000', 12350), ('carnivalstyle', 12351), ('tro', 12352), ('flusher', 12353), ('presumably', 12354), ('uniqueness', 12355), ('presupposition', 12356), ('hooton', 12357), ('richar', 12358), ('torward', 12359), ('atention', 12360), ('misstreate', 12361), ('affeccion', 12362), ('sketc', 12363), ('geographical', 12364), ('precipitant', 12365), ('clinically', 12366), ('parson', 12367), ('avai', 12368), ('tween', 12369), ('moms', 12370), ('considering', 12371), ('unsatisfye', 12372), ('internetsphere', 12373), ('conspire', 12374), ('activism', 12375), ('construe', 12376), ('dela', 12377), ('osteopath', 12378), ('boulder', 12379), ('reno', 12380), ('divor', 12381), ('strangle', 12382), ('syae', 12383), ('sweatpant', 12384), ('commute', 12385), ('ferry', 12386), ('armani', 12387), ('blazer', 12388), ('drecky', 12389), ('stinking', 12390), ('grassroots', 12391), ('congested', 12392), ('bleurgh', 12393), ('confidential', 12394), ('ollie', 12395), ('cumberland', 12396), ('microcosm', 12397), ('ge', 12398), ('restart', 12399), ('amman', 12400), ('jessicadickinsongoodman', 12401), ('mee', 12402), ('emotionaly', 12403), ('plush', 12404), ('cassie', 12405), ('hardening', 12406), ('uncontainable', 12407), ('engulf', 12408), ('illinois', 12409), ('bertram', 12410), ('ptbertram', 12411), ('frightene', 12412), ('burgo', 12413), ('ocd', 12414), ('duckle', 12415), ('eyeliner', 12416), ('residue', 12417), ('brownish', 12418), ('tint', 12419), ('dreamworld', 12420), ('milkshake', 12421), ('ransom', 12422), ('measurable', 12423), ('wome', 12424), ('gestate', 12425), ('koreans', 12426), ('scabi', 12427), ('verona', 12428), ('conversational', 12429), ('deader', 12430), ('amos', 12431), ('retrofit', 12432), ('homage', 12433), ('coasted', 12434), ('athf', 12435), ('newcastle', 12436), ('relegation', 12437), ('troubl', 12438), ('thundershower', 12439), ('ginormous', 12440), ('mistress', 12441), ('matilda', 12442), ('flashing', 12443), ('trunchbull', 12444), ('acute', 12445), ('deli', 12446), ('obesity', 12447), ('elbow', 12448), ('tate', 12449), ('phoenix', 12450), ('demos', 12451), ('talks', 12452), ('touched', 12453), ('inadvertently', 12454), ('sleet', 12455), ('infectious', 12456), ('uncontrollably', 12457), ('weighin', 12458), ('flung', 12459), ('prized', 12460), ('magazin', 12461), ('roberto', 12462), ('orcis', 12463), ('adoration', 12464), ('dubya', 12465), ('pampered', 12466), ('orci', 12467), ('fudgy', 12468), ('emergence', 12469), ('facsimilogos', 12470), ('fondness', 12471), ('woodman', 12472), ('cowardly', 12473), ('endorse', 12474), ('nigga', 12475), ('zayne', 12476), ('litte', 12477), ('mangoe', 12478), ('niggling', 12479), ('drainage', 12480), ('cyni', 12481), ('adequate', 12482), ('countertop', 12483), ('perk', 12484), ('extremley', 12485), ('darren', 12486), ('terrifying', 12487), ('benedictine', 12488), ('monastic', 12489), ('firey', 12490), ('nonexistence', 12491), ('sustained', 12492), ('hesei', 12493), ('kamen', 12494), ('nachos', 12495), ('spruce', 12496), ('daughtersinlaw', 12497), ('guar', 12498), ('disappointing', 12499), ('amusing', 12500), ('midori', 12501), ('plummer', 12502), ('consent', 12503), ('texas', 12504), ('patio', 12505), ('claus', 12506), ('loot', 12507), ('books', 12508), ('pattie', 12509), ('surmountable', 12510), ('40th', 12511), ('incommunicado', 12512), ('vigilant', 12513), ('whoosh', 12514), ('dipshit', 12515), ('primate', 12516), ('reduc', 12517), ('primetime', 12518), ('murderer', 12519), ('navigate', 12520), ('cape', 12521), ('peasy', 12522), ('holiness', 12523), ('contemporar', 12524), ('jeoffrey', 12525), ('eyo', 12526), ('superpower', 12527), ('vineman', 12528), ('racin', 12529), ('lender', 12530), ('hoarse', 12531), ('chuc', 12532), ('aristophane', 12533), ('polytechnic', 12534), ('35', 12535), ('headbanging', 12536), ('hepzibah', 12537), ('carrie', 12538), ('goof', 12539), ('ounce', 12540), ('squeezed', 12541), ('mrt', 12542), ('contemplation', 12543), ('consolidation', 12544), ('bellybutton', 12545), ('impugn', 12546), ('mcillvanney', 12547), ('turd', 12548), ('patiently', 12549), ('devout', 12550), ('nazi', 12551), ('partys', 12552), ('ideology', 12553), ('forcibly', 12554), ('conscript', 12555), ('gunther', 12556), ('diktat', 12557), ('sensationalist', 12558), ('connecticut', 12559), ('dannika', 12560), ('fahad', 12561), ('skeleton', 12562), ('fictional', 12563), ('aggression', 12564), ('cucumber', 12565), ('quizzical', 12566), ('suite', 12567), ('nemo', 12568), ('waaay', 12569), ('childishly', 12570), ('wenner', 12571), ('jagger', 12572), ('tansy', 12573), ('got', 12574), ('biddy', 12575), ('overflow', 12576), ('jeffrey', 12577), ('whereabou', 12578), ('zhuo', 12579), ('xiao', 12580), ('nudist', 12581), ('diabetic', 12582), ('jaeryong', 12583), ('jungeun', 12584), ('colombians', 12585), ('gringa', 12586), ('el', 12587), ('amparo', 12588), ('symbolic', 12589), ('imaging', 12590), ('subscription', 12591), ('humiliating', 12592), ('guffaw', 12593), ('jongwoon', 12594), ('ryeowook', 12595), ('chuff', 12596), ('beholder', 12597), ('deranged', 12598), ('villian', 12599), ('expansive', 12600), ('lingo', 12601), ('sniiiiifff', 12602), ('derfwadmanor', 12603), ('jimmys', 12604), ('anthem', 12605), ('fixable', 12606), ('copiousl', 12607), ('accustom', 12608), ('skinless', 12609), ('crock', 12610), ('overwhleming', 12611), ('completley', 12612), ('eaten', 12613), ('shoplift', 12614), ('gummy', 12615), ('kidding', 12616), ('reverberate', 12617), ('affron', 12618), ('bcoz', 12619), ('sience', 12620), ('saddle', 12621), ('gan', 12622), ('suede', 12623), ('chadstone', 12624), ('tonite', 12625), ('slower', 12626), ('ev', 12627), ('reassurance', 12628), ('consolidate', 12629), ('underbelly', 12630), ('subway', 12631), ('meltdown', 12632), ('aspi', 12633), ('greenacre', 12634), ('agoraphobic', 12635), ('firstly', 12636), ('secondly', 12637), ('cleary', 12638), ('euphermal', 12639), ('fifth', 12640), ('yearbook', 12641), ('intoxicate', 12642), ('spectre', 12643), ('politici', 12644), ('karma', 12645), ('contentment', 12646), ('incest', 12647), ('allan', 12648), ('yknow', 12649), ('erratic', 12650), ('swoon', 12651), ('romcom', 12652), ('woebegon', 12653), ('docile', 12654), ('truthfully', 12655), ('rylin', 12656), ('kuwait', 12657), ('blurry', 12658), ('cabbage', 12659), ('venison', 12660), ('pomegranate', 12661), ('oiliness', 12662), ('assessor', 12663), ('helm', 12664), ('pathologically', 12665), ('unsupported', 12666), ('metformin', 12667), ('runneth', 12668), ('absorb', 12669), ('tome', 12670), ('strewn', 12671), ('unfounded', 12672), ('slumps', 12673), ('titanic', 12674), ('clevere', 12675), ('chainring', 12676), ('misrepresented', 12677), ('kitty', 12678), ('flicker', 12679), ('smooch', 12680), ('unfaithful', 12681), ('tonguey', 12682), ('clit', 12683), ('zjs', 12684), ('bai', 12685), ('refusal', 12686), ('fergus', 12687), ('progr', 12688), ('breathless', 12689), ('wholeheartedly', 12690), ('alliance', 12691), ('percolate', 12692), ('synonym', 12693), ('ahkman', 12694), ('copay', 12695), ('wnat', 12696), ('liberation', 12697), ('badplaydate', 12698), ('russell', 12699), ('merida', 12700), ('habanero', 12701), ('divinity', 12702), ('mitchum', 12703), ('belgra', 12704), ('gland', 12705), ('qa', 12706), ('miner', 12707), ('progressive', 12708), ('yoshida', 12709), ('biopsy', 12710), ('stringent', 12711), ('mandela', 12712), ('tumultuous', 12713), ('tickertape', 12714), ('aggie', 12715), ('hobnail', 12716), ('liveagainsttheflow', 12717), ('unresponsive', 12718), ('aussy', 12719), ('evelyn', 12720), ('filmmaker', 12721), ('everybodys', 12722), ('gentrifie', 12723), ('ghetto', 12724), ('northwestern', 12725), ('divide', 12726), ('housing', 12727), ('babsbrisbane', 12728), ('poacher', 12729), ('pelt', 12730), ('drs', 12731), ('timmy', 12732), ('ytear', 12733), ('justwhen', 12734), ('futrue', 12735), ('timesa', 12736), ('efeele', 12737), ('exited', 12738), ('acheivment', 12739), ('biostatistic', 12740), ('physiology', 12741), ('brood', 12742), ('wreak', 12743), ('havoc', 12744), ('repay', 12745), ('embarassing', 12746), ('leaving', 12747), ('appearanc', 12748), ('ewhich', 12749), ('movign', 12750), ('unmoved', 12751), ('immedietly', 12752), ('mart', 12753), ('hawaii', 12754), ('gmc', 12755), ('denali', 12756), ('conquering', 12757), ('coronation', 12758), ('mcshane', 12759), ('1980', 12760), ('lifelong', 12761), ('sen', 12762), ('reuse', 12763), ('multiband', 12764), ('helpline', 12765), ('neon', 12766), ('shizz', 12767), ('avalanche', 12768), ('bullying', 12769), ('reactor', 12770), ('teh', 12771), ('ventrure', 12772), ('mic', 12773), ('theo', 12774), ('eli', 12775), ('zack', 12776), ('dilute', 12777), ('spitak', 12778), ('decaf', 12779), ('allowance', 12780), ('opera', 12781), ('shhhhhhh', 12782), ('glorney', 12783), ('dickensian', 12784), ('gb', 12785), ('buyer', 12786), ('pleas', 12787), ('volvo', 12788), ('unsimilar', 12789), ('waddle', 12790), ('embaresse', 12791), ('eyebr', 12792), ('insecured', 12793), ('barista', 12794), ('ffviii', 12795), ('bust', 12796), ('generalization', 12797), ('solver', 12798), ('exboyfriend', 12799), ('midnight', 12800), ('pendleton', 12801), ('pocketbook', 12802), ('malmesbury', 12803), ('wiltsh', 12804), ('undeveloped', 12805), ('interlock', 12806), ('jhbdjhdfbjdfhbfd', 12807), ('ignorantly', 12808), ('canter', 12809), ('pesticide', 12810), ('spelt', 12811), ('surpr', 12812), ('pawn', 12813), ('repor', 12814), ('driftingthroughlife', 12815), ('prostitution', 12816), ('contaminati', 12817), ('westerner', 12818), ('unrealistically', 12819), ('partake', 12820), ('leonora', 12821), ('rapt', 12822), ('penry', 12823), ('vaughan', 12824), ('mda', 12825), ('telethon', 12826), ('nic', 12827), ('disbelief', 12828), ('catholics', 12829), ('workshop', 12830), ('travelogue', 12831), ('dire', 12832), ('confrontational', 12833), ('thrive', 12834), ('executive', 12835), ('intensive', 12836), ('zackmdavi', 12837), ('merciless', 12838), ('graying', 12839), ('dayummm', 12840), ('casablanca', 12841), ('compellingly', 12842), ('errrr', 12843), ('womb', 12844), ('milligram', 12845), ('disruption', 12846), ('faithless', 12847), ('animosity', 12848), ('czech', 12849), ('concurrently', 12850), ('trajectory', 12851), ('bemoan', 12852), ('walker', 12853), ('prohibit', 12854), ('wth', 12855), ('elihu', 12856), ('christmastime', 12857), ('stately', 12858), ('nonconformist', 12859), ('watson', 12860), ('russian', 12861), ('accommodation', 12862), ('incomprehensible', 12863), ('strokestiffene', 12864), ('eyed', 12865), ('carer', 12866), ('detrimental', 12867), ('dialect', 12868), ('aaaah', 12869), ('objectively', 12870), ('pirate', 12871), ('landlubber', 12872), ('brazen', 12873), ('gabapentin', 12874), ('zonisamide', 12875), ('trigonometry', 12876), ('tutee', 12877), ('consternation', 12878), ('westminst', 12879), ('amalgamation', 12880), ('beachy', 12881), ('outfitter', 12882), ('cyclinder', 12883), ('mystical', 12884), ('synthetic', 12885), ('trinket', 12886), ('organizational', 12887), ('masochist', 12888), ('potion', 12889), ('welcoming', 12890), ('botany', 12891), ('lec', 12892), ('mmf', 12893), ('lanky', 12894), ('firefighter', 12895), ('strap', 12896), ('fume', 12897), ('moe', 12898), ('lawn', 12899), ('detailed', 12900), ('capp', 12901), ('gawd', 12902), ('quilty', 12903), ('imma', 12904), ('horro', 12905), ('vagina', 12906), ('espresso', 12907), ('pence', 12908), ('quaker', 12909), ('fortnight', 12910), ('plugin', 12911), ('guidebook', 12912), ('groupie', 12913), ('mat', 12914), ('anyhow', 12915), ('circuit', 12916), ('downtime', 12917), ('maneuver', 12918), ('hahah', 12919), ('wounding', 12920), ('stickiness', 12921), ('symphony', 12922), ('overheat', 12923), ('graced', 12924), ('wart', 12925), ('washroom', 12926), ('lolll', 12927), ('blissful', 12928), ('disjointed', 12929), ('dakota', 12930), ('halfeaten', 12931), ('imperturbable', 12932), ('cataclysmic', 12933), ('combos', 12934), ('clapping', 12935), ('teacup', 12936), ('bogart', 12937), ('airtime', 12938), ('shard', 12939), ('slash', 12940), ('rohmer', 12941), ('whitley', 12942), ('shampoo', 12943), ('sulfate', 12944), ('distribution', 12945), ('chiangmai', 12946), ('robotic', 12947), ('pallid', 12948), ('bandage', 12949), ('zooming', 12950), ('trinity', 12951), ('tonk', 12952), ('recollection', 12953), ('supervising', 12954), ('dampen', 12955), ('fitch', 12956), ('kindda', 12957), ('chastise', 12958), ('behaving', 12959), ('melanie', 12960), ('gleefully', 12961), ('marshmallow', 12962), ('scim', 12963), ('conscientious', 12964), ('snp', 12965), ('dsp', 12966), ('chef', 12967), ('alabama', 12968), ('picturesque', 12969), ('liza', 12970), ('salisbury', 12971), ('plai', 12972), ('bloated', 12973), ('rawly', 12974), ('beacuse', 12975), ('ouch', 12976), ('liable', 12977), ('rooster', 12978), ('elola', 12979), ('21', 12980), ('altar', 12981), ('outstretc', 12982), ('muffled', 12983), ('hideaki', 12984), ('forcefully', 12985), ('daiki', 12986), ('kerry', 12987), ('equality', 12988), ('amd', 12989), ('sasuke', 12990), ('fatally', 12991), ('dalai', 12992), ('lama', 12993), ('cavalier', 12994), ('jesse', 12995), ('lexicon', 12996), ('bodmin', 12997), ('rustle', 12998), ('aol', 12999), ('verizon', 13000), ('flighty', 13001), ('barron', 13002), ('tremus', 13003), ('blogland', 13004), ('thia', 13005), ('scruncher', 13006), ('repentanc', 13007), ('withdrawn', 13008), ('touching', 13009), ('iya', 13010), ('duvet', 13011), ('exhilirate', 13012), ('headspace', 13013), ('jensens', 13014), ('bon', 13015), ('jovi', 13016), ('cafeteria', 13017), ('permanenter', 13018), ('zum', 13019), ('eintrag', 13020), ('homophobia', 13021), ('tasteful', 13022), ('remix', 13023), ('schellenberg', 13024), ('48', 13025), ('earlie', 13026), ('smothered', 13027), ('fabolous', 13028), ('losos', 13029), ('reproach', 13030), ('taheb', 13031), ('expload', 13032), ('israelites', 13033), ('befuddle', 13034), ('horrifying', 13035), ('risen', 13036), ('soundscape', 13037), ('venom', 13038), ('transportation', 13039), ('partial', 13040), ('aconfident', 13041), ('overcomet', 13042), ('tria', 13043), ('jest', 13044), ('walrus', 13045), ('marybeth', 13046), ('isabella', 13047), ('blogspot', 13048), ('hendrick', 13049), ('hari', 13050), ('raya', 13051), ('prebook', 13052), ('kueh', 13053), ('makmur', 13054), ('hygiene', 13055), ('scotty', 13056), ('alcest', 13057), ('casting', 13058), ('flaccid', 13059), ('sloan', 13060), ('jazz', 13061), ('vibrator', 13062), ('dildo', 13063), ('repetetive', 13064), ('brackenbury', 13065), ('hasty', 13066), ('overeat', 13067), ('32', 13068), ('northampton', 13069), ('misrepresent', 13070), ('harper', 13071), ('sophat', 13072), ('kandal', 13073), ('arrow', 13074), ('bestfriend', 13075), ('bff', 13076), ('cheerfully', 13077), ('doisneau', 13078), ('birdlike', 13079), ('mischievous', 13080), ('nik', 13081), ('purged', 13082), ('lestat', 13083), ('leveled', 13084), ('placement', 13085), ('spiro', 13086), ('46', 13087), ('ramble', 13088), ('compartmentalise', 13089), ('genia', 13090), ('optimist', 13091), ('warrick', 13092), ('naivety', 13093), ('oracle', 13094), ('busine', 13095), ('unison', 13096), ('spurge', 13097), ('deathly', 13098), ('employment', 13099), ('tabitha', 13100), ('campbellblack', 13101), ('bailey', 13102), ('ascension', 13103), ('dependency', 13104), ('neediness', 13105), ('thames', 13106), ('kremlin', 13107), ('chechen', 13108), ('afghan', 13109), ('mujahedin', 13110), ('benefi', 13111), ('wary', 13112), ('decode', 13113), ('anxio', 13114), ('agape', 13115), ('ew', 13116), ('everywher', 13117), ('stilted', 13118), ('atherton', 13119), ('que', 13120), ('anansi', 13121), ('insipid', 13122), ('boomer', 13123), ('jumble', 13124), ('warp', 13125), ('enviously', 13126), ('dabble', 13127), ('cellphone', 13128), ('incredulous', 13129), ('voicesfromkrypton', 13130), ('missile', 13131), ('chromosome', 13132), ('clash', 13133), ('laconic', 13134), ('darby', 13135), ('experienced', 13136), ('rebuil', 13137), ('griffin', 13138), ('enigmatic', 13139), ('sabine', 13140), ('strohem', 13141), ('isl', 13142), ('resupplie', 13143), ('benno', 13144), ('motorcycle', 13145), ('lemony', 13146), ('buttermilk', 13147), ('dt', 13148), ('distaste', 13149), ('aggressiven', 13150), ('nolean', 13151), ('wihtout', 13152), ('doorknob', 13153), ('shroud', 13154), ('wodehousian', 13155), ('nam', 13156), ('exhale', 13157), ('vapor', 13158), ('rucksack', 13159), ('transcendant', 13160), ('dashboard', 13161), ('traction', 13162), ('spacey', 13163), ('suppport', 13164), ('insurance', 13165), ('gr', 13166), ('accountant', 13167), ('contagious', 13168), ('afar', 13169), ('moz', 13170), ('13', 13171), ('mdashhow', 13172), ('stump', 13173), ('continental', 13174), ('asbestos', 13175), ('ibleeditout', 13176), ('kodi', 13177), ('diana', 13178), ('avidly', 13179), ('plantar', 13180), ('fascitis', 13181), ('becuase', 13182), ('shh', 13183), ('ajahn', 13184), ('brahmavamso', 13185), ('blackmail', 13186), ('pointlessness', 13187), ('toughen', 13188), ('myelf', 13189), ('miraculously', 13190), ('conquer', 13191), ('stoup', 13192), ('mockery', 13193), ('derive', 13194), ('discomf', 13195), ('welc', 13196), ('edmonton', 13197), ('crown', 13198), ('explorable', 13199), ('gange', 13200), ('mississippi', 13201), ('clyde', 13202), ('boyne', 13203), ('tapestry', 13204), ('whiz', 13205), ('chapbook', 13206), ('aggrandisement', 13207), ('projector', 13208), ('displease', 13209), ('musty', 13210), ('everyfuckingthing', 13211), ('passive', 13212), ('magnificent', 13213), ('fertility', 13214), ('liquid', 13215), ('moustache', 13216), ('droope', 13217), ('sneaker', 13218), ('ajmed', 13219), ('jeep', 13220), ('dusk', 13221), ('remarry', 13222), ('feefyefo', 13223), ('blabber', 13224), ('absurdly', 13225), ('exposed', 13226), ('ralemberg', 13227), ('lollypop', 13228), ('craziness', 13229), ('convincing', 13230), ('justly', 13231), ('easel', 13232), ('maurice', 13233), ('cluster', 13234), ('jumbleupon', 13235), ('prius', 13236), ('gore', 13237), ('patagonia', 13238), ('disagreeable', 13239), ('chiuv', 13240), ('kaddish', 13241), ('daven', 13242), ('amud', 13243), ('gooseneck', 13244), ('fishbane', 13245), ('unwary', 13246), ('reap', 13247), ('dra', 13248), ('noconscience', 13249), ('cohort', 13250), ('uninterested', 13251), ('bfd', 13252), ('monkee', 13253), ('fervent', 13254), ('anesthetized', 13255), ('psssh', 13256), ('thro', 13257), ('annulment', 13258), ('misgiving', 13259), ('naman', 13260), ('moonbeam', 13261), ('dreamily', 13262), ('obnoxiously', 13263), ('verbal', 13264), ('tic', 13265), ('judgmental', 13266), ('trafficking', 13267), ('slavery', 13268), ('embitter', 13269), ('clermont', 13270), ('dictate', 13271), ('spay', 13272), ('constructively', 13273), ('unpaved', 13274), ('stephanie', 13275), ('universality', 13276), ('voluntary', 13277), ('ryodan', 13278), ('overdramatic', 13279), ('constraint', 13280), ('incrementally', 13281), ('rigid', 13282), ('recourse', 13283), ('cabeal', 13284), ('methink', 13285), ('blackeye', 13286), ('flexy', 13287), ('constitution', 13288), ('muzzle', 13289), ('putrid', 13290), ('domestically', 13291), ('lowspirite', 13292), ('wicke', 13293), ('colouring', 13294), ('entirelly', 13295), ('pooley', 13296), ('emp', 13297), ('faithsedge', 13298), ('claire', 13299), ('alertness', 13300), ('underpant', 13301), ('taker', 13302), ('treachery', 13303), ('contentedly', 13304), ('biological', 13305), ('bark', 13306), ('rosie', 13307), ('approximate', 13308), ('fertile', 13309), ('homeschool', 13310), ('excommunicate', 13311), ('landriani', 13312), ('conv', 13313), ('jrock', 13314), ('tommorrow', 13315), ('freeer', 13316), ('pinched', 13317), ('lowlight', 13318), ('assuage', 13319), ('everybitterthingissweet', 13320), ('soooooooo', 13321), ('tribal', 13322), ('exponentially', 13323), ('faldo', 13324), ('mxm', 13325), ('este', 13326), ('hercule', 13327), ('adhere', 13328), ('freaky', 13329), ('depict', 13330), ('blast', 13331), ('humbling', 13332), ('tearstaine', 13333), ('allotted', 13334), ('handrail', 13335), ('basement', 13336), ('edouard', 13337), ('rosa', 13338), ('chasm', 13339), ('displaced', 13340), ('salesman', 13341), ('tramp', 13342), ('aisle', 13343), ('squawking', 13344), ('bleating', 13345), ('incapacitate', 13346), ('flaring', 13347), ('lous', 13348), ('stingy', 13349), ('switzerland', 13350), ('inquisition', 13351), ('subspace', 13352), ('tetchy', 13353), ('sauna', 13354), ('goldilock', 13355), ('paster', 13356), ('harmonize', 13357), ('fangirl', 13358), ('draught', 13359), ('loui', 13360), ('downvoted', 13361), ('rugmi', 13362), ('islander', 13363), ('sophisticated', 13364), ('neighbo', 13365), ('breathi', 13366), ('incheswhyinche', 13367), ('relocate', 13368), ('drove', 13369), ('cyberspace', 13370), ('bulldog', 13371), ('minut', 13372), ('tacky', 13373), ('husky', 13374), ('butchery', 13375), ('bard', 13376), ('manif', 13377), ('discomforting', 13378), ('interpret', 13379), ('potatoe', 13380), ('miso', 13381), ('yesubais', 13382), ('downhearted', 13383), ('joie', 13384), ('vivre', 13385), ('hungarians', 13386), ('pact', 13387), ('governman', 13388), ('informant', 13389), ('minist', 13390), ('treader', 13391), ('hardcover', 13392), ('clump', 13393), ('groundless', 13394), ('courtship', 13395), ('araminta', 13396), ('forwardlooking', 13397), ('bodys', 13398), ('aging', 13399), ('jumping', 13400), ('sitter', 13401), ('shred', 13402), ('disposable', 13403), ('disqualification', 13404), ('bouncer', 13405), ('penguin', 13406), ('competent', 13407), ('perversion', 13408), ('hay', 13409), ('psychopath', 13410), ('mouthed', 13411), ('cheele', 13412), ('gabrielerne', 13413), ('midcentury', 13414), ('dresser', 13415), ('calle', 13416), ('unsettled', 13417), ('empowered', 13418), ('enlightening', 13419), ('grate', 13420), ('scratcheverythe', 13421), ('lister', 13422), ('alcove', 13423), ('outstretched', 13424), ('smi', 13425), ('entrench', 13426), ('gerrymandered', 13427), ('reelect', 13428), ('permission', 13429), ('reveling', 13430), ('akward', 13431), ('mcaleese', 13432), ('glor', 13433), ('dvds', 13434), ('heron', 13435), ('andthenwear', 13436), ('deception', 13437), ('fieldworker', 13438), ('heartsearchin', 13439), ('athleticism', 13440), ('mommyhood', 13441), ('exfoliate', 13442), ('caution', 13443), ('chivalrously', 13444), ('dissipat', 13445), ('hog', 13446), ('shoreward', 13447), ('dock', 13448), ('overhea', 13449), ('diner', 13450), ('elusive', 13451), ('defiant', 13452), ('newgate', 13453), ('artillery', 13454), ('carmelite', 13455), ('whitefriar', 13456), ('occupa', 13457), ('fullbright', 13458), ('jimmy', 13459), ('dynamic', 13460), ('educator', 13461), ('violin', 13462), ('sensitize', 13463), ('foc', 13464), ('emtyness', 13465), ('worthington', 13466), ('unendurable', 13467), ('deterioratio', 13468), ('somthing', 13469), ('haka', 13470), ('indy', 13471), ('crosshatching', 13472), ('lensflare', 13473), ('indisputably', 13474), ('blogpost', 13475), ('lipbalm', 13476), ('subje', 13477), ('arabia', 13478), ('indigenous', 13479), ('grossly', 13480), ('distribute', 13481), ('patr', 13482), ('charade', 13483), ('ini', 13484), ('firearm', 13485), ('serence', 13486), ('wwii', 13487), ('impetuous', 13488), ('perspire', 13489), ('enliven', 13490), ('eastern', 13491), ('depressant', 13492), ('tdy', 13493), ('entrie', 13494), ('wanderlust', 13495), ('possessive', 13496), ('grabbing', 13497), ('fron', 13498), ('inaction', 13499), ('techno', 13500), ('slander', 13501), ('stimulated', 13502), ('blender', 13503), ('incessantly', 13504), ('phyica', 13505), ('uneffecte', 13506), ('compliant', 13507), ('voip', 13508), ('telephony', 13509), ('desktop', 13510), ('refine', 13511), ('brooks', 13512), ('earl', 13513), ('discontinue', 13514), ('theif', 13515), ('baltic', 13516), ('mooshilu', 13517), ('aziz', 13518), ('humungous', 13519), ('harmless', 13520), ('insect', 13521), ('abdomen', 13522), ('congestion', 13523), ('blister', 13524), ('jingle', 13525), ('mop', 13526), ('atop', 13527), ('torturing', 13528), ('tame', 13529), ('uglier', 13530), ('2', 13531), ('childfrien', 13532), ('frantically', 13533), ('meticulously', 13534), ('mushy', 13535), ('feverishly', 13536), ('columbia', 13537), ('overfed', 13538), ('diagram', 13539), ('scoundrel', 13540), ('blouse', 13541), ('spike', 13542), ('traditionally', 13543), ('camilla', 13544), ('worthlessness', 13545), ('relent', 13546), ('fam', 13547), ('botanical', 13548), ('tor', 13549), ('sparkling', 13550), ('winemaker', 13551), ('nuisance', 13552), ('fizzy', 13553), ('noteworthy', 13554), ('disastere', 13555), ('stylish', 13556), ('atoshealthcare', 13557), ('handkerchief', 13558), ('counteract', 13559), ('reclaim', 13560), ('balm', 13561), ('ricald', 13562), ('postscript', 13563), ('odeon', 13564), ('texans', 13565), ('enhance', 13566), ('oxtail', 13567), ('mohdashif', 13568), ('implication', 13569), ('coil', 13570), ('outcomes', 13571), ('premier', 13572), ('actauly', 13573), ('careess', 13574), ('curled', 13575), ('divert', 13576), ('tazi', 13577), ('sanctum', 13578), ('basketball', 13579), ('hemorrhoid', 13580), ('vault', 13581), ('flamingo', 13582), ('promotional', 13583), ('amateur', 13584), ('oth', 13585), ('insular', 13586), ('xviith', 13587), ('strick', 13588), ('den', 13589), ('velde', 13590), ('stati', 13591), ('livingsto', 13592), ('lease', 13593), ('wideey', 13594), ('laiya', 13595), ('jennifer', 13596), ('scamper', 13597), ('flashlight', 13598), ('asher', 13599), ('treassure', 13600), ('overtaken', 13601), ('greenery', 13602), ('ii', 13603), ('scraper', 13604), ('unreal', 13605), ('infantry', 13606), ('motorbike', 13607), ('churchy', 13608), ('cheesy', 13609), ('figured', 13610), ('behold', 13611), ('neighbourhood', 13612), ('quixotic', 13613), ('professionally', 13614), ('lawrencewashington', 13615), ('sitcom', 13616), ('maury', 13617), ('unibrow', 13618), ('jag', 13619), ('jointly', 13620), ('throe', 13621), ('ownership', 13622), ('fearlessness', 13623), ('wholesale', 13624), ('lev', 13625), ('eachother', 13626), ('recharge', 13627), ('landlady', 13628), ('gravely', 13629), ('insul', 13630), ('ptpt', 13631), ('pouhere', 13632), ('jreyez', 13633), ('persuasion', 13634), ('convos', 13635), ('vigorously', 13636), ('liver', 13637), ('5', 13638), ('kitwe', 13639), ('geology', 13640), ('roethisberger', 13641), ('steeler', 13642), ('offense', 13643), ('thepage', 13644), ('imbicilic', 13645), ('transpire', 13646), ('foible', 13647), ('mollusk', 13648), ('geocentric', 13649), ('wintry', 13650), ('cgi', 13651), ('buti', 13652), ('himse', 13653), ('hav', 13654), ('persom', 13655), ('wickdly', 13656), ('blackberry', 13657), ('pipkin', 13658), ('limp', 13659), ('roy', 13660), ('salutary', 13661), ('calming', 13662), ('dental', 13663), ('deliberation', 13664), ('drunken', 13665), ('sighing', 13666), ('jehovah', 13667), ('grabby', 13668), ('liking', 13669), ('renault', 13670), ('zane', 13671), ('lowe', 13672), ('zombi', 13673), ('decal', 13674), ('studying', 13675), ('ingrain', 13676), ('manipulkate', 13677), ('carniola', 13678), ('humbug', 13679), ('trudger', 13680), ('gabriella', 13681), ('unspoilt', 13682), ('ron', 13683), ('frayed', 13684), ('kite', 13685), ('variant', 13686), ('miguel', 13687), ('thoughtfu', 13688), ('landor', 13689), ('caveman', 13690), ('dylan', 13691), ('seb', 13692), ('burford', 13693), ('superintend', 13694), ('aplin', 13695), ('lon', 13696), ('unacceptable', 13697), ('disclosure', 13698), ('caresse', 13699), ('getting', 13700), ('mircowave', 13701), ('wristwatch', 13702), ('snowman', 13703), ('israeli', 13704), ('occupation', 13705), ('sinais', 13706), ('leech', 13707), ('strictly', 13708), ('bucket', 13709), ('anaesthetic', 13710), ('phr', 13711), ('gi', 13712), ('refill', 13713), ('mbourgon', 13714), ('ringing', 13715), ('numbingly', 13716), ('libertine', 13717), ('fuzzy', 13718), ('stall', 13719), ('arrise', 13720), ('firsthand', 13721), ('detatche', 13722), ('awesomeness', 13723), ('sachet', 13724), ('finishing', 13725), ('leapor', 13726), ('freemantl', 13727), ('reckless', 13728), ('wardrode', 13729), ('maryland', 13730), ('axel', 13731), ('rommel', 13732), ('anchorage', 13733), ('mes', 13734), ('sandra', 13735), ('33', 13736), ('darlington', 13737), ('unborn', 13738), ('ativan', 13739), ('flux', 13740), ('sciatica', 13741), ('swinge', 13742), ('pedal', 13743), ('jamba', 13744), ('frappucino', 13745), ('glibly', 13746), ('twothirtie', 13747), ('knittin', 13748), ('stringer', 13749), ('19', 13750), ('continuity', 13751), ('gameplay', 13752), ('plow', 13753), ('philips', 13754), ('reaura', 13755), ('crevice', 13756), ('courtyard', 13757), ('rainwet', 13758), ('kerouac', 13759), ('marble', 13760), ('maelstrom', 13761), ('sur', 13762), ('hahahahahha', 13763), ('motorway', 13764), ('bout', 13765), ('overeating', 13766), ('sympathise', 13767), ('bernards', 13768), ('flickr', 13769), ('bt', 13770), ('thn', 13771), ('precede', 13772), ('aga', 13773), ('gunslinger', 13774), ('moonlighting', 13775), ('lowest', 13776), ('zap', 13777), ('shackle', 13778), ('reassess', 13779), ('lawless', 13780), ('innuendo', 13781), ('horsey', 13782), ('milonga', 13783), ('nagged', 13784), ('denim', 13785), ('peruse', 13786), ('skull', 13787), ('recur', 13788), ('hubbard', 13789), ('lowly', 13790), ('labia', 13791), ('sucking', 13792), ('nibble', 13793), ('venerable', 13794), ('momentum', 13795), ('wallowing', 13796), ('viste', 13797), ('heidi', 13798), ('pervert', 13799), ('selfcontrol', 13800), ('mistrustful', 13801), ('wean', 13802), ('whir', 13803), ('multiplication', 13804), ('covetousne', 13805), ('freaked', 13806), ('ethel', 13807), ('eame', 13808), ('fiv', 13809), ('dispute', 13810), ('universalized', 13811), ('conten', 13812), ('textbook', 13813), ('wein', 13814), ('odonnell', 13815), ('interception', 13816), ('pittsburgh', 13817), ('detract', 13818), ('mouthfeel', 13819), ('mcas', 13820), ('idealized', 13821), ('canoe', 13822), ('smite', 13823), ('eyelash', 13824), ('fetish', 13825), ('vanuatu', 13826), ('obsess', 13827), ('upright', 13828), ('demoralized', 13829), ('wilt', 13830), ('catheter', 13831), ('saturate', 13832), ('spitball', 13833), ('lair', 13834), ('slaughter', 13835), ('demoralize', 13836), ('brig', 13837), ('positi', 13838), ('perpetrator', 13839), ('krista', 13840), ('embarrase', 13841), ('evey', 13842), ('disliked', 13843), ('liek', 13844), ('vj', 13845), ('jessamy', 13846), ('snare', 13847), ('notoriously', 13848), ('mif', 13849), ('blatantly', 13850), ('nicos', 13851), ('weismans', 13852), ('atrocious', 13853), ('unravel', 13854), ('heave', 13855), ('stimulation', 13856), ('dana', 13857), ('rightwe', 13858), ('falangist', 13859), ('deaden', 13860), ('stude', 13861), ('curveball', 13862), ('rattled', 13863), ('gambler', 13864), ('kamiki', 13865), ('kun', 13866), ('nozomi', 13867), ('nonchan', 13868), ('cocoa', 13869), ('flannel', 13870), ('nightie', 13871), ('sidebar', 13872), ('might', 13873), ('inhumanity', 13874), ('smelling', 13875), ('galley', 13876), ('victorian', 13877), ('niece', 13878), ('woah', 13879), ('valbuena', 13880), ('diaby', 13881), ('overhaul', 13882), ('pos', 13883), ('amphetamine', 13884), ('juvenile', 13885), ('sneer', 13886), ('heaney', 13887), ('ibrox', 13888), ('ch', 13889), ('laze', 13890), ('pajama', 13891), ('jeanette', 13892), ('winterson', 13893), ('scope', 13894), ('unafraid', 13895), ('befoe', 13896), ('durden', 13897), ('coulter', 13898), ('schultz', 13899), ('tirade', 13900), ('nolonger', 13901), ('unused', 13902), ('plateaus', 13903), ('sector', 13904), ('gastric', 13905), ('malm', 13906), ('smitten', 13907), ('leonard', 13908), ('arun', 13909), ('salmon', 13910), ('mullet', 13911), ('igno', 13912), ('brandy', 13913), ('hyun', 13914), ('joong', 13915), ('fma', 13916), ('op', 13917), ('oeuvre', 13918), ('dewitt', 13919), ('bloater', 13920), ('ridicule', 13921), ('wallow', 13922), ('needin', 13923), ('progesterone', 13924), ('tpt', 13925), ('aversary', 13926), ('tearful', 13927), ('nervously', 13928), ('uninformed', 13929), ('insdie', 13930), ('coldstone', 13931), ('waaaaayyyy', 13932), ('delicous', 13933), ('californians', 13934), ('zem', 13935), ('utility', 13936), ('indirectly', 13937), ('manhandled', 13938), ('uncommitted', 13939), ('rostrum', 13940), ('dab', 13941), ('puffy', 13942), ('sneha', 13943), ('thou', 13944), ('bough', 13945), ('comatose', 13946), ('delhi', 13947), ('momentary', 13948), ('wriggle', 13949), ('hollyoak', 13950), ('vocab', 13951), ('ingorant', 13952), ('amiss', 13953), ('hockney', 13954), ('urging', 13955), ('ordain', 13956), ('herse', 13957), ('unconcern', 13958), ('cauldron', 13959), ('suspend', 13960), ('boiling', 13961), ('spi', 13962), ('alsway', 13963), ('soften', 13964), ('evidently', 13965), ('rediculous', 13966), ('carapace', 13967), ('chubby', 13968), ('les', 13969), ('dye', 13970), ('coldsore', 13971), ('elegance', 13972), ('jess', 13973), ('taxation', 13974), ('splurge', 13975), ('profess', 13976), ('quitter', 13977), ('dorm', 13978), ('liberty', 13979), ('mortgage', 13980), ('nomme', 13981), ('sojourn', 13982), ('farrow', 13983), ('soonyi', 13984), ('yester', 13985), ('replenish', 13986), ('apocalypse', 13987), ('painless', 13988), ('mosquito', 13989), ('reshape', 13990), ('feelingof', 13991), ('resistance', 13992), ('iced', 13993), ('coolness', 13994), ('crushing', 13995), ('festi', 13996), ('parental', 13997), ('prosecution', 13998), ('monger', 13999), ('elashis', 14000), ('noor', 14001), ('urgently', 14002), ('cn', 14003), ('remedial', 14004), ('sparring', 14005), ('spectacular', 14006), ('alibi', 14007), ('premium', 14008), ('chime', 14009), ('radiate', 14010), ('doodly', 14011), ('animate', 14012), ('jig', 14013), ('beyonc', 14014), ('antm', 14015), ('landscaping', 14016), ('accepting', 14017), ('joseph', 14018), ('lunchroom', 14019), ('lothaire', 14020), ('somebodys', 14021), ('academy', 14022), ('unrewarding', 14023), ('parkin', 14024), ('pressurize', 14025), ('ax', 14026), ('tounge', 14027), ('indide', 14028), ('makeshift', 14029), ('graveyard', 14030), ('impotence', 14031), ('derp', 14032), ('lrt', 14033), ('werner', 14034), ('towelling', 14035), ('robe', 14036), ('nicholson', 14037), ('gone', 14038), ('decre', 14039), ('nutritional', 14040), ('wotcs', 14041), ('steinbeck', 14042), ('exempt', 14043), ('ovary', 14044), ('encapsulate', 14045), ('energise', 14046), ('symbol', 14047), ('portland', 14048), ('strasbourg', 14049), ('overthink', 14050), ('oomph', 14051), ('bettys', 14052), ('candyland', 14053), ('haggard', 14054), ('mg', 14055), ('seroquel', 14056), ('flatten', 14057), ('gascoigne', 14058), ('charlton', 14059), ('debacle', 14060), ('divorcee', 14061), ('authenticity', 14062), ('neferet', 14063), ('femme', 14064), ('fatale', 14065), ('dianam', 14066), ('manifesting', 14067), ('typhoon', 14068), ('solbi', 14069), ('overhead', 14070), ('misquote', 14071), ('itinerant', 14072), ('luftwaffe', 14073), ('impudent', 14074), ('elude', 14075), ('heathen', 14076), ('itttt', 14077), ('vest', 14078), ('cellulite', 14079), ('mansion', 14080), ('mythical', 14081), ('jens', 14082), ('uneasiness', 14083), ('lve', 14084), ('writin', 14085), ('gs', 14086), ('yorkshire', 14087), ('strawberry', 14088), ('janelle', 14089), ('elle', 14090), ('shoudlnt', 14091), ('entitile', 14092), ('distraug', 14093), ('euro', 14094), ('zucchini', 14095), ('stasia', 14096), ('spendy', 14097), ('risky', 14098), ('paus', 14099), ('berate', 14100), ('spacy', 14101), ('blogstalker', 14102), ('morrison', 14103), ('deployment', 14104), ('cnn', 14105), ('retarded', 14106), ('khatsii', 14107), ('noah', 14108), ('dopey', 14109), ('topper', 14110), ('cottage', 14111), ('rustling', 14112), ('gloucestershire', 14113), ('protestor', 14114), ('monopoly', 14115), ('jtwoo', 14116), ('pearly', 14117), ('driving', 14118), ('binocul', 14119), ('interchange', 14120), ('rema', 14121), ('yelp', 14122), ('edc', 14123), ('selena', 14124), ('yixuan', 14125), ('atiqah', 14126), ('mills', 14127), ('curry', 14128), ('rightness', 14129), ('ardmore', 14130), ('kaikohe', 14131), ('licence', 14132), ('wesleyan', 14133), ('walkman', 14134), ('whitleys', 14135), ('europ', 14136), ('descriptive', 14137), ('generalise', 14138), ('metaphoric', 14139), ('netflix', 14140), ('inspiring', 14141), ('internship', 14142), ('limelight', 14143), ('backfire', 14144), ('solondz', 14145), ('unreliable', 14146), ('yawn', 14147), ('churn', 14148), ('caribbean', 14149), ('diving', 14150), ('chalice', 14151), ('reflective', 14152), ('thackerey', 14153), ('poaching', 14154), ('agtalk', 14155), ('squirt', 14156), ('sce', 14157), ('flakiness', 14158), ('likeguy', 14159), ('ripple', 14160), ('tax', 14161), ('maltese', 14162), ('terminando', 14163), ('ano', 14164), ('depois', 14165), ('heartbrea', 14166), ('starbuck', 14167), ('specimen', 14168), ('glisten', 14169), ('accentuate', 14170), ('matte', 14171), ('multiplayer', 14172), ('agenda', 14173), ('yiling', 14174), ('atlephobia', 14175), ('carrry', 14176), ('tribe', 14177), ('hal', 14178), ('sinestro', 14179), ('antics', 14180), ('innovation', 14181), ('mellor', 14182), ('mold', 14183), ('rosary', 14184), ('noticer', 14185), ('bandaid', 14186), ('weaver', 14187), ('cocaine', 14188), ('categorie', 14189), ('refrigerator', 14190), ('shudder', 14191), ('craftisan', 14192), ('moreso', 14193), ('bachelor', 14194), ('benny', 14195), ('aids', 14196), ('hatchet', 14197), ('makeover', 14198), ('youboat', 14199), ('tangent', 14200), ('censor', 14201), ('kendallhume', 14202), ('coup', 14203), ('penitential', 14204), ('urbanite', 14205), ('gfather', 14206), ('ute', 14207), ('manure', 14208), ('compost', 14209), ('oppressive', 14210), ('exploration', 14211), ('ralf', 14212), ('pedlar', 14213), ('drawbridge', 14214), ('pi', 14215), ('ata', 14216), ('goo', 14217), ('quantum', 14218), ('sensual', 14219), ('silk', 14220), ('mandy', 14221), ('ambush', 14222), ('vantage', 14223), ('migrate', 14224), ('twiggy', 14225), ('holder', 14226), ('fedex', 14227), ('efficiently', 14228), ('hatch', 14229), ('holland', 14230), ('ia', 14231), ('delegate', 14232), ('auditorium', 14233), ('setup', 14234), ('ffxi', 14235), ('duh', 14236), ('downer', 14237), ('foamy', 14238), ('nauseate', 14239), ('snooty', 14240), ('gauche', 14241), ('org', 14242), ('scientology', 14243), ('sleazy', 14244), ('fester', 14245), ('katrina', 14246), ('mitch', 14247), ('ruefully', 14248), ('chesley', 14249), ('bouquet', 14250), ('careeeeee', 14251), ('prestige', 14252), ('tabloid', 14253), ('comedic', 14254), ('ashi', 14255), ('unhappine', 14256), ('foyle', 14257), ('bookshop', 14258), ('nooks', 14259), ('corne', 14260), ('communing', 14261), ('vomity', 14262), ('stunningly', 14263), ('clasheen', 14264), ('keepmeinstitchez', 14265), ('drill', 14266), ('pg', 14267), ('graham', 14268), ('quittin', 14269), ('organizing', 14270), ('harassment', 14271), ('bugger', 14272), ('parkhurst', 14273), ('suzanna', 14274), ('idyllic', 14275), ('vacationer', 14276), ('breezing', 14277), ('nathan', 14278), ('haley', 14279), ('seminar', 14280), ('owen', 14281), ('bittersweet', 14282), ('var', 14283), ('crop', 14284), ('fossil', 14285), ('availability', 14286), ('kuribayashi', 14287), ('delilahlwl', 14288), ('vindictive', 14289), ('strapping', 14290), ('sturdy', 14291), ('zal', 14292), ('75th', 14293), ('armenian', 14294), ('genocide', 14295), ('191523', 14296), ('pessimistic', 14297), ('hideously', 14298), ('guily', 14299), ('pander', 14300), ('swingset', 14301), ('curfew', 14302), ('xdd', 14303), ('hohoho', 14304), ('foward', 14305), ('arty', 14306), ('albuquerque', 14307), ('riva', 14308), ('weinstein', 14309), ('underwater', 14310), ('lenten', 14311), ('transitory', 14312), ('peeing', 14313), ('irritability', 14314), ('sniffer', 14315), ('reflex', 14316), ('crunchy', 14317), ('fighter', 14318), ('energetically', 14319), ('unconditionally', 14320), ('starlight', 14321), ('digust', 14322), ('gothic', 14323), ('glossary', 14324), ('nervouse', 14325), ('usain', 14326), ('efface', 14327), ('settled', 14328), ('greatbritain', 14329), ('lili', 14330), ('ruc', 14331), ('investigation', 14332), ('doer', 14333), ('saba', 14334), ('waleed', 14335), ('figurative', 14336), ('incursion', 14337), ('celt', 14338), ('inspi', 14339), ('revi', 14340), ('unsolved', 14341), ('hugely', 14342), ('outlawing', 14343), ('lifesave', 14344), ('treatman', 14345), ('lupron', 14346), ('cheered', 14347), ('blisse', 14348), ('spotlight', 14349), ('hmmmmm', 14350), ('ifyouwanttoknow', 14351), ('hormonal', 14352), ('uncontrollable', 14353), ('camwhore', 14354), ('pudding', 14355), ('anotehr', 14356), ('yawwwn', 14357), ('mccready', 14358), ('miff', 14359), ('membership', 14360), ('delig', 14361), ('asd', 14362), ('wren', 14363), ('lun', 14364), ('hachi', 14365), ('nobu', 14366), ('nana', 14367), ('serina', 14368), ('landlord', 14369), ('mashed', 14370), ('chopping', 14371), ('exhilarat', 14372), ('carnivore', 14373), ('harmfully', 14374), ('bbw', 14375), ('reminiscence', 14376), ('rapidl', 14377), ('mishandle', 14378), ('bodyguard', 14379), ('suffocate', 14380), ('avoidable', 14381), ('pgce', 14382), ('sophomore', 14383), ('ashlotte', 14384), ('talim', 14385), ('tout', 14386), ('scandalous', 14387), ('swimwear', 14388), ('xs', 14389), ('freshen', 14390), ('renaissance', 14391), ('baroque', 14392), ('macendarfer', 14393), ('outrageous', 14394), ('fiercly', 14395), ('completly', 14396), ('intuitive', 14397), ('wantd', 14398), ('usarious', 14399), ('pissy', 14400), ('finalist', 14401), ('rattlesnake', 14402), ('revulsion', 14403), ('bleh', 14404), ('childlike', 14405), ('deborah', 14406), ('lippmann', 14407), ('staining', 14408), ('ws', 14409), ('peachy', 14410), ('sation', 14411), ('byte', 14412), ('shoeless', 14413), ('uganda', 14414), ('ecker', 14415), ('lll', 14416), ('deduce', 14417), ('deploy', 14418), ('subsidization', 14419), ('ethan', 14420), ('busting', 14421), ('judgemental', 14422), ('buzzy', 14423), ('techfeel', 14424), ('uploads', 14425), ('hindi', 14426), ('stitching', 14427), ('exwife', 14428), ('divo', 14429), ('sinful', 14430), ('heir', 14431), ('cal', 14432), ('conqueror', 14433), ('1878', 14434), ('greenock', 14435), ('langu', 14436), ('unbounded', 14437), ('murray', 14438), ('elliptical', 14439), ('asciatic', 14440), ('pothole', 14441), ('knowingly', 14442), ('rounder', 14443), ('subpar', 14444), ('elevation', 14445), ('willfully', 14446), ('patriotism', 14447), ('etrie', 14448), ('contamination', 14449), ('heinously', 14450), ('pagetype', 14451), ('mimedoger', 14452), ('truc', 14453), ('silhouette', 14454), ('straddle', 14455), ('articulacy', 14456), ('incoherence', 14457), ('starting', 14458), ('untidiness', 14459), ('hoarder', 14460), ('dudley', 14461), ('dursley', 14462), ('fudge', 14463), ('minerva', 14464), ('mcgonnagall', 14465), ('neville', 14466), ('longbottom', 14467), ('pettigrew', 14468), ('gassed', 14469), ('lungful', 14470), ('sonny', 14471), ('plum', 14472), ('muttering', 14473), ('eloquent', 14474), ('array', 14475), ('legard', 14476), ('overrrrrrrrrrrr', 14477), ('excelent', 14478), ('pawdicur', 14479), ('napkin', 14480), ('reusable', 14481), ('dlk', 14482), ('mediterranean', 14483), ('tackling', 14484), ('juggernaut', 14485), ('lorry', 14486), ('eec', 14487), ('prolonged', 14488), ('theofilou', 14489), ('kastrioti', 14490), ('paige', 14491), ('goreng', 14492), ('tokuru', 14493), ('malai', 14494), ('navy', 14495), ('toni', 14496), ('ight', 14497), ('merican', 14498), ('lachlan', 14499), ('macleans', 14500), ('corbett', 14501), ('neuroticworkaholic', 14502), ('compulsion', 14503), ('livejournal', 14504), ('clamor', 14505), ('ehh', 14506), ('illogically', 14507), ('anipike', 14508), ('printing', 14509), ('quiltcon', 14510), ('lizzy', 14511), ('pinter', 14512), ('downtempo', 14513), ('mucus', 14514), ('cardiff', 14515), ('drowsy', 14516), ('blu', 14517), ('vellas', 14518), ('duff', 14519), ('len', 14520), ('chickie', 14521), ('verrrrrrrryyyy', 14522), ('ntoward', 14523), ('catalyst', 14524), ('birthmom', 14525), ('hyphen', 14526), ('acclimated', 14527), ('censorship', 14528), ('instigate', 14529), ('preceptor', 14530), ('obedience', 14531), ('earthly', 14532), ('duckie', 14533), ('commie', 14534), ('fed', 14535), ('boehner', 14536), ('copious', 14537), ('stain', 14538), ('speakership', 14539), ('vlog', 14540), ('canaglia', 14541), ('pregant', 14542), ('wt', 14543), ('txl', 14544), ('esteemed', 14545), ('ultralight', 14546), ('overturn', 14547), ('palin', 14548), ('fiesty', 14549), ('ramsey', 14550), ('mir', 14551), ('mp', 14552), ('brittneys', 14553), ('dumpling', 14554), ('chinatown', 14555), ('leafy', 14556), ('brunswick', 14557), ('barbecue', 14558), ('edinburgh', 14559), ('aluminum', 14560), ('autonomy', 14561), ('devastation', 14562), ('challenging', 14563), ('realness', 14564), ('ribtickle', 14565), ('ethical', 14566), ('watchers', 14567), ('colored', 14568), ('sydney', 14569), ('brisbanehub', 14570), ('stove', 14571), ('15yearold', 14572), ('sapph', 14573), ('pedicure', 14574), ('tootsie', 14575), ('katja', 14576), ('disallusioned', 14577), ('senegal', 14578), ('farafina', 14579), ('cassava', 14580), ('edith', 14581), ('omegle', 14582), ('successio', 14583), ('latex', 14584), ('hungover', 14585), ('unconsciously', 14586), ('houston', 14587), ('blundering', 14588), ('therapi', 14589), ('luxe', 14590), ('frail', 14591), ('leopold', 14592), ('shubhi', 14593), ('feb', 14594), ('entangle', 14595), ('brewer', 14596), ('hawkshead', 14597), ('thrille', 14598), ('bumbe', 14599), ('ritz', 14600), ('musing', 14601), ('proto', 14602), ('meryl', 14603), ('pilate', 14604), ('katie', 14605), ('friggety', 14606), ('hoo', 14607), ('nokia', 14608), ('orthotic', 14609), ('blanks', 14610), ('fierceness', 14611), ('imperfection', 14612), ('lowdown', 14613), ('coo', 14614), ('firstborn', 14615), ('shire', 14616), ('transparence', 14617), ('unimaginable', 14618), ('tattere', 14619), ('gust', 14620), ('mombasa', 14621), ('grimace', 14622), ('moisturiser', 14623), ('connor', 14624), ('idiocy', 14625), ('fastforwarde', 14626), ('transplant', 14627), ('missionar', 14628), ('vocalist', 14629), ('femininely', 14630), ('cathartic', 14631), ('mychem', 14632), ('swagger', 14633), ('gook', 14634), ('sailing', 14635), ('fraser', 14636), ('submerged', 14637), ('wd', 14638), ('acuman', 14639), ('laurel', 14640), ('bg', 14641), ('gere', 14642), ('puter', 14643), ('arrogance', 14644), ('celeen', 14645), ('unfurling', 14646), ('essay', 14647)])"
            ]
          },
          "metadata": {
            "tags": []
          }
        }
      ]
    },
    {
      "cell_type": "code",
      "metadata": {
        "id": "SCDhYXtjM3Rz",
        "colab": {
          "base_uri": "https://localhost:8080/"
        },
        "outputId": "d7aedfd4-e961-4e40-bfa8-072e015e617b"
      },
      "source": [
        "for word, index in tokenizer.word_index.items():\n",
        "    if index < num_words: # since index starts with zero \n",
        "        if word in glove_gensim.wv.vocab:\n",
        "            gensim_weight_matrix[index] = glove_gensim[word]\n",
        "        else:\n",
        "            gensim_weight_matrix[index] = np.zeros(100)"
      ],
      "execution_count": 54,
      "outputs": [
        {
          "output_type": "stream",
          "text": [
            "/usr/local/lib/python3.7/dist-packages/ipykernel_launcher.py:3: DeprecationWarning: Call to deprecated `wv` (Attribute will be removed in 4.0.0, use self instead).\n",
            "  This is separate from the ipykernel package so we can avoid doing imports until\n"
          ],
          "name": "stderr"
        }
      ]
    },
    {
      "cell_type": "markdown",
      "metadata": {
        "id": "2ij_4bfs_fqm"
      },
      "source": [
        "### LSTM model"
      ]
    },
    {
      "cell_type": "code",
      "metadata": {
        "id": "B3GhdSVGM3f9"
      },
      "source": [
        "from tensorflow.keras.models import Sequential \n",
        "from tensorflow.keras.layers import Dense, LSTM, Embedding,Bidirectional\n",
        "import tensorflow\n",
        "# tf.compat.v1.keras.layers.CuDNNLSTM\n",
        "from tensorflow.compat.v1.keras.layers import CuDNNLSTM,CuDNNGRU\n",
        "from tensorflow.keras.layers import Dropout"
      ],
      "execution_count": 55,
      "outputs": []
    },
    {
      "cell_type": "code",
      "metadata": {
        "id": "2rlGDhWPM3r7"
      },
      "source": [
        "EMBEDDING_DIM = 100  # this means the embedding layer will create  a vector in 100 dimension\n",
        "\n",
        "def ins_model(EMBEDDING_DIM): \n",
        "  model = Sequential()\n",
        "  model.add(Embedding(input_dim = num_words, # the whole vocabulary size \n",
        "                            output_dim = EMBEDDING_DIM, # vector space dimension\n",
        "                            input_length= X_train_pad.shape[1], # max_len of text sequence\n",
        "                            weights = [gensim_weight_matrix],trainable = False))\n",
        "  model.add(Dropout(0.2))\n",
        "  model.add(Bidirectional(CuDNNLSTM(100,return_sequences=True)))\n",
        "  model.add(Dropout(0.2))\n",
        "  model.add(Bidirectional(CuDNNLSTM(200,return_sequences=True)))\n",
        "  model.add(Dropout(0.2))\n",
        "  model.add(Bidirectional(CuDNNLSTM(100,return_sequences=False)))\n",
        "  model.add(Dense(6, activation = 'softmax'))\n",
        "  model.compile(loss = 'categorical_crossentropy', optimizer = 'adam',metrics = 'accuracy')"
      ],
      "execution_count": 30,
      "outputs": []
    },
    {
      "cell_type": "code",
      "metadata": {
        "id": "ISF7Dnc7DUr5"
      },
      "source": [
        "from keras.callbacks import EarlyStopping, ModelCheckpoint\n",
        "\n",
        "es = EarlyStopping(monitor = 'val_loss', mode = 'min', verbose = 1, patience = 5)\n",
        "# mc = ModelCheckpoint('./model.h5', monitor = 'val_accuracy', mode = 'max', verbose = 1, save_best_only = True)"
      ],
      "execution_count": 31,
      "outputs": []
    },
    {
      "cell_type": "code",
      "metadata": {
        "colab": {
          "base_uri": "https://localhost:8080/"
        },
        "id": "JFFcC1C9Eba8",
        "outputId": "f31f95b3-b9ea-4af5-97f1-e9599bf0b325"
      },
      "source": [
        "model = ins_model(EMBEDDING_DIM)\n",
        "history_embedding = model.fit(X_train_pad,y_train\n",
        "                              , epochs = 25\n",
        "                              , batch_size = 120\n",
        "                              , validation_data=(X_val_pad, y_val)\n",
        "                              , verbose = 1\n",
        "                              , callbacks= [es]  )"
      ],
      "execution_count": 32,
      "outputs": [
        {
          "output_type": "stream",
          "text": [
            "Epoch 1/25\n",
            "144/144 [==============================] - 41s 210ms/step - loss: 1.4199 - accuracy: 0.4506 - val_loss: 1.1824 - val_accuracy: 0.5596\n",
            "Epoch 2/25\n",
            "144/144 [==============================] - 28s 195ms/step - loss: 1.0963 - accuracy: 0.5965 - val_loss: 0.8024 - val_accuracy: 0.7218\n",
            "Epoch 3/25\n",
            "144/144 [==============================] - 28s 194ms/step - loss: 0.8304 - accuracy: 0.6944 - val_loss: 0.6429 - val_accuracy: 0.7689\n",
            "Epoch 4/25\n",
            "144/144 [==============================] - 28s 198ms/step - loss: 0.6840 - accuracy: 0.7484 - val_loss: 0.4915 - val_accuracy: 0.8173\n",
            "Epoch 5/25\n",
            "144/144 [==============================] - 28s 196ms/step - loss: 0.5780 - accuracy: 0.7886 - val_loss: 0.4371 - val_accuracy: 0.8420\n",
            "Epoch 6/25\n",
            "144/144 [==============================] - 28s 194ms/step - loss: 0.5044 - accuracy: 0.8142 - val_loss: 0.3688 - val_accuracy: 0.8602\n",
            "Epoch 7/25\n",
            "144/144 [==============================] - 28s 196ms/step - loss: 0.4497 - accuracy: 0.8335 - val_loss: 0.3837 - val_accuracy: 0.8560\n",
            "Epoch 8/25\n",
            "144/144 [==============================] - 28s 197ms/step - loss: 0.3840 - accuracy: 0.8528 - val_loss: 0.3235 - val_accuracy: 0.8835\n",
            "Epoch 9/25\n",
            "144/144 [==============================] - 28s 195ms/step - loss: 0.3569 - accuracy: 0.8657 - val_loss: 0.2985 - val_accuracy: 0.8802\n",
            "Epoch 10/25\n",
            "144/144 [==============================] - 28s 194ms/step - loss: 0.3278 - accuracy: 0.8714 - val_loss: 0.2981 - val_accuracy: 0.8868\n",
            "Epoch 11/25\n",
            "144/144 [==============================] - 28s 196ms/step - loss: 0.3028 - accuracy: 0.8843 - val_loss: 0.3009 - val_accuracy: 0.8844\n",
            "Epoch 12/25\n",
            "144/144 [==============================] - 28s 195ms/step - loss: 0.2821 - accuracy: 0.8884 - val_loss: 0.2812 - val_accuracy: 0.8835\n",
            "Epoch 13/25\n",
            "144/144 [==============================] - 28s 194ms/step - loss: 0.2543 - accuracy: 0.8993 - val_loss: 0.2751 - val_accuracy: 0.8900\n",
            "Epoch 14/25\n",
            "144/144 [==============================] - 28s 194ms/step - loss: 0.2342 - accuracy: 0.9068 - val_loss: 0.2720 - val_accuracy: 0.8966\n",
            "Epoch 15/25\n",
            "144/144 [==============================] - 28s 195ms/step - loss: 0.2228 - accuracy: 0.9078 - val_loss: 0.2563 - val_accuracy: 0.9021\n",
            "Epoch 16/25\n",
            "144/144 [==============================] - 28s 195ms/step - loss: 0.2138 - accuracy: 0.9113 - val_loss: 0.2674 - val_accuracy: 0.8928\n",
            "Epoch 17/25\n",
            "144/144 [==============================] - 28s 194ms/step - loss: 0.2092 - accuracy: 0.9136 - val_loss: 0.2491 - val_accuracy: 0.8975\n",
            "Epoch 18/25\n",
            "144/144 [==============================] - 28s 194ms/step - loss: 0.1904 - accuracy: 0.9210 - val_loss: 0.2527 - val_accuracy: 0.9063\n",
            "Epoch 19/25\n",
            "144/144 [==============================] - 28s 196ms/step - loss: 0.1849 - accuracy: 0.9223 - val_loss: 0.2706 - val_accuracy: 0.8966\n",
            "Epoch 20/25\n",
            "144/144 [==============================] - 28s 197ms/step - loss: 0.1806 - accuracy: 0.9249 - val_loss: 0.2542 - val_accuracy: 0.8966\n",
            "Epoch 21/25\n",
            "144/144 [==============================] - 28s 194ms/step - loss: 0.1732 - accuracy: 0.9284 - val_loss: 0.2485 - val_accuracy: 0.9026\n",
            "Epoch 22/25\n",
            "144/144 [==============================] - 28s 193ms/step - loss: 0.1671 - accuracy: 0.9295 - val_loss: 0.2649 - val_accuracy: 0.9040\n",
            "Epoch 23/25\n",
            "144/144 [==============================] - 28s 195ms/step - loss: 0.1513 - accuracy: 0.9337 - val_loss: 0.2579 - val_accuracy: 0.9017\n",
            "Epoch 24/25\n",
            "144/144 [==============================] - 28s 195ms/step - loss: 0.1502 - accuracy: 0.9357 - val_loss: 0.2603 - val_accuracy: 0.9105\n",
            "Epoch 25/25\n",
            "144/144 [==============================] - 28s 193ms/step - loss: 0.1378 - accuracy: 0.9429 - val_loss: 0.2595 - val_accuracy: 0.8998\n"
          ],
          "name": "stdout"
        }
      ]
    },
    {
      "cell_type": "code",
      "metadata": {
        "colab": {
          "base_uri": "https://localhost:8080/",
          "height": 264
        },
        "id": "vK0X1gVtD7Ks",
        "outputId": "9b3f49d0-eb30-47b1-f7f7-0bee57ce4605"
      },
      "source": [
        "plt.plot(history_embedding.history['accuracy'],c='b',label='train accuracy')\n",
        "plt.plot(history_embedding.history['val_accuracy'],c='r',label='validation accuracy')\n",
        "plt.legend(loc='lower right')\n",
        "plt.show()"
      ],
      "execution_count": 33,
      "outputs": [
        {
          "output_type": "display_data",
          "data": {
            "image/png": "[encoded data removed]",
            "text/plain": [
              "<Figure size 432x288 with 1 Axes>"
            ]
          },
          "metadata": {
            "tags": [],
            "needs_background": "light"
          }
        }
      ]
    },
    {
      "cell_type": "code",
      "metadata": {
        "colab": {
          "base_uri": "https://localhost:8080/"
        },
        "id": "ftziowBxD78x",
        "outputId": "2c4c194f-5802-4109-d7a2-caf279dcdb80"
      },
      "source": [
        "model.evaluate(X_test_pad, y_test)"
      ],
      "execution_count": 56,
      "outputs": [
        {
          "output_type": "stream",
          "text": [
            "68/68 [==============================] - 2s 34ms/step - loss: 4.5067 - accuracy: 0.2940\n"
          ],
          "name": "stdout"
        },
        {
          "output_type": "execute_result",
          "data": {
            "text/plain": [
              "[4.506715297698975, 0.294035404920578]"
            ]
          },
          "metadata": {
            "tags": []
          },
          "execution_count": 56
        }
      ]
    },
    {
      "cell_type": "code",
      "metadata": {
        "id": "zbGHcq6fD8kr"
      },
      "source": [
        "y_pred = np.argmax(model.predict(X_test_pad), axis  =  1)"
      ],
      "execution_count": 35,
      "outputs": []
    },
    {
      "cell_type": "code",
      "metadata": {
        "id": "j2KVxgXvD8o3"
      },
      "source": [
        "y_true = np.argmax(y_test, axis = 1)"
      ],
      "execution_count": 36,
      "outputs": []
    },
    {
      "cell_type": "code",
      "metadata": {
        "colab": {
          "base_uri": "https://localhost:8080/"
        },
        "id": "YT3lA4wDD8sX",
        "outputId": "fd29f5b3-3662-45dd-ff4b-b3cfe16dccdd"
      },
      "source": [
        "from sklearn import metrics\n",
        "print(metrics.classification_report(y_pred, y_true))"
      ],
      "execution_count": 37,
      "outputs": [
        {
          "output_type": "stream",
          "text": [
            "              precision    recall  f1-score   support\n",
            "\n",
            "           0       0.92      0.93      0.93       707\n",
            "           1       0.89      0.88      0.88       292\n",
            "           2       0.77      0.85      0.81       136\n",
            "           3       0.95      0.91      0.93       649\n",
            "           4       0.85      0.89      0.87       261\n",
            "           5       0.82      0.76      0.79       101\n",
            "\n",
            "    accuracy                           0.90      2146\n",
            "   macro avg       0.87      0.87      0.87      2146\n",
            "weighted avg       0.90      0.90      0.90      2146\n",
            "\n"
          ],
          "name": "stdout"
        }
      ]
    },
    {
      "cell_type": "code",
      "metadata": {
        "id": "aXe91LY1D8wR"
      },
      "source": [
        "def get_key(value):\n",
        "    dictionary={'joy':0,'anger':1,'love':2,'sadness':3,'fear':4,'surprise':5}\n",
        "    for key,val in dictionary.items():\n",
        "          if (val==value):\n",
        "            return key"
      ],
      "execution_count": 38,
      "outputs": []
    },
    {
      "cell_type": "code",
      "metadata": {
        "id": "HK1tGom4D84j"
      },
      "source": [
        "def predict(sentence):\n",
        "    sentence_lst=[]\n",
        "    sentence_lst.append(sentence)\n",
        "    sentence_seq=tokenizer.texts_to_sequences(sentence_lst)\n",
        "    sentence_padded=pad_sequences(sentence_seq,maxlen=300,padding='post')\n",
        "    ans=get_key(model.predict_classes(sentence_padded))\n",
        "    print(\"The emotion predicted is\",ans)"
      ],
      "execution_count": 39,
      "outputs": []
    },
    {
      "cell_type": "code",
      "metadata": {
        "colab": {
          "base_uri": "https://localhost:8080/"
        },
        "id": "c2kqoGftELnV",
        "outputId": "e489e496-958d-4a47-d8fc-24a32f0ef790"
      },
      "source": [
        "predict(str(input('Enter a sentence : ')))"
      ],
      "execution_count": 47,
      "outputs": [
        {
          "output_type": "stream",
          "text": [
            "Enter a sentence : happppyyyyyy\n",
            "The emotion predicted is sadness\n"
          ],
          "name": "stdout"
        },
        {
          "output_type": "stream",
          "text": [
            "/usr/local/lib/python3.7/dist-packages/tensorflow/python/keras/engine/sequential.py:455: UserWarning: `model.predict_classes()` is deprecated and will be removed after 2021-01-01. Please use instead:* `np.argmax(model.predict(x), axis=-1)`,   if your model does multi-class classification   (e.g. if it uses a `softmax` last-layer activation).* `(model.predict(x) > 0.5).astype(\"int32\")`,   if your model does binary classification   (e.g. if it uses a `sigmoid` last-layer activation).\n",
            "  warnings.warn('`model.predict_classes()` is deprecated and '\n"
          ],
          "name": "stderr"
        }
      ]
    },
    {
      "cell_type": "code",
      "metadata": {
        "id": "BQ-6gM4eQj-O"
      },
      "source": [
        ""
      ],
      "execution_count": 47,
      "outputs": []
    }
  ]
}