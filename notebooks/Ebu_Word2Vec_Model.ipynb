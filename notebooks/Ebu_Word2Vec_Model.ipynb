{
  "nbformat": 4,
  "nbformat_minor": 0,
  "metadata": {
    "colab": {
      "name": "Ebu_Word2Vec_Model.ipynb",
      "provenance": [],
      "collapsed_sections": [
        "DmdBnx5PCpxh",
        "M_iRAL7UCX8K",
        "Mnk3Z8Y4CIb0",
        "8-K-ahyJB1x1"
      ],
      "mount_file_id": "1RsYP0lUNyMRo8NIDwuuKlmgVorlbqQwN",
      "authorship_tag": "ABX9TyONNS1kH+y8ckSxUTQ30V5/",
      "include_colab_link": true
    },
    "kernelspec": {
      "name": "python3",
      "display_name": "Python 3"
    },
    "language_info": {
      "name": "python"
    },
    "accelerator": "GPU",
    "widgets": {
      "application/vnd.jupyter.widget-state+json": {
        "f4aa6719aea34799b9e6f2ffbdb688d9": {
          "model_module": "@jupyter-widgets/controls",
          "model_name": "HBoxModel",
          "state": {
            "_view_name": "HBoxView",
            "_dom_classes": [],
            "_model_name": "HBoxModel",
            "_view_module": "@jupyter-widgets/controls",
            "_model_module_version": "1.5.0",
            "_view_count": null,
            "_view_module_version": "1.5.0",
            "box_style": "",
            "layout": "IPY_MODEL_96dbb4276e404166b668b97b6ca2f8c7",
            "_model_module": "@jupyter-widgets/controls",
            "children": [
              "IPY_MODEL_9d0a649fa3b244fe930367627789fcdc",
              "IPY_MODEL_9adfc91a7f1c4791a1cfaf419f8d1c67"
            ]
          }
        },
        "96dbb4276e404166b668b97b6ca2f8c7": {
          "model_module": "@jupyter-widgets/base",
          "model_name": "LayoutModel",
          "state": {
            "_view_name": "LayoutView",
            "grid_template_rows": null,
            "right": null,
            "justify_content": null,
            "_view_module": "@jupyter-widgets/base",
            "overflow": null,
            "_model_module_version": "1.2.0",
            "_view_count": null,
            "flex_flow": null,
            "width": null,
            "min_width": null,
            "border": null,
            "align_items": null,
            "bottom": null,
            "_model_module": "@jupyter-widgets/base",
            "top": null,
            "grid_column": null,
            "overflow_y": null,
            "overflow_x": null,
            "grid_auto_flow": null,
            "grid_area": null,
            "grid_template_columns": null,
            "flex": null,
            "_model_name": "LayoutModel",
            "justify_items": null,
            "grid_row": null,
            "max_height": null,
            "align_content": null,
            "visibility": null,
            "align_self": null,
            "height": null,
            "min_height": null,
            "padding": null,
            "grid_auto_rows": null,
            "grid_gap": null,
            "max_width": null,
            "order": null,
            "_view_module_version": "1.2.0",
            "grid_template_areas": null,
            "object_position": null,
            "object_fit": null,
            "grid_auto_columns": null,
            "margin": null,
            "display": null,
            "left": null
          }
        },
        "9d0a649fa3b244fe930367627789fcdc": {
          "model_module": "@jupyter-widgets/controls",
          "model_name": "FloatProgressModel",
          "state": {
            "_view_name": "ProgressView",
            "style": "IPY_MODEL_de471eae747849d7824a74b666c0bb67",
            "_dom_classes": [],
            "description": "100%",
            "_model_name": "FloatProgressModel",
            "bar_style": "success",
            "max": 17167,
            "_view_module": "@jupyter-widgets/controls",
            "_model_module_version": "1.5.0",
            "value": 17167,
            "_view_count": null,
            "_view_module_version": "1.5.0",
            "orientation": "horizontal",
            "min": 0,
            "description_tooltip": null,
            "_model_module": "@jupyter-widgets/controls",
            "layout": "IPY_MODEL_83fbeb9bb6664c6a82fb4519ca7970e2"
          }
        },
        "9adfc91a7f1c4791a1cfaf419f8d1c67": {
          "model_module": "@jupyter-widgets/controls",
          "model_name": "HTMLModel",
          "state": {
            "_view_name": "HTMLView",
            "style": "IPY_MODEL_7872f1c14c9846018db0a9ef179313b8",
            "_dom_classes": [],
            "description": "",
            "_model_name": "HTMLModel",
            "placeholder": "​",
            "_view_module": "@jupyter-widgets/controls",
            "_model_module_version": "1.5.0",
            "value": " 17167/17167 [00:00&lt;00:00, 171058.41it/s]",
            "_view_count": null,
            "_view_module_version": "1.5.0",
            "description_tooltip": null,
            "_model_module": "@jupyter-widgets/controls",
            "layout": "IPY_MODEL_8f68e8a7b574448aa6a0f67e81446d0f"
          }
        },
        "de471eae747849d7824a74b666c0bb67": {
          "model_module": "@jupyter-widgets/controls",
          "model_name": "ProgressStyleModel",
          "state": {
            "_view_name": "StyleView",
            "_model_name": "ProgressStyleModel",
            "description_width": "initial",
            "_view_module": "@jupyter-widgets/base",
            "_model_module_version": "1.5.0",
            "_view_count": null,
            "_view_module_version": "1.2.0",
            "bar_color": null,
            "_model_module": "@jupyter-widgets/controls"
          }
        },
        "83fbeb9bb6664c6a82fb4519ca7970e2": {
          "model_module": "@jupyter-widgets/base",
          "model_name": "LayoutModel",
          "state": {
            "_view_name": "LayoutView",
            "grid_template_rows": null,
            "right": null,
            "justify_content": null,
            "_view_module": "@jupyter-widgets/base",
            "overflow": null,
            "_model_module_version": "1.2.0",
            "_view_count": null,
            "flex_flow": null,
            "width": null,
            "min_width": null,
            "border": null,
            "align_items": null,
            "bottom": null,
            "_model_module": "@jupyter-widgets/base",
            "top": null,
            "grid_column": null,
            "overflow_y": null,
            "overflow_x": null,
            "grid_auto_flow": null,
            "grid_area": null,
            "grid_template_columns": null,
            "flex": null,
            "_model_name": "LayoutModel",
            "justify_items": null,
            "grid_row": null,
            "max_height": null,
            "align_content": null,
            "visibility": null,
            "align_self": null,
            "height": null,
            "min_height": null,
            "padding": null,
            "grid_auto_rows": null,
            "grid_gap": null,
            "max_width": null,
            "order": null,
            "_view_module_version": "1.2.0",
            "grid_template_areas": null,
            "object_position": null,
            "object_fit": null,
            "grid_auto_columns": null,
            "margin": null,
            "display": null,
            "left": null
          }
        },
        "7872f1c14c9846018db0a9ef179313b8": {
          "model_module": "@jupyter-widgets/controls",
          "model_name": "DescriptionStyleModel",
          "state": {
            "_view_name": "StyleView",
            "_model_name": "DescriptionStyleModel",
            "description_width": "",
            "_view_module": "@jupyter-widgets/base",
            "_model_module_version": "1.5.0",
            "_view_count": null,
            "_view_module_version": "1.2.0",
            "_model_module": "@jupyter-widgets/controls"
          }
        },
        "8f68e8a7b574448aa6a0f67e81446d0f": {
          "model_module": "@jupyter-widgets/base",
          "model_name": "LayoutModel",
          "state": {
            "_view_name": "LayoutView",
            "grid_template_rows": null,
            "right": null,
            "justify_content": null,
            "_view_module": "@jupyter-widgets/base",
            "overflow": null,
            "_model_module_version": "1.2.0",
            "_view_count": null,
            "flex_flow": null,
            "width": null,
            "min_width": null,
            "border": null,
            "align_items": null,
            "bottom": null,
            "_model_module": "@jupyter-widgets/base",
            "top": null,
            "grid_column": null,
            "overflow_y": null,
            "overflow_x": null,
            "grid_auto_flow": null,
            "grid_area": null,
            "grid_template_columns": null,
            "flex": null,
            "_model_name": "LayoutModel",
            "justify_items": null,
            "grid_row": null,
            "max_height": null,
            "align_content": null,
            "visibility": null,
            "align_self": null,
            "height": null,
            "min_height": null,
            "padding": null,
            "grid_auto_rows": null,
            "grid_gap": null,
            "max_width": null,
            "order": null,
            "_view_module_version": "1.2.0",
            "grid_template_areas": null,
            "object_position": null,
            "object_fit": null,
            "grid_auto_columns": null,
            "margin": null,
            "display": null,
            "left": null
          }
        },
        "9433b29d54374340ac289dd8927a83b7": {
          "model_module": "@jupyter-widgets/controls",
          "model_name": "HBoxModel",
          "state": {
            "_view_name": "HBoxView",
            "_dom_classes": [],
            "_model_name": "HBoxModel",
            "_view_module": "@jupyter-widgets/controls",
            "_model_module_version": "1.5.0",
            "_view_count": null,
            "_view_module_version": "1.5.0",
            "box_style": "",
            "layout": "IPY_MODEL_82d862d52fcf4121a2a7fe3cc666d2fb",
            "_model_module": "@jupyter-widgets/controls",
            "children": [
              "IPY_MODEL_5e6969e2d6b64146b107facad25cd8ba",
              "IPY_MODEL_62ab6d75639542a3a7196c3256ba7ded"
            ]
          }
        },
        "82d862d52fcf4121a2a7fe3cc666d2fb": {
          "model_module": "@jupyter-widgets/base",
          "model_name": "LayoutModel",
          "state": {
            "_view_name": "LayoutView",
            "grid_template_rows": null,
            "right": null,
            "justify_content": null,
            "_view_module": "@jupyter-widgets/base",
            "overflow": null,
            "_model_module_version": "1.2.0",
            "_view_count": null,
            "flex_flow": null,
            "width": null,
            "min_width": null,
            "border": null,
            "align_items": null,
            "bottom": null,
            "_model_module": "@jupyter-widgets/base",
            "top": null,
            "grid_column": null,
            "overflow_y": null,
            "overflow_x": null,
            "grid_auto_flow": null,
            "grid_area": null,
            "grid_template_columns": null,
            "flex": null,
            "_model_name": "LayoutModel",
            "justify_items": null,
            "grid_row": null,
            "max_height": null,
            "align_content": null,
            "visibility": null,
            "align_self": null,
            "height": null,
            "min_height": null,
            "padding": null,
            "grid_auto_rows": null,
            "grid_gap": null,
            "max_width": null,
            "order": null,
            "_view_module_version": "1.2.0",
            "grid_template_areas": null,
            "object_position": null,
            "object_fit": null,
            "grid_auto_columns": null,
            "margin": null,
            "display": null,
            "left": null
          }
        },
        "5e6969e2d6b64146b107facad25cd8ba": {
          "model_module": "@jupyter-widgets/controls",
          "model_name": "FloatProgressModel",
          "state": {
            "_view_name": "ProgressView",
            "style": "IPY_MODEL_2821e54a55e149b18a0548b82bef8ef0",
            "_dom_classes": [],
            "description": "100%",
            "_model_name": "FloatProgressModel",
            "bar_style": "success",
            "max": 17167,
            "_view_module": "@jupyter-widgets/controls",
            "_model_module_version": "1.5.0",
            "value": 17167,
            "_view_count": null,
            "_view_module_version": "1.5.0",
            "orientation": "horizontal",
            "min": 0,
            "description_tooltip": null,
            "_model_module": "@jupyter-widgets/controls",
            "layout": "IPY_MODEL_e08e681d206f4e4886c2300f1fa879c2"
          }
        },
        "62ab6d75639542a3a7196c3256ba7ded": {
          "model_module": "@jupyter-widgets/controls",
          "model_name": "HTMLModel",
          "state": {
            "_view_name": "HTMLView",
            "style": "IPY_MODEL_d70b1d76cd4045a98d40086cecb737ea",
            "_dom_classes": [],
            "description": "",
            "_model_name": "HTMLModel",
            "placeholder": "​",
            "_view_module": "@jupyter-widgets/controls",
            "_model_module_version": "1.5.0",
            "value": " 17167/17167 [00:20&lt;00:00, 851.55it/s]",
            "_view_count": null,
            "_view_module_version": "1.5.0",
            "description_tooltip": null,
            "_model_module": "@jupyter-widgets/controls",
            "layout": "IPY_MODEL_01ad451571cd41d6bcbd33b8e30675e9"
          }
        },
        "2821e54a55e149b18a0548b82bef8ef0": {
          "model_module": "@jupyter-widgets/controls",
          "model_name": "ProgressStyleModel",
          "state": {
            "_view_name": "StyleView",
            "_model_name": "ProgressStyleModel",
            "description_width": "initial",
            "_view_module": "@jupyter-widgets/base",
            "_model_module_version": "1.5.0",
            "_view_count": null,
            "_view_module_version": "1.2.0",
            "bar_color": null,
            "_model_module": "@jupyter-widgets/controls"
          }
        },
        "e08e681d206f4e4886c2300f1fa879c2": {
          "model_module": "@jupyter-widgets/base",
          "model_name": "LayoutModel",
          "state": {
            "_view_name": "LayoutView",
            "grid_template_rows": null,
            "right": null,
            "justify_content": null,
            "_view_module": "@jupyter-widgets/base",
            "overflow": null,
            "_model_module_version": "1.2.0",
            "_view_count": null,
            "flex_flow": null,
            "width": null,
            "min_width": null,
            "border": null,
            "align_items": null,
            "bottom": null,
            "_model_module": "@jupyter-widgets/base",
            "top": null,
            "grid_column": null,
            "overflow_y": null,
            "overflow_x": null,
            "grid_auto_flow": null,
            "grid_area": null,
            "grid_template_columns": null,
            "flex": null,
            "_model_name": "LayoutModel",
            "justify_items": null,
            "grid_row": null,
            "max_height": null,
            "align_content": null,
            "visibility": null,
            "align_self": null,
            "height": null,
            "min_height": null,
            "padding": null,
            "grid_auto_rows": null,
            "grid_gap": null,
            "max_width": null,
            "order": null,
            "_view_module_version": "1.2.0",
            "grid_template_areas": null,
            "object_position": null,
            "object_fit": null,
            "grid_auto_columns": null,
            "margin": null,
            "display": null,
            "left": null
          }
        },
        "d70b1d76cd4045a98d40086cecb737ea": {
          "model_module": "@jupyter-widgets/controls",
          "model_name": "DescriptionStyleModel",
          "state": {
            "_view_name": "StyleView",
            "_model_name": "DescriptionStyleModel",
            "description_width": "",
            "_view_module": "@jupyter-widgets/base",
            "_model_module_version": "1.5.0",
            "_view_count": null,
            "_view_module_version": "1.2.0",
            "_model_module": "@jupyter-widgets/controls"
          }
        },
        "01ad451571cd41d6bcbd33b8e30675e9": {
          "model_module": "@jupyter-widgets/base",
          "model_name": "LayoutModel",
          "state": {
            "_view_name": "LayoutView",
            "grid_template_rows": null,
            "right": null,
            "justify_content": null,
            "_view_module": "@jupyter-widgets/base",
            "overflow": null,
            "_model_module_version": "1.2.0",
            "_view_count": null,
            "flex_flow": null,
            "width": null,
            "min_width": null,
            "border": null,
            "align_items": null,
            "bottom": null,
            "_model_module": "@jupyter-widgets/base",
            "top": null,
            "grid_column": null,
            "overflow_y": null,
            "overflow_x": null,
            "grid_auto_flow": null,
            "grid_area": null,
            "grid_template_columns": null,
            "flex": null,
            "_model_name": "LayoutModel",
            "justify_items": null,
            "grid_row": null,
            "max_height": null,
            "align_content": null,
            "visibility": null,
            "align_self": null,
            "height": null,
            "min_height": null,
            "padding": null,
            "grid_auto_rows": null,
            "grid_gap": null,
            "max_width": null,
            "order": null,
            "_view_module_version": "1.2.0",
            "grid_template_areas": null,
            "object_position": null,
            "object_fit": null,
            "grid_auto_columns": null,
            "margin": null,
            "display": null,
            "left": null
          }
        },
        "244c4feb3f824ad4a51d78217c65369c": {
          "model_module": "@jupyter-widgets/controls",
          "model_name": "HBoxModel",
          "state": {
            "_view_name": "HBoxView",
            "_dom_classes": [],
            "_model_name": "HBoxModel",
            "_view_module": "@jupyter-widgets/controls",
            "_model_module_version": "1.5.0",
            "_view_count": null,
            "_view_module_version": "1.5.0",
            "box_style": "",
            "layout": "IPY_MODEL_dce24105a06745b68e02c63b159a9597",
            "_model_module": "@jupyter-widgets/controls",
            "children": [
              "IPY_MODEL_c1459fd421b64161b678775183305da2",
              "IPY_MODEL_8360ce6d7b7d4952bd70e6d7b0990ddf"
            ]
          }
        },
        "dce24105a06745b68e02c63b159a9597": {
          "model_module": "@jupyter-widgets/base",
          "model_name": "LayoutModel",
          "state": {
            "_view_name": "LayoutView",
            "grid_template_rows": null,
            "right": null,
            "justify_content": null,
            "_view_module": "@jupyter-widgets/base",
            "overflow": null,
            "_model_module_version": "1.2.0",
            "_view_count": null,
            "flex_flow": null,
            "width": null,
            "min_width": null,
            "border": null,
            "align_items": null,
            "bottom": null,
            "_model_module": "@jupyter-widgets/base",
            "top": null,
            "grid_column": null,
            "overflow_y": null,
            "overflow_x": null,
            "grid_auto_flow": null,
            "grid_area": null,
            "grid_template_columns": null,
            "flex": null,
            "_model_name": "LayoutModel",
            "justify_items": null,
            "grid_row": null,
            "max_height": null,
            "align_content": null,
            "visibility": null,
            "align_self": null,
            "height": null,
            "min_height": null,
            "padding": null,
            "grid_auto_rows": null,
            "grid_gap": null,
            "max_width": null,
            "order": null,
            "_view_module_version": "1.2.0",
            "grid_template_areas": null,
            "object_position": null,
            "object_fit": null,
            "grid_auto_columns": null,
            "margin": null,
            "display": null,
            "left": null
          }
        },
        "c1459fd421b64161b678775183305da2": {
          "model_module": "@jupyter-widgets/controls",
          "model_name": "FloatProgressModel",
          "state": {
            "_view_name": "ProgressView",
            "style": "IPY_MODEL_399c8669f16b4780b7774320be93f5ed",
            "_dom_classes": [],
            "description": "100%",
            "_model_name": "FloatProgressModel",
            "bar_style": "success",
            "max": 17167,
            "_view_module": "@jupyter-widgets/controls",
            "_model_module_version": "1.5.0",
            "value": 17167,
            "_view_count": null,
            "_view_module_version": "1.5.0",
            "orientation": "horizontal",
            "min": 0,
            "description_tooltip": null,
            "_model_module": "@jupyter-widgets/controls",
            "layout": "IPY_MODEL_1a5e69dd91c24b718a3f3bcb69883bb5"
          }
        },
        "8360ce6d7b7d4952bd70e6d7b0990ddf": {
          "model_module": "@jupyter-widgets/controls",
          "model_name": "HTMLModel",
          "state": {
            "_view_name": "HTMLView",
            "style": "IPY_MODEL_1d0a325790474e5a9c3272db950e9780",
            "_dom_classes": [],
            "description": "",
            "_model_name": "HTMLModel",
            "placeholder": "​",
            "_view_module": "@jupyter-widgets/controls",
            "_model_module_version": "1.5.0",
            "value": " 17167/17167 [00:00&lt;00:00, 87258.92it/s]",
            "_view_count": null,
            "_view_module_version": "1.5.0",
            "description_tooltip": null,
            "_model_module": "@jupyter-widgets/controls",
            "layout": "IPY_MODEL_26deaf2d04584b7b8186b48fe03f65a7"
          }
        },
        "399c8669f16b4780b7774320be93f5ed": {
          "model_module": "@jupyter-widgets/controls",
          "model_name": "ProgressStyleModel",
          "state": {
            "_view_name": "StyleView",
            "_model_name": "ProgressStyleModel",
            "description_width": "initial",
            "_view_module": "@jupyter-widgets/base",
            "_model_module_version": "1.5.0",
            "_view_count": null,
            "_view_module_version": "1.2.0",
            "bar_color": null,
            "_model_module": "@jupyter-widgets/controls"
          }
        },
        "1a5e69dd91c24b718a3f3bcb69883bb5": {
          "model_module": "@jupyter-widgets/base",
          "model_name": "LayoutModel",
          "state": {
            "_view_name": "LayoutView",
            "grid_template_rows": null,
            "right": null,
            "justify_content": null,
            "_view_module": "@jupyter-widgets/base",
            "overflow": null,
            "_model_module_version": "1.2.0",
            "_view_count": null,
            "flex_flow": null,
            "width": null,
            "min_width": null,
            "border": null,
            "align_items": null,
            "bottom": null,
            "_model_module": "@jupyter-widgets/base",
            "top": null,
            "grid_column": null,
            "overflow_y": null,
            "overflow_x": null,
            "grid_auto_flow": null,
            "grid_area": null,
            "grid_template_columns": null,
            "flex": null,
            "_model_name": "LayoutModel",
            "justify_items": null,
            "grid_row": null,
            "max_height": null,
            "align_content": null,
            "visibility": null,
            "align_self": null,
            "height": null,
            "min_height": null,
            "padding": null,
            "grid_auto_rows": null,
            "grid_gap": null,
            "max_width": null,
            "order": null,
            "_view_module_version": "1.2.0",
            "grid_template_areas": null,
            "object_position": null,
            "object_fit": null,
            "grid_auto_columns": null,
            "margin": null,
            "display": null,
            "left": null
          }
        },
        "1d0a325790474e5a9c3272db950e9780": {
          "model_module": "@jupyter-widgets/controls",
          "model_name": "DescriptionStyleModel",
          "state": {
            "_view_name": "StyleView",
            "_model_name": "DescriptionStyleModel",
            "description_width": "",
            "_view_module": "@jupyter-widgets/base",
            "_model_module_version": "1.5.0",
            "_view_count": null,
            "_view_module_version": "1.2.0",
            "_model_module": "@jupyter-widgets/controls"
          }
        },
        "26deaf2d04584b7b8186b48fe03f65a7": {
          "model_module": "@jupyter-widgets/base",
          "model_name": "LayoutModel",
          "state": {
            "_view_name": "LayoutView",
            "grid_template_rows": null,
            "right": null,
            "justify_content": null,
            "_view_module": "@jupyter-widgets/base",
            "overflow": null,
            "_model_module_version": "1.2.0",
            "_view_count": null,
            "flex_flow": null,
            "width": null,
            "min_width": null,
            "border": null,
            "align_items": null,
            "bottom": null,
            "_model_module": "@jupyter-widgets/base",
            "top": null,
            "grid_column": null,
            "overflow_y": null,
            "overflow_x": null,
            "grid_auto_flow": null,
            "grid_area": null,
            "grid_template_columns": null,
            "flex": null,
            "_model_name": "LayoutModel",
            "justify_items": null,
            "grid_row": null,
            "max_height": null,
            "align_content": null,
            "visibility": null,
            "align_self": null,
            "height": null,
            "min_height": null,
            "padding": null,
            "grid_auto_rows": null,
            "grid_gap": null,
            "max_width": null,
            "order": null,
            "_view_module_version": "1.2.0",
            "grid_template_areas": null,
            "object_position": null,
            "object_fit": null,
            "grid_auto_columns": null,
            "margin": null,
            "display": null,
            "left": null
          }
        },
        "43861a856caf436e90a9feb3e9ae0ae1": {
          "model_module": "@jupyter-widgets/controls",
          "model_name": "HBoxModel",
          "state": {
            "_view_name": "HBoxView",
            "_dom_classes": [],
            "_model_name": "HBoxModel",
            "_view_module": "@jupyter-widgets/controls",
            "_model_module_version": "1.5.0",
            "_view_count": null,
            "_view_module_version": "1.5.0",
            "box_style": "",
            "layout": "IPY_MODEL_c3cd6dee6fa14d55b70dc49279c02f95",
            "_model_module": "@jupyter-widgets/controls",
            "children": [
              "IPY_MODEL_23d9781a97c84ce99f649ecded3c7404",
              "IPY_MODEL_6ea251a739e84a3bba2eee18fcfbd98a"
            ]
          }
        },
        "c3cd6dee6fa14d55b70dc49279c02f95": {
          "model_module": "@jupyter-widgets/base",
          "model_name": "LayoutModel",
          "state": {
            "_view_name": "LayoutView",
            "grid_template_rows": null,
            "right": null,
            "justify_content": null,
            "_view_module": "@jupyter-widgets/base",
            "overflow": null,
            "_model_module_version": "1.2.0",
            "_view_count": null,
            "flex_flow": null,
            "width": null,
            "min_width": null,
            "border": null,
            "align_items": null,
            "bottom": null,
            "_model_module": "@jupyter-widgets/base",
            "top": null,
            "grid_column": null,
            "overflow_y": null,
            "overflow_x": null,
            "grid_auto_flow": null,
            "grid_area": null,
            "grid_template_columns": null,
            "flex": null,
            "_model_name": "LayoutModel",
            "justify_items": null,
            "grid_row": null,
            "max_height": null,
            "align_content": null,
            "visibility": null,
            "align_self": null,
            "height": null,
            "min_height": null,
            "padding": null,
            "grid_auto_rows": null,
            "grid_gap": null,
            "max_width": null,
            "order": null,
            "_view_module_version": "1.2.0",
            "grid_template_areas": null,
            "object_position": null,
            "object_fit": null,
            "grid_auto_columns": null,
            "margin": null,
            "display": null,
            "left": null
          }
        },
        "23d9781a97c84ce99f649ecded3c7404": {
          "model_module": "@jupyter-widgets/controls",
          "model_name": "FloatProgressModel",
          "state": {
            "_view_name": "ProgressView",
            "style": "IPY_MODEL_5906c8daeba24501a6b99304b16cfca4",
            "_dom_classes": [],
            "description": "100%",
            "_model_name": "FloatProgressModel",
            "bar_style": "success",
            "max": 17167,
            "_view_module": "@jupyter-widgets/controls",
            "_model_module_version": "1.5.0",
            "value": 17167,
            "_view_count": null,
            "_view_module_version": "1.5.0",
            "orientation": "horizontal",
            "min": 0,
            "description_tooltip": null,
            "_model_module": "@jupyter-widgets/controls",
            "layout": "IPY_MODEL_1b85e91fb35f444ea47fe71d7c482d0c"
          }
        },
        "6ea251a739e84a3bba2eee18fcfbd98a": {
          "model_module": "@jupyter-widgets/controls",
          "model_name": "HTMLModel",
          "state": {
            "_view_name": "HTMLView",
            "style": "IPY_MODEL_e59410017e154e2cad0608e506feda99",
            "_dom_classes": [],
            "description": "",
            "_model_name": "HTMLModel",
            "placeholder": "​",
            "_view_module": "@jupyter-widgets/controls",
            "_model_module_version": "1.5.0",
            "value": " 17167/17167 [17:53&lt;00:00, 15.99it/s]",
            "_view_count": null,
            "_view_module_version": "1.5.0",
            "description_tooltip": null,
            "_model_module": "@jupyter-widgets/controls",
            "layout": "IPY_MODEL_9d5f26f976294b5a95b9d8dc93611280"
          }
        },
        "5906c8daeba24501a6b99304b16cfca4": {
          "model_module": "@jupyter-widgets/controls",
          "model_name": "ProgressStyleModel",
          "state": {
            "_view_name": "StyleView",
            "_model_name": "ProgressStyleModel",
            "description_width": "initial",
            "_view_module": "@jupyter-widgets/base",
            "_model_module_version": "1.5.0",
            "_view_count": null,
            "_view_module_version": "1.2.0",
            "bar_color": null,
            "_model_module": "@jupyter-widgets/controls"
          }
        },
        "1b85e91fb35f444ea47fe71d7c482d0c": {
          "model_module": "@jupyter-widgets/base",
          "model_name": "LayoutModel",
          "state": {
            "_view_name": "LayoutView",
            "grid_template_rows": null,
            "right": null,
            "justify_content": null,
            "_view_module": "@jupyter-widgets/base",
            "overflow": null,
            "_model_module_version": "1.2.0",
            "_view_count": null,
            "flex_flow": null,
            "width": null,
            "min_width": null,
            "border": null,
            "align_items": null,
            "bottom": null,
            "_model_module": "@jupyter-widgets/base",
            "top": null,
            "grid_column": null,
            "overflow_y": null,
            "overflow_x": null,
            "grid_auto_flow": null,
            "grid_area": null,
            "grid_template_columns": null,
            "flex": null,
            "_model_name": "LayoutModel",
            "justify_items": null,
            "grid_row": null,
            "max_height": null,
            "align_content": null,
            "visibility": null,
            "align_self": null,
            "height": null,
            "min_height": null,
            "padding": null,
            "grid_auto_rows": null,
            "grid_gap": null,
            "max_width": null,
            "order": null,
            "_view_module_version": "1.2.0",
            "grid_template_areas": null,
            "object_position": null,
            "object_fit": null,
            "grid_auto_columns": null,
            "margin": null,
            "display": null,
            "left": null
          }
        },
        "e59410017e154e2cad0608e506feda99": {
          "model_module": "@jupyter-widgets/controls",
          "model_name": "DescriptionStyleModel",
          "state": {
            "_view_name": "StyleView",
            "_model_name": "DescriptionStyleModel",
            "description_width": "",
            "_view_module": "@jupyter-widgets/base",
            "_model_module_version": "1.5.0",
            "_view_count": null,
            "_view_module_version": "1.2.0",
            "_model_module": "@jupyter-widgets/controls"
          }
        },
        "9d5f26f976294b5a95b9d8dc93611280": {
          "model_module": "@jupyter-widgets/base",
          "model_name": "LayoutModel",
          "state": {
            "_view_name": "LayoutView",
            "grid_template_rows": null,
            "right": null,
            "justify_content": null,
            "_view_module": "@jupyter-widgets/base",
            "overflow": null,
            "_model_module_version": "1.2.0",
            "_view_count": null,
            "flex_flow": null,
            "width": null,
            "min_width": null,
            "border": null,
            "align_items": null,
            "bottom": null,
            "_model_module": "@jupyter-widgets/base",
            "top": null,
            "grid_column": null,
            "overflow_y": null,
            "overflow_x": null,
            "grid_auto_flow": null,
            "grid_area": null,
            "grid_template_columns": null,
            "flex": null,
            "_model_name": "LayoutModel",
            "justify_items": null,
            "grid_row": null,
            "max_height": null,
            "align_content": null,
            "visibility": null,
            "align_self": null,
            "height": null,
            "min_height": null,
            "padding": null,
            "grid_auto_rows": null,
            "grid_gap": null,
            "max_width": null,
            "order": null,
            "_view_module_version": "1.2.0",
            "grid_template_areas": null,
            "object_position": null,
            "object_fit": null,
            "grid_auto_columns": null,
            "margin": null,
            "display": null,
            "left": null
          }
        },
        "7ee4935b0f164c70ac8085787ab2f723": {
          "model_module": "@jupyter-widgets/controls",
          "model_name": "HBoxModel",
          "state": {
            "_view_name": "HBoxView",
            "_dom_classes": [],
            "_model_name": "HBoxModel",
            "_view_module": "@jupyter-widgets/controls",
            "_model_module_version": "1.5.0",
            "_view_count": null,
            "_view_module_version": "1.5.0",
            "box_style": "",
            "layout": "IPY_MODEL_6e982fcf8b4843fe8206216e2adcecd3",
            "_model_module": "@jupyter-widgets/controls",
            "children": [
              "IPY_MODEL_8b54e83105044b7f89d3cac1bae86145",
              "IPY_MODEL_309224cdf5734978a296bd256cd4022f"
            ]
          }
        },
        "6e982fcf8b4843fe8206216e2adcecd3": {
          "model_module": "@jupyter-widgets/base",
          "model_name": "LayoutModel",
          "state": {
            "_view_name": "LayoutView",
            "grid_template_rows": null,
            "right": null,
            "justify_content": null,
            "_view_module": "@jupyter-widgets/base",
            "overflow": null,
            "_model_module_version": "1.2.0",
            "_view_count": null,
            "flex_flow": null,
            "width": null,
            "min_width": null,
            "border": null,
            "align_items": null,
            "bottom": null,
            "_model_module": "@jupyter-widgets/base",
            "top": null,
            "grid_column": null,
            "overflow_y": null,
            "overflow_x": null,
            "grid_auto_flow": null,
            "grid_area": null,
            "grid_template_columns": null,
            "flex": null,
            "_model_name": "LayoutModel",
            "justify_items": null,
            "grid_row": null,
            "max_height": null,
            "align_content": null,
            "visibility": null,
            "align_self": null,
            "height": null,
            "min_height": null,
            "padding": null,
            "grid_auto_rows": null,
            "grid_gap": null,
            "max_width": null,
            "order": null,
            "_view_module_version": "1.2.0",
            "grid_template_areas": null,
            "object_position": null,
            "object_fit": null,
            "grid_auto_columns": null,
            "margin": null,
            "display": null,
            "left": null
          }
        },
        "8b54e83105044b7f89d3cac1bae86145": {
          "model_module": "@jupyter-widgets/controls",
          "model_name": "FloatProgressModel",
          "state": {
            "_view_name": "ProgressView",
            "style": "IPY_MODEL_62ede54e4fec4960ae019d9e9d606fa3",
            "_dom_classes": [],
            "description": "100%",
            "_model_name": "FloatProgressModel",
            "bar_style": "success",
            "max": 17167,
            "_view_module": "@jupyter-widgets/controls",
            "_model_module_version": "1.5.0",
            "value": 17167,
            "_view_count": null,
            "_view_module_version": "1.5.0",
            "orientation": "horizontal",
            "min": 0,
            "description_tooltip": null,
            "_model_module": "@jupyter-widgets/controls",
            "layout": "IPY_MODEL_3781c20d7f5c4774aeff353da3566a6b"
          }
        },
        "309224cdf5734978a296bd256cd4022f": {
          "model_module": "@jupyter-widgets/controls",
          "model_name": "HTMLModel",
          "state": {
            "_view_name": "HTMLView",
            "style": "IPY_MODEL_30763b3e26d44af5901f24a77c21b487",
            "_dom_classes": [],
            "description": "",
            "_model_name": "HTMLModel",
            "placeholder": "​",
            "_view_module": "@jupyter-widgets/controls",
            "_model_module_version": "1.5.0",
            "value": " 17167/17167 [14:15&lt;00:00, 20.07it/s]",
            "_view_count": null,
            "_view_module_version": "1.5.0",
            "description_tooltip": null,
            "_model_module": "@jupyter-widgets/controls",
            "layout": "IPY_MODEL_c5915591329044d5ba05e3a61b0233a1"
          }
        },
        "62ede54e4fec4960ae019d9e9d606fa3": {
          "model_module": "@jupyter-widgets/controls",
          "model_name": "ProgressStyleModel",
          "state": {
            "_view_name": "StyleView",
            "_model_name": "ProgressStyleModel",
            "description_width": "initial",
            "_view_module": "@jupyter-widgets/base",
            "_model_module_version": "1.5.0",
            "_view_count": null,
            "_view_module_version": "1.2.0",
            "bar_color": null,
            "_model_module": "@jupyter-widgets/controls"
          }
        },
        "3781c20d7f5c4774aeff353da3566a6b": {
          "model_module": "@jupyter-widgets/base",
          "model_name": "LayoutModel",
          "state": {
            "_view_name": "LayoutView",
            "grid_template_rows": null,
            "right": null,
            "justify_content": null,
            "_view_module": "@jupyter-widgets/base",
            "overflow": null,
            "_model_module_version": "1.2.0",
            "_view_count": null,
            "flex_flow": null,
            "width": null,
            "min_width": null,
            "border": null,
            "align_items": null,
            "bottom": null,
            "_model_module": "@jupyter-widgets/base",
            "top": null,
            "grid_column": null,
            "overflow_y": null,
            "overflow_x": null,
            "grid_auto_flow": null,
            "grid_area": null,
            "grid_template_columns": null,
            "flex": null,
            "_model_name": "LayoutModel",
            "justify_items": null,
            "grid_row": null,
            "max_height": null,
            "align_content": null,
            "visibility": null,
            "align_self": null,
            "height": null,
            "min_height": null,
            "padding": null,
            "grid_auto_rows": null,
            "grid_gap": null,
            "max_width": null,
            "order": null,
            "_view_module_version": "1.2.0",
            "grid_template_areas": null,
            "object_position": null,
            "object_fit": null,
            "grid_auto_columns": null,
            "margin": null,
            "display": null,
            "left": null
          }
        },
        "30763b3e26d44af5901f24a77c21b487": {
          "model_module": "@jupyter-widgets/controls",
          "model_name": "DescriptionStyleModel",
          "state": {
            "_view_name": "StyleView",
            "_model_name": "DescriptionStyleModel",
            "description_width": "",
            "_view_module": "@jupyter-widgets/base",
            "_model_module_version": "1.5.0",
            "_view_count": null,
            "_view_module_version": "1.2.0",
            "_model_module": "@jupyter-widgets/controls"
          }
        },
        "c5915591329044d5ba05e3a61b0233a1": {
          "model_module": "@jupyter-widgets/base",
          "model_name": "LayoutModel",
          "state": {
            "_view_name": "LayoutView",
            "grid_template_rows": null,
            "right": null,
            "justify_content": null,
            "_view_module": "@jupyter-widgets/base",
            "overflow": null,
            "_model_module_version": "1.2.0",
            "_view_count": null,
            "flex_flow": null,
            "width": null,
            "min_width": null,
            "border": null,
            "align_items": null,
            "bottom": null,
            "_model_module": "@jupyter-widgets/base",
            "top": null,
            "grid_column": null,
            "overflow_y": null,
            "overflow_x": null,
            "grid_auto_flow": null,
            "grid_area": null,
            "grid_template_columns": null,
            "flex": null,
            "_model_name": "LayoutModel",
            "justify_items": null,
            "grid_row": null,
            "max_height": null,
            "align_content": null,
            "visibility": null,
            "align_self": null,
            "height": null,
            "min_height": null,
            "padding": null,
            "grid_auto_rows": null,
            "grid_gap": null,
            "max_width": null,
            "order": null,
            "_view_module_version": "1.2.0",
            "grid_template_areas": null,
            "object_position": null,
            "object_fit": null,
            "grid_auto_columns": null,
            "margin": null,
            "display": null,
            "left": null
          }
        },
        "c78ad914a4244cb78e988fe7a181099f": {
          "model_module": "@jupyter-widgets/controls",
          "model_name": "HBoxModel",
          "state": {
            "_view_name": "HBoxView",
            "_dom_classes": [],
            "_model_name": "HBoxModel",
            "_view_module": "@jupyter-widgets/controls",
            "_model_module_version": "1.5.0",
            "_view_count": null,
            "_view_module_version": "1.5.0",
            "box_style": "",
            "layout": "IPY_MODEL_50bd05b83cbb469bab54bd195f65d888",
            "_model_module": "@jupyter-widgets/controls",
            "children": [
              "IPY_MODEL_9477fb66e2a24fb5934442171a97d8bd",
              "IPY_MODEL_fae2530ca2114f67a941606670d2ef7e"
            ]
          }
        },
        "50bd05b83cbb469bab54bd195f65d888": {
          "model_module": "@jupyter-widgets/base",
          "model_name": "LayoutModel",
          "state": {
            "_view_name": "LayoutView",
            "grid_template_rows": null,
            "right": null,
            "justify_content": null,
            "_view_module": "@jupyter-widgets/base",
            "overflow": null,
            "_model_module_version": "1.2.0",
            "_view_count": null,
            "flex_flow": null,
            "width": null,
            "min_width": null,
            "border": null,
            "align_items": null,
            "bottom": null,
            "_model_module": "@jupyter-widgets/base",
            "top": null,
            "grid_column": null,
            "overflow_y": null,
            "overflow_x": null,
            "grid_auto_flow": null,
            "grid_area": null,
            "grid_template_columns": null,
            "flex": null,
            "_model_name": "LayoutModel",
            "justify_items": null,
            "grid_row": null,
            "max_height": null,
            "align_content": null,
            "visibility": null,
            "align_self": null,
            "height": null,
            "min_height": null,
            "padding": null,
            "grid_auto_rows": null,
            "grid_gap": null,
            "max_width": null,
            "order": null,
            "_view_module_version": "1.2.0",
            "grid_template_areas": null,
            "object_position": null,
            "object_fit": null,
            "grid_auto_columns": null,
            "margin": null,
            "display": null,
            "left": null
          }
        },
        "9477fb66e2a24fb5934442171a97d8bd": {
          "model_module": "@jupyter-widgets/controls",
          "model_name": "FloatProgressModel",
          "state": {
            "_view_name": "ProgressView",
            "style": "IPY_MODEL_61ff3779f4f04242ab041f8100169255",
            "_dom_classes": [],
            "description": "100%",
            "_model_name": "FloatProgressModel",
            "bar_style": "success",
            "max": 17167,
            "_view_module": "@jupyter-widgets/controls",
            "_model_module_version": "1.5.0",
            "value": 17167,
            "_view_count": null,
            "_view_module_version": "1.5.0",
            "orientation": "horizontal",
            "min": 0,
            "description_tooltip": null,
            "_model_module": "@jupyter-widgets/controls",
            "layout": "IPY_MODEL_7dd7bf06251f4618973fe0a637103551"
          }
        },
        "fae2530ca2114f67a941606670d2ef7e": {
          "model_module": "@jupyter-widgets/controls",
          "model_name": "HTMLModel",
          "state": {
            "_view_name": "HTMLView",
            "style": "IPY_MODEL_88fe5e87c0d446ef871e8ecdccea1996",
            "_dom_classes": [],
            "description": "",
            "_model_name": "HTMLModel",
            "placeholder": "​",
            "_view_module": "@jupyter-widgets/controls",
            "_model_module_version": "1.5.0",
            "value": " 17167/17167 [00:00&lt;00:00, 58726.93it/s]",
            "_view_count": null,
            "_view_module_version": "1.5.0",
            "description_tooltip": null,
            "_model_module": "@jupyter-widgets/controls",
            "layout": "IPY_MODEL_f571c2a9ef9d4de8bdcddc72bd2424fc"
          }
        },
        "61ff3779f4f04242ab041f8100169255": {
          "model_module": "@jupyter-widgets/controls",
          "model_name": "ProgressStyleModel",
          "state": {
            "_view_name": "StyleView",
            "_model_name": "ProgressStyleModel",
            "description_width": "initial",
            "_view_module": "@jupyter-widgets/base",
            "_model_module_version": "1.5.0",
            "_view_count": null,
            "_view_module_version": "1.2.0",
            "bar_color": null,
            "_model_module": "@jupyter-widgets/controls"
          }
        },
        "7dd7bf06251f4618973fe0a637103551": {
          "model_module": "@jupyter-widgets/base",
          "model_name": "LayoutModel",
          "state": {
            "_view_name": "LayoutView",
            "grid_template_rows": null,
            "right": null,
            "justify_content": null,
            "_view_module": "@jupyter-widgets/base",
            "overflow": null,
            "_model_module_version": "1.2.0",
            "_view_count": null,
            "flex_flow": null,
            "width": null,
            "min_width": null,
            "border": null,
            "align_items": null,
            "bottom": null,
            "_model_module": "@jupyter-widgets/base",
            "top": null,
            "grid_column": null,
            "overflow_y": null,
            "overflow_x": null,
            "grid_auto_flow": null,
            "grid_area": null,
            "grid_template_columns": null,
            "flex": null,
            "_model_name": "LayoutModel",
            "justify_items": null,
            "grid_row": null,
            "max_height": null,
            "align_content": null,
            "visibility": null,
            "align_self": null,
            "height": null,
            "min_height": null,
            "padding": null,
            "grid_auto_rows": null,
            "grid_gap": null,
            "max_width": null,
            "order": null,
            "_view_module_version": "1.2.0",
            "grid_template_areas": null,
            "object_position": null,
            "object_fit": null,
            "grid_auto_columns": null,
            "margin": null,
            "display": null,
            "left": null
          }
        },
        "88fe5e87c0d446ef871e8ecdccea1996": {
          "model_module": "@jupyter-widgets/controls",
          "model_name": "DescriptionStyleModel",
          "state": {
            "_view_name": "StyleView",
            "_model_name": "DescriptionStyleModel",
            "description_width": "",
            "_view_module": "@jupyter-widgets/base",
            "_model_module_version": "1.5.0",
            "_view_count": null,
            "_view_module_version": "1.2.0",
            "_model_module": "@jupyter-widgets/controls"
          }
        },
        "f571c2a9ef9d4de8bdcddc72bd2424fc": {
          "model_module": "@jupyter-widgets/base",
          "model_name": "LayoutModel",
          "state": {
            "_view_name": "LayoutView",
            "grid_template_rows": null,
            "right": null,
            "justify_content": null,
            "_view_module": "@jupyter-widgets/base",
            "overflow": null,
            "_model_module_version": "1.2.0",
            "_view_count": null,
            "flex_flow": null,
            "width": null,
            "min_width": null,
            "border": null,
            "align_items": null,
            "bottom": null,
            "_model_module": "@jupyter-widgets/base",
            "top": null,
            "grid_column": null,
            "overflow_y": null,
            "overflow_x": null,
            "grid_auto_flow": null,
            "grid_area": null,
            "grid_template_columns": null,
            "flex": null,
            "_model_name": "LayoutModel",
            "justify_items": null,
            "grid_row": null,
            "max_height": null,
            "align_content": null,
            "visibility": null,
            "align_self": null,
            "height": null,
            "min_height": null,
            "padding": null,
            "grid_auto_rows": null,
            "grid_gap": null,
            "max_width": null,
            "order": null,
            "_view_module_version": "1.2.0",
            "grid_template_areas": null,
            "object_position": null,
            "object_fit": null,
            "grid_auto_columns": null,
            "margin": null,
            "display": null,
            "left": null
          }
        },
        "795bcc98f1e94f13bc8c8c9ac69f2c39": {
          "model_module": "@jupyter-widgets/controls",
          "model_name": "HBoxModel",
          "state": {
            "_view_name": "HBoxView",
            "_dom_classes": [],
            "_model_name": "HBoxModel",
            "_view_module": "@jupyter-widgets/controls",
            "_model_module_version": "1.5.0",
            "_view_count": null,
            "_view_module_version": "1.5.0",
            "box_style": "",
            "layout": "IPY_MODEL_51817ebcf3df42acbdfa5e85f7f38152",
            "_model_module": "@jupyter-widgets/controls",
            "children": [
              "IPY_MODEL_b4f7332453da4056803cceaa0132f6d0",
              "IPY_MODEL_06e366944c254c4f9dc2abbcd98ed4d0"
            ]
          }
        },
        "51817ebcf3df42acbdfa5e85f7f38152": {
          "model_module": "@jupyter-widgets/base",
          "model_name": "LayoutModel",
          "state": {
            "_view_name": "LayoutView",
            "grid_template_rows": null,
            "right": null,
            "justify_content": null,
            "_view_module": "@jupyter-widgets/base",
            "overflow": null,
            "_model_module_version": "1.2.0",
            "_view_count": null,
            "flex_flow": null,
            "width": null,
            "min_width": null,
            "border": null,
            "align_items": null,
            "bottom": null,
            "_model_module": "@jupyter-widgets/base",
            "top": null,
            "grid_column": null,
            "overflow_y": null,
            "overflow_x": null,
            "grid_auto_flow": null,
            "grid_area": null,
            "grid_template_columns": null,
            "flex": null,
            "_model_name": "LayoutModel",
            "justify_items": null,
            "grid_row": null,
            "max_height": null,
            "align_content": null,
            "visibility": null,
            "align_self": null,
            "height": null,
            "min_height": null,
            "padding": null,
            "grid_auto_rows": null,
            "grid_gap": null,
            "max_width": null,
            "order": null,
            "_view_module_version": "1.2.0",
            "grid_template_areas": null,
            "object_position": null,
            "object_fit": null,
            "grid_auto_columns": null,
            "margin": null,
            "display": null,
            "left": null
          }
        },
        "b4f7332453da4056803cceaa0132f6d0": {
          "model_module": "@jupyter-widgets/controls",
          "model_name": "FloatProgressModel",
          "state": {
            "_view_name": "ProgressView",
            "style": "IPY_MODEL_0355631665eb4fc1a8adf1005b846de5",
            "_dom_classes": [],
            "description": "100%",
            "_model_name": "FloatProgressModel",
            "bar_style": "success",
            "max": 17167,
            "_view_module": "@jupyter-widgets/controls",
            "_model_module_version": "1.5.0",
            "value": 17167,
            "_view_count": null,
            "_view_module_version": "1.5.0",
            "orientation": "horizontal",
            "min": 0,
            "description_tooltip": null,
            "_model_module": "@jupyter-widgets/controls",
            "layout": "IPY_MODEL_f57160a99cb840c98dac566c40ee767a"
          }
        },
        "06e366944c254c4f9dc2abbcd98ed4d0": {
          "model_module": "@jupyter-widgets/controls",
          "model_name": "HTMLModel",
          "state": {
            "_view_name": "HTMLView",
            "style": "IPY_MODEL_f820a01a886a4d24b48889a596be8b31",
            "_dom_classes": [],
            "description": "",
            "_model_name": "HTMLModel",
            "placeholder": "​",
            "_view_module": "@jupyter-widgets/controls",
            "_model_module_version": "1.5.0",
            "value": " 17167/17167 [14:15&lt;00:00, 20.08it/s]",
            "_view_count": null,
            "_view_module_version": "1.5.0",
            "description_tooltip": null,
            "_model_module": "@jupyter-widgets/controls",
            "layout": "IPY_MODEL_0320ffb22a5f4ac69901641a4d24a242"
          }
        },
        "0355631665eb4fc1a8adf1005b846de5": {
          "model_module": "@jupyter-widgets/controls",
          "model_name": "ProgressStyleModel",
          "state": {
            "_view_name": "StyleView",
            "_model_name": "ProgressStyleModel",
            "description_width": "initial",
            "_view_module": "@jupyter-widgets/base",
            "_model_module_version": "1.5.0",
            "_view_count": null,
            "_view_module_version": "1.2.0",
            "bar_color": null,
            "_model_module": "@jupyter-widgets/controls"
          }
        },
        "f57160a99cb840c98dac566c40ee767a": {
          "model_module": "@jupyter-widgets/base",
          "model_name": "LayoutModel",
          "state": {
            "_view_name": "LayoutView",
            "grid_template_rows": null,
            "right": null,
            "justify_content": null,
            "_view_module": "@jupyter-widgets/base",
            "overflow": null,
            "_model_module_version": "1.2.0",
            "_view_count": null,
            "flex_flow": null,
            "width": null,
            "min_width": null,
            "border": null,
            "align_items": null,
            "bottom": null,
            "_model_module": "@jupyter-widgets/base",
            "top": null,
            "grid_column": null,
            "overflow_y": null,
            "overflow_x": null,
            "grid_auto_flow": null,
            "grid_area": null,
            "grid_template_columns": null,
            "flex": null,
            "_model_name": "LayoutModel",
            "justify_items": null,
            "grid_row": null,
            "max_height": null,
            "align_content": null,
            "visibility": null,
            "align_self": null,
            "height": null,
            "min_height": null,
            "padding": null,
            "grid_auto_rows": null,
            "grid_gap": null,
            "max_width": null,
            "order": null,
            "_view_module_version": "1.2.0",
            "grid_template_areas": null,
            "object_position": null,
            "object_fit": null,
            "grid_auto_columns": null,
            "margin": null,
            "display": null,
            "left": null
          }
        },
        "f820a01a886a4d24b48889a596be8b31": {
          "model_module": "@jupyter-widgets/controls",
          "model_name": "DescriptionStyleModel",
          "state": {
            "_view_name": "StyleView",
            "_model_name": "DescriptionStyleModel",
            "description_width": "",
            "_view_module": "@jupyter-widgets/base",
            "_model_module_version": "1.5.0",
            "_view_count": null,
            "_view_module_version": "1.2.0",
            "_model_module": "@jupyter-widgets/controls"
          }
        },
        "0320ffb22a5f4ac69901641a4d24a242": {
          "model_module": "@jupyter-widgets/base",
          "model_name": "LayoutModel",
          "state": {
            "_view_name": "LayoutView",
            "grid_template_rows": null,
            "right": null,
            "justify_content": null,
            "_view_module": "@jupyter-widgets/base",
            "overflow": null,
            "_model_module_version": "1.2.0",
            "_view_count": null,
            "flex_flow": null,
            "width": null,
            "min_width": null,
            "border": null,
            "align_items": null,
            "bottom": null,
            "_model_module": "@jupyter-widgets/base",
            "top": null,
            "grid_column": null,
            "overflow_y": null,
            "overflow_x": null,
            "grid_auto_flow": null,
            "grid_area": null,
            "grid_template_columns": null,
            "flex": null,
            "_model_name": "LayoutModel",
            "justify_items": null,
            "grid_row": null,
            "max_height": null,
            "align_content": null,
            "visibility": null,
            "align_self": null,
            "height": null,
            "min_height": null,
            "padding": null,
            "grid_auto_rows": null,
            "grid_gap": null,
            "max_width": null,
            "order": null,
            "_view_module_version": "1.2.0",
            "grid_template_areas": null,
            "object_position": null,
            "object_fit": null,
            "grid_auto_columns": null,
            "margin": null,
            "display": null,
            "left": null
          }
        },
        "6af98054769149eca90da381684cea05": {
          "model_module": "@jupyter-widgets/controls",
          "model_name": "HBoxModel",
          "state": {
            "_view_name": "HBoxView",
            "_dom_classes": [],
            "_model_name": "HBoxModel",
            "_view_module": "@jupyter-widgets/controls",
            "_model_module_version": "1.5.0",
            "_view_count": null,
            "_view_module_version": "1.5.0",
            "box_style": "",
            "layout": "IPY_MODEL_05305c4ab74b48daa35206f287c3efae",
            "_model_module": "@jupyter-widgets/controls",
            "children": [
              "IPY_MODEL_782d1b996b77491caa15b438f72de0f2",
              "IPY_MODEL_5f7b667b28184c28a436f08abeb8c078"
            ]
          }
        },
        "05305c4ab74b48daa35206f287c3efae": {
          "model_module": "@jupyter-widgets/base",
          "model_name": "LayoutModel",
          "state": {
            "_view_name": "LayoutView",
            "grid_template_rows": null,
            "right": null,
            "justify_content": null,
            "_view_module": "@jupyter-widgets/base",
            "overflow": null,
            "_model_module_version": "1.2.0",
            "_view_count": null,
            "flex_flow": null,
            "width": null,
            "min_width": null,
            "border": null,
            "align_items": null,
            "bottom": null,
            "_model_module": "@jupyter-widgets/base",
            "top": null,
            "grid_column": null,
            "overflow_y": null,
            "overflow_x": null,
            "grid_auto_flow": null,
            "grid_area": null,
            "grid_template_columns": null,
            "flex": null,
            "_model_name": "LayoutModel",
            "justify_items": null,
            "grid_row": null,
            "max_height": null,
            "align_content": null,
            "visibility": null,
            "align_self": null,
            "height": null,
            "min_height": null,
            "padding": null,
            "grid_auto_rows": null,
            "grid_gap": null,
            "max_width": null,
            "order": null,
            "_view_module_version": "1.2.0",
            "grid_template_areas": null,
            "object_position": null,
            "object_fit": null,
            "grid_auto_columns": null,
            "margin": null,
            "display": null,
            "left": null
          }
        },
        "782d1b996b77491caa15b438f72de0f2": {
          "model_module": "@jupyter-widgets/controls",
          "model_name": "FloatProgressModel",
          "state": {
            "_view_name": "ProgressView",
            "style": "IPY_MODEL_f79f34cf3a7d43009c13ffea6e3c3479",
            "_dom_classes": [],
            "description": "100%",
            "_model_name": "FloatProgressModel",
            "bar_style": "success",
            "max": 2146,
            "_view_module": "@jupyter-widgets/controls",
            "_model_module_version": "1.5.0",
            "value": 2146,
            "_view_count": null,
            "_view_module_version": "1.5.0",
            "orientation": "horizontal",
            "min": 0,
            "description_tooltip": null,
            "_model_module": "@jupyter-widgets/controls",
            "layout": "IPY_MODEL_614d59e0c4e54cab870c41fc4ecf72a8"
          }
        },
        "5f7b667b28184c28a436f08abeb8c078": {
          "model_module": "@jupyter-widgets/controls",
          "model_name": "HTMLModel",
          "state": {
            "_view_name": "HTMLView",
            "style": "IPY_MODEL_efe10709446546f28f75215e0b8bbbfc",
            "_dom_classes": [],
            "description": "",
            "_model_name": "HTMLModel",
            "placeholder": "​",
            "_view_module": "@jupyter-widgets/controls",
            "_model_module_version": "1.5.0",
            "value": " 2146/2146 [00:02&lt;00:00, 766.77it/s]",
            "_view_count": null,
            "_view_module_version": "1.5.0",
            "description_tooltip": null,
            "_model_module": "@jupyter-widgets/controls",
            "layout": "IPY_MODEL_b1c98439e29440be9f5712860cd09890"
          }
        },
        "f79f34cf3a7d43009c13ffea6e3c3479": {
          "model_module": "@jupyter-widgets/controls",
          "model_name": "ProgressStyleModel",
          "state": {
            "_view_name": "StyleView",
            "_model_name": "ProgressStyleModel",
            "description_width": "initial",
            "_view_module": "@jupyter-widgets/base",
            "_model_module_version": "1.5.0",
            "_view_count": null,
            "_view_module_version": "1.2.0",
            "bar_color": null,
            "_model_module": "@jupyter-widgets/controls"
          }
        },
        "614d59e0c4e54cab870c41fc4ecf72a8": {
          "model_module": "@jupyter-widgets/base",
          "model_name": "LayoutModel",
          "state": {
            "_view_name": "LayoutView",
            "grid_template_rows": null,
            "right": null,
            "justify_content": null,
            "_view_module": "@jupyter-widgets/base",
            "overflow": null,
            "_model_module_version": "1.2.0",
            "_view_count": null,
            "flex_flow": null,
            "width": null,
            "min_width": null,
            "border": null,
            "align_items": null,
            "bottom": null,
            "_model_module": "@jupyter-widgets/base",
            "top": null,
            "grid_column": null,
            "overflow_y": null,
            "overflow_x": null,
            "grid_auto_flow": null,
            "grid_area": null,
            "grid_template_columns": null,
            "flex": null,
            "_model_name": "LayoutModel",
            "justify_items": null,
            "grid_row": null,
            "max_height": null,
            "align_content": null,
            "visibility": null,
            "align_self": null,
            "height": null,
            "min_height": null,
            "padding": null,
            "grid_auto_rows": null,
            "grid_gap": null,
            "max_width": null,
            "order": null,
            "_view_module_version": "1.2.0",
            "grid_template_areas": null,
            "object_position": null,
            "object_fit": null,
            "grid_auto_columns": null,
            "margin": null,
            "display": null,
            "left": null
          }
        },
        "efe10709446546f28f75215e0b8bbbfc": {
          "model_module": "@jupyter-widgets/controls",
          "model_name": "DescriptionStyleModel",
          "state": {
            "_view_name": "StyleView",
            "_model_name": "DescriptionStyleModel",
            "description_width": "",
            "_view_module": "@jupyter-widgets/base",
            "_model_module_version": "1.5.0",
            "_view_count": null,
            "_view_module_version": "1.2.0",
            "_model_module": "@jupyter-widgets/controls"
          }
        },
        "b1c98439e29440be9f5712860cd09890": {
          "model_module": "@jupyter-widgets/base",
          "model_name": "LayoutModel",
          "state": {
            "_view_name": "LayoutView",
            "grid_template_rows": null,
            "right": null,
            "justify_content": null,
            "_view_module": "@jupyter-widgets/base",
            "overflow": null,
            "_model_module_version": "1.2.0",
            "_view_count": null,
            "flex_flow": null,
            "width": null,
            "min_width": null,
            "border": null,
            "align_items": null,
            "bottom": null,
            "_model_module": "@jupyter-widgets/base",
            "top": null,
            "grid_column": null,
            "overflow_y": null,
            "overflow_x": null,
            "grid_auto_flow": null,
            "grid_area": null,
            "grid_template_columns": null,
            "flex": null,
            "_model_name": "LayoutModel",
            "justify_items": null,
            "grid_row": null,
            "max_height": null,
            "align_content": null,
            "visibility": null,
            "align_self": null,
            "height": null,
            "min_height": null,
            "padding": null,
            "grid_auto_rows": null,
            "grid_gap": null,
            "max_width": null,
            "order": null,
            "_view_module_version": "1.2.0",
            "grid_template_areas": null,
            "object_position": null,
            "object_fit": null,
            "grid_auto_columns": null,
            "margin": null,
            "display": null,
            "left": null
          }
        },
        "589e8fa8dbc148839c9d9c85c6147339": {
          "model_module": "@jupyter-widgets/controls",
          "model_name": "HBoxModel",
          "state": {
            "_view_name": "HBoxView",
            "_dom_classes": [],
            "_model_name": "HBoxModel",
            "_view_module": "@jupyter-widgets/controls",
            "_model_module_version": "1.5.0",
            "_view_count": null,
            "_view_module_version": "1.5.0",
            "box_style": "",
            "layout": "IPY_MODEL_a135cd40fea243eb832009fec3254a8e",
            "_model_module": "@jupyter-widgets/controls",
            "children": [
              "IPY_MODEL_532bd8b836c84c10b97ec2e6631cd17d",
              "IPY_MODEL_cc2b094518df43f3bd085a6dde1414bb"
            ]
          }
        },
        "a135cd40fea243eb832009fec3254a8e": {
          "model_module": "@jupyter-widgets/base",
          "model_name": "LayoutModel",
          "state": {
            "_view_name": "LayoutView",
            "grid_template_rows": null,
            "right": null,
            "justify_content": null,
            "_view_module": "@jupyter-widgets/base",
            "overflow": null,
            "_model_module_version": "1.2.0",
            "_view_count": null,
            "flex_flow": null,
            "width": null,
            "min_width": null,
            "border": null,
            "align_items": null,
            "bottom": null,
            "_model_module": "@jupyter-widgets/base",
            "top": null,
            "grid_column": null,
            "overflow_y": null,
            "overflow_x": null,
            "grid_auto_flow": null,
            "grid_area": null,
            "grid_template_columns": null,
            "flex": null,
            "_model_name": "LayoutModel",
            "justify_items": null,
            "grid_row": null,
            "max_height": null,
            "align_content": null,
            "visibility": null,
            "align_self": null,
            "height": null,
            "min_height": null,
            "padding": null,
            "grid_auto_rows": null,
            "grid_gap": null,
            "max_width": null,
            "order": null,
            "_view_module_version": "1.2.0",
            "grid_template_areas": null,
            "object_position": null,
            "object_fit": null,
            "grid_auto_columns": null,
            "margin": null,
            "display": null,
            "left": null
          }
        },
        "532bd8b836c84c10b97ec2e6631cd17d": {
          "model_module": "@jupyter-widgets/controls",
          "model_name": "FloatProgressModel",
          "state": {
            "_view_name": "ProgressView",
            "style": "IPY_MODEL_e44f50633c5b489a9c230ca8a76b3de0",
            "_dom_classes": [],
            "description": "100%",
            "_model_name": "FloatProgressModel",
            "bar_style": "success",
            "max": 2146,
            "_view_module": "@jupyter-widgets/controls",
            "_model_module_version": "1.5.0",
            "value": 2146,
            "_view_count": null,
            "_view_module_version": "1.5.0",
            "orientation": "horizontal",
            "min": 0,
            "description_tooltip": null,
            "_model_module": "@jupyter-widgets/controls",
            "layout": "IPY_MODEL_f343729de4ac496fafcc35feb104cfea"
          }
        },
        "cc2b094518df43f3bd085a6dde1414bb": {
          "model_module": "@jupyter-widgets/controls",
          "model_name": "HTMLModel",
          "state": {
            "_view_name": "HTMLView",
            "style": "IPY_MODEL_563a78a3b7664f329d6daa7e3b94fbc9",
            "_dom_classes": [],
            "description": "",
            "_model_name": "HTMLModel",
            "placeholder": "​",
            "_view_module": "@jupyter-widgets/controls",
            "_model_module_version": "1.5.0",
            "value": " 2146/2146 [00:02&lt;00:00, 795.21it/s]",
            "_view_count": null,
            "_view_module_version": "1.5.0",
            "description_tooltip": null,
            "_model_module": "@jupyter-widgets/controls",
            "layout": "IPY_MODEL_b7c7abb1afae4032a60160779efd5e36"
          }
        },
        "e44f50633c5b489a9c230ca8a76b3de0": {
          "model_module": "@jupyter-widgets/controls",
          "model_name": "ProgressStyleModel",
          "state": {
            "_view_name": "StyleView",
            "_model_name": "ProgressStyleModel",
            "description_width": "initial",
            "_view_module": "@jupyter-widgets/base",
            "_model_module_version": "1.5.0",
            "_view_count": null,
            "_view_module_version": "1.2.0",
            "bar_color": null,
            "_model_module": "@jupyter-widgets/controls"
          }
        },
        "f343729de4ac496fafcc35feb104cfea": {
          "model_module": "@jupyter-widgets/base",
          "model_name": "LayoutModel",
          "state": {
            "_view_name": "LayoutView",
            "grid_template_rows": null,
            "right": null,
            "justify_content": null,
            "_view_module": "@jupyter-widgets/base",
            "overflow": null,
            "_model_module_version": "1.2.0",
            "_view_count": null,
            "flex_flow": null,
            "width": null,
            "min_width": null,
            "border": null,
            "align_items": null,
            "bottom": null,
            "_model_module": "@jupyter-widgets/base",
            "top": null,
            "grid_column": null,
            "overflow_y": null,
            "overflow_x": null,
            "grid_auto_flow": null,
            "grid_area": null,
            "grid_template_columns": null,
            "flex": null,
            "_model_name": "LayoutModel",
            "justify_items": null,
            "grid_row": null,
            "max_height": null,
            "align_content": null,
            "visibility": null,
            "align_self": null,
            "height": null,
            "min_height": null,
            "padding": null,
            "grid_auto_rows": null,
            "grid_gap": null,
            "max_width": null,
            "order": null,
            "_view_module_version": "1.2.0",
            "grid_template_areas": null,
            "object_position": null,
            "object_fit": null,
            "grid_auto_columns": null,
            "margin": null,
            "display": null,
            "left": null
          }
        },
        "563a78a3b7664f329d6daa7e3b94fbc9": {
          "model_module": "@jupyter-widgets/controls",
          "model_name": "DescriptionStyleModel",
          "state": {
            "_view_name": "StyleView",
            "_model_name": "DescriptionStyleModel",
            "description_width": "",
            "_view_module": "@jupyter-widgets/base",
            "_model_module_version": "1.5.0",
            "_view_count": null,
            "_view_module_version": "1.2.0",
            "_model_module": "@jupyter-widgets/controls"
          }
        },
        "b7c7abb1afae4032a60160779efd5e36": {
          "model_module": "@jupyter-widgets/base",
          "model_name": "LayoutModel",
          "state": {
            "_view_name": "LayoutView",
            "grid_template_rows": null,
            "right": null,
            "justify_content": null,
            "_view_module": "@jupyter-widgets/base",
            "overflow": null,
            "_model_module_version": "1.2.0",
            "_view_count": null,
            "flex_flow": null,
            "width": null,
            "min_width": null,
            "border": null,
            "align_items": null,
            "bottom": null,
            "_model_module": "@jupyter-widgets/base",
            "top": null,
            "grid_column": null,
            "overflow_y": null,
            "overflow_x": null,
            "grid_auto_flow": null,
            "grid_area": null,
            "grid_template_columns": null,
            "flex": null,
            "_model_name": "LayoutModel",
            "justify_items": null,
            "grid_row": null,
            "max_height": null,
            "align_content": null,
            "visibility": null,
            "align_self": null,
            "height": null,
            "min_height": null,
            "padding": null,
            "grid_auto_rows": null,
            "grid_gap": null,
            "max_width": null,
            "order": null,
            "_view_module_version": "1.2.0",
            "grid_template_areas": null,
            "object_position": null,
            "object_fit": null,
            "grid_auto_columns": null,
            "margin": null,
            "display": null,
            "left": null
          }
        },
        "602592f7937a47289ef90f5df15b9cee": {
          "model_module": "@jupyter-widgets/controls",
          "model_name": "HBoxModel",
          "state": {
            "_view_name": "HBoxView",
            "_dom_classes": [],
            "_model_name": "HBoxModel",
            "_view_module": "@jupyter-widgets/controls",
            "_model_module_version": "1.5.0",
            "_view_count": null,
            "_view_module_version": "1.5.0",
            "box_style": "",
            "layout": "IPY_MODEL_a9b1b32c741b4ca7871744320be78eef",
            "_model_module": "@jupyter-widgets/controls",
            "children": [
              "IPY_MODEL_4bec5bfdd2f24b299357cbc8ee1a6ce1",
              "IPY_MODEL_e7e8e0e9804945a6aa060be238d2ec38"
            ]
          }
        },
        "a9b1b32c741b4ca7871744320be78eef": {
          "model_module": "@jupyter-widgets/base",
          "model_name": "LayoutModel",
          "state": {
            "_view_name": "LayoutView",
            "grid_template_rows": null,
            "right": null,
            "justify_content": null,
            "_view_module": "@jupyter-widgets/base",
            "overflow": null,
            "_model_module_version": "1.2.0",
            "_view_count": null,
            "flex_flow": null,
            "width": null,
            "min_width": null,
            "border": null,
            "align_items": null,
            "bottom": null,
            "_model_module": "@jupyter-widgets/base",
            "top": null,
            "grid_column": null,
            "overflow_y": null,
            "overflow_x": null,
            "grid_auto_flow": null,
            "grid_area": null,
            "grid_template_columns": null,
            "flex": null,
            "_model_name": "LayoutModel",
            "justify_items": null,
            "grid_row": null,
            "max_height": null,
            "align_content": null,
            "visibility": null,
            "align_self": null,
            "height": null,
            "min_height": null,
            "padding": null,
            "grid_auto_rows": null,
            "grid_gap": null,
            "max_width": null,
            "order": null,
            "_view_module_version": "1.2.0",
            "grid_template_areas": null,
            "object_position": null,
            "object_fit": null,
            "grid_auto_columns": null,
            "margin": null,
            "display": null,
            "left": null
          }
        },
        "4bec5bfdd2f24b299357cbc8ee1a6ce1": {
          "model_module": "@jupyter-widgets/controls",
          "model_name": "FloatProgressModel",
          "state": {
            "_view_name": "ProgressView",
            "style": "IPY_MODEL_d259e6f52e3c4636b714646ea399f3e1",
            "_dom_classes": [],
            "description": "100%",
            "_model_name": "FloatProgressModel",
            "bar_style": "success",
            "max": 2146,
            "_view_module": "@jupyter-widgets/controls",
            "_model_module_version": "1.5.0",
            "value": 2146,
            "_view_count": null,
            "_view_module_version": "1.5.0",
            "orientation": "horizontal",
            "min": 0,
            "description_tooltip": null,
            "_model_module": "@jupyter-widgets/controls",
            "layout": "IPY_MODEL_6784a9f48f024507a4c15c3e0fa455bf"
          }
        },
        "e7e8e0e9804945a6aa060be238d2ec38": {
          "model_module": "@jupyter-widgets/controls",
          "model_name": "HTMLModel",
          "state": {
            "_view_name": "HTMLView",
            "style": "IPY_MODEL_ffb8df5891cb4cbfa13014bae08c678f",
            "_dom_classes": [],
            "description": "",
            "_model_name": "HTMLModel",
            "placeholder": "​",
            "_view_module": "@jupyter-widgets/controls",
            "_model_module_version": "1.5.0",
            "value": " 2146/2146 [00:00&lt;00:00, 19080.94it/s]",
            "_view_count": null,
            "_view_module_version": "1.5.0",
            "description_tooltip": null,
            "_model_module": "@jupyter-widgets/controls",
            "layout": "IPY_MODEL_af0d798bf03a4813b105eb01130b4e68"
          }
        },
        "d259e6f52e3c4636b714646ea399f3e1": {
          "model_module": "@jupyter-widgets/controls",
          "model_name": "ProgressStyleModel",
          "state": {
            "_view_name": "StyleView",
            "_model_name": "ProgressStyleModel",
            "description_width": "initial",
            "_view_module": "@jupyter-widgets/base",
            "_model_module_version": "1.5.0",
            "_view_count": null,
            "_view_module_version": "1.2.0",
            "bar_color": null,
            "_model_module": "@jupyter-widgets/controls"
          }
        },
        "6784a9f48f024507a4c15c3e0fa455bf": {
          "model_module": "@jupyter-widgets/base",
          "model_name": "LayoutModel",
          "state": {
            "_view_name": "LayoutView",
            "grid_template_rows": null,
            "right": null,
            "justify_content": null,
            "_view_module": "@jupyter-widgets/base",
            "overflow": null,
            "_model_module_version": "1.2.0",
            "_view_count": null,
            "flex_flow": null,
            "width": null,
            "min_width": null,
            "border": null,
            "align_items": null,
            "bottom": null,
            "_model_module": "@jupyter-widgets/base",
            "top": null,
            "grid_column": null,
            "overflow_y": null,
            "overflow_x": null,
            "grid_auto_flow": null,
            "grid_area": null,
            "grid_template_columns": null,
            "flex": null,
            "_model_name": "LayoutModel",
            "justify_items": null,
            "grid_row": null,
            "max_height": null,
            "align_content": null,
            "visibility": null,
            "align_self": null,
            "height": null,
            "min_height": null,
            "padding": null,
            "grid_auto_rows": null,
            "grid_gap": null,
            "max_width": null,
            "order": null,
            "_view_module_version": "1.2.0",
            "grid_template_areas": null,
            "object_position": null,
            "object_fit": null,
            "grid_auto_columns": null,
            "margin": null,
            "display": null,
            "left": null
          }
        },
        "ffb8df5891cb4cbfa13014bae08c678f": {
          "model_module": "@jupyter-widgets/controls",
          "model_name": "DescriptionStyleModel",
          "state": {
            "_view_name": "StyleView",
            "_model_name": "DescriptionStyleModel",
            "description_width": "",
            "_view_module": "@jupyter-widgets/base",
            "_model_module_version": "1.5.0",
            "_view_count": null,
            "_view_module_version": "1.2.0",
            "_model_module": "@jupyter-widgets/controls"
          }
        },
        "af0d798bf03a4813b105eb01130b4e68": {
          "model_module": "@jupyter-widgets/base",
          "model_name": "LayoutModel",
          "state": {
            "_view_name": "LayoutView",
            "grid_template_rows": null,
            "right": null,
            "justify_content": null,
            "_view_module": "@jupyter-widgets/base",
            "overflow": null,
            "_model_module_version": "1.2.0",
            "_view_count": null,
            "flex_flow": null,
            "width": null,
            "min_width": null,
            "border": null,
            "align_items": null,
            "bottom": null,
            "_model_module": "@jupyter-widgets/base",
            "top": null,
            "grid_column": null,
            "overflow_y": null,
            "overflow_x": null,
            "grid_auto_flow": null,
            "grid_area": null,
            "grid_template_columns": null,
            "flex": null,
            "_model_name": "LayoutModel",
            "justify_items": null,
            "grid_row": null,
            "max_height": null,
            "align_content": null,
            "visibility": null,
            "align_self": null,
            "height": null,
            "min_height": null,
            "padding": null,
            "grid_auto_rows": null,
            "grid_gap": null,
            "max_width": null,
            "order": null,
            "_view_module_version": "1.2.0",
            "grid_template_areas": null,
            "object_position": null,
            "object_fit": null,
            "grid_auto_columns": null,
            "margin": null,
            "display": null,
            "left": null
          }
        },
        "84349b7d6579480790348fd23fd8f16d": {
          "model_module": "@jupyter-widgets/controls",
          "model_name": "HBoxModel",
          "state": {
            "_view_name": "HBoxView",
            "_dom_classes": [],
            "_model_name": "HBoxModel",
            "_view_module": "@jupyter-widgets/controls",
            "_model_module_version": "1.5.0",
            "_view_count": null,
            "_view_module_version": "1.5.0",
            "box_style": "",
            "layout": "IPY_MODEL_0ee1388b6a51486a80cff760413232a7",
            "_model_module": "@jupyter-widgets/controls",
            "children": [
              "IPY_MODEL_5fa81b7b298e4ca49b465a84c6a3d2be",
              "IPY_MODEL_1c8ae3edb8c84033a5114c9256ecbb78"
            ]
          }
        },
        "0ee1388b6a51486a80cff760413232a7": {
          "model_module": "@jupyter-widgets/base",
          "model_name": "LayoutModel",
          "state": {
            "_view_name": "LayoutView",
            "grid_template_rows": null,
            "right": null,
            "justify_content": null,
            "_view_module": "@jupyter-widgets/base",
            "overflow": null,
            "_model_module_version": "1.2.0",
            "_view_count": null,
            "flex_flow": null,
            "width": null,
            "min_width": null,
            "border": null,
            "align_items": null,
            "bottom": null,
            "_model_module": "@jupyter-widgets/base",
            "top": null,
            "grid_column": null,
            "overflow_y": null,
            "overflow_x": null,
            "grid_auto_flow": null,
            "grid_area": null,
            "grid_template_columns": null,
            "flex": null,
            "_model_name": "LayoutModel",
            "justify_items": null,
            "grid_row": null,
            "max_height": null,
            "align_content": null,
            "visibility": null,
            "align_self": null,
            "height": null,
            "min_height": null,
            "padding": null,
            "grid_auto_rows": null,
            "grid_gap": null,
            "max_width": null,
            "order": null,
            "_view_module_version": "1.2.0",
            "grid_template_areas": null,
            "object_position": null,
            "object_fit": null,
            "grid_auto_columns": null,
            "margin": null,
            "display": null,
            "left": null
          }
        },
        "5fa81b7b298e4ca49b465a84c6a3d2be": {
          "model_module": "@jupyter-widgets/controls",
          "model_name": "FloatProgressModel",
          "state": {
            "_view_name": "ProgressView",
            "style": "IPY_MODEL_2e91f7ee36be422a9f8e60f5e856e703",
            "_dom_classes": [],
            "description": "100%",
            "_model_name": "FloatProgressModel",
            "bar_style": "success",
            "max": 2146,
            "_view_module": "@jupyter-widgets/controls",
            "_model_module_version": "1.5.0",
            "value": 2146,
            "_view_count": null,
            "_view_module_version": "1.5.0",
            "orientation": "horizontal",
            "min": 0,
            "description_tooltip": null,
            "_model_module": "@jupyter-widgets/controls",
            "layout": "IPY_MODEL_ba74272bd99a4323bf8083ee3c3a60cc"
          }
        },
        "1c8ae3edb8c84033a5114c9256ecbb78": {
          "model_module": "@jupyter-widgets/controls",
          "model_name": "HTMLModel",
          "state": {
            "_view_name": "HTMLView",
            "style": "IPY_MODEL_b1666a17cc004774bea39c6a1ea768d6",
            "_dom_classes": [],
            "description": "",
            "_model_name": "HTMLModel",
            "placeholder": "​",
            "_view_module": "@jupyter-widgets/controls",
            "_model_module_version": "1.5.0",
            "value": " 2146/2146 [03:34&lt;00:00,  9.98it/s]",
            "_view_count": null,
            "_view_module_version": "1.5.0",
            "description_tooltip": null,
            "_model_module": "@jupyter-widgets/controls",
            "layout": "IPY_MODEL_d66b15e5d4164a36998d79741de84c59"
          }
        },
        "2e91f7ee36be422a9f8e60f5e856e703": {
          "model_module": "@jupyter-widgets/controls",
          "model_name": "ProgressStyleModel",
          "state": {
            "_view_name": "StyleView",
            "_model_name": "ProgressStyleModel",
            "description_width": "initial",
            "_view_module": "@jupyter-widgets/base",
            "_model_module_version": "1.5.0",
            "_view_count": null,
            "_view_module_version": "1.2.0",
            "bar_color": null,
            "_model_module": "@jupyter-widgets/controls"
          }
        },
        "ba74272bd99a4323bf8083ee3c3a60cc": {
          "model_module": "@jupyter-widgets/base",
          "model_name": "LayoutModel",
          "state": {
            "_view_name": "LayoutView",
            "grid_template_rows": null,
            "right": null,
            "justify_content": null,
            "_view_module": "@jupyter-widgets/base",
            "overflow": null,
            "_model_module_version": "1.2.0",
            "_view_count": null,
            "flex_flow": null,
            "width": null,
            "min_width": null,
            "border": null,
            "align_items": null,
            "bottom": null,
            "_model_module": "@jupyter-widgets/base",
            "top": null,
            "grid_column": null,
            "overflow_y": null,
            "overflow_x": null,
            "grid_auto_flow": null,
            "grid_area": null,
            "grid_template_columns": null,
            "flex": null,
            "_model_name": "LayoutModel",
            "justify_items": null,
            "grid_row": null,
            "max_height": null,
            "align_content": null,
            "visibility": null,
            "align_self": null,
            "height": null,
            "min_height": null,
            "padding": null,
            "grid_auto_rows": null,
            "grid_gap": null,
            "max_width": null,
            "order": null,
            "_view_module_version": "1.2.0",
            "grid_template_areas": null,
            "object_position": null,
            "object_fit": null,
            "grid_auto_columns": null,
            "margin": null,
            "display": null,
            "left": null
          }
        },
        "b1666a17cc004774bea39c6a1ea768d6": {
          "model_module": "@jupyter-widgets/controls",
          "model_name": "DescriptionStyleModel",
          "state": {
            "_view_name": "StyleView",
            "_model_name": "DescriptionStyleModel",
            "description_width": "",
            "_view_module": "@jupyter-widgets/base",
            "_model_module_version": "1.5.0",
            "_view_count": null,
            "_view_module_version": "1.2.0",
            "_model_module": "@jupyter-widgets/controls"
          }
        },
        "d66b15e5d4164a36998d79741de84c59": {
          "model_module": "@jupyter-widgets/base",
          "model_name": "LayoutModel",
          "state": {
            "_view_name": "LayoutView",
            "grid_template_rows": null,
            "right": null,
            "justify_content": null,
            "_view_module": "@jupyter-widgets/base",
            "overflow": null,
            "_model_module_version": "1.2.0",
            "_view_count": null,
            "flex_flow": null,
            "width": null,
            "min_width": null,
            "border": null,
            "align_items": null,
            "bottom": null,
            "_model_module": "@jupyter-widgets/base",
            "top": null,
            "grid_column": null,
            "overflow_y": null,
            "overflow_x": null,
            "grid_auto_flow": null,
            "grid_area": null,
            "grid_template_columns": null,
            "flex": null,
            "_model_name": "LayoutModel",
            "justify_items": null,
            "grid_row": null,
            "max_height": null,
            "align_content": null,
            "visibility": null,
            "align_self": null,
            "height": null,
            "min_height": null,
            "padding": null,
            "grid_auto_rows": null,
            "grid_gap": null,
            "max_width": null,
            "order": null,
            "_view_module_version": "1.2.0",
            "grid_template_areas": null,
            "object_position": null,
            "object_fit": null,
            "grid_auto_columns": null,
            "margin": null,
            "display": null,
            "left": null
          }
        },
        "8bb5887e91d840258e4f04688e4ff024": {
          "model_module": "@jupyter-widgets/controls",
          "model_name": "HBoxModel",
          "state": {
            "_view_name": "HBoxView",
            "_dom_classes": [],
            "_model_name": "HBoxModel",
            "_view_module": "@jupyter-widgets/controls",
            "_model_module_version": "1.5.0",
            "_view_count": null,
            "_view_module_version": "1.5.0",
            "box_style": "",
            "layout": "IPY_MODEL_42595cb47bb24aa1a0ab01a8f92034bc",
            "_model_module": "@jupyter-widgets/controls",
            "children": [
              "IPY_MODEL_d5a474cf462e455a97901976da90cafa",
              "IPY_MODEL_9333f1324a4b443fa9628a6532d5113a"
            ]
          }
        },
        "42595cb47bb24aa1a0ab01a8f92034bc": {
          "model_module": "@jupyter-widgets/base",
          "model_name": "LayoutModel",
          "state": {
            "_view_name": "LayoutView",
            "grid_template_rows": null,
            "right": null,
            "justify_content": null,
            "_view_module": "@jupyter-widgets/base",
            "overflow": null,
            "_model_module_version": "1.2.0",
            "_view_count": null,
            "flex_flow": null,
            "width": null,
            "min_width": null,
            "border": null,
            "align_items": null,
            "bottom": null,
            "_model_module": "@jupyter-widgets/base",
            "top": null,
            "grid_column": null,
            "overflow_y": null,
            "overflow_x": null,
            "grid_auto_flow": null,
            "grid_area": null,
            "grid_template_columns": null,
            "flex": null,
            "_model_name": "LayoutModel",
            "justify_items": null,
            "grid_row": null,
            "max_height": null,
            "align_content": null,
            "visibility": null,
            "align_self": null,
            "height": null,
            "min_height": null,
            "padding": null,
            "grid_auto_rows": null,
            "grid_gap": null,
            "max_width": null,
            "order": null,
            "_view_module_version": "1.2.0",
            "grid_template_areas": null,
            "object_position": null,
            "object_fit": null,
            "grid_auto_columns": null,
            "margin": null,
            "display": null,
            "left": null
          }
        },
        "d5a474cf462e455a97901976da90cafa": {
          "model_module": "@jupyter-widgets/controls",
          "model_name": "FloatProgressModel",
          "state": {
            "_view_name": "ProgressView",
            "style": "IPY_MODEL_1693361b9fe14ecba3a1aa2da70bb174",
            "_dom_classes": [],
            "description": "100%",
            "_model_name": "FloatProgressModel",
            "bar_style": "success",
            "max": 2146,
            "_view_module": "@jupyter-widgets/controls",
            "_model_module_version": "1.5.0",
            "value": 2146,
            "_view_count": null,
            "_view_module_version": "1.5.0",
            "orientation": "horizontal",
            "min": 0,
            "description_tooltip": null,
            "_model_module": "@jupyter-widgets/controls",
            "layout": "IPY_MODEL_78f0710c755048a2b187fbd3adf7c21e"
          }
        },
        "9333f1324a4b443fa9628a6532d5113a": {
          "model_module": "@jupyter-widgets/controls",
          "model_name": "HTMLModel",
          "state": {
            "_view_name": "HTMLView",
            "style": "IPY_MODEL_e2b38b955a274b40aad2f6a598efdeb1",
            "_dom_classes": [],
            "description": "",
            "_model_name": "HTMLModel",
            "placeholder": "​",
            "_view_module": "@jupyter-widgets/controls",
            "_model_module_version": "1.5.0",
            "value": " 2146/2146 [01:48&lt;00:00, 19.87it/s]",
            "_view_count": null,
            "_view_module_version": "1.5.0",
            "description_tooltip": null,
            "_model_module": "@jupyter-widgets/controls",
            "layout": "IPY_MODEL_a4ff3660100f4c1ea4d05ea39d28517b"
          }
        },
        "1693361b9fe14ecba3a1aa2da70bb174": {
          "model_module": "@jupyter-widgets/controls",
          "model_name": "ProgressStyleModel",
          "state": {
            "_view_name": "StyleView",
            "_model_name": "ProgressStyleModel",
            "description_width": "initial",
            "_view_module": "@jupyter-widgets/base",
            "_model_module_version": "1.5.0",
            "_view_count": null,
            "_view_module_version": "1.2.0",
            "bar_color": null,
            "_model_module": "@jupyter-widgets/controls"
          }
        },
        "78f0710c755048a2b187fbd3adf7c21e": {
          "model_module": "@jupyter-widgets/base",
          "model_name": "LayoutModel",
          "state": {
            "_view_name": "LayoutView",
            "grid_template_rows": null,
            "right": null,
            "justify_content": null,
            "_view_module": "@jupyter-widgets/base",
            "overflow": null,
            "_model_module_version": "1.2.0",
            "_view_count": null,
            "flex_flow": null,
            "width": null,
            "min_width": null,
            "border": null,
            "align_items": null,
            "bottom": null,
            "_model_module": "@jupyter-widgets/base",
            "top": null,
            "grid_column": null,
            "overflow_y": null,
            "overflow_x": null,
            "grid_auto_flow": null,
            "grid_area": null,
            "grid_template_columns": null,
            "flex": null,
            "_model_name": "LayoutModel",
            "justify_items": null,
            "grid_row": null,
            "max_height": null,
            "align_content": null,
            "visibility": null,
            "align_self": null,
            "height": null,
            "min_height": null,
            "padding": null,
            "grid_auto_rows": null,
            "grid_gap": null,
            "max_width": null,
            "order": null,
            "_view_module_version": "1.2.0",
            "grid_template_areas": null,
            "object_position": null,
            "object_fit": null,
            "grid_auto_columns": null,
            "margin": null,
            "display": null,
            "left": null
          }
        },
        "e2b38b955a274b40aad2f6a598efdeb1": {
          "model_module": "@jupyter-widgets/controls",
          "model_name": "DescriptionStyleModel",
          "state": {
            "_view_name": "StyleView",
            "_model_name": "DescriptionStyleModel",
            "description_width": "",
            "_view_module": "@jupyter-widgets/base",
            "_model_module_version": "1.5.0",
            "_view_count": null,
            "_view_module_version": "1.2.0",
            "_model_module": "@jupyter-widgets/controls"
          }
        },
        "a4ff3660100f4c1ea4d05ea39d28517b": {
          "model_module": "@jupyter-widgets/base",
          "model_name": "LayoutModel",
          "state": {
            "_view_name": "LayoutView",
            "grid_template_rows": null,
            "right": null,
            "justify_content": null,
            "_view_module": "@jupyter-widgets/base",
            "overflow": null,
            "_model_module_version": "1.2.0",
            "_view_count": null,
            "flex_flow": null,
            "width": null,
            "min_width": null,
            "border": null,
            "align_items": null,
            "bottom": null,
            "_model_module": "@jupyter-widgets/base",
            "top": null,
            "grid_column": null,
            "overflow_y": null,
            "overflow_x": null,
            "grid_auto_flow": null,
            "grid_area": null,
            "grid_template_columns": null,
            "flex": null,
            "_model_name": "LayoutModel",
            "justify_items": null,
            "grid_row": null,
            "max_height": null,
            "align_content": null,
            "visibility": null,
            "align_self": null,
            "height": null,
            "min_height": null,
            "padding": null,
            "grid_auto_rows": null,
            "grid_gap": null,
            "max_width": null,
            "order": null,
            "_view_module_version": "1.2.0",
            "grid_template_areas": null,
            "object_position": null,
            "object_fit": null,
            "grid_auto_columns": null,
            "margin": null,
            "display": null,
            "left": null
          }
        },
        "180eac61f36740648746b6f79472b819": {
          "model_module": "@jupyter-widgets/controls",
          "model_name": "HBoxModel",
          "state": {
            "_view_name": "HBoxView",
            "_dom_classes": [],
            "_model_name": "HBoxModel",
            "_view_module": "@jupyter-widgets/controls",
            "_model_module_version": "1.5.0",
            "_view_count": null,
            "_view_module_version": "1.5.0",
            "box_style": "",
            "layout": "IPY_MODEL_40e182e2e99e484cac6ee048a9c8f947",
            "_model_module": "@jupyter-widgets/controls",
            "children": [
              "IPY_MODEL_642667755a284bf8b2851bcac4c16d3b",
              "IPY_MODEL_ef380096ade04985a752ec06c0c6e4bb"
            ]
          }
        },
        "40e182e2e99e484cac6ee048a9c8f947": {
          "model_module": "@jupyter-widgets/base",
          "model_name": "LayoutModel",
          "state": {
            "_view_name": "LayoutView",
            "grid_template_rows": null,
            "right": null,
            "justify_content": null,
            "_view_module": "@jupyter-widgets/base",
            "overflow": null,
            "_model_module_version": "1.2.0",
            "_view_count": null,
            "flex_flow": null,
            "width": null,
            "min_width": null,
            "border": null,
            "align_items": null,
            "bottom": null,
            "_model_module": "@jupyter-widgets/base",
            "top": null,
            "grid_column": null,
            "overflow_y": null,
            "overflow_x": null,
            "grid_auto_flow": null,
            "grid_area": null,
            "grid_template_columns": null,
            "flex": null,
            "_model_name": "LayoutModel",
            "justify_items": null,
            "grid_row": null,
            "max_height": null,
            "align_content": null,
            "visibility": null,
            "align_self": null,
            "height": null,
            "min_height": null,
            "padding": null,
            "grid_auto_rows": null,
            "grid_gap": null,
            "max_width": null,
            "order": null,
            "_view_module_version": "1.2.0",
            "grid_template_areas": null,
            "object_position": null,
            "object_fit": null,
            "grid_auto_columns": null,
            "margin": null,
            "display": null,
            "left": null
          }
        },
        "642667755a284bf8b2851bcac4c16d3b": {
          "model_module": "@jupyter-widgets/controls",
          "model_name": "FloatProgressModel",
          "state": {
            "_view_name": "ProgressView",
            "style": "IPY_MODEL_db995134749144da88f42b37ae5cabfc",
            "_dom_classes": [],
            "description": "100%",
            "_model_name": "FloatProgressModel",
            "bar_style": "success",
            "max": 2146,
            "_view_module": "@jupyter-widgets/controls",
            "_model_module_version": "1.5.0",
            "value": 2146,
            "_view_count": null,
            "_view_module_version": "1.5.0",
            "orientation": "horizontal",
            "min": 0,
            "description_tooltip": null,
            "_model_module": "@jupyter-widgets/controls",
            "layout": "IPY_MODEL_f205f88c89da4155b506dd9eeac532bf"
          }
        },
        "ef380096ade04985a752ec06c0c6e4bb": {
          "model_module": "@jupyter-widgets/controls",
          "model_name": "HTMLModel",
          "state": {
            "_view_name": "HTMLView",
            "style": "IPY_MODEL_8df9dc57ad7c48f7ab4b57ed1bbb36f0",
            "_dom_classes": [],
            "description": "",
            "_model_name": "HTMLModel",
            "placeholder": "​",
            "_view_module": "@jupyter-widgets/controls",
            "_model_module_version": "1.5.0",
            "value": " 2146/2146 [01:45&lt;00:00, 20.38it/s]",
            "_view_count": null,
            "_view_module_version": "1.5.0",
            "description_tooltip": null,
            "_model_module": "@jupyter-widgets/controls",
            "layout": "IPY_MODEL_baeff6c20322460c9d1f8a13d5c29c3a"
          }
        },
        "db995134749144da88f42b37ae5cabfc": {
          "model_module": "@jupyter-widgets/controls",
          "model_name": "ProgressStyleModel",
          "state": {
            "_view_name": "StyleView",
            "_model_name": "ProgressStyleModel",
            "description_width": "initial",
            "_view_module": "@jupyter-widgets/base",
            "_model_module_version": "1.5.0",
            "_view_count": null,
            "_view_module_version": "1.2.0",
            "bar_color": null,
            "_model_module": "@jupyter-widgets/controls"
          }
        },
        "f205f88c89da4155b506dd9eeac532bf": {
          "model_module": "@jupyter-widgets/base",
          "model_name": "LayoutModel",
          "state": {
            "_view_name": "LayoutView",
            "grid_template_rows": null,
            "right": null,
            "justify_content": null,
            "_view_module": "@jupyter-widgets/base",
            "overflow": null,
            "_model_module_version": "1.2.0",
            "_view_count": null,
            "flex_flow": null,
            "width": null,
            "min_width": null,
            "border": null,
            "align_items": null,
            "bottom": null,
            "_model_module": "@jupyter-widgets/base",
            "top": null,
            "grid_column": null,
            "overflow_y": null,
            "overflow_x": null,
            "grid_auto_flow": null,
            "grid_area": null,
            "grid_template_columns": null,
            "flex": null,
            "_model_name": "LayoutModel",
            "justify_items": null,
            "grid_row": null,
            "max_height": null,
            "align_content": null,
            "visibility": null,
            "align_self": null,
            "height": null,
            "min_height": null,
            "padding": null,
            "grid_auto_rows": null,
            "grid_gap": null,
            "max_width": null,
            "order": null,
            "_view_module_version": "1.2.0",
            "grid_template_areas": null,
            "object_position": null,
            "object_fit": null,
            "grid_auto_columns": null,
            "margin": null,
            "display": null,
            "left": null
          }
        },
        "8df9dc57ad7c48f7ab4b57ed1bbb36f0": {
          "model_module": "@jupyter-widgets/controls",
          "model_name": "DescriptionStyleModel",
          "state": {
            "_view_name": "StyleView",
            "_model_name": "DescriptionStyleModel",
            "description_width": "",
            "_view_module": "@jupyter-widgets/base",
            "_model_module_version": "1.5.0",
            "_view_count": null,
            "_view_module_version": "1.2.0",
            "_model_module": "@jupyter-widgets/controls"
          }
        },
        "baeff6c20322460c9d1f8a13d5c29c3a": {
          "model_module": "@jupyter-widgets/base",
          "model_name": "LayoutModel",
          "state": {
            "_view_name": "LayoutView",
            "grid_template_rows": null,
            "right": null,
            "justify_content": null,
            "_view_module": "@jupyter-widgets/base",
            "overflow": null,
            "_model_module_version": "1.2.0",
            "_view_count": null,
            "flex_flow": null,
            "width": null,
            "min_width": null,
            "border": null,
            "align_items": null,
            "bottom": null,
            "_model_module": "@jupyter-widgets/base",
            "top": null,
            "grid_column": null,
            "overflow_y": null,
            "overflow_x": null,
            "grid_auto_flow": null,
            "grid_area": null,
            "grid_template_columns": null,
            "flex": null,
            "_model_name": "LayoutModel",
            "justify_items": null,
            "grid_row": null,
            "max_height": null,
            "align_content": null,
            "visibility": null,
            "align_self": null,
            "height": null,
            "min_height": null,
            "padding": null,
            "grid_auto_rows": null,
            "grid_gap": null,
            "max_width": null,
            "order": null,
            "_view_module_version": "1.2.0",
            "grid_template_areas": null,
            "object_position": null,
            "object_fit": null,
            "grid_auto_columns": null,
            "margin": null,
            "display": null,
            "left": null
          }
        },
        "e951f9bfd4b147f184ddeaaff1c8bff8": {
          "model_module": "@jupyter-widgets/controls",
          "model_name": "HBoxModel",
          "state": {
            "_view_name": "HBoxView",
            "_dom_classes": [],
            "_model_name": "HBoxModel",
            "_view_module": "@jupyter-widgets/controls",
            "_model_module_version": "1.5.0",
            "_view_count": null,
            "_view_module_version": "1.5.0",
            "box_style": "",
            "layout": "IPY_MODEL_8066844b3c02451f8866373cc176a834",
            "_model_module": "@jupyter-widgets/controls",
            "children": [
              "IPY_MODEL_97a80209887d4e1ebd366554b25bd20b",
              "IPY_MODEL_1383df1421d547af8d0f030fa6b78902"
            ]
          }
        },
        "8066844b3c02451f8866373cc176a834": {
          "model_module": "@jupyter-widgets/base",
          "model_name": "LayoutModel",
          "state": {
            "_view_name": "LayoutView",
            "grid_template_rows": null,
            "right": null,
            "justify_content": null,
            "_view_module": "@jupyter-widgets/base",
            "overflow": null,
            "_model_module_version": "1.2.0",
            "_view_count": null,
            "flex_flow": null,
            "width": null,
            "min_width": null,
            "border": null,
            "align_items": null,
            "bottom": null,
            "_model_module": "@jupyter-widgets/base",
            "top": null,
            "grid_column": null,
            "overflow_y": null,
            "overflow_x": null,
            "grid_auto_flow": null,
            "grid_area": null,
            "grid_template_columns": null,
            "flex": null,
            "_model_name": "LayoutModel",
            "justify_items": null,
            "grid_row": null,
            "max_height": null,
            "align_content": null,
            "visibility": null,
            "align_self": null,
            "height": null,
            "min_height": null,
            "padding": null,
            "grid_auto_rows": null,
            "grid_gap": null,
            "max_width": null,
            "order": null,
            "_view_module_version": "1.2.0",
            "grid_template_areas": null,
            "object_position": null,
            "object_fit": null,
            "grid_auto_columns": null,
            "margin": null,
            "display": null,
            "left": null
          }
        },
        "97a80209887d4e1ebd366554b25bd20b": {
          "model_module": "@jupyter-widgets/controls",
          "model_name": "FloatProgressModel",
          "state": {
            "_view_name": "ProgressView",
            "style": "IPY_MODEL_b365cdadafff41d2af35d5180f4e6baf",
            "_dom_classes": [],
            "description": "100%",
            "_model_name": "FloatProgressModel",
            "bar_style": "success",
            "max": 2146,
            "_view_module": "@jupyter-widgets/controls",
            "_model_module_version": "1.5.0",
            "value": 2146,
            "_view_count": null,
            "_view_module_version": "1.5.0",
            "orientation": "horizontal",
            "min": 0,
            "description_tooltip": null,
            "_model_module": "@jupyter-widgets/controls",
            "layout": "IPY_MODEL_0edda8ddad964d4aa59e25e0b65d3b27"
          }
        },
        "1383df1421d547af8d0f030fa6b78902": {
          "model_module": "@jupyter-widgets/controls",
          "model_name": "HTMLModel",
          "state": {
            "_view_name": "HTMLView",
            "style": "IPY_MODEL_18068d0748d041d39ef699a3a6104cb2",
            "_dom_classes": [],
            "description": "",
            "_model_name": "HTMLModel",
            "placeholder": "​",
            "_view_module": "@jupyter-widgets/controls",
            "_model_module_version": "1.5.0",
            "value": " 2146/2146 [01:45&lt;00:00, 20.39it/s]",
            "_view_count": null,
            "_view_module_version": "1.5.0",
            "description_tooltip": null,
            "_model_module": "@jupyter-widgets/controls",
            "layout": "IPY_MODEL_0f51d0c52d0445aca78ef958bd66e907"
          }
        },
        "b365cdadafff41d2af35d5180f4e6baf": {
          "model_module": "@jupyter-widgets/controls",
          "model_name": "ProgressStyleModel",
          "state": {
            "_view_name": "StyleView",
            "_model_name": "ProgressStyleModel",
            "description_width": "initial",
            "_view_module": "@jupyter-widgets/base",
            "_model_module_version": "1.5.0",
            "_view_count": null,
            "_view_module_version": "1.2.0",
            "bar_color": null,
            "_model_module": "@jupyter-widgets/controls"
          }
        },
        "0edda8ddad964d4aa59e25e0b65d3b27": {
          "model_module": "@jupyter-widgets/base",
          "model_name": "LayoutModel",
          "state": {
            "_view_name": "LayoutView",
            "grid_template_rows": null,
            "right": null,
            "justify_content": null,
            "_view_module": "@jupyter-widgets/base",
            "overflow": null,
            "_model_module_version": "1.2.0",
            "_view_count": null,
            "flex_flow": null,
            "width": null,
            "min_width": null,
            "border": null,
            "align_items": null,
            "bottom": null,
            "_model_module": "@jupyter-widgets/base",
            "top": null,
            "grid_column": null,
            "overflow_y": null,
            "overflow_x": null,
            "grid_auto_flow": null,
            "grid_area": null,
            "grid_template_columns": null,
            "flex": null,
            "_model_name": "LayoutModel",
            "justify_items": null,
            "grid_row": null,
            "max_height": null,
            "align_content": null,
            "visibility": null,
            "align_self": null,
            "height": null,
            "min_height": null,
            "padding": null,
            "grid_auto_rows": null,
            "grid_gap": null,
            "max_width": null,
            "order": null,
            "_view_module_version": "1.2.0",
            "grid_template_areas": null,
            "object_position": null,
            "object_fit": null,
            "grid_auto_columns": null,
            "margin": null,
            "display": null,
            "left": null
          }
        },
        "18068d0748d041d39ef699a3a6104cb2": {
          "model_module": "@jupyter-widgets/controls",
          "model_name": "DescriptionStyleModel",
          "state": {
            "_view_name": "StyleView",
            "_model_name": "DescriptionStyleModel",
            "description_width": "",
            "_view_module": "@jupyter-widgets/base",
            "_model_module_version": "1.5.0",
            "_view_count": null,
            "_view_module_version": "1.2.0",
            "_model_module": "@jupyter-widgets/controls"
          }
        },
        "0f51d0c52d0445aca78ef958bd66e907": {
          "model_module": "@jupyter-widgets/base",
          "model_name": "LayoutModel",
          "state": {
            "_view_name": "LayoutView",
            "grid_template_rows": null,
            "right": null,
            "justify_content": null,
            "_view_module": "@jupyter-widgets/base",
            "overflow": null,
            "_model_module_version": "1.2.0",
            "_view_count": null,
            "flex_flow": null,
            "width": null,
            "min_width": null,
            "border": null,
            "align_items": null,
            "bottom": null,
            "_model_module": "@jupyter-widgets/base",
            "top": null,
            "grid_column": null,
            "overflow_y": null,
            "overflow_x": null,
            "grid_auto_flow": null,
            "grid_area": null,
            "grid_template_columns": null,
            "flex": null,
            "_model_name": "LayoutModel",
            "justify_items": null,
            "grid_row": null,
            "max_height": null,
            "align_content": null,
            "visibility": null,
            "align_self": null,
            "height": null,
            "min_height": null,
            "padding": null,
            "grid_auto_rows": null,
            "grid_gap": null,
            "max_width": null,
            "order": null,
            "_view_module_version": "1.2.0",
            "grid_template_areas": null,
            "object_position": null,
            "object_fit": null,
            "grid_auto_columns": null,
            "margin": null,
            "display": null,
            "left": null
          }
        },
        "12d3889390174e9ca69e097466223bca": {
          "model_module": "@jupyter-widgets/controls",
          "model_name": "HBoxModel",
          "state": {
            "_view_name": "HBoxView",
            "_dom_classes": [],
            "_model_name": "HBoxModel",
            "_view_module": "@jupyter-widgets/controls",
            "_model_module_version": "1.5.0",
            "_view_count": null,
            "_view_module_version": "1.5.0",
            "box_style": "",
            "layout": "IPY_MODEL_50236dfc69e543b5b8cfd33fd7e905a7",
            "_model_module": "@jupyter-widgets/controls",
            "children": [
              "IPY_MODEL_fd95673c8de746f0b6ed604513ad9740",
              "IPY_MODEL_b8dd96d878c746ed9e17b785715926ba"
            ]
          }
        },
        "50236dfc69e543b5b8cfd33fd7e905a7": {
          "model_module": "@jupyter-widgets/base",
          "model_name": "LayoutModel",
          "state": {
            "_view_name": "LayoutView",
            "grid_template_rows": null,
            "right": null,
            "justify_content": null,
            "_view_module": "@jupyter-widgets/base",
            "overflow": null,
            "_model_module_version": "1.2.0",
            "_view_count": null,
            "flex_flow": null,
            "width": null,
            "min_width": null,
            "border": null,
            "align_items": null,
            "bottom": null,
            "_model_module": "@jupyter-widgets/base",
            "top": null,
            "grid_column": null,
            "overflow_y": null,
            "overflow_x": null,
            "grid_auto_flow": null,
            "grid_area": null,
            "grid_template_columns": null,
            "flex": null,
            "_model_name": "LayoutModel",
            "justify_items": null,
            "grid_row": null,
            "max_height": null,
            "align_content": null,
            "visibility": null,
            "align_self": null,
            "height": null,
            "min_height": null,
            "padding": null,
            "grid_auto_rows": null,
            "grid_gap": null,
            "max_width": null,
            "order": null,
            "_view_module_version": "1.2.0",
            "grid_template_areas": null,
            "object_position": null,
            "object_fit": null,
            "grid_auto_columns": null,
            "margin": null,
            "display": null,
            "left": null
          }
        },
        "fd95673c8de746f0b6ed604513ad9740": {
          "model_module": "@jupyter-widgets/controls",
          "model_name": "FloatProgressModel",
          "state": {
            "_view_name": "ProgressView",
            "style": "IPY_MODEL_d06d525caaf2459085e2d3fff1b90c77",
            "_dom_classes": [],
            "description": "100%",
            "_model_name": "FloatProgressModel",
            "bar_style": "success",
            "max": 2146,
            "_view_module": "@jupyter-widgets/controls",
            "_model_module_version": "1.5.0",
            "value": 2146,
            "_view_count": null,
            "_view_module_version": "1.5.0",
            "orientation": "horizontal",
            "min": 0,
            "description_tooltip": null,
            "_model_module": "@jupyter-widgets/controls",
            "layout": "IPY_MODEL_c6f4739c138a4243a3c0e1939f321c22"
          }
        },
        "b8dd96d878c746ed9e17b785715926ba": {
          "model_module": "@jupyter-widgets/controls",
          "model_name": "HTMLModel",
          "state": {
            "_view_name": "HTMLView",
            "style": "IPY_MODEL_884524ad764c4708b3eaea8e843f4a3c",
            "_dom_classes": [],
            "description": "",
            "_model_name": "HTMLModel",
            "placeholder": "​",
            "_view_module": "@jupyter-widgets/controls",
            "_model_module_version": "1.5.0",
            "value": " 2146/2146 [00:00&lt;00:00, 28934.14it/s]",
            "_view_count": null,
            "_view_module_version": "1.5.0",
            "description_tooltip": null,
            "_model_module": "@jupyter-widgets/controls",
            "layout": "IPY_MODEL_af45aa4eaa174fee81ed7b43ad8f25bd"
          }
        },
        "d06d525caaf2459085e2d3fff1b90c77": {
          "model_module": "@jupyter-widgets/controls",
          "model_name": "ProgressStyleModel",
          "state": {
            "_view_name": "StyleView",
            "_model_name": "ProgressStyleModel",
            "description_width": "initial",
            "_view_module": "@jupyter-widgets/base",
            "_model_module_version": "1.5.0",
            "_view_count": null,
            "_view_module_version": "1.2.0",
            "bar_color": null,
            "_model_module": "@jupyter-widgets/controls"
          }
        },
        "c6f4739c138a4243a3c0e1939f321c22": {
          "model_module": "@jupyter-widgets/base",
          "model_name": "LayoutModel",
          "state": {
            "_view_name": "LayoutView",
            "grid_template_rows": null,
            "right": null,
            "justify_content": null,
            "_view_module": "@jupyter-widgets/base",
            "overflow": null,
            "_model_module_version": "1.2.0",
            "_view_count": null,
            "flex_flow": null,
            "width": null,
            "min_width": null,
            "border": null,
            "align_items": null,
            "bottom": null,
            "_model_module": "@jupyter-widgets/base",
            "top": null,
            "grid_column": null,
            "overflow_y": null,
            "overflow_x": null,
            "grid_auto_flow": null,
            "grid_area": null,
            "grid_template_columns": null,
            "flex": null,
            "_model_name": "LayoutModel",
            "justify_items": null,
            "grid_row": null,
            "max_height": null,
            "align_content": null,
            "visibility": null,
            "align_self": null,
            "height": null,
            "min_height": null,
            "padding": null,
            "grid_auto_rows": null,
            "grid_gap": null,
            "max_width": null,
            "order": null,
            "_view_module_version": "1.2.0",
            "grid_template_areas": null,
            "object_position": null,
            "object_fit": null,
            "grid_auto_columns": null,
            "margin": null,
            "display": null,
            "left": null
          }
        },
        "884524ad764c4708b3eaea8e843f4a3c": {
          "model_module": "@jupyter-widgets/controls",
          "model_name": "DescriptionStyleModel",
          "state": {
            "_view_name": "StyleView",
            "_model_name": "DescriptionStyleModel",
            "description_width": "",
            "_view_module": "@jupyter-widgets/base",
            "_model_module_version": "1.5.0",
            "_view_count": null,
            "_view_module_version": "1.2.0",
            "_model_module": "@jupyter-widgets/controls"
          }
        },
        "af45aa4eaa174fee81ed7b43ad8f25bd": {
          "model_module": "@jupyter-widgets/base",
          "model_name": "LayoutModel",
          "state": {
            "_view_name": "LayoutView",
            "grid_template_rows": null,
            "right": null,
            "justify_content": null,
            "_view_module": "@jupyter-widgets/base",
            "overflow": null,
            "_model_module_version": "1.2.0",
            "_view_count": null,
            "flex_flow": null,
            "width": null,
            "min_width": null,
            "border": null,
            "align_items": null,
            "bottom": null,
            "_model_module": "@jupyter-widgets/base",
            "top": null,
            "grid_column": null,
            "overflow_y": null,
            "overflow_x": null,
            "grid_auto_flow": null,
            "grid_area": null,
            "grid_template_columns": null,
            "flex": null,
            "_model_name": "LayoutModel",
            "justify_items": null,
            "grid_row": null,
            "max_height": null,
            "align_content": null,
            "visibility": null,
            "align_self": null,
            "height": null,
            "min_height": null,
            "padding": null,
            "grid_auto_rows": null,
            "grid_gap": null,
            "max_width": null,
            "order": null,
            "_view_module_version": "1.2.0",
            "grid_template_areas": null,
            "object_position": null,
            "object_fit": null,
            "grid_auto_columns": null,
            "margin": null,
            "display": null,
            "left": null
          }
        },
        "3217f4f307ae45a99930231c7e16f496": {
          "model_module": "@jupyter-widgets/controls",
          "model_name": "HBoxModel",
          "state": {
            "_view_name": "HBoxView",
            "_dom_classes": [],
            "_model_name": "HBoxModel",
            "_view_module": "@jupyter-widgets/controls",
            "_model_module_version": "1.5.0",
            "_view_count": null,
            "_view_module_version": "1.5.0",
            "box_style": "",
            "layout": "IPY_MODEL_a9dd47678ff24d49a4c3e95bf07aa44c",
            "_model_module": "@jupyter-widgets/controls",
            "children": [
              "IPY_MODEL_92eca3660a724074867293bb63296ab5",
              "IPY_MODEL_9d2ff2e07e8149a98136e3bc656edc64"
            ]
          }
        },
        "a9dd47678ff24d49a4c3e95bf07aa44c": {
          "model_module": "@jupyter-widgets/base",
          "model_name": "LayoutModel",
          "state": {
            "_view_name": "LayoutView",
            "grid_template_rows": null,
            "right": null,
            "justify_content": null,
            "_view_module": "@jupyter-widgets/base",
            "overflow": null,
            "_model_module_version": "1.2.0",
            "_view_count": null,
            "flex_flow": null,
            "width": null,
            "min_width": null,
            "border": null,
            "align_items": null,
            "bottom": null,
            "_model_module": "@jupyter-widgets/base",
            "top": null,
            "grid_column": null,
            "overflow_y": null,
            "overflow_x": null,
            "grid_auto_flow": null,
            "grid_area": null,
            "grid_template_columns": null,
            "flex": null,
            "_model_name": "LayoutModel",
            "justify_items": null,
            "grid_row": null,
            "max_height": null,
            "align_content": null,
            "visibility": null,
            "align_self": null,
            "height": null,
            "min_height": null,
            "padding": null,
            "grid_auto_rows": null,
            "grid_gap": null,
            "max_width": null,
            "order": null,
            "_view_module_version": "1.2.0",
            "grid_template_areas": null,
            "object_position": null,
            "object_fit": null,
            "grid_auto_columns": null,
            "margin": null,
            "display": null,
            "left": null
          }
        },
        "92eca3660a724074867293bb63296ab5": {
          "model_module": "@jupyter-widgets/controls",
          "model_name": "FloatProgressModel",
          "state": {
            "_view_name": "ProgressView",
            "style": "IPY_MODEL_eb54b558f76d4fecaf782fa513577778",
            "_dom_classes": [],
            "description": "100%",
            "_model_name": "FloatProgressModel",
            "bar_style": "success",
            "max": 2146,
            "_view_module": "@jupyter-widgets/controls",
            "_model_module_version": "1.5.0",
            "value": 2146,
            "_view_count": null,
            "_view_module_version": "1.5.0",
            "orientation": "horizontal",
            "min": 0,
            "description_tooltip": null,
            "_model_module": "@jupyter-widgets/controls",
            "layout": "IPY_MODEL_41afda62ca94452695ba6ba45325a83b"
          }
        },
        "9d2ff2e07e8149a98136e3bc656edc64": {
          "model_module": "@jupyter-widgets/controls",
          "model_name": "HTMLModel",
          "state": {
            "_view_name": "HTMLView",
            "style": "IPY_MODEL_dd96a67d02e647f3857b7fbcea4a5bba",
            "_dom_classes": [],
            "description": "",
            "_model_name": "HTMLModel",
            "placeholder": "​",
            "_view_module": "@jupyter-widgets/controls",
            "_model_module_version": "1.5.0",
            "value": " 2146/2146 [00:02&lt;00:00, 800.32it/s]",
            "_view_count": null,
            "_view_module_version": "1.5.0",
            "description_tooltip": null,
            "_model_module": "@jupyter-widgets/controls",
            "layout": "IPY_MODEL_1422708caac7485c81d73c161b2c0128"
          }
        },
        "eb54b558f76d4fecaf782fa513577778": {
          "model_module": "@jupyter-widgets/controls",
          "model_name": "ProgressStyleModel",
          "state": {
            "_view_name": "StyleView",
            "_model_name": "ProgressStyleModel",
            "description_width": "initial",
            "_view_module": "@jupyter-widgets/base",
            "_model_module_version": "1.5.0",
            "_view_count": null,
            "_view_module_version": "1.2.0",
            "bar_color": null,
            "_model_module": "@jupyter-widgets/controls"
          }
        },
        "41afda62ca94452695ba6ba45325a83b": {
          "model_module": "@jupyter-widgets/base",
          "model_name": "LayoutModel",
          "state": {
            "_view_name": "LayoutView",
            "grid_template_rows": null,
            "right": null,
            "justify_content": null,
            "_view_module": "@jupyter-widgets/base",
            "overflow": null,
            "_model_module_version": "1.2.0",
            "_view_count": null,
            "flex_flow": null,
            "width": null,
            "min_width": null,
            "border": null,
            "align_items": null,
            "bottom": null,
            "_model_module": "@jupyter-widgets/base",
            "top": null,
            "grid_column": null,
            "overflow_y": null,
            "overflow_x": null,
            "grid_auto_flow": null,
            "grid_area": null,
            "grid_template_columns": null,
            "flex": null,
            "_model_name": "LayoutModel",
            "justify_items": null,
            "grid_row": null,
            "max_height": null,
            "align_content": null,
            "visibility": null,
            "align_self": null,
            "height": null,
            "min_height": null,
            "padding": null,
            "grid_auto_rows": null,
            "grid_gap": null,
            "max_width": null,
            "order": null,
            "_view_module_version": "1.2.0",
            "grid_template_areas": null,
            "object_position": null,
            "object_fit": null,
            "grid_auto_columns": null,
            "margin": null,
            "display": null,
            "left": null
          }
        },
        "dd96a67d02e647f3857b7fbcea4a5bba": {
          "model_module": "@jupyter-widgets/controls",
          "model_name": "DescriptionStyleModel",
          "state": {
            "_view_name": "StyleView",
            "_model_name": "DescriptionStyleModel",
            "description_width": "",
            "_view_module": "@jupyter-widgets/base",
            "_model_module_version": "1.5.0",
            "_view_count": null,
            "_view_module_version": "1.2.0",
            "_model_module": "@jupyter-widgets/controls"
          }
        },
        "1422708caac7485c81d73c161b2c0128": {
          "model_module": "@jupyter-widgets/base",
          "model_name": "LayoutModel",
          "state": {
            "_view_name": "LayoutView",
            "grid_template_rows": null,
            "right": null,
            "justify_content": null,
            "_view_module": "@jupyter-widgets/base",
            "overflow": null,
            "_model_module_version": "1.2.0",
            "_view_count": null,
            "flex_flow": null,
            "width": null,
            "min_width": null,
            "border": null,
            "align_items": null,
            "bottom": null,
            "_model_module": "@jupyter-widgets/base",
            "top": null,
            "grid_column": null,
            "overflow_y": null,
            "overflow_x": null,
            "grid_auto_flow": null,
            "grid_area": null,
            "grid_template_columns": null,
            "flex": null,
            "_model_name": "LayoutModel",
            "justify_items": null,
            "grid_row": null,
            "max_height": null,
            "align_content": null,
            "visibility": null,
            "align_self": null,
            "height": null,
            "min_height": null,
            "padding": null,
            "grid_auto_rows": null,
            "grid_gap": null,
            "max_width": null,
            "order": null,
            "_view_module_version": "1.2.0",
            "grid_template_areas": null,
            "object_position": null,
            "object_fit": null,
            "grid_auto_columns": null,
            "margin": null,
            "display": null,
            "left": null
          }
        },
        "0495b81a3c964e7b8953a31a1c5f4bfb": {
          "model_module": "@jupyter-widgets/controls",
          "model_name": "HBoxModel",
          "state": {
            "_view_name": "HBoxView",
            "_dom_classes": [],
            "_model_name": "HBoxModel",
            "_view_module": "@jupyter-widgets/controls",
            "_model_module_version": "1.5.0",
            "_view_count": null,
            "_view_module_version": "1.5.0",
            "box_style": "",
            "layout": "IPY_MODEL_de31178fd4ba44d091bd84b4167d97c0",
            "_model_module": "@jupyter-widgets/controls",
            "children": [
              "IPY_MODEL_82bae1b804264e6caa941c9e896ce3f4",
              "IPY_MODEL_4c314865814c451c8b3baeaf708c41f0"
            ]
          }
        },
        "de31178fd4ba44d091bd84b4167d97c0": {
          "model_module": "@jupyter-widgets/base",
          "model_name": "LayoutModel",
          "state": {
            "_view_name": "LayoutView",
            "grid_template_rows": null,
            "right": null,
            "justify_content": null,
            "_view_module": "@jupyter-widgets/base",
            "overflow": null,
            "_model_module_version": "1.2.0",
            "_view_count": null,
            "flex_flow": null,
            "width": null,
            "min_width": null,
            "border": null,
            "align_items": null,
            "bottom": null,
            "_model_module": "@jupyter-widgets/base",
            "top": null,
            "grid_column": null,
            "overflow_y": null,
            "overflow_x": null,
            "grid_auto_flow": null,
            "grid_area": null,
            "grid_template_columns": null,
            "flex": null,
            "_model_name": "LayoutModel",
            "justify_items": null,
            "grid_row": null,
            "max_height": null,
            "align_content": null,
            "visibility": null,
            "align_self": null,
            "height": null,
            "min_height": null,
            "padding": null,
            "grid_auto_rows": null,
            "grid_gap": null,
            "max_width": null,
            "order": null,
            "_view_module_version": "1.2.0",
            "grid_template_areas": null,
            "object_position": null,
            "object_fit": null,
            "grid_auto_columns": null,
            "margin": null,
            "display": null,
            "left": null
          }
        },
        "82bae1b804264e6caa941c9e896ce3f4": {
          "model_module": "@jupyter-widgets/controls",
          "model_name": "FloatProgressModel",
          "state": {
            "_view_name": "ProgressView",
            "style": "IPY_MODEL_5429d0afa41942aba7fd4998de538b95",
            "_dom_classes": [],
            "description": "100%",
            "_model_name": "FloatProgressModel",
            "bar_style": "success",
            "max": 2146,
            "_view_module": "@jupyter-widgets/controls",
            "_model_module_version": "1.5.0",
            "value": 2146,
            "_view_count": null,
            "_view_module_version": "1.5.0",
            "orientation": "horizontal",
            "min": 0,
            "description_tooltip": null,
            "_model_module": "@jupyter-widgets/controls",
            "layout": "IPY_MODEL_dee0dedfcbce49858959600145ce8564"
          }
        },
        "4c314865814c451c8b3baeaf708c41f0": {
          "model_module": "@jupyter-widgets/controls",
          "model_name": "HTMLModel",
          "state": {
            "_view_name": "HTMLView",
            "style": "IPY_MODEL_1db8b2a3a53f4f0e935ebeed3e8612f4",
            "_dom_classes": [],
            "description": "",
            "_model_name": "HTMLModel",
            "placeholder": "​",
            "_view_module": "@jupyter-widgets/controls",
            "_model_module_version": "1.5.0",
            "value": " 2146/2146 [00:00&lt;00:00, 20336.04it/s]",
            "_view_count": null,
            "_view_module_version": "1.5.0",
            "description_tooltip": null,
            "_model_module": "@jupyter-widgets/controls",
            "layout": "IPY_MODEL_832610becc19471b90db5ca5ad10b2bf"
          }
        },
        "5429d0afa41942aba7fd4998de538b95": {
          "model_module": "@jupyter-widgets/controls",
          "model_name": "ProgressStyleModel",
          "state": {
            "_view_name": "StyleView",
            "_model_name": "ProgressStyleModel",
            "description_width": "initial",
            "_view_module": "@jupyter-widgets/base",
            "_model_module_version": "1.5.0",
            "_view_count": null,
            "_view_module_version": "1.2.0",
            "bar_color": null,
            "_model_module": "@jupyter-widgets/controls"
          }
        },
        "dee0dedfcbce49858959600145ce8564": {
          "model_module": "@jupyter-widgets/base",
          "model_name": "LayoutModel",
          "state": {
            "_view_name": "LayoutView",
            "grid_template_rows": null,
            "right": null,
            "justify_content": null,
            "_view_module": "@jupyter-widgets/base",
            "overflow": null,
            "_model_module_version": "1.2.0",
            "_view_count": null,
            "flex_flow": null,
            "width": null,
            "min_width": null,
            "border": null,
            "align_items": null,
            "bottom": null,
            "_model_module": "@jupyter-widgets/base",
            "top": null,
            "grid_column": null,
            "overflow_y": null,
            "overflow_x": null,
            "grid_auto_flow": null,
            "grid_area": null,
            "grid_template_columns": null,
            "flex": null,
            "_model_name": "LayoutModel",
            "justify_items": null,
            "grid_row": null,
            "max_height": null,
            "align_content": null,
            "visibility": null,
            "align_self": null,
            "height": null,
            "min_height": null,
            "padding": null,
            "grid_auto_rows": null,
            "grid_gap": null,
            "max_width": null,
            "order": null,
            "_view_module_version": "1.2.0",
            "grid_template_areas": null,
            "object_position": null,
            "object_fit": null,
            "grid_auto_columns": null,
            "margin": null,
            "display": null,
            "left": null
          }
        },
        "1db8b2a3a53f4f0e935ebeed3e8612f4": {
          "model_module": "@jupyter-widgets/controls",
          "model_name": "DescriptionStyleModel",
          "state": {
            "_view_name": "StyleView",
            "_model_name": "DescriptionStyleModel",
            "description_width": "",
            "_view_module": "@jupyter-widgets/base",
            "_model_module_version": "1.5.0",
            "_view_count": null,
            "_view_module_version": "1.2.0",
            "_model_module": "@jupyter-widgets/controls"
          }
        },
        "832610becc19471b90db5ca5ad10b2bf": {
          "model_module": "@jupyter-widgets/base",
          "model_name": "LayoutModel",
          "state": {
            "_view_name": "LayoutView",
            "grid_template_rows": null,
            "right": null,
            "justify_content": null,
            "_view_module": "@jupyter-widgets/base",
            "overflow": null,
            "_model_module_version": "1.2.0",
            "_view_count": null,
            "flex_flow": null,
            "width": null,
            "min_width": null,
            "border": null,
            "align_items": null,
            "bottom": null,
            "_model_module": "@jupyter-widgets/base",
            "top": null,
            "grid_column": null,
            "overflow_y": null,
            "overflow_x": null,
            "grid_auto_flow": null,
            "grid_area": null,
            "grid_template_columns": null,
            "flex": null,
            "_model_name": "LayoutModel",
            "justify_items": null,
            "grid_row": null,
            "max_height": null,
            "align_content": null,
            "visibility": null,
            "align_self": null,
            "height": null,
            "min_height": null,
            "padding": null,
            "grid_auto_rows": null,
            "grid_gap": null,
            "max_width": null,
            "order": null,
            "_view_module_version": "1.2.0",
            "grid_template_areas": null,
            "object_position": null,
            "object_fit": null,
            "grid_auto_columns": null,
            "margin": null,
            "display": null,
            "left": null
          }
        },
        "ec94774e3c97405c804fbd0a8ce21e99": {
          "model_module": "@jupyter-widgets/controls",
          "model_name": "HBoxModel",
          "state": {
            "_view_name": "HBoxView",
            "_dom_classes": [],
            "_model_name": "HBoxModel",
            "_view_module": "@jupyter-widgets/controls",
            "_model_module_version": "1.5.0",
            "_view_count": null,
            "_view_module_version": "1.5.0",
            "box_style": "",
            "layout": "IPY_MODEL_dd081df186974fa1aa89ebbc5453ba33",
            "_model_module": "@jupyter-widgets/controls",
            "children": [
              "IPY_MODEL_9c8cf1f7e0a140f59811bcc7674728a6",
              "IPY_MODEL_2317d7f02e924062848648e198e8ec12"
            ]
          }
        },
        "dd081df186974fa1aa89ebbc5453ba33": {
          "model_module": "@jupyter-widgets/base",
          "model_name": "LayoutModel",
          "state": {
            "_view_name": "LayoutView",
            "grid_template_rows": null,
            "right": null,
            "justify_content": null,
            "_view_module": "@jupyter-widgets/base",
            "overflow": null,
            "_model_module_version": "1.2.0",
            "_view_count": null,
            "flex_flow": null,
            "width": null,
            "min_width": null,
            "border": null,
            "align_items": null,
            "bottom": null,
            "_model_module": "@jupyter-widgets/base",
            "top": null,
            "grid_column": null,
            "overflow_y": null,
            "overflow_x": null,
            "grid_auto_flow": null,
            "grid_area": null,
            "grid_template_columns": null,
            "flex": null,
            "_model_name": "LayoutModel",
            "justify_items": null,
            "grid_row": null,
            "max_height": null,
            "align_content": null,
            "visibility": null,
            "align_self": null,
            "height": null,
            "min_height": null,
            "padding": null,
            "grid_auto_rows": null,
            "grid_gap": null,
            "max_width": null,
            "order": null,
            "_view_module_version": "1.2.0",
            "grid_template_areas": null,
            "object_position": null,
            "object_fit": null,
            "grid_auto_columns": null,
            "margin": null,
            "display": null,
            "left": null
          }
        },
        "9c8cf1f7e0a140f59811bcc7674728a6": {
          "model_module": "@jupyter-widgets/controls",
          "model_name": "FloatProgressModel",
          "state": {
            "_view_name": "ProgressView",
            "style": "IPY_MODEL_b097b9d19a7b4579a8ac8a47c39a1cee",
            "_dom_classes": [],
            "description": "100%",
            "_model_name": "FloatProgressModel",
            "bar_style": "success",
            "max": 2146,
            "_view_module": "@jupyter-widgets/controls",
            "_model_module_version": "1.5.0",
            "value": 2146,
            "_view_count": null,
            "_view_module_version": "1.5.0",
            "orientation": "horizontal",
            "min": 0,
            "description_tooltip": null,
            "_model_module": "@jupyter-widgets/controls",
            "layout": "IPY_MODEL_76875f2d99d84c4b9f6d566486a4237a"
          }
        },
        "2317d7f02e924062848648e198e8ec12": {
          "model_module": "@jupyter-widgets/controls",
          "model_name": "HTMLModel",
          "state": {
            "_view_name": "HTMLView",
            "style": "IPY_MODEL_6f20fabe040a4fd19e490c3dd70a2374",
            "_dom_classes": [],
            "description": "",
            "_model_name": "HTMLModel",
            "placeholder": "​",
            "_view_module": "@jupyter-widgets/controls",
            "_model_module_version": "1.5.0",
            "value": " 2146/2146 [01:46&lt;00:00, 20.14it/s]",
            "_view_count": null,
            "_view_module_version": "1.5.0",
            "description_tooltip": null,
            "_model_module": "@jupyter-widgets/controls",
            "layout": "IPY_MODEL_bf0773b910d44005bc1e06db51230a3c"
          }
        },
        "b097b9d19a7b4579a8ac8a47c39a1cee": {
          "model_module": "@jupyter-widgets/controls",
          "model_name": "ProgressStyleModel",
          "state": {
            "_view_name": "StyleView",
            "_model_name": "ProgressStyleModel",
            "description_width": "initial",
            "_view_module": "@jupyter-widgets/base",
            "_model_module_version": "1.5.0",
            "_view_count": null,
            "_view_module_version": "1.2.0",
            "bar_color": null,
            "_model_module": "@jupyter-widgets/controls"
          }
        },
        "76875f2d99d84c4b9f6d566486a4237a": {
          "model_module": "@jupyter-widgets/base",
          "model_name": "LayoutModel",
          "state": {
            "_view_name": "LayoutView",
            "grid_template_rows": null,
            "right": null,
            "justify_content": null,
            "_view_module": "@jupyter-widgets/base",
            "overflow": null,
            "_model_module_version": "1.2.0",
            "_view_count": null,
            "flex_flow": null,
            "width": null,
            "min_width": null,
            "border": null,
            "align_items": null,
            "bottom": null,
            "_model_module": "@jupyter-widgets/base",
            "top": null,
            "grid_column": null,
            "overflow_y": null,
            "overflow_x": null,
            "grid_auto_flow": null,
            "grid_area": null,
            "grid_template_columns": null,
            "flex": null,
            "_model_name": "LayoutModel",
            "justify_items": null,
            "grid_row": null,
            "max_height": null,
            "align_content": null,
            "visibility": null,
            "align_self": null,
            "height": null,
            "min_height": null,
            "padding": null,
            "grid_auto_rows": null,
            "grid_gap": null,
            "max_width": null,
            "order": null,
            "_view_module_version": "1.2.0",
            "grid_template_areas": null,
            "object_position": null,
            "object_fit": null,
            "grid_auto_columns": null,
            "margin": null,
            "display": null,
            "left": null
          }
        },
        "6f20fabe040a4fd19e490c3dd70a2374": {
          "model_module": "@jupyter-widgets/controls",
          "model_name": "DescriptionStyleModel",
          "state": {
            "_view_name": "StyleView",
            "_model_name": "DescriptionStyleModel",
            "description_width": "",
            "_view_module": "@jupyter-widgets/base",
            "_model_module_version": "1.5.0",
            "_view_count": null,
            "_view_module_version": "1.2.0",
            "_model_module": "@jupyter-widgets/controls"
          }
        },
        "bf0773b910d44005bc1e06db51230a3c": {
          "model_module": "@jupyter-widgets/base",
          "model_name": "LayoutModel",
          "state": {
            "_view_name": "LayoutView",
            "grid_template_rows": null,
            "right": null,
            "justify_content": null,
            "_view_module": "@jupyter-widgets/base",
            "overflow": null,
            "_model_module_version": "1.2.0",
            "_view_count": null,
            "flex_flow": null,
            "width": null,
            "min_width": null,
            "border": null,
            "align_items": null,
            "bottom": null,
            "_model_module": "@jupyter-widgets/base",
            "top": null,
            "grid_column": null,
            "overflow_y": null,
            "overflow_x": null,
            "grid_auto_flow": null,
            "grid_area": null,
            "grid_template_columns": null,
            "flex": null,
            "_model_name": "LayoutModel",
            "justify_items": null,
            "grid_row": null,
            "max_height": null,
            "align_content": null,
            "visibility": null,
            "align_self": null,
            "height": null,
            "min_height": null,
            "padding": null,
            "grid_auto_rows": null,
            "grid_gap": null,
            "max_width": null,
            "order": null,
            "_view_module_version": "1.2.0",
            "grid_template_areas": null,
            "object_position": null,
            "object_fit": null,
            "grid_auto_columns": null,
            "margin": null,
            "display": null,
            "left": null
          }
        },
        "a92a91331e414d4c84efc2b677c16ec4": {
          "model_module": "@jupyter-widgets/controls",
          "model_name": "HBoxModel",
          "state": {
            "_view_name": "HBoxView",
            "_dom_classes": [],
            "_model_name": "HBoxModel",
            "_view_module": "@jupyter-widgets/controls",
            "_model_module_version": "1.5.0",
            "_view_count": null,
            "_view_module_version": "1.5.0",
            "box_style": "",
            "layout": "IPY_MODEL_3fed5ff4685d4c48a53eaf8bc92d41a0",
            "_model_module": "@jupyter-widgets/controls",
            "children": [
              "IPY_MODEL_77a368e56591499fafcb9fcf3d55dc5a",
              "IPY_MODEL_1189e306eeea45138f86496a6745b58d"
            ]
          }
        },
        "3fed5ff4685d4c48a53eaf8bc92d41a0": {
          "model_module": "@jupyter-widgets/base",
          "model_name": "LayoutModel",
          "state": {
            "_view_name": "LayoutView",
            "grid_template_rows": null,
            "right": null,
            "justify_content": null,
            "_view_module": "@jupyter-widgets/base",
            "overflow": null,
            "_model_module_version": "1.2.0",
            "_view_count": null,
            "flex_flow": null,
            "width": null,
            "min_width": null,
            "border": null,
            "align_items": null,
            "bottom": null,
            "_model_module": "@jupyter-widgets/base",
            "top": null,
            "grid_column": null,
            "overflow_y": null,
            "overflow_x": null,
            "grid_auto_flow": null,
            "grid_area": null,
            "grid_template_columns": null,
            "flex": null,
            "_model_name": "LayoutModel",
            "justify_items": null,
            "grid_row": null,
            "max_height": null,
            "align_content": null,
            "visibility": null,
            "align_self": null,
            "height": null,
            "min_height": null,
            "padding": null,
            "grid_auto_rows": null,
            "grid_gap": null,
            "max_width": null,
            "order": null,
            "_view_module_version": "1.2.0",
            "grid_template_areas": null,
            "object_position": null,
            "object_fit": null,
            "grid_auto_columns": null,
            "margin": null,
            "display": null,
            "left": null
          }
        },
        "77a368e56591499fafcb9fcf3d55dc5a": {
          "model_module": "@jupyter-widgets/controls",
          "model_name": "FloatProgressModel",
          "state": {
            "_view_name": "ProgressView",
            "style": "IPY_MODEL_cd2c764790d54b1a867ba61845a2fd38",
            "_dom_classes": [],
            "description": "100%",
            "_model_name": "FloatProgressModel",
            "bar_style": "success",
            "max": 2146,
            "_view_module": "@jupyter-widgets/controls",
            "_model_module_version": "1.5.0",
            "value": 2146,
            "_view_count": null,
            "_view_module_version": "1.5.0",
            "orientation": "horizontal",
            "min": 0,
            "description_tooltip": null,
            "_model_module": "@jupyter-widgets/controls",
            "layout": "IPY_MODEL_eae53bd54fac4a96af8f7db3e06a7a8d"
          }
        },
        "1189e306eeea45138f86496a6745b58d": {
          "model_module": "@jupyter-widgets/controls",
          "model_name": "HTMLModel",
          "state": {
            "_view_name": "HTMLView",
            "style": "IPY_MODEL_212d96ddf9f44e3c91a992ed4517a9ce",
            "_dom_classes": [],
            "description": "",
            "_model_name": "HTMLModel",
            "placeholder": "​",
            "_view_module": "@jupyter-widgets/controls",
            "_model_module_version": "1.5.0",
            "value": " 2146/2146 [00:00&lt;00:00, 20863.70it/s]",
            "_view_count": null,
            "_view_module_version": "1.5.0",
            "description_tooltip": null,
            "_model_module": "@jupyter-widgets/controls",
            "layout": "IPY_MODEL_1d058e0b2d8249d182c9fb04bb00cc9b"
          }
        },
        "cd2c764790d54b1a867ba61845a2fd38": {
          "model_module": "@jupyter-widgets/controls",
          "model_name": "ProgressStyleModel",
          "state": {
            "_view_name": "StyleView",
            "_model_name": "ProgressStyleModel",
            "description_width": "initial",
            "_view_module": "@jupyter-widgets/base",
            "_model_module_version": "1.5.0",
            "_view_count": null,
            "_view_module_version": "1.2.0",
            "bar_color": null,
            "_model_module": "@jupyter-widgets/controls"
          }
        },
        "eae53bd54fac4a96af8f7db3e06a7a8d": {
          "model_module": "@jupyter-widgets/base",
          "model_name": "LayoutModel",
          "state": {
            "_view_name": "LayoutView",
            "grid_template_rows": null,
            "right": null,
            "justify_content": null,
            "_view_module": "@jupyter-widgets/base",
            "overflow": null,
            "_model_module_version": "1.2.0",
            "_view_count": null,
            "flex_flow": null,
            "width": null,
            "min_width": null,
            "border": null,
            "align_items": null,
            "bottom": null,
            "_model_module": "@jupyter-widgets/base",
            "top": null,
            "grid_column": null,
            "overflow_y": null,
            "overflow_x": null,
            "grid_auto_flow": null,
            "grid_area": null,
            "grid_template_columns": null,
            "flex": null,
            "_model_name": "LayoutModel",
            "justify_items": null,
            "grid_row": null,
            "max_height": null,
            "align_content": null,
            "visibility": null,
            "align_self": null,
            "height": null,
            "min_height": null,
            "padding": null,
            "grid_auto_rows": null,
            "grid_gap": null,
            "max_width": null,
            "order": null,
            "_view_module_version": "1.2.0",
            "grid_template_areas": null,
            "object_position": null,
            "object_fit": null,
            "grid_auto_columns": null,
            "margin": null,
            "display": null,
            "left": null
          }
        },
        "212d96ddf9f44e3c91a992ed4517a9ce": {
          "model_module": "@jupyter-widgets/controls",
          "model_name": "DescriptionStyleModel",
          "state": {
            "_view_name": "StyleView",
            "_model_name": "DescriptionStyleModel",
            "description_width": "",
            "_view_module": "@jupyter-widgets/base",
            "_model_module_version": "1.5.0",
            "_view_count": null,
            "_view_module_version": "1.2.0",
            "_model_module": "@jupyter-widgets/controls"
          }
        },
        "1d058e0b2d8249d182c9fb04bb00cc9b": {
          "model_module": "@jupyter-widgets/base",
          "model_name": "LayoutModel",
          "state": {
            "_view_name": "LayoutView",
            "grid_template_rows": null,
            "right": null,
            "justify_content": null,
            "_view_module": "@jupyter-widgets/base",
            "overflow": null,
            "_model_module_version": "1.2.0",
            "_view_count": null,
            "flex_flow": null,
            "width": null,
            "min_width": null,
            "border": null,
            "align_items": null,
            "bottom": null,
            "_model_module": "@jupyter-widgets/base",
            "top": null,
            "grid_column": null,
            "overflow_y": null,
            "overflow_x": null,
            "grid_auto_flow": null,
            "grid_area": null,
            "grid_template_columns": null,
            "flex": null,
            "_model_name": "LayoutModel",
            "justify_items": null,
            "grid_row": null,
            "max_height": null,
            "align_content": null,
            "visibility": null,
            "align_self": null,
            "height": null,
            "min_height": null,
            "padding": null,
            "grid_auto_rows": null,
            "grid_gap": null,
            "max_width": null,
            "order": null,
            "_view_module_version": "1.2.0",
            "grid_template_areas": null,
            "object_position": null,
            "object_fit": null,
            "grid_auto_columns": null,
            "margin": null,
            "display": null,
            "left": null
          }
        },
        "b8489f4706614040ba2c8d348fcf8757": {
          "model_module": "@jupyter-widgets/controls",
          "model_name": "HBoxModel",
          "state": {
            "_view_name": "HBoxView",
            "_dom_classes": [],
            "_model_name": "HBoxModel",
            "_view_module": "@jupyter-widgets/controls",
            "_model_module_version": "1.5.0",
            "_view_count": null,
            "_view_module_version": "1.5.0",
            "box_style": "",
            "layout": "IPY_MODEL_b7cab068a8b04ea29300cc57464fa0d0",
            "_model_module": "@jupyter-widgets/controls",
            "children": [
              "IPY_MODEL_71443f6d017d4debb320dc7915a520b5",
              "IPY_MODEL_701f9833342c41daac05b9ec75f3b720"
            ]
          }
        },
        "b7cab068a8b04ea29300cc57464fa0d0": {
          "model_module": "@jupyter-widgets/base",
          "model_name": "LayoutModel",
          "state": {
            "_view_name": "LayoutView",
            "grid_template_rows": null,
            "right": null,
            "justify_content": null,
            "_view_module": "@jupyter-widgets/base",
            "overflow": null,
            "_model_module_version": "1.2.0",
            "_view_count": null,
            "flex_flow": null,
            "width": null,
            "min_width": null,
            "border": null,
            "align_items": null,
            "bottom": null,
            "_model_module": "@jupyter-widgets/base",
            "top": null,
            "grid_column": null,
            "overflow_y": null,
            "overflow_x": null,
            "grid_auto_flow": null,
            "grid_area": null,
            "grid_template_columns": null,
            "flex": null,
            "_model_name": "LayoutModel",
            "justify_items": null,
            "grid_row": null,
            "max_height": null,
            "align_content": null,
            "visibility": null,
            "align_self": null,
            "height": null,
            "min_height": null,
            "padding": null,
            "grid_auto_rows": null,
            "grid_gap": null,
            "max_width": null,
            "order": null,
            "_view_module_version": "1.2.0",
            "grid_template_areas": null,
            "object_position": null,
            "object_fit": null,
            "grid_auto_columns": null,
            "margin": null,
            "display": null,
            "left": null
          }
        },
        "71443f6d017d4debb320dc7915a520b5": {
          "model_module": "@jupyter-widgets/controls",
          "model_name": "FloatProgressModel",
          "state": {
            "_view_name": "ProgressView",
            "style": "IPY_MODEL_e98616de1d4d436caff964d36f3c3483",
            "_dom_classes": [],
            "description": "100%",
            "_model_name": "FloatProgressModel",
            "bar_style": "success",
            "max": 2146,
            "_view_module": "@jupyter-widgets/controls",
            "_model_module_version": "1.5.0",
            "value": 2146,
            "_view_count": null,
            "_view_module_version": "1.5.0",
            "orientation": "horizontal",
            "min": 0,
            "description_tooltip": null,
            "_model_module": "@jupyter-widgets/controls",
            "layout": "IPY_MODEL_b6e0cf98b5c5464a93ce37729c955f92"
          }
        },
        "701f9833342c41daac05b9ec75f3b720": {
          "model_module": "@jupyter-widgets/controls",
          "model_name": "HTMLModel",
          "state": {
            "_view_name": "HTMLView",
            "style": "IPY_MODEL_7c78a38e76204a6e91d0f683a0f767fd",
            "_dom_classes": [],
            "description": "",
            "_model_name": "HTMLModel",
            "placeholder": "​",
            "_view_module": "@jupyter-widgets/controls",
            "_model_module_version": "1.5.0",
            "value": " 2146/2146 [01:45&lt;00:00, 20.34it/s]",
            "_view_count": null,
            "_view_module_version": "1.5.0",
            "description_tooltip": null,
            "_model_module": "@jupyter-widgets/controls",
            "layout": "IPY_MODEL_35fadb6117864242ad75bf7a5f30ebfc"
          }
        },
        "e98616de1d4d436caff964d36f3c3483": {
          "model_module": "@jupyter-widgets/controls",
          "model_name": "ProgressStyleModel",
          "state": {
            "_view_name": "StyleView",
            "_model_name": "ProgressStyleModel",
            "description_width": "initial",
            "_view_module": "@jupyter-widgets/base",
            "_model_module_version": "1.5.0",
            "_view_count": null,
            "_view_module_version": "1.2.0",
            "bar_color": null,
            "_model_module": "@jupyter-widgets/controls"
          }
        },
        "b6e0cf98b5c5464a93ce37729c955f92": {
          "model_module": "@jupyter-widgets/base",
          "model_name": "LayoutModel",
          "state": {
            "_view_name": "LayoutView",
            "grid_template_rows": null,
            "right": null,
            "justify_content": null,
            "_view_module": "@jupyter-widgets/base",
            "overflow": null,
            "_model_module_version": "1.2.0",
            "_view_count": null,
            "flex_flow": null,
            "width": null,
            "min_width": null,
            "border": null,
            "align_items": null,
            "bottom": null,
            "_model_module": "@jupyter-widgets/base",
            "top": null,
            "grid_column": null,
            "overflow_y": null,
            "overflow_x": null,
            "grid_auto_flow": null,
            "grid_area": null,
            "grid_template_columns": null,
            "flex": null,
            "_model_name": "LayoutModel",
            "justify_items": null,
            "grid_row": null,
            "max_height": null,
            "align_content": null,
            "visibility": null,
            "align_self": null,
            "height": null,
            "min_height": null,
            "padding": null,
            "grid_auto_rows": null,
            "grid_gap": null,
            "max_width": null,
            "order": null,
            "_view_module_version": "1.2.0",
            "grid_template_areas": null,
            "object_position": null,
            "object_fit": null,
            "grid_auto_columns": null,
            "margin": null,
            "display": null,
            "left": null
          }
        },
        "7c78a38e76204a6e91d0f683a0f767fd": {
          "model_module": "@jupyter-widgets/controls",
          "model_name": "DescriptionStyleModel",
          "state": {
            "_view_name": "StyleView",
            "_model_name": "DescriptionStyleModel",
            "description_width": "",
            "_view_module": "@jupyter-widgets/base",
            "_model_module_version": "1.5.0",
            "_view_count": null,
            "_view_module_version": "1.2.0",
            "_model_module": "@jupyter-widgets/controls"
          }
        },
        "35fadb6117864242ad75bf7a5f30ebfc": {
          "model_module": "@jupyter-widgets/base",
          "model_name": "LayoutModel",
          "state": {
            "_view_name": "LayoutView",
            "grid_template_rows": null,
            "right": null,
            "justify_content": null,
            "_view_module": "@jupyter-widgets/base",
            "overflow": null,
            "_model_module_version": "1.2.0",
            "_view_count": null,
            "flex_flow": null,
            "width": null,
            "min_width": null,
            "border": null,
            "align_items": null,
            "bottom": null,
            "_model_module": "@jupyter-widgets/base",
            "top": null,
            "grid_column": null,
            "overflow_y": null,
            "overflow_x": null,
            "grid_auto_flow": null,
            "grid_area": null,
            "grid_template_columns": null,
            "flex": null,
            "_model_name": "LayoutModel",
            "justify_items": null,
            "grid_row": null,
            "max_height": null,
            "align_content": null,
            "visibility": null,
            "align_self": null,
            "height": null,
            "min_height": null,
            "padding": null,
            "grid_auto_rows": null,
            "grid_gap": null,
            "max_width": null,
            "order": null,
            "_view_module_version": "1.2.0",
            "grid_template_areas": null,
            "object_position": null,
            "object_fit": null,
            "grid_auto_columns": null,
            "margin": null,
            "display": null,
            "left": null
          }
        },
        "d097775e69c543339eabe614e8931dc7": {
          "model_module": "@jupyter-widgets/controls",
          "model_name": "HBoxModel",
          "state": {
            "_view_name": "HBoxView",
            "_dom_classes": [],
            "_model_name": "HBoxModel",
            "_view_module": "@jupyter-widgets/controls",
            "_model_module_version": "1.5.0",
            "_view_count": null,
            "_view_module_version": "1.5.0",
            "box_style": "",
            "layout": "IPY_MODEL_639d3d2556d04a9cba3cdfed60c6cf89",
            "_model_module": "@jupyter-widgets/controls",
            "children": [
              "IPY_MODEL_c81ed5572fdc4565ba6de50f5d0acad8",
              "IPY_MODEL_49c5d91ed1c8407994096e123ddf538f"
            ]
          }
        },
        "639d3d2556d04a9cba3cdfed60c6cf89": {
          "model_module": "@jupyter-widgets/base",
          "model_name": "LayoutModel",
          "state": {
            "_view_name": "LayoutView",
            "grid_template_rows": null,
            "right": null,
            "justify_content": null,
            "_view_module": "@jupyter-widgets/base",
            "overflow": null,
            "_model_module_version": "1.2.0",
            "_view_count": null,
            "flex_flow": null,
            "width": null,
            "min_width": null,
            "border": null,
            "align_items": null,
            "bottom": null,
            "_model_module": "@jupyter-widgets/base",
            "top": null,
            "grid_column": null,
            "overflow_y": null,
            "overflow_x": null,
            "grid_auto_flow": null,
            "grid_area": null,
            "grid_template_columns": null,
            "flex": null,
            "_model_name": "LayoutModel",
            "justify_items": null,
            "grid_row": null,
            "max_height": null,
            "align_content": null,
            "visibility": null,
            "align_self": null,
            "height": null,
            "min_height": null,
            "padding": null,
            "grid_auto_rows": null,
            "grid_gap": null,
            "max_width": null,
            "order": null,
            "_view_module_version": "1.2.0",
            "grid_template_areas": null,
            "object_position": null,
            "object_fit": null,
            "grid_auto_columns": null,
            "margin": null,
            "display": null,
            "left": null
          }
        },
        "c81ed5572fdc4565ba6de50f5d0acad8": {
          "model_module": "@jupyter-widgets/controls",
          "model_name": "FloatProgressModel",
          "state": {
            "_view_name": "ProgressView",
            "style": "IPY_MODEL_1efeefedb75f4f948469580797ea1576",
            "_dom_classes": [],
            "description": "100%",
            "_model_name": "FloatProgressModel",
            "bar_style": "success",
            "max": 2146,
            "_view_module": "@jupyter-widgets/controls",
            "_model_module_version": "1.5.0",
            "value": 2146,
            "_view_count": null,
            "_view_module_version": "1.5.0",
            "orientation": "horizontal",
            "min": 0,
            "description_tooltip": null,
            "_model_module": "@jupyter-widgets/controls",
            "layout": "IPY_MODEL_43f08f5ab74e4ca3b46aabae53f2136d"
          }
        },
        "49c5d91ed1c8407994096e123ddf538f": {
          "model_module": "@jupyter-widgets/controls",
          "model_name": "HTMLModel",
          "state": {
            "_view_name": "HTMLView",
            "style": "IPY_MODEL_970ec4b618744d3c8c4e6b2cf68e5cb0",
            "_dom_classes": [],
            "description": "",
            "_model_name": "HTMLModel",
            "placeholder": "​",
            "_view_module": "@jupyter-widgets/controls",
            "_model_module_version": "1.5.0",
            "value": " 2146/2146 [01:45&lt;00:00, 20.35it/s]",
            "_view_count": null,
            "_view_module_version": "1.5.0",
            "description_tooltip": null,
            "_model_module": "@jupyter-widgets/controls",
            "layout": "IPY_MODEL_9947709931884ac383165c0b354063d3"
          }
        },
        "1efeefedb75f4f948469580797ea1576": {
          "model_module": "@jupyter-widgets/controls",
          "model_name": "ProgressStyleModel",
          "state": {
            "_view_name": "StyleView",
            "_model_name": "ProgressStyleModel",
            "description_width": "initial",
            "_view_module": "@jupyter-widgets/base",
            "_model_module_version": "1.5.0",
            "_view_count": null,
            "_view_module_version": "1.2.0",
            "bar_color": null,
            "_model_module": "@jupyter-widgets/controls"
          }
        },
        "43f08f5ab74e4ca3b46aabae53f2136d": {
          "model_module": "@jupyter-widgets/base",
          "model_name": "LayoutModel",
          "state": {
            "_view_name": "LayoutView",
            "grid_template_rows": null,
            "right": null,
            "justify_content": null,
            "_view_module": "@jupyter-widgets/base",
            "overflow": null,
            "_model_module_version": "1.2.0",
            "_view_count": null,
            "flex_flow": null,
            "width": null,
            "min_width": null,
            "border": null,
            "align_items": null,
            "bottom": null,
            "_model_module": "@jupyter-widgets/base",
            "top": null,
            "grid_column": null,
            "overflow_y": null,
            "overflow_x": null,
            "grid_auto_flow": null,
            "grid_area": null,
            "grid_template_columns": null,
            "flex": null,
            "_model_name": "LayoutModel",
            "justify_items": null,
            "grid_row": null,
            "max_height": null,
            "align_content": null,
            "visibility": null,
            "align_self": null,
            "height": null,
            "min_height": null,
            "padding": null,
            "grid_auto_rows": null,
            "grid_gap": null,
            "max_width": null,
            "order": null,
            "_view_module_version": "1.2.0",
            "grid_template_areas": null,
            "object_position": null,
            "object_fit": null,
            "grid_auto_columns": null,
            "margin": null,
            "display": null,
            "left": null
          }
        },
        "970ec4b618744d3c8c4e6b2cf68e5cb0": {
          "model_module": "@jupyter-widgets/controls",
          "model_name": "DescriptionStyleModel",
          "state": {
            "_view_name": "StyleView",
            "_model_name": "DescriptionStyleModel",
            "description_width": "",
            "_view_module": "@jupyter-widgets/base",
            "_model_module_version": "1.5.0",
            "_view_count": null,
            "_view_module_version": "1.2.0",
            "_model_module": "@jupyter-widgets/controls"
          }
        },
        "9947709931884ac383165c0b354063d3": {
          "model_module": "@jupyter-widgets/base",
          "model_name": "LayoutModel",
          "state": {
            "_view_name": "LayoutView",
            "grid_template_rows": null,
            "right": null,
            "justify_content": null,
            "_view_module": "@jupyter-widgets/base",
            "overflow": null,
            "_model_module_version": "1.2.0",
            "_view_count": null,
            "flex_flow": null,
            "width": null,
            "min_width": null,
            "border": null,
            "align_items": null,
            "bottom": null,
            "_model_module": "@jupyter-widgets/base",
            "top": null,
            "grid_column": null,
            "overflow_y": null,
            "overflow_x": null,
            "grid_auto_flow": null,
            "grid_area": null,
            "grid_template_columns": null,
            "flex": null,
            "_model_name": "LayoutModel",
            "justify_items": null,
            "grid_row": null,
            "max_height": null,
            "align_content": null,
            "visibility": null,
            "align_self": null,
            "height": null,
            "min_height": null,
            "padding": null,
            "grid_auto_rows": null,
            "grid_gap": null,
            "max_width": null,
            "order": null,
            "_view_module_version": "1.2.0",
            "grid_template_areas": null,
            "object_position": null,
            "object_fit": null,
            "grid_auto_columns": null,
            "margin": null,
            "display": null,
            "left": null
          }
        }
      }
    }
  },
  "cells": [
    {
      "cell_type": "markdown",
      "metadata": {
        "id": "view-in-github",
        "colab_type": "text"
      },
      "source": [
        "<a href=\"https://colab.research.google.com/github/keir20/book-woofer/blob/Ebu_Word2Vec/notebooks/Ebu_Word2Vec_Model.ipynb\" target=\"_parent\"><img src=\"https://colab.research.google.com/assets/colab-badge.svg\" alt=\"Open In Colab\"/></a>"
      ]
    },
    {
      "cell_type": "markdown",
      "metadata": {
        "id": "DmdBnx5PCpxh"
      },
      "source": [
        "###### From the Kaggle (not used code)"
      ]
    },
    {
      "cell_type": "code",
      "metadata": {
        "id": "pl83mJBFMA7c"
      },
      "source": [
        "# This Python 3 environment comes with many helpful analytics libraries installed\n",
        "# It is defined by the kaggle/python Docker image: https://github.com/kaggle/docker-python\n",
        "# For example, here's several helpful packages to load\n",
        "\n",
        "# import numpy as np # linear algebra\n",
        "# import pandas as pd # data processing, CSV file I/O (e.g. pd.read_csv)\n",
        "\n",
        "# Input data files are available in the read-only \"../input/\" directory\n",
        "# For example, running this (by clicking run or pressing Shift+Enter) will list all files under the input directory\n",
        "\n",
        "# import os\n",
        "# for dirname, _, filenames in os.walk('/kaggle/input'):\n",
        "#     for filename in filenames:\n",
        "#         print(os.path.join(dirname, filename))\n",
        "\n",
        "# You can write up to 20GB to the current directory (/kaggle/working/) that gets preserved as output when you create a version using \"Save & Run All\" \n",
        "# You can also write temporary files to /kaggle/temp/, but they won't be saved outside of the current session\n",
        "\n",
        "# import warnings\n",
        "# warnings.filterwarnings('ignore')\n",
        "# %config Completer.use_jedi = False # if autocompletion doesnot work in kaggle notebook | hit tab\n",
        "\n",
        "# # importing the dataset \n",
        "# df_train = pd.read_csv('../input/emotions-dataset-for-nlp/train.txt', header =None, sep =';', names = ['Input','Sentiment'], encoding='utf-8')\n",
        "# df_test = pd.read_csv('../input/emotions-dataset-for-nlp/test.txt', header = None, sep =';', names = ['Input','Sentiment'],encoding='utf-8')\n",
        "# df_val=pd.read_csv('../input/emotions-dataset-for-nlp/val.txt',header=None,sep=';',names=['Input','Sentiment'],encoding='utf-8')"
      ],
      "execution_count": 2,
      "outputs": []
    },
    {
      "cell_type": "markdown",
      "metadata": {
        "id": "M_iRAL7UCX8K"
      },
      "source": [
        "### Loading and Exploring the Data"
      ]
    },
    {
      "cell_type": "code",
      "metadata": {
        "id": "H64hnkezLeB_"
      },
      "source": [
        "import numpy as np\n",
        "import pandas as pd"
      ],
      "execution_count": 3,
      "outputs": []
    },
    {
      "cell_type": "code",
      "metadata": {
        "colab": {
          "base_uri": "https://localhost:8080/",
          "height": 0
        },
        "id": "5wuDb6SPRBDF",
        "outputId": "920e09c8-da7b-4fe0-fb13-44599361bfe7"
      },
      "source": [
        "df = pd.read_csv(\"/content/drive/MyDrive/Colab Notebooks/data/Book-Woofer/Emotion_final.csv\")\n",
        "df.head()"
      ],
      "execution_count": 4,
      "outputs": [
        {
          "output_type": "execute_result",
          "data": {
            "text/html": [
              "<div>\n",
              "<style scoped>\n",
              "    .dataframe tbody tr th:only-of-type {\n",
              "        vertical-align: middle;\n",
              "    }\n",
              "\n",
              "    .dataframe tbody tr th {\n",
              "        vertical-align: top;\n",
              "    }\n",
              "\n",
              "    .dataframe thead th {\n",
              "        text-align: right;\n",
              "    }\n",
              "</style>\n",
              "<table border=\"1\" class=\"dataframe\">\n",
              "  <thead>\n",
              "    <tr style=\"text-align: right;\">\n",
              "      <th></th>\n",
              "      <th>Text</th>\n",
              "      <th>Emotion</th>\n",
              "    </tr>\n",
              "  </thead>\n",
              "  <tbody>\n",
              "    <tr>\n",
              "      <th>0</th>\n",
              "      <td>i didnt feel humiliated</td>\n",
              "      <td>sadness</td>\n",
              "    </tr>\n",
              "    <tr>\n",
              "      <th>1</th>\n",
              "      <td>i can go from feeling so hopeless to so damned...</td>\n",
              "      <td>sadness</td>\n",
              "    </tr>\n",
              "    <tr>\n",
              "      <th>2</th>\n",
              "      <td>im grabbing a minute to post i feel greedy wrong</td>\n",
              "      <td>anger</td>\n",
              "    </tr>\n",
              "    <tr>\n",
              "      <th>3</th>\n",
              "      <td>i am ever feeling nostalgic about the fireplac...</td>\n",
              "      <td>love</td>\n",
              "    </tr>\n",
              "    <tr>\n",
              "      <th>4</th>\n",
              "      <td>i am feeling grouchy</td>\n",
              "      <td>anger</td>\n",
              "    </tr>\n",
              "  </tbody>\n",
              "</table>\n",
              "</div>"
            ],
            "text/plain": [
              "                                                Text  Emotion\n",
              "0                            i didnt feel humiliated  sadness\n",
              "1  i can go from feeling so hopeless to so damned...  sadness\n",
              "2   im grabbing a minute to post i feel greedy wrong    anger\n",
              "3  i am ever feeling nostalgic about the fireplac...     love\n",
              "4                               i am feeling grouchy    anger"
            ]
          },
          "metadata": {
            "tags": []
          },
          "execution_count": 4
        }
      ]
    },
    {
      "cell_type": "code",
      "metadata": {
        "colab": {
          "base_uri": "https://localhost:8080/"
        },
        "id": "m0_tphx1e2kA",
        "outputId": "ec25aed3-6049-4649-9c18-81fdd00922cd"
      },
      "source": [
        "df['Emotion'].value_counts()"
      ],
      "execution_count": 5,
      "outputs": [
        {
          "output_type": "execute_result",
          "data": {
            "text/plain": [
              "happy       7029\n",
              "sadness     6265\n",
              "anger       2993\n",
              "fear        2652\n",
              "love        1641\n",
              "surprise     879\n",
              "Name: Emotion, dtype: int64"
            ]
          },
          "metadata": {
            "tags": []
          },
          "execution_count": 5
        }
      ]
    },
    {
      "cell_type": "markdown",
      "metadata": {
        "id": "Mnk3Z8Y4CIb0"
      },
      "source": [
        "### Splitting the Data into 3 Parts (Train, Test, Val) and Exporting them as csv"
      ]
    },
    {
      "cell_type": "code",
      "metadata": {
        "id": "XXlMQm1qXiy2"
      },
      "source": [
        "from sklearn.model_selection import train_test_split\n",
        "\n",
        "df_train, df_rem = train_test_split(df,test_size=0.2,train_size=0.8)\n",
        "df_val, df_test = train_test_split(df_rem,test_size=0.5,train_size=0.5)"
      ],
      "execution_count": 6,
      "outputs": []
    },
    {
      "cell_type": "code",
      "metadata": {
        "id": "Bue8EHMDPJd1"
      },
      "source": [
        "# ! pip install fast-ml\n",
        "# from fast_ml.model_development import train_valid_test_split\n",
        "\n",
        "# X_train, y_train, X_valid, y_valid, X_test, y_test = train_valid_test_split(df, target = 'Emotion', \n",
        "#                                                                             train_size=0.7, valid_size=0.2, test_size=0.1)"
      ],
      "execution_count": 7,
      "outputs": []
    },
    {
      "cell_type": "code",
      "metadata": {
        "id": "mF1ILv7mMB-W",
        "colab": {
          "base_uri": "https://localhost:8080/"
        },
        "outputId": "83589688-52f1-44e3-cebd-341a0ee3c0d7"
      },
      "source": [
        "print(df_train.shape, df_test.shape, df_val.shape)"
      ],
      "execution_count": 8,
      "outputs": [
        {
          "output_type": "stream",
          "text": [
            "(17167, 2) (2146, 2) (2146, 2)\n"
          ],
          "name": "stdout"
        }
      ]
    },
    {
      "cell_type": "code",
      "metadata": {
        "id": "l5tG0sNf3GUv"
      },
      "source": [
        "df_train.to_csv('Emotion_train%80-10-10.csv')\n",
        "df_test.to_csv('Emotion_test%80-10-10.csv')\n",
        "df_val.to_csv('Emotion_val%80-10-10.csv')"
      ],
      "execution_count": 9,
      "outputs": []
    },
    {
      "cell_type": "code",
      "metadata": {
        "id": "MYL7GiQvMCQo",
        "colab": {
          "base_uri": "https://localhost:8080/",
          "height": 0
        },
        "outputId": "711631dc-b84b-418f-b8f5-e4495222a422"
      },
      "source": [
        "import matplotlib.pyplot as plt\n",
        "import seaborn as sns\n",
        "# sns.set()\n",
        "# %config InlineBackend.figure_format = 'retina'\n",
        "\n",
        "sns.countplot(df_train.Emotion)\n",
        "plt.show()"
      ],
      "execution_count": 10,
      "outputs": [
        {
          "output_type": "stream",
          "text": [
            "/usr/local/lib/python3.7/dist-packages/seaborn/_decorators.py:43: FutureWarning: Pass the following variable as a keyword arg: x. From version 0.12, the only valid positional argument will be `data`, and passing other arguments without an explicit keyword will result in an error or misinterpretation.\n",
            "  FutureWarning\n"
          ],
          "name": "stderr"
        },
        {
          "output_type": "display_data",
          "data": {
            "image/png": "[encoded data removed]",
            "text/plain": [
              "<Figure size 432x288 with 1 Axes>"
            ]
          },
          "metadata": {
            "tags": [],
            "needs_background": "light"
          }
        }
      ]
    },
    {
      "cell_type": "markdown",
      "metadata": {
        "id": "8-K-ahyJB1x1"
      },
      "source": [
        "### Adding a column 'Length' and explore the lengths of the Text"
      ]
    },
    {
      "cell_type": "code",
      "metadata": {
        "id": "iz9qh7FQMcAB",
        "colab": {
          "base_uri": "https://localhost:8080/"
        },
        "outputId": "6578baf6-c1d0-421e-a4c1-3ab95a41b644"
      },
      "source": [
        "df_train['Length'] = df_train.Text.apply(lambda x:len(x))"
      ],
      "execution_count": 11,
      "outputs": [
        {
          "output_type": "stream",
          "text": [
            "/usr/local/lib/python3.7/dist-packages/ipykernel_launcher.py:1: SettingWithCopyWarning: \n",
            "A value is trying to be set on a copy of a slice from a DataFrame.\n",
            "Try using .loc[row_indexer,col_indexer] = value instead\n",
            "\n",
            "See the caveats in the documentation: https://pandas.pydata.org/pandas-docs/stable/user_guide/indexing.html#returning-a-view-versus-a-copy\n",
            "  \"\"\"Entry point for launching an IPython kernel.\n"
          ],
          "name": "stderr"
        }
      ]
    },
    {
      "cell_type": "code",
      "metadata": {
        "id": "fBWRs74AMctH",
        "colab": {
          "base_uri": "https://localhost:8080/",
          "height": 0
        },
        "outputId": "18ce81f4-7893-4a76-9e71-b5efad9d01c2"
      },
      "source": [
        "# plt.plot(df_train.Length)\n",
        "df_train.Length.hist()"
      ],
      "execution_count": 12,
      "outputs": [
        {
          "output_type": "execute_result",
          "data": {
            "text/plain": [
              "<matplotlib.axes._subplots.AxesSubplot at 0x7f7c361fd390>"
            ]
          },
          "metadata": {
            "tags": []
          },
          "execution_count": 12
        },
        {
          "output_type": "display_data",
          "data": {
            "image/png": "[encoded data removed]",
            "text/plain": [
              "<Figure size 432x288 with 1 Axes>"
            ]
          },
          "metadata": {
            "tags": [],
            "needs_background": "light"
          }
        }
      ]
    },
    {
      "cell_type": "code",
      "metadata": {
        "id": "bMMiBQH9Mcys",
        "colab": {
          "base_uri": "https://localhost:8080/",
          "height": 0
        },
        "outputId": "8e1047f2-60cb-4471-fbd4-0c105fe159ad"
      },
      "source": [
        "display(df_train.Length.max())\n",
        "display(int(df_train.Length.mean()))\n",
        "display(int(df_train.Length.std()))"
      ],
      "execution_count": 13,
      "outputs": [
        {
          "output_type": "display_data",
          "data": {
            "text/plain": [
              "307"
            ]
          },
          "metadata": {
            "tags": []
          }
        },
        {
          "output_type": "display_data",
          "data": {
            "text/plain": [
              "96"
            ]
          },
          "metadata": {
            "tags": []
          }
        },
        {
          "output_type": "display_data",
          "data": {
            "text/plain": [
              "55"
            ]
          },
          "metadata": {
            "tags": []
          }
        }
      ]
    },
    {
      "cell_type": "markdown",
      "metadata": {
        "id": "sY6lc2C_BoXx"
      },
      "source": [
        "### Preprocessing with package from kaggle"
      ]
    },
    {
      "cell_type": "code",
      "metadata": {
        "id": "lohELcM1Mc4b",
        "colab": {
          "base_uri": "https://localhost:8080/"
        },
        "outputId": "186e59f4-0dc7-426f-8602-8e1ffc571f4c"
      },
      "source": [
        "# preprocessing library from kaggle \n",
        "!pip install git+https://github.com/laxmimerit/preprocess_kgptalkie.git --upgrade --force-reinstall\n",
        "!pip install BeautifulSoup4\n",
        "\n",
        "import preprocess_kgptalkie as ps\n",
        "\n",
        "# %%time\n",
        "\n",
        "from tqdm._tqdm_notebook import tqdm_notebook\n",
        "tqdm_notebook.pandas()\n",
        "\n",
        "def text_preprocessing(df,col_name):\n",
        "    column = col_name\n",
        "    df[column] = df[column].progress_apply(lambda x:str(x).lower())\n",
        "    df[column] = df[column].progress_apply(lambda x: ps.cont_exp(x)) #you're -> you are; i'm -> i am\n",
        "    df[column] = df[column].progress_apply(lambda x: ps.remove_emails(x))\n",
        "    df[column] = df[column].progress_apply(lambda x: ps.remove_html_tags(x))\n",
        "#     df[column] = df[column].progress_apply(lambda x: ps.remove_stopwords(x))\n",
        "\n",
        "    df[column] = df[column].progress_apply(lambda x: ps.remove_special_chars(x))\n",
        "    df[column] = df[column].progress_apply(lambda x: ps.remove_accented_chars(x))\n",
        "    df[column] = df[column].progress_apply(lambda x: ps.make_base(x)) #ran -> run,\n",
        "    return(df)"
      ],
      "execution_count": 14,
      "outputs": [
        {
          "output_type": "stream",
          "text": [
            "Collecting git+https://github.com/laxmimerit/preprocess_kgptalkie.git\n",
            "  Cloning https://github.com/laxmimerit/preprocess_kgptalkie.git to /tmp/pip-req-build-6_28mwgo\n",
            "  Running command git clone -q https://github.com/laxmimerit/preprocess_kgptalkie.git /tmp/pip-req-build-6_28mwgo\n",
            "Building wheels for collected packages: preprocess-kgptalkie\n",
            "  Building wheel for preprocess-kgptalkie (setup.py) ... \u001b[?25l\u001b[?25hdone\n",
            "  Created wheel for preprocess-kgptalkie: filename=preprocess_kgptalkie-0.1.3-cp37-none-any.whl size=11759 sha256=ffdc9ebbb0bb422b7398b5040e0fcedf9311388c34b7611c27a34ba25b4db5bf\n",
            "  Stored in directory: /tmp/pip-ephem-wheel-cache-5gihybrv/wheels/a8/18/22/90afa4bd43247fb9a75b710a4a3fcd94966c022ce9e3c7d0a6\n",
            "Successfully built preprocess-kgptalkie\n",
            "Installing collected packages: preprocess-kgptalkie\n",
            "Successfully installed preprocess-kgptalkie-0.1.3\n",
            "Requirement already satisfied: BeautifulSoup4 in /usr/local/lib/python3.7/dist-packages (4.6.3)\n"
          ],
          "name": "stdout"
        },
        {
          "output_type": "stream",
          "text": [
            "/usr/local/lib/python3.7/dist-packages/ipykernel_launcher.py:9: TqdmDeprecationWarning: This function will be removed in tqdm==5.0.0\n",
            "Please use `tqdm.notebook.*` instead of `tqdm._tqdm_notebook.*`\n",
            "  if __name__ == '__main__':\n",
            "/usr/local/lib/python3.7/dist-packages/tqdm/std.py:658: FutureWarning: The Panel class is removed from pandas. Accessing it from the top-level namespace will also be removed in the next version\n",
            "  from pandas import Panel\n"
          ],
          "name": "stderr"
        }
      ]
    },
    {
      "cell_type": "code",
      "metadata": {
        "id": "1__3j1c5Mc9q",
        "colab": {
          "base_uri": "https://localhost:8080/",
          "height": 1000,
          "referenced_widgets": [
            "f4aa6719aea34799b9e6f2ffbdb688d9",
            "96dbb4276e404166b668b97b6ca2f8c7",
            "9d0a649fa3b244fe930367627789fcdc",
            "9adfc91a7f1c4791a1cfaf419f8d1c67",
            "de471eae747849d7824a74b666c0bb67",
            "83fbeb9bb6664c6a82fb4519ca7970e2",
            "7872f1c14c9846018db0a9ef179313b8",
            "8f68e8a7b574448aa6a0f67e81446d0f",
            "9433b29d54374340ac289dd8927a83b7",
            "82d862d52fcf4121a2a7fe3cc666d2fb",
            "5e6969e2d6b64146b107facad25cd8ba",
            "62ab6d75639542a3a7196c3256ba7ded",
            "2821e54a55e149b18a0548b82bef8ef0",
            "e08e681d206f4e4886c2300f1fa879c2",
            "d70b1d76cd4045a98d40086cecb737ea",
            "01ad451571cd41d6bcbd33b8e30675e9",
            "244c4feb3f824ad4a51d78217c65369c",
            "dce24105a06745b68e02c63b159a9597",
            "c1459fd421b64161b678775183305da2",
            "8360ce6d7b7d4952bd70e6d7b0990ddf",
            "399c8669f16b4780b7774320be93f5ed",
            "1a5e69dd91c24b718a3f3bcb69883bb5",
            "1d0a325790474e5a9c3272db950e9780",
            "26deaf2d04584b7b8186b48fe03f65a7",
            "43861a856caf436e90a9feb3e9ae0ae1",
            "c3cd6dee6fa14d55b70dc49279c02f95",
            "23d9781a97c84ce99f649ecded3c7404",
            "6ea251a739e84a3bba2eee18fcfbd98a",
            "5906c8daeba24501a6b99304b16cfca4",
            "1b85e91fb35f444ea47fe71d7c482d0c",
            "e59410017e154e2cad0608e506feda99",
            "9d5f26f976294b5a95b9d8dc93611280",
            "7ee4935b0f164c70ac8085787ab2f723",
            "6e982fcf8b4843fe8206216e2adcecd3",
            "8b54e83105044b7f89d3cac1bae86145",
            "309224cdf5734978a296bd256cd4022f",
            "62ede54e4fec4960ae019d9e9d606fa3",
            "3781c20d7f5c4774aeff353da3566a6b",
            "30763b3e26d44af5901f24a77c21b487",
            "c5915591329044d5ba05e3a61b0233a1",
            "c78ad914a4244cb78e988fe7a181099f",
            "50bd05b83cbb469bab54bd195f65d888",
            "9477fb66e2a24fb5934442171a97d8bd",
            "fae2530ca2114f67a941606670d2ef7e",
            "61ff3779f4f04242ab041f8100169255",
            "7dd7bf06251f4618973fe0a637103551",
            "88fe5e87c0d446ef871e8ecdccea1996",
            "f571c2a9ef9d4de8bdcddc72bd2424fc",
            "795bcc98f1e94f13bc8c8c9ac69f2c39",
            "51817ebcf3df42acbdfa5e85f7f38152",
            "b4f7332453da4056803cceaa0132f6d0",
            "06e366944c254c4f9dc2abbcd98ed4d0",
            "0355631665eb4fc1a8adf1005b846de5",
            "f57160a99cb840c98dac566c40ee767a",
            "f820a01a886a4d24b48889a596be8b31",
            "0320ffb22a5f4ac69901641a4d24a242"
          ]
        },
        "outputId": "743e33cd-80b9-405f-937c-ed6f6453dfbb"
      },
      "source": [
        "df_cleaned_train = text_preprocessing(df_train, 'Text')\n",
        "df_cleaned_train.head()"
      ],
      "execution_count": 15,
      "outputs": [
        {
          "output_type": "display_data",
          "data": {
            "application/vnd.jupyter.widget-view+json": {
              "model_id": "f4aa6719aea34799b9e6f2ffbdb688d9",
              "version_minor": 0,
              "version_major": 2
            },
            "text/plain": [
              "HBox(children=(FloatProgress(value=0.0, max=17167.0), HTML(value='')))"
            ]
          },
          "metadata": {
            "tags": []
          }
        },
        {
          "output_type": "stream",
          "text": [
            "\n"
          ],
          "name": "stdout"
        },
        {
          "output_type": "stream",
          "text": [
            "/usr/local/lib/python3.7/dist-packages/ipykernel_launcher.py:14: SettingWithCopyWarning: \n",
            "A value is trying to be set on a copy of a slice from a DataFrame.\n",
            "Try using .loc[row_indexer,col_indexer] = value instead\n",
            "\n",
            "See the caveats in the documentation: https://pandas.pydata.org/pandas-docs/stable/user_guide/indexing.html#returning-a-view-versus-a-copy\n",
            "  \n"
          ],
          "name": "stderr"
        },
        {
          "output_type": "display_data",
          "data": {
            "application/vnd.jupyter.widget-view+json": {
              "model_id": "9433b29d54374340ac289dd8927a83b7",
              "version_minor": 0,
              "version_major": 2
            },
            "text/plain": [
              "HBox(children=(FloatProgress(value=0.0, max=17167.0), HTML(value='')))"
            ]
          },
          "metadata": {
            "tags": []
          }
        },
        {
          "output_type": "stream",
          "text": [
            "\n"
          ],
          "name": "stdout"
        },
        {
          "output_type": "stream",
          "text": [
            "/usr/local/lib/python3.7/dist-packages/ipykernel_launcher.py:15: SettingWithCopyWarning: \n",
            "A value is trying to be set on a copy of a slice from a DataFrame.\n",
            "Try using .loc[row_indexer,col_indexer] = value instead\n",
            "\n",
            "See the caveats in the documentation: https://pandas.pydata.org/pandas-docs/stable/user_guide/indexing.html#returning-a-view-versus-a-copy\n",
            "  from ipykernel import kernelapp as app\n"
          ],
          "name": "stderr"
        },
        {
          "output_type": "display_data",
          "data": {
            "application/vnd.jupyter.widget-view+json": {
              "model_id": "244c4feb3f824ad4a51d78217c65369c",
              "version_minor": 0,
              "version_major": 2
            },
            "text/plain": [
              "HBox(children=(FloatProgress(value=0.0, max=17167.0), HTML(value='')))"
            ]
          },
          "metadata": {
            "tags": []
          }
        },
        {
          "output_type": "stream",
          "text": [
            "\n"
          ],
          "name": "stdout"
        },
        {
          "output_type": "stream",
          "text": [
            "/usr/local/lib/python3.7/dist-packages/ipykernel_launcher.py:16: SettingWithCopyWarning: \n",
            "A value is trying to be set on a copy of a slice from a DataFrame.\n",
            "Try using .loc[row_indexer,col_indexer] = value instead\n",
            "\n",
            "See the caveats in the documentation: https://pandas.pydata.org/pandas-docs/stable/user_guide/indexing.html#returning-a-view-versus-a-copy\n",
            "  app.launch_new_instance()\n"
          ],
          "name": "stderr"
        },
        {
          "output_type": "display_data",
          "data": {
            "application/vnd.jupyter.widget-view+json": {
              "model_id": "43861a856caf436e90a9feb3e9ae0ae1",
              "version_minor": 0,
              "version_major": 2
            },
            "text/plain": [
              "HBox(children=(FloatProgress(value=0.0, max=17167.0), HTML(value='')))"
            ]
          },
          "metadata": {
            "tags": []
          }
        },
        {
          "output_type": "stream",
          "text": [
            "\n"
          ],
          "name": "stdout"
        },
        {
          "output_type": "stream",
          "text": [
            "/usr/local/lib/python3.7/dist-packages/ipykernel_launcher.py:17: SettingWithCopyWarning: \n",
            "A value is trying to be set on a copy of a slice from a DataFrame.\n",
            "Try using .loc[row_indexer,col_indexer] = value instead\n",
            "\n",
            "See the caveats in the documentation: https://pandas.pydata.org/pandas-docs/stable/user_guide/indexing.html#returning-a-view-versus-a-copy\n"
          ],
          "name": "stderr"
        },
        {
          "output_type": "display_data",
          "data": {
            "application/vnd.jupyter.widget-view+json": {
              "model_id": "7ee4935b0f164c70ac8085787ab2f723",
              "version_minor": 0,
              "version_major": 2
            },
            "text/plain": [
              "HBox(children=(FloatProgress(value=0.0, max=17167.0), HTML(value='')))"
            ]
          },
          "metadata": {
            "tags": []
          }
        },
        {
          "output_type": "stream",
          "text": [
            "\n"
          ],
          "name": "stdout"
        },
        {
          "output_type": "stream",
          "text": [
            "/usr/local/lib/python3.7/dist-packages/ipykernel_launcher.py:20: SettingWithCopyWarning: \n",
            "A value is trying to be set on a copy of a slice from a DataFrame.\n",
            "Try using .loc[row_indexer,col_indexer] = value instead\n",
            "\n",
            "See the caveats in the documentation: https://pandas.pydata.org/pandas-docs/stable/user_guide/indexing.html#returning-a-view-versus-a-copy\n"
          ],
          "name": "stderr"
        },
        {
          "output_type": "display_data",
          "data": {
            "application/vnd.jupyter.widget-view+json": {
              "model_id": "c78ad914a4244cb78e988fe7a181099f",
              "version_minor": 0,
              "version_major": 2
            },
            "text/plain": [
              "HBox(children=(FloatProgress(value=0.0, max=17167.0), HTML(value='')))"
            ]
          },
          "metadata": {
            "tags": []
          }
        },
        {
          "output_type": "stream",
          "text": [
            "\n"
          ],
          "name": "stdout"
        },
        {
          "output_type": "stream",
          "text": [
            "/usr/local/lib/python3.7/dist-packages/ipykernel_launcher.py:21: SettingWithCopyWarning: \n",
            "A value is trying to be set on a copy of a slice from a DataFrame.\n",
            "Try using .loc[row_indexer,col_indexer] = value instead\n",
            "\n",
            "See the caveats in the documentation: https://pandas.pydata.org/pandas-docs/stable/user_guide/indexing.html#returning-a-view-versus-a-copy\n"
          ],
          "name": "stderr"
        },
        {
          "output_type": "display_data",
          "data": {
            "application/vnd.jupyter.widget-view+json": {
              "model_id": "795bcc98f1e94f13bc8c8c9ac69f2c39",
              "version_minor": 0,
              "version_major": 2
            },
            "text/plain": [
              "HBox(children=(FloatProgress(value=0.0, max=17167.0), HTML(value='')))"
            ]
          },
          "metadata": {
            "tags": []
          }
        },
        {
          "output_type": "stream",
          "text": [
            "\n"
          ],
          "name": "stdout"
        },
        {
          "output_type": "stream",
          "text": [
            "/usr/local/lib/python3.7/dist-packages/ipykernel_launcher.py:22: SettingWithCopyWarning: \n",
            "A value is trying to be set on a copy of a slice from a DataFrame.\n",
            "Try using .loc[row_indexer,col_indexer] = value instead\n",
            "\n",
            "See the caveats in the documentation: https://pandas.pydata.org/pandas-docs/stable/user_guide/indexing.html#returning-a-view-versus-a-copy\n"
          ],
          "name": "stderr"
        },
        {
          "output_type": "execute_result",
          "data": {
            "text/html": [
              "<div>\n",
              "<style scoped>\n",
              "    .dataframe tbody tr th:only-of-type {\n",
              "        vertical-align: middle;\n",
              "    }\n",
              "\n",
              "    .dataframe tbody tr th {\n",
              "        vertical-align: top;\n",
              "    }\n",
              "\n",
              "    .dataframe thead th {\n",
              "        text-align: right;\n",
              "    }\n",
              "</style>\n",
              "<table border=\"1\" class=\"dataframe\">\n",
              "  <thead>\n",
              "    <tr style=\"text-align: right;\">\n",
              "      <th></th>\n",
              "      <th>Text</th>\n",
              "      <th>Emotion</th>\n",
              "      <th>Length</th>\n",
              "    </tr>\n",
              "  </thead>\n",
              "  <tbody>\n",
              "    <tr>\n",
              "      <th>17967</th>\n",
              "      <td>i see how it turn out i will talk more about i...</td>\n",
              "      <td>happy</td>\n",
              "      <td>136</td>\n",
              "    </tr>\n",
              "    <tr>\n",
              "      <th>10378</th>\n",
              "      <td>i can smirk at folk who can t use outlook and ...</td>\n",
              "      <td>happy</td>\n",
              "      <td>108</td>\n",
              "    </tr>\n",
              "    <tr>\n",
              "      <th>20904</th>\n",
              "      <td>no well to limit the damage control his anger ...</td>\n",
              "      <td>anger</td>\n",
              "      <td>97</td>\n",
              "    </tr>\n",
              "    <tr>\n",
              "      <th>19226</th>\n",
              "      <td>i m feel terrific and in great shape i m optim...</td>\n",
              "      <td>happy</td>\n",
              "      <td>162</td>\n",
              "    </tr>\n",
              "    <tr>\n",
              "      <th>1159</th>\n",
              "      <td>i face turn red and feel shy emm no</td>\n",
              "      <td>fear</td>\n",
              "      <td>35</td>\n",
              "    </tr>\n",
              "  </tbody>\n",
              "</table>\n",
              "</div>"
            ],
            "text/plain": [
              "                                                    Text Emotion  Length\n",
              "17967  i see how it turn out i will talk more about i...   happy     136\n",
              "10378  i can smirk at folk who can t use outlook and ...   happy     108\n",
              "20904  no well to limit the damage control his anger ...   anger      97\n",
              "19226  i m feel terrific and in great shape i m optim...   happy     162\n",
              "1159                 i face turn red and feel shy emm no    fear      35"
            ]
          },
          "metadata": {
            "tags": []
          },
          "execution_count": 15
        }
      ]
    },
    {
      "cell_type": "code",
      "metadata": {
        "colab": {
          "base_uri": "https://localhost:8080/",
          "height": 1000,
          "referenced_widgets": [
            "6af98054769149eca90da381684cea05",
            "05305c4ab74b48daa35206f287c3efae",
            "782d1b996b77491caa15b438f72de0f2",
            "5f7b667b28184c28a436f08abeb8c078",
            "f79f34cf3a7d43009c13ffea6e3c3479",
            "614d59e0c4e54cab870c41fc4ecf72a8",
            "efe10709446546f28f75215e0b8bbbfc",
            "b1c98439e29440be9f5712860cd09890",
            "589e8fa8dbc148839c9d9c85c6147339",
            "a135cd40fea243eb832009fec3254a8e",
            "532bd8b836c84c10b97ec2e6631cd17d",
            "cc2b094518df43f3bd085a6dde1414bb",
            "e44f50633c5b489a9c230ca8a76b3de0",
            "f343729de4ac496fafcc35feb104cfea",
            "563a78a3b7664f329d6daa7e3b94fbc9",
            "b7c7abb1afae4032a60160779efd5e36",
            "602592f7937a47289ef90f5df15b9cee",
            "a9b1b32c741b4ca7871744320be78eef",
            "4bec5bfdd2f24b299357cbc8ee1a6ce1",
            "e7e8e0e9804945a6aa060be238d2ec38",
            "d259e6f52e3c4636b714646ea399f3e1",
            "6784a9f48f024507a4c15c3e0fa455bf",
            "ffb8df5891cb4cbfa13014bae08c678f",
            "af0d798bf03a4813b105eb01130b4e68",
            "84349b7d6579480790348fd23fd8f16d",
            "0ee1388b6a51486a80cff760413232a7",
            "5fa81b7b298e4ca49b465a84c6a3d2be",
            "1c8ae3edb8c84033a5114c9256ecbb78",
            "2e91f7ee36be422a9f8e60f5e856e703",
            "ba74272bd99a4323bf8083ee3c3a60cc",
            "b1666a17cc004774bea39c6a1ea768d6",
            "d66b15e5d4164a36998d79741de84c59",
            "8bb5887e91d840258e4f04688e4ff024",
            "42595cb47bb24aa1a0ab01a8f92034bc",
            "d5a474cf462e455a97901976da90cafa",
            "9333f1324a4b443fa9628a6532d5113a",
            "1693361b9fe14ecba3a1aa2da70bb174",
            "78f0710c755048a2b187fbd3adf7c21e",
            "e2b38b955a274b40aad2f6a598efdeb1",
            "a4ff3660100f4c1ea4d05ea39d28517b",
            "180eac61f36740648746b6f79472b819",
            "40e182e2e99e484cac6ee048a9c8f947",
            "642667755a284bf8b2851bcac4c16d3b",
            "ef380096ade04985a752ec06c0c6e4bb",
            "db995134749144da88f42b37ae5cabfc",
            "f205f88c89da4155b506dd9eeac532bf",
            "8df9dc57ad7c48f7ab4b57ed1bbb36f0",
            "baeff6c20322460c9d1f8a13d5c29c3a",
            "e951f9bfd4b147f184ddeaaff1c8bff8",
            "8066844b3c02451f8866373cc176a834",
            "97a80209887d4e1ebd366554b25bd20b",
            "1383df1421d547af8d0f030fa6b78902",
            "b365cdadafff41d2af35d5180f4e6baf",
            "0edda8ddad964d4aa59e25e0b65d3b27",
            "18068d0748d041d39ef699a3a6104cb2",
            "0f51d0c52d0445aca78ef958bd66e907",
            "12d3889390174e9ca69e097466223bca",
            "50236dfc69e543b5b8cfd33fd7e905a7",
            "fd95673c8de746f0b6ed604513ad9740",
            "b8dd96d878c746ed9e17b785715926ba",
            "d06d525caaf2459085e2d3fff1b90c77",
            "c6f4739c138a4243a3c0e1939f321c22",
            "884524ad764c4708b3eaea8e843f4a3c",
            "af45aa4eaa174fee81ed7b43ad8f25bd",
            "3217f4f307ae45a99930231c7e16f496",
            "a9dd47678ff24d49a4c3e95bf07aa44c",
            "92eca3660a724074867293bb63296ab5",
            "9d2ff2e07e8149a98136e3bc656edc64",
            "eb54b558f76d4fecaf782fa513577778",
            "41afda62ca94452695ba6ba45325a83b",
            "dd96a67d02e647f3857b7fbcea4a5bba",
            "1422708caac7485c81d73c161b2c0128",
            "0495b81a3c964e7b8953a31a1c5f4bfb",
            "de31178fd4ba44d091bd84b4167d97c0",
            "82bae1b804264e6caa941c9e896ce3f4",
            "4c314865814c451c8b3baeaf708c41f0",
            "5429d0afa41942aba7fd4998de538b95",
            "dee0dedfcbce49858959600145ce8564",
            "1db8b2a3a53f4f0e935ebeed3e8612f4",
            "832610becc19471b90db5ca5ad10b2bf",
            "ec94774e3c97405c804fbd0a8ce21e99",
            "dd081df186974fa1aa89ebbc5453ba33",
            "9c8cf1f7e0a140f59811bcc7674728a6",
            "2317d7f02e924062848648e198e8ec12",
            "b097b9d19a7b4579a8ac8a47c39a1cee",
            "76875f2d99d84c4b9f6d566486a4237a",
            "6f20fabe040a4fd19e490c3dd70a2374",
            "bf0773b910d44005bc1e06db51230a3c",
            "a92a91331e414d4c84efc2b677c16ec4",
            "3fed5ff4685d4c48a53eaf8bc92d41a0",
            "77a368e56591499fafcb9fcf3d55dc5a",
            "1189e306eeea45138f86496a6745b58d",
            "cd2c764790d54b1a867ba61845a2fd38",
            "eae53bd54fac4a96af8f7db3e06a7a8d",
            "212d96ddf9f44e3c91a992ed4517a9ce",
            "1d058e0b2d8249d182c9fb04bb00cc9b",
            "b8489f4706614040ba2c8d348fcf8757",
            "b7cab068a8b04ea29300cc57464fa0d0",
            "71443f6d017d4debb320dc7915a520b5",
            "701f9833342c41daac05b9ec75f3b720",
            "e98616de1d4d436caff964d36f3c3483",
            "b6e0cf98b5c5464a93ce37729c955f92",
            "7c78a38e76204a6e91d0f683a0f767fd",
            "35fadb6117864242ad75bf7a5f30ebfc",
            "d097775e69c543339eabe614e8931dc7",
            "639d3d2556d04a9cba3cdfed60c6cf89",
            "c81ed5572fdc4565ba6de50f5d0acad8",
            "49c5d91ed1c8407994096e123ddf538f",
            "1efeefedb75f4f948469580797ea1576",
            "43f08f5ab74e4ca3b46aabae53f2136d",
            "970ec4b618744d3c8c4e6b2cf68e5cb0",
            "9947709931884ac383165c0b354063d3"
          ]
        },
        "id": "7YZSTiu2bBaB",
        "outputId": "a4939d33-8f6d-4eb1-b60a-954e9b143afb"
      },
      "source": [
        "df_cleaned_test = text_preprocessing(df_test, 'Text')\n",
        "df_cleaned_val = text_preprocessing(df_val, 'Text')"
      ],
      "execution_count": 16,
      "outputs": [
        {
          "output_type": "display_data",
          "data": {
            "application/vnd.jupyter.widget-view+json": {
              "model_id": "6af98054769149eca90da381684cea05",
              "version_minor": 0,
              "version_major": 2
            },
            "text/plain": [
              "HBox(children=(FloatProgress(value=0.0, max=2146.0), HTML(value='')))"
            ]
          },
          "metadata": {
            "tags": []
          }
        },
        {
          "output_type": "stream",
          "text": [
            "\n"
          ],
          "name": "stdout"
        },
        {
          "output_type": "stream",
          "text": [
            "/usr/local/lib/python3.7/dist-packages/ipykernel_launcher.py:14: SettingWithCopyWarning: \n",
            "A value is trying to be set on a copy of a slice from a DataFrame.\n",
            "Try using .loc[row_indexer,col_indexer] = value instead\n",
            "\n",
            "See the caveats in the documentation: https://pandas.pydata.org/pandas-docs/stable/user_guide/indexing.html#returning-a-view-versus-a-copy\n",
            "  \n"
          ],
          "name": "stderr"
        },
        {
          "output_type": "display_data",
          "data": {
            "application/vnd.jupyter.widget-view+json": {
              "model_id": "589e8fa8dbc148839c9d9c85c6147339",
              "version_minor": 0,
              "version_major": 2
            },
            "text/plain": [
              "HBox(children=(FloatProgress(value=0.0, max=2146.0), HTML(value='')))"
            ]
          },
          "metadata": {
            "tags": []
          }
        },
        {
          "output_type": "stream",
          "text": [
            "\n"
          ],
          "name": "stdout"
        },
        {
          "output_type": "stream",
          "text": [
            "/usr/local/lib/python3.7/dist-packages/ipykernel_launcher.py:15: SettingWithCopyWarning: \n",
            "A value is trying to be set on a copy of a slice from a DataFrame.\n",
            "Try using .loc[row_indexer,col_indexer] = value instead\n",
            "\n",
            "See the caveats in the documentation: https://pandas.pydata.org/pandas-docs/stable/user_guide/indexing.html#returning-a-view-versus-a-copy\n",
            "  from ipykernel import kernelapp as app\n"
          ],
          "name": "stderr"
        },
        {
          "output_type": "display_data",
          "data": {
            "application/vnd.jupyter.widget-view+json": {
              "model_id": "602592f7937a47289ef90f5df15b9cee",
              "version_minor": 0,
              "version_major": 2
            },
            "text/plain": [
              "HBox(children=(FloatProgress(value=0.0, max=2146.0), HTML(value='')))"
            ]
          },
          "metadata": {
            "tags": []
          }
        },
        {
          "output_type": "stream",
          "text": [
            "\n"
          ],
          "name": "stdout"
        },
        {
          "output_type": "stream",
          "text": [
            "/usr/local/lib/python3.7/dist-packages/ipykernel_launcher.py:16: SettingWithCopyWarning: \n",
            "A value is trying to be set on a copy of a slice from a DataFrame.\n",
            "Try using .loc[row_indexer,col_indexer] = value instead\n",
            "\n",
            "See the caveats in the documentation: https://pandas.pydata.org/pandas-docs/stable/user_guide/indexing.html#returning-a-view-versus-a-copy\n",
            "  app.launch_new_instance()\n"
          ],
          "name": "stderr"
        },
        {
          "output_type": "display_data",
          "data": {
            "application/vnd.jupyter.widget-view+json": {
              "model_id": "84349b7d6579480790348fd23fd8f16d",
              "version_minor": 0,
              "version_major": 2
            },
            "text/plain": [
              "HBox(children=(FloatProgress(value=0.0, max=2146.0), HTML(value='')))"
            ]
          },
          "metadata": {
            "tags": []
          }
        },
        {
          "output_type": "stream",
          "text": [
            "\n"
          ],
          "name": "stdout"
        },
        {
          "output_type": "stream",
          "text": [
            "/usr/local/lib/python3.7/dist-packages/ipykernel_launcher.py:17: SettingWithCopyWarning: \n",
            "A value is trying to be set on a copy of a slice from a DataFrame.\n",
            "Try using .loc[row_indexer,col_indexer] = value instead\n",
            "\n",
            "See the caveats in the documentation: https://pandas.pydata.org/pandas-docs/stable/user_guide/indexing.html#returning-a-view-versus-a-copy\n"
          ],
          "name": "stderr"
        },
        {
          "output_type": "display_data",
          "data": {
            "application/vnd.jupyter.widget-view+json": {
              "model_id": "8bb5887e91d840258e4f04688e4ff024",
              "version_minor": 0,
              "version_major": 2
            },
            "text/plain": [
              "HBox(children=(FloatProgress(value=0.0, max=2146.0), HTML(value='')))"
            ]
          },
          "metadata": {
            "tags": []
          }
        },
        {
          "output_type": "stream",
          "text": [
            "\n"
          ],
          "name": "stdout"
        },
        {
          "output_type": "stream",
          "text": [
            "/usr/local/lib/python3.7/dist-packages/ipykernel_launcher.py:20: SettingWithCopyWarning: \n",
            "A value is trying to be set on a copy of a slice from a DataFrame.\n",
            "Try using .loc[row_indexer,col_indexer] = value instead\n",
            "\n",
            "See the caveats in the documentation: https://pandas.pydata.org/pandas-docs/stable/user_guide/indexing.html#returning-a-view-versus-a-copy\n"
          ],
          "name": "stderr"
        },
        {
          "output_type": "display_data",
          "data": {
            "application/vnd.jupyter.widget-view+json": {
              "model_id": "180eac61f36740648746b6f79472b819",
              "version_minor": 0,
              "version_major": 2
            },
            "text/plain": [
              "HBox(children=(FloatProgress(value=0.0, max=2146.0), HTML(value='')))"
            ]
          },
          "metadata": {
            "tags": []
          }
        },
        {
          "output_type": "stream",
          "text": [
            "\n"
          ],
          "name": "stdout"
        },
        {
          "output_type": "stream",
          "text": [
            "/usr/local/lib/python3.7/dist-packages/ipykernel_launcher.py:21: SettingWithCopyWarning: \n",
            "A value is trying to be set on a copy of a slice from a DataFrame.\n",
            "Try using .loc[row_indexer,col_indexer] = value instead\n",
            "\n",
            "See the caveats in the documentation: https://pandas.pydata.org/pandas-docs/stable/user_guide/indexing.html#returning-a-view-versus-a-copy\n"
          ],
          "name": "stderr"
        },
        {
          "output_type": "display_data",
          "data": {
            "application/vnd.jupyter.widget-view+json": {
              "model_id": "e951f9bfd4b147f184ddeaaff1c8bff8",
              "version_minor": 0,
              "version_major": 2
            },
            "text/plain": [
              "HBox(children=(FloatProgress(value=0.0, max=2146.0), HTML(value='')))"
            ]
          },
          "metadata": {
            "tags": []
          }
        },
        {
          "output_type": "stream",
          "text": [
            "\n"
          ],
          "name": "stdout"
        },
        {
          "output_type": "stream",
          "text": [
            "/usr/local/lib/python3.7/dist-packages/ipykernel_launcher.py:22: SettingWithCopyWarning: \n",
            "A value is trying to be set on a copy of a slice from a DataFrame.\n",
            "Try using .loc[row_indexer,col_indexer] = value instead\n",
            "\n",
            "See the caveats in the documentation: https://pandas.pydata.org/pandas-docs/stable/user_guide/indexing.html#returning-a-view-versus-a-copy\n"
          ],
          "name": "stderr"
        },
        {
          "output_type": "display_data",
          "data": {
            "application/vnd.jupyter.widget-view+json": {
              "model_id": "12d3889390174e9ca69e097466223bca",
              "version_minor": 0,
              "version_major": 2
            },
            "text/plain": [
              "HBox(children=(FloatProgress(value=0.0, max=2146.0), HTML(value='')))"
            ]
          },
          "metadata": {
            "tags": []
          }
        },
        {
          "output_type": "stream",
          "text": [
            "\n"
          ],
          "name": "stdout"
        },
        {
          "output_type": "display_data",
          "data": {
            "application/vnd.jupyter.widget-view+json": {
              "model_id": "3217f4f307ae45a99930231c7e16f496",
              "version_minor": 0,
              "version_major": 2
            },
            "text/plain": [
              "HBox(children=(FloatProgress(value=0.0, max=2146.0), HTML(value='')))"
            ]
          },
          "metadata": {
            "tags": []
          }
        },
        {
          "output_type": "stream",
          "text": [
            "\n"
          ],
          "name": "stdout"
        },
        {
          "output_type": "display_data",
          "data": {
            "application/vnd.jupyter.widget-view+json": {
              "model_id": "0495b81a3c964e7b8953a31a1c5f4bfb",
              "version_minor": 0,
              "version_major": 2
            },
            "text/plain": [
              "HBox(children=(FloatProgress(value=0.0, max=2146.0), HTML(value='')))"
            ]
          },
          "metadata": {
            "tags": []
          }
        },
        {
          "output_type": "stream",
          "text": [
            "\n"
          ],
          "name": "stdout"
        },
        {
          "output_type": "display_data",
          "data": {
            "application/vnd.jupyter.widget-view+json": {
              "model_id": "ec94774e3c97405c804fbd0a8ce21e99",
              "version_minor": 0,
              "version_major": 2
            },
            "text/plain": [
              "HBox(children=(FloatProgress(value=0.0, max=2146.0), HTML(value='')))"
            ]
          },
          "metadata": {
            "tags": []
          }
        },
        {
          "output_type": "stream",
          "text": [
            "\n"
          ],
          "name": "stdout"
        },
        {
          "output_type": "display_data",
          "data": {
            "application/vnd.jupyter.widget-view+json": {
              "model_id": "a92a91331e414d4c84efc2b677c16ec4",
              "version_minor": 0,
              "version_major": 2
            },
            "text/plain": [
              "HBox(children=(FloatProgress(value=0.0, max=2146.0), HTML(value='')))"
            ]
          },
          "metadata": {
            "tags": []
          }
        },
        {
          "output_type": "stream",
          "text": [
            "\n"
          ],
          "name": "stdout"
        },
        {
          "output_type": "display_data",
          "data": {
            "application/vnd.jupyter.widget-view+json": {
              "model_id": "b8489f4706614040ba2c8d348fcf8757",
              "version_minor": 0,
              "version_major": 2
            },
            "text/plain": [
              "HBox(children=(FloatProgress(value=0.0, max=2146.0), HTML(value='')))"
            ]
          },
          "metadata": {
            "tags": []
          }
        },
        {
          "output_type": "stream",
          "text": [
            "\n"
          ],
          "name": "stdout"
        },
        {
          "output_type": "display_data",
          "data": {
            "application/vnd.jupyter.widget-view+json": {
              "model_id": "d097775e69c543339eabe614e8931dc7",
              "version_minor": 0,
              "version_major": 2
            },
            "text/plain": [
              "HBox(children=(FloatProgress(value=0.0, max=2146.0), HTML(value='')))"
            ]
          },
          "metadata": {
            "tags": []
          }
        },
        {
          "output_type": "stream",
          "text": [
            "\n"
          ],
          "name": "stdout"
        }
      ]
    },
    {
      "cell_type": "code",
      "metadata": {
        "id": "hCf75CC64FKM"
      },
      "source": [
        "df_train.to_csv('Emotion_train_cleaned%80-10-10.csv')"
      ],
      "execution_count": 17,
      "outputs": []
    },
    {
      "cell_type": "code",
      "metadata": {
        "id": "WKaVwQ0qMdC3",
        "colab": {
          "base_uri": "https://localhost:8080/",
          "height": 197
        },
        "outputId": "55b95974-269e-42aa-8217-b9e9fc7a3599"
      },
      "source": [
        "df_cleaned_train.head()"
      ],
      "execution_count": 18,
      "outputs": [
        {
          "output_type": "execute_result",
          "data": {
            "text/html": [
              "<div>\n",
              "<style scoped>\n",
              "    .dataframe tbody tr th:only-of-type {\n",
              "        vertical-align: middle;\n",
              "    }\n",
              "\n",
              "    .dataframe tbody tr th {\n",
              "        vertical-align: top;\n",
              "    }\n",
              "\n",
              "    .dataframe thead th {\n",
              "        text-align: right;\n",
              "    }\n",
              "</style>\n",
              "<table border=\"1\" class=\"dataframe\">\n",
              "  <thead>\n",
              "    <tr style=\"text-align: right;\">\n",
              "      <th></th>\n",
              "      <th>Text</th>\n",
              "      <th>Emotion</th>\n",
              "      <th>Length</th>\n",
              "    </tr>\n",
              "  </thead>\n",
              "  <tbody>\n",
              "    <tr>\n",
              "      <th>17967</th>\n",
              "      <td>i see how it turn out i will talk more about i...</td>\n",
              "      <td>happy</td>\n",
              "      <td>136</td>\n",
              "    </tr>\n",
              "    <tr>\n",
              "      <th>10378</th>\n",
              "      <td>i can smirk at folk who can t use outlook and ...</td>\n",
              "      <td>happy</td>\n",
              "      <td>108</td>\n",
              "    </tr>\n",
              "    <tr>\n",
              "      <th>20904</th>\n",
              "      <td>no well to limit the damage control his anger ...</td>\n",
              "      <td>anger</td>\n",
              "      <td>97</td>\n",
              "    </tr>\n",
              "    <tr>\n",
              "      <th>19226</th>\n",
              "      <td>i m feel terrific and in great shape i m optim...</td>\n",
              "      <td>happy</td>\n",
              "      <td>162</td>\n",
              "    </tr>\n",
              "    <tr>\n",
              "      <th>1159</th>\n",
              "      <td>i face turn red and feel shy emm no</td>\n",
              "      <td>fear</td>\n",
              "      <td>35</td>\n",
              "    </tr>\n",
              "  </tbody>\n",
              "</table>\n",
              "</div>"
            ],
            "text/plain": [
              "                                                    Text Emotion  Length\n",
              "17967  i see how it turn out i will talk more about i...   happy     136\n",
              "10378  i can smirk at folk who can t use outlook and ...   happy     108\n",
              "20904  no well to limit the damage control his anger ...   anger      97\n",
              "19226  i m feel terrific and in great shape i m optim...   happy     162\n",
              "1159                 i face turn red and feel shy emm no    fear      35"
            ]
          },
          "metadata": {
            "tags": []
          },
          "execution_count": 18
        }
      ]
    },
    {
      "cell_type": "markdown",
      "metadata": {
        "id": "JPNNYKJAAUeY"
      },
      "source": [
        "### df Emotion Column to Numbers"
      ]
    },
    {
      "cell_type": "code",
      "metadata": {
        "id": "kCidRdVSMdHY",
        "colab": {
          "base_uri": "https://localhost:8080/"
        },
        "outputId": "211f68be-f2e9-4079-d54e-8ffc72e64b74"
      },
      "source": [
        "df_cleaned_train['Emotion']=df_cleaned_train.Emotion.replace({'happy':0,'anger':1,'love':2,'sadness':3,'fear':4,'surprise':5})\n",
        "df_cleaned_test['Emotion']=df_cleaned_test.Emotion.replace({'happy':0,'anger':1,'love':2,'sadness':3,'fear':4,'surprise':5})\n",
        "df_cleaned_val['Emotion']=df_cleaned_val.Emotion.replace({'happy':0,'anger':1,'love':2,'sadness':3,'fear':4,'surprise':5})"
      ],
      "execution_count": 19,
      "outputs": [
        {
          "output_type": "stream",
          "text": [
            "/usr/local/lib/python3.7/dist-packages/ipykernel_launcher.py:1: SettingWithCopyWarning: \n",
            "A value is trying to be set on a copy of a slice from a DataFrame.\n",
            "Try using .loc[row_indexer,col_indexer] = value instead\n",
            "\n",
            "See the caveats in the documentation: https://pandas.pydata.org/pandas-docs/stable/user_guide/indexing.html#returning-a-view-versus-a-copy\n",
            "  \"\"\"Entry point for launching an IPython kernel.\n",
            "/usr/local/lib/python3.7/dist-packages/ipykernel_launcher.py:2: SettingWithCopyWarning: \n",
            "A value is trying to be set on a copy of a slice from a DataFrame.\n",
            "Try using .loc[row_indexer,col_indexer] = value instead\n",
            "\n",
            "See the caveats in the documentation: https://pandas.pydata.org/pandas-docs/stable/user_guide/indexing.html#returning-a-view-versus-a-copy\n",
            "  \n",
            "/usr/local/lib/python3.7/dist-packages/ipykernel_launcher.py:3: SettingWithCopyWarning: \n",
            "A value is trying to be set on a copy of a slice from a DataFrame.\n",
            "Try using .loc[row_indexer,col_indexer] = value instead\n",
            "\n",
            "See the caveats in the documentation: https://pandas.pydata.org/pandas-docs/stable/user_guide/indexing.html#returning-a-view-versus-a-copy\n",
            "  This is separate from the ipykernel package so we can avoid doing imports until\n"
          ],
          "name": "stderr"
        }
      ]
    },
    {
      "cell_type": "markdown",
      "metadata": {
        "id": "CBLmfGDVANUA"
      },
      "source": [
        "### Tokenizing to have Word Vectors"
      ]
    },
    {
      "cell_type": "code",
      "metadata": {
        "id": "alT4yUapMdMe",
        "colab": {
          "base_uri": "https://localhost:8080/"
        },
        "outputId": "f1095eee-59c1-489a-b456-414c9f11f18e"
      },
      "source": [
        "from keras.preprocessing.text import Tokenizer\n",
        "\n",
        "num_words = 10000 # this means 15000 unique words can be taken \n",
        "tokenizer=Tokenizer(num_words,lower=True)\n",
        "df_total = pd.concat([df_cleaned_train['Text'], df_cleaned_test.Text], axis = 0)\n",
        "tokenizer.fit_on_texts(df_total)\n",
        "\n",
        "len(tokenizer.word_index) # this is whole unique words in our corpus\n",
        "# but we are taking only 10000 words in our model\n",
        "\n",
        "from keras.preprocessing.sequence import pad_sequences\n",
        "\n",
        "X_train=tokenizer.texts_to_sequences(df_cleaned_train['Text'])\n",
        "X_train_pad=pad_sequences(X_train,maxlen=300,padding='post')\n",
        "X_test = tokenizer.texts_to_sequences(df_cleaned_test.Text)\n",
        "X_test_pad = pad_sequences(X_test, maxlen = 300, padding = 'post')\n",
        "X_val = tokenizer.texts_to_sequences(df_cleaned_val.Text)\n",
        "X_val_pad = pad_sequences(X_val, maxlen = 300, padding = 'post')\n",
        "\n",
        "print(X_train_pad.shape, X_val_pad.shape)"
      ],
      "execution_count": 20,
      "outputs": [
        {
          "output_type": "stream",
          "text": [
            "(17167, 300) (2146, 300)\n"
          ],
          "name": "stdout"
        }
      ]
    },
    {
      "cell_type": "code",
      "metadata": {
        "id": "ZK-5KlGf5acg"
      },
      "source": [
        "from tensorflow.keras.utils import to_categorical\n",
        "y_train = to_categorical(df_cleaned_train.Emotion.values)\n",
        "y_test = to_categorical(df_cleaned_test.Emotion.values)\n",
        "y_val = to_categorical(df_cleaned_val.Emotion.values)"
      ],
      "execution_count": 21,
      "outputs": []
    },
    {
      "cell_type": "markdown",
      "metadata": {
        "id": "gYttFzYh_8Oo"
      },
      "source": [
        "##### Importing Gensim Words\n",
        "\n"
      ]
    },
    {
      "cell_type": "code",
      "metadata": {
        "id": "dDzmN5mVM3DE",
        "colab": {
          "base_uri": "https://localhost:8080/"
        },
        "outputId": "66a26f25-57a4-406c-a174-26b35d74cef3"
      },
      "source": [
        "import gensim.downloader as api\n",
        "glove_gensim  = api.load('glove-wiki-gigaword-100') #100 dimension"
      ],
      "execution_count": 22,
      "outputs": [
        {
          "output_type": "stream",
          "text": [
            "[==================================================] 100.0% 128.1/128.1MB downloaded\n"
          ],
          "name": "stdout"
        }
      ]
    },
    {
      "cell_type": "markdown",
      "metadata": {
        "id": "381698md_tqf"
      },
      "source": [
        "### Creating a word2Vec weight matrix"
      ]
    },
    {
      "cell_type": "code",
      "metadata": {
        "colab": {
          "base_uri": "https://localhost:8080/",
          "height": 34
        },
        "id": "m1XCBcB472ad",
        "outputId": "46797e49-539c-4774-d9c6-2754a007542a"
      },
      "source": [
        "vector_size = 100\n",
        "gensim_weight_matrix = np.zeros((num_words ,vector_size))\n",
        "\n",
        "display(gensim_weight_matrix.shape)\n",
        "# pd.DataFrame(gensim_weight_matrix).head()"
      ],
      "execution_count": 23,
      "outputs": [
        {
          "output_type": "display_data",
          "data": {
            "text/plain": [
              "(10000, 100)"
            ]
          },
          "metadata": {
            "tags": []
          }
        }
      ]
    },
    {
      "cell_type": "code",
      "metadata": {
        "colab": {
          "base_uri": "https://localhost:8080/",
          "height": 54
        },
        "id": "sMibUBmf71NK",
        "outputId": "53cac129-c4d5-4777-a03e-12a5ec99b549"
      },
      "source": [
        "# display(tokenizer)\n",
        "# display(tokenizer.word_index)\n",
        "display(tokenizer.word_index.items())"
      ],
      "execution_count": 24,
      "outputs": [
        {
          "output_type": "display_data",
          "data": {
            "text/plain": [
              "dict_items([('i', 1), ('feel', 2), ('and', 3), ('to', 4), ('the', 5), ('a', 6), ('that', 7), ('of', 8), ('my', 9), ('have', 10), ('in', 11), ('not', 12), ('it', 13), ('like', 14), ('m', 15), ('is', 16), ('do', 17), ('was', 18), ('so', 19), ('for', 20), ('but', 21), ('me', 22), ('with', 23), ('this', 24), ('am', 25), ('about', 26), ('be', 27), ('as', 28), ('on', 29), ('you', 30), ('at', 31), ('feeling', 32), ('just', 33), ('when', 34), ('can', 35), ('get', 36), ('or', 37), ('make', 38), ('all', 39), ('more', 40), ('go', 41), ('because', 42), ('know', 43), ('he', 44), ('time', 45), ('up', 46), ('really', 47), ('by', 48), ('s', 49), ('are', 50), ('t', 51), ('very', 52), ('will', 53), ('out', 54), ('been', 55), ('would', 56), ('if', 57), ('think', 58), ('her', 59), ('want', 60), ('what', 61), ('they', 62), ('myself', 63), ('little', 64), ('how', 65), ('from', 66), ('now', 67), ('say', 68), ('being', 69), ('day', 70), ('one', 71), ('she', 72), ('people', 73), ('thing', 74), ('them', 75), ('love', 76), ('who', 77), ('there', 78), ('his', 79), ('some', 80), ('an', 81), ('him', 82), ('life', 83), ('still', 84), ('even', 85), ('could', 86), ('we', 87), ('its', 88), ('see', 89), ('way', 90), ('look', 91), ('bit', 92), ('something', 93), ('much', 94), ('need', 95), ('other', 96), ('good', 97), ('no', 98), ('come', 99), ('work', 100), ('than', 101), ('start', 102), ('take', 103), ('too', 104), ('back', 105), ('into', 106), ('try', 107), ('well', 108), ('their', 109), ('which', 110), ('don', 111), ('over', 112), ('pretty', 113), ('find', 114), ('were', 115), ('leave', 116), ('always', 117), ('then', 118), ('these', 119), ('right', 120), ('should', 121), ('only', 122), ('also', 123), ('after', 124), ('your', 125), ('help', 126), ('year', 127), ('tell', 128), ('friend', 129), ('today', 130), ('give', 131), ('around', 132), ('again', 133), ('most', 134), ('may', 135), ('our', 136), ('though', 137), ('write', 138), ('here', 139), ('down', 140), ('happy', 141), ('someone', 142), ('through', 143), ('those', 144), ('where', 145), ('any', 146), ('never', 147), ('week', 148), ('lot', 149), ('before', 150), ('less', 151), ('quite', 152), ('every', 153), ('sure', 154), ('keep', 155), ('many', 156), ('enough', 157), ('use', 158), ('read', 159), ('hate', 160), ('kind', 161), ('home', 162), ('last', 163), ('off', 164), ('bad', 165), ('away', 166), ('anything', 167), ('person', 168), ('why', 169), ('talk', 170), ('own', 171), ('new', 172), ('ever', 173), ('let', 174), ('such', 175), ('seem', 176), ('while', 177), ('sometimes', 178), ('world', 179), ('long', 180), ('without', 181), ('few', 182), ('remember', 183), ('everything', 184), ('first', 185), ('become', 186), ('family', 187), ('face', 188), ('re', 189), ('end', 190), ('actually', 191), ('http', 192), ('put', 193), ('miss', 194), ('care', 195), ('post', 196), ('run', 197), ('sit', 198), ('hope', 199), ('happen', 200), ('able', 201), ('ask', 202), ('moment', 203), ('live', 204), ('rather', 205), ('man', 206), ('lose', 207), ('child', 208), ('part', 209), ('two', 210), ('old', 211), ('same', 212), ('already', 213), ('href', 214), ('mean', 215), ('since', 216), ('alone', 217), ('stop', 218), ('us', 219), ('girl', 220), ('heart', 221), ('nothing', 222), ('walk', 223), ('spend', 224), ('often', 225), ('sad', 226), ('watch', 227), ('blog', 228), ('book', 229), ('night', 230), ('place', 231), ('call', 232), ('yet', 233), ('support', 234), ('god', 235), ('point', 236), ('great', 237), ('morning', 238), ('hurt', 239), ('ill', 240), ('share', 241), ('woman', 242), ('wake', 243), ('hard', 244), ('another', 245), ('angry', 246), ('hear', 247), ('pain', 248), ('begin', 249), ('school', 250), ('experience', 251), ('excited', 252), ('word', 253), ('strange', 254), ('sleep', 255), ('sweet', 256), ('head', 257), ('must', 258), ('guess', 259), ('believe', 260), ('weird', 261), ('everyone', 262), ('eat', 263), ('accept', 264), ('show', 265), ('change', 266), ('once', 267), ('hour', 268), ('turn', 269), ('learn', 270), ('understand', 271), ('enjoy', 272), ('didn', 273), ('each', 274), ('whole', 275), ('reason', 276), ('move', 277), ('hand', 278), ('thought', 279), ('eye', 280), ('anxious', 281), ('almost', 282), ('anyone', 283), ('especially', 284), ('amazing', 285), ('body', 286), ('month', 287), ('stress', 288), ('next', 289), ('else', 290), ('fact', 291), ('wrong', 292), ('sense', 293), ('completely', 294), ('wear', 295), ('kid', 296), ('self', 297), ('important', 298), ('maybe', 299), ('ve', 300), ('towards', 301), ('cold', 302), ('overwhelmed', 303), ('break', 304), ('strong', 305), ('past', 306), ('wonder', 307), ('afraid', 308), ('cause', 309), ('stupid', 310), ('realize', 311), ('passionate', 312), ('helpless', 313), ('free', 314), ('guy', 315), ('tired', 316), ('until', 317), ('job', 318), ('least', 319), ('class', 320), ('wait', 321), ('decide', 322), ('sort', 323), ('wish', 324), ('story', 325), ('real', 326), ('mind', 327), ('depressed', 328), ('close', 329), ('inside', 330), ('mother', 331), ('slightly', 332), ('lately', 333), ('cry', 334), ('idea', 335), ('nervous', 336), ('trust', 337), ('big', 338), ('generous', 339), ('admit', 340), ('meet', 341), ('guilty', 342), ('bring', 343), ('far', 344), ('low', 345), ('cool', 346), ('wonderful', 347), ('sorry', 348), ('lonely', 349), ('miserable', 350), ('stay', 351), ('stuff', 352), ('matter', 353), ('house', 354), ('probably', 355), ('thankful', 356), ('glad', 357), ('situation', 358), ('listen', 359), ('emotional', 360), ('special', 361), ('extremely', 362), ('suppose', 363), ('fine', 364), ('during', 365), ('amp', 366), ('proud', 367), ('particularly', 368), ('buy', 369), ('baby', 370), ('comfortable', 371), ('parent', 372), ('perfect', 373), ('content', 374), ('ok', 375), ('room', 376), ('fuck', 377), ('safe', 378), ('continue', 379), ('rest', 380), ('stand', 381), ('young', 382), ('relationship', 383), ('allow', 384), ('song', 385), ('totally', 386), ('future', 387), ('finally', 388), ('positive', 389), ('shake', 390), ('truly', 391), ('beat', 392), ('side', 393), ('value', 394), ('bed', 395), ('together', 396), ('hot', 397), ('plan', 398), ('control', 399), ('hold', 400), ('confident', 401), ('ache', 402), ('play', 403), ('both', 404), ('small', 405), ('awkward', 406), ('ashamed', 407), ('beloved', 408), ('blessed', 409), ('calm', 410), ('usually', 411), ('finish', 412), ('better', 413), ('mom', 414), ('smile', 415), ('question', 416), ('mad', 417), ('anymore', 418), ('deal', 419), ('between', 420), ('bother', 421), ('burden', 422), ('frustrated', 423), ('emotion', 424), ('problem', 425), ('unhappy', 426), ('full', 427), ('pass', 428), ('instead', 429), ('energy', 430), ('lovely', 431), ('boy', 432), ('agitated', 433), ('successful', 434), ('speak', 435), ('lucky', 436), ('laugh', 437), ('funny', 438), ('popular', 439), ('irritable', 440), ('fall', 441), ('dream', 442), ('high', 443), ('open', 444), ('somewhat', 445), ('struggle', 446), ('brave', 447), ('punish', 448), ('super', 449), ('resentful', 450), ('ago', 451), ('grow', 452), ('cute', 453), ('minute', 454), ('embarrassed', 455), ('against', 456), ('satisfied', 457), ('amazed', 458), ('shitty', 459), ('lie', 460), ('fear', 461), ('horrible', 462), ('husband', 463), ('heartbroken', 464), ('creative', 465), ('terrible', 466), ('inspire', 467), ('selfish', 468), ('unsure', 469), ('food', 470), ('add', 471), ('scared', 472), ('comment', 473), ('useless', 474), ('picture', 475), ('expect', 476), ('deep', 477), ('useful', 478), ('couple', 479), ('pleased', 480), ('absolutely', 481), ('however', 482), ('d', 483), ('rich', 484), ('ignore', 485), ('either', 486), ('set', 487), ('empty', 488), ('uncomfortable', 489), ('apprehensive', 490), ('second', 491), ('light', 492), ('soon', 493), ('money', 494), ('vulnerable', 495), ('win', 496), ('dumb', 497), ('lethargic', 498), ('fun', 499), ('hair', 500), ('somehow', 501), ('dull', 502), ('uncertain', 503), ('issue', 504), ('greedy', 505), ('kinda', 506), ('act', 507), ('curious', 508), ('whether', 509), ('reject', 510), ('under', 511), ('game', 512), ('weekend', 513), ('irritated', 514), ('nice', 515), ('simply', 516), ('violent', 517), ('yesterday', 518), ('offend', 519), ('character', 520), ('awful', 521), ('talented', 522), ('front', 523), ('defeat', 524), ('vain', 525), ('smart', 526), ('homesick', 527), ('energetic', 528), ('longer', 529), ('respect', 530), ('numb', 531), ('course', 532), ('drive', 533), ('hopeful', 534), ('hopeless', 535), ('relaxed', 536), ('forget', 537), ('gorgeous', 538), ('sick', 539), ('die', 540), ('music', 541), ('touch', 542), ('sympathetic', 543), ('www', 544), ('ugly', 545), ('choose', 546), ('terrified', 547), ('sound', 548), ('shy', 549), ('surprised', 550), ('joy', 551), ('voice', 552), ('state', 553), ('frightened', 554), ('pathetic', 555), ('type', 556), ('melancholy', 557), ('andt', 558), ('human', 559), ('worthless', 560), ('follow', 561), ('gloomy', 562), ('innocent', 563), ('bitchy', 564), ('step', 565), ('insecure', 566), ('three', 567), ('beautiful', 568), ('pleasant', 569), ('ready', 570), ('joyful', 571), ('rude', 572), ('name', 573), ('tonight', 574), ('country', 575), ('cranky', 576), ('sincere', 577), ('mood', 578), ('create', 579), ('certain', 580), ('groggy', 581), ('disappointed', 582), ('anger', 583), ('bitter', 584), ('suddenly', 585), ('hesitant', 586), ('tender', 587), ('list', 588), ('blank', 589), ('notice', 590), ('tear', 591), ('result', 592), ('half', 593), ('jealous', 594), ('dissatisfied', 595), ('upset', 596), ('consider', 597), ('productive', 598), ('unwelcome', 599), ('drain', 600), ('definitely', 601), ('lack', 602), ('eager', 603), ('different', 604), ('focus', 605), ('stressed', 606), ('fake', 607), ('behind', 608), ('oh', 609), ('reluctant', 610), ('outside', 611), ('exhausted', 612), ('petty', 613), ('honestly', 614), ('whatever', 615), ('worry', 616), ('movie', 617), ('pull', 618), ('dangerous', 619), ('damage', 620), ('order', 621), ('easy', 622), ('crappy', 623), ('lead', 624), ('thank', 625), ('reach', 626), ('superior', 627), ('optimistic', 628), ('car', 629), ('faithful', 630), ('pay', 631), ('within', 632), ('dirty', 633), ('gentle', 634), ('christmas', 635), ('student', 636), ('naughty', 637), ('precious', 638), ('style', 639), ('desire', 640), ('rush', 641), ('paranoid', 642), ('romantic', 643), ('confused', 644), ('mine', 645), ('resolve', 646), ('piece', 647), ('torture', 648), ('horny', 649), ('lousy', 650), ('express', 651), ('pressure', 652), ('peaceful', 653), ('inadequate', 654), ('project', 655), ('decision', 656), ('divine', 657), ('festive', 658), ('pick', 659), ('friendly', 660), ('although', 661), ('imagine', 662), ('appreciate', 663), ('treat', 664), ('clever', 665), ('incredibly', 666), ('weight', 667), ('true', 668), ('restless', 669), ('mellow', 670), ('valuable', 671), ('mention', 672), ('regretful', 673), ('exactly', 674), ('loyal', 675), ('perhaps', 676), ('return', 677), ('later', 678), ('shaky', 679), ('worthwhile', 680), ('nostalgic', 681), ('needy', 682), ('choice', 683), ('impatient', 684), ('bless', 685), ('throw', 686), ('forward', 687), ('group', 688), ('delicious', 689), ('ecstatic', 690), ('disgusted', 691), ('terrific', 692), ('suffer', 693), ('please', 694), ('virtuous', 695), ('discontent', 696), ('receive', 697), ('summer', 698), ('hit', 699), ('acceptable', 700), ('answer', 701), ('foot', 702), ('phone', 703), ('agitate', 704), ('skin', 705), ('party', 706), ('catch', 707), ('trip', 708), ('fantastic', 709), ('line', 710), ('pressured', 711), ('effort', 712), ('chance', 713), ('fight', 714), ('welcome', 715), ('fabulous', 716), ('grumpy', 717), ('manage', 718), ('rotten', 719), ('impressed', 720), ('supportive', 721), ('water', 722), ('early', 723), ('reader', 724), ('ungrateful', 725), ('father', 726), ('rebellious', 727), ('toward', 728), ('lame', 729), ('whenever', 730), ('race', 731), ('team', 732), ('remind', 733), ('visit', 734), ('explain', 735), ('offer', 736), ('generally', 737), ('fearful', 738), ('upon', 739), ('artistic', 740), ('unimportant', 741), ('wasn', 742), ('drink', 743), ('adventurous', 744), ('spirit', 745), ('push', 746), ('intimidate', 747), ('fan', 748), ('opportunity', 749), ('photo', 750), ('grateful', 751), ('along', 752), ('describe', 753), ('top', 754), ('intelligent', 755), ('foolish', 756), ('honored', 757), ('listless', 758), ('privileged', 759), ('event', 760), ('damn', 761), ('fill', 762), ('view', 763), ('level', 764), ('figure', 765), ('devastated', 766), ('area', 767), ('longing', 768), ('attention', 769), ('discouraged', 770), ('age', 771), ('stubborn', 772), ('normal', 773), ('carefree', 774), ('short', 775), ('dark', 776), ('constantly', 777), ('gift', 778), ('unfortunate', 779), ('sister', 780), ('study', 781), ('loss', 782), ('arm', 783), ('memory', 784), ('ability', 785), ('threaten', 786), ('despite', 787), ('amount', 788), ('dress', 789), ('easily', 790), ('distract', 791), ('clean', 792), ('stomach', 793), ('convince', 794), ('leg', 795), ('holiday', 796), ('connection', 797), ('worth', 798), ('space', 799), ('stick', 800), ('member', 801), ('triumphant', 802), ('conversation', 803), ('themselves', 804), ('annoyed', 805), ('single', 806), ('across', 807), ('honoured', 808), ('frantic', 809), ('air', 810), ('evening', 811), ('case', 812), ('present', 813), ('wife', 814), ('contented', 815), ('red', 816), ('cut', 817), ('door', 818), ('peace', 819), ('community', 820), ('determined', 821), ('kick', 822), ('fit', 823), ('smug', 824), ('son', 825), ('challenge', 826), ('possible', 827), ('color', 828), ('several', 829), ('abuse', 830), ('doom', 831), ('art', 832), ('casual', 833), ('writing', 834), ('warm', 835), ('number', 836), ('late', 837), ('vital', 838), ('season', 839), ('utterly', 840), ('four', 841), ('due', 842), ('complete', 843), ('date', 844), ('excitement', 845), ('daughter', 846), ('negative', 847), ('truth', 848), ('deprive', 849), ('news', 850), ('himself', 851), ('personal', 852), ('healthy', 853), ('tomorrow', 854), ('fail', 855), ('attempt', 856), ('convinced', 857), ('fond', 858), ('city', 859), ('send', 860), ('lady', 861), ('wall', 862), ('public', 863), ('health', 864), ('ground', 865), ('troubled', 866), ('delicate', 867), ('death', 868), ('skeptical', 869), ('bear', 870), ('deeply', 871), ('envious', 872), ('goal', 873), ('unloved', 874), ('appreciative', 875), ('except', 876), ('submissive', 877), ('shit', 878), ('effect', 879), ('jade', 880), ('yes', 881), ('cover', 882), ('doesn', 883), ('mostly', 884), ('doubtful', 885), ('messy', 886), ('certainly', 887), ('product', 888), ('unpleasant', 889), ('pray', 890), ('distressed', 891), ('crazy', 892), ('realise', 893), ('provide', 894), ('quickly', 895), ('remain', 896), ('expression', 897), ('glamorous', 898), ('cross', 899), ('drop', 900), ('sadness', 901), ('tragic', 902), ('seriously', 903), ('hide', 904), ('company', 905), ('large', 906), ('church', 907), ('shocked', 908), ('deserve', 909), ('kiss', 910), ('strongly', 911), ('dog', 912), ('relieved', 913), ('src', 914), ('insult', 915), ('sentimental', 916), ('insulted', 917), ('isolated', 918), ('assured', 919), ('force', 920), ('comfort', 921), ('delighted', 922), ('keen', 923), ('anyway', 924), ('boring', 925), ('process', 926), ('anguish', 927), ('sorrow', 928), ('possibly', 929), ('stare', 930), ('save', 931), ('film', 932), ('image', 933), ('boyfriend', 934), ('honest', 935), ('fairly', 936), ('computer', 937), ('title', 938), ('five', 939), ('humiliate', 940), ('hang', 941), ('teacher', 942), ('hell', 943), ('college', 944), ('breath', 945), ('medium', 946), ('dismay', 947), ('yourself', 948), ('action', 949), ('sun', 950), ('dad', 951), ('personally', 952), ('general', 953), ('weather', 954), ('pissed', 955), ('busy', 956), ('remorseful', 957), ('tree', 958), ('loud', 959), ('surprise', 960), ('check', 961), ('everyday', 962), ('fucking', 963), ('recently', 964), ('gain', 965), ('fully', 966), ('invigorate', 967), ('physically', 968), ('doubt', 969), ('idiotic', 970), ('soul', 971), ('likely', 972), ('exhaust', 973), ('teach', 974), ('social', 975), ('daily', 976), ('further', 977), ('avoid', 978), ('finger', 979), ('suspicious', 980), ('piss', 981), ('grouchy', 982), ('spot', 983), ('usual', 984), ('clear', 985), ('clothe', 986), ('beyond', 987), ('hostile', 988), ('entertain', 989), ('near', 990), ('brother', 991), ('extra', 992), ('exam', 993), ('handle', 994), ('slowly', 995), ('page', 996), ('lord', 997), ('disillusioned', 998), ('reassured', 999), ('wanna', 1000), ('shame', 1001), ('difference', 1002), ('draw', 1003), ('simple', 1004), ('mile', 1005), ('grief', 1006), ('strength', 1007), ('sociable', 1008), ('disheartened', 1009), ('thrilled', 1010), ('worried', 1011), ('disquiet', 1012), ('sex', 1013), ('dance', 1014), ('discover', 1015), ('disturb', 1016), ('terribly', 1017), ('anxiety', 1018), ('subject', 1019), ('interest', 1020), ('blame', 1021), ('whom', 1022), ('thrill', 1023), ('smell', 1024), ('progress', 1025), ('pregnant', 1026), ('unable', 1027), ('annoy', 1028), ('couldn', 1029), ('devastate', 1030), ('img', 1031), ('office', 1032), ('ahead', 1033), ('physical', 1034), ('scream', 1035), ('knowledge', 1036), ('settle', 1037), ('breathe', 1038), ('power', 1039), ('happiness', 1040), ('shoe', 1041), ('playful', 1042), ('kill', 1043), ('shop', 1044), ('indecisive', 1045), ('training', 1046), ('tortured', 1047), ('writer', 1048), ('brain', 1049), ('lesson', 1050), ('carry', 1051), ('service', 1052), ('nature', 1053), ('dinner', 1054), ('dazed', 1055), ('mistake', 1056), ('tend', 1057), ('release', 1058), ('trouble', 1059), ('difficult', 1060), ('pound', 1061), ('stunned', 1062), ('discourage', 1063), ('black', 1064), ('furious', 1065), ('blue', 1066), ('fly', 1067), ('achieve', 1068), ('hateful', 1069), ('pop', 1070), ('facebook', 1071), ('huge', 1072), ('feed', 1073), ('guilt', 1074), ('purpose', 1075), ('card', 1076), ('message', 1077), ('author', 1078), ('system', 1079), ('note', 1080), ('mouth', 1081), ('offended', 1082), ('letter', 1083), ('presence', 1084), ('business', 1085), ('belong', 1086), ('emotionally', 1087), ('herself', 1088), ('white', 1089), ('complacent', 1090), ('particular', 1091), ('amused', 1092), ('career', 1093), ('folk', 1094), ('nearly', 1095), ('street', 1096), ('search', 1097), ('lazy', 1098), ('quiet', 1099), ('nor', 1100), ('tv', 1101), ('poor', 1102), ('aware', 1103), ('target', 1104), ('okay', 1105), ('somewhere', 1106), ('sunday', 1107), ('entirely', 1108), ('entire', 1109), ('concern', 1110), ('distraught', 1111), ('waste', 1112), ('admire', 1113), ('chest', 1114), ('bag', 1115), ('jolly', 1116), ('determine', 1117), ('heartless', 1118), ('reaction', 1119), ('isolate', 1120), ('raise', 1121), ('crap', 1122), ('favorite', 1123), ('onto', 1124), ('arrive', 1125), ('count', 1126), ('assure', 1127), ('road', 1128), ('involve', 1129), ('local', 1130), ('agree', 1131), ('mark', 1132), ('series', 1133), ('sarcastic', 1134), ('rise', 1135), ('lip', 1136), ('relax', 1137), ('exercise', 1138), ('bitch', 1139), ('enter', 1140), ('compassionate', 1141), ('period', 1142), ('term', 1143), ('meeting', 1144), ('freak', 1145), ('earlier', 1146), ('freedom', 1147), ('monday', 1148), ('assault', 1149), ('b', 1150), ('stage', 1151), ('direction', 1152), ('middle', 1153), ('bore', 1154), ('link', 1155), ('afternoon', 1156), ('fault', 1157), ('doctor', 1158), ('artist', 1159), ('itself', 1160), ('society', 1161), ('jump', 1162), ('sign', 1163), ('elegant', 1164), ('patient', 1165), ('horror', 1166), ('complain', 1167), ('beginning', 1168), ('f', 1169), ('delight', 1170), ('compare', 1171), ('dead', 1172), ('uptight', 1173), ('wedding', 1174), ('relate', 1175), ('regard', 1176), ('weepy', 1177), ('test', 1178), ('suffering', 1179), ('build', 1180), ('store', 1181), ('above', 1182), ('practice', 1183), ('audience', 1184), ('form', 1185), ('interesting', 1186), ('slow', 1187), ('protect', 1188), ('pride', 1189), ('mister', 1190), ('shock', 1191), ('birthday', 1192), ('include', 1193), ('path', 1194), ('culture', 1195), ('join', 1196), ('weak', 1197), ('e', 1198), ('taste', 1199), ('appear', 1200), ('throughout', 1201), ('detail', 1202), ('confidence', 1203), ('travel', 1204), ('muscle', 1205), ('task', 1206), ('response', 1207), ('bothered', 1208), ('suck', 1209), ('midday', 1210), ('loving', 1211), ('lay', 1212), ('prepare', 1213), ('normally', 1214), ('shoot', 1215), ('afterwards', 1216), ('meal', 1217), ('window', 1218), ('ride', 1219), ('beauty', 1220), ('despair', 1221), ('gracious', 1222), ('fix', 1223), ('forgive', 1224), ('silly', 1225), ('badly', 1226), ('information', 1227), ('partner', 1228), ('paper', 1229), ('report', 1230), ('site', 1231), ('immediately', 1232), ('disturbed', 1233), ('lively', 1234), ('isn', 1235), ('journey', 1236), ('disappoint', 1237), ('position', 1238), ('rain', 1239), ('non', 1240), ('living', 1241), ('review', 1242), ('christ', 1243), ('straight', 1244), ('distance', 1245), ('scare', 1246), ('base', 1247), ('field', 1248), ('wave', 1249), ('paint', 1250), ('contact', 1251), ('individual', 1252), ('awesome', 1253), ('mess', 1254), ('episode', 1255), ('scene', 1256), ('winter', 1257), ('current', 1258), ('ear', 1259), ('headache', 1260), ('currently', 1261), ('lost', 1262), ('opinion', 1263), ('escape', 1264), ('awake', 1265), ('haven', 1266), ('club', 1267), ('mum', 1268), ('similar', 1269), ('pretend', 1270), ('rushed', 1271), ('prove', 1272), ('refuse', 1273), ('unless', 1274), ('pair', 1275), ('size', 1276), ('key', 1277), ('government', 1278), ('program', 1279), ('fat', 1280), ('earth', 1281), ('loved', 1282), ('online', 1283), ('price', 1284), ('mentally', 1285), ('workout', 1286), ('flower', 1287), ('rel', 1288), ('basically', 1289), ('charming', 1290), ('exist', 1291), ('attitude', 1292), ('mental', 1293), ('round', 1294), ('otherwise', 1295), ('edge', 1296), ('reality', 1297), ('fearless', 1298), ('six', 1299), ('glass', 1300), ('attend', 1301), ('odd', 1302), ('victim', 1303), ('friday', 1304), ('despondent', 1305), ('skill', 1306), ('kitchen', 1307), ('burn', 1308), ('whose', 1309), ('train', 1310), ('heat', 1311), ('chocolate', 1312), ('sore', 1313), ('activity', 1314), ('customer', 1315), ('sky', 1316), ('girlfriend', 1317), ('responsibility', 1318), ('surround', 1319), ('heal', 1320), ('faith', 1321), ('frustration', 1322), ('cat', 1323), ('player', 1324), ('apart', 1325), ('soft', 1326), ('embrace', 1327), ('overwhelm', 1328), ('internet', 1329), ('tool', 1330), ('main', 1331), ('respected', 1332), ('grab', 1333), ('worker', 1334), ('history', 1335), ('anybody', 1336), ('obnoxious', 1337), ('serve', 1338), ('town', 1339), ('final', 1340), ('attack', 1341), ('gut', 1342), ('obviously', 1343), ('genuinely', 1344), ('bird', 1345), ('glance', 1346), ('hug', 1347), ('language', 1348), ('pace', 1349), ('bouncy', 1350), ('graceful', 1351), ('th', 1352), ('regret', 1353), ('star', 1354), ('overall', 1355), ('common', 1356), ('shall', 1357), ('press', 1358), ('yoga', 1359), ('recognize', 1360), ('tough', 1361), ('friendship', 1362), ('equally', 1363), ('connect', 1364), ('recipe', 1365), ('bike', 1366), ('prayer', 1367), ('fast', 1368), ('table', 1369), ('considerate', 1370), ('novel', 1371), ('english', 1372), ('accomplish', 1373), ('discuss', 1374), ('depend', 1375), ('sexual', 1376), ('humiliated', 1377), ('depression', 1378), ('thinking', 1379), ('increasingly', 1380), ('statement', 1381), ('total', 1382), ('master', 1383), ('among', 1384), ('coffee', 1385), ('secret', 1386), ('shoulder', 1387), ('willing', 1388), ('roll', 1389), ('abandon', 1390), ('universe', 1391), ('video', 1392), ('tone', 1393), ('interested', 1394), ('cycle', 1395), ('shower', 1396), ('dishearten', 1397), ('heavy', 1398), ('impress', 1399), ('jesus', 1400), ('neglectful', 1401), ('sell', 1402), ('clearly', 1403), ('shut', 1404), ('pregnancy', 1405), ('amuse', 1406), ('honor', 1407), ('wash', 1408), ('blood', 1409), ('betray', 1410), ('haha', 1411), ('sensitive', 1412), ('approach', 1413), ('alarm', 1414), ('environment', 1415), ('climb', 1416), ('breakfast', 1417), ('gym', 1418), ('teenager', 1419), ('p', 1420), ('saturday', 1421), ('develop', 1422), ('serious', 1423), ('wine', 1424), ('treatment', 1425), ('topic', 1426), ('concentrate', 1427), ('success', 1428), ('record', 1429), ('blogge', 1430), ('reply', 1431), ('hopefully', 1432), ('bus', 1433), ('sorrowful', 1434), ('confuse', 1435), ('bright', 1436), ('ease', 1437), ('tad', 1438), ('blogger', 1439), ('match', 1440), ('option', 1441), ('annoyance', 1442), ('box', 1443), ('utter', 1444), ('celebrate', 1445), ('balance', 1446), ('benefit', 1447), ('truthful', 1448), ('item', 1449), ('seek', 1450), ('band', 1451), ('sing', 1452), ('forever', 1453), ('inhibited', 1454), ('brown', 1455), ('wind', 1456), ('corner', 1457), ('socially', 1458), ('floor', 1459), ('depth', 1460), ('neither', 1461), ('specific', 1462), ('rock', 1463), ('chair', 1464), ('eventually', 1465), ('cheer', 1466), ('require', 1467), ('england', 1468), ('alive', 1469), ('startled', 1470), ('flow', 1471), ('version', 1472), ('yeah', 1473), ('improve', 1474), ('text', 1475), ('pack', 1476), ('bewilder', 1477), ('barely', 1478), ('urge', 1479), ('stranger', 1480), ('perfectly', 1481), ('crowd', 1482), ('thus', 1483), ('university', 1484), ('strangely', 1485), ('degree', 1486), ('risk', 1487), ('failure', 1488), ('exasperation', 1489), ('behavior', 1490), ('joke', 1491), ('mix', 1492), ('judge', 1493), ('idiot', 1494), ('brush', 1495), ('shape', 1496), ('accident', 1497), ('nobody', 1498), ('birth', 1499), ('radio', 1500), ('lift', 1501), ('outraged', 1502), ('blessing', 1503), ('steal', 1504), ('adult', 1505), ('cup', 1506), ('hospital', 1507), ('drama', 1508), ('w', 1509), ('c', 1510), ('highly', 1511), ('expectation', 1512), ('affect', 1513), ('guest', 1514), ('relieve', 1515), ('bill', 1516), ('market', 1517), ('lock', 1518), ('reading', 1519), ('sigh', 1520), ('plus', 1521), ('sea', 1522), ('react', 1523), ('animal', 1524), ('diet', 1525), ('reflect', 1526), ('suggest', 1527), ('bar', 1528), ('properly', 1529), ('circle', 1530), ('extent', 1531), ('outfit', 1532), ('prefer', 1533), ('storm', 1534), ('bite', 1535), ('contribute', 1536), ('bank', 1537), ('constant', 1538), ('ring', 1539), ('instantly', 1540), ('shouldn', 1541), ('example', 1542), ('shift', 1543), ('throat', 1544), ('none', 1545), ('research', 1546), ('promise', 1547), ('movement', 1548), ('million', 1549), ('rarely', 1550), ('repeat', 1551), ('childhood', 1552), ('cope', 1553), ('desperate', 1554), ('whiney', 1555), ('aspect', 1556), ('bunch', 1557), ('wimpy', 1558), ('personality', 1559), ('tip', 1560), ('tea', 1561), ('tiny', 1562), ('spread', 1563), ('entry', 1564), ('london', 1565), ('timid', 1566), ('ass', 1567), ('marriage', 1568), ('shaken', 1569), ('bored', 1570), ('session', 1571), ('dare', 1572), ('email', 1573), ('impact', 1574), ('performance', 1575), ('height', 1576), ('astonishment', 1577), ('respond', 1578), ('increase', 1579), ('condition', 1580), ('minister', 1581), ('natural', 1582), ('thin', 1583), ('oil', 1584), ('police', 1585), ('law', 1586), ('charm', 1587), ('wouldn', 1588), ('beside', 1589), ('america', 1590), ('harder', 1591), ('gt', 1592), ('explore', 1593), ('cast', 1594), ('st', 1595), ('design', 1596), ('aside', 1597), ('horse', 1598), ('solution', 1599), ('routine', 1600), ('terrify', 1601), ('quality', 1602), ('alarmed', 1603), ('o', 1604), ('resign', 1605), ('yell', 1606), ('indignant', 1607), ('perform', 1608), ('threatened', 1609), ('mournful', 1610), ('core', 1611), ('american', 1612), ('north', 1613), ('amusement', 1614), ('survive', 1615), ('adventure', 1616), ('cook', 1617), ('pursue', 1618), ('quote', 1619), ('album', 1620), ('hungry', 1621), ('lifestyle', 1622), ('distracted', 1623), ('neck', 1624), ('cos', 1625), ('apartment', 1626), ('per', 1627), ('bottom', 1628), ('vision', 1629), ('brand', 1630), ('fellow', 1631), ('pic', 1632), ('reminder', 1633), ('education', 1634), ('marry', 1635), ('poetry', 1636), ('prime', 1637), ('blow', 1638), ('overly', 1639), ('drug', 1640), ('x', 1641), ('left', 1642), ('horrified', 1643), ('shirt', 1644), ('neurotic', 1645), ('intend', 1646), ('hated', 1647), ('sugar', 1648), ('sweat', 1649), ('crush', 1650), ('sight', 1651), ('strike', 1652), ('relief', 1653), ('blah', 1654), ('fabric', 1655), ('gratitude', 1656), ('intention', 1657), ('fab', 1658), ('devote', 1659), ('twitter', 1660), ('david', 1661), ('vacation', 1662), ('excuse', 1663), ('hardly', 1664), ('swear', 1665), ('confess', 1666), ('produce', 1667), ('asleep', 1668), ('damaged', 1669), ('loneliness', 1670), ('till', 1671), ('maintain', 1672), ('welcomed', 1673), ('suspect', 1674), ('replace', 1675), ('blogging', 1676), ('major', 1677), ('advice', 1678), ('h', 1679), ('bewilderment', 1680), ('seat', 1681), ('adore', 1682), ('devoted', 1683), ('passion', 1684), ('sake', 1685), ('actual', 1686), ('somebody', 1687), ('role', 1688), ('intense', 1689), ('green', 1690), ('colour', 1691), ('inspiration', 1692), ('frustrate', 1693), ('meaning', 1694), ('overwhelming', 1695), ('bookmark', 1696), ('reassure', 1697), ('anywhere', 1698), ('silence', 1699), ('sudden', 1700), ('leader', 1701), ('uk', 1702), ('perspective', 1703), ('measure', 1704), ('fresh', 1705), ('crave', 1706), ('regular', 1707), ('inspired', 1708), ('rule', 1709), ('marathon', 1710), ('deny', 1711), ('circumstance', 1712), ('hey', 1713), ('block', 1714), ('sink', 1715), ('button', 1716), ('annoying', 1717), ('cream', 1718), ('lyric', 1719), ('thanksgiving', 1720), ('pink', 1721), ('wound', 1722), ('therefore', 1723), ('lover', 1724), ('invest', 1725), ('feature', 1726), ('understanding', 1727), ('separate', 1728), ('park', 1729), ('potential', 1730), ('everywhere', 1731), ('safety', 1732), ('battle', 1733), ('hole', 1734), ('peer', 1735), ('loose', 1736), ('sympathy', 1737), ('dear', 1738), ('load', 1739), ('schedule', 1740), ('third', 1741), ('excite', 1742), ('speech', 1743), ('tongue', 1744), ('disgust', 1745), ('y', 1746), ('warmth', 1747), ('considerable', 1748), ('possibility', 1749), ('professional', 1750), ('scale', 1751), ('land', 1752), ('google', 1753), ('discussion', 1754), ('scent', 1755), ('unworthy', 1756), ('charge', 1757), ('coz', 1758), ('plant', 1759), ('familiar', 1760), ('building', 1761), ('illness', 1762), ('york', 1763), ('encounter', 1764), ('article', 1765), ('powerful', 1766), ('random', 1767), ('lunch', 1768), ('sexy', 1769), ('pity', 1770), ('grant', 1771), ('pattern', 1772), ('score', 1773), ('duty', 1774), ('christian', 1775), ('praise', 1776), ('encourage', 1777), ('fire', 1778), ('ourselves', 1779), ('burst', 1780), ('spring', 1781), ('unwanted', 1782), ('hat', 1783), ('concerned', 1784), ('quit', 1785), ('flight', 1786), ('inhibit', 1787), ('moral', 1788), ('apologize', 1789), ('grade', 1790), ('hi', 1791), ('center', 1792), ('cheap', 1793), ('giant', 1794), ('apply', 1795), ('accepted', 1796), ('nail', 1797), ('display', 1798), ('affectionate', 1799), ('pool', 1800), ('consume', 1801), ('slight', 1802), ('dismayed', 1803), ('quick', 1804), ('gay', 1805), ('recent', 1806), ('beg', 1807), ('fashion', 1808), ('partly', 1809), ('abused', 1810), ('coat', 1811), ('r', 1812), ('tight', 1813), ('necessary', 1814), ('fair', 1815), ('tuesday', 1816), ('sensation', 1817), ('anticipation', 1818), ('desperately', 1819), ('conflict', 1820), ('journal', 1821), ('mild', 1822), ('stretch', 1823), ('appal', 1824), ('bet', 1825), ('limit', 1826), ('hill', 1827), ('silent', 1828), ('grand', 1829), ('vicious', 1830), ('vote', 1831), ('neglect', 1832), ('private', 1833), ('fruit', 1834), ('newborn', 1835), ('cheek', 1836), ('background', 1837), ('enraged', 1838), ('victimize', 1839), ('machine', 1840), ('suicide', 1841), ('airport', 1842), ('energized', 1843), ('outgoing', 1844), ('nap', 1845), ('refer', 1846), ('reveal', 1847), ('impression', 1848), ('co', 1849), ('hundred', 1850), ('dislike', 1851), ('camera', 1852), ('ludicrous', 1853), ('motivation', 1854), ('hop', 1855), ('makeup', 1856), ('experiment', 1857), ('garden', 1858), ('lash', 1859), ('uncle', 1860), ('accomplishment', 1861), ('horribly', 1862), ('succeed', 1863), ('emo', 1864), ('slip', 1865), ('basis', 1866), ('spiteful', 1867), ('everybody', 1868), ('secure', 1869), ('best', 1870), ('pour', 1871), ('splendid', 1872), ('irate', 1873), ('naturally', 1874), ('conscious', 1875), ('various', 1876), ('former', 1877), ('ex', 1878), ('chill', 1879), ('treasure', 1880), ('standard', 1881), ('clothing', 1882), ('occasion', 1883), ('british', 1884), ('symptom', 1885), ('advance', 1886), ('capture', 1887), ('tie', 1888), ('manner', 1889), ('belief', 1890), ('alot', 1891), ('commit', 1892), ('dr', 1893), ('pleasure', 1894), ('dump', 1895), ('track', 1896), ('witness', 1897), ('couch', 1898), ('obligation', 1899), ('exasperat', 1900), ('update', 1901), ('influence', 1902), ('fool', 1903), ('broke', 1904), ('thoroughly', 1905), ('function', 1906), ('surface', 1907), ('elated', 1908), ('follower', 1909), ('appearance', 1910), ('worthy', 1911), ('homework', 1912), ('chicken', 1913), ('craft', 1914), ('fulfil', 1915), ('religious', 1916), ('shed', 1917), ('justify', 1918), ('humble', 1919), ('wild', 1920), ('ending', 1921), ('wise', 1922), ('intimidated', 1923), ('unsuccessful', 1924), ('aunt', 1925), ('fish', 1926), ('hero', 1927), ('ball', 1928), ('bedroom', 1929), ('morose', 1930), ('plot', 1931), ('previous', 1932), ('despondency', 1933), ('wood', 1934), ('active', 1935), ('award', 1936), ('generation', 1937), ('literally', 1938), ('sand', 1939), ('mountain', 1940), ('miserabl', 1941), ('cough', 1942), ('football', 1943), ('war', 1944), ('section', 1945), ('handsome', 1946), ('gaze', 1947), ('below', 1948), ('painting', 1949), ('phrase', 1950), ('flat', 1951), ('female', 1952), ('male', 1953), ('un', 1954), ('soo', 1955), ('glimpse', 1956), ('colleague', 1957), ('prospect', 1958), ('tension', 1959), ('recommend', 1960), ('whilst', 1961), ('shopping', 1962), ('giggly', 1963), ('elation', 1964), ('assume', 1965), ('accord', 1966), ('temper', 1967), ('aggravate', 1968), ('graduate', 1969), ('medicine', 1970), ('shout', 1971), ('root', 1972), ('habit', 1973), ('religion', 1974), ('participate', 1975), ('livid', 1976), ('cancer', 1977), ('depress', 1978), ('float', 1979), ('awhile', 1980), ('ought', 1981), ('educate', 1982), ('bone', 1983), ('pile', 1984), ('plenty', 1985), ('tooth', 1986), ('smoke', 1987), ('cuddle', 1988), ('dread', 1989), ('dry', 1990), ('identify', 1991), ('manager', 1992), ('plane', 1993), ('recover', 1994), ('expose', 1995), ('mission', 1996), ('sale', 1997), ('tranquil', 1998), ('charity', 1999), ('grey', 2000), ('trail', 2001), ('desk', 2002), ('gear', 2003), ('initial', 2004), ('army', 2005), ('ordinary', 2006), ('available', 2007), ('sentence', 2008), ('compliment', 2009), ('outcome', 2010), ('prevent', 2011), ('swim', 2012), ('boss', 2013), ('wing', 2014), ('suit', 2015), ('obvious', 2016), ('scary', 2017), ('chat', 2018), ('represent', 2019), ('majority', 2020), ('communicate', 2021), ('wide', 2022), ('flash', 2023), ('minor', 2024), ('log', 2025), ('purchase', 2026), ('equal', 2027), ('toe', 2028), ('indulge', 2029), ('crisis', 2030), ('injury', 2031), ('skip', 2032), ('semester', 2033), ('drag', 2034), ('court', 2035), ('beach', 2036), ('average', 2037), ('refresh', 2038), ('luck', 2039), ('sunny', 2040), ('sheer', 2041), ('opposite', 2042), ('defective', 2043), ('holy', 2044), ('object', 2045), ('occur', 2046), ('faster', 2047), ('flawless', 2048), ('horrify', 2049), ('rare', 2050), ('photography', 2051), ('cheat', 2052), ('gather', 2053), ('reference', 2054), ('claim', 2055), ('website', 2056), ('overcome', 2057), ('breeze', 2058), ('repressed', 2059), ('coach', 2060), ('hellip', 2061), ('inner', 2062), ('fac', 2063), ('publish', 2064), ('snap', 2065), ('lil', 2066), ('recall', 2067), ('magic', 2068), ('butt', 2069), ('guitar', 2070), ('thick', 2071), ('cramp', 2072), ('exact', 2073), ('combination', 2074), ('downcast', 2075), ('dig', 2076), ('switch', 2077), ('mode', 2078), ('modern', 2079), ('breast', 2080), ('stroke', 2081), ('jealousy', 2082), ('therapy', 2083), ('desolate', 2084), ('contemplate', 2085), ('guide', 2086), ('incredible', 2087), ('emerge', 2088), ('lean', 2089), ('pleasantly', 2090), ('plain', 2091), ('ton', 2092), ('appointment', 2093), ('surgery', 2094), ('slide', 2095), ('dish', 2096), ('ten', 2097), ('century', 2098), ('nasty', 2099), ('blind', 2100), ('growth', 2101), ('grandmother', 2102), ('frankly', 2103), ('font', 2104), ('address', 2105), ('belly', 2106), ('slutty', 2107), ('awfully', 2108), ('method', 2109), ('ruin', 2110), ('beer', 2111), ('puppy', 2112), ('contain', 2113), ('unkind', 2114), ('rely', 2115), ('poem', 2116), ('boot', 2117), ('radiant', 2118), ('frighten', 2119), ('knee', 2120), ('angel', 2121), ('introduce', 2122), ('resent', 2123), ('ocean', 2124), ('cloud', 2125), ('ad', 2126), ('presentation', 2127), ('behave', 2128), ('flip', 2129), ('invite', 2130), ('argument', 2131), ('unnecessary', 2132), ('wander', 2133), ('unknown', 2134), ('fever', 2135), ('difficulty', 2136), ('conservative', 2137), ('status', 2138), ('atmosphere', 2139), ('unique', 2140), ('tune', 2141), ('political', 2142), ('financial', 2143), ('tempt', 2144), ('consistently', 2145), ('cuz', 2146), ('ai', 2147), ('unprotected', 2148), ('citizen', 2149), ('decline', 2150), ('temple', 2151), ('destroy', 2152), ('prince', 2153), ('development', 2154), ('distress', 2155), ('click', 2156), ('apparently', 2157), ('luckily', 2158), ('earn', 2159), ('importance', 2160), ('invigorated', 2161), ('foundation', 2162), ('closer', 2163), ('spin', 2164), ('la', 2165), ('direct', 2166), ('rage', 2167), ('china', 2168), ('shell', 2169), ('application', 2170), ('cake', 2171), ('sunshine', 2172), ('meat', 2173), ('speed', 2174), ('merely', 2175), ('mixture', 2176), ('rid', 2177), ('officer', 2178), ('repress', 2179), ('twice', 2180), ('collection', 2181), ('altogether', 2182), ('panic', 2183), ('vent', 2184), ('weigh', 2185), ('layer', 2186), ('vaguely', 2187), ('pie', 2188), ('file', 2189), ('advantage', 2190), ('justice', 2191), ('grace', 2192), ('director', 2193), ('spiritual', 2194), ('comparison', 2195), ('violence', 2196), ('creativity', 2197), ('shine', 2198), ('exasperate', 2199), ('theme', 2200), ('occasionally', 2201), ('nowhere', 2202), ('ignored', 2203), ('motion', 2204), ('extreme', 2205), ('hence', 2206), ('host', 2207), ('demand', 2208), ('squeeze', 2209), ('wrap', 2210), ('ridiculous', 2211), ('laughter', 2212), ('credit', 2213), ('sin', 2214), ('rape', 2215), ('defend', 2216), ('boat', 2217), ('grip', 2218), ('disappear', 2219), ('genre', 2220), ('forth', 2221), ('mass', 2222), ('stone', 2223), ('greet', 2224), ('clue', 2225), ('screw', 2226), ('crash', 2227), ('foreign', 2228), ('painful', 2229), ('surely', 2230), ('cigarette', 2231), ('bond', 2232), ('grin', 2233), ('pot', 2234), ('remove', 2235), ('indeed', 2236), ('benevolent', 2237), ('bashful', 2238), ('range', 2239), ('argue', 2240), ('drown', 2241), ('infuriate', 2242), ('consequence', 2243), ('chinese', 2244), ('intensely', 2245), ('expensive', 2246), ('nofollow', 2247), ('aren', 2248), ('board', 2249), ('ultimately', 2250), ('talente', 2251), ('toss', 2252), ('capable', 2253), ('nerve', 2254), ('international', 2255), ('sooner', 2256), ('perceive', 2257), ('companion', 2258), ('ministry', 2259), ('exchange', 2260), ('unfold', 2261), ('source', 2262), ('copy', 2263), ('deprived', 2264), ('planet', 2265), ('interview', 2266), ('engage', 2267), ('alright', 2268), ('happily', 2269), ('cherish', 2270), ('wednesday', 2271), ('zone', 2272), ('library', 2273), ('debate', 2274), ('attract', 2275), ('sandwich', 2276), ('focused', 2277), ('tug', 2278), ('paul', 2279), ('cookie', 2280), ('protest', 2281), ('pause', 2282), ('original', 2283), ('lightly', 2284), ('industry', 2285), ('previously', 2286), ('announce', 2287), ('medical', 2288), ('temperature', 2289), ('flush', 2290), ('tense', 2291), ('whisper', 2292), ('bounce', 2293), ('financially', 2294), ('disregard', 2295), ('fitness', 2296), ('ya', 2297), ('despai', 2298), ('apple', 2299), ('pen', 2300), ('mommy', 2301), ('designer', 2302), ('med', 2303), ('enrage', 2304), ('bastard', 2305), ('ticket', 2306), ('stun', 2307), ('concept', 2308), ('sweep', 2309), ('favourite', 2310), ('october', 2311), ('frown', 2312), ('honour', 2313), ('production', 2314), ('crawl', 2315), ('capacity', 2316), ('sharp', 2317), ('strain', 2318), ('rainy', 2319), ('helpful', 2320), ('nod', 2321), ('nauseous', 2322), ('knowing', 2323), ('silently', 2324), ('length', 2325), ('conceal', 2326), ('bathroom', 2327), ('cash', 2328), ('alternative', 2329), ('incident', 2330), ('ridiculously', 2331), ('rate', 2332), ('toy', 2333), ('phase', 2334), ('resource', 2335), ('volunteer', 2336), ('junk', 2337), ('conference', 2338), ('laundry', 2339), ('yours', 2340), ('creep', 2341), ('differently', 2342), ('resist', 2343), ('ha', 2344), ('acceptance', 2345), ('doll', 2346), ('april', 2347), ('suppress', 2348), ('driver', 2349), ('observe', 2350), ('spill', 2351), ('shamed', 2352), ('excitem', 2353), ('cost', 2354), ('insist', 2355), ('regularly', 2356), ('behaviour', 2357), ('tall', 2358), ('regardless', 2359), ('gun', 2360), ('potato', 2361), ('restaurant', 2362), ('harry', 2363), ('musical', 2364), ('frequently', 2365), ('double', 2366), ('medication', 2367), ('savage', 2368), ('print', 2369), ('fucked', 2370), ('extend', 2371), ('john', 2372), ('shot', 2373), ('rough', 2374), ('bottle', 2375), ('responsible', 2376), ('expert', 2377), ('attach', 2378), ('trap', 2379), ('pant', 2380), ('draft', 2381), ('runner', 2382), ('tackle', 2383), ('youth', 2384), ('pre', 2385), ('actor', 2386), ('compassion', 2387), ('disconsolate', 2388), ('heel', 2389), ('humorous', 2390), ('wet', 2391), ('clock', 2392), ('screen', 2393), ('sip', 2394), ('nine', 2395), ('freeze', 2396), ('amazingly', 2397), ('solve', 2398), ('cousin', 2399), ('impossible', 2400), ('model', 2401), ('breathing', 2402), ('crime', 2403), ('decent', 2404), ('portray', 2405), ('hadn', 2406), ('used', 2407), ('startle', 2408), ('blanket', 2409), ('conclusion', 2410), ('prepared', 2411), ('account', 2412), ('michael', 2413), ('exciting', 2414), ('seemingly', 2415), ('nurse', 2416), ('gas', 2417), ('unlike', 2418), ('jubilant', 2419), ('affection', 2420), ('deliver', 2421), ('venture', 2422), ('motivated', 2423), ('chase', 2424), ('realization', 2425), ('vein', 2426), ('weakness', 2427), ('hint', 2428), ('contract', 2429), ('significant', 2430), ('king', 2431), ('reflection', 2432), ('classroom', 2433), ('fate', 2434), ('enemy', 2435), ('science', 2436), ('yarn', 2437), ('steve', 2438), ('bread', 2439), ('fulfill', 2440), ('aching', 2441), ('identity', 2442), ('security', 2443), ('sewing', 2444), ('betrayed', 2445), ('empower', 2446), ('danger', 2447), ('studio', 2448), ('owner', 2449), ('photograph', 2450), ('disappointment', 2451), ('opening', 2452), ('starve', 2453), ('department', 2454), ('grandfather', 2455), ('tube', 2456), ('sexually', 2457), ('false', 2458), ('dancer', 2459), ('curl', 2460), ('bury', 2461), ('chemo', 2462), ('deject', 2463), ('spending', 2464), ('relative', 2465), ('island', 2466), ('prize', 2467), ('instruction', 2468), ('definition', 2469), ('substance', 2470), ('technique', 2471), ('rejection', 2472), ('teen', 2473), ('lap', 2474), ('warning', 2475), ('suggestion', 2476), ('boost', 2477), ('relatively', 2478), ('curse', 2479), ('goodbye', 2480), ('verse', 2481), ('surprisingly', 2482), ('craving', 2483), ('rant', 2484), ('spiritually', 2485), ('cafe', 2486), ('thigh', 2487), ('accidentally', 2488), ('knit', 2489), ('pub', 2490), ('healing', 2491), ('dollar', 2492), ('president', 2493), ('bowl', 2494), ('authority', 2495), ('orange', 2496), ('tour', 2497), ('sadden', 2498), ('celebration', 2499), ('assistant', 2500), ('amongst', 2501), ('closet', 2502), ('shadow', 2503), ('tale', 2504), ('scheme', 2505), ('daze', 2506), ('unmotivated', 2507), ('vintage', 2508), ('mildly', 2509), ('regain', 2510), ('feelin', 2511), ('directly', 2512), ('swing', 2513), ('tuck', 2514), ('document', 2515), ('complex', 2516), ('spite', 2517), ('queen', 2518), ('nostalgia', 2519), ('disorder', 2520), ('mere', 2521), ('wonderfully', 2522), ('rhythm', 2523), ('knock', 2524), ('de', 2525), ('vigorous', 2526), ('immensely', 2527), ('description', 2528), ('lung', 2529), ('jane', 2530), ('lend', 2531), ('santa', 2532), ('combine', 2533), ('supply', 2534), ('forum', 2535), ('vibe', 2536), ('mrs', 2537), ('moronic', 2538), ('adopt', 2539), ('label', 2540), ('debt', 2541), ('catholic', 2542), ('hello', 2543), ('policy', 2544), ('sum', 2545), ('grocery', 2546), ('affair', 2547), ('v', 2548), ('camp', 2549), ('toilet', 2550), ('code', 2551), ('despise', 2552), ('nicely', 2553), ('juice', 2554), ('alternate', 2555), ('induce', 2556), ('dunno', 2557), ('staff', 2558), ('strategy', 2559), ('reduce', 2560), ('material', 2561), ('competition', 2562), ('trial', 2563), ('wronged', 2564), ('working', 2565), ('plate', 2566), ('explanation', 2567), ('pang', 2568), ('creature', 2569), ('doomed', 2570), ('snack', 2571), ('oddly', 2572), ('mirror', 2573), ('centre', 2574), ('jean', 2575), ('awareness', 2576), ('butterfly', 2577), ('relation', 2578), ('heck', 2579), ('fiction', 2580), ('unfortunately', 2581), ('nose', 2582), ('context', 2583), ('instinct', 2584), ('thousand', 2585), ('vile', 2586), ('peter', 2587), ('chris', 2588), ('calorie', 2589), ('eight', 2590), ('intensity', 2591), ('dust', 2592), ('transition', 2593), ('remark', 2594), ('string', 2595), ('viewer', 2596), ('chapter', 2597), ('structure', 2598), ('classic', 2599), ('theory', 2600), ('route', 2601), ('row', 2602), ('mid', 2603), ('harm', 2604), ('heavenly', 2605), ('wisdom', 2606), ('snow', 2607), ('traffic', 2608), ('beneath', 2609), ('motor', 2610), ('tolerate', 2611), ('jaded', 2612), ('nation', 2613), ('select', 2614), ('smooth', 2615), ('fade', 2616), ('width', 2617), ('px', 2618), ('dramatic', 2619), ('learning', 2620), ('cooking', 2621), ('knot', 2622), ('married', 2623), ('tim', 2624), ('quarter', 2625), ('interact', 2626), ('romance', 2627), ('pro', 2628), ('americans', 2629), ('brow', 2630), ('magical', 2631), ('egg', 2632), ('west', 2633), ('downright', 2634), ('deem', 2635), ('petrified', 2636), ('sacrifice', 2637), ('afford', 2638), ('tingle', 2639), ('murder', 2640), ('inevitably', 2641), ('strip', 2642), ('succumb', 2643), ('bake', 2644), ('curtain', 2645), ('stumble', 2646), ('anime', 2647), ('goodness', 2648), ('ideal', 2649), ('dism', 2650), ('trick', 2651), ('simultaneously', 2652), ('satisfaction', 2653), ('bible', 2654), ('upload', 2655), ('milk', 2656), ('distant', 2657), ('positively', 2658), ('nightmare', 2659), ('paris', 2660), ('https', 2661), ('january', 2662), ('griefstricken', 2663), ('midst', 2664), ('puzzle', 2665), ('disaster', 2666), ('complaint', 2667), ('disadvantaged', 2668), ('accompany', 2669), ('yay', 2670), ('jacket', 2671), ('tinge', 2672), ('nutrition', 2673), ('singapore', 2674), ('grasp', 2675), ('motivate', 2676), ('perverse', 2677), ('ward', 2678), ('anniversary', 2679), ('endure', 2680), ('exhilarate', 2681), ('pin', 2682), ('dignified', 2683), ('perception', 2684), ('infection', 2685), ('alcohol', 2686), ('anti', 2687), ('depresse', 2688), ('bonus', 2689), ('quilt', 2690), ('everytime', 2691), ('south', 2692), ('yearn', 2693), ('aggressive', 2694), ('ish', 2695), ('morally', 2696), ('endless', 2697), ('apparent', 2698), ('income', 2699), ('punch', 2700), ('melt', 2701), ('mask', 2702), ('mini', 2703), ('glee', 2704), ('california', 2705), ('glare', 2706), ('immense', 2707), ('achievement', 2708), ('basic', 2709), ('excellent', 2710), ('flavor', 2711), ('labor', 2712), ('running', 2713), ('warn', 2714), ('stuck', 2715), ('fancy', 2716), ('aid', 2717), ('loser', 2718), ('canvas', 2719), ('billy', 2720), ('alex', 2721), ('wow', 2722), ('angered', 2723), ('aim', 2724), ('haul', 2725), ('gold', 2726), ('soak', 2727), ('hah', 2728), ('misunderstood', 2729), ('neighborhood', 2730), ('specifically', 2731), ('enjoyment', 2732), ('moon', 2733), ('mount', 2734), ('march', 2735), ('looking', 2736), ('sport', 2737), ('unexpected', 2738), ('addition', 2739), ('talent', 2740), ('expense', 2741), ('jack', 2742), ('bath', 2743), ('wipe', 2744), ('absolute', 2745), ('jim', 2746), ('investment', 2747), ('k', 2748), ('possession', 2749), ('abit', 2750), ('l', 2751), ('glum', 2752), ('fa', 2753), ('en', 2754), ('christians', 2755), ('fandom', 2756), ('stir', 2757), ('pale', 2758), ('protection', 2759), ('factor', 2760), ('worship', 2761), ('nevertheless', 2762), ('g', 2763), ('powerless', 2764), ('norm', 2765), ('roommate', 2766), ('feedback', 2767), ('tourist', 2768), ('foggy', 2769), ('notion', 2770), ('trauma', 2771), ('associate', 2772), ('cow', 2773), ('region', 2774), ('village', 2775), ('contraction', 2776), ('pained', 2777), ('therapist', 2778), ('fortunate', 2779), ('invade', 2780), ('lee', 2781), ('explode', 2782), ('tiredness', 2783), ('ness', 2784), ('caffeine', 2785), ('youngster', 2786), ('echo', 2787), ('client', 2788), ('tap', 2789), ('costume', 2790), ('ed', 2791), ('lucy', 2792), ('drunk', 2793), ('gross', 2794), ('skinny', 2795), ('kindness', 2796), ('magazine', 2797), ('contrast', 2798), ('reputation', 2799), ('julia', 2800), ('exceptionally', 2801), ('critical', 2802), ('emily', 2803), ('massive', 2804), ('wo', 2805), ('gesture', 2806), ('bare', 2807), ('mike', 2808), ('cringe', 2809), ('lense', 2810), ('famous', 2811), ('bum', 2812), ('enthusiasm', 2813), ('nd', 2814), ('taylor', 2815), ('sadly', 2816), ('realistic', 2817), ('tom', 2818), ('discomfort', 2819), ('whip', 2820), ('station', 2821), ('central', 2822), ('generate', 2823), ('yard', 2824), ('mate', 2825), ('disgusting', 2826), ('chaos', 2827), ('miracle', 2828), ('comedy', 2829), ('politician', 2830), ('ma', 2831), ('mainly', 2832), ('tory', 2833), ('request', 2834), ('acutely', 2835), ('transform', 2836), ('stupefy', 2837), ('chamber', 2838), ('bah', 2839), ('chick', 2840), ('li', 2841), ('severely', 2842), ('hotel', 2843), ('flick', 2844), ('twist', 2845), ('neutral', 2846), ('frame', 2847), ('bewild', 2848), ('shade', 2849), ('proper', 2850), ('extraordinarily', 2851), ('cd', 2852), ('hip', 2853), ('african', 2854), ('oppose', 2855), ('hearing', 2856), ('attractive', 2857), ('dvd', 2858), ('immature', 2859), ('trusting', 2860), ('county', 2861), ('greatly', 2862), ('empathize', 2863), ('setting', 2864), ('favor', 2865), ('exhibition', 2866), ('virus', 2867), ('lettuce', 2868), ('elat', 2869), ('momentarily', 2870), ('princess', 2871), ('halfway', 2872), ('flaw', 2873), ('input', 2874), ('traditional', 2875), ('lugubrious', 2876), ('occupy', 2877), ('cent', 2878), ('network', 2879), ('antsy', 2880), ('strive', 2881), ('verge', 2882), ('dawn', 2883), ('scan', 2884), ('multiple', 2885), ('span', 2886), ('apology', 2887), ('disagree', 2888), ('existence', 2889), ('necessarily', 2890), ('pagetitle', 2891), ('poke', 2892), ('analyze', 2893), ('robin', 2894), ('absence', 2895), ('pit', 2896), ('bewi', 2897), ('anticipate', 2898), ('engagement', 2899), ('potentially', 2900), ('giggle', 2901), ('virgin', 2902), ('victory', 2903), ('articulate', 2904), ('profoundly', 2905), ('official', 2906), ('opposition', 2907), ('recognise', 2908), ('election', 2909), ('raw', 2910), ('obtain', 2911), ('dancing', 2912), ('sometime', 2913), ('outsider', 2914), ('india', 2915), ('stash', 2916), ('adjust', 2917), ('childish', 2918), ('collect', 2919), ('italian', 2920), ('spell', 2921), ('assert', 2922), ('rubbish', 2923), ('rally', 2924), ('darkness', 2925), ('slap', 2926), ('cop', 2927), ('monster', 2928), ('uncertainty', 2929), ('collar', 2930), ('creation', 2931), ('evil', 2932), ('er', 2933), ('captain', 2934), ('fairy', 2935), ('lifetime', 2936), ('anna', 2937), ('practical', 2938), ('lipstick', 2939), ('scatter', 2940), ('perfume', 2941), ('scott', 2942), ('via', 2943), ('television', 2944), ('humor', 2945), ('cricket', 2946), ('esteem', 2947), ('cheated', 2948), ('condemn', 2949), ('courage', 2950), ('rescue', 2951), ('korean', 2952), ('endeavor', 2953), ('roast', 2954), ('moan', 2955), ('divorce', 2956), ('privilege', 2957), ('irritate', 2958), ('nausea', 2959), ('dan', 2960), ('soup', 2961), ('garbage', 2962), ('dejection', 2963), ('mail', 2964), ('vegan', 2965), ('weep', 2966), ('choir', 2967), ('chain', 2968), ('grave', 2969), ('te', 2970), ('trigger', 2971), ('dip', 2972), ('contribution', 2973), ('glow', 2974), ('fortune', 2975), ('nurture', 2976), ('native', 2977), ('planning', 2978), ('publisher', 2979), ('hike', 2980), ('cheese', 2981), ('darle', 2982), ('skirt', 2983), ('surrounding', 2984), ('misery', 2985), ('texte', 2986), ('withdraw', 2987), ('flood', 2988), ('bind', 2989), ('gate', 2990), ('giddy', 2991), ('brilliant', 2992), ('largely', 2993), ('grass', 2994), ('journalist', 2995), ('soothe', 2996), ('derby', 2997), ('ah', 2998), ('agitat', 2999), ('european', 3000), ('cancel', 3001), ('philosophy', 3002), ('latter', 3003), ('seldom', 3004), ('initially', 3005), ('whine', 3006), ('whatsoever', 3007), ('seven', 3008), ('imagination', 3009), ('conduct', 3010), ('senior', 3011), ('countless', 3012), ('academic', 3013), ('closure', 3014), ('genuine', 3015), ('amusem', 3016), ('choke', 3017), ('info', 3018), ('budget', 3019), ('afterward', 3020), ('dizzy', 3021), ('quest', 3022), ('sickness', 3023), ('sa', 3024), ('declare', 3025), ('roof', 3026), ('appreciation', 3027), ('inform', 3028), ('tradition', 3029), ('darn', 3030), ('brew', 3031), ('washington', 3032), ('outrage', 3033), ('treadmill', 3034), ('woebegone', 3035), ('lake', 3036), ('attribute', 3037), ('ultimate', 3038), ('necessity', 3039), ('submit', 3040), ('access', 3041), ('wee', 3042), ('zero', 3043), ('acknowledge', 3044), ('continually', 3045), ('devil', 3046), ('hire', 3047), ('practically', 3048), ('resentment', 3049), ('parenting', 3050), ('gently', 3051), ('whoever', 3052), ('easter', 3053), ('actively', 3054), ('thereby', 3055), ('moody', 3056), ('blur', 3057), ('toddler', 3058), ('neighbor', 3059), ('apathetic', 3060), ('burger', 3061), ('sorta', 3062), ('twenty', 3063), ('demon', 3064), ('crew', 3065), ('needle', 3066), ('admiration', 3067), ('weary', 3068), ('civil', 3069), ('empathy', 3070), ('disrespect', 3071), ('wheel', 3072), ('puzzlement', 3073), ('bug', 3074), ('seed', 3075), ('blush', 3076), ('convey', 3077), ('heavily', 3078), ('french', 3079), ('charlie', 3080), ('blink', 3081), ('dragon', 3082), ('tomato', 3083), ('patience', 3084), ('zombie', 3085), ('secretly', 3086), ('passenger', 3087), ('invitation', 3088), ('cling', 3089), ('whim', 3090), ('intent', 3091), ('todd', 3092), ('mixed', 3093), ('nursing', 3094), ('bomb', 3095), ('lt', 3096), ('sooo', 3097), ('wi', 3098), ('mindset', 3099), ('besides', 3100), ('puzz', 3101), ('min', 3102), ('flee', 3103), ('bin', 3104), ('hatred', 3105), ('resume', 3106), ('inch', 3107), ('matt', 3108), ('muse', 3109), ('confirm', 3110), ('representative', 3111), ('ta', 3112), ('tease', 3113), ('treasured', 3114), ('entertainment', 3115), ('whiny', 3116), ('wallet', 3117), ('prom', 3118), ('web', 3119), ('assistance', 3120), ('careful', 3121), ('arouse', 3122), ('pasta', 3123), ('rice', 3124), ('hopelessness', 3125), ('commitment', 3126), ('daddy', 3127), ('compete', 3128), ('pursuit', 3129), ('economy', 3130), ('ghost', 3131), ('border', 3132), ('legend', 3133), ('exit', 3134), ('bundle', 3135), ('consumer', 3136), ('div', 3137), ('complicated', 3138), ('numerous', 3139), ('blonde', 3140), ('tendency', 3141), ('tank', 3142), ('provoke', 3143), ('decade', 3144), ('meditation', 3145), ('timing', 3146), ('massage', 3147), ('stable', 3148), ('amorous', 3149), ('grumble', 3150), ('lore', 3151), ('panel', 3152), ('joe', 3153), ('cheerful', 3154), ('plague', 3155), ('cock', 3156), ('sm', 3157), ('yo', 3158), ('iphone', 3159), ('professor', 3160), ('intelligence', 3161), ('agent', 3162), ('bunny', 3163), ('appeal', 3164), ('addiction', 3165), ('programming', 3166), ('counter', 3167), ('awe', 3168), ('disorient', 3169), ('highlight', 3170), ('powder', 3171), ('spray', 3172), ('pointless', 3173), ('junior', 3174), ('league', 3175), ('sis', 3176), ('someday', 3177), ('believer', 3178), ('wa', 3179), ('unusual', 3180), ('brief', 3181), ('temporary', 3182), ('heaven', 3183), ('command', 3184), ('exci', 3185), ('clarity', 3186), ('charles', 3187), ('psychological', 3188), ('behalf', 3189), ('virtual', 3190), ('disney', 3191), ('dessert', 3192), ('transfer', 3193), ('bob', 3194), ('commercial', 3195), ('hype', 3196), ('vomit', 3197), ('determination', 3198), ('bitterness', 3199), ('farmer', 3200), ('officially', 3201), ('daniel', 3202), ('royal', 3203), ('overseas', 3204), ('subside', 3205), ('kindly', 3206), ('grieve', 3207), ('quietly', 3208), ('nick', 3209), ('improvement', 3210), ('politic', 3211), ('diary', 3212), ('custom', 3213), ('dun', 3214), ('albeit', 3215), ('piano', 3216), ('evoke', 3217), ('alien', 3218), ('fiance', 3219), ('bow', 3220), ('stamp', 3221), ('giveaway', 3222), ('contest', 3223), ('encouragement', 3224), ('alongside', 3225), ('revenge', 3226), ('repeatedly', 3227), ('linger', 3228), ('predict', 3229), ('hong', 3230), ('kong', 3231), ('traitor', 3232), ('inability', 3233), ('management', 3234), ('economic', 3235), ('winner', 3236), ('meditate', 3237), ('campaign', 3238), ('forehead', 3239), ('xd', 3240), ('entrance', 3241), ('hardcore', 3242), ('mama', 3243), ('coope', 3244), ('clinic', 3245), ('boob', 3246), ('swallow', 3247), ('bull', 3248), ('astoni', 3249), ('maggie', 3250), ('indign', 3251), ('sinus', 3252), ('gathering', 3253), ('candle', 3254), ('visibly', 3255), ('eve', 3256), ('upside', 3257), ('november', 3258), ('steam', 3259), ('vexed', 3260), ('apologise', 3261), ('stink', 3262), ('hum', 3263), ('hollywood', 3264), ('etsy', 3265), ('pulse', 3266), ('overload', 3267), ('patrick', 3268), ('quicker', 3269), ('ken', 3270), ('essence', 3271), ('pig', 3272), ('shiver', 3273), ('damned', 3274), ('prisoner', 3275), ('drawing', 3276), ('solid', 3277), ('overwhelmingly', 3278), ('widow', 3279), ('register', 3280), ('owl', 3281), ('glory', 3282), ('unsettle', 3283), ('decorate', 3284), ('stair', 3285), ('addict', 3286), ('grandparent', 3287), ('injure', 3288), ('user', 3289), ('julie', 3290), ('bang', 3291), ('saint', 3292), ('spice', 3293), ('subconscious', 3294), ('gamer', 3295), ('population', 3296), ('restore', 3297), ('narrow', 3298), ('stressful', 3299), ('crack', 3300), ('starter', 3301), ('stride', 3302), ('scar', 3303), ('chip', 3304), ('salt', 3305), ('scenario', 3306), ('heartbreak', 3307), ('killer', 3308), ('eyelid', 3309), ('harsh', 3310), ('wax', 3311), ('coworker', 3312), ('pill', 3313), ('thirty', 3314), ('consciously', 3315), ('anne', 3316), ('legitimate', 3317), ('bf', 3318), ('connected', 3319), ('ego', 3320), ('dose', 3321), ('despondenc', 3322), ('rob', 3323), ('category', 3324), ('purple', 3325), ('unfair', 3326), ('stance', 3327), ('illusion', 3328), ('diminish', 3329), ('artwork', 3330), ('pillow', 3331), ('crumble', 3332), ('martin', 3333), ('fund', 3334), ('hall', 3335), ('noise', 3336), ('tail', 3337), ('metaphor', 3338), ('bold', 3339), ('essential', 3340), ('organization', 3341), ('underground', 3342), ('stem', 3343), ('bush', 3344), ('criticism', 3345), ('remotely', 3346), ('visitor', 3347), ('fifteen', 3348), ('dwell', 3349), ('maria', 3350), ('lighten', 3351), ('hasn', 3352), ('ignorance', 3353), ('justin', 3354), ('hostel', 3355), ('stream', 3356), ('farm', 3357), ('gaming', 3358), ('newspaper', 3359), ('violate', 3360), ('wrongly', 3361), ('legal', 3362), ('firmly', 3363), ('glamourous', 3364), ('candy', 3365), ('chore', 3366), ('boundary', 3367), ('scratch', 3368), ('protein', 3369), ('stre', 3370), ('lily', 3371), ('script', 3372), ('primary', 3373), ('offensive', 3374), ('define', 3375), ('iv', 3376), ('hunt', 3377), ('curiosity', 3378), ('bubble', 3379), ('manuscript', 3380), ('spanish', 3381), ('volume', 3382), ('ray', 3383), ('hunting', 3384), ('cyber', 3385), ('needlessly', 3386), ('disability', 3387), ('snobbish', 3388), ('tag', 3389), ('crestfallen', 3390), ('naked', 3391), ('downcas', 3392), ('defensive', 3393), ('nonetheless', 3394), ('fantasy', 3395), ('upcoming', 3396), ('mummy', 3397), ('cap', 3398), ('cell', 3399), ('bleed', 3400), ('jason', 3401), ('crunch', 3402), ('desert', 3403), ('donate', 3404), ('rejuvenate', 3405), ('tiger', 3406), ('japanese', 3407), ('ca', 3408), ('flashback', 3409), ('bombing', 3410), ('delivery', 3411), ('wrist', 3412), ('attraction', 3413), ('nudge', 3414), ('conscience', 3415), ('fishing', 3416), ('sue', 3417), ('horr', 3418), ('relaxation', 3419), ('impressive', 3420), ('retrospect', 3421), ('mac', 3422), ('jordan', 3423), ('weave', 3424), ('tickle', 3425), ('december', 3426), ('sole', 3427), ('youtube', 3428), ('nowadays', 3429), ('mercy', 3430), ('subconsciously', 3431), ('sock', 3432), ('sheet', 3433), ('ryan', 3434), ('accuse', 3435), ('hobby', 3436), ('disillusion', 3437), ('robert', 3438), ('exception', 3439), ('eating', 3440), ('blake', 3441), ('lecture', 3442), ('september', 3443), ('association', 3444), ('calling', 3445), ('desperation', 3446), ('swift', 3447), ('carefully', 3448), ('radiation', 3449), ('mud', 3450), ('richard', 3451), ('council', 3452), ('evident', 3453), ('dissatisfy', 3454), ('epic', 3455), ('golden', 3456), ('envy', 3457), ('z', 3458), ('examination', 3459), ('enjoyable', 3460), ('sleepy', 3461), ('fling', 3462), ('thursday', 3463), ('ey', 3464), ('swimming', 3465), ('classmate', 3466), ('jewelry', 3467), ('uneasy', 3468), ('reasonably', 3469), ('weapon', 3470), ('insecurity', 3471), ('hook', 3472), ('drip', 3473), ('cr', 3474), ('quarrel', 3475), ('mall', 3476), ('gleeful', 3477), ('teenage', 3478), ('sauce', 3479), ('sacred', 3480), ('bi', 3481), ('anguis', 3482), ('execute', 3483), ('separation', 3484), ('asian', 3485), ('fluster', 3486), ('rachel', 3487), ('allergy', 3488), ('establish', 3489), ('resolution', 3490), ('mentality', 3491), ('enthral', 3492), ('stupefaction', 3493), ('theater', 3494), ('surge', 3495), ('shallow', 3496), ('canada', 3497), ('stereotype', 3498), ('scientist', 3499), ('randomly', 3500), ('url', 3501), ('unit', 3502), ('predictable', 3503), ('darling', 3504), ('reread', 3505), ('assignment', 3506), ('package', 3507), ('household', 3508), ('gallery', 3509), ('insane', 3510), ('vibration', 3511), ('fleeting', 3512), ('arrange', 3513), ('dejected', 3514), ('pat', 3515), ('unappreciated', 3516), ('national', 3517), ('rose', 3518), ('adrenaline', 3519), ('smirk', 3520), ('noisy', 3521), ('technology', 3522), ('confront', 3523), ('internal', 3524), ('pinterest', 3525), ('standing', 3526), ('squad', 3527), ('teammate', 3528), ('evidence', 3529), ('aka', 3530), ('prop', 3531), ('hollow', 3532), ('fragrance', 3533), ('girly', 3534), ('constructive', 3535), ('goddamn', 3536), ('unlove', 3537), ('embarrassment', 3538), ('mince', 3539), ('floral', 3540), ('polish', 3541), ('cupcake', 3542), ('hubby', 3543), ('dorky', 3544), ('palm', 3545), ('strengthen', 3546), ('thyroid', 3547), ('gary', 3548), ('remorse', 3549), ('severe', 3550), ('calf', 3551), ('accommodate', 3552), ('listening', 3553), ('destructive', 3554), ('grie', 3555), ('musician', 3556), ('pl', 3557), ('crib', 3558), ('lab', 3559), ('sized', 3560), ('wardrobe', 3561), ('bash', 3562), ('reinforce', 3563), ('numbness', 3564), ('sara', 3565), ('module', 3566), ('employer', 3567), ('athletic', 3568), ('partially', 3569), ('spit', 3570), ('drinking', 3571), ('gradually', 3572), ('ironic', 3573), ('sam', 3574), ('twitchy', 3575), ('giving', 3576), ('expand', 3577), ('apathy', 3578), ('wallpaper', 3579), ('bee', 3580), ('panicky', 3581), ('whereas', 3582), ('upstairs', 3583), ('intentionally', 3584), ('bump', 3585), ('fulfillment', 3586), ('profit', 3587), ('sample', 3588), ('cleanse', 3589), ('simplicity', 3590), ('raid', 3591), ('impolite', 3592), ('wholly', 3593), ('inferior', 3594), ('thrift', 3595), ('electric', 3596), ('revelation', 3597), ('minimum', 3598), ('disdain', 3599), ('dash', 3600), ('muffin', 3601), ('consistent', 3602), ('invasion', 3603), ('leadership', 3604), ('missionary', 3605), ('gigantic', 3606), ('spider', 3607), ('adapt', 3608), ('crying', 3609), ('shelf', 3610), ('san', 3611), ('slut', 3612), ('purely', 3613), ('pocket', 3614), ('mundane', 3615), ('desponden', 3616), ('bruise', 3617), ('clip', 3618), ('flare', 3619), ('trade', 3620), ('shortly', 3621), ('bracelet', 3622), ('solely', 3623), ('interaction', 3624), ('heap', 3625), ('june', 3626), ('su', 3627), ('fitting', 3628), ('sofa', 3629), ('compromise', 3630), ('editor', 3631), ('jerk', 3632), ('correct', 3633), ('baseball', 3634), ('bat', 3635), ('hmmm', 3636), ('jersey', 3637), ('transcend', 3638), ('datum', 3639), ('chunk', 3640), ('engineer', 3641), ('organise', 3642), ('whining', 3643), ('scripture', 3644), ('abandonment', 3645), ('empathetic', 3646), ('lj', 3647), ('tightly', 3648), ('finland', 3649), ('spontaneous', 3650), ('refreshing', 3651), ('tuition', 3652), ('cartoon', 3653), ('united', 3654), ('campus', 3655), ('rack', 3656), ('annoya', 3657), ('celebrity', 3658), ('shiny', 3659), ('al', 3660), ('deeper', 3661), ('despairing', 3662), ('hypocrite', 3663), ('deepen', 3664), ('disabled', 3665), ('accessory', 3666), ('gloom', 3667), ('groan', 3668), ('prep', 3669), ('virginia', 3670), ('despised', 3671), ('handful', 3672), ('evaluate', 3673), ('brim', 3674), ('global', 3675), ('chaotic', 3676), ('mutual', 3677), ('sloth', 3678), ('irrational', 3679), ('crystal', 3680), ('mouse', 3681), ('seam', 3682), ('aggravated', 3683), ('unhealthy', 3684), ('pure', 3685), ('ellie', 3686), ('layout', 3687), ('secondary', 3688), ('metal', 3689), ('wicked', 3690), ('jones', 3691), ('readily', 3692), ('australia', 3693), ('safely', 3694), ('trend', 3695), ('rat', 3696), ('sucker', 3697), ('remarkably', 3698), ('tape', 3699), ('liz', 3700), ('annoyingly', 3701), ('jeremy', 3702), ('resigned', 3703), ('stitch', 3704), ('slam', 3705), ('obsession', 3706), ('listener', 3707), ('soap', 3708), ('toll', 3709), ('unity', 3710), ('xmas', 3711), ('butter', 3712), ('attachment', 3713), ('humility', 3714), ('sickening', 3715), ('error', 3716), ('grit', 3717), ('loyalty', 3718), ('quilting', 3719), ('aversion', 3720), ('affirmation', 3721), ('polite', 3722), ('insincere', 3723), ('benjamin', 3724), ('mislead', 3725), ('river', 3726), ('intellectual', 3727), ('babys', 3728), ('counsel', 3729), ('breed', 3730), ('sponsor', 3731), ('gladly', 3732), ('repair', 3733), ('oscar', 3734), ('rainbow', 3735), ('anguished', 3736), ('sting', 3737), ('nonsense', 3738), ('absurd', 3739), ('socialist', 3740), ('collective', 3741), ('cubicle', 3742), ('wor', 3743), ('hopelessly', 3744), ('prone', 3745), ('bullshit', 3746), ('heaviness', 3747), ('vo', 3748), ('shove', 3749), ('mightily', 3750), ('pierce', 3751), ('sympathize', 3752), ('kissing', 3753), ('slack', 3754), ('teaching', 3755), ('myspace', 3756), ('lull', 3757), ('barrier', 3758), ('bye', 3759), ('shimmer', 3760), ('twelve', 3761), ('chi', 3762), ('privacy', 3763), ('bully', 3764), ('orchestra', 3765), ('singe', 3766), ('foul', 3767), ('permalink', 3768), ('selection', 3769), ('taking', 3770), ('lounge', 3771), ('milestone', 3772), ('forgiveness', 3773), ('soooo', 3774), ('stack', 3775), ('warehouse', 3776), ('publishing', 3777), ('repercussion', 3778), ('outing', 3779), ('typical', 3780), ('energize', 3781), ('exhaustion', 3782), ('onion', 3783), ('impose', 3784), ('hurtful', 3785), ('em', 3786), ('obstacle', 3787), ('thumb', 3788), ('steep', 3789), ('gape', 3790), ('mush', 3791), ('fuckin', 3792), ('miffed', 3793), ('portion', 3794), ('prompt', 3795), ('sequel', 3796), ('stock', 3797), ('buck', 3798), ('promotion', 3799), ('distraction', 3800), ('muck', 3801), ('swell', 3802), ('formula', 3803), ('east', 3804), ('wealth', 3805), ('indication', 3806), ('serenity', 3807), ('automatically', 3808), ('loop', 3809), ('marvel', 3810), ('terrorstricken', 3811), ('wit', 3812), ('tick', 3813), ('landscape', 3814), ('profile', 3815), ('adjustment', 3816), ('olympic', 3817), ('shelter', 3818), ('overjoyed', 3819), ('likeable', 3820), ('legacy', 3821), ('uni', 3822), ('euphoria', 3823), ('hurry', 3824), ('athelstan', 3825), ('daycare', 3826), ('meaningless', 3827), ('transport', 3828), ('plunge', 3829), ('naive', 3830), ('hunger', 3831), ('bell', 3832), ('participant', 3833), ('republic', 3834), ('elizabeth', 3835), ('german', 3836), ('claudia', 3837), ('plea', 3838), ('pencil', 3839), ('goddess', 3840), ('maternal', 3841), ('priest', 3842), ('ali', 3843), ('permanent', 3844), ('freely', 3845), ('jackson', 3846), ('deck', 3847), ('motherhood', 3848), ('intellect', 3849), ('independent', 3850), ('zealand', 3851), ('teary', 3852), ('lump', 3853), ('peeve', 3854), ('fridge', 3855), ('frustrating', 3856), ('telephone', 3857), ('sidewalk', 3858), ('frozen', 3859), ('insert', 3860), ('peep', 3861), ('convenience', 3862), ('element', 3863), ('picnic', 3864), ('epidural', 3865), ('happening', 3866), ('appalled', 3867), ('judgment', 3868), ('chil', 3869), ('photographer', 3870), ('historical', 3871), ('imply', 3872), ('cage', 3873), ('stupidity', 3874), ('genius', 3875), ('solemn', 3876), ('pee', 3877), ('bipolar', 3878), ('fog', 3879), ('conspiracy', 3880), ('wrestle', 3881), ('comeback', 3882), ('usa', 3883), ('retreat', 3884), ('downhearte', 3885), ('eyebrow', 3886), ('temporarily', 3887), ('possess', 3888), ('delay', 3889), ('ethic', 3890), ('inconsolabl', 3891), ('heartache', 3892), ('donut', 3893), ('square', 3894), ('booth', 3895), ('fork', 3896), ('upper', 3897), ('remarkable', 3898), ('penny', 3899), ('insensitive', 3900), ('cozy', 3901), ('enormous', 3902), ('convention', 3903), ('exhibit', 3904), ('disqui', 3905), ('q', 3906), ('split', 3907), ('hormone', 3908), ('clench', 3909), ('limb', 3910), ('union', 3911), ('grieving', 3912), ('balanced', 3913), ('supporter', 3914), ('resonate', 3915), ('zoom', 3916), ('reckon', 3917), ('encompass', 3918), ('sir', 3919), ('daisy', 3920), ('annum', 3921), ('truck', 3922), ('conclude', 3923), ('loner', 3924), ('boil', 3925), ('anatomy', 3926), ('property', 3927), ('joint', 3928), ('bay', 3929), ('overshadow', 3930), ('sober', 3931), ('stray', 3932), ('thread', 3933), ('finance', 3934), ('grown', 3935), ('tower', 3936), ('brat', 3937), ('eric', 3938), ('kit', 3939), ('di', 3940), ('sensible', 3941), ('visual', 3942), ('jan', 3943), ('hesitate', 3944), ('spare', 3945), ('kim', 3946), ('programme', 3947), ('survey', 3948), ('pet', 3949), ('linux', 3950), ('duck', 3951), ('sharing', 3952), ('broken', 3953), ('annual', 3954), ('employ', 3955), ('knight', 3956), ('teddy', 3957), ('importantly', 3958), ('preferably', 3959), ('comfortably', 3960), ('vet', 3961), ('governor', 3962), ('incorporate', 3963), ('splash', 3964), ('melody', 3965), ('destiny', 3966), ('openly', 3967), ('underneath', 3968), ('marvelous', 3969), ('da', 3970), ('paranoia', 3971), ('condescending', 3972), ('maker', 3973), ('respectful', 3974), ('rating', 3975), ('haunt', 3976), ('george', 3977), ('examine', 3978), ('accomplished', 3979), ('sweaty', 3980), ('significantly', 3981), ('chicago', 3982), ('prior', 3983), ('munch', 3984), ('foster', 3985), ('facial', 3986), ('gown', 3987), ('vulnerability', 3988), ('immediate', 3989), ('spark', 3990), ('highschool', 3991), ('faint', 3992), ('heartbeat', 3993), ('license', 3994), ('recording', 3995), ('passionately', 3996), ('fierce', 3997), ('ecsta', 3998), ('veil', 3999), ('retirement', 4000), ('diamond', 4001), ('alice', 4002), ('stat', 4003), ('typically', 4004), ('refuge', 4005), ('handed', 4006), ('ginger', 4007), ('luggage', 4008), ('math', 4009), ('gel', 4010), ('reporter', 4011), ('harmful', 4012), ('saying', 4013), ('evolve', 4014), ('caring', 4015), ('marie', 4016), ('stiff', 4017), ('legion', 4018), ('hoo', 4019), ('ordeal', 4020), ('rub', 4021), ('syndrome', 4022), ('guidance', 4023), ('instance', 4024), ('frequency', 4025), ('texture', 4026), ('owe', 4027), ('rep', 4028), ('confusion', 4029), ('elder', 4030), ('resort', 4031), ('psychotic', 4032), ('impatience', 4033), ('beef', 4034), ('trash', 4035), ('agai', 4036), ('nuclear', 4037), ('portrayal', 4038), ('indulgent', 4039), ('dissolve', 4040), ('james', 4041), ('angle', 4042), ('australian', 4043), ('dint', 4044), ('anthony', 4045), ('comfy', 4046), ('analyse', 4047), ('inconsolable', 4048), ('emptiness', 4049), ('coke', 4050), ('tech', 4051), ('literature', 4052), ('twin', 4053), ('blindly', 4054), ('appropriate', 4055), ('massively', 4056), ('notebook', 4057), ('pertain', 4058), ('hers', 4059), ('hardship', 4060), ('deodorant', 4061), ('binge', 4062), ('apt', 4063), ('idol', 4064), ('jamie', 4065), ('congress', 4066), ('mindful', 4067), ('frank', 4068), ('times', 4069), ('indian', 4070), ('racing', 4071), ('plead', 4072), ('jam', 4073), ('permanently', 4074), ('devastating', 4075), ('rip', 4076), ('lush', 4077), ('diverse', 4078), ('racism', 4079), ('thief', 4080), ('nake', 4081), ('com', 4082), ('monitor', 4083), ('dreamy', 4084), ('sob', 4085), ('independence', 4086), ('lisa', 4087), ('operation', 4088), ('hyper', 4089), ('rider', 4090), ('allen', 4091), ('marketing', 4092), ('bloody', 4093), ('mi', 4094), ('fare', 4095), ('unnatural', 4096), ('fuel', 4097), ('quo', 4098), ('lick', 4099), ('potter', 4100), ('benedict', 4101), ('autumn', 4102), ('devotee', 4103), ('pole', 4104), ('mill', 4105), ('ste', 4106), ('cube', 4107), ('kava', 4108), ('disease', 4109), ('amsterdam', 4110), ('dot', 4111), ('modigliani', 4112), ('console', 4113), ('prick', 4114), ('continuous', 4115), ('siren', 4116), ('map', 4117), ('taunt', 4118), ('existance', 4119), ('resident', 4120), ('perfection', 4121), ('rev', 4122), ('france', 4123), ('threat', 4124), ('annie', 4125), ('means', 4126), ('effectively', 4127), ('ipod', 4128), ('pump', 4129), ('underwear', 4130), ('ceiling', 4131), ('corporate', 4132), ('giver', 4133), ('exclusively', 4134), ('cynical', 4135), ('yellow', 4136), ('downstairs', 4137), ('offense', 4138), ('ambition', 4139), ('rank', 4140), ('elsewhere', 4141), ('gospel', 4142), ('rapidly', 4143), ('cotton', 4144), ('unsafe', 4145), ('lit', 4146), ('soundtrack', 4147), ('grammar', 4148), ('decently', 4149), ('caress', 4150), ('disclaimer', 4151), ('frog', 4152), ('amid', 4153), ('judgement', 4154), ('sally', 4155), ('tire', 4156), ('balloon', 4157), ('surf', 4158), ('satan', 4159), ('rewrite', 4160), ('introduction', 4161), ('woeful', 4162), ('clearboth', 4163), ('padding', 4164), ('inspect', 4165), ('inconvenience', 4166), ('bald', 4167), ('tattoo', 4168), ('tablet', 4169), ('ipad', 4170), ('cave', 4171), ('noon', 4172), ('riot', 4173), ('thirsty', 4174), ('blanche', 4175), ('earthquake', 4176), ('vampire', 4177), ('persona', 4178), ('departure', 4179), ('edward', 4180), ('xanax', 4181), ('wig', 4182), ('j', 4183), ('thrilling', 4184), ('forest', 4185), ('furniture', 4186), ('discovery', 4187), ('flirt', 4188), ('sible', 4189), ('nutty', 4190), ('offen', 4191), ('suitably', 4192), ('creator', 4193), ('wryly', 4194), ('netflix', 4195), ('mobile', 4196), ('lemon', 4197), ('betrayal', 4198), ('immigrant', 4199), ('eff', 4200), ('mariana', 4201), ('enact', 4202), ('disconnect', 4203), ('crochet', 4204), ('entitle', 4205), ('agency', 4206), ('feast', 4207), ('ted', 4208), ('commuter', 4209), ('suspense', 4210), ('roller', 4211), ('coaster', 4212), ('dissect', 4213), ('ccs', 4214), ('pillar', 4215), ('sunlight', 4216), ('classy', 4217), ('signal', 4218), ('lace', 4219), ('fascination', 4220), ('wal', 4221), ('pitch', 4222), ('parade', 4223), ('ensure', 4224), ('construction', 4225), ('recreate', 4226), ('amaze', 4227), ('replacement', 4228), ('getaway', 4229), ('reward', 4230), ('laptop', 4231), ('vexat', 4232), ('persevere', 4233), ('apostrophe', 4234), ('pb', 4235), ('shuffle', 4236), ('corpse', 4237), ('workplace', 4238), ('congratulation', 4239), ('benign', 4240), ('wen', 4241), ('impractical', 4242), ('momo', 4243), ('monastery', 4244), ('tantrum', 4245), ('proclaim', 4246), ('sanity', 4247), ('porn', 4248), ('outer', 4249), ('comparatively', 4250), ('buddy', 4251), ('deadline', 4252), ('spa', 4253), ('10', 4254), ('engine', 4255), ('favour', 4256), ('eighty', 4257), ('psycho', 4258), ('vividly', 4259), ('isolation', 4260), ('anyways', 4261), ('heroine', 4262), ('mexican', 4263), ('limitation', 4264), ('accustomed', 4265), ('retain', 4266), ('apothecary', 4267), ('organic', 4268), ('profession', 4269), ('qualified', 4270), ('intuition', 4271), ('gnaw', 4272), ('fluff', 4273), ('compensate', 4274), ('cruel', 4275), ('terror', 4276), ('ambitious', 4277), ('laura', 4278), ('irrationally', 4279), ('trophy', 4280), ('neighbour', 4281), ('defence', 4282), ('snug', 4283), ('agne', 4284), ('dorothy', 4285), ('dignity', 4286), ('km', 4287), ('surprising', 4288), ('prejudice', 4289), ('unintentionally', 4290), ('detest', 4291), ('device', 4292), ('narrator', 4293), ('deaf', 4294), ('auto', 4295), ('chant', 4296), ('cashier', 4297), ('oblige', 4298), ('shatter', 4299), ('survivor', 4300), ('perpetually', 4301), ('barbie', 4302), ('hilarious', 4303), ('fold', 4304), ('tummy', 4305), ('levi', 4306), ('flowy', 4307), ('experienced', 4308), ('shield', 4309), ('bizarre', 4310), ('honesty', 4311), ('manipulate', 4312), ('tweet', 4313), ('leapt', 4314), ('cloudy', 4315), ('cautious', 4316), ('clash', 4317), ('supremely', 4318), ('abroad', 4319), ('zumba', 4320), ('housewife', 4321), ('mantra', 4322), ('inherent', 4323), ('batch', 4324), ('clay', 4325), ('allowfullscreen', 4326), ('cure', 4327), ('maid', 4328), ('wayne', 4329), ('mob', 4330), ('auguste', 4331), ('authentic', 4332), ('jar', 4333), ('wildly', 4334), ('politely', 4335), ('secretary', 4336), ('courageous', 4337), ('nervousness', 4338), ('tournament', 4339), ('vendor', 4340), ('flabbergast', 4341), ('devour', 4342), ('bohemian', 4343), ('distinctly', 4344), ('injustice', 4345), ('si', 4346), ('instill', 4347), ('bewildered', 4348), ('mayhem', 4349), ('hangover', 4350), ('rouge', 4351), ('ferocious', 4352), ('fluid', 4353), ('wield', 4354), ('channel', 4355), ('assessment', 4356), ('banter', 4357), ('wholeheartedly', 4358), ('remembrance', 4359), ('tote', 4360), ('dramatically', 4361), ('triumph', 4362), ('raphael', 4363), ('cruz', 4364), ('pal', 4365), ('knitting', 4366), ('whale', 4367), ('microsoft', 4368), ('speaker', 4369), ('serif', 4370), ('trivial', 4371), ('nicola', 4372), ('withdrawal', 4373), ('wiggle', 4374), ('tunnel', 4375), ('whistle', 4376), ('opponent', 4377), ('voter', 4378), ('mash', 4379), ('envelop', 4380), ('queer', 4381), ('yeast', 4382), ('detox', 4383), ('ambassador', 4384), ('servant', 4385), ('awaken', 4386), ('ancient', 4387), ('ignorant', 4388), ('pushy', 4389), ('statistic', 4390), ('wales', 4391), ('clutter', 4392), ('recession', 4393), ('fatigue', 4394), ('snuggle', 4395), ('courtesy', 4396), ('residential', 4397), ('teeny', 4398), ('affront', 4399), ('slump', 4400), ('terrain', 4401), ('ponder', 4402), ('nov', 4403), ('toxin', 4404), ('advertising', 4405), ('unease', 4406), ('equivalent', 4407), ('daydream', 4408), ('vegetable', 4409), ('extension', 4410), ('grain', 4411), ('gush', 4412), ('fave', 4413), ('widely', 4414), ('womens', 4415), ('michelle', 4416), ('subsequently', 4417), ('midterm', 4418), ('roughly', 4419), ('combo', 4420), ('bleeding', 4421), ('rash', 4422), ('chemical', 4423), ('cranston', 4424), ('sugary', 4425), ('alain', 4426), ('pete', 4427), ('spoil', 4428), ('newbie', 4429), ('submission', 4430), ('electricity', 4431), ('trace', 4432), ('interrupt', 4433), ('nicer', 4434), ('veggie', 4435), ('smoothie', 4436), ('artisan', 4437), ('elementary', 4438), ('depressive', 4439), ('strut', 4440), ('internally', 4441), ('shortlist', 4442), ('outstanding', 4443), ('partnership', 4444), ('weariness', 4445), ('majorly', 4446), ('playing', 4447), ('atleast', 4448), ('pinch', 4449), ('ethiopia', 4450), ('poli', 4451), ('ballet', 4452), ('flame', 4453), ('flesh', 4454), ('breastfeed', 4455), ('cutting', 4456), ('producer', 4457), ('ain', 4458), ('quicken', 4459), ('dick', 4460), ('recovery', 4461), ('stimulate', 4462), ('rapture', 4463), ('subtle', 4464), ('plug', 4465), ('converse', 4466), ('wierd', 4467), ('quantity', 4468), ('rag', 4469), ('confession', 4470), ('stadium', 4471), ('wherever', 4472), ('honey', 4473), ('pickle', 4474), ('revisit', 4475), ('preparation', 4476), ('fourth', 4477), ('july', 4478), ('haircut', 4479), ('wince', 4480), ('concert', 4481), ('coffin', 4482), ('christopher', 4483), ('dependent', 4484), ('component', 4485), ('minority', 4486), ('arena', 4487), ('israel', 4488), ('walking', 4489), ('tub', 4490), ('comic', 4491), ('parting', 4492), ('weekly', 4493), ('masculine', 4494), ('distinct', 4495), ('sibling', 4496), ('lone', 4497), ('smoothly', 4498), ('rex', 4499), ('acquire', 4500), ('gosh', 4501), ('memorize', 4502), ('kg', 4503), ('operate', 4504), ('ugliness', 4505), ('overdo', 4506), ('conducive', 4507), ('preform', 4508), ('rang', 4509), ('depressing', 4510), ('paula', 4511), ('moss', 4512), ('mechanical', 4513), ('pantie', 4514), ('browse', 4515), ('prank', 4516), ('kingdom', 4517), ('column', 4518), ('stew', 4519), ('germany', 4520), ('rightly', 4521), ('scarlet', 4522), ('fiercely', 4523), ('consolation', 4524), ('hurricane', 4525), ('oneself', 4526), ('greed', 4527), ('flop', 4528), ('moisturizer', 4529), ('urgency', 4530), ('organisation', 4531), ('wrench', 4532), ('bolt', 4533), ('wrinkle', 4534), ('keyboard', 4535), ('tin', 4536), ('backward', 4537), ('disconsolat', 4538), ('ro', 4539), ('icy', 4540), ('rouse', 4541), ('ruth', 4542), ('nigel', 4543), ('territory', 4544), ('merry', 4545), ('sombre', 4546), ('rile', 4547), ('anxiously', 4548), ('await', 4549), ('twitch', 4550), ('dedicate', 4551), ('spirituality', 4552), ('compose', 4553), ('blend', 4554), ('miller', 4555), ('exaspera', 4556), ('intimate', 4557), ('andrea', 4558), ('singer', 4559), ('beam', 4560), ('firm', 4561), ('salon', 4562), ('cam', 4563), ('steady', 4564), ('plastic', 4565), ('creepy', 4566), ('mull', 4567), ('erik', 4568), ('perry', 4569), ('moreover', 4570), ('gardening', 4571), ('locker', 4572), ('defeated', 4573), ('constance', 4574), ('comprehend', 4575), ('stiffen', 4576), ('icon', 4577), ('comforting', 4578), ('rib', 4579), ('blade', 4580), ('excruciating', 4581), ('hack', 4582), ('vow', 4583), ('sift', 4584), ('capability', 4585), ('katy', 4586), ('regulation', 4587), ('whore', 4588), ('assumption', 4589), ('underrated', 4590), ('illustrate', 4591), ('dreadful', 4592), ('abide', 4593), ('cab', 4594), ('acne', 4595), ('restricted', 4596), ('occasional', 4597), ('privately', 4598), ('juliet', 4599), ('liberal', 4600), ('geek', 4601), ('loathe', 4602), ('enable', 4603), ('net', 4604), ('arrival', 4605), ('disrupt', 4606), ('lurk', 4607), ('yuuki', 4608), ('bryan', 4609), ('twinge', 4610), ('exhausting', 4611), ('europe', 4612), ('josh', 4613), ('testing', 4614), ('recognition', 4615), ('erika', 4616), ('adorable', 4617), ('lane', 4618), ('susan', 4619), ('shrug', 4620), ('trouser', 4621), ('familiarity', 4622), ('bridge', 4623), ('childr', 4624), ('reddit', 4625), ('upbeat', 4626), ('nest', 4627), ('thai', 4628), ('hom', 4629), ('stab', 4630), ('solo', 4631), ('dart', 4632), ('void', 4633), ('consideration', 4634), ('priority', 4635), ('strand', 4636), ('pushover', 4637), ('joshua', 4638), ('jo', 4639), ('vast', 4640), ('finding', 4641), ('sleepless', 4642), ('download', 4643), ('tang', 4644), ('disservice', 4645), ('tangible', 4646), ('implement', 4647), ('multi', 4648), ('le', 4649), ('elite', 4650), ('snake', 4651), ('excess', 4652), ('tr', 4653), ('basket', 4654), ('apron', 4655), ('communication', 4656), ('factory', 4657), ('herald', 4658), ('carriage', 4659), ('chatter', 4660), ('cycling', 4661), ('sparkle', 4662), ('festival', 4663), ('discount', 4664), ('tangle', 4665), ('scotland', 4666), ('relevant', 4667), ('assurance', 4668), ('elaine', 4669), ('depressio', 4670), ('semi', 4671), ('equation', 4672), ('pose', 4673), ('aesthetic', 4674), ('nephew', 4675), ('bask', 4676), ('hehe', 4677), ('loudly', 4678), ('breaking', 4679), ('exhilaration', 4680), ('leap', 4681), ('essentially', 4682), ('integrate', 4683), ('stroll', 4684), ('angsty', 4685), ('verdict', 4686), ('psychologist', 4687), ('oncologist', 4688), ('intimacy', 4689), ('petrify', 4690), ('capital', 4691), ('packet', 4692), ('grandchild', 4693), ('smack', 4694), ('rinse', 4695), ('differ', 4696), ('duke', 4697), ('railway', 4698), ('contrary', 4699), ('sew', 4700), ('dubai', 4701), ('slope', 4702), ('separately', 4703), ('matthew', 4704), ('haze', 4705), ('deed', 4706), ('continuously', 4707), ('circus', 4708), ('homeschooling', 4709), ('nugget', 4710), ('primer', 4711), ('infertility', 4712), ('solace', 4713), ('quirky', 4714), ('inanimate', 4715), ('dive', 4716), ('lin', 4717), ('incensed', 4718), ('passport', 4719), ('los', 4720), ('angeles', 4721), ('parallel', 4722), ('kevin', 4723), ('counselling', 4724), ('consist', 4725), ('penis', 4726), ('sunrise', 4727), ('transformation', 4728), ('garage', 4729), ('obama', 4730), ('micah', 4731), ('dd', 4732), ('obey', 4733), ('freaking', 4734), ('mumble', 4735), ('fascinate', 4736), ('watcher', 4737), ('coming', 4738), ('measurement', 4739), ('lunchtime', 4740), ('decoration', 4741), ('donna', 4742), ('sarcasm', 4743), ('western', 4744), ('disrespected', 4745), ('sincerely', 4746), ('awkwardness', 4747), ('observer', 4748), ('vague', 4749), ('platform', 4750), ('guarantee', 4751), ('awa', 4752), ('branch', 4753), ('spine', 4754), ('diplomatic', 4755), ('cre', 4756), ('disintereste', 4757), ('venue', 4758), ('clique', 4759), ('sensory', 4760), ('extended', 4761), ('crowded', 4762), ('rear', 4763), ('brake', 4764), ('lower', 4765), ('graduation', 4766), ('query', 4767), ('sleeve', 4768), ('administration', 4769), ('era', 4770), ('pms', 4771), ('enrich', 4772), ('someway', 4773), ('racist', 4774), ('snob', 4775), ('exceedingly', 4776), ('logic', 4777), ('eco', 4778), ('jog', 4779), ('ankle', 4780), ('ana', 4781), ('fellowship', 4782), ('hoard', 4783), ('sarah', 4784), ('proceed', 4785), ('swamp', 4786), ('insignificant', 4787), ('socialise', 4788), ('sheila', 4789), ('jake', 4790), ('schoolgirl', 4791), ('onset', 4792), ('indicate', 4793), ('tutor', 4794), ('attain', 4795), ('mock', 4796), ('faux', 4797), ('mineral', 4798), ('sniffle', 4799), ('henry', 4800), ('supermarket', 4801), ('showing', 4802), ('suffocated', 4803), ('cruise', 4804), ('embark', 4805), ('showcase', 4806), ('slave', 4807), ('voic', 4808), ('satisfy', 4809), ('manual', 4810), ('forgiving', 4811), ('making', 4812), ('profound', 4813), ('dismiss', 4814), ('translate', 4815), ('singular', 4816), ('uncommon', 4817), ('pore', 4818), ('expr', 4819), ('tsunami', 4820), ('florida', 4821), ('tidy', 4822), ('deceive', 4823), ('sweatshirt', 4824), ('preference', 4825), ('mia', 4826), ('boo', 4827), ('salvation', 4828), ('stud', 4829), ('crazily', 4830), ('guardian', 4831), ('unrealistic', 4832), ('merciful', 4833), ('likelihood', 4834), ('astounded', 4835), ('vertigo', 4836), ('incapable', 4837), ('bruce', 4838), ('cleaning', 4839), ('traumatic', 4840), ('combat', 4841), ('unbearable', 4842), ('homosexual', 4843), ('gaia', 4844), ('luxury', 4845), ('demotivate', 4846), ('doc', 4847), ('impotent', 4848), ('taco', 4849), ('greatness', 4850), ('borrow', 4851), ('councillor', 4852), ('ingredient', 4853), ('pas', 4854), ('belonging', 4855), ('russia', 4856), ('ian', 4857), ('bam', 4858), ('welfare', 4859), ('advocate', 4860), ('irish', 4861), ('unfit', 4862), ('paralysis', 4863), ('jaw', 4864), ('stanza', 4865), ('duct', 4866), ('slice', 4867), ('knife', 4868), ('inadequacy', 4869), ('laziness', 4870), ('percieve', 4871), ('tumblr', 4872), ('reception', 4873), ('legitimately', 4874), ('temptation', 4875), ('instructor', 4876), ('pizza', 4877), ('appropriately', 4878), ('immerse', 4879), ('closely', 4880), ('silver', 4881), ('gettin', 4882), ('bod', 4883), ('bunk', 4884), ('grunt', 4885), ('jumper', 4886), ('necklace', 4887), ('situati', 4888), ('definately', 4889), ('heartedly', 4890), ('blogosphere', 4891), ('lds', 4892), ('trailer', 4893), ('ensue', 4894), ('gratification', 4895), ('passing', 4896), ('default', 4897), ('peak', 4898), ('suspicion', 4899), ('barrage', 4900), ('sweetheart', 4901), ('sluggish', 4902), ('skype', 4903), ('polar', 4904), ('youthful', 4905), ('guard', 4906), ('uncharacteristically', 4907), ('interpretation', 4908), ('laurie', 4909), ('tutorial', 4910), ('edgy', 4911), ('accurately', 4912), ('horrifi', 4913), ('costly', 4914), ('penn', 4915), ('castle', 4916), ('dine', 4917), ('lawyer', 4918), ('saving', 4919), ('unsavory', 4920), ('nude', 4921), ('berry', 4922), ('daunt', 4923), ('rabbit', 4924), ('van', 4925), ('barn', 4926), ('rhetoric', 4927), ('worldly', 4928), ('thrifte', 4929), ('soil', 4930), ('cabin', 4931), ('bladder', 4932), ('char', 4933), ('undercurrent', 4934), ('hockey', 4935), ('accent', 4936), ('instagram', 4937), ('enthusiastic', 4938), ('gap', 4939), ('headphone', 4940), ('overtake', 4941), ('uncare', 4942), ('arch', 4943), ('sketch', 4944), ('britain', 4945), ('nonp', 4946), ('morph', 4947), ('stellar', 4948), ('trainer', 4949), ('questionnaire', 4950), ('tornado', 4951), ('queasy', 4952), ('sh', 4953), ('conductor', 4954), ('belittle', 4955), ('champagne', 4956), ('modify', 4957), ('dining', 4958), ('ailment', 4959), ('motivator', 4960), ('ugg', 4961), ('envelope', 4962), ('fluffy', 4963), ('stuffy', 4964), ('squeal', 4965), ('feminist', 4966), ('yash', 4967), ('scissor', 4968), ('vocal', 4969), ('communal', 4970), ('chief', 4971), ('lapse', 4972), ('impending', 4973), ('montana', 4974), ('precise', 4975), ('limbo', 4976), ('wreck', 4977), ('sweater', 4978), ('encouraging', 4979), ('division', 4980), ('dazzle', 4981), ('yearning', 4982), ('uber', 4983), ('outdoors', 4984), ('supervision', 4985), ('bla', 4986), ('assaulted', 4987), ('fashioned', 4988), ('backyard', 4989), ('consecutive', 4990), ('excitment', 4991), ('fee', 4992), ('wp', 4993), ('elderly', 4994), ('scrutiny', 4995), ('flag', 4996), ('spy', 4997), ('casually', 4998), ('blackburn', 4999), ('ho', 5000), ('visible', 5001), ('integrity', 5002), ('wistful', 5003), ('agony', 5004), ('mutter', 5005), ('productivity', 5006), ('invariably', 5007), ('district', 5008), ('baptize', 5009), ('collapse', 5010), ('pavement', 5011), ('launch', 5012), ('unattractive', 5013), ('mystery', 5014), ('poet', 5015), ('literary', 5016), ('noodle', 5017), ('pedestrian', 5018), ('preservation', 5019), ('crutch', 5020), ('beating', 5021), ('kay', 5022), ('relish', 5023), ('sage', 5024), ('susceptible', 5025), ('soccer', 5026), ('canadian', 5027), ('labour', 5028), ('ignite', 5029), ('kidnap', 5030), ('hahaha', 5031), ('richness', 5032), ('flirty', 5033), ('travis', 5034), ('corn', 5035), ('whack', 5036), ('whoop', 5037), ('joey', 5038), ('characteristic', 5039), ('dave', 5040), ('esp', 5041), ('going', 5042), ('buff', 5043), ('specie', 5044), ('murmur', 5045), ('del', 5046), ('overpower', 5047), ('criminal', 5048), ('minimal', 5049), ('jewellery', 5050), ('scrap', 5051), ('imminent', 5052), ('destine', 5053), ('bbq', 5054), ('plight', 5055), ('museum', 5056), ('merit', 5057), ('pilot', 5058), ('godly', 5059), ('embarrass', 5060), ('nearby', 5061), ('supposedly', 5062), ('employee', 5063), ('abc', 5064), ('droop', 5065), ('clap', 5066), ('salad', 5067), ('passersby', 5068), ('chemistry', 5069), ('bridesmaid', 5070), ('introvert', 5071), ('na', 5072), ('flexible', 5073), ('negativity', 5074), ('biofuel', 5075), ('ri', 5076), ('ra', 5077), ('confrontation', 5078), ('incense', 5079), ('fl', 5080), ('mediocre', 5081), ('repetition', 5082), ('caterpillar', 5083), ('zach', 5084), ('meanwhile', 5085), ('shinobi', 5086), ('tango', 5087), ('stagnate', 5088), ('bathing', 5089), ('wailing', 5090), ('frazzle', 5091), ('frailty', 5092), ('exterior', 5093), ('compost', 5094), ('climate', 5095), ('karate', 5096), ('harbor', 5097), ('consumption', 5098), ('justified', 5099), ('heartbroke', 5100), ('drawer', 5101), ('gorgeously', 5102), ('conventional', 5103), ('lessen', 5104), ('provocative', 5105), ('weirdly', 5106), ('farewell', 5107), ('destinys', 5108), ('overwork', 5109), ('bogge', 5110), ('disagreement', 5111), ('alittle', 5112), ('tulip', 5113), ('offering', 5114), ('squishing', 5115), ('lobby', 5116), ('monogamous', 5117), ('unbelievable', 5118), ('wounded', 5119), ('developer', 5120), ('hurting', 5121), ('orphan', 5122), ('wheat', 5123), ('sorbet', 5124), ('devotion', 5125), ('selfless', 5126), ('yknow', 5127), ('dissipate', 5128), ('fuzzy', 5129), ('stoop', 5130), ('pende', 5131), ('bitterly', 5132), ('towel', 5133), ('wool', 5134), ('demonstrate', 5135), ('colby', 5136), ('margin', 5137), ('collaboration', 5138), ('packing', 5139), ('readership', 5140), ('preface', 5141), ('christianity', 5142), ('naught', 5143), ('conversion', 5144), ('trapping', 5145), ('freshly', 5146), ('printer', 5147), ('walmart', 5148), ('bloat', 5149), ('questionable', 5150), ('webpage', 5151), ('frantically', 5152), ('nagged', 5153), ('moderately', 5154), ('container', 5155), ('warmly', 5156), ('aged', 5157), ('hobble', 5158), ('retire', 5159), ('freshman', 5160), ('stepchildren', 5161), ('glenn', 5162), ('franc', 5163), ('besiege', 5164), ('sephora', 5165), ('definite', 5166), ('quieter', 5167), ('muster', 5168), ('christmassy', 5169), ('indigo', 5170), ('offline', 5171), ('william', 5172), ('missing', 5173), ('leer', 5174), ('befriend', 5175), ('swedish', 5176), ('melbourne', 5177), ('robyn', 5178), ('meantime', 5179), ('creatively', 5180), ('smoking', 5181), ('isaac', 5182), ('backstage', 5183), ('beachy', 5184), ('psychologically', 5185), ('moving', 5186), ('exploration', 5187), ('refined', 5188), ('rivalry', 5189), ('unlovable', 5190), ('carol', 5191), ('similarity', 5192), ('repay', 5193), ('blossom', 5194), ('vanilla', 5195), ('hiding', 5196), ('alley', 5197), ('pirate', 5198), ('max', 5199), ('assuredly', 5200), ('flatter', 5201), ('disclose', 5202), ('reside', 5203), ('longevity', 5204), ('speculation', 5205), ('antonio', 5206), ('docs', 5207), ('clarify', 5208), ('memorial', 5209), ('ben', 5210), ('moisturising', 5211), ('dreaded', 5212), ('pesky', 5213), ('chuckle', 5214), ('invincible', 5215), ('springer', 5216), ('soften', 5217), ('upfront', 5218), ('bliss', 5219), ('professionalism', 5220), ('fanfiction', 5221), ('claustrophobic', 5222), ('shameful', 5223), ('egalitarian', 5224), ('endorphin', 5225), ('radiance', 5226), ('yomis', 5227), ('1991', 5228), ('eyeliner', 5229), ('eyelash', 5230), ('carb', 5231), ('lesbian', 5232), ('grimace', 5233), ('quell', 5234), ('leed', 5235), ('unite', 5236), ('championship', 5237), ('il', 5238), ('trimester', 5239), ('phil', 5240), ('luxurious', 5241), ('finn', 5242), ('shaving', 5243), ('socialize', 5244), ('offset', 5245), ('homosexuality', 5246), ('smil', 5247), ('italy', 5248), ('stressor', 5249), ('underline', 5250), ('cecilia', 5251), ('motivational', 5252), ('guideline', 5253), ('stump', 5254), ('specially', 5255), ('gutte', 5256), ('reign', 5257), ('undeserving', 5258), ('magnificent', 5259), ('starting', 5260), ('sitcom', 5261), ('saddle', 5262), ('donation', 5263), ('ebook', 5264), ('nickname', 5265), ('fifty', 5266), ('durham', 5267), ('edit', 5268), ('complicate', 5269), ('funky', 5270), ('individuality', 5271), ('precipice', 5272), ('overjoy', 5273), ('beth', 5274), ('broad', 5275), ('permeate', 5276), ('childre', 5277), ('jerry', 5278), ('maxs', 5279), ('rot', 5280), ('clumsy', 5281), ('captivate', 5282), ('jelly', 5283), ('sulk', 5284), ('bosom', 5285), ('touchy', 5286), ('playoff', 5287), ('outward', 5288), ('oxygen', 5289), ('nightly', 5290), ('wilfrid', 5291), ('reconciliation', 5292), ('pester', 5293), ('unconditional', 5294), ('strop', 5295), ('impulsive', 5296), ('salute', 5297), ('maeve', 5298), ('stripe', 5299), ('theirs', 5300), ('liquor', 5301), ('forgotten', 5302), ('brutality', 5303), ('cray', 5304), ('lucas', 5305), ('conceive', 5306), ('intentional', 5307), ('complainy', 5308), ('disadvantage', 5309), ('lif', 5310), ('parcel', 5311), ('skincare', 5312), ('packaging', 5313), ('insurance', 5314), ('intermediary', 5315), ('unlikeable', 5316), ('unreasonable', 5317), ('torment', 5318), ('fury', 5319), ('hometown', 5320), ('handbag', 5321), ('sci', 5322), ('corps', 5323), ('workmate', 5324), ('horrid', 5325), ('administrator', 5326), ('sheriff', 5327), ('underway', 5328), ('lumber', 5329), ('raider', 5330), ('states', 5331), ('mire', 5332), ('tighten', 5333), ('colleag', 5334), ('mimic', 5335), ('alaska', 5336), ('insidious', 5337), ('angie', 5338), ('oz', 5339), ('fraud', 5340), ('illicit', 5341), ('suspiciously', 5342), ('moist', 5343), ('turkey', 5344), ('friggin', 5345), ('dissatisfaction', 5346), ('shun', 5347), ('facility', 5348), ('rolling', 5349), ('warsaw', 5350), ('nutshell', 5351), ('generic', 5352), ('entertainer', 5353), ('williams', 5354), ('narrate', 5355), ('recluse', 5356), ('elect', 5357), ('guru', 5358), ('surgeon', 5359), ('sterile', 5360), ('pine', 5361), ('trustworthy', 5362), ('hone', 5363), ('deadly', 5364), ('laxman', 5365), ('keenly', 5366), ('webkit', 5367), ('guitarist', 5368), ('trumpeter', 5369), ('luh', 5370), ('sharia', 5371), ('effin', 5372), ('liking', 5373), ('solicit', 5374), ('exploit', 5375), ('tha', 5376), ('pokemon', 5377), ('sag', 5378), ('heav', 5379), ('temp', 5380), ('collector', 5381), ('sixty', 5382), ('conflicted', 5383), ('badass', 5384), ('thomas', 5385), ('ellen', 5386), ('gla', 5387), ('11', 5388), ('asset', 5389), ('inspiring', 5390), ('rudy', 5391), ('sucky', 5392), ('willi', 5393), ('backing', 5394), ('dial', 5395), ('orgasm', 5396), ('30', 5397), ('douche', 5398), ('baggy', 5399), ('sweetness', 5400), ('jet', 5401), ('lag', 5402), ('daylight', 5403), ('snooze', 5404), ('horizontal', 5405), ('iframe', 5406), ('frameborder', 5407), ('def', 5408), ('chilli', 5409), ('fil', 5410), ('heartburn', 5411), ('lloyd', 5412), ('tribute', 5413), ('timeline', 5414), ('breakdown', 5415), ('sleeping', 5416), ('stella', 5417), ('lynch', 5418), ('unforgettable', 5419), ('blowout', 5420), ('slytherin', 5421), ('lid', 5422), ('happ', 5423), ('harden', 5424), ('xx', 5425), ('eh', 5426), ('scientific', 5427), ('inevitable', 5428), ('foresee', 5429), ('crab', 5430), ('estrogen', 5431), ('ounce', 5432), ('paren', 5433), ('breakup', 5434), ('bud', 5435), ('creaminess', 5436), ('hypocrisy', 5437), ('convoluted', 5438), ('flawed', 5439), ('academia', 5440), ('poetic', 5441), ('inclination', 5442), ('jessica', 5443), ('adoption', 5444), ('diversity', 5445), ('vex', 5446), ('sp', 5447), ('feely', 5448), ('razor', 5449), ('redesign', 5450), ('relive', 5451), ('deform', 5452), ('unwittingly', 5453), ('storyline', 5454), ('hover', 5455), ('cardboard', 5456), ('misunderstanding', 5457), ('justification', 5458), ('hon', 5459), ('rea', 5460), ('purposeless', 5461), ('grandma', 5462), ('hiccup', 5463), ('seal', 5464), ('softly', 5465), ('fighting', 5466), ('biology', 5467), ('narrative', 5468), ('harmonious', 5469), ('counselor', 5470), ('friar', 5471), ('georgia', 5472), ('torso', 5473), ('nicotine', 5474), ('scorn', 5475), ('cum', 5476), ('beneficial', 5477), ('eater', 5478), ('overhead', 5479), ('approximately', 5480), ('courtney', 5481), ('slug', 5482), ('fireplace', 5483), ('supreme', 5484), ('nosy', 5485), ('holding', 5486), ('thi', 5487), ('doubly', 5488), ('critically', 5489), ('hsp', 5490), ('exert', 5491), ('feauture', 5492), ('banana', 5493), ('commentator', 5494), ('reverse', 5495), ('motive', 5496), ('unemployment', 5497), ('boldly', 5498), ('sta', 5499), ('loopy', 5500), ('harvey', 5501), ('aaron', 5502), ('stutter', 5503), ('propose', 5504), ('committee', 5505), ('journalism', 5506), ('richie', 5507), ('freezer', 5508), ('homemade', 5509), ('phoebe', 5510), ('lion', 5511), ('par', 5512), ('nonstop', 5513), ('backpack', 5514), ('sd', 5515), ('vegetarian', 5516), ('stillness', 5517), ('pretentious', 5518), ('compromised', 5519), ('floss', 5520), ('sabbatical', 5521), ('genetic', 5522), ('demise', 5523), ('ballistic', 5524), ('passage', 5525), ('disciple', 5526), ('toronto', 5527), ('unsatisfied', 5528), ('kai', 5529), ('mabel', 5530), ('diagnosis', 5531), ('clutch', 5532), ('vs', 5533), ('mas', 5534), ('uplift', 5535), ('blogs', 5536), ('trim', 5537), ('luminary', 5538), ('forty', 5539), ('kuya', 5540), ('obedient', 5541), ('abortion', 5542), ('bead', 5543), ('rhyme', 5544), ('jolt', 5545), ('fi', 5546), ('startling', 5547), ('bleak', 5548), ('smear', 5549), ('unusually', 5550), ('shinae', 5551), ('thankfully', 5552), ('sleek', 5553), ('blaster', 5554), ('secrecy', 5555), ('nationality', 5556), ('liar', 5557), ('victorious', 5558), ('hummus', 5559), ('aftermath', 5560), ('menu', 5561), ('fell', 5562), ('um', 5563), ('poppy', 5564), ('unconscious', 5565), ('unhappiness', 5566), ('founder', 5567), ('poverty', 5568), ('sonia', 5569), ('reportedly', 5570), ('agonize', 5571), ('unexplained', 5572), ('wat', 5573), ('duration', 5574), ('tenderly', 5575), ('crud', 5576), ('poison', 5577), ('vice', 5578), ('vienna', 5579), ('bass', 5580), ('dozen', 5581), ('tis', 5582), ('mainstream', 5583), ('mandarin', 5584), ('podcast', 5585), ('revenue', 5586), ('environmentally', 5587), ('claw', 5588), ('concoction', 5589), ('enquiry', 5590), ('agreement', 5591), ('darken', 5592), ('hardening', 5593), ('tide', 5594), ('incoming', 5595), ('intervention', 5596), ('novice', 5597), ('introverted', 5598), ('champion', 5599), ('originally', 5600), ('earring', 5601), ('childs', 5602), ('demanding', 5603), ('crampy', 5604), ('planner', 5605), ('perpetuate', 5606), ('dynamic', 5607), ('babe', 5608), ('peach', 5609), ('outlet', 5610), ('sep', 5611), ('reconcile', 5612), ('neil', 5613), ('heartbreake', 5614), ('vincent', 5615), ('haircute', 5616), ('fob', 5617), ('telegram', 5618), ('mailman', 5619), ('clerk', 5620), ('willingness', 5621), ('noone', 5622), ('intensify', 5623), ('laughing', 5624), ('mona', 5625), ('wholeness', 5626), ('ceo', 5627), ('rekindle', 5628), ('tumble', 5629), ('memoir', 5630), ('qualify', 5631), ('ration', 5632), ('antisocial', 5633), ('cooperation', 5634), ('harmony', 5635), ('glossy', 5636), ('bra', 5637), ('remote', 5638), ('alt', 5639), ('emoticon', 5640), ('wonderfull', 5641), ('jazz', 5642), ('sassy', 5643), ('hearted', 5644), ('therapeutic', 5645), ('protective', 5646), ('rewarding', 5647), ('seventy', 5648), ('laden', 5649), ('continued', 5650), ('oatmeal', 5651), ('bellmont', 5652), ('cabinet', 5653), ('analogy', 5654), ('sandy', 5655), ('rotate', 5656), ('benny', 5657), ('celtic', 5658), ('anonymous', 5659), ('patriotism', 5660), ('rite', 5661), ('vivid', 5662), ('holler', 5663), ('falsely', 5664), ('vista', 5665), ('hail', 5666), ('ember', 5667), ('flake', 5668), ('variety', 5669), ('treasury', 5670), ('impostor', 5671), ('aimlessly', 5672), ('infuriated', 5673), ('parliament', 5674), ('jose', 5675), ('promptly', 5676), ('bout', 5677), ('turning', 5678), ('cliff', 5679), ('chorus', 5680), ('dope', 5681), ('slough', 5682), ('aryiku', 5683), ('boisterous', 5684), ('gloria', 5685), ('stub', 5686), ('donor', 5687), ('arise', 5688), ('alexandra', 5689), ('janet', 5690), ('eleanor', 5691), ('granny', 5692), ('throb', 5693), ('retaliation', 5694), ('drinkin', 5695), ('whiskey', 5696), ('calendar', 5697), ('bert', 5698), ('rpg', 5699), ('zimbabwe', 5700), ('pitiful', 5701), ('rave', 5702), ('mascara', 5703), ('regime', 5704), ('forwards', 5705), ('dub', 5706), ('mighty', 5707), ('standby', 5708), ('yanto', 5709), ('whirl', 5710), ('undergo', 5711), ('approval', 5712), ('overweight', 5713), ('exclude', 5714), ('soapbox', 5715), ('paralysed', 5716), ('publicly', 5717), ('trimming', 5718), ('enamour', 5719), ('desolation', 5720), ('internalize', 5721), ('fondly', 5722), ('mary', 5723), ('wu', 5724), ('undertake', 5725), ('ruthless', 5726), ('overreact', 5727), ('cherry', 5728), ('rattle', 5729), ('governme', 5730), ('psalm', 5731), ('bureaucrat', 5732), ('revel', 5733), ('tyler', 5734), ('throbbing', 5735), ('unwarranted', 5736), ('trying', 5737), ('leo', 5738), ('ww', 5739), ('gratefulness', 5740), ('immune', 5741), ('mothering', 5742), ('greek', 5743), ('softball', 5744), ('spew', 5745), ('ltr', 5746), ('atom', 5747), ('ovation', 5748), ('lengthy', 5749), ('effortlessly', 5750), ('punjabi', 5751), ('masala', 5752), ('righteousness', 5753), ('medal', 5754), ('fig', 5755), ('restlessly', 5756), ('lookout', 5757), ('pr', 5758), ('mo', 5759), ('incase', 5760), ('reciprocate', 5761), ('revival', 5762), ('brazilian', 5763), ('certainty', 5764), ('sod', 5765), ('gasp', 5766), ('marginalised', 5767), ('disbelieve', 5768), ('grim', 5769), ('tshirt', 5770), ('deadpan', 5771), ('shone', 5772), ('pendant', 5773), ('witch', 5774), ('lawson', 5775), ('rupture', 5776), ('unwillingly', 5777), ('tread', 5778), ('newly', 5779), ('yea', 5780), ('dryer', 5781), ('typing', 5782), ('slit', 5783), ('regurgitate', 5784), ('clown', 5785), ('fetch', 5786), ('variation', 5787), ('institution', 5788), ('blu', 5789), ('bent', 5790), ('perceptive', 5791), ('spoiler', 5792), ('exceptional', 5793), ('adequately', 5794), ('installment', 5795), ('boundless', 5796), ('sprint', 5797), ('contaminate', 5798), ('reall', 5799), ('classical', 5800), ('unexpectedly', 5801), ('appealing', 5802), ('embarasse', 5803), ('paste', 5804), ('appease', 5805), ('eagle', 5806), ('hedge', 5807), ('hyena', 5808), ('needless', 5809), ('superman', 5810), ('delve', 5811), ('humour', 5812), ('unlikely', 5813), ('nay', 5814), ('mandate', 5815), ('vaccine', 5816), ('interrupted', 5817), ('earnest', 5818), ('roberts', 5819), ('batter', 5820), ('twat', 5821), ('criticize', 5822), ('sensibility', 5823), ('unemployed', 5824), ('homely', 5825), ('undo', 5826), ('moo', 5827), ('drift', 5828), ('peek', 5829), ('govern', 5830), ('thunder', 5831), ('allah', 5832), ('frightening', 5833), ('retail', 5834), ('fashionable', 5835), ('trusty', 5836), ('runny', 5837), ('spouse', 5838), ('correctly', 5839), ('senator', 5840), ('hen', 5841), ('obligate', 5842), ('dejecte', 5843), ('swimsuit', 5844), ('explorer', 5845), ('joan', 5846), ('fragile', 5847), ('pimple', 5848), ('acquaintance', 5849), ('thru', 5850), ('scold', 5851), ('amy', 5852), ('distinction', 5853), ('toenail', 5854), ('pleasing', 5855), ('wll', 5856), ('supported', 5857), ('hannah', 5858), ('johnny', 5859), ('famil', 5860), ('abstract', 5861), ('tragedy', 5862), ('storytelling', 5863), ('br', 5864), ('dh', 5865), ('outbreak', 5866), ('sandpiper', 5867), ('revert', 5868), ('fullness', 5869), ('footing', 5870), ('garment', 5871), ('mu', 5872), ('che', 5873), ('shaming', 5874), ('segment', 5875), ('winston', 5876), ('churchill', 5877), ('bu', 5878), ('wonderland', 5879), ('certify', 5880), ('presumably', 5881), ('exclaim', 5882), ('gina', 5883), ('practise', 5884), ('apologetic', 5885), ('advertise', 5886), ('lifeline', 5887), ('adulthood', 5888), ('technorati', 5889), ('cared', 5890), ('deteriorate', 5891), ('macsharry', 5892), ('interference', 5893), ('tax', 5894), ('realm', 5895), ('compulsion', 5896), ('mourn', 5897), ('misty', 5898), ('negate', 5899), ('dee', 5900), ('triangle', 5901), ('exaggerate', 5902), ('energised', 5903), ('lego', 5904), ('tu', 5905), ('setback', 5906), ('thailand', 5907), ('willy', 5908), ('wilkinson', 5909), ('rope', 5910), ('prosperous', 5911), ('wifi', 5912), ('oliver', 5913), ('undergraduate', 5914), ('spectator', 5915), ('principle', 5916), ('vehicle', 5917), ('erupt', 5918), ('spotless', 5919), ('dangle', 5920), ('hurl', 5921), ('contentment', 5922), ('outright', 5923), ('tapestry', 5924), ('subdue', 5925), ('kate', 5926), ('myriad', 5927), ('reluctantly', 5928), ('lure', 5929), ('applause', 5930), ('fame', 5931), ('moreso', 5932), ('uncaring', 5933), ('mega', 5934), ('comprehensive', 5935), ('lauren', 5936), ('roger', 5937), ('gig', 5938), ('fic', 5939), ('innate', 5940), ('duality', 5941), ('flap', 5942), ('autistic', 5943), ('baffle', 5944), ('missy', 5945), ('engineering', 5946), ('psychology', 5947), ('imprint', 5948), ('vibrate', 5949), ('trillion', 5950), ('elevator', 5951), ('wagon', 5952), ('fortitude', 5953), ('aboard', 5954), ('wishful', 5955), ('tee', 5956), ('jay', 5957), ('sufficiently', 5958), ('intruder', 5959), ('disorientate', 5960), ('hurried', 5961), ('englishman', 5962), ('bobby', 5963), ('deployment', 5964), ('complication', 5965), ('valentine', 5966), ('slighted', 5967), ('tyre', 5968), ('bloom', 5969), ('aretha', 5970), ('feat', 5971), ('spiraling', 5972), ('morris', 5973), ('dental', 5974), ('deliberation', 5975), ('glasgow', 5976), ('nasal', 5977), ('louise', 5978), ('validate', 5979), ('op', 5980), ('brink', 5981), ('adjective', 5982), ('finished', 5983), ('blond', 5984), ('tow', 5985), ('pickup', 5986), ('plummet', 5987), ('resistant', 5988), ('dreading', 5989), ('misbehavior', 5990), ('posting', 5991), ('hugh', 5992), ('wink', 5993), ('cliche', 5994), ('ebony', 5995), ('maze', 5996), ('evolution', 5997), ('refreshed', 5998), ('beautifully', 5999), ('baba', 6000), ('stunt', 6001), ('accessible', 6002), ('wire', 6003), ('iam', 6004), ('brian', 6005), ('coventry', 6006), ('pumpkin', 6007), ('mournfu', 6008), ('reliable', 6009), ('bowel', 6010), ('goth', 6011), ('punk', 6012), ('convict', 6013), ('outsource', 6014), ('valid', 6015), ('subjective', 6016), ('orient', 6017), ('msg', 6018), ('poll', 6019), ('islam', 6020), ('whipping', 6021), ('ally', 6022), ('marvellous', 6023), ('inarticulate', 6024), ('rational', 6025), ('notify', 6026), ('dude', 6027), ('homophobic', 6028), ('indonesia', 6029), ('thoughtful', 6030), ('unpopular', 6031), ('cosmetic', 6032), ('assemble', 6033), ('advise', 6034), ('expansive', 6035), ('beijing', 6036), ('gimmick', 6037), ('figuratively', 6038), ('unresolved', 6039), ('incomplete', 6040), ('halloween', 6041), ('4', 6042), ('playground', 6043), ('baking', 6044), ('healthcare', 6045), ('dialog', 6046), ('suzanne', 6047), ('organizer', 6048), ('asshole', 6049), ('ski', 6050), ('divulge', 6051), ('delusion', 6052), ('rut', 6053), ('unbearably', 6054), ('korea', 6055), ('mope', 6056), ('sensitivity', 6057), ('obese', 6058), ('impulse', 6059), ('onel', 6060), ('eminent', 6061), ('patriotic', 6062), ('historian', 6063), ('cohen', 6064), ('arrangement', 6065), ('entitled', 6066), ('shaun', 6067), ('afield', 6068), ('woodland', 6069), ('straightforward', 6070), ('intellectually', 6071), ('powerlessness', 6072), ('influx', 6073), ('wearily', 6074), ('muas', 6075), ('counseling', 6076), ('referee', 6077), ('mudder', 6078), ('handheld', 6079), ('emergency', 6080), ('occupied', 6081), ('yu', 6082), ('fr', 6083), ('domain', 6084), ('biggie', 6085), ('humanity', 6086), ('mentor', 6087), ('alleviate', 6088), ('nursery', 6089), ('curriculum', 6090), ('pupil', 6091), ('infrastructure', 6092), ('ahaha', 6093), ('sams', 6094), ('ow', 6095), ('midwife', 6096), ('calmly', 6097), ('calmness', 6098), ('dam', 6099), ('patron', 6100), ('stoic', 6101), ('manila', 6102), ('ecstasy', 6103), ('unfurl', 6104), ('smash', 6105), ('singing', 6106), ('gag', 6107), ('flounder', 6108), ('screenwriter', 6109), ('fir', 6110), ('homeowner', 6111), ('portland', 6112), ('ds', 6113), ('rd', 6114), ('preschool', 6115), ('convenient', 6116), ('paige', 6117), ('snapback', 6118), ('crotch', 6119), ('pronto', 6120), ('spritz', 6121), ('huckleberry', 6122), ('sideline', 6123), ('burrow', 6124), ('clo', 6125), ('fumble', 6126), ('coin', 6127), ('talkative', 6128), ('solitary', 6129), ('cognitive', 6130), ('sexuality', 6131), ('sufficient', 6132), ('spur', 6133), ('gaulle', 6134), ('insight', 6135), ('thaw', 6136), ('yank', 6137), ('readjust', 6138), ('deflate', 6139), ('cheerfull', 6140), ('tigger', 6141), ('wanting', 6142), ('talking', 6143), ('emotionless', 6144), ('cart', 6145), ('interpersonal', 6146), ('distribution', 6147), ('hoop', 6148), ('dat', 6149), ('newtown', 6150), ('onetwothree', 6151), ('brad', 6152), ('gaffe', 6153), ('crc', 6154), ('investigati', 6155), ('ec', 6156), ('customary', 6157), ('consultation', 6158), ('classwork', 6159), ('pompous', 6160), ('elusive', 6161), ('fanatic', 6162), ('martinez', 6163), ('harley', 6164), ('busin', 6165), ('becuz', 6166), ('admission', 6167), ('andrew', 6168), ('sophisticated', 6169), ('sinai', 6170), ('sabotage', 6171), ('bc', 6172), ('cloth', 6173), ('bani', 6174), ('asking', 6175), ('teasing', 6176), ('loathing', 6177), ('kin', 6178), ('ranch', 6179), ('bowler', 6180), ('menstrual', 6181), ('democratic', 6182), ('verbally', 6183), ('congestion', 6184), ('descend', 6185), ('similarly', 6186), ('situate', 6187), ('broadly', 6188), ('unwind', 6189), ('buzz', 6190), ('parenthood', 6191), ('kenny', 6192), ('subtly', 6193), ('stinky', 6194), ('schoolboy', 6195), ('pointing', 6196), ('eventual', 6197), ('waft', 6198), ('hrs', 6199), ('incline', 6200), ('tactic', 6201), ('abusive', 6202), ('dressing', 6203), ('swan', 6204), ('yahoo', 6205), ('ironically', 6206), ('banish', 6207), ('flutter', 6208), ('requirement', 6209), ('teeter', 6210), ('insanity', 6211), ('paradise', 6212), ('rejected', 6213), ('february', 6214), ('helplessness', 6215), ('centered', 6216), ('conveniently', 6217), ('sausage', 6218), ('broaden', 6219), ('suburban', 6220), ('muddy', 6221), ('sasha', 6222), ('screenshot', 6223), ('au', 6224), ('ng', 6225), ('slink', 6226), ('neuropathy', 6227), ('residual', 6228), ('farther', 6229), ('unsettling', 6230), ('smiley', 6231), ('freakishly', 6232), ('snowy', 6233), ('ohio', 6234), ('nonplus', 6235), ('boredom', 6236), ('sword', 6237), ('cracker', 6238), ('expectant', 6239), ('bagel', 6240), ('recollection', 6241), ('gossip', 6242), ('enlist', 6243), ('offspring', 6244), ('compound', 6245), ('mystify', 6246), ('military', 6247), ('oxford', 6248), ('harshly', 6249), ('kneel', 6250), ('keegan', 6251), ('coerce', 6252), ('clumsiness', 6253), ('jens', 6254), ('luke', 6255), ('ann', 6256), ('denis', 6257), ('unfairly', 6258), ('gwen', 6259), ('dew', 6260), ('creed', 6261), ('rearrange', 6262), ('untrustworthy', 6263), ('educational', 6264), ('mature', 6265), ('printing', 6266), ('seattle', 6267), ('persuasion', 6268), ('bengal', 6269), ('burner', 6270), ('hidden', 6271), ('aussie', 6272), ('intercourse', 6273), ('uplifting', 6274), ('armor', 6275), ('skillz', 6276), ('compel', 6277), ('falling', 6278), ('fist', 6279), ('shack', 6280), ('hamburger', 6281), ('auction', 6282), ('baker', 6283), ('effective', 6284), ('tempura', 6285), ('pastor', 6286), ('dejectio', 6287), ('shrink', 6288), ('elicit', 6289), ('lightness', 6290), ('sai', 6291), ('additional', 6292), ('witty', 6293), ('canoe', 6294), ('po', 6295), ('slate', 6296), ('elate', 6297), ('seb', 6298), ('constable', 6299), ('jew', 6300), ('encase', 6301), ('sincerity', 6302), ('facilitate', 6303), ('natasha', 6304), ('plusone', 6305), ('downtown', 6306), ('wrestling', 6307), ('physician', 6308), ('inclined', 6309), ('puncture', 6310), ('cautiously', 6311), ('digital', 6312), ('ne', 6313), ('mistress', 6314), ('gender', 6315), ('churn', 6316), ('pearly', 6317), ('ml', 6318), ('mag', 6319), ('organ', 6320), ('pumped', 6321), ('slash', 6322), ('denounce', 6323), ('rapt', 6324), ('outweigh', 6325), ('stationary', 6326), ('virtually', 6327), ('icky', 6328), ('bonding', 6329), ('algebra', 6330), ('funeral', 6331), ('tugging', 6332), ('outcasted', 6333), ('filter', 6334), ('starring', 6335), ('vanish', 6336), ('outta', 6337), ('slaughter', 6338), ('socket', 6339), ('jungle', 6340), ('snail', 6341), ('addison', 6342), ('pulsar', 6343), ('jenny', 6344), ('hammer', 6345), ('austen', 6346), ('austin', 6347), ('heavier', 6348), ('popeye', 6349), ('midwest', 6350), ('considerably', 6351), ('scarf', 6352), ('stupor', 6353), ('prestigious', 6354), ('nuance', 6355), ('chart', 6356), ('republicans', 6357), ('ladder', 6358), ('rumble', 6359), ('irrelevant', 6360), ('ross', 6361), ('cdn', 6362), ('cooper', 6363), ('tenure', 6364), ('limited', 6365), ('positivity', 6366), ('ibs', 6367), ('considering', 6368), ('sever', 6369), ('patty', 6370), ('sesame', 6371), ('bun', 6372), ('pacific', 6373), ('reunite', 6374), ('premature', 6375), ('iris', 6376), ('molest', 6377), ('unprepared', 6378), ('sheepish', 6379), ('cryin', 6380), ('cus', 6381), ('diabetes', 6382), ('civilian', 6383), ('liberate', 6384), ('reserve', 6385), ('inject', 6386), ('disconnected', 6387), ('reckless', 6388), ('clamour', 6389), ('inexplicably', 6390), ('barbara', 6391), ('plod', 6392), ('harness', 6393), ('ping', 6394), ('feeble', 6395), ('postgraduate', 6396), ('spoiled', 6397), ('brazil', 6398), ('css', 6399), ('rte', 6400), ('emoticons', 6401), ('drowsy', 6402), ('narcissism', 6403), ('vunerable', 6404), ('explosion', 6405), ('worn', 6406), ('awed', 6407), ('sour', 6408), ('homeless', 6409), ('defiance', 6410), ('soda', 6411), ('violently', 6412), ('rod', 6413), ('etape', 6414), ('idle', 6415), ('cardio', 6416), ('bulk', 6417), ('liberty', 6418), ('pelvi', 6419), ('oop', 6420), ('accurate', 6421), ('evaporate', 6422), ('indenture', 6423), ('shortcoming', 6424), ('helplessly', 6425), ('philadelphia', 6426), ('dammit', 6427), ('priceless', 6428), ('camping', 6429), ('recruiter', 6430), ('delete', 6431), ('romeo', 6432), ('hesitation', 6433), ('ceremony', 6434), ('proce', 6435), ('premonition', 6436), ('locate', 6437), ('pakistan', 6438), ('bereft', 6439), ('mon', 6440), ('widespread', 6441), ('wh', 6442), ('curb', 6443), ('morsel', 6444), ('appetite', 6445), ('mural', 6446), ('angst', 6447), ('rosa', 6448), ('corinthians', 6449), ('communion', 6450), ('sublime', 6451), ('crease', 6452), ('smarter', 6453), ('hump', 6454), ('entertained', 6455), ('enhance', 6456), ('firefly', 6457), ('courthouse', 6458), ('jeff', 6459), ('delightful', 6460), ('vine', 6461), ('intake', 6462), ('prominent', 6463), ('housebound', 6464), ('peckish', 6465), ('preposterous', 6466), ('steak', 6467), ('ni', 6468), ('journaling', 6469), ('ahem', 6470), ('tissue', 6471), ('swarm', 6472), ('robinson', 6473), ('gravity', 6474), ('byron', 6475), ('lonel', 6476), ('taiwan', 6477), ('crossroad', 6478), ('procedure', 6479), ('baggage', 6480), ('futile', 6481), ('scenery', 6482), ('bookstore', 6483), ('fragment', 6484), ('blurt', 6485), ('align', 6486), ('rightfully', 6487), ('glitter', 6488), ('waking', 6489), ('wisconsin', 6490), ('precisely', 6491), ('unza', 6492), ('provocation', 6493), ('halt', 6494), ('passeng', 6495), ('solidarity', 6496), ('iraq', 6497), ('rocket', 6498), ('melancholic', 6499), ('deli', 6500), ('fondle', 6501), ('chronicle', 6502), ('celebrated', 6503), ('leanne', 6504), ('falter', 6505), ('leslie', 6506), ('tastic', 6507), ('hamper', 6508), ('timetable', 6509), ('yer', 6510), ('enormously', 6511), ('margaret', 6512), ('meanness', 6513), ('stoner', 6514), ('gna', 6515), ('formal', 6516), ('disgruntle', 6517), ('mumbai', 6518), ('amusing', 6519), ('onlooker', 6520), ('children', 6521), ('nourish', 6522), ('chai', 6523), ('rubber', 6524), ('dong', 6525), ('illustration', 6526), ('whimsical', 6527), ('cassandra', 6528), ('marketplace', 6529), ('pajama', 6530), ('cara', 6531), ('infrequent', 6532), ('vary', 6533), ('sufferer', 6534), ('warrior', 6535), ('revolve', 6536), ('comp', 6537), ('fetched', 6538), ('commodity', 6539), ('abou', 6540), ('ect', 6541), ('inspection', 6542), ('kentucky', 6543), ('stevens', 6544), ('sub', 6545), ('sticky', 6546), ('dehydrate', 6547), ('breach', 6548), ('deer', 6549), ('enthusiast', 6550), ('crow', 6551), ('rumour', 6552), ('uh', 6553), ('psyche', 6554), ('drastically', 6555), ('swirl', 6556), ('irma', 6557), ('emanate', 6558), ('gentleman', 6559), ('abyss', 6560), ('rollercoaster', 6561), ('vibrant', 6562), ('weaving', 6563), ('cramping', 6564), ('abdoman', 6565), ('unfeeling', 6566), ('offence', 6567), ('grapple', 6568), ('15', 6569), ('deepika', 6570), ('delegate', 6571), ('howl', 6572), ('preach', 6573), ('optimism', 6574), ('refusal', 6575), ('pitcher', 6576), ('jeanpaul', 6577), ('cairns', 6578), ('trendy', 6579), ('clingy', 6580), ('britney', 6581), ('flicker', 6582), ('screening', 6583), ('fulfilling', 6584), ('oily', 6585), ('flu', 6586), ('seep', 6587), ('eviction', 6588), ('plateau', 6589), ('misplace', 6590), ('drake', 6591), ('bal', 6592), ('tab', 6593), ('cease', 6594), ('homemaker', 6595), ('thrive', 6596), ('payday', 6597), ('loan', 6598), ('monthly', 6599), ('alight', 6600), ('stagger', 6601), ('validity', 6602), ('juicy', 6603), ('utah', 6604), ('frau', 6605), ('nordern', 6606), ('unduly', 6607), ('battery', 6608), ('handmade', 6609), ('mosquito', 6610), ('intrigue', 6611), ('weirdo', 6612), ('obligated', 6613), ('decidedly', 6614), ('stroller', 6615), ('observation', 6616), ('emphasize', 6617), ('cantor', 6618), ('sceptical', 6619), ('reprieve', 6620), ('fuss', 6621), ('disturbing', 6622), ('prawn', 6623), ('alter', 6624), ('flattered', 6625), ('throne', 6626), ('nominee', 6627), ('sans', 6628), ('speaking', 6629), ('albino', 6630), ('baltimore', 6631), ('sinking', 6632), ('refocus', 6633), ('urgent', 6634), ('prevail', 6635), ('ela', 6636), ('summary', 6637), ('informal', 6638), ('thug', 6639), ('weren', 6640), ('arabs', 6641), ('soldier', 6642), ('xxx', 6643), ('nominate', 6644), ('nip', 6645), ('cinema', 6646), ('ti', 6647), ('se', 6648), ('tingly', 6649), ('gods', 6650), ('squint', 6651), ('graphic', 6652), ('foreigner', 6653), ('admittedly', 6654), ('cornbread', 6655), ('contradict', 6656), ('dominican', 6657), ('barry', 6658), ('stumbleupon', 6659), ('ther', 6660), ('demonstration', 6661), ('ambulance', 6662), ('hs', 6663), ('subaru', 6664), ('guilte', 6665), ('usher', 6666), ('reilly', 6667), ('minuscule', 6668), ('resemble', 6669), ('sweden', 6670), ('lineker', 6671), ('supervisor', 6672), ('checklist', 6673), ('pimp', 6674), ('raini', 6675), ('rocky', 6676), ('pipe', 6677), ('extrovert', 6678), ('electrical', 6679), ('insider', 6680), ('redeem', 6681), ('ditch', 6682), ('fiber', 6683), ('stubbornly', 6684), ('affiliate', 6685), ('idealistic', 6686), ('futur', 6687), ('carter', 6688), ('sweeney', 6689), ('assess', 6690), ('acting', 6691), ('harrassment', 6692), ('savory', 6693), ('ban', 6694), ('actuality', 6695), ('lest', 6696), ('hawk', 6697), ('affected', 6698), ('identical', 6699), ('dangerously', 6700), ('boston', 6701), ('underpaid', 6702), ('underwhelmed', 6703), ('discard', 6704), ('slumber', 6705), ('chalk', 6706), ('bearable', 6707), ('nerd', 6708), ('spain', 6709), ('ingrate', 6710), ('coma', 6711), ('painless', 6712), ('arnold', 6713), ('trumpet', 6714), ('sandal', 6715), ('unloveable', 6716), ('louis', 6717), ('xvi', 6718), ('caretaker', 6719), ('seafood', 6720), ('lemonade', 6721), ('pinpoint', 6722), ('zen', 6723), ('shark', 6724), ('fin', 6725), ('unpaid', 6726), ('shoulde', 6727), ('pistol', 6728), ('congregation', 6729), ('dentist', 6730), ('assist', 6731), ('jubilation', 6732), ('mammal', 6733), ('palette', 6734), ('insomnia', 6735), ('hoax', 6736), ('clog', 6737), ('almond', 6738), ('germans', 6739), ('blackpool', 6740), ('protagonist', 6741), ('suitcase', 6742), ('crossing', 6743), ('scr', 6744), ('asians', 6745), ('outcast', 6746), ('tempting', 6747), ('marginalize', 6748), ('accumulate', 6749), ('validation', 6750), ('organized', 6751), ('thoughtless', 6752), ('globe', 6753), ('rattl', 6754), ('rawr', 6755), ('impend', 6756), ('brd', 6757), ('decrease', 6758), ('walter', 6759), ('superstition', 6760), ('patch', 6761), ('authoritative', 6762), ('tzann', 6763), ('parking', 6764), ('mathematic', 6765), ('copper', 6766), ('sentiment', 6767), ('soulmate', 6768), ('acquaint', 6769), ('pineapple', 6770), ('chop', 6771), ('coconut', 6772), ('edochie', 6773), ('milan', 6774), ('cardinal', 6775), ('poo', 6776), ('roman', 6777), ('grill', 6778), ('decorative', 6779), ('southern', 6780), ('negotiation', 6781), ('medically', 6782), ('gloss', 6783), ('clinical', 6784), ('nao', 6785), ('entrust', 6786), ('christine', 6787), ('dropping', 6788), ('rewrote', 6789), ('terrorist', 6790), ('mound', 6791), ('egyptian', 6792), ('instinctively', 6793), ('timer', 6794), ('nearness', 6795), ('grandpa', 6796), ('overtly', 6797), ('incessant', 6798), ('coloured', 6799), ('sack', 6800), ('ebay', 6801), ('nathan', 6802), ('eternity', 6803), ('ice', 6804), ('lunge', 6805), ('womanhood', 6806), ('redundant', 6807), ('jail', 6808), ('butcher', 6809), ('progressively', 6810), ('weewee', 6811), ('compile', 6812), ('snippet', 6813), ('newcomer', 6814), ('musing', 6815), ('spoken', 6816), ('greg', 6817), ('babysit', 6818), ('mojo', 6819), ('excessive', 6820), ('grader', 6821), ('relentless', 6822), ('peppermint', 6823), ('exposure', 6824), ('happier', 6825), ('guild', 6826), ('admired', 6827), ('predictably', 6828), ('universal', 6829), ('batman', 6830), ('shameless', 6831), ('claret', 6832), ('jug', 6833), ('primitive', 6834), ('scum', 6835), ('erm', 6836), ('gunong', 6837), ('ledang', 6838), ('commandment', 6839), ('nerdy', 6840), ('ole', 6841), ('adoman', 6842), ('yelling', 6843), ('contagious', 6844), ('defense', 6845), ('whirlwind', 6846), ('discipline', 6847), ('mythology', 6848), ('origin', 6849), ('holly', 6850), ('subsequent', 6851), ('testicle', 6852), ('wainwright', 6853), ('tan', 6854), ('manchester', 6855), ('leak', 6856), ('logical', 6857), ('overhear', 6858), ('sooooo', 6859), ('cambodia', 6860), ('hazy', 6861), ('mormon', 6862), ('alcoholic', 6863), ('nun', 6864), ('whereby', 6865), ('alert', 6866), ('rooster', 6867), ('unfulfilled', 6868), ('credential', 6869), ('unwell', 6870), ('turkish', 6871), ('morbid', 6872), ('vicarious', 6873), ('fictional', 6874), ('dreary', 6875), ('constitution', 6876), ('istanbul', 6877), ('unnaturally', 6878), ('ingrid', 6879), ('doodle', 6880), ('pavilion', 6881), ('doorstep', 6882), ('backwards', 6883), ('gloat', 6884), ('spotlight', 6885), ('hopper', 6886), ('refrigerator', 6887), ('battering', 6888), ('regimented', 6889), ('phenomenon', 6890), ('versus', 6891), ('leisurely', 6892), ('tilt', 6893), ('ukrainian', 6894), ('undesired', 6895), ('arcade', 6896), ('recite', 6897), ('mankind', 6898), ('external', 6899), ('fran', 6900), ('dublin', 6901), ('creme', 6902), ('dent', 6903), ('trite', 6904), ('trans', 6905), ('crossfit', 6906), ('heavens', 6907), ('thesis', 6908), ('lightning', 6909), ('unintelligent', 6910), ('oftentime', 6911), ('victoria', 6912), ('granddaughter', 6913), ('denise', 6914), ('amish', 6915), ('shore', 6916), ('sharply', 6917), ('disguise', 6918), ('spout', 6919), ('ism', 6920), ('pronounce', 6921), ('royally', 6922), ('dennis', 6923), ('seagull', 6924), ('trut', 6925), ('cdm', 6926), ('flac', 6927), ('custode', 6928), ('mau', 6929), ('vinegar', 6930), ('tmr', 6931), ('northern', 6932), ('busting', 6933), ('jon', 6934), ('sulfate', 6935), ('profess', 6936), ('feng', 6937), ('loki', 6938), ('savour', 6939), ('stinging', 6940), ('individually', 6941), ('proof', 6942), ('graham', 6943), ('bouncer', 6944), ('timely', 6945), ('woody', 6946), ('sculpt', 6947), ('siwon', 6948), ('katniss', 6949), ('rebuild', 6950), ('substitute', 6951), ('spoon', 6952), ('outdoor', 6953), ('toby', 6954), ('slalom', 6955), ('resolved', 6956), ('prophet', 6957), ('enclose', 6958), ('loon', 6959), ('eyesight', 6960), ('leaf', 6961), ('tremendous', 6962), ('occupational', 6963), ('urban', 6964), ('mm', 6965), ('makin', 6966), ('outburst', 6967), ('galaxy', 6968), ('wingtip', 6969), ('proposal', 6970), ('incorrect', 6971), ('rugby', 6972), ('broom', 6973), ('cleansing', 6974), ('beirut', 6975), ('manifest', 6976), ('predominantly', 6977), ('caregiver', 6978), ('cultural', 6979), ('parliamentary', 6980), ('pessimistic', 6981), ('netherlands', 6982), ('ye', 6983), ('constitutional', 6984), ('sharpe', 6985), ('quiver', 6986), ('eternally', 6987), ('floo', 6988), ('stanley', 6989), ('atheist', 6990), ('dc', 6991), ('inflict', 6992), ('massu', 6993), ('permit', 6994), ('fur', 6995), ('haptic', 6996), ('unwilling', 6997), ('consciousness', 6998), ('federal', 6999), ('renew', 7000), ('ashley', 7001), ('bucket', 7002), ('gluten', 7003), ('pearl', 7004), ('predatory', 7005), ('utmost', 7006), ('constipated', 7007), ('commission', 7008), ('tidying', 7009), ('allocate', 7010), ('thompson', 7011), ('eternal', 7012), ('lad', 7013), ('chronically', 7014), ('endurance', 7015), ('glycerin', 7016), ('caleb', 7017), ('caption', 7018), ('ritual', 7019), ('alignment', 7020), ('psych', 7021), ('noe', 7022), ('dirt', 7023), ('imperfect', 7024), ('posto', 7025), ('cynicism', 7026), ('rmb', 7027), ('wireless', 7028), ('tracy', 7029), ('storage', 7030), ('related', 7031), ('gm', 7032), ('barman', 7033), ('flavour', 7034), ('untouched', 7035), ('colon', 7036), ('advertisement', 7037), ('noah', 7038), ('tram', 7039), ('chanel', 7040), ('masterpiece', 7041), ('performer', 7042), ('moonlight', 7043), ('heighten', 7044), ('joyous', 7045), ('indenbaum', 7046), ('miscarriage', 7047), ('ag', 7048), ('veer', 7049), ('carnage', 7050), ('surrender', 7051), ('rupee', 7052), ('righteous', 7053), ('tranny', 7054), ('amvassago', 7055), ('bench', 7056), ('boutique', 7057), ('nagging', 7058), ('mishap', 7059), ('tess', 7060), ('port', 7061), ('tero', 7062), ('flourish', 7063), ('marius', 7064), ('ship', 7065), ('wooden', 7066), ('elevated', 7067), ('shiraishi', 7068), ('following', 7069), ('dutch', 7070), ('helen', 7071), ('wip', 7072), ('eliminate', 7073), ('wushu', 7074), ('liquid', 7075), ('flatten', 7076), ('ballroom', 7077), ('pip', 7078), ('menswear', 7079), ('lethal', 7080), ('toon', 7081), ('ip', 7082), ('schs', 7083), ('outlook', 7084), ('emm', 7085), ('nerv', 7086), ('underbelly', 7087), ('subway', 7088), ('meltdown', 7089), ('sinc', 7090), ('masculinity', 7091), ('edmontonian', 7092), ('kicking', 7093), ('diagonal', 7094), ('kendo', 7095), ('autism', 7096), ('fiesty', 7097), ('valorize', 7098), ('entirety', 7099), ('bm', 7100), ('bondmusing', 7101), ('horrifying', 7102), ('tltg', 7103), ('dittmar', 7104), ('saddened', 7105), ('monarchs', 7106), ('ineffectual', 7107), ('smith', 7108), ('freshen', 7109), ('mungo', 7110), ('hypersexual', 7111), ('tartlet', 7112), ('rihanna', 7113), ('debut', 7114), ('horizon', 7115), ('pilfer', 7116), ('banker', 7117), ('undutiful', 7118), ('taker', 7119), ('fry', 7120), ('bedford', 7121), ('stoup', 7122), ('straightforwardness', 7123), ('multiband', 7124), ('theu', 7125), ('lilongwe', 7126), ('assistat', 7127), ('calvaryccv', 7128), ('bouquet', 7129), ('resonance', 7130), ('cx', 7131), ('adams', 7132), ('flusher', 7133), ('conspire', 7134), ('bbm', 7135), ('roethisberger', 7136), ('steeler', 7137), ('spelt', 7138), ('autonomy', 7139), ('koyama', 7140), ('priestess', 7141), ('ven', 7142), ('talia', 7143), ('swaddled', 7144), ('confusing', 7145), ('beast', 7146), ('anesthetized', 7147), ('digress', 7148), ('robot', 7149), ('alteration', 7150), ('anymmore', 7151), ('ignre', 7152), ('hertha', 7153), ('schindler', 7154), ('wally', 7155), ('lamb', 7156), ('gp', 7157), ('hipster', 7158), ('medicate', 7159), ('disclosure', 7160), ('flighty', 7161), ('peta', 7162), ('brig', 7163), ('whalentee', 7164), ('recharge', 7165), ('concurrently', 7166), ('trajectory', 7167), ('legtimately', 7168), ('stringent', 7169), ('mandela', 7170), ('tumultuous', 7171), ('tickertape', 7172), ('anxio', 7173), ('gallivant', 7174), ('scotty', 7175), ('macey', 7176), ('cyclinder', 7177), ('proford', 7178), ('tes', 7179), ('mop', 7180), ('atop', 7181), ('stimulating', 7182), ('flo', 7183), ('allergen', 7184), ('restriction', 7185), ('oomph', 7186), ('omit', 7187), ('nyps', 7188), ('shoc', 7189), ('resilient', 7190), ('yori', 7191), ('aoshi', 7192), ('irk', 7193), ('foist', 7194), ('lurker', 7195), ('audre', 7196), ('lorde', 7197), ('beaten', 7198), ('doorway', 7199), ('pyongyang', 7200), ('marilla', 7201), ('coordinate', 7202), ('tibris', 7203), ('shafted', 7204), ('mingle', 7205), ('intermittent', 7206), ('lacklustre', 7207), ('camper', 7208), ('painridden', 7209), ('impetuous', 7210), ('errand', 7211), ('cora', 7212), ('sleeper', 7213), ('rrreeaallyy', 7214), ('latin', 7215), ('prefecture', 7216), ('pol', 7217), ('bemusement', 7218), ('int', 7219), ('knowlege', 7220), ('carte', 7221), ('rue', 7222), ('humiliation', 7223), ('ulta', 7224), ('tedious', 7225), ('solitude', 7226), ('wuthere', 7227), ('tetchy', 7228), ('incl', 7229), ('tribe', 7230), ('hal', 7231), ('sinestro', 7232), ('antics', 7233), ('barcial', 7234), ('wary', 7235), ('thrifty', 7236), ('dagger', 7237), ('eper', 7238), ('unconditionally', 7239), ('kidding', 7240), ('bloated', 7241), ('awkwardly', 7242), ('shotgun', 7243), ('lovesong', 7244), ('audio', 7245), ('brackenbury', 7246), ('hasty', 7247), ('outr', 7248), ('liveagainsttheflow', 7249), ('gooooood', 7250), ('watching', 7251), ('ashton', 7252), ('nigga', 7253), ('columbia', 7254), ('waterskiiing', 7255), ('tyr', 7256), ('dovetail', 7257), ('misinterpret', 7258), ('sunderland', 7259), ('crosby', 7260), ('improvising', 7261), ('amidst', 7262), ('semiinebriated', 7263), ('gar', 7264), ('begleiter', 7265), ('biddy', 7266), ('points', 7267), ('wondrous', 7268), ('inadaquate', 7269), ('fareha', 7270), ('shortish', 7271), ('linda', 7272), ('rapport', 7273), ('optimist', 7274), ('aj', 7275), ('superbike', 7276), ('cbs', 7277), ('sportsline', 7278), ('fro', 7279), ('wap', 7280), ('folder', 7281), ('lemony', 7282), ('buttermilk', 7283), ('greatbritain', 7284), ('seduce', 7285), ('con', 7286), ('connive', 7287), ('prickly', 7288), ('whisker', 7289), ('repulse', 7290), ('yoshida', 7291), ('illegal', 7292), ('prosecute', 7293), ('nauseated', 7294), ('intrusive', 7295), ('landlubber', 7296), ('melty', 7297), ('maine', 7298), ('gaga', 7299), ('tennyson', 7300), ('shakespeare', 7301), ('moated', 7302), ('grang', 7303), ('usmleasy', 7304), ('arrogance', 7305), ('heritage', 7306), ('chairba', 7307), ('destruction', 7308), ('lo', 7309), ('ari', 7310), ('menashe', 7311), ('mousavi', 7312), ('manuchehr', 7313), ('ghorbani', 7314), ('concidence', 7315), ('aloft', 7316), ('partake', 7317), ('longlaste', 7318), ('moisturiser', 7319), ('getty', 7320), ('renowned', 7321), ('photographic', 7322), ('specialness', 7323), ('sybil', 7324), ('natura', 7325), ('academy', 7326), ('limelight', 7327), ('societys', 7328), ('enquire', 7329), ('col', 7330), ('humbug', 7331), ('crown', 7332), ('specification', 7333), ('maintenance', 7334), ('ini', 7335), ('anipike', 7336), ('worthlessness', 7337), ('scroll', 7338), ('allegation', 7339), ('untalente', 7340), ('crone', 7341), ('porch', 7342), ('bathe', 7343), ('9th', 7344), ('curler', 7345), ('libertine', 7346), ('pamper', 7347), ('passengere', 7348), ('ovary', 7349), ('nothingness', 7350), ('repulsion', 7351), ('lonley', 7352), ('jz', 7353), ('imperialism', 7354), ('200000', 7355), ('carnivalstyle', 7356), ('tro', 7357), ('unmitigate', 7358), ('colorado', 7359), ('dismantle', 7360), ('perpetrator', 7361), ('excluded', 7362), ('summarily', 7363), ('dylan', 7364), ('loiter', 7365), ('effeminacy', 7366), ('bugger', 7367), ('parkhurst', 7368), ('sven', 7369), ('hjerson', 7370), ('hairdryer', 7371), ('papermakeupstamp', 7372), ('repressive', 7373), ('partaking', 7374), ('revelry', 7375), ('pun', 7376), ('continental', 7377), ('asbestos', 7378), ('seo', 7379), ('raffaella', 7380), ('untidiness', 7381), ('hoarder', 7382), ('adequate', 7383), ('mee', 7384), ('emotionaly', 7385), ('kilometre', 7386), ('tody', 7387), ('silverygreen', 7388), ('amazon', 7389), ('barne', 7390), ('noble', 7391), ('charging', 7392), ('inscribe', 7393), ('fred', 7394), ('gladys', 7395), ('looter', 7396), ('consumerism', 7397), ('revere', 7398), ('kilo', 7399), ('californians', 7400), ('burnout', 7401), ('landlord', 7402), ('phobia', 7403), ('hank', 7404), ('ampatuan', 7405), ('odor', 7406), ('detoxified', 7407), ('iws', 7408), ('merson', 7409), ('motherland', 7410), ('restrain', 7411), ('undertaking', 7412), ('obbie', 7413), ('tazi', 7414), ('handing', 7415), ('terrorstrick', 7416), ('barbeque', 7417), ('resting', 7418), ('reflective', 7419), ('heyy', 7420), ('prediction', 7421), ('benedictine', 7422), ('monastic', 7423), ('unacceptable', 7424), ('bourbon', 7425), ('needin', 7426), ('categorie', 7427), ('constraint', 7428), ('brighter', 7429), ('rewind', 7430), ('dvred', 7431), ('preview', 7432), ('hun', 7433), ('moonbeam', 7434), ('dreamily', 7435), ('gabriel', 7436), ('et', 7437), ('cetera', 7438), ('taut', 7439), ('chew', 7440), ('vindictive', 7441), ('jeoffrey', 7442), ('eyo', 7443), ('strawberry', 7444), ('intoxication', 7445), ('biostatistic', 7446), ('physiology', 7447), ('fieldtrip', 7448), ('faldo', 7449), ('discombobulate', 7450), ('odkh', 7451), ('saunter', 7452), ('timor', 7453), ('compass', 7454), ('awry', 7455), ('melbour', 7456), ('stinking', 7457), ('landing', 7458), ('homepage', 7459), ('keyword', 7460), ('predicament', 7461), ('bel', 7462), ('osthryth', 7463), ('ecgfrith', 7464), ('bestow', 7465), ('archbishop', 7466), ('theodore', 7467), ('nervo', 7468), ('annotation', 7469), ('thequeenbuzz', 7470), ('clairee', 7471), ('disruption', 7472), ('jogless', 7473), ('oogle', 7474), ('correspondingly', 7475), ('temperatur', 7476), ('lacey', 7477), ('disapprovement', 7478), ('rikkis', 7479), ('shooting', 7480), ('fodder', 7481), ('doha', 7482), ('accustom', 7483), ('flirtiness', 7484), ('peeta', 7485), ('katnisss', 7486), ('gillard', 7487), ('jonese', 7488), ('blogspot', 7489), ('bodys', 7490), ('aging', 7491), ('nipigon', 7492), ('sledding', 7493), ('opinionated', 7494), ('tate', 7495), ('stitching', 7496), ('inconsiderate', 7497), ('soooooooo', 7498), ('janne', 7499), ('suominen', 7500), ('brewer', 7501), ('hawkshead', 7502), ('lh', 7503), ('orthodox', 7504), ('andrus', 7505), ('marsilid', 7506), ('rfttttttttttsjiowefmklldkavsvdsbtwrsbdvfocxfibjxrklrgrmvaeridubneosdvfrwfd', 7507), ('stressing', 7508), ('therapi', 7509), ('luxe', 7510), ('urgh', 7511), ('tria', 7512), ('possesive', 7513), ('clare', 7514), ('tallinn', 7515), ('sachaye', 7516), ('studies', 7517), ('haunting', 7518), ('dogs', 7519), ('movies', 7520), ('thrillers', 7521), ('mysteries', 7522), ('hostage', 7523), ('negotiator', 7524), ('biochem', 7525), ('hawaii', 7526), ('ssr', 7527), ('tsa', 7528), ('dominate', 7529), ('wounding', 7530), ('unnamed', 7531), ('criticise', 7532), ('industrial', 7533), ('dereliction', 7534), ('peopl', 7535), ('grittily', 7536), ('posture', 7537), ('titan', 7538), ('underf', 7539), ('predator', 7540), ('elevate', 7541), ('maurice', 7542), ('ransom', 7543), ('wesleyan', 7544), ('barefoot', 7545), ('arrest', 7546), ('emboss', 7547), ('feather', 7548), ('got', 7549), ('flakiness', 7550), ('thundershower', 7551), ('ginormous', 7552), ('widget', 7553), ('squash', 7554), ('bartender', 7555), ('sardine', 7556), ('huddle', 7557), ('warmt', 7558), ('prius', 7559), ('gore', 7560), ('patagonia', 7561), ('occassional', 7562), ('viewing', 7563), ('tod', 7564), ('comedian', 7565), ('mechanism', 7566), ('katrinas', 7567), ('inconsequential', 7568), ('ungraciously', 7569), ('stuffing', 7570), ('ahhh', 7571), ('suffuse', 7572), ('circumstan', 7573), ('empowered', 7574), ('decluttere', 7575), ('raucous', 7576), ('crudity', 7577), ('soldie', 7578), ('gop', 7579), ('drinky', 7580), ('lemur', 7581), ('hickory', 7582), ('lenoir', 7583), ('morganton', 7584), ('mor', 7585), ('conditioner', 7586), ('descriptive', 7587), ('skater', 7588), ('textbook', 7589), ('ajahn', 7590), ('brahmavamso', 7591), ('subpar', 7592), ('smelling', 7593), ('drainage', 7594), ('unlock', 7595), ('devoid', 7596), ('genentech', 7597), ('takeover', 7598), ('uniform', 7599), ('glove', 7600), ('coverage', 7601), ('bassanio', 7602), ('woo', 7603), ('portia', 7604), ('wc', 7605), ('dinesh', 7606), ('slipper', 7607), ('feverish', 7608), ('delilahlwl', 7609), ('expereince', 7610), ('obedience', 7611), ('pager', 7612), ('pad', 7613), ('sanctity', 7614), ('inline', 7615), ('confine', 7616), ('walkman', 7617), ('prideful', 7618), ('reverberate', 7619), ('pti', 7620), ('jamiat', 7621), ('raymond', 7622), ('davis', 7623), ('hairstye', 7624), ('horro', 7625), ('trader', 7626), ('legality', 7627), ('tatter', 7628), ('cig', 7629), ('colomn', 7630), ('conservatish', 7631), ('bfs', 7632), ('reactor', 7633), ('thirtyeight', 7634), ('jawline', 7635), ('padre', 7636), ('allowance', 7637), ('rejecte', 7638), ('amphetamine', 7639), ('dork', 7640), ('prescence', 7641), ('fighter', 7642), ('primo', 7643), ('1987', 7644), ('reade', 7645), ('pesach', 7646), ('ethnic', 7647), ('jingly', 7648), ('wicke', 7649), ('fixture', 7650), ('naight', 7651), ('musicianship', 7652), ('internship', 7653), ('commemorate', 7654), ('observant', 7655), ('cheerleader', 7656), ('prupose', 7657), ('controversy', 7658), ('espresse', 7659), ('bollywood', 7660), ('interestingly', 7661), ('florist', 7662), ('georg', 7663), ('intercept', 7664), ('pavem', 7665), ('compartmentalise', 7666), ('windy', 7667), ('motel', 7668), ('disappointing', 7669), ('knelt', 7670), ('skipper', 7671), ('walsh', 7672), ('molineux', 7673), ('nic', 7674), ('lothaire', 7675), ('diatribe', 7676), ('melissa', 7677), ('recess', 7678), ('sat', 7679), ('esque', 7680), ('chriss', 7681), ('beaubronz', 7682), ('tanning', 7683), ('boudoir', 7684), ('asma', 7685), ('docrat', 7686), ('ink', 7687), ('scim', 7688), ('misscariage', 7689), ('progression', 7690), ('pneumonia', 7691), ('sorrowfu', 7692), ('alan', 7693), ('spamme', 7694), ('florence', 7695), ('corys', 7696), ('superdrug', 7697), ('bunche', 7698), ('dianne', 7699), ('realisation', 7700), ('berk', 7701), ('unfollow', 7702), ('matty', 7703), ('cyprus', 7704), ('emphasis', 7705), ('statesman', 7706), ('understoo', 7707), ('endeavour', 7708), ('ripple', 7709), ('luftwaffe', 7710), ('palace', 7711), ('westminster', 7712), ('condolence', 7713), ('cordial', 7714), ('exemplify', 7715), ('scarecrow', 7716), ('wizard', 7717), ('undone', 7718), ('toughen', 7719), ('myelf', 7720), ('dorama', 7721), ('xelliealicex', 7722), ('hilmari', 7723), ('hummpffff', 7724), ('togehter', 7725), ('incredulou', 7726), ('epileptic', 7727), ('hasting', 7728), ('irrespective', 7729), ('africa', 7730), ('emergence', 7731), ('assertive', 7732), ('khthon', 7733), ('melod', 7734), ('leopold', 7735), ('oakwood', 7736), ('org', 7737), ('scientology', 7738), ('sleazy', 7739), ('clermont', 7740), ('educationg', 7741), ('mamas', 7742), ('papas', 7743), ('evgeni', 7744), ('malkin', 7745), ('commonplace', 7746), ('folksy', 7747), ('conditioning', 7748), ('tentative', 7749), ('ambush', 7750), ('tonguey', 7751), ('clit', 7752), ('pbss', 7753), ('coldstone', 7754), ('waaaaayyyy', 7755), ('delicous', 7756), ('reiterate', 7757), ('mermaidhaire', 7758), ('amorphous', 7759), ('discernment', 7760), ('willpower', 7761), ('spook', 7762), ('enid', 7763), ('blyton', 7764), ('johns', 7765), ('cram', 7766), ('dian', 7767), ('parisian', 7768), ('beanbag', 7769), ('burgle', 7770), ('supervising', 7771), ('strew', 7772), ('reapply', 7773), ('parker', 7774), ('hubbie', 7775), ('legitimize', 7776), ('firsthand', 7777), ('joie', 7778), ('vivre', 7779), ('disinfect', 7780), ('bernice', 7781), ('trench', 7782), ('silen', 7783), ('guinea', 7784), ('hindsight', 7785), ('withstand', 7786), ('murua', 7787), ('cape', 7788), ('blair', 7789), ('prequel', 7790), ('jedi', 7791), ('uglier', 7792), ('appearanc', 7793), ('ewhich', 7794), ('movign', 7795), ('lighthearted', 7796), ('informational', 7797), ('dummies', 7798), ('cont', 7799), ('conqueror', 7800), ('quinn', 7801), ('barney', 7802), ('wiry', 7803), ('polished', 7804), ('profusely', 7805), ('antagonism', 7806), ('armistice', 7807), ('havet', 7808), ('docile', 7809), ('diabetic', 7810), ('divert', 7811), ('futility', 7812), ('angelic', 7813), ('hooker', 7814), ('pave', 7815), ('prabhupada', 7816), ('spazzing', 7817), ('thingy', 7818), ('gikwang', 7819), ('tricky', 7820), ('revision', 7821), ('portraiture', 7822), ('48', 7823), ('earlie', 7824), ('bellybutton', 7825), ('impugn', 7826), ('mcillvanney', 7827), ('matta', 7828), ('potty', 7829), ('elitist', 7830), ('sustainabilitys', 7831), ('hinder', 7832), ('equipman', 7833), ('eloquence', 7834), ('tasty', 7835), ('abound', 7836), ('unseen', 7837), ('ambient', 7838), ('renowne', 7839), ('lovedi', 7840), ('goer', 7841), ('awoken', 7842), ('trav', 7843), ('minimize', 7844), ('horn', 7845), ('skudrive', 7846), ('becsuse', 7847), ('rubble', 7848), ('kyte', 7849), ('headless', 7850), ('hath', 7851), ('sponge', 7852), ('unmentioned', 7853), ('prominently', 7854), ('valente', 7855), ('preacher', 7856), ('podium', 7857), ('goodie', 7858), ('contin', 7859), ('frost', 7860), ('frosting', 7861), ('shorten', 7862), ('tran', 7863), ('flex', 7864), ('cowboy', 7865), ('mcintyre', 7866), ('architecturally', 7867), ('harper', 7868), ('uwilnevrknow', 7869), ('exertion', 7870), ('disqualification', 7871), ('precede', 7872), ('aga', 7873), ('tatsuma', 7874), ('aoi', 7875), ('chakotay', 7876), ('paining', 7877), ('headlamp', 7878), ('tent', 7879), ('unclear', 7880), ('joel', 7881), ('sensational', 7882), ('ash', 7883), ('stench', 7884), ('greasy', 7885), ('strangle', 7886), ('syae', 7887), ('keynote', 7888), ('denmark', 7889), ('fundraiser', 7890), ('archdiocese', 7891), ('restoration', 7892), ('cathedral', 7893), ('strategic', 7894), ('reverence', 7895), ('eatery', 7896), ('asylum', 7897), ('seeker', 7898), ('consignment', 7899), ('goodwill', 7900), ('thatrupert', 7901), ('unsettled', 7902), ('bookworm', 7903), ('kiddy', 7904), ('overeat', 7905), ('essay', 7906), ('evidently', 7907), ('dither', 7908), ('clinton', 7909), ('francesca', 7910), ('bower', 7911), ('chateau', 7912), ('sandblog', 7913), ('alon', 7914), ('skid', 7915), ('driftingthroughlife', 7916), ('coercive', 7917), ('mcarthur', 7918), ('aficionado', 7919), ('kingswood', 7920), ('bleach', 7921), ('leare', 7922), ('prettiest', 7923), ('starbuck', 7924), ('contort', 7925), ('selena', 7926), ('rul', 7927), ('omega', 7928), ('weightlessly', 7929), ('inbalance', 7930), ('committment', 7931), ('hurriedly', 7932), ('aconfident', 7933), ('overcomet', 7934), ('pounding', 7935), ('chug', 7936), ('riva', 7937), ('weinstein', 7938), ('sentinel', 7939), ('hanford', 7940), ('councilman', 7941), ('chins', 7942), ('bro', 7943), ('catheter', 7944), ('struff', 7945), ('fedtastic', 7946), ('tennis', 7947), ('mk', 7948), ('everblight', 7949), ('maltese', 7950), ('marillac', 7951), ('nostril', 7952), ('herb', 7953), ('repentanc', 7954), ('hideous', 7955), ('prey', 7956), ('mccolgan', 7957), ('jt', 7958), ('bouncing', 7959), ('backpacker', 7960), ('overland', 7961), ('baht', 7962), ('usd', 7963), ('vocref', 7964), ('ontology', 7965), ('turtle', 7966), ('sneak', 7967), ('murakami', 7968), ('unjust', 7969), ('rotation', 7970), ('proudly', 7971), ('persistent', 7972), ('burning', 7973), ('quitter', 7974), ('harakiri', 7975), ('paradoxically', 7976), ('grower', 7977), ('decis', 7978), ('energetically', 7979), ('karen', 7980), ('advertorial', 7981), ('networking', 7982), ('advert', 7983), ('goddamne', 7984), ('stereotypical', 7985), ('defriende', 7986), ('aspire', 7987), ('sweatpant', 7988), ('commute', 7989), ('ferry', 7990), ('armani', 7991), ('blazer', 7992), ('prolong', 7993), ('physics', 7994), ('degrassi', 7995), ('dullness', 7996), ('peel', 7997), ('allergic', 7998), ('becasue', 7999), ('hazel', 8000), ('valerie', 8001), ('speedy', 8002), ('multitude', 8003), ('vagina', 8004), ('nano', 8005), ('gauge', 8006), ('flog', 8007), ('rueful', 8008), ('jenna', 8009), ('machinery', 8010), ('unprofessional', 8011), ('documenti', 8012), ('shred', 8013), ('oracle', 8014), ('busine', 8015), ('cavalier', 8016), ('swinelord', 8017), ('deluxe', 8018), ('platitude', 8019), ('bean', 8020), ('purpos', 8021), ('canter', 8022), ('angee', 8023), ('metier', 8024), ('attached', 8025), ('potion', 8026), ('deception', 8027), ('snowboard', 8028), ('promoter', 8029), ('duva', 8030), ('contender', 8031), ('ruddy', 8032), ('decay', 8033), ('washedout', 8034), ('perspi', 8035), ('aforementioned', 8036), ('tylenol', 8037), ('nyquil', 8038), ('ew', 8039), ('cabernet', 8040), ('congenial', 8041), ('saudi', 8042), ('terminal', 8043), ('dulle', 8044), ('eagleandhammer', 8045), ('notoriously', 8046), ('mif', 8047), ('downhearted', 8048), ('suppliment', 8049), ('nuh', 8050), ('maladaptive', 8051), ('lightmeter', 8052), ('gilbert', 8053), ('theybf', 8054), ('duluth', 8055), ('hookah', 8056), ('thirteen', 8057), ('shishido', 8058), ('senpai', 8059), ('insufficiency', 8060), ('gabapentin', 8061), ('zonisamide', 8062), ('yixuan', 8063), ('atiqah', 8064), ('glittery', 8065), ('disadvantag', 8066), ('15yearold', 8067), ('sapph', 8068), ('stoically', 8069), ('newland', 8070), ('magnetic', 8071), ('cable', 8072), ('wotcs', 8073), ('playhousecomm', 8074), ('taper', 8075), ('shortness', 8076), ('gwiyomi', 8077), ('seriouly', 8078), ('subkect', 8079), ('throe', 8080), ('ownership', 8081), ('dana', 8082), ('rightwe', 8083), ('falangist', 8084), ('deaden', 8085), ('stude', 8086), ('chalice', 8087), ('benefice', 8088), ('versa', 8089), ('tether', 8090), ('squirt', 8091), ('stickiness', 8092), ('viol', 8093), ('ptl', 8094), ('dictate', 8095), ('irresistable', 8096), ('caffeinated', 8097), ('mastery', 8098), ('chinesepod', 8099), ('xia', 8100), ('jacob', 8101), ('sylvie', 8102), ('bedr', 8103), ('backbencher', 8104), ('wrecke', 8105), ('selling', 8106), ('certifiably', 8107), ('frail', 8108), ('obesity', 8109), ('nolonger', 8110), ('redden', 8111), ('manhood', 8112), ('nope', 8113), ('jeffrey', 8114), ('whereabou', 8115), ('franz', 8116), ('liebkind', 8117), ('fuhrer', 8118), ('chapbook', 8119), ('aggrandisement', 8120), ('theofilou', 8121), ('kastrioti', 8122), ('nauseate', 8123), ('cassie', 8124), ('uncontainable', 8125), ('engulf', 8126), ('hobbs', 8127), ('rebecca', 8128), ('mcpherson', 8129), ('sophat', 8130), ('kandal', 8131), ('osteopath', 8132), ('boulder', 8133), ('communicat', 8134), ('jesse', 8135), ('humanly', 8136), ('inquisitive', 8137), ('occassionally', 8138), ('diversionary', 8139), ('dating', 8140), ('bridezilla', 8141), ('groom', 8142), ('educator', 8143), ('arun', 8144), ('unpresse', 8145), ('enfold', 8146), ('wizarding', 8147), ('mudblood', 8148), ('whatnot', 8149), ('moribund', 8150), ('venus', 8151), ('wwii', 8152), ('agonise', 8153), ('lajoie', 8154), ('famer', 8155), ('workaholic', 8156), ('proto', 8157), ('odonnell', 8158), ('interception', 8159), ('pittsburgh', 8160), ('juliannas', 8161), ('rolex', 8162), ('finality', 8163), ('acheivment', 8164), ('biochemistry', 8165), ('zambia', 8166), ('lowspirited', 8167), ('resistanc', 8168), ('wintry', 8169), ('reminisce', 8170), ('albert', 8171), ('athletically', 8172), ('striking', 8173), ('heung', 8174), ('changez', 8175), ('recline', 8176), ('morosely', 8177), ('cultivated', 8178), ('mailbox', 8179), ('traveling', 8180), ('effec', 8181), ('lite', 8182), ('audie', 8183), ('multiply', 8184), ('repetetive', 8185), ('relent', 8186), ('dough', 8187), ('mushy', 8188), ('feverishly', 8189), ('ellis', 8190), ('nightmar', 8191), ('covetousne', 8192), ('surpris', 8193), ('sol', 8194), ('chillax', 8195), ('runneth', 8196), ('grimy', 8197), ('overprice', 8198), ('jostle', 8199), ('sycf', 8200), ('getyourprettyon', 8201), ('transpire', 8202), ('briefly', 8203), ('ting', 8204), ('foray', 8205), ('grinch', 8206), ('skellington', 8207), ('tubelight', 8208), ('laced', 8209), ('kinship', 8210), ('audrey', 8211), ('gastro', 8212), ('acctually', 8213), ('perfumed', 8214), ('sadhana', 8215), ('gloome', 8216), ('atrophy', 8217), ('zicam', 8218), ('slacker', 8219), ('mcslackerson', 8220), ('carrry', 8221), ('landlor', 8222), ('feminine', 8223), ('sodium', 8224), ('cesspool', 8225), ('understandable', 8226), ('kakashi', 8227), ('artificial', 8228), ('dea', 8229), ('wangxuehai', 8230), ('ick', 8231), ('nadia', 8232), ('empathtic', 8233), ('corrupting', 8234), ('stri', 8235), ('apoplectic', 8236), ('loveitt', 8237), ('hillside', 8238), ('brady', 8239), ('directorial', 8240), ('progre', 8241), ('psychopath', 8242), ('whingee', 8243), ('dingler', 8244), ('harrass', 8245), ('oppress', 8246), ('clinique', 8247), ('faithless', 8248), ('barraclough', 8249), ('methuen', 8250), ('1295', 8251), ('chlorine', 8252), ('portly', 8253), ('mustache', 8254), ('prepubescent', 8255), ('tout', 8256), ('belle', 8257), ('sebastian', 8258), ('unconcern', 8259), ('balk', 8260), ('spaniard', 8261), ('whammo', 8262), ('kiat', 8263), ('obsessive', 8264), ('anal', 8265), ('irregardless', 8266), ('jol', 8267), ('pochayiv', 8268), ('oak', 8269), ('lyme', 8270), ('coinfection', 8271), ('hu', 8272), ('jia', 8273), ('invent', 8274), ('informant', 8275), ('minist', 8276), ('squeeee', 8277), ('pea', 8278), ('carrot', 8279), ('peas', 8280), ('carrots', 8281), ('pointlessly', 8282), ('mcas', 8283), ('idealized', 8284), ('racial', 8285), ('slur', 8286), ('aac', 8287), ('lowly', 8288), ('annul', 8289), ('patio', 8290), ('katarina', 8291), ('maliciouslooke', 8292), ('wom', 8293), ('wenner', 8294), ('jagger', 8295), ('gil', 8296), ('robles', 8297), ('charette', 8298), ('apo', 8299), ('brandish', 8300), ('umbrella', 8301), ('hermione', 8302), ('overrate', 8303), ('outro', 8304), ('carapace', 8305), ('flogger', 8306), ('festi', 8307), ('schizofrenic', 8308), ('estefan', 8309), ('ology', 8310), ('comme', 8311), ('arty', 8312), ('transplant', 8313), ('missionar', 8314), ('overexcite', 8315), ('opin', 8316), ('trancelike', 8317), ('edgware', 8318), ('multitudinous', 8319), ('unreceptive', 8320), ('neverende', 8321), ('abu', 8322), ('vengeance', 8323), ('ahahahaha', 8324), ('morbidly', 8325), ('excercise', 8326), ('barking', 8327), ('squirrel', 8328), ('latley', 8329), ('laddie', 8330), ('rafael', 8331), ('bosch', 8332), ('serene', 8333), ('dominating', 8334), ('muslims', 8335), ('generalize', 8336), ('tankouban', 8337), ('stiller', 8338), ('vaughn', 8339), ('hater', 8340), ('omd', 8341), ('les', 8342), ('lanky', 8343), ('salmon', 8344), ('mullet', 8345), ('igno', 8346), ('jrpgs', 8347), ('benno', 8348), ('motorcycle', 8349), ('hectic', 8350), ('nondescript', 8351), ('nowwwwww', 8352), ('facsimilogos', 8353), ('nikolas', 8354), ('zimbabweans', 8355), ('brooklyn', 8356), ('latch', 8357), ('hella', 8358), ('memorable', 8359), ('teh', 8360), ('ventrure', 8361), ('mic', 8362), ('colorful', 8363), ('whooping', 8364), ('ridgerunner', 8365), ('solberg', 8366), ('sho', 8367), ('salty', 8368), ('saturate', 8369), ('drier', 8370), ('formerly', 8371), ('untouchable', 8372), ('overzealous', 8373), ('persecution', 8374), ('annulment', 8375), ('horrendously', 8376), ('40000', 8377), ('stadia', 8378), ('mino', 8379), ('fiv', 8380), ('annabel', 8381), ('madly', 8382), ('hurrica', 8383), ('ros', 8384), ('chaperone', 8385), ('playlist', 8386), ('altitude', 8387), ('whinge', 8388), ('everybodys', 8389), ('ruc', 8390), ('investigation', 8391), ('springy', 8392), ('leadingstring', 8393), ('uneffecte', 8394), ('portugu', 8395), ('definiteness', 8396), ('eventuallythe', 8397), ('lovein', 8398), ('condescend', 8399), ('dawning', 8400), ('marlowe', 8401), ('humanitys', 8402), ('rapacity', 8403), ('paparazzo', 8404), ('zq', 8405), ('jcho', 8406), ('cpine', 8407), ('unappreciative', 8408), ('beleagure', 8409), ('constrain', 8410), ('13', 8411), ('mdashhow', 8412), ('paperwork', 8413), ('blister', 8414), ('mysalvagedtreasure', 8415), ('unfathomably', 8416), ('kermit', 8417), ('buuuuuut', 8418), ('rach', 8419), ('hy', 8420), ('upsetting', 8421), ('televis', 8422), ('astonishe', 8423), ('europ', 8424), ('elaborate', 8425), ('nitche', 8426), ('sweating', 8427), ('nut', 8428), ('segregate', 8429), ('edwin', 8430), ('pluto', 8431), ('publishe', 8432), ('cardiovascular', 8433), ('noteworthy', 8434), ('drs', 8435), ('eit', 8436), ('cena', 8437), ('pi', 8438), ('ata', 8439), ('sleet', 8440), ('infectious', 8441), ('encoding', 8442), ('utf', 8443), ('locale', 8444), ('isprivate', 8445), ('ismobile', 8446), ('mobileclass', 8447), ('isprivateblog', 8448), ('languagedirection', 8449), ('feedlink', 8450), ('xml', 8451), ('resurrect', 8452), ('paus', 8453), ('lobia', 8454), ('panicked', 8455), ('impenetrable', 8456), ('crescent', 8457), ('charmed', 8458), ('adherence', 8459), ('august', 8460), ('cordelia', 8461), ('seer', 8462), ('athlete', 8463), ('jonti', 8464), ('taboo', 8465), ('woodman', 8466), ('cowardly', 8467), ('arca', 8468), ('doer', 8469), ('surkov', 8470), ('tropical', 8471), ('overflow', 8472), ('flaunt', 8473), ('defile', 8474), ('spreadsheet', 8475), ('someplace', 8476), ('demoralize', 8477), ('trickle', 8478), ('morla', 8479), ('drill', 8480), ('mes', 8481), ('killjoy', 8482), ('aftereffect', 8483), ('eccentricity', 8484), ('akron', 8485), ('undecorating', 8486), ('coro', 8487), ('bicycle', 8488), ('cameraman', 8489), ('micky', 8490), ('incongruousl', 8491), ('whir', 8492), ('tansy', 8493), ('topaz', 8494), ('traveler', 8495), ('freestone', 8496), ('jaguar', 8497), ('rover', 8498), ('wanted', 8499), ('communicator', 8500), ('bridgewater', 8501), ('happend', 8502), ('mis', 8503), ('stepping', 8504), ('dishonor', 8505), ('sissy', 8506), ('houston', 8507), ('senegal', 8508), ('farafina', 8509), ('cassava', 8510), ('fuchsia', 8511), ('opiates', 8512), ('infant', 8513), ('mowbray', 8514), ('mien', 8515), ('cour', 8516), ('taint', 8517), ('estimate', 8518), ('nepali', 8519), ('nicos', 8520), ('frowning', 8521), ('bishan', 8522), ('frighte', 8523), ('displacement', 8524), ('matteroffact', 8525), ('cohort', 8526), ('tyrant', 8527), ('methodically', 8528), ('marshal', 8529), ('kristi', 8530), ('warner', 8531), ('format', 8532), ('earreade', 8533), ('audiobook', 8534), ('peruse', 8535), ('skull', 8536), ('mystique', 8537), ('fergus', 8538), ('progr', 8539), ('uae', 8540), ('oblivious', 8541), ('psychiatry', 8542), ('beware', 8543), ('translation', 8544), ('eighthcentury', 8545), ('hermit', 8546), ('beehive', 8547), ('hut', 8548), ('irel', 8549), ('smite', 8550), ('cobwebs', 8551), ('psychopathology', 8552), ('goosey', 8553), ('supportiveness', 8554), ('superintendent', 8555), ('klysta', 8556), ('titanic', 8557), ('peeved', 8558), ('gulam', 8559), ('childbirth', 8560), ('giraffe', 8561), ('majestic', 8562), ('frightfully', 8563), ('taheb', 8564), ('thisisntcuteanymore', 8565), ('patronize', 8566), ('culmination', 8567), ('dancefloor', 8568), ('tempo', 8569), ('architect', 8570), ('inflated', 8571), ('shackle', 8572), ('vivek', 8573), ('oberoi', 8574), ('bgr', 8575), ('hallucinate', 8576), ('piggy', 8577), ('amus', 8578), ('headway', 8579), ('snippy', 8580), ('interlock', 8581), ('phyica', 8582), ('bittersweet', 8583), ('distill', 8584), ('complexity', 8585), ('objective', 8586), ('definitive', 8587), ('tantric', 8588), ('buddhism', 8589), ('haka', 8590), ('smi', 8591), ('postpone', 8592), ('coil', 8593), ('groundless', 8594), ('smooch', 8595), ('spinner', 8596), ('detachedly', 8597), ('derp', 8598), ('lrt', 8599), ('opera', 8600), ('shhhhhhh', 8601), ('anonymity', 8602), ('tna', 8603), ('crimson', 8604), ('fester', 8605), ('goliath', 8606), ('humblest', 8607), ('dir', 8608), ('henypire', 8609), ('nicky', 8610), ('benadryl', 8611), ('songy', 8612), ('sweetie', 8613), ('tpt', 8614), ('aversary', 8615), ('deedee', 8616), ('bubbling', 8617), ('climax', 8618), ('successive', 8619), ('pummel', 8620), ('electora', 8621), ('frappe', 8622), ('remarry', 8623), ('puff', 8624), ('teetotaller', 8625), ('harrowing', 8626), ('repell', 8627), ('crocs', 8628), ('savior', 8629), ('sl', 8630), ('louche', 8631), ('aforementione', 8632), ('schmidt', 8633), ('congested', 8634), ('bleurgh', 8635), ('traipse', 8636), ('trompe', 8637), ('stilettos', 8638), ('keith', 8639), ('detour', 8640), ('xela', 8641), ('babsbrisbane', 8642), ('allotted', 8643), ('nytime', 8644), ('feisty', 8645), ('slew', 8646), ('avast', 8647), ('antivirus', 8648), ('gourmet', 8649), ('delicacy', 8650), ('unopened', 8651), ('zombi', 8652), ('miner', 8653), ('cnn', 8654), ('cuff', 8655), ('anklet', 8656), ('coo', 8657), ('firstborn', 8658), ('pacesetter', 8659), ('danny', 8660), ('stalk', 8661), ('erica', 8662), ('tackling', 8663), ('juggernaut', 8664), ('lorry', 8665), ('eec', 8666), ('bt', 8667), ('thn', 8668), ('nonchalant', 8669), ('easi', 8670), ('duet', 8671), ('stevie', 8672), ('insipid', 8673), ('boomer', 8674), ('enuff', 8675), ('stairs', 8676), ('baffroom', 8677), ('ant', 8678), ('discomforting', 8679), ('interpret', 8680), ('joyfully', 8681), ('dowagerduchess', 8682), ('organised', 8683), ('jess', 8684), ('giardina', 8685), ('flooring', 8686), ('vocalist', 8687), ('femininely', 8688), ('chendol', 8689), ('kacang', 8690), ('vase', 8691), ('inauguration', 8692), ('preferred', 8693), ('espa', 8694), ('hd', 8695), ('firstly', 8696), ('madness', 8697), ('secondly', 8698), ('chivalrously', 8699), ('geology', 8700), ('dieting', 8701), ('wimp', 8702), ('expload', 8703), ('hencke', 8704), ('calle', 8705), ('tier', 8706), ('tearful', 8707), ('cadore', 8708), ('bloodshed', 8709), ('sobriety', 8710), ('agiatate', 8711), ('familys', 8712), ('molyneux', 8713), ('blurred', 8714), ('maximise', 8715), ('deceptively', 8716), ('jews', 8717), ('ss', 8718), ('excotick', 8719), ('beaty', 8720), ('yummyy', 8721), ('deisire', 8722), ('enjoin', 8723), ('biopsy', 8724), ('seth', 8725), ('livejournal', 8726), ('rambo', 8727), ('massac', 8728), ('waffle', 8729), ('diane', 8730), ('von', 8731), ('furstenberg', 8732), ('rodarte', 8733), ('adress', 8734), ('summery', 8735), ('bummin', 8736), ('emillionstar', 8737), ('theo', 8738), ('eli', 8739), ('fulfilled', 8740), ('guil', 8741), ('tenge', 8742), ('dunham', 8743), ('minimise', 8744), ('causing', 8745), ('cruelty', 8746), ('blackmail', 8747), ('rad', 8748), ('bontoc', 8749), ('melanie', 8750), ('aggression', 8751), ('aaaaaaand', 8752), ('revovle', 8753), ('ansi', 8754), ('incredulously', 8755), ('comical', 8756), ('pitifu', 8757), ('persuade', 8758), ('shortage', 8759), ('mccann', 8760), ('exasperated', 8761), ('leibnitz', 8762), ('humane', 8763), ('jeer', 8764), ('redshank', 8765), ('bravely', 8766), ('waterside', 8767), ('hound', 8768), ('creatur', 8769), ('herman', 8770), ('disconcert', 8771), ('thy', 8772), ('ptsd', 8773), ('absoloutely', 8774), ('warrick', 8775), ('naivety', 8776), ('toddlerhood', 8777), ('everybitterthingissweet', 8778), ('thriller', 8779), ('acid', 8780), ('reflux', 8781), ('undefinable', 8782), ('duff', 8783), ('prenatal', 8784), ('blaming', 8785), ('generosity', 8786), ('queezy', 8787), ('corbett', 8788), ('norah', 8789), ('prestige', 8790), ('sundry', 8791), ('matching', 8792), ('healer', 8793), ('kendallhume', 8794), ('coup', 8795), ('omission', 8796), ('avoidance', 8797), ('stander', 8798), ('ancestral', 8799), ('doraemon', 8800), ('trafford', 8801), ('stamford', 8802), ('googler', 8803), ('unworthiness', 8804), ('sensibly', 8805), ('uniqueness', 8806), ('presupposition', 8807), ('imma', 8808), ('misgiving', 8809), ('underage', 8810), ('tbt', 8811), ('soberly', 8812), ('jeddah', 8813), ('printout', 8814), ('drivel', 8815), ('stupendous', 8816), ('incredulity', 8817), ('childine', 8818), ('mystical', 8819), ('chiuv', 8820), ('kaddish', 8821), ('daven', 8822), ('amud', 8823), ('progesterone', 8824), ('whispering', 8825), ('amalgamation', 8826), ('fieldworker', 8827), ('heartsearchin', 8828), ('concieve', 8829), ('carl', 8830), ('clarke', 8831), ('sabrina', 8832), ('notting', 8833), ('irishman', 8834), ('delor', 8835), ('liriano', 8836), ('violinist', 8837), ('instrume', 8838), ('psychically', 8839), ('galvanise', 8840), ('inept', 8841), ('payer', 8842), ('bungling', 8843), ('zapper', 8844), ('tonigh', 8845), ('clevere', 8846), ('chainring', 8847), ('pollicino', 8848), ('lex', 8849), ('martha', 8850), ('turbillion', 8851), ('kara', 8852), ('ruffle', 8853), ('inflate', 8854), ('skirtsport', 8855), ('ganging', 8856), ('chewie', 8857), ('happenstance', 8858), ('doingaone', 8859), ('oppie', 8860), ('placement', 8861), ('bioware', 8862), ('nilly', 8863), ('brokenhearte', 8864), ('ivspirit', 8865), ('translatethis', 8866), ('poacher', 8867), ('pelt', 8868), ('ivory', 8869), ('commodore', 8870), ('gander', 8871), ('lupron', 8872), ('defea', 8873), ('betty', 8874), ('grue', 8875), ('sparkly', 8876), ('meaningful', 8877), ('shops', 8878), ('caf', 8879), ('payne', 8880), ('cauldron', 8881), ('suspend', 8882), ('boiling', 8883), ('spi', 8884), ('remedy', 8885), ('caversham', 8886), ('rocking', 8887), ('accessibility', 8888), ('warfighter', 8889), ('dudley', 8890), ('dursley', 8891), ('cornelius', 8892), ('fudge', 8893), ('minerva', 8894), ('mcgonnagall', 8895), ('neville', 8896), ('longbottom', 8897), ('pettigrew', 8898), ('potent', 8899), ('irfan', 8900), ('pathan', 8901), ('jumping', 8902), ('wantd', 8903), ('krista', 8904), ('venerable', 8905), ('plantar', 8906), ('fascitis', 8907), ('kiddo', 8908), ('gardener', 8909), ('urgently', 8910), ('suited', 8911), ('playboy', 8912), ('villain', 8913), ('druian', 8914), ('superstorm', 8915), ('retribution', 8916), ('incentive', 8917), ('ars', 8918), ('nes', 8919), ('croatian', 8920), ('fraser', 8921), ('submerged', 8922), ('wd', 8923), ('disastere', 8924), ('stylish', 8925), ('sitter', 8926), ('newsprint', 8927), ('adjoining', 8928), ('outsize', 8929), ('sou', 8930), ('wester', 8931), ('wellie', 8932), ('epithet', 8933), ('nudist', 8934), ('karma', 8935), ('groban', 8936), ('kelsey', 8937), ('abundantly', 8938), ('aaaah', 8939), ('gange', 8940), ('mississippi', 8941), ('clyde', 8942), ('boyne', 8943), ('meaty', 8944), ('wither', 8945), ('accountant', 8946), ('gray', 8947), ('mare', 8948), ('kilburn', 8949), ('kelly', 8950), ('husky', 8951), ('detectin', 8952), ('wiki', 8953), ('spitball', 8954), ('lair', 8955), ('ts', 8956), ('marilyn', 8957), ('nashville', 8958), ('fullbright', 8959), ('winetasting', 8960), ('knowingly', 8961), ('gro', 8962), ('adhere', 8963), ('physicality', 8964), ('vinnie', 8965), ('kompany', 8966), ('joleon', 8967), ('kolo', 8968), ('toure', 8969), ('euro', 8970), ('pragmatic', 8971), ('downer', 8972), ('writte', 8973), ('writting', 8974), ('writter', 8975), ('heartdesire', 8976), ('mentel', 8977), ('blatantly', 8978), ('irreparably', 8979), ('impressionable', 8980), ('conform', 8981), ('terry', 8982), ('yippee', 8983), ('prohibit', 8984), ('unimaginable', 8985), ('brittneys', 8986), ('consent', 8987), ('texas', 8988), ('dosage', 8989), ('supplemental', 8990), ('dichotomy', 8991), ('affordable', 8992), ('pompom', 8993), ('braided', 8994), ('agonising', 8995), ('undeniably', 8996), ('strolling', 8997), ('seamlessly', 8998), ('infer', 8999), ('goose', 9000), ('specialty', 9001), ('utilize', 9002), ('buzzy', 9003), ('gifted', 9004), ('awesomness', 9005), ('logan', 9006), ('lemme', 9007), ('yike', 9008), ('knuckle', 9009), ('uneven', 9010), ('oscillate', 9011), ('cleverly', 9012), ('humorously', 9013), ('blanks', 9014), ('fierceness', 9015), ('terrifyingly', 9016), ('barcomb', 9017), ('boe', 9018), ('establishment', 9019), ('hobnob', 9020), ('infusion', 9021), ('recounting', 9022), ('embroider', 9023), ('cinderalla', 9024), ('forgave', 9025), ('deterioration', 9026), ('cutback', 9027), ('liv', 9028), ('discouraging', 9029), ('voicesfromkrypton', 9030), ('wantig', 9031), ('griff', 9032), ('picturesque', 9033), ('gascoigne', 9034), ('charlton', 9035), ('farth', 9036), ('jin', 9037), ('hee', 9038), ('lotte', 9039), ('soley', 9040), ('tomorr', 9041), ('trudge', 9042), ('hydration', 9043), ('dumpee', 9044), ('planter', 9045), ('sydney', 9046), ('brisbanehub', 9047), ('salesman', 9048), ('tramp', 9049), ('aisle', 9050), ('squawking', 9051), ('bleating', 9052), ('questioning', 9053), ('jamaica', 9054), ('greatest', 9055), ('colombians', 9056), ('gringa', 9057), ('el', 9058), ('amparo', 9059), ('inquire', 9060), ('dang', 9061), ('drizzle', 9062), ('flowerseller', 9063), ('nothnig', 9064), ('someoen', 9065), ('lauging', 9066), ('rifkind', 9067), ('chairman', 9068), ('scholey', 9069), ('leade', 9070), ('sonny', 9071), ('afterpulse', 9072), ('nag', 9073), ('wro', 9074), ('halfprice', 9075), ('loo', 9076), ('stale', 9077), ('swe', 9078), ('fascinat', 9079), ('ulysse', 9080), ('flying', 9081), ('obnoxiously', 9082), ('verbal', 9083), ('tic', 9084), ('hyde', 9085), ('broadcast', 9086), ('juliemadblogger', 9087), ('myslef', 9088), ('jaeryong', 9089), ('jungeun', 9090), ('paw', 9091), ('oversized', 9092), ('streak', 9093), ('mccarthy', 9094), ('humanize', 9095), ('romantically', 9096), ('nemesis', 9097), ('getin', 9098), ('gusto', 9099), ('hive', 9100), ('squeek', 9101), ('grossed', 9102), ('scramble', 9103), ('meticulously', 9104), ('portable', 9105), ('compatible', 9106), ('sid', 9107), ('70', 9108), ('aisl', 9109), ('ravenous', 9110), ('ashlotte', 9111), ('talim', 9112), ('moxie', 9113), ('cath', 9114), ('peg', 9115), ('befoe', 9116), ('mediation', 9117), ('somethign', 9118), ('mythical', 9119), ('systematically', 9120), ('assassinate', 9121), ('bobo', 9122), ('unavoidable', 9123), ('ethical', 9124), ('dissappear', 9125), ('headachie', 9126), ('binocul', 9127), ('mcaleese', 9128), ('glor', 9129), ('biomedical', 9130), ('announcement', 9131), ('momentum', 9132), ('witnese', 9133), ('foyle', 9134), ('bookshop', 9135), ('nooks', 9136), ('corne', 9137), ('kerouac', 9138), ('marble', 9139), ('maelstrom', 9140), ('sur', 9141), ('attorney', 9142), ('protectiveness', 9143), ('fe', 9144), ('amma', 9145), ('sprog', 9146), ('familiarly', 9147), ('transformer', 9148), ('fluidly', 9149), ('himse', 9150), ('anchorage', 9151), ('sox', 9152), ('tampa', 9153), ('communing', 9154), ('thankk', 9155), ('shai', 9156), ('tung', 9157), ('darker', 9158), ('jehovah', 9159), ('snidey', 9160), ('soooooooooooo', 9161), ('lestat', 9162), ('ttc', 9163), ('fondness', 9164), ('ingorant', 9165), ('landor', 9166), ('animator', 9167), ('pixar', 9168), ('outdo', 9169), ('davies', 9170), ('marrow', 9171), ('sms', 9172), ('elvive', 9173), ('sls', 9174), ('gracefully', 9175), ('humbly', 9176), ('stor', 9177), ('prese', 9178), ('monogrammed', 9179), ('transcendant', 9180), ('migraine', 9181), ('seller', 9182), ('unconsciously', 9183), ('rewarded', 9184), ('eastern', 9185), ('backlog', 9186), ('gu', 9187), ('avery', 9188), ('mcshane', 9189), ('1980', 9190), ('lifelong', 9191), ('sen', 9192), ('limply', 9193), ('camilla', 9194), ('picky', 9195), ('peasy', 9196), ('isobelmeg', 9197), ('woop', 9198), ('firework', 9199), ('reboot', 9200), ('denial', 9201), ('panorma', 9202), ('canne', 9203), ('pedretti', 9204), ('scandalou', 9205), ('spitak', 9206), ('smacked', 9207), ('irwins', 9208), ('bail', 9209), ('prostitution', 9210), ('contaminati', 9211), ('nervouse', 9212), ('usain', 9213), ('initally', 9214), ('internist', 9215), ('sarcoma', 9216), ('transiently', 9217), ('sheri', 9218), ('devalue', 9219), ('rlsh', 9220), ('qa', 9221), ('wretch', 9222), ('sniiiiifff', 9223), ('thunk', 9224), ('kala', 9225), ('tremendously', 9226), ('gastric', 9227), ('zooming', 9228), ('trinity', 9229), ('yorkshire', 9230), ('answering', 9231), ('smackdown', 9232), ('humungous', 9233), ('flung', 9234), ('prized', 9235), ('magazin', 9236), ('schaub', 9237), ('bleacherreport', 9238), ('hudson', 9239), ('unemotional', 9240), ('magically', 9241), ('2', 9242), ('childfrien', 9243), ('alexander', 9244), ('macabre', 9245), ('fountain', 9246), ('putrid', 9247), ('magzine', 9248), ('prioritise', 9249), ('gatsby', 9250), ('claire', 9251), ('alertness', 9252), ('touching', 9253), ('iya', 9254), ('professionally', 9255), ('positi', 9256), ('kudo', 9257), ('summit', 9258), ('wyatt', 9259), ('bowie', 9260), ('iman', 9261), ('limbed', 9262), ('readmit', 9263), ('collin', 9264), ('finnerty', 9265), ('latte', 9266), ('northwestern', 9267), ('arou', 9268), ('completeness', 9269), ('heartsick', 9270), ('devout', 9271), ('nazi', 9272), ('partys', 9273), ('ideology', 9274), ('forcibly', 9275), ('conscript', 9276), ('gunther', 9277), ('fedex', 9278), ('coca', 9279), ('cola', 9280), ('styling', 9281), ('glowy', 9282), ('nachos', 9283), ('nolean', 9284), ('wihtout', 9285), ('cleary', 9286), ('guion', 9287), ('downstream', 9288), ('jong', 9289), ('horsley', 9290), ('polytechnic', 9291), ('wrung', 9292), ('imaginary', 9293), ('bullet', 9294), ('hondura', 9295), ('revamp', 9296), ('shakiness', 9297), ('undeveloped', 9298), ('datey', 9299), ('amos', 9300), ('retrofit', 9301), ('homage', 9302), ('bikini', 9303), ('alise', 9304), ('finalize', 9305), ('underpant', 9306), ('intoxicate', 9307), ('wimbledon', 9308), ('culprit', 9309), ('inferiority', 9310), ('dank', 9311), ('sighing', 9312), ('lea', 9313), ('pleasent', 9314), ('conten', 9315), ('partial', 9316), ('belate', 9317), ('buddys', 9318), ('worrie', 9319), ('xbla', 9320), ('sony', 9321), ('caribbean', 9322), ('diving', 9323), ('foh', 9324), ('coroner', 9325), ('consulate', 9326), ('catherine', 9327), ('unjustified', 9328), ('microcosm', 9329), ('texans', 9330), ('convos', 9331), ('dnt', 9332), ('knwe', 9333), ('nthing', 9334), ('plastikan', 9335), ('twentysomething', 9336), ('godaddy', 9337), ('privellege', 9338), ('vehemently', 9339), ('eerily', 9340), ('hearty', 9341), ('coward', 9342), ('hart', 9343), ('wiz', 9344), ('khalifa', 9345), ('thaim', 9346), ('rejoyce', 9347), ('linklater', 9348), ('gambia', 9349), ('sup', 9350), ('filthy', 9351), ('beckon', 9352), ('yawwwn', 9353), ('eventualit', 9354), ('inequality', 9355), ('retarded', 9356), ('lewis', 9357), ('carroll', 9358), ('condiment', 9359), ('pressie', 9360), ('flaccid', 9361), ('spencer', 9362), ('floyd', 9363), ('patterson', 9364), ('treatme', 9365), ('thou', 9366), ('tyremark', 9367), ('mt', 9368), ('snuck', 9369), ('snoop', 9370), ('vaster', 9371), ('pleeeeeease', 9372), ('hmmmmm', 9373), ('careen', 9374), ('relaxing', 9375), ('pines', 9376), ('grandson', 9377), ('ghd', 9378), ('straightener', 9379), ('cheered', 9380), ('hausa', 9381), ('motorcyclist', 9382), ('resemblance', 9383), ('lolll', 9384), ('blissful', 9385), ('scout', 9386), ('pinewood', 9387), ('utopia', 9388), ('burmeister', 9389), ('mir', 9390), ('publican', 9391), ('repel', 9392), ('armoury', 9393), ('taciturnity', 9394), ('malevolent', 9395), ('servic', 9396), ('hazzard', 9397), ('downward', 9398), ('duo', 9399), ('shyness', 9400), ('aloof', 9401), ('precision', 9402), ('atrocious', 9403), ('peeing', 9404), ('irritability', 9405), ('sniffer', 9406), ('reflex', 9407), ('weasel', 9408), ('chiangmai', 9409), ('instrumental', 9410), ('ala', 9411), ('hizaki', 9412), ('benzema', 9413), ('mould', 9414), ('cretin', 9415), ('eloquent', 9416), ('array', 9417), ('legard', 9418), ('mouthed', 9419), ('stephen', 9420), ('spielberg', 9421), ('setup', 9422), ('ffxi', 9423), ('duh', 9424), ('vanity', 9425), ('meme', 9426), ('autocorrect', 9427), ('kamiki', 9428), ('kun', 9429), ('nozomi', 9430), ('nonchan', 9431), ('snatch', 9432), ('craftisan', 9433), ('landscaping', 9434), ('emma', 9435), ('strasbourg', 9436), ('ignorantly', 9437), ('zhu', 9438), ('lotus', 9439), ('wholesale', 9440), ('sicken', 9441), ('lance', 9442), ('worthington', 9443), ('unendurable', 9444), ('deterioratio', 9445), ('unwante', 9446), ('rightful', 9447), ('predecessor', 9448), ('viewpoint', 9449), ('weighin', 9450), ('mashed', 9451), ('cede', 9452), ('doomnation', 9453), ('damnation', 9454), ('alotta', 9455), ('toner', 9456), ('censor', 9457), ('nicole', 9458), ('unnoticeable', 9459), ('purse', 9460), ('confinement', 9461), ('reinforcement', 9462), ('reframe', 9463), ('dissolving', 9464), ('defer', 9465), ('location', 9466), ('sunset', 9467), ('cliched', 9468), ('pukey', 9469), ('behaviou', 9470), ('parch', 9471), ('briant', 9472), ('researched', 9473), ('yelp', 9474), ('pinter', 9475), ('michigan', 9476), ('prostitute', 9477), ('ade', 9478), ('splurge', 9479), ('animated', 9480), ('pageview', 9481), ('reaaallyyyy', 9482), ('suitable', 9483), ('paypal', 9484), ('reali', 9485), ('ptpt', 9486), ('pouhere', 9487), ('legally', 9488), ('singleminde', 9489), ('uncompromising', 9490), ('sniping', 9491), ('rebel', 9492), ('funding', 9493), ('quaker', 9494), ('excitedly', 9495), ('fortnight', 9496), ('steely', 9497), ('preston', 9498), ('plugin', 9499), ('hillary', 9500), ('bobs', 9501), ('ladybit', 9502), ('wheeeeee', 9503), ('overdramatic', 9504), ('wanderlust', 9505), ('nl', 9506), ('cog', 9507), ('ryota', 9508), ('keita', 9509), ('kota', 9510), ('tearstaine', 9511), ('serina', 9512), ('jazzed', 9513), ('variant', 9514), ('rundown', 9515), ('matilda', 9516), ('flashing', 9517), ('trunchbull', 9518), ('portugal', 9519), ('philosophical', 9520), ('execution', 9521), ('fathom', 9522), ('ambulatory', 9523), ('katz', 9524), ('lament', 9525), ('countenance', 9526), ('tal', 9527), ('dispute', 9528), ('universalized', 9529), ('unfocused', 9530), ('lacy', 9531), ('irresistible', 9532), ('frock', 9533), ('wolfiewolfgang', 9534), ('grou', 9535), ('charlotte', 9536), ('thro', 9537), ('holli', 9538), ('reese', 9539), ('swag', 9540), ('cudnt', 9541), ('fren', 9542), ('philippines', 9543), ('rapid', 9544), ('bernie', 9545), ('everyfuckingthing', 9546), ('passive', 9547), ('momma', 9548), ('willed', 9549), ('tx', 9550), ('sassiness', 9551), ('detergent', 9552), ('sensationalist', 9553), ('connecticut', 9554), ('tanjore', 9555), ('thanjavur', 9556), ('mysore', 9557), ('mysuru', 9558), ('duckle', 9559), ('calgary', 9560), ('alcoholism', 9561), ('analysis', 9562), ('advil', 9563), ('inflammation', 9564), ('accordingly', 9565), ('redhead', 9566), ('disgustingness', 9567), ('geneva', 9568), ('torturing', 9569), ('tame', 9570), ('unstable', 9571), ('teac', 9572), ('succede', 9573), ('procure', 9574), ('jongwoon', 9575), ('ryeowook', 9576), ('electrocute', 9577), ('nightmarish', 9578), ('infuria', 9579), ('siesta', 9580), ('efficiently', 9581), ('embarrassing', 9582), ('kitwe', 9583), ('triple', 9584), ('notoriety', 9585), ('accumulation', 9586), ('pleas', 9587), ('diktat', 9588), ('skew', 9589), ('godwin', 9590), ('weeps', 9591), ('23monthold', 9592), ('sophie', 9593), ('vigilant', 9594), ('whoosh', 9595), ('dipshit', 9596), ('badman', 9597), ('aroma', 9598), ('bhubaneswar', 9599), ('orissa', 9600), ('opinon', 9601), ('evangelical', 9602), ('spontaneously', 9603), ('erratic', 9604), ('swoon', 9605), ('clammy', 9606), ('gioella', 9607), ('immedietly', 9608), ('mart', 9609), ('exempt', 9610), ('kx', 9611), ('disc', 9612), ('manifesting', 9613), ('evar', 9614), ('eva', 9615), ('napkin', 9616), ('reusable', 9617), ('glitch', 9618), ('javascript', 9619), ('walia', 9620), ('tarun', 9621), ('twiggy', 9622), ('holder', 9623), ('easel', 9624), ('heathen', 9625), ('frankie', 9626), ('yk', 9627), ('aston', 9628), ('villa', 9629), ('norwich', 9630), ('playe', 9631), ('phew', 9632), ('empathise', 9633), ('uninterested', 9634), ('leopard', 9635), ('peacefulness', 9636), ('overnight', 9637), ('warhound', 9638), ('fieldi', 9639), ('burbank', 9640), ('metaphorically', 9641), ('foil', 9642), ('bobbin', 9643), ('bulls', 9644), ('unleash', 9645), ('fromthe', 9646), ('jeal', 9647), ('absolutly', 9648), ('flourishing', 9649), ('nowher', 9650), ('kuribayashi', 9651), ('gassed', 9652), ('symbolic', 9653), ('imaging', 9654), ('nylon', 9655), ('hachi', 9656), ('nobu', 9657), ('nana', 9658), ('churchy', 9659), ('cheesy', 9660), ('chopping', 9661), ('exhilarat', 9662), ('prevention', 9663), ('strict', 9664), ('bangor', 9665), ('lightbody', 9666), ('niba', 9667), ('bodyguard', 9668), ('contamination', 9669), ('xs', 9670), ('ubuntu', 9671), ('becoz', 9672), ('pocketbook', 9673), ('snowglobe', 9674), ('jill', 9675), ('glumness', 9676), ('elsewher', 9677), ('walker', 9678), ('disappearance', 9679), ('accommodation', 9680), ('metre', 9681), ('polanski', 9682), ('vey', 9683), ('oncology', 9684), ('dpt', 9685), ('paranoiud', 9686), ('westerner', 9687), ('antipasti', 9688), ('mozzarella', 9689), ('proscuito', 9690), ('contentedly', 9691), ('figt', 9692), ('recycled', 9693), ('grudge', 9694), ('deduce', 9695), ('eighth', 9696), ('vegas', 9697), ('unloving', 9698), ('millionth', 9699), ('swap', 9700), ('gorge', 9701), ('disgustingly', 9702), ('arialblue', 9703), ('tbr', 9704), ('rattlesnake', 9705), ('newness', 9706), ('masochistically', 9707), ('inadequacie', 9708), ('eurosceptic', 9709), ('handling', 9710), ('maastricht', 9711), ('shamble', 9712), ('granting', 9713), ('aussy', 9714), ('apprehension', 9715), ('macendarfer', 9716), ('undiscovered', 9717), ('ordain', 9718), ('rebuil', 9719), ('wakeup', 9720), ('manicure', 9721), ('unibrow', 9722), ('federation', 9723), ('dispense', 9724), ('contracept', 9725), ('oooh', 9726), ('endorsed', 9727), ('litter', 9728), ('nevil', 9729), ('absurdity', 9730), ('sneaker', 9731), ('werner', 9732), ('intensive', 9733), ('zackmdavi', 9734), ('makeover', 9735), ('cosplay', 9736), ('goons', 9737), ('billion', 9738), ('damaging', 9739), ('naega', 9740), ('deo', 9741), ('apaya', 9742), ('hae', 9743), ('dasi', 9744), ('neol', 9745), ('chajeul', 9746), ('itge', 9747), ('sigani', 9748), ('heureulsurok', 9749), ('gaseumi', 9750), ('apawa', 9751), ('hanbeon', 9752), ('manirado', 9753), ('doedollil', 9754), ('suman', 9755), ('itdamyeon', 9756), ('gotong', 9757), ('ttawin', 9758), ('naegen', 9759), ('vulgar', 9760), ('gees', 9761), ('alumninium', 9762), ('stall', 9763), ('homophobia', 9764), ('rays', 9765), ('buffalo', 9766), ('lindo', 9767), ('receiver', 9768), ('steamy', 9769), ('angled', 9770), ('chin', 9771), ('manif', 9772), ('sssas', 9773), ('embed', 9774), ('exspress', 9775), ('appriciation', 9776), ('enliven', 9777), ('venerate', 9778), ('malaysia', 9779), ('marybeth', 9780), ('isabella', 9781), ('sparkling', 9782), ('undoubtedly', 9783), ('winemaker', 9784), ('nuisance', 9785), ('fizzy', 9786), ('duckie', 9787), ('commie', 9788), ('fed', 9789), ('exhibitionism', 9790), ('newrhinegargoyle', 9791), ('affirmed', 9792), ('sensuous', 9793), ('ninth', 9794), ('pri', 9795), ('logistic', 9796), ('cinematic', 9797), ('intrusion', 9798), ('misrepresented', 9799), ('retro', 9800), ('lender', 9801), ('augu', 9802), ('graced', 9803), ('wart', 9804), ('worm', 9805), ('grayish', 9806), ('alexis', 9807), ('lll', 9808), ('flashlight', 9809), ('asher', 9810), ('astonished', 9811), ('goldembroidere', 9812), ('satin', 9813), ('breeches', 9814), ('jabot', 9815), ('eighteenth', 9816), ('mistrustful', 9817), ('breather', 9818), ('drunken', 9819), ('diana', 9820), ('avidly', 9821), ('lve', 9822), ('osp', 9823), ('rand', 9824), ('likewise', 9825), ('abbigail', 9826), ('apraxia', 9827), ('americas', 9828), ('broodiness', 9829), ('aww', 9830), ('geography', 9831), ('expend', 9832), ('conscientious', 9833), ('acuity', 9834), ('weekday', 9835), ('infp', 9836), ('beyonc', 9837), ('khi', 9838), ('rephrase', 9839), ('acclimated', 9840), ('zem', 9841), ('incision', 9842), ('unrewarding', 9843), ('pensive', 9844), ('warming', 9845), ('correctness', 9846), ('splutter', 9847), ('taiko', 9848), ('sooooooooper', 9849), ('encapsulate', 9850), ('energise', 9851), ('dubstep', 9852), ('opa', 9853), ('countryside', 9854), ('postcard', 9855), ('speculate', 9856), ('chryselius', 9857), ('pennington', 9858), ('cuss', 9859), ('tinsel', 9860), ('headband', 9861), ('brooch', 9862), ('irrevocably', 9863), ('pointlessness', 9864), ('pelvic', 9865), ('katja', 9866), ('disallusioned', 9867), ('jalapeno', 9868), ('jive', 9869), ('inter', 9870), ('generational', 9871), ('pistil', 9872), ('manliness', 9873), ('daughtersinlaw', 9874), ('guar', 9875), ('relegate', 9876), ('overwhleming', 9877), ('completley', 9878), ('obsess', 9879), ('wean', 9880), ('unamerican', 9881), ('innovative', 9882), ('lister', 9883), ('uhm', 9884), ('pulpit', 9885), ('efficacy', 9886), ('preaching', 9887), ('terrorise', 9888), ('igle', 9889), ('inquisition', 9890), ('subspace', 9891), ('infamous', 9892), ('bonk', 9893), ('bulldog', 9894), ('minut', 9895), ('remainder', 9896), ('sneeze', 9897), ('manic', 9898), ('glu', 9899), ('frenh', 9900), ('dontt', 9901), ('hapiness', 9902), ('newcastle', 9903), ('relegation', 9904), ('troubl', 9905), ('imperfection', 9906), ('cumbersome', 9907), ('additionally', 9908), ('healey', 9909), ('rival', 9910), ('cacaphon', 9911), ('crunchy', 9912), ('creativecommon', 9913), ('adrift', 9914), ('euphermal', 9915), ('jasper', 9916), ('figu', 9917), ('carpenter', 9918), ('robins', 9919), ('imbicilic', 9920), ('cagey', 9921), ('fundamental', 9922), ('garmin', 9923), ('tdy', 9924), ('suckere', 9925), ('siri', 9926), ('chastise', 9927), ('behaving', 9928), ('canaglia', 9929), ('sailo', 9930), ('getting', 9931), ('advancement', 9932), ('orderly', 9933), ('procession', 9934), ('valentines', 9935), ('ply', 9936), ('tweedy', 9937), ('rowan', 9938), ('shawl', 9939), ('renault', 9940), ('dishwasher', 9941), ('grossly', 9942), ('veery', 9943), ('contend', 9944), ('morality', 9945), ('marlin', 9946), ('pubicly', 9947), ('caste', 9948), ('mogul', 9949), ('rattled', 9950), ('gambler', 9951), ('browser', 9952), ('voyeur', 9953), ('cantankerous', 9954), ('marijuana', 9955), ('peculiarly', 9956), ('toda', 9957), ('dolphin', 9958), ('cincinnati', 9959), ('overtime', 9960), ('birthmom', 9961), ('flora', 9962), ('wer', 9963), ('inactivity', 9964), ('indifferen', 9965), ('bmw', 9966), ('interce', 9967), ('athleticism', 9968), ('mun', 9969), ('sacrament', 9970), ('chink', 9971), ('fangirl', 9972), ('lola', 9973), ('demographic', 9974), ('blubber', 9975), ('sterne', 9976), ('bestfriend', 9977), ('bff', 9978), ('meek', 9979), ('archeological', 9980), ('gone', 9981), ('trope', 9982), ('endgame', 9983), ('pail', 9984), ('thang', 9985), ('blacken', 9986), ('cathy', 9987), ('ptk', 9988), ('establishm', 9989), ('copycat', 9990), ('manipulkate', 9991), ('dallas', 9992), ('tony', 9993), ('employman', 9994), ('distribute', 9995), ('patr', 9996), ('recourse', 9997), ('cabeal', 9998), ('stati', 9999), ('colic', 10000), ('justanswer', 10001), ('welfa', 10002), ('palate', 10003), ('messianic', 10004), ('lrdg', 10005), ('patrol', 10006), ('travelling', 10007), ('jasmine', 10008), ('teapot', 10009), ('pretzel', 10010), ('smelly', 10011), ('jalopy', 10012), ('bust', 10013), ('generalization', 10014), ('solver', 10015), ('ths', 10016), ('melodious', 10017), ('foundry', 10018), ('wherewithal', 10019), ('desp', 10020), ('sundae', 10021), ('laetshi', 10022), ('wendy', 10023), ('alexa', 10024), ('teachable', 10025), ('tiphany', 10026), ('mccready', 10027), ('mollusk', 10028), ('appoint', 10029), ('revulsion', 10030), ('inkling', 10031), ('aimless', 10032), ('canal', 10033), ('residue', 10034), ('brownish', 10035), ('tint', 10036), ('leonard', 10037), ('adrian', 10038), ('vermont', 10039), ('miraculous', 10040), ('joseph', 10041), ('ascension', 10042), ('incapacitate', 10043), ('flaring', 10044), ('harvest', 10045), ('damp', 10046), ('alli', 10047), ('whitleys', 10048), ('percentage', 10049), ('colbert', 10050), ('incestuous', 10051), ('twoyear', 10052), ('abhorrent', 10053), ('pram', 10054), ('redcoat', 10055), ('ripe', 10056), ('carolina', 10057), ('bezos', 10058), ('bigotry', 10059), ('toni', 10060), ('ight', 10061), ('merican', 10062), ('lucien', 10063), ('flailing', 10064), ('letdown', 10065), ('abundance', 10066), ('blundering', 10067), ('viste', 10068), ('hierarchy', 10069), ('thrille', 10070), ('burford', 10071), ('superintend', 10072), ('aplin', 10073), ('lon', 10074), ('overrrrrrrrrrrr', 10075), ('kindest', 10076), ('prohibition', 10077), ('muffle', 10078), ('welcoming', 10079), ('competitive', 10080), ('nevermind', 10081), ('regional', 10082), ('neal', 10083), ('1989', 10084), ('libel', 10085), ('proceeding', 10086), ('privy', 10087), ('37574', 10088), ('xango', 10089), ('lik', 10090), ('missgiving', 10091), ('snuffle', 10092), ('goad', 10093), ('volvo', 10094), ('unsimilar', 10095), ('waddle', 10096), ('outrageous', 10097), ('transgend', 10098), ('brainwashing', 10099), ('intersex', 10100), ('maturestudenthanginginthere', 10101), ('ratty', 10102), ('indy', 10103), ('croissant', 10104), ('sistah', 10105), ('clot', 10106), ('collaborative', 10107), ('artistry', 10108), ('mettaful', 10109), ('enthralled', 10110), ('abba', 10111), ('lefty', 10112), ('propaganda', 10113), ('heeled', 10114), ('brass', 10115), ('zoo', 10116), ('correction', 10117), ('prompting', 10118), ('butchery', 10119), ('draught', 10120), ('loui', 10121), ('grotesque', 10122), ('zine', 10123), ('leonora', 10124), ('penry', 10125), ('vaughan', 10126), ('careeeeee', 10127), ('fixing', 10128), ('cathing', 10129), ('liable', 10130), ('distributor', 10131), ('genia', 10132), ('nvm', 10133), ('newton', 10134), ('panther', 10135), ('cucumber', 10136), ('cro', 10137), ('belmont', 10138), ('strait', 10139), ('beluga', 10140), ('ecker', 10141), ('brag', 10142), ('disband', 10143), ('server', 10144), ('jest', 10145), ('walrus', 10146), ('lambrusco', 10147), ('bubbly', 10148), ('hobica', 10149), ('sneakily', 10150), ('prance', 10151), ('eartha', 10152), ('kitt', 10153), ('blare', 10154), ('monkey', 10155), ('pooley', 10156), ('emp', 10157), ('ron', 10158), ('extremley', 10159), ('palcebowhore', 10160), ('mg', 10161), ('seroquel', 10162), ('boast', 10163), ('prowl', 10164), ('inhaler', 10165), ('md', 10166), ('ciaran', 10167), ('oozing', 10168), ('dharma', 10169), ('mucus', 10170), ('refine', 10171), ('reed', 10172), ('clich', 10173), ('mat', 10174), ('anyhow', 10175), ('circuit', 10176), ('inaugural', 10177), ('deceased', 10178), ('providence', 10179), ('biz', 10180), ('prevalent', 10181), ('unreality', 10182), ('shroud', 10183), ('wage', 10184), ('bogart', 10185), ('projection', 10186), ('repression', 10187), ('neglected', 10188), ('undeservedly', 10189), ('jreyez', 10190), ('underlying', 10191), ('alway', 10192), ('elusively', 10193), ('tally', 10194), ('cocktail', 10195), ('confide', 10196), ('writin', 10197), ('gs', 10198), ('fume', 10199), ('heidi', 10200), ('thorough', 10201), ('marten', 10202), ('blunder', 10203), ('crestfalle', 10204), ('orgasmic', 10205), ('oakland', 10206), ('ditlevsen', 10207), ('apocalypse', 10208), ('vibrator', 10209), ('dildo', 10210), ('begging', 10211), ('badger', 10212), ('arse', 10213), ('caba', 10214), ('solvent', 10215), ('abus', 10216), ('thinker', 10217), ('hunch', 10218), ('lightsync', 10219), ('aluminum', 10220), ('climber', 10221), ('irongrey', 10222), ('personalize', 10223), ('certificate', 10224), ('ama', 10225), ('eagles', 10226), ('awesomeness', 10227), ('akward', 10228), ('flail', 10229), ('arrangment', 10230), ('dkang', 10231), ('miff', 10232), ('membership', 10233), ('delig', 10234), ('harshness', 10235), ('relentlessness', 10236), ('stony', 10237), ('nutritional', 10238), ('substantially', 10239), ('invocation', 10240), ('omangy', 10241), ('avant', 10242), ('garde', 10243), ('terbutaline', 10244), ('drank', 10245), ('haverford', 10246), ('shire', 10247), ('revising', 10248), ('bs', 10249), ('flunk', 10250), ('andintrupte', 10251), ('trad', 10252), ('bagan', 10253), ('graying', 10254), ('offender', 10255), ('indigestion', 10256), ('curveball', 10257), ('carbohydrate', 10258), ('waistline', 10259), ('reincarnation', 10260), ('jumpy', 10261), ('breathi', 10262), ('mommys', 10263), ('subscription', 10264), ('merchant', 10265), ('reassess', 10266), ('obligatory', 10267), ('dicken', 10268), ('foodie', 10269), ('bryangregorylewis', 10270), ('younger', 10271), ('peo', 10272), ('straddle', 10273), ('articulacy', 10274), ('incoherence', 10275), ('deploy', 10276), ('sce', 10277), ('infantry', 10278), ('motorbike', 10279), ('grounded', 10280), ('gratuitously', 10281), ('nesty', 10282), ('weeny', 10283), ('carniola', 10284), ('kirkwood', 10285), ('decisive', 10286), ('winne', 10287), ('cathartic', 10288), ('mychem', 10289), ('verrrrrrrryyyy', 10290), ('ntoward', 10291), ('exicte', 10292), ('impair', 10293), ('whee', 10294), ('unreal', 10295), ('wodehousian', 10296), ('nam', 10297), ('originality', 10298), ('conformity', 10299), ('consternation', 10300), ('westminst', 10301), ('nigh', 10302), ('cleat', 10303), ('landmass', 10304), ('creamy', 10305), ('cheesecake', 10306), ('trample', 10307), ('roberto', 10308), ('orcis', 10309), ('adoration', 10310), ('dubya', 10311), ('pampered', 10312), ('orci', 10313), ('atlantic', 10314), ('toast', 10315), ('stylesheet', 10316), ('jdelivery', 10317), ('embaresse', 10318), ('weightless', 10319), ('lovebox', 10320), ('upgrade', 10321), ('raising', 10322), ('flashy', 10323), ('adversary', 10324), ('debbie', 10325), ('genetice', 10326), ('commercialism', 10327), ('poorly', 10328), ('poignantly', 10329), ('firefighter', 10330), ('taxation', 10331), ('riotousrambling', 10332), ('effectual', 10333), ('asami', 10334), ('botanical', 10335), ('tor', 10336), ('turbulently', 10337), ('directionless', 10338), ('dean', 10339), ('mongoose', 10340), ('breeder', 10341), ('caledonia', 10342), ('animosity', 10343), ('blogpost', 10344), ('lipbalm', 10345), ('subje', 10346), ('bayou', 10347), ('cypress', 10348), ('wildlife', 10349), ('prematurely', 10350), ('fortunately', 10351), ('emilyhursh', 10352), ('heading', 10353), ('sailing', 10354), ('beachbody', 10355), ('objectively', 10356), ('transient', 10357), ('estate', 10358), ('kardashians', 10359), ('roseanne', 10360), ('bilberrypicker', 10361), ('ecology', 10362), ('leapor', 10363), ('freemantl', 10364), ('ribcage', 10365), ('yoke', 10366), ('thump', 10367), ('diligently', 10368), ('miraculously', 10369), ('conquer', 10370), ('bleh', 10371), ('seminar', 10372), ('robotic', 10373), ('undertone', 10374), ('convo', 10375), ('liberation', 10376), ('payoff', 10377), ('ralemberg', 10378), ('indiscriminately', 10379), ('nini', 10380), ('coupon', 10381), ('comfident', 10382), ('radiologist', 10383), ('protocol', 10384), ('unavoidably', 10385), ('restraint', 10386), ('pa', 10387), ('barista', 10388), ('hyundai', 10389), ('tucson', 10390), ('ribbon', 10391), ('acco', 10392), ('nahariya', 10393), ('distrust', 10394), ('nonabolitionist', 10395), ('spectrum', 10396), ('priso', 10397), ('formulate', 10398), ('clarinet', 10399), ('spurge', 10400), ('niggling', 10401), ('continuer', 10402), ('bathsheba', 10403), ('shapeshifter', 10404), ('jerald', 10405), ('vegitarianism', 10406), ('elevation', 10407), ('superfluous', 10408), ('jenn', 10409), ('divide', 10410), ('housing', 10411), ('laundering', 10412), ('aslef', 10413), ('disp', 10414), ('claus', 10415), ('loot', 10416), ('interminable', 10417), ('lapel', 10418), ('spectacle', 10419), ('itch', 10420), ('waaay', 10421), ('childishly', 10422), ('remai', 10423), ('federer', 10424), ('slog', 10425), ('hepzibah', 10426), ('carrie', 10427), ('genealogical', 10428), ('mormonism', 10429), ('krakauer', 10430), ('oyyy', 10431), ('noh', 10432), ('gyp', 10433), ('frisky', 10434), ('engaged', 10435), ('rhythmic', 10436), ('earley', 10437), ('dela', 10438), ('altar', 10439), ('eucharist', 10440), ('outstretc', 10441), ('demoralized', 10442), ('dewi', 10443), ('lestari', 10444), ('impromptu', 10445), ('partne', 10446), ('pinched', 10447), ('shandur', 10448), ('polo', 10449), ('gunna', 10450), ('rylin', 10451), ('paddington', 10452), ('liste', 10453), ('unforgive', 10454), ('willie', 10455), ('morgan', 10456), ('terminate', 10457), ('lucrative', 10458), ('jurys', 10459), ('ribtickle', 10460), ('loosen', 10461), ('restrict', 10462), ('verbalize', 10463), ('sinfully', 10464), ('callous', 10465), ('unfaithful', 10466), ('gutted', 10467), ('shamelessly', 10468), ('spilt', 10469), ('assortment', 10470), ('kame', 10471), ('chasm', 10472), ('aggie', 10473), ('dung', 10474), ('hobnail', 10475), ('antm', 10476), ('martina', 10477), ('bark', 10478), ('rosie', 10479), ('pap', 10480), ('sendi', 10481), ('uninteresting', 10482), ('gw', 10483), ('vineman', 10484), ('racin', 10485), ('aiw', 10486), ('phantomwise', 10487), ('lowdown', 10488), ('expertise', 10489), ('corporation', 10490), ('melee', 10491), ('dps', 10492), ('diss', 10493), ('fug', 10494), ('recount', 10495), ('spectra', 10496), ('gfb', 10497), ('finale', 10498), ('indignantly', 10499), ('annotate', 10500), ('recei', 10501), ('fatherly', 10502), ('inste', 10503), ('figurative', 10504), ('incursion', 10505), ('celt', 10506), ('inspi', 10507), ('cyst', 10508), ('sodden', 10509), ('sardonic', 10510), ('squat', 10511), ('manageable', 10512), ('khezef', 10513), ('blouse', 10514), ('spike', 10515), ('tearfully', 10516), ('simulation', 10517), ('midwifery', 10518), ('dwindle', 10519), ('bunnysuit', 10520), ('frequent', 10521), ('poster', 10522), ('demostrator', 10523), ('prescribe', 10524), ('antidepressant', 10525), ('everywher', 10526), ('prosecution', 10527), ('monger', 10528), ('elashis', 10529), ('noor', 10530), ('exwife', 10531), ('divo', 10532), ('helpline', 10533), ('marvin', 10534), ('planting', 10535), ('itsy', 10536), ('bitsy', 10537), ('vogue', 10538), ('supplement', 10539), ('liteheaded', 10540), ('laser', 10541), ('perserverence', 10542), ('woodstock', 10543), ('carryout', 10544), ('kangna', 10545), ('ranaut', 10546), ('blackwell', 10547), ('exp', 10548), ('katherine', 10549), ('auburn', 10550), ('clung', 10551), ('scalp', 10552), ('freckle', 10553), ('tigh', 10554), ('brendon', 10555), ('thinly', 10556), ('lime', 10557), ('lauper', 10558), ('scratcheverythe', 10559), ('sermon', 10560), ('mcraven', 10561), ('ut', 10562), ('wilcfry', 10563), ('unkempt', 10564), ('dealer', 10565), ('philter', 10566), ('paaker', 10567), ('overlap', 10568), ('obvi', 10569), ('prob', 10570), ('reproduce', 10571), ('motorway', 10572), ('lachlan', 10573), ('macleans', 10574), ('immoral', 10575), ('morali', 10576), ('dunstable', 10577), ('trialle', 10578), ('parlor', 10579), ('stumped', 10580), ('submarine', 10581), ('cartwheel', 10582), ('overconfident', 10583), ('doisneau', 10584), ('birdlike', 10585), ('mischievous', 10586), ('horsey', 10587), ('fetish', 10588), ('painstakingly', 10589), ('rigorous', 10590), ('ingenious', 10591), ('sonipro', 10592), ('geekparty', 10593), ('linkedin', 10594), ('mda', 10595), ('telethon', 10596), ('unsheathe', 10597), ('darren', 10598), ('handedly', 10599), ('embarra', 10600), ('reel', 10601), ('carnivore', 10602), ('mellon', 10603), ('collie', 10604), ('pai', 10605), ('countr', 10606), ('provisio', 10607), ('truley', 10608), ('snooty', 10609), ('gauche', 10610), ('alabama', 10611), ('disperse', 10612), ('fragmented', 10613), ('gabriella', 10614), ('19th', 10615), ('laban', 10616), ('malthouse', 10617), ('ffviii', 10618), ('wonka', 10619), ('faceplate', 10620), ('downtime', 10621), ('normalized', 10622), ('oblivion', 10623), ('dummy', 10624), ('pariah', 10625), ('loom', 10626), ('disagreeable', 10627), ('bellingham', 10628), ('vale', 10629), ('bargain', 10630), ('nakedness', 10631), ('drawn', 10632), ('registration', 10633), ('uneventful', 10634), ('heartrende', 10635), ('escort', 10636), ('comfor', 10637), ('noticable', 10638), ('dink', 10639), ('prettymuch', 10640), ('acronym', 10641), ('bachelor', 10642), ('unrealistically', 10643), ('legitemately', 10644), ('reexplain', 10645), ('ridicule', 10646), ('kardashion', 10647), ('automation', 10648), ('memset', 10649), ('steroid', 10650), ('ewan', 10651), ('nfl', 10652), ('concise', 10653), ('broomfield', 10654), ('gucci', 10655), ('mane', 10656), ('lp', 10657), ('primetime', 10658), ('murderer', 10659), ('gona', 10660), ('decribe', 10661), ('buffy', 10662), ('pan', 10663), ('youboat', 10664), ('mousekin', 10665), ('quixote', 10666), ('windmill', 10667), ('unused', 10668), ('plateaus', 10669), ('splendor', 10670), ('hansen', 10671), ('cha', 10672), ('ching', 10673), ('cite', 10674), ('scarce', 10675), ('afrade', 10676), ('invert', 10677), ('suspension', 10678), ('paramilitary', 10679), ('insanely', 10680), ('butttt', 10681), ('semuanya', 10682), ('sudah', 10683), ('terlambat', 10684), ('copland', 10685), ('fanfare', 10686), ('stripping', 10687), ('rights', 10688), ('inexcusable', 10689), ('bestial', 10690), ('macho', 10691), ('attire', 10692), ('attainable', 10693), ('wth', 10694), ('torward', 10695), ('nonexistence', 10696), ('negatively', 10697), ('dentis', 10698), ('grandeur', 10699), ('reasoning', 10700), ('backfire', 10701), ('solondz', 10702), ('jerome', 10703), ('laurel', 10704), ('bg', 10705), ('jumbleupon', 10706), ('fitch', 10707), ('overthink', 10708), ('downtempo', 10709), ('majesty', 10710), ('windsor', 10711), ('1992', 10712), ('annus', 10713), ('horribilis', 10714), ('thepage', 10715), ('concentric', 10716), ('brot', 10717), ('satiate', 10718), ('acute', 10719), ('targeted', 10720), ('murt', 10721), ('saloon', 10722), ('particulary', 10723), ('olden', 10724), ('sarawak', 10725), ('jugra', 10726), ('somthing', 10727), ('pear', 10728), ('blueberry', 10729), ('mil', 10730), ('charitable', 10731), ('andover', 10732), ('sodding', 10733), ('canteen', 10734), ('beacuse', 10735), ('database', 10736), ('gertrude', 10737), ('maschke', 10738), ('scanning', 10739), ('leeds', 10740), ('199394', 10741), ('adorn', 10742), ('wren', 10743), ('lun', 10744), ('misinform', 10745), ('tangent', 10746), ('mitchum', 10747), ('forefront', 10748), ('ou', 10749), ('approximate', 10750), ('jurer', 10751), ('clara', 10752), ('dpns', 10753), ('diwali', 10754), ('replenish', 10755), ('ashe', 10756), ('policeman', 10757), ('weed', 10758), ('edith', 10759), ('alre', 10760), ('zjs', 10761), ('bai', 10762), ('convincing', 10763), ('malign', 10764), ('inthewarmholdofyourlovingmind', 10765), ('truc', 10766), ('suicidal', 10767), ('cheele', 10768), ('gabrielerne', 10769), ('dharavi', 10770), ('turnover', 10771), ('ir', 10772), ('frayed', 10773), ('gracia', 10774), ('por', 10775), ('todo', 10776), ('kickoff', 10777), ('weightloss', 10778), ('sorro', 10779), ('roundabout', 10780), ('handrail', 10781), ('basement', 10782), ('scribble', 10783), ('rampant', 10784), ('playwright', 10785), ('reid', 10786), ('imdoe', 10787), ('1878', 10788), ('greenock', 10789), ('langu', 10790), ('prizecompetition', 10791), ('malmesbury', 10792), ('wiltsh', 10793), ('hypothermia', 10794), ('balmy', 10795), ('dinn', 10796), ('attic', 10797), ('abelard', 10798), ('radiator', 10799), ('gulity', 10800), ('babysitte', 10801), ('disbelief', 10802), ('kiyoshi', 10803), ('wading', 10804), ('gui', 10805), ('rowing', 10806), ('karapiro', 10807), ('regatta', 10808), ('latex', 10809), ('hungover', 10810), ('semifina', 10811), ('laze', 10812), ('lied', 10813), ('menatar', 10814), ('outsid', 10815), ('cru', 10816), ('managment', 10817), ('gould', 10818), ('ornithological', 10819), ('natu', 10820), ('eaten', 10821), ('exfoliate', 10822), ('forsaken', 10823), ('spurs', 10824), ('spectre', 10825), ('politici', 10826), ('benson', 10827), ('sheep', 10828), ('photographically', 10829), ('deffinately', 10830), ('sonogram', 10831), ('pc', 10832), ('smugly', 10833), ('textile', 10834), ('pork', 10835), ('loin', 10836), ('gallon', 10837), ('ziplock', 10838), ('marinade', 10839), ('detatche', 10840), ('shockingly', 10841), ('helping', 10842), ('refugee', 10843), ('unfurling', 10844), ('cocoa', 10845), ('flannel', 10846), ('nightie', 10847), ('rig', 10848), ('celeen', 10849), ('biannual', 10850), ('mammogram', 10851), ('chub', 10852), ('blogland', 10853), ('backpacking', 10854), ('organising', 10855), ('oxbow', 10856), ('preakness', 10857), ('feelbut', 10858), ('identifying', 10859), ('juggle', 10860), ('corabeth', 10861), ('wellbee', 10862), ('boom', 10863), ('1980s', 10864), ('westernstyle', 10865), ('recessio', 10866), ('forearm', 10867), ('plummer', 10868), ('alba', 10869), ('conversational', 10870), ('deader', 10871), ('outstretched', 10872), ('wisely', 10873), ('hahahahahha', 10874), ('unfounded', 10875), ('slumps', 10876), ('hamnett', 10877), ('allege', 10878), ('500', 10879), ('louder', 10880), ('noticeable', 10881), ('tribal', 10882), ('nighter', 10883), ('skimmable', 10884), ('womb', 10885), ('lungful', 10886), ('prolonged', 10887), ('assertion', 10888), ('ious', 10889), ('poop', 10890), ('extrememly', 10891), ('distrustful', 10892), ('swingset', 10893), ('curfew', 10894), ('treacherous', 10895), ('mason', 10896), ('longingly', 10897), ('probe', 10898), ('hardness', 10899), ('rebecque', 10900), ('migrate', 10901), ('witted', 10902), ('enought', 10903), ('predawn', 10904), ('coney', 10905), ('psychiatric', 10906), ('representation', 10907), ('describ', 10908), ('roam', 10909), ('antique', 10910), ('disposable', 10911), ('stove', 10912), ('manga', 10913), ('voldemort', 10914), ('unplanned', 10915), ('offhand', 10916), ('holistic', 10917), ('slugged', 10918), ('cutesy', 10919), ('agi', 10920), ('influential', 10921), ('undeservingly', 10922), ('cascade', 10923), ('sexualy', 10924), ('humanbeing', 10925), ('petal', 10926), ('delhi', 10927), ('dissassociate', 10928), ('leaden', 10929), ('germ', 10930), ('silhouette', 10931), ('insyallah', 10932), ('overheat', 10933), ('auditorium', 10934), ('renaissance', 10935), ('baroque', 10936), ('pervert', 10937), ('dearly', 10938), ('outlandish', 10939), ('iced', 10940), ('coolness', 10941), ('moriartys', 10942), ('evilness', 10943), ('oral', 10944), ('bard', 10945), ('extract', 10946), ('notcied', 10947), ('eqafe', 10948), ('riku', 10949), ('flour', 10950), ('decompress', 10951), ('empowerment', 10952), ('alfred', 10953), ('molina', 10954), ('dimensional', 10955), ('caricature', 10956), ('ka', 10957), ('mushroom', 10958), ('roy', 10959), ('salutary', 10960), ('calming', 10961), ('skinful', 10962), ('whistling', 10963), ('swans', 10964), ('saba', 10965), ('waleed', 10966), ('plow', 10967), ('sanctum', 10968), ('burkie', 10969), ('cabbage', 10970), ('venison', 10971), ('pomegranate', 10972), ('oiliness', 10973), ('infidelity', 10974), ('sweety', 10975), ('savingyourmarriagebeforeitstart', 10976), ('yearned', 10977), ('deprivation', 10978), ('doodly', 10979), ('dorm', 10980), ('tgirl', 10981), ('todayyy', 10982), ('coeur', 10983), ('alene', 10984), ('nuts', 10985), ('sprinkling', 10986), ('jeweller', 10987), ('attracted', 10988), ('glowing', 10989), ('systemic', 10990), ('mishandling', 10991), ('understandably', 10992), ('steinbeck', 10993), ('pesticide', 10994), ('faite', 10995), ('imagi', 10996), ('dye', 10997), ('humping', 10998), ('unwisely', 10999), ('spooky', 11000), ('matin', 11001), ('stewarts', 11002), ('olivia', 11003), ('endlessly', 11004), ('morrison', 11005), ('liza', 11006), ('salisbury', 11007), ('plai', 11008), ('fiercly', 11009), ('completly', 11010), ('selfpity', 11011), ('foo', 11012), ('radiate', 11013), ('consultant', 11014), ('patronising', 11015), ('detract', 11016), ('mouthfeel', 11017), ('geocentric', 11018), ('rostrum', 11019), ('laughable', 11020), ('flattened', 11021), ('knowledgeable', 11022), ('peregrinos', 11023), ('understo', 11024), ('breastfeeding', 11025), ('aout', 11026), ('ivy', 11027), ('stature', 11028), ('jacque', 11029), ('dusty', 11030), ('oblivio', 11031), ('humiliating', 11032), ('guffaw', 11033), ('webmate', 11034), ('shubhi', 11035), ('feb', 11036), ('ny', 11037), ('infect', 11038), ('disea', 11039), ('rucksack', 11040), ('concealer', 11041), ('blissfully', 11042), ('cafeteria', 11043), ('euan', 11044), ('sidebar', 11045), ('thackerey', 11046), ('tina', 11047), ('reli', 11048), ('psssh', 11049), ('turned', 11050), ('nights', 11051), ('muffled', 11052), ('hideaki', 11053), ('forcefully', 11054), ('daiki', 11055), ('hanley', 11056), ('prison', 11057), ('zendikar', 11058), ('pout', 11059), ('carole', 11060), ('karaoke', 11061), ('details', 11062), ('tartan', 11063), ('soho', 11064), ('candlelit', 11065), ('dinne', 11066), ('insdie', 11067), ('telstra', 11068), ('confrontational', 11069), ('executive', 11070), ('stymie', 11071), ('unintended', 11072), ('blunt', 11073), ('rv', 11074), ('dinette', 11075), ('driveway', 11076), ('uninspiring', 11077), ('yunhos', 11078), ('rap', 11079), ('polyamorous', 11080), ('confirmation', 11081), ('sly', 11082), ('twas', 11083), ('bedside', 11084), ('asd', 11085), ('uggs', 11086), ('lightweight', 11087), ('zucchini', 11088), ('tart', 11089), ('cereal', 11090), ('teleporter', 11091), ('sync', 11092), ('itune', 11093), ('ff', 11094), ('engrain', 11095), ('conection', 11096), ('customize', 11097), ('primate', 11098), ('reduc', 11099), ('suppous', 11100), ('unheard', 11101), ('fleece', 11102), ('frombut', 11103), ('favorable', 11104), ('intuitive', 11105), ('wieght', 11106), ('laughin', 11107), ('happpy', 11108), ('evelyn', 11109), ('heed', 11110), ('acknowledgement', 11111), ('eddie', 11112), ('aa', 11113), ('leveled', 11114), ('moisture', 11115), ('sloan', 11116), ('apprecia', 11117), ('embarrase', 11118), ('evey', 11119), ('brood', 11120), ('reverend', 11121), ('prentice', 11122), ('detector', 11123), ('simkin', 11124), ('direspecte', 11125), ('excel', 11126), ('inspir', 11127), ('freelance', 11128), ('eepctqlhiafjwnrrmas', 11129), ('stingy', 11130), ('jahmene', 11131), ('elf', 11132), ('consequently', 11133), ('jonalyn', 11134), ('fincher', 11135), ('soulation', 11136), ('ruach', 11137), ('hakodesh', 11138), ('heron', 11139), ('gunslinger', 11140), ('headcold', 11141), ('fateh', 11142), ('synthwave', 11143), ('neds', 11144), ('atomic', 11145), ('dustbin', 11146), ('posy', 11147), ('pixie', 11148), ('springhouse', 11149), ('morrissey', 11150), ('petition', 11151), ('nesting', 11152), ('homemake', 11153), ('regulated', 11154), ('sustain', 11155), ('beeeeeeeeeeee', 11156), ('pentup', 11157), ('waggoner', 11158), ('avon', 11159), ('dt', 11160), ('moisturize', 11161), ('exboyfriend', 11162), ('midnight', 11163), ('convener', 11164), ('lesley', 11165), ('counterproductive', 11166), ('repor', 11167), ('parmesan', 11168), ('truffle', 11169), ('lollipop', 11170), ('expressio', 11171), ('ashi', 11172), ('unhappine', 11173), ('culturally', 11174), ('quivering', 11175), ('accelerate', 11176), ('abate', 11177), ('jeanpierr', 11178), ('totere', 11179), ('activist', 11180), ('whiz', 11181), ('catalyst', 11182), ('unspecified', 11183), ('equipment', 11184), ('blurry', 11185), ('congratulate', 11186), ('intro', 11187), ('fff', 11188), ('trebuchet', 11189), ('helvetica', 11190), ('bitstream', 11191), ('vera', 11192), ('rudimentary', 11193), ('wycombe', 11194), ('82ndminute', 11195), ('oneill', 11196), ('extratime', 11197), ('carping', 11198), ('flagellate', 11199), ('mixer', 11200), ('envision', 11201), ('clasheen', 11202), ('keepmeinstitchez', 11203), ('muay', 11204), ('poisoned', 11205), ('dianam', 11206), ('dunnno', 11207), ('instant', 11208), ('residence', 11209), ('pendleton', 11210), ('economically', 11211), ('babble', 11212), ('penguin', 11213), ('bullying', 11214), ('jakun', 11215), ('deepening', 11216), ('srcurl', 11217), ('draftbloger', 11218), ('envous', 11219), ('reserved', 11220), ('logo', 11221), ('adrasteius', 11222), ('eulalia', 11223), ('joanna', 11224), ('folklore', 11225), ('dobie', 11226), ('exorcise', 11227), ('beholder', 11228), ('diva', 11229), ('wrestler', 11230), ('hb', 11231), ('mmf', 11232), ('romanticise', 11233), ('castiel', 11234), ('cooler', 11235), ('stu', 11236), ('repertoire', 11237), ('distaste', 11238), ('wilt', 11239), ('rockstar', 11240), ('razzle', 11241), ('itttt', 11242), ('shimmy', 11243), ('ing', 11244), ('whitney', 11245), ('reprogramme', 11246), ('cluster', 11247), ('handsomefamily', 11248), ('eyebr', 11249), ('reliant', 11250), ('hasan', 11251), ('retiring', 11252), ('modest', 11253), ('schadenfreude', 11254), ('semblance', 11255), ('normality', 11256), ('armed', 11257), ('offspre', 11258), ('frickin', 11259), ('kat', 11260), ('denningss', 11261), ('piller', 11262), ('disharmony', 11263), ('calculated', 11264), ('dlpt', 11265), ('sadlovequotesforhim', 11266), ('cleo', 11267), ('suuuper', 11268), ('curry', 11269), ('catapult', 11270), ('forming', 11271), ('downvoted', 11272), ('rugmi', 11273), ('illustrator', 11274), ('chesley', 11275), ('afar', 11276), ('availability', 11277), ('snp', 11278), ('derbyshire', 11279), ('celexa', 11280), ('helmet', 11281), ('shaw', 11282), ('cleveland', 11283), ('veteran', 11284), ('50', 11285), ('chaste', 11286), ('contr', 11287), ('crake', 11288), ('arabia', 11289), ('indigenous', 11290), ('hyperchondria', 11291), ('exaggeration', 11292), ('scad', 11293), ('rabb', 11294), ('mold', 11295), ('independently', 11296), ('blackberry', 11297), ('pipkin', 11298), ('limp', 11299), ('brightness', 11300), ('dispel', 11301), ('eline', 11302), ('baltic', 11303), ('mp', 11304), ('jonny', 11305), ('moz', 11306), ('boarder', 11307), ('pilgrimage', 11308), ('dovercourt', 11309), ('makeshift', 11310), ('graveyard', 11311), ('impotence', 11312), ('ungodly', 11313), ('imagebox', 11314), ('whiff', 11315), ('suppport', 11316), ('misjudge', 11317), ('scotch', 11318), ('expedition', 11319), ('willfully', 11320), ('strap', 11321), ('survival', 11322), ('onwards', 11323), ('yawn', 11324), ('solomon', 11325), ('jimmys', 11326), ('stinkin', 11327), ('reviewer', 11328), ('dara', 11329), ('roshanara', 11330), ('upbringing', 11331), ('dissapeare', 11332), ('goldschlager', 11333), ('debra', 11334), ('woodston', 11335), ('kansas', 11336), ('assembly', 11337), ('velvet', 11338), ('sig', 11339), ('quilty', 11340), ('nik', 11341), ('inundate', 11342), ('ominous', 11343), ('susanna', 11344), ('wretched', 11345), ('forelorn', 11346), ('counteract', 11347), ('reclaim', 11348), ('balm', 11349), ('ricald', 11350), ('terminando', 11351), ('ano', 11352), ('depois', 11353), ('harassment', 11354), ('uncanny', 11355), ('breathless', 11356), ('ev', 11357), ('ssba', 11358), ('bacuse', 11359), ('passerby', 11360), ('accuser', 11361), ('gimme', 11362), ('discriminate', 11363), ('ruslan', 11364), ('fedotenko', 11365), ('copyright', 11366), ('violation', 11367), ('machiavellian', 11368), ('spoonful', 11369), ('catholics', 11370), ('workshop', 11371), ('elsewhe', 11372), ('livevideo', 11373), ('techfeel', 11374), ('uploads', 11375), ('hindi', 11376), ('contempt', 11377), ('fiddle', 11378), ('misfortune', 11379), ('befall', 11380), ('tribulation', 11381), ('unconsciousness', 11382), ('curiously', 11383), ('japan', 11384), ('simplify', 11385), ('bodmin', 11386), ('pgce', 11387), ('agonized', 11388), ('shiona', 11389), ('trembly', 11390), ('slogging', 11391), ('popcorn', 11392), ('pinot', 11393), ('gris', 11394), ('untilthenpleasant', 11395), ('stour', 11396), ('burde', 11397), ('strappy', 11398), ('ninew', 11399), ('squirm', 11400), ('vm', 11401), ('theatre', 11402), ('endorse', 11403), ('friggety', 11404), ('personnel', 11405), ('elise', 11406), ('deat', 11407), ('mockery', 11408), ('derive', 11409), ('discomf', 11410), ('loft', 11411), ('zal', 11412), ('75th', 11413), ('armenian', 11414), ('genocide', 11415), ('191523', 11416), ('tampon', 11417), ('firs', 11418), ('reground', 11419), ('phenomenal', 11420), ('linoleum', 11421), ('vbac', 11422), ('debacle', 11423), ('paulie', 11424), ('preppe', 11425), ('cammie', 11426), ('chuff', 11427), ('hallucination', 11428), ('hyun', 11429), ('joong', 11430), ('torn', 11431), ('affecti', 11432), ('vortex', 11433), ('gervase', 11434), ('anansi', 11435), ('downstair', 11436), ('destashe', 11437), ('imitate', 11438), ('camwhore', 11439), ('pudding', 11440), ('anotehr', 11441), ('hallmark', 11442), ('constrained', 11443), ('semipro', 11444), ('tamper', 11445), ('applaince', 11446), ('foment', 11447), ('teresa', 11448), ('lovecraft', 11449), ('mehow', 11450), ('infield', 11451), ('adsense', 11452), ('anthem', 11453), ('encouraged', 11454), ('bodypump', 11455), ('compulsory', 11456), ('cue', 11457), ('proporte', 11458), ('persist', 11459), ('henri', 11460), ('thirtieth', 11461), ('linesman', 11462), ('offside', 11463), ('hatch', 11464), ('holland', 11465), ('unsupervised', 11466), ('sucessfully', 11467), ('handbrake', 11468), ('ostler', 11469), ('tasteful', 11470), ('derange', 11471), ('helena', 11472), ('bonham', 11473), ('fingernail', 11474), ('mating', 11475), ('calculate', 11476), ('enriched', 11477), ('benefi', 11478), ('nigeria', 11479), ('elliptical', 11480), ('blackhaire', 11481), ('insid', 11482), ('touched', 11483), ('mousse', 11484), ('turnip', 11485), ('skilled', 11486), ('presentational', 11487), ('wilder', 11488), ('troop', 11489), ('akin', 11490), ('hitler', 11491), ('hooton', 11492), ('richar', 11493), ('implication', 11494), ('iolani', 11495), ('aoa', 11496), ('frightful', 11497), ('slimme', 11498), ('moulding', 11499), ('js', 11500), ('jilt', 11501), ('graeme', 11502), ('souness', 11503), ('touchline', 11504), ('bo', 11505), ('congest', 11506), ('everchange', 11507), ('sailormoon', 11508), ('gateway', 11509), ('restive', 11510), ('gawd', 11511), ('unconformable', 11512), ('scorer', 11513), ('20th', 11514), ('roo', 11515), ('forebode', 11516), ('ringing', 11517), ('surmise', 11518), ('travesty', 11519), ('zara', 11520), ('dumbass', 11521), ('rukia', 11522), ('tolonen', 11523), ('dykey', 11524), ('brick', 11525), ('looooong', 11526), ('tripper', 11527), ('isle', 11528), ('wight', 11529), ('penitential', 11530), ('goreng', 11531), ('tokuru', 11532), ('malai', 11533), ('navy', 11534), ('stupidly', 11535), ('wilderness', 11536), ('elegantly', 11537), ('dispos', 11538), ('shush', 11539), ('snarl', 11540), ('umpteenth', 11541), ('forefinger', 11542), ('turnout', 11543), ('bumper', 11544), ('elastic', 11545), ('grumpily', 11546), ('valued', 11547), ('vastly', 11548), ('colette', 11549), ('upse', 11550), ('innovation', 11551), ('veterinary', 11552), ('pollen', 11553), ('barometric', 11554), ('kilter', 11555), ('sporkgasm', 11556), ('justly', 11557), ('burgo', 11558), ('rendall', 11559), ('munroe', 11560), ('underestimate', 11561), ('coerced', 11562), ('yesubais', 11563), ('choc', 11564), ('bloc', 11565), ('pigeon', 11566), ('uninhabited', 11567), ('worst', 11568), ('crevice', 11569), ('courtyard', 11570), ('rainwet', 11571), ('pooped', 11572), ('artificially', 11573), ('distortion', 11574), ('bestselle', 11575), ('kathy', 11576), ('lette', 11577), ('woolton', 11578), ('chickie', 11579), ('vest', 11580), ('cellulite', 11581), ('magnitude', 11582), ('reassurance', 11583), ('emtyness', 11584), ('figured', 11585), ('platter', 11586), ('backstabber', 11587), ('accusation', 11588), ('gook', 11589), ('disco', 11590), ('overcompensate', 11591), ('laurent', 11592), ('patie', 11593), ('hatter', 11594), ('wherefore', 11595), ('ableness', 11596), ('dialect', 11597), ('humbugish', 11598), ('racket', 11599), ('decorating', 11600), ('hatchet', 11601), ('overanalyze', 11602), ('aircleaner', 11603), ('persom', 11604), ('wickdly', 11605), ('sti', 11606), ('toot', 11607), ('ringside', 11608), ('leather', 11609), ('nickey', 11610), ('sadistic', 11611), ('sane', 11612), ('mercilessly', 11613), ('abominable', 11614), ('vanquish', 11615), ('shifty', 11616), ('venom', 11617), ('unencumberedness', 11618), ('bop', 11619), ('antoinette', 11620), ('sxe', 11621), ('hourglass', 11622), ('halfroaste', 11623), ('trance', 11624), ('abjectly', 11625), ('tel', 11626), ('hearth', 11627), ('recklessly', 11628), ('alfie', 11629), ('paella', 11630), ('sangria', 11631), ('determinedly', 11632), ('brunch', 11633), ('waldo', 11634), ('flinch', 11635), ('mediterranean', 11636), ('mesh', 11637), ('nicholson', 11638), ('burp', 11639), ('midori', 11640), ('brighten', 11641), ('thaliad', 11642), ('inhumanity', 11643), ('duvet', 11644), ('preschooler', 11645), ('hyperemesis', 11646), ('hassle', 11647), ('curly', 11648), ('straighten', 11649), ('numbingly', 11650), ('vomity', 11651), ('sf', 11652), ('nanashi', 11653), ('disrespectful', 11654), ('hilly', 11655), ('befc', 11656), ('clam', 11657), ('hunter', 11658), ('angalo', 11659), ('torch', 11660), ('sketc', 11661), ('unfriendly', 11662), ('software', 11663), ('maury', 11664), ('opener', 11665), ('azul', 11666), ('ambience', 11667), ('yussuf', 11668), ('coldplay', 11669), ('suzannah', 11670), ('dwyer', 11671), ('24', 11672), ('bates', 11673), ('conferenc', 11674), ('ig', 11675), ('cartoonish', 11676), ('mansoor', 11677), ('structural', 11678), ('linguistic', 11679), ('deconstructionist', 11680), ('entertaining', 11681), ('gent', 11682), ('damper', 11683), ('intolerance', 11684), ('affronted', 11685), ('suffe', 11686), ('hersel', 11687), ('shahzad', 11688), ('ismaily', 11689), ('brach', 11690), ('chipmunk', 11691), ('victorian', 11692), ('niece', 11693), ('woah', 11694), ('rent', 11695), ('indie', 11696), ('videotape', 11697), ('coherent', 11698), ('pence', 11699), ('underappreciated', 11700), ('idiocy', 11701), ('fastforwarde', 11702), ('divinity', 11703), ('traditionalist', 11704), ('skeletal', 11705), ('derek', 11706), ('asciatic', 11707), ('ebloggy', 11708), ('sewage', 11709), ('diarrhoea', 11710), ('vocalize', 11711), ('dotty', 11712), ('bcoz', 11713), ('publicity', 11714), ('cutter', 11715), ('ronaldsay', 11716), ('unsuitable', 11717), ('faithsedge', 11718), ('incessantly', 11719), ('decre', 11720), ('dubie', 11721), ('canon', 11722), ('iii', 11723), ('holloway', 11724), ('wuss', 11725), ('hoarse', 11726), ('chuc', 11727), ('worsen', 11728), ('edc', 11729), ('noconscience', 11730), ('duno', 11731), ('mbourgon', 11732), ('mourner', 11733), ('linsay', 11734), ('likeguy', 11735), ('upheaval', 11736), ('tiring', 11737), ('pressurize', 11738), ('supplicate', 11739), ('albuquerque', 11740), ('pallid', 11741), ('bandage', 11742), ('vantage', 11743), ('bandaid', 11744), ('actress', 11745), ('plainly', 11746), ('admittance', 11747), ('goof', 11748), ('oiut', 11749), ('minibus', 11750), ('blogstalker', 11751), ('conifer', 11752), ('shovel', 11753), ('daunting', 11754), ('mallrat', 11755), ('desirable', 11756), ('treachery', 11757), ('tryin', 11758), ('gud', 11759), ('understad', 11760), ('abt', 11761), ('problemn', 11762), ('carin', 11763), ('tamar', 11764), ('overboard', 11765), ('sarcoidosis', 11766), ('socie', 11767), ('amped', 11768), ('assuage', 11769), ('compress', 11770), ('neatly', 11771), ('puter', 11772), ('beard', 11773), ('grocer', 11774), ('ap', 11775), ('pointy', 11776), ('ambleside', 11777), ('closed', 11778), ('homeland', 11779), ('navigate', 11780), ('perversion', 11781), ('esily', 11782), ('airritate', 11783), ('exposed', 11784), ('kinnock', 11785), ('iss', 11786), ('suburb', 11787), ('heimbuch', 11788), ('midwestern', 11789), ('manly', 11790), ('anaestheti', 11791), ('extensive', 11792), ('fraction', 11793), ('overtaken', 11794), ('greenery', 11795), ('adf', 11796), ('consecrate', 11797), ('embarassing', 11798), ('leaving', 11799), ('casting', 11800), ('brasse', 11801), ('washroom', 11802), ('ax', 11803), ('tounge', 11804), ('indide', 11805), ('snappy', 11806), ('depart', 11807), ('firearm', 11808), ('scheduler', 11809), ('repairman', 11810), ('parable', 11811), ('suppliers', 11812), ('lopez', 11813), ('competito', 11814), ('mopey', 11815), ('logarythmic', 11816), ('discontinue', 11817), ('integral', 11818), ('theif', 11819), ('hung', 11820), ('slung', 11821), ('embalm', 11822), ('badminton', 11823), ('etch', 11824), ('britt', 11825), ('ekland', 11826), ('diploma', 11827), ('delicately', 11828), ('caution', 11829), ('israeli', 11830), ('occupation', 11831), ('sinais', 11832), ('geographical', 11833), ('precipitant', 11834), ('clinically', 11835), ('paraphrase', 11836), ('roundly', 11837), ('ravage', 11838), ('heinous', 11839), ('proponent', 11840), ('renovation', 11841), ('mammoth', 11842), ('muze', 11843), ('mujhe', 11844), ('zay', 11845), ('zenos', 11846), ('specimen', 11847), ('glisten', 11848), ('accentuate', 11849), ('waitrose', 11850), ('trot', 11851), ('bqff', 11852), ('wt', 11853), ('txl', 11854), ('esteemed', 11855), ('ultralight', 11856), ('hmm', 11857), ('fertile', 11858), ('carby', 11859), ('glycemic', 11860), ('ren', 11861), ('stimpy', 11862), ('gemini', 11863), ('scorpio', 11864), ('xl', 11865), ('mens', 11866), ('stunningly', 11867), ('forego', 11868), ('futon', 11869), ('jhbdjhdfbjdfhbfd', 11870), ('grape', 11871), ('watermelon', 11872), ('mint', 11873), ('liqueur', 11874), ('rum', 11875), ('drambuie', 11876), ('dessen', 11877), ('gentrifie', 11878), ('ghetto', 11879), ('mend', 11880), ('litte', 11881), ('arrise', 11882), ('hopefull', 11883), ('guidebook', 11884), ('waiter', 11885), ('hardbroom', 11886), ('reprimand', 11887), ('excommunicate', 11888), ('landriani', 11889), ('conv', 11890), ('ollie', 11891), ('hockney', 11892), ('hgtv', 11893), ('illinois', 11894), ('mediate', 11895), ('isolating', 11896), ('nw', 11897), ('skinnie', 11898), ('accessary', 11899), ('egypt', 11900), ('derfwadmanor', 11901), ('birding', 11902), ('edible', 11903), ('garnish', 11904), ('samphire', 11905), ('firmness', 11906), ('confidently', 11907), ('tiananman', 11908), ('bland', 11909), ('peke', 11910), ('post1997', 11911), ('skipping', 11912), ('trepidation', 11913), ('vellas', 11914), ('waken', 11915), ('occupant', 11916), ('seemad', 11917), ('gan', 11918), ('suede', 11919), ('chadstone', 11920), ('tonite', 11921), ('accepting', 11922), ('finalist', 11923), ('ralf', 11924), ('pedlar', 11925), ('drawbridge', 11926), ('hahah', 11927), ('challenging', 11928), ('boredwithquinn', 11929), ('tenderness', 11930), ('sinclair', 11931), ('diagnose', 11932), ('disposition', 11933), ('adn', 11934), ('someobdy', 11935), ('biff', 11936), ('impoverished', 11937), ('congregate', 11938), ('rhinebeck', 11939), ('bias', 11940), ('themed', 11941), ('anthology', 11942), ('gothic', 11943), ('glossary', 11944), ('spacey', 11945), ('pony', 11946), ('swath', 11947), ('aubrey', 11948), ('baptism', 11949), ('twosong', 11950), ('midcentury', 11951), ('dresser', 11952), ('frilly', 11953), ('bloomer', 11954), ('babydoll', 11955), ('arab', 11956), ('manufacturing', 11957), ('marcher', 11958), ('hoot', 11959), ('padlock', 11960), ('tabby', 11961), ('creek', 11962), ('meadow', 11963), ('hilariously', 11964), ('atari', 11965), ('assimilate', 11966), ('passer', 11967), ('pepper', 11968), ('zico', 11969), ('rebekah', 11970), ('satisfactory', 11971), ('klaus', 11972), ('stefan', 11973), ('damon', 11974), ('serendipity', 11975), ('collide', 11976), ('belt', 11977), ('dojo', 11978), ('feelingless', 11979), ('corey', 11980), ('openness', 11981), ('enchant', 11982), ('shoplift', 11983), ('gummy', 11984), ('kook', 11985), ('ome', 11986), ('tremayne', 11987), ('gratificat', 11988), ('bishop', 11989), ('picoult', 11990), ('ayumi', 11991), ('dolly', 11992), ('luce', 11993), ('hote', 11994), ('baton', 11995), ('drastic', 11996), ('flickr', 11997), ('ablo', 11998), ('geremiafamily', 11999), ('brilliance', 12000), ('blo', 12001), ('vuitton', 12002), ('lv', 12003), ('recede', 12004), ('talentless', 12005), ('graze', 12006), ('imporant', 12007), ('grandiosely', 12008), ('grievance', 12009), ('capp', 12010), ('acuman', 12011), ('gandhigiri', 12012), ('munnabhai', 12013), ('inescapable', 12014), ('hindu', 12015), ('monarch', 12016), ('geographically', 12017), ('oiler', 12018), ('fightstar', 12019), ('catchy', 12020), ('fantastically', 12021), ('gmc', 12022), ('denali', 12023), ('conquering', 12024), ('oprah', 12025), ('democrats', 12026), ('cooke', 12027), ('remand', 12028), ('smother', 12029), ('copiousl', 12030), ('indifferent', 12031), ('incen', 12032), ('pitman', 12033), ('anim', 12034), ('cracked', 12035), ('cgi', 12036), ('varsity', 12037), ('spat', 12038), ('lighter', 12039), ('ragged', 12040), ('chivalry', 12041), ('magnanimity', 12042), ('exceed', 12043), ('fleet', 12044), ('gland', 12045), ('swollen', 12046), ('softness', 12047), ('mansell', 12048), ('trou', 12049), ('40th', 12050), ('incommunicado', 12051), ('badplaydate', 12052), ('hood', 12053), ('detroit', 12054), ('specialized', 12055), ('abruptly', 12056), ('eurodancemix', 12057), ('afrad', 12058), ('detach', 12059), ('remodeled', 12060), ('amenity', 12061), ('sloppy', 12062), ('lyman', 12063), ('playroom', 12064), ('bombsite', 12065), ('conservatory', 12066), ('weismans', 12067), ('uv', 12068), ('gr', 12069), ('lisas', 12070), ('caan', 12071), ('convolute', 12072), ('skdd', 12073), ('desendant', 12074), ('monica', 12075), ('tween', 12076), ('moms', 12077), ('snorkeling', 12078), ('lotta', 12079), ('horrific', 12080), ('sitting', 12081), ('adolescence', 12082), ('gloominess', 12083), ('warmhearte', 12084), ('nannye', 12085), ('snark', 12086), ('misquote', 12087), ('itinerant', 12088), ('kao', 12089), ('fractured', 12090), ('mack', 12091), ('lunchroom', 12092), ('antidote', 12093), ('americana', 12094), ('bernd', 12095), ('sportsbook', 12096), ('warp', 12097), ('islander', 12098), ('neighbo', 12099), ('handss', 12100), ('aahhh', 12101), ('tremor', 12102), ('timmy', 12103), ('ytear', 12104), ('justwhen', 12105), ('futrue', 12106), ('timesa', 12107), ('efeele', 12108), ('qaf', 12109), ('jacynthe', 12110), ('lookin', 12111), ('rupaul', 12112), ('kayle', 12113), ('gerle', 12114), ('sinful', 12115), ('eleven', 12116), ('nutritious', 12117), ('books', 12118), ('pattie', 12119), ('naomi', 12120), ('klein', 12121), ('chubby', 12122), ('heater', 12123), ('muddling', 12124), ('wot', 12125), ('browness', 12126), ('atell', 12127), ('colourful', 12128), ('heave', 12129), ('pressed', 12130), ('preceptor', 12131), ('gozeleme', 12132), ('homeschoole', 12133), ('nutmeg', 12134), ('revealthestaryoutrulyare', 12135), ('trait', 12136), ('devise', 12137), ('incest', 12138), ('cm', 12139), ('thickness', 12140), ('slat', 12141), ('mattress', 12142), ('unsurprisingly', 12143), ('abduct', 12144), ('hinterland', 12145), ('gaige', 12146), ('gon', 12147), ('kristie', 12148), ('jinny', 12149), ('bucke', 12150), ('treble', 12151), ('fn', 12152), ('elola', 12153), ('21', 12154), ('sequence', 12155), ('squire', 12156), ('overslept', 12157), ('concentration', 12158), ('metaphoric', 12159), ('stein', 12160), ('unsuccessfully', 12161), ('bombardment', 12162), ('whitley', 12163), ('quantum', 12164), ('vesa', 12165), ('kivinen', 12166), ('meekly', 12167), ('hangin', 12168), ('terrifying', 12169), ('reno', 12170), ('divor', 12171), ('neighbourhood', 12172), ('quixotic', 12173), ('likeaudrey', 12174), ('hepburn', 12175), ('tiffanys', 12176), ('skillzz', 12177), ('ller', 12178), ('arc', 12179), ('stacey', 12180), ('sympathise', 12181), ('bernards', 12182), ('ceramic', 12183), ('repairment', 12184), ('atelier', 12185), ('patrimony', 12186), ('specialize', 12187), ('antiquity', 12188), ('ashtray', 12189), ('pond', 12190), ('jimmy', 12191), ('render', 12192), ('thearchitecturality', 12193), ('utopian', 12194), ('kathumpe', 12195), ('reprove', 12196), ('prefe', 12197), ('compellingly', 12198), ('mite', 12199), ('girlie', 12200), ('problematic', 12201), ('misspell', 12202), ('cumme', 12203), ('untried', 12204), ('generator', 12205), ('quiltcon', 12206), ('lizzy', 12207), ('stalker', 12208), ('simplethoughtsonthing', 12209), ('crunk', 12210), ('affron', 12211), ('tygerman', 12212), ('scraper', 12213), ('puteri', 12214), ('403', 12215), ('unreliable', 12216), ('dimple', 12217), ('flux', 12218), ('yourweightlossmethod', 12219), ('belgra', 12220), ('accrue', 12221), ('performing', 12222), ('puppet', 12223), ('thereof', 12224), ('investigator', 12225), ('plush', 12226), ('mulatto', 12227), ('libido', 12228), ('intact', 12229), ('impudent', 12230), ('uninstalle', 12231), ('deactivate', 12232), ('hatena', 12233), ('reagan', 12234), ('existent', 12235), ('muslim', 12236), ('universally', 12237), ('tomoe', 12238), ('ethel', 12239), ('gleam', 12240), ('eame', 12241), ('stuc', 12242), ('picketing', 12243), ('pledge', 12244), ('evenhande', 12245), ('definetly', 12246), ('arugh', 12247), ('trout', 12248), ('blaze', 12249), ('marker', 12250), ('marjane', 12251), ('buoie', 12252), ('emphasise', 12253), ('miguel', 12254), ('thoughtfu', 12255), ('whelm', 12256), ('secretive', 12257), ('shoeless', 12258), ('porcelain', 12259), ('23r', 12260), ('loreal', 12261), ('stormy', 12262), ('investigate', 12263), ('rld', 12264), ('vanguard', 12265), ('publication', 12266), ('borne', 12267), ('overturn', 12268), ('olajideolafunmbi', 12269), ('adverse', 12270), ('urinate', 12271), ('semen', 12272), ('nutrient', 12273), ('dense', 12274), ('spaghetti', 12275), ('meatball', 12276), ('eyewitness', 12277), ('shrapnel', 12278), ('shopper', 12279), ('castlitter', 12280), ('apa', 12281), ('doorknob', 12282), ('seriousness', 12283), ('oven', 12284), ('ryder', 12285), ('loudon', 12286), ('mcgarrigle', 12287), ('rufus', 12288), ('boehner', 12289), ('copious', 12290), ('stain', 12291), ('speakership', 12292), ('aunty', 12293), ('vessel', 12294), ('trigonometry', 12295), ('tutee', 12296), ('andthenwear', 12297), ('fam', 12298), ('spiral', 12299), ('utility', 12300), ('kleinkinder', 12301), ('lawless', 12302), ('innuendo', 12303), ('stimulation', 12304), ('mellor', 12305), ('squeezed', 12306), ('mrt', 12307), ('eagerly', 12308), ('andri', 12309), ('barrel', 12310), ('overshare', 12311), ('lax', 12312), ('entirelly', 12313), ('soporific', 12314), ('luscious', 12315), ('dribble', 12316), ('okc', 12317), ('eharmony', 12318), ('culley', 12319), ('yorke', 12320), ('kite', 12321), ('grudgingly', 12322), ('expansion', 12323), ('sparse', 12324), ('adjectival', 12325), ('punctuation', 12326), ('vancouver', 12327), ('effortless', 12328), ('inclusion', 12329), ('pollution', 12330), ('arriva', 12331), ('inappropriate', 12332), ('videogame', 12333), ('convent', 12334), ('atlephobia', 12335), ('constructively', 12336), ('scrawny', 12337), ('wheelchair', 12338), ('toobright', 12339), ('induced', 12340), ('nightlife', 12341), ('freeer', 12342), ('anyones', 12343), ('espresso', 12344), ('flexy', 12345), ('complement', 12346), ('chic', 12347), ('structured', 12348), ('threequarter', 12349), ('lsd', 12350), ('chemist', 12351), ('shroomery', 12352), ('smarty', 12353), ('templates', 12354), ('koreans', 12355), ('asthma', 12356), ('collapese', 12357), ('reseach', 12358), ('poope', 12359), ('fune', 12360), ('ymor', 12361), ('raven', 12362), ('perk', 12363), ('glamour', 12364), ('hay', 12365), ('shackel', 12366), ('magistrate', 12367), ('roomates', 12368), ('shermin', 12369), ('informality', 12370), ('fence', 12371), ('glenys', 12372), ('monaco', 12373), ('plac', 12374), ('sorted', 12375), ('piddi', 12376), ('fps', 12377), ('airlin', 12378), ('nizan', 12379), ('cooperative', 12380), ('harass', 12381), ('biscuit', 12382), ('headspace', 12383), ('jensens', 12384), ('bon', 12385), ('jovi', 12386), ('earnestness', 12387), ('poaching', 12388), ('agtalk', 12389), ('balcony', 12390), ('unaccustomedness', 12391), ('measurable', 12392), ('wome', 12393), ('unresponsive', 12394), ('dyke', 12395), ('depleted', 12396), ('uncomposed', 12397), ('reset', 12398), ('wardrode', 12399), ('chuffed', 12400), ('ru', 12401), ('entrie', 12402), ('sawbone', 12403), ('dishonest', 12404), ('sisterinla', 12405), ('elihu', 12406), ('christmastime', 12407), ('darkly', 12408), ('stately', 12409), ('hiatus', 12410), ('egan', 12411), ('kurt', 12412), ('ardmore', 12413), ('kaikohe', 12414), ('licence', 12415), ('plein', 12416), ('jackie', 12417), ('bungalow', 12418), ('thankyouu', 12419), ('edouard', 12420), ('exotic', 12421), ('matte', 12422), ('leslielandberg', 12423), ('hyperventilate', 12424), ('stringer', 12425), ('19', 12426), ('homesickish', 12427), ('snowpea', 12428), ('nissan', 12429), ('retweet', 12430), ('argume', 12431), ('bridal', 12432), ('mombasa', 12433), ('cellular', 12434), ('incrementally', 12435), ('rigid', 12436), ('missile', 12437), ('chromosome', 12438), ('digest', 12439), ('beet', 12440), ('rabiola', 12441), ('fresca', 12442), ('ravioli', 12443), ('yin', 12444), ('yang', 12445), ('pastas', 12446), ('crucified', 12447), ('forsake', 12448), ('bonka', 12449), ('neva', 12450), ('hirsi', 12451), ('grind', 12452), ('trusted', 12453), ('pac', 12454), ('mohdashif', 12455), ('homey', 12456), ('milly', 12457), ('rapist', 12458), ('rigorously', 12459), ('cambridge', 12460), ('norfolk', 12461), ('soar', 12462), ('hinderance', 12463), ('jtwoo', 12464), ('cn', 12465), ('remedial', 12466), ('sparring', 12467), ('spectacular', 12468), ('efface', 12469), ('settled', 12470), ('immigration', 12471), ('province', 12472), ('prudent', 12473), ('livingsto', 12474), ('snotface', 12475), ('karmardav', 12476), ('spruce', 12477), ('having', 12478), ('vol', 12479), ('folkeskole', 12480), ('candidate', 12481), ('tou', 12482), ('wellequippe', 12483), ('flirtie', 12484), ('orlando', 12485), ('meditative', 12486), ('instructable', 12487), ('warweary', 12488), ('rebelliou', 12489), ('clozapine', 12490), ('unmoved', 12491), ('unfairness', 12492), ('auntie', 12493), ('blisse', 12494), ('museli', 12495), ('yoghurt', 12496), ('castanet', 12497), ('raposa', 12498), ('crest', 12499), ('tch', 12500), ('magnet', 12501), ('newgate', 12502), ('artillery', 12503), ('carmelite', 12504), ('whitefriar', 12505), ('occupa', 12506), ('bluestarlight', 12507), ('agn', 12508), ('morton', 12509), ('irritant', 12510), ('johnson', 12511), ('sparrow', 12512), ('ediebloom', 12513), ('partition', 12514), ('holi', 12515), ('complimentary', 12516), ('provoking', 12517), ('helier', 12518), ('hospita', 12519), ('gus', 12520), ('preoccupation', 12521), ('suckle', 12522), ('springpad', 12523), ('backdrop', 12524), ('recycling', 12525), ('twitt', 12526), ('jamba', 12527), ('frappucino', 12528), ('palpably', 12529), ('pervasive', 12530), ('barron', 12531), ('varvel', 12532), ('speechless', 12533), ('renege', 12534), ('columbus', 12535), ('losse', 12536), ('restful', 12537), ('connor', 12538), ('yuck', 12539), ('template', 12540), ('intervene', 12541), ('artifically', 12542), ('permission', 12543), ('reveling', 12544), ('massacre', 12545), ('necessar', 12546), ('khmer', 12547), ('atrocity', 12548), ('1975', 12549), ('1978', 12550), ('cambodian', 12551), ('factio', 12552), ('mso', 12553), ('bidi', 12554), ('nig', 12555), ('rehearsal', 12556), ('obsessively', 12557), ('huda', 12558), ('inclusive', 12559), ('mustard', 12560), ('slr', 12561), ('chiharu', 12562), ('remix', 12563), ('effigy', 12564), ('psyched', 12565), ('applebees', 12566), ('overeating', 12567), ('unsupported', 12568), ('projector', 12569), ('displease', 12570), ('musty', 12571), ('kith', 12572), ('polyvore', 12573), ('advent', 12574), ('cunt', 12575), ('devestate', 12576), ('perusal', 12577), ('dezinesamaze', 12578), ('velocity', 12579), ('judy', 12580), ('glasberg', 12581), ('ace', 12582), ('ranbir', 12583), ('ayan', 12584), ('mukerji', 12585), ('filmfare', 12586), ('avenue', 12587), ('moshav', 12588), ('dancin', 12589), ('beatle', 12590), ('disgestive', 12591), ('tangibly', 12592), ('comprimise', 12593), ('itemised', 12594), ('bedworth', 12595), ('34', 12596), ('jury', 12597), ('hea', 12598), ('dannika', 12599), ('activation', 12600), ('eclipse', 12601), ('slouchy', 12602), ('isabel', 12603), ('spazze', 12604), ('cullam', 12605), ('spiel', 12606), ('bragg', 12607), ('goodhumouredl', 12608), ('turd', 12609), ('holyhead', 12610), ('opis', 12611), ('sashy', 12612), ('toned', 12613), ('lavander', 12614), ('abnormally', 12615), ('stake', 12616), ('feeder', 12617), ('chukey', 12618), ('inapporpriate', 12619), ('fergie', 12620), ('realness', 12621), ('mulligan', 12622), ('incomprehensible', 12623), ('strokestiffene', 12624), ('churchoffuck', 12625), ('winey', 12626), ('scummy', 12627), ('urging', 12628), ('grandpare', 12629), ('exponentially', 12630), ('stasia', 12631), ('doctorate', 12632), ('intubate', 12633), ('burlesque', 12634), ('insular', 12635), ('xviith', 12636), ('strick', 12637), ('den', 12638), ('velde', 12639), ('unproductive', 12640), ('varnish', 12641), ('heaaa', 12642), ('plank', 12643), ('canva', 12644), ('pinky', 12645), ('sooooooooooo', 12646), ('airline', 12647), ('glc', 12648), ('dim', 12649), ('kassim', 12650), ('selamat', 12651), ('effectiveness', 12652), ('robbie', 12653), ('dialogue', 12654), ('risky', 12655), ('sectret', 12656), ('egf', 12657), ('sparkleapple', 12658), ('malignant', 12659), ('melonoma', 12660), ('mansion', 12661), ('shudder', 12662), ('crooked', 12663), ('usarious', 12664), ('crumple', 12665), ('perspiration', 12666), ('fundamentally', 12667), ('babychaser', 12668), ('vaginal', 12669), ('noman', 12670), ('welc', 12671), ('melodramatically', 12672), ('fixable', 12673), ('intentionality', 12674), ('traction', 12675), ('quake', 12676), ('selfcontrol', 12677), ('jessamy', 12678), ('abigail', 12679), ('hemorrhoid', 12680), ('bassethound', 12681), ('pupp', 12682), ('disgrace', 12683), ('finge', 12684), ('glaring', 12685), ('defect', 12686), ('cliquey', 12687), ('expressive', 12688), ('charade', 12689), ('thumbnail', 12690), ('sherwood', 12691), ('solicito', 12692), ('silky', 12693), ('slanted', 12694), ('browns', 12695), ('digust', 12696), ('affirm', 12697), ('disastrous', 12698), ('carlie', 12699), ('trea', 12700), ('lulu', 12701), ('therein', 12702), ('brightly', 12703), ('trotting', 12704), ('paralyzed', 12705), ('fron', 12706), ('compliant', 12707), ('voip', 12708), ('telephony', 12709), ('desktop', 12710), ('malacca', 12711), ('wiggy', 12712), ('lib', 12713), ('georgie', 12714), ('porgie', 12715), ('bettys', 12716), ('ideally', 12717), ('acim', 12718), ('abraham', 12719), ('stirring', 12720), ('sience', 12721), ('plum', 12722), ('muttering', 12723), ('strapping', 12724), ('sturdy', 12725), ('accordance', 12726), ('faithfulness', 12727), ('millennia', 12728), ('brainstorm', 12729), ('unsatisfye', 12730), ('internetsphere', 12731), ('marginalized', 12732), ('bridget', 12733), ('cumberland', 12734), ('wreak', 12735), ('havoc', 12736), ('architectural', 12737), ('huhuhu', 12738), ('merciless', 12739), ('yardage', 12740), ('chasing', 12741), ('rural', 12742), ('banjo', 12743), ('molly', 12744), ('purrrr', 12745), ('brazen', 12746), ('covingtons', 12747), ('closing', 12748), ('worri', 12749), ('shoreward', 12750), ('dock', 12751), ('overhea', 12752), ('sw', 12753), ('israelites', 12754), ('comradeship', 12755), ('exile', 12756), ('inhospitable', 12757), ('seize', 12758), ('alibi', 12759), ('premium', 12760), ('unintelligible', 12761), ('blabbering', 12762), ('pregant', 12763), ('ritz', 12764), ('ballater', 12765), ('wr', 12766), ('disengaged', 12767), ('swagger', 12768), ('reminiscence', 12769), ('rapidl', 12770), ('offing', 12771), ('gunk', 12772), ('openplan', 12773), ('diningroom', 12774), ('christina', 12775), ('cho', 12776), ('vault', 12777), ('decaf', 12778), ('hairstyle', 12779), ('frizz', 12780), ('upright', 12781), ('manifestation', 12782), ('doodlesandscrapsofme', 12783), ('fma', 12784), ('scoundrel', 12785), ('superpower', 12786), ('goo', 12787), ('lard', 12788), ('lottery', 12789), ('alton', 12790), ('beak', 12791), ('eighteen', 12792), ('exaggerated', 12793), ('xdd', 12794), ('hohoho', 12795), ('foward', 12796), ('monopoly', 12797), ('saskatchewan', 12798), ('nighthawks', 12799), ('unsuspecting', 12800), ('caramel', 12801), ('syrup', 12802), ('shhh', 12803), ('gulp', 12804), ('excelent', 12805), ('soothing', 12806), ('lens', 12807), ('selective', 12808), ('privacys', 12809), ('clodia', 12810), ('everitt', 12811), ('pani', 12812), ('mills', 12813), ('moe', 12814), ('efficient', 12815), ('sled', 12816), ('shelley', 12817), ('suda', 12818), ('kitoben', 12819), ('countertop', 12820), ('maryland', 12821), ('fel', 12822), ('katrina', 12823), ('pissy', 12824), ('suicidalness', 12825), ('creggan', 12826), ('aslee', 12827), ('cottage', 12828), ('rustling', 12829), ('footbed', 12830), ('completion', 12831), ('shannon', 12832), ('nameless', 12833), ('marginally', 12834), ('awash', 12835), ('overeducate', 12836), ('dupe', 12837), ('turmoil', 12838), ('sauna', 12839), ('goldilock', 12840), ('andangry', 12841), ('kiddos', 12842), ('advanced', 12843), ('goalpost', 12844), ('banne', 12845), ('aspi', 12846), ('shampoo', 12847), ('lather', 12848), ('dwelling', 12849), ('johann', 12850), ('khartoum', 12851), ('descara', 12852), ('surpr', 12853), ('spock', 12854), ('insufficient', 12855), ('depar', 12856), ('zhuo', 12857), ('xiao', 12858), ('palin', 12859), ('dilute', 12860), ('frosty', 12861), ('wod', 12862), ('habanero', 12863), ('heir', 12864), ('constituency', 12865), ('monmouth', 12866), ('proposa', 12867), ('maxim', 12868), ('enormity', 12869), ('humid', 12870), ('elbow', 12871), ('gough', 12872), ('whitlam', 12873), ('vi', 12874), ('unbound', 12875), ('mri', 12876), ('batting', 12877), ('nipple', 12878), ('rocker', 12879), ('rever', 12880), ('merge', 12881), ('animesh', 12882), ('sloshy', 12883), ('upswing', 12884), ('vlog', 12885), ('diabete', 12886), ('abstinence', 12887), ('specialist', 12888), ('momentary', 12889), ('wriggle', 12890), ('enviously', 12891), ('misogyny', 12892), ('engend', 12893), ('lissa', 12894), ('crudely', 12895), ('shave', 12896), ('refrence', 12897), ('embarrased', 12898), ('civilly', 12899), ('pensioner', 12900), ('brooks', 12901), ('earl', 12902), ('clamor', 12903), ('airbus', 12904), ('honolulu', 12905), ('educated', 12906), ('musically', 12907), ('attuned', 12908), ('ssa', 12909), ('genetically', 12910), ('microbe', 12911), ('yiling', 12912), ('intermarry', 12913), ('naman', 12914), ('lunapad', 12915), ('brokeup', 12916), ('laconic', 12917), ('gatorade', 12918), ('herse', 12919), ('codron', 12920), ('janelle', 12921), ('elle', 12922), ('enmayi', 12923), ('pander', 12924), ('reputable', 12925), ('babysitter', 12926), ('shooter', 12927), ('idaho', 12928), ('lavender', 12929), ('yup', 12930), ('amplified', 12931), ('disorientating', 12932), ('barbarossa', 12933), ('milanese', 12934), ('consul', 12935), ('imperial', 12936), ('diagnostician', 12937), ('grabby', 12938), ('sonam', 12939), ('genelia', 12940), ('hospitalize', 12941), ('backache', 12942), ('billiard', 12943), ('coldness', 12944), ('freshness', 12945), ('deity', 12946), ('hackle', 12947), ('unw', 12948), ('mait', 12949), ('nonplussed', 12950), ('tunji', 12951), ('cempaka', 12952), ('justquiltn', 12953), ('unfinished', 12954), ('philips', 12955), ('reaura', 12956), ('wallow', 12957), ('unwashed', 12958), ('coronation', 12959), ('slippery', 12960), ('retry', 12961), ('yelping', 12962), ('heroic', 12963), ('restlessness', 12964), ('skinned', 12965), ('cohesive', 12966), ('arist', 12967), ('confound', 12968), ('loyalist', 12969), ('intac', 12970), ('candyland', 12971), ('haggard', 12972), ('reactive', 12973), ('inlove', 12974), ('sean', 12975), ('faris', 12976), ('sleepover', 12977), ('scavenger', 12978), ('exited', 12979), ('thia', 12980), ('scruncher', 12981), ('veiled', 12982), ('creepily', 12983), ('hallway', 12984), ('jrock', 12985), ('tommorrow', 12986), ('mica', 12987), ('zimmerman', 12988), ('pew', 12989), ('mense', 12990), ('skate', 12991), ('frustrati', 12992), ('jittery', 12993), ('meh', 12994), ('punctual', 12995), ('wheeler', 12996), ('laug', 12997), ('photoshoot', 12998), ('convert', 12999), ('currency', 13000), ('homis', 13001), ('var', 13002), ('vanuatu', 13003), ('uw', 13004), ('magnify', 13005), ('dictionary', 13006), ('berate', 13007), ('wycliffe', 13008), ('unsavoury', 13009), ('squalor', 13010), ('herzog', 13011), ('penance', 13012), ('quota', 13013), ('overdue', 13014), ('habitual', 13015), ('initiation', 13016), ('clover', 13017), ('withdrawn', 13018), ('sophomore', 13019), ('poser', 13020), ('realism', 13021), ('slum', 13022), ('horsepower', 13023), ('plugged', 13024), ('outcomes', 13025), ('boyfirend', 13026), ('ongoing', 13027), ('relocation', 13028), ('stuckin', 13029), ('duel', 13030), ('recou', 13031), ('ensign', 13032), ('carcenogenic', 13033), ('pleasantness', 13034), ('mobility', 13035), ('outgrow', 13036), ('conquerer', 13037), ('shoudlnt', 13038), ('miler', 13039), ('flamingo', 13040), ('outfitter', 13041), ('stigmatize', 13042), ('stigma', 13043), ('milkshake', 13044), ('hendrick', 13045), ('remotional', 13046), ('gameplay', 13047), ('helterskelter', 13048), ('processing', 13049), ('hor', 13050), ('lease', 13051), ('deferential', 13052), ('blogoversary', 13053), ('temperamental', 13054), ('trio', 13055), ('heroes', 13056), ('lieutenant', 13057), ('lancaster', 13058), ('aircraft', 13059), ('persistence', 13060), ('filmmaker', 13061), ('repeal', 13062), ('hopkins', 13063), ('collusion', 13064), ('femme', 13065), ('fatale', 13066), ('johnnykaje', 13067), ('crop', 13068), ('fossil', 13069), ('peril', 13070), ('pileon', 13071), ('continent', 13072), ('inconsistent', 13073), ('truthfully', 13074), ('trackchange', 13075), ('apendage', 13076), ('julian', 13077), ('randythomas', 13078), ('telling', 13079), ('unreasonably', 13080), ('idiosyncrasy', 13081), ('misused', 13082), ('spelling', 13083), ('itv', 13084), ('wane', 13085), ('bulletin', 13086), ('barker', 13087), ('colin', 13088), ('implant', 13089), ('recommendation', 13090), ('lev', 13091), ('eachother', 13092), ('oxtail', 13093), ('detoxing', 13094), ('fervent', 13095), ('whimper', 13096), ('uncared', 13097), ('amman', 13098), ('jessicadickinsongoodman', 13099), ('normative', 13100), ('ii', 13101), ('tweety', 13102), ('reggie', 13103), ('scrape', 13104), ('nook', 13105), ('cranny', 13106), ('universality', 13107), ('voluntary', 13108), ('brotherhood', 13109), ('uncomfterble', 13110), ('briar', 13111), ('beagle', 13112), ('souless', 13113), ('legislator', 13114), ('qaeda', 13115), ('iraqi', 13116), ('bomber', 13117), ('groupie', 13118), ('spritzer', 13119), ('nagalene', 13120), ('stellarium', 13121), ('motherlover', 13122), ('baremineral', 13123), ('pagetype', 13124), ('mimedoger', 13125), ('dads', 13126), ('taryn', 13127), ('unpleasantness', 13128), ('zofran', 13129), ('dakota', 13130), ('traumatised', 13131), ('dab', 13132), ('puffy', 13133), ('spazzola', 13134), ('prima', 13135), ('andare', 13136), ('dormire', 13137), ('persecute', 13138), ('weaver', 13139), ('cocaine', 13140), ('gladiator', 13141), ('construct', 13142), ('tai', 13143), ('paratrooper', 13144), ('alec', 13145), ('fo', 13146), ('hawaiian', 13147), ('krem', 13148), ('tget', 13149), ('arsenal', 13150), ('serioulsy', 13151), ('unbreakable', 13152), ('ehb', 13153), ('neuroticworkaholic', 13154), ('ordinance', 13155), ('ind', 13156), ('interviewer', 13157), ('contemptuously', 13158), ('catalog', 13159), ('rampage', 13160), ('cognize', 13161), ('cosmos', 13162), ('years', 13163), ('bureaucracy', 13164), ('torne', 13165), ('resupplie', 13166), ('vitamin', 13167), ('lurgy', 13168), ('fahad', 13169), ('skeleton', 13170), ('amd', 13171), ('deke', 13172), ('confidential', 13173), ('hindrance', 13174), ('shard', 13175), ('rohmer', 13176), ('clueless', 13177), ('fluctuation', 13178), ('conce', 13179), ('crane', 13180), ('straining', 13181), ('ji', 13182), ('lokpal', 13183), ('moanday', 13184), ('mcdonalds', 13185), ('sno', 13186), ('swaddle', 13187), ('tryst', 13188), ('deborah', 13189), ('lippmann', 13190), ('staining', 13191), ('ws', 13192), ('peachy', 13193), ('sation', 13194), ('byte', 13195), ('barf', 13196), ('curate', 13197), ('unison', 13198), ('pope', 13199), ('unilaterally', 13200), ('carelessness', 13201), ('glue', 13202), ('terrorstruck', 13203), ('namely', 13204), ('35', 13205), ('headbanging', 13206), ('interlochen', 13207), ('jonathan', 13208), ('cornish', 13209), ('cornwall', 13210), ('roslin', 13211), ('itchy', 13212), ('penelope', 13213), ('huntley', 13214), ('chainsmoke', 13215), ('phr', 13216), ('mensa', 13217), ('snare', 13218), ('dlk', 13219), ('hernia', 13220), ('vinegary', 13221), ('calli', 13222), ('lenin', 13223), ('evaluation', 13224), ('nomme', 13225), ('lucille', 13226), ('palac', 13227), ('hesei', 13228), ('kamen', 13229), ('boxer', 13230), ('tgt', 13231), ('recur', 13232), ('spiro', 13233), ('46', 13234), ('ramble', 13235), ('misrepresent', 13236), ('lansdowne', 13237), ('1917', 13238), ('prote', 13239), ('becuase', 13240), ('odone', 13241), ('1984', 13242), ('funlove', 13243), ('sixyearold', 13244), ('ald', 13245), ('topper', 13246), ('shiftless', 13247), ('dalla', 13248), ('meath', 13249), ('rudolph', 13250), ('valentino', 13251), ('unspeakable', 13252), ('wildstar', 13253), ('dumbfounded', 13254), ('bibliography', 13255), ('unsteady', 13256), ('mikala', 13257), ('pipsqueak', 13258), ('extremly', 13259), ('throng', 13260), ('fervor', 13261), ('tonic', 13262), ('whisky', 13263), ('gin', 13264), ('admiral', 13265), ('byng', 13266), ('minorca', 13267), ('cowardice', 13268), ('wan', 13269), ('ahkman', 13270), ('untidy', 13271), ('soundly', 13272), ('thrash', 13273), ('mot', 13274), ('foamy', 13275), ('hungarians', 13276), ('pact', 13277), ('governman', 13278), ('rosemary', 13279), ('suffocate', 13280), ('avoidable', 13281), ('pious', 13282), ('uppity', 13283), ('profita', 13284), ('scape', 13285), ('bid', 13286), ('mar', 13287), ('prose', 13288), ('quittin', 13289), ('winterpaysforsummer', 13290), ('adviser', 13291), ('comm', 13292), ('organizing', 13293), ('eyeglass', 13294), ('synod', 13295), ('ignoring', 13296), ('jayson', 13297), ('kisling', 13298), ('sculptor', 13299), ('stairwell', 13300), ('seventh', 13301), ('wif', 13302), ('gb', 13303), ('buyer', 13304), ('vinyl', 13305), ('infact', 13306), ('selectively', 13307), ('herrman', 13308), ('explosive', 13309), ('mortality', 13310), ('aids', 13311), ('elude', 13312), ('caustic', 13313), ('flist', 13314), ('lowest', 13315), ('zap', 13316), ('friendfeed', 13317), ('dearwendy', 13318), ('counsellor', 13319), ('biological', 13320), ('poignant', 13321), ('penetrating', 13322), ('figment', 13323), ('plural', 13324), ('snarky', 13325), ('neo', 13326), ('terminology', 13327), ('modification', 13328), ('bona', 13329), ('fide', 13330), ('detrimental', 13331), ('gfather', 13332), ('ute', 13333), ('manure', 13334), ('pg', 13335), ('dodgy', 13336), ('ouch', 13337), ('starlight', 13338), ('journale', 13339), ('overcommit', 13340), ('sexaholic', 13341), ('reluctance', 13342), ('freaky', 13343), ('metformin', 13344), ('uncoil', 13345), ('screeching', 13346), ('aaaaand', 13347), ('etrie', 13348), ('successio', 13349), ('uninformed', 13350), ('sensed', 13351), ('reestablish', 13352), ('leech', 13353), ('hijack', 13354), ('hideously', 13355), ('guily', 13356), ('recoil', 13357), ('minicab', 13358), ('cabb', 13359), ('magnum', 13360), ('knitter', 13361), ('crim', 13362), ('hefty', 13363), ('weighting', 13364), ('farrow', 13365), ('soonyi', 13366), ('yester', 13367), ('ibleeditout', 13368), ('kodi', 13369), ('sadne', 13370), ('overt', 13371), ('hovel', 13372), ('combinations', 13373), ('yogurt', 13374), ('tychelle', 13375), ('nonexistent', 13376), ('parody', 13377), ('towelling', 13378), ('robe', 13379), ('scabi', 13380), ('verona', 13381), ('geese', 13382), ('bevy', 13383), ('du', 13384), ('synthetic', 13385), ('trinket', 13386), ('authenticity', 13387), ('depict', 13388), ('surmountable', 13389), ('suzanna', 13390), ('idyllic', 13391), ('vacationer', 13392), ('breezing', 13393), ('barro', 13394), ('topical', 13395), ('zola', 13396), ('tri', 13397), ('maneuver', 13398), ('underst', 13399), ('tightness', 13400), ('samuel', 13401), ('disjointed', 13402), ('katanya', 13403), ('cavity', 13404), ('lydi', 13405), ('yhhhay', 13406), ('revi', 13407), ('recreational', 13408), ('willingly', 13409), ('nitch', 13410), ('vt', 13411), ('feminism', 13412), ('bauer', 13413), ('unconvinced', 13414), ('mps', 13415), ('metropolitan', 13416), ('lodge', 13417), ('oesophagus', 13418), ('bellman', 13419), ('agility', 13420), ('chiefs', 13421), ('ccw', 13422), ('provokingbeauty', 13423), ('hypocritical', 13424), ('workload', 13425), ('ringtone', 13426), ('dictating', 13427), ('gordon', 13428), ('cowans', 13429), ('midfield', 13430), ('speedie', 13431), ('subscriber', 13432), ('chunky', 13433), ('gerry', 13434), ('desponde', 13435), ('mopping', 13436), ('treassure', 13437), ('muzzle', 13438), ('flab', 13439), ('sweetener', 13440), ('siege', 13441), ('deliberate', 13442), ('daytime', 13443), ('henrietta', 13444), ('ariel', 13445), ('chelmsford', 13446), ('hav', 13447), ('coincidence', 13448), ('downe', 13449), ('stupef', 13450), ('lah', 13451), ('denim', 13452), ('carson', 13453), ('afaerytaleinmakebelieve', 13454), ('distraug', 13455), ('banal', 13456), ('austere', 13457), ('holiness', 13458), ('cheerfulness', 13459), ('contemporar', 13460), ('bicep', 13461), ('preclude', 13462), ('prosecutor', 13463), ('wristwatch', 13464), ('shortsighted', 13465), ('shalt', 13466), ('din', 13467), ('hw', 13468), ('yurusei', 13469), ('yatsura', 13470), ('coheed', 13471), ('cambria', 13472), ('kubrick', 13473), ('humming', 13474), ('earthly', 13475), ('sergeant', 13476), ('insightful', 13477), ('indirectly', 13478), ('manhandled', 13479), ('harmless', 13480), ('insect', 13481), ('sixth', 13482), ('1986', 13483), ('duan', 13484), ('secretarygene', 13485), ('culinary', 13486), ('urbanite', 13487), ('underwater', 13488), ('lenten', 13489), ('transitory', 13490), ('lancashire', 13491), ('gooch', 13492), ('selector', 13493), ('axe', 13494), ('defreitas', 13495), ('essex', 13496), ('pacemen', 13497), ('kierkegaard', 13498), ('philosopher', 13499), ('companionable', 13500), ('treader', 13501), ('hardcover', 13502), ('comatose', 13503), ('shayla', 13504), ('solopgangfor', 13505), ('barnog', 13506), ('herbal', 13507), ('dayummm', 13508), ('doubtless', 13509), ('slacking', 13510), ('yearly', 13511), ('equilibrium', 13512), ('sim', 13513), ('mitch', 13514), ('ruefully', 13515), ('footballer', 13516), ('pe', 13517), ('gloucestershire', 13518), ('protestor', 13519), ('tak', 13520), ('socializing', 13521), ('rememberie', 13522), ('scandalous', 13523), ('swimwear', 13524), ('heather', 13525), ('settlement', 13526), ('functional', 13527), ('java', 13528), ('python', 13529), ('haskell', 13530), ('rawly', 13531), ('ac', 13532), ('flaky', 13533), ('streaky', 13534), ('fertility', 13535), ('oft', 13536), ('weeding', 13537), ('harvesting', 13538), ('nikki', 13539), ('minaj', 13540), ('unafraid', 13541), ('employment', 13542), ('advocacy', 13543), ('inventory', 13544), ('perishable', 13545), ('autobiography', 13546), ('blackwater', 13547), ('unsung', 13548), ('ocd', 13549), ('zack', 13550), ('auster', 13551), ('watchers', 13552), ('ruby', 13553), ('switzerland', 13554), ('trudger', 13555), ('casserole', 13556), ('ins', 13557), ('picnics', 13558), ('luncheon', 13559), ('carseat', 13560), ('quad', 13561), ('maximize', 13562), ('spacious', 13563), ('kisser', 13564), ('nijifagilie', 13565), ('inherently', 13566), ('usage', 13567), ('proximity', 13568), ('pooper', 13569), ('basher', 13570), ('atention', 13571), ('misstreate', 13572), ('affeccion', 13573), ('hog', 13574), ('grassroots', 13575), ('korup', 13576), ('elephant', 13577), ('tranquilliser', 13578), ('tar', 13579), ('alva', 13580), ('witless', 13581), ('unenthusiastic', 13582), ('decite', 13583), ('arvo', 13584), ('bedriacum', 13585), ('ingrain', 13586), ('percolate', 13587), ('synonym', 13588), ('undress', 13589), ('firey', 13590), ('seizure', 13591), ('incompetent', 13592), ('logically', 13593), ('diaper', 13594), ('pret', 13595), ('tattere', 13596), ('gust', 13597), ('uganda', 13598), ('contradictory', 13599), ('intricate', 13600), ('irc', 13601), ('smothered', 13602), ('axilla', 13603), ('shamefully', 13604), ('persuasively', 13605), ('orthotic', 13606), ('ene', 13607), ('fleming', 13608), ('superhero', 13609), ('zzap', 13610), ('darby', 13611), ('outpouring', 13612), ('overfed', 13613), ('prejudging', 13614), ('tt', 13615), ('segregated', 13616), ('cologne', 13617), ('unacceptably', 13618), ('protrude', 13619), ('tot', 13620), ('kairi', 13621), ('handbook', 13622), ('discharge', 13623), ('youngest', 13624), ('lcd', 13625), ('bluetooth', 13626), ('isight', 13627), ('heh', 13628), ('swif', 13629), ('ploy', 13630), ('ashraf', 13631), ('pakistani', 13632), ('rudderless', 13633), ('framework', 13634), ('musicjuzz', 13635), ('payperpost', 13636), ('buti', 13637), ('onscreen', 13638), ('data', 13639), ('compunction', 13640), ('unpaved', 13641), ('carer', 13642), ('haley', 13643), ('regroup', 13644), ('uncharted', 13645), ('maturity', 13646), ('midlife', 13647), ('anderson', 13648), ('squeak', 13649), ('baachan', 13650), ('trolley', 13651), ('intercessor', 13652), ('actauly', 13653), ('brainless', 13654), ('biblical', 13655), ('conor', 13656), ('infatuation', 13657), ('civilization', 13658), ('pedicure', 13659), ('tootsie', 13660), ('monthe', 13661), ('ativan', 13662), ('mommyhood', 13663), ('rustle', 13664), ('burnt', 13665), ('ep', 13666), ('auggie', 13667), ('jillian', 13668), ('vip', 13669), ('sticker', 13670), ('nephews', 13671), ('ba', 13672), ('unrelated', 13673), ('cricnepal', 13674), ('atlanta', 13675), ('stamina', 13676), ('aspieness', 13677), ('iq', 13678), ('intolerably', 13679), ('wobbly', 13680), ('sustainability', 13681), ('dinosaur', 13682), ('higher', 13683), ('scented', 13684), ('amber', 13685), ('dampen', 13686), ('pilate', 13687), ('katie', 13688), ('fox', 13689), ('prosperity', 13690), ('apc', 13691), ('eurovision', 13692), ('lavatory', 13693), ('rockabilly', 13694), ('thebalm', 13695), ('tude', 13696), ('twirl', 13697), ('demure', 13698), ('ample', 13699), ('cantina', 13700), ('io', 13701), ('sii', 13702), ('lumia', 13703), ('overactive', 13704), ('steadily', 13705), ('leading', 13706), ('espouse', 13707), ('lovingly', 13708), ('wherein', 13709), ('occidental', 13710), ('bedraggle', 13711), ('morass', 13712), ('rai', 13713), ('ryodan', 13714), ('glorney', 13715), ('inaction', 13716), ('ramsey', 13717), ('befuddle', 13718), ('tumor', 13719), ('amiss', 13720), ('sophist', 13721), ('rye', 13722), ('adulth', 13723), ('inscrie', 13724), ('intr', 13725), ('rafinament', 13726), ('lejer', 13727), ('extrem', 13728), ('feminin', 13729), ('waiting', 13730), ('woefully', 13731), ('ethan', 13732), ('africans', 13733), ('umpire', 13734), ('cumberbatch', 13735), ('legside', 13736), ('affend', 13737), ('traditionally', 13738), ('diego', 13739), ('sustained', 13740), ('scrunching', 13741), ('crowed', 13742), ('flub', 13743), ('sweetly', 13744), ('jag', 13745), ('jointly', 13746), ('domestic', 13747), ('compagnon', 13748), ('haiku', 13749), ('imbibe', 13750), ('incalculable', 13751), ('mischief', 13752), ('materialist', 13753), ('ineffective', 13754), ('diversified', 13755), ('enchanted', 13756), ('achy', 13757), ('blahness', 13758), ('harmonize', 13759), ('cert', 13760), ('enriching', 13761), ('kindergartener', 13762), ('kareena', 13763), ('akshay', 13764), ('kumar', 13765), ('minissha', 13766), ('amisha', 13767), ('patel', 13768), ('avtaar', 13769), ('estonians', 13770), ('russianspeake', 13771), ('populati', 13772), ('hyphen', 13773), ('aligncenter', 13774), ('mrdanbaird', 13775), ('tizzy', 13776), ('haagen', 13777), ('dazs', 13778), ('russian', 13779), ('marbled', 13780), ('murrelet', 13781), ('mayo', 13782), ('dispirited', 13783), ('miyavi', 13784), ('herd', 13785), ('mindless', 13786), ('scrawl', 13787), ('memo', 13788), ('proplem', 13789), ('dickinson', 13790), ('enjambment', 13791), ('sonnet', 13792), ('nikos', 13793), ('niko', 13794), ('taxis', 13795), ('drecky', 13796), ('mazawattee', 13797), ('enforce', 13798), ('playdate', 13799), ('amplify', 13800), ('terpene', 13801), ('czech', 13802), ('sniff', 13803), ('contention', 13804), ('superficial', 13805), ('jun', 13806), ('inspector', 13807), ('aziz', 13808), ('uhuru', 13809), ('reasonable', 13810), ('restart', 13811), ('testosterone', 13812), ('unruly', 13813), ('glued', 13814), ('wrongfully', 13815), ('astray', 13816), ('irresponsible', 13817), ('standout', 13818), ('feist', 13819), ('compere', 13820), ('thwart', 13821), ('immobile', 13822), ('rommel', 13823), ('caller', 13824), ('quizzical', 13825), ('suite', 13826), ('noseband', 13827), ('bride', 13828), ('reeeeeeeeally', 13829), ('tracifishbowl', 13830), ('douse', 13831), ('freind', 13832), ('asasoulawaken', 13833), ('feeli', 13834), ('bradbury', 13835), ('techno', 13836), ('slander', 13837), ('irresponcible', 13838), ('keeper', 13839), ('obrian', 13840), ('characterisation', 13841), ('foible', 13842), ('gosman', 13843), ('touristy', 13844), ('montauk', 13845), ('cawing', 13846), ('lapping', 13847), ('piling', 13848), ('entrench', 13849), ('gerrymandered', 13850), ('reelect', 13851), ('pagan', 13852), ('originate', 13853), ('woebegon', 13854), ('uninspired', 13855), ('jot', 13856), ('hussein', 13857), ('perspire', 13858), ('invisible', 13859), ('mover', 13860), ('rec', 13861), ('visable', 13862), ('spotlighted', 13863), ('unfashionable', 13864), ('roar', 13865), ('shonas', 13866), ('athe', 13867), ('atmospheric', 13868), ('gfs', 13869), ('mimm', 13870), ('thislifeissparkling', 13871), ('signify', 13872), ('undue', 13873), ('spinach', 13874), ('feta', 13875), ('cranberry', 13876), ('balsamic', 13877), ('viniagrette', 13878), ('judgemental', 13879), ('bumbe', 13880), ('prelim', 13881), ('sobs', 13882), ('griffin', 13883), ('enigmatic', 13884), ('sabine', 13885), ('strohem', 13886), ('isl', 13887), ('shoelace', 13888), ('lawn', 13889), ('herpe', 13890), ('checkup', 13891), ('deride', 13892), ('shouting', 13893), ('swearing', 13894), ('oeuvre', 13895), ('dewitt', 13896), ('correspond', 13897), ('catsa', 13898), ('lorena', 13899), ('celebratory', 13900), ('meryl', 13901), ('vexation', 13902), ('formation', 13903), ('tec', 13904), ('parish', 13905), ('portrait', 13906), ('orleans', 13907), ('bonamy', 13908), ('dobre', 13909), ('skelton', 13910), ('fellowstude', 13911), ('subsidization', 13912), ('pothole', 13913), ('cavatina', 13914), ('documentary', 13915), ('scheduling', 13916), ('notch', 13917), ('oviedo', 13918), ('distinguished', 13919), ('melndez', 13920), ('vald', 13921), ('basketball', 13922), ('thanksgive', 13923), ('lovey', 13924), ('dovey', 13925), ('paster', 13926), ('exexbf', 13927), ('marlon', 13928), ('brando', 13929), ('tabloid', 13930), ('comedic', 13931), ('sandra', 13932), ('33', 13933), ('darlington', 13934), ('unborn', 13935), ('noticeably', 13936), ('beverage', 13937), ('alcove', 13938), ('slower', 13939), ('retarte', 13940), ('quorum', 13941), ('furthermore', 13942), ('fantabulous', 13943), ('inhuman', 13944), ('diner', 13945), ('eid', 13946), ('outrageously', 13947), ('tourette', 13948), ('unpredictability', 13949), ('axel', 13950), ('mishandle', 13951), ('diazepam', 13952), ('mooch', 13953), ('wrapping', 13954), ('algorithmic', 13955), ('efficiency', 13956), ('babysat', 13957), ('unearthly', 13958), ('anon', 13959), ('graph', 13960), ('rotund', 13961), ('bloke', 13962), ('demos', 13963), ('talks', 13964), ('sett', 13965), ('polenta', 13966), ('andy', 13967), ('drunkenly', 13968), ('waist', 13969), ('cindy', 13970), ('atticus', 13971), ('mysterious', 13972), ('intimately', 13973), ('buoy', 13974), ('transcendent', 13975), ('stipulation', 13976), ('skeere', 13977), ('allusion', 13978), ('massou', 13979), ('parkin', 13980), ('excessively', 13981), ('clive', 13982), ('piddle', 13983), ('ure', 13984), ('mistreat', 13985), ('lightwater', 13986), ('valley', 13987), ('dri', 13988), ('drape', 13989), ('gallow', 13990), ('shh', 13991), ('grimacing', 13992), ('scabbe', 13993), ('unheale', 13994), ('grossman', 13995), ('continu', 13996), ('porcupine', 13997), ('deprecation', 13998), ('defiant', 13999), ('bul', 14000), ('taewuhbeoryeo', 14001), ('niga', 14002), ('ulbujitneun', 14003), ('nal', 14004), ('neoneun', 14005), ('wiheomhae', 14006), ('ttaekkaji', 14007), ('gatsseo', 14008), ('woooo', 14009), ('freakin', 14010), ('beefy', 14011), ('amkris', 14012), ('toshibalol', 14013), ('amit', 14014), ('nooo', 14015), ('smidgen', 14016), ('negligible', 14017), ('blip', 14018), ('symbol', 14019), ('peggy', 14020), ('mara', 14021), ('disdainful', 14022), ('glam', 14023), ('nuptial', 14024), ('transcribe', 14025), ('called', 14026), ('oneil', 14027), ('amazement', 14028), ('sor', 14029), ('instigate', 14030), ('bailey', 14031), ('strictly', 14032), ('anaesthetic', 14033), ('sizzler', 14034), ('cal', 14035), ('muaz', 14036), ('busk', 14037), ('instrument', 14038), ('reproductive', 14039), ('estrangement', 14040), ('entail', 14041), ('dependence', 14042), ('huhwe', 14043), ('neun', 14044), ('gatda', 14045), ('beoryeo', 14046), ('sesang', 14047), ('namja', 14048), ('neottaemune', 14049), ('ulji', 14050), ('anha', 14051), ('gucha', 14052), ('hage', 14053), ('neoreul', 14054), ('jabgeo', 14055), ('mae', 14056), ('dallil', 14057), ('ireun', 14058), ('jeoldae', 14059), ('5', 14060), ('bothersome', 14061), ('kitty', 14062), ('plumb', 14063), ('atletico', 14064), ('ia', 14065), ('fourteen', 14066), ('mug', 14067), ('incur', 14068), ('bre', 14069), ('simon', 14070), ('entangle', 14071), ('bagshot', 14072), ('socalled', 14073), ('regiment', 14074), ('spurn', 14075), ('ebb', 14076), ('crust', 14077), ('seasonal', 14078), ('hollyoak', 14079), ('hihi', 14080), ('modernization', 14081), ('detraction', 14082), ('supersensitive', 14083), ('khatsii', 14084), ('pristine', 14085), ('dersingham', 14086), ('hypnosis', 14087), ('allowable', 14088), ('rockette', 14089), ('penknife', 14090), ('blast', 14091), ('humbling', 14092), ('unrest', 14093), ('armpit', 14094), ('blender', 14095), ('glibly', 14096), ('twothirtie', 14097), ('knittin', 14098), ('nonconformist', 14099), ('watson', 14100), ('unbelievably', 14101), ('muff', 14102), ('lava', 14103), ('export', 14104), ('cholesterol', 14105), ('scoff', 14106), ('crucial', 14107), ('expatriate', 14108), ('budgetary', 14109), ('fascinating', 14110), ('gere', 14111), ('fabolous', 14112), ('losos', 14113), ('thrust', 14114), ('worse', 14115), ('mange', 14116), ('restrained', 14117), ('adaption', 14118), ('resilience', 14119), ('polling', 14120), ('jareth', 14121), ('labyrinth', 14122), ('ab', 14123), ('scoop', 14124), ('follicle', 14125), ('bio', 14126), ('nailart', 14127), ('wakeful', 14128), ('monroe', 14129), ('teensiest', 14130), ('trepidatious', 14131), ('approve', 14132), ('disapprove', 14133), ('titanium', 14134), ('hedgehog', 14135), ('tommy', 14136), ('maudie', 14137), ('wonde', 14138), ('cajole', 14139), ('jewel', 14140), ('plump', 14141), ('soapy', 14142), ('vulturous', 14143), ('sic', 14144), ('poisonous', 14145), ('courtship', 14146), ('araminta', 14147), ('forwardlooking', 14148), ('putter', 14149), ('xox', 14150), ('mayor', 14151), ('askin', 14152), ('viral', 14153), ('hotline', 14154), ('cyberspace', 14155), ('qualm', 14156), ('disorganised', 14157), ('uuuugh', 14158), ('sec', 14159), ('bemoan', 14160), ('enjorlas', 14161), ('concequence', 14162), ('earplug', 14163), ('focalor', 14164), ('sigil', 14165), ('opium', 14166), ('neferet', 14167), ('acause', 14168), ('pumpin', 14169), ('exuberance', 14170), ('cellphone', 14171), ('incredulous', 14172), ('menopause', 14173), ('metabolism', 14174), ('hyperthyroidism', 14175), ('dedicated', 14176), ('stimulated', 14177), ('maniacal', 14178), ('msm', 14179), ('insistent', 14180), ('mariah', 14181), ('carey', 14182), ('smoker', 14183), ('allthingsbuck', 14184), ('gobble', 14185), ('birdwatcher', 14186), ('yesterda', 14187), ('hewson', 14188), ('australi', 14189), ('gump', 14190), ('stayviolation', 14191), ('overstep', 14192), ('crisp', 14193), ('landlady', 14194), ('gravely', 14195), ('insul', 14196), ('stych', 14197), ('compl', 14198), ('romcom', 14199), ('amazingness', 14200), ('organize', 14201), ('unspokenword', 14202), ('keptinside', 14203), ('niche', 14204), ('cushion', 14205), ('avalanche', 14206), ('lugubriou', 14207), ('beforehand', 14208), ('symphony', 14209), ('kenya', 14210), ('govrenment', 14211), ('pension', 14212), ('divorcee', 14213), ('edmonton', 14214), ('gleefully', 14215), ('marshmallow', 14216), ('daring', 14217), ('moonligh', 14218), ('thankfulness', 14219), ('theologically', 14220), ('affirmative', 14221), ('maud', 14222), ('kurfrstendamm', 14223), ('continui', 14224), ('aku', 14225), ('merasa', 14226), ('luar', 14227), ('biasa', 14228), ('karena', 14229), ('kulihat', 14230), ('thos', 14231), ('philippa', 14232), ('scrapbook', 14233), ('slatebook', 14234), ('dabble', 14235), ('capitol', 14236), ('engaging', 14237), ('watchable', 14238), ('scrub', 14239), ('larry', 14240), ('zenden', 14241), ('reuters', 14242), ('kidnapper', 14243), ('magnate', 14244), ('freddy', 14245), ('heineken', 14246), ('nape', 14247), ('revalidation', 14248), ('portfolio', 14249), ('behold', 14250), ('platonic', 14251), ('omegle', 14252), ('cutie', 14253), ('mathematical', 14254), ('avril', 14255), ('lavigne', 14256), ('illegitimate', 14257), ('doing', 14258), ('minded', 14259), ('materialise', 14260), ('coasted', 14261), ('personify', 14262), ('progeny', 14263), ('genuflect', 14264), ('consolidate', 14265), ('abdominal', 14266), ('coulter', 14267), ('schultz', 14268), ('tirade', 14269), ('critic', 14270), ('mamma', 14271), ('jogger', 14272), ('outsprinte', 14273), ('mooshilu', 14274), ('happywarmworld', 14275), ('boyfriends', 14276), ('arlovski', 14277), ('ufc', 14278), ('respirometry', 14279), ('ehh', 14280), ('taryns', 14281), ('schellenberg', 14282), ('lowlight', 14283), ('nestle', 14284), ('permanenter', 14285), ('zum', 14286), ('eintrag', 14287), ('driving', 14288), ('irritation', 14289), ('frightene', 14290), ('prescribed', 14291), ('superduperreally', 14292), ('sensitize', 14293), ('bodily', 14294), ('foc', 14295), ('comet', 14296), ('carcass', 14297), ('nordstrom', 14298), ('deen', 14299), ('bandhu', 14300), ('fallen', 14301), ('uplifter', 14302), ('sanitiation', 14303), ('snoozel', 14304), ('iron', 14305), ('cineworld', 14306), ('technically', 14307), ('fraudulent', 14308), ('addictive', 14309), ('alsway', 14310), ('tomfoolery', 14311), ('shenanigan', 14312), ('rosary', 14313), ('fulsome', 14314), ('sadnes', 14315), ('careess', 14316), ('curled', 14317), ('maureen', 14318), ('spee', 14319), ('fascinated', 14320), ('sector', 14321), ('cocky', 14322), ('occult', 14323), ('hiit', 14324), ('interval', 14325), ('displaced', 14326), ('artefact', 14327), ('locomotive', 14328), ('fad', 14329), ('griefs', 14330), ('firth', 14331), ('liverpool', 14332), ('replica', 14333), ('camille', 14334), ('matador', 14335), ('concentrated', 14336), ('noob', 14337), ('domestically', 14338), ('bitching', 14339), ('airbrush', 14340), ('bbw', 14341), ('stammer', 14342), ('hurtle', 14343), ('feelingof', 14344), ('resistance', 14345), ('simpl', 14346), ('seedy', 14347), ('bludgeon', 14348), ('hotshot', 14349), ('externally', 14350), ('paulo', 14351), ('coelho', 14352), ('rounder', 14353), ('battalion', 14354), ('faculty', 14355), ('crossword', 14356), ('gooseneck', 14357), ('fishbane', 14358), ('unwary', 14359), ('reap', 14360), ('dra', 14361), ('serence', 14362), ('hormonal', 14363), ('uncontrollable', 14364), ('drained', 14365), ('exhale', 14366), ('vapor', 14367), ('companionship', 14368), ('clump', 14369), ('reproach', 14370), ('mesmerism', 14371), ('fudgy', 14372), ('aristophane', 14373), ('scabs', 14374), ('bruis', 14375), ('inconvenienced', 14376), ('selfconcept', 14377), ('shattere', 14378), ('earle', 14379), ('halfeaten', 14380), ('flapped', 14381), ('machi', 14382), ('cyni', 14383), ('transportation', 14384), ('dehydrated', 14385), ('edition', 14386), ('alfed', 14387), ('18year', 14388), ('dodge', 14389), ('condone', 14390), ('masse', 14391), ('rebellion', 14392), ('aggressiven', 14393), ('snowman', 14394), ('kerry', 14395), ('equality', 14396), ('boardwalk', 14397), ('emote', 14398), ('might', 14399), ('atheism', 14400), ('ugh', 14401), ('composition', 14402), ('rounded', 14403), ('crowe', 14404), ('airtime', 14405), ('tith', 14406), ('ath', 14407), ('afp', 14408), ('urine', 14409), ('tought', 14410), ('nellie', 14411), ('radical', 14412), ('ratbagx', 14413), ('heinously', 14414), ('caveman', 14415), ('aldridge', 14416), ('finishe', 14417), ('fritz', 14418), ('dvds', 14419), ('tat', 14420), ('errrr', 14421), ('methink', 14422), ('practicie', 14423), ('cult', 14424), ('falun', 14425), ('gong', 14426), ('bemuse', 14427), ('uruk', 14428), ('hai', 14429), ('typhoon', 14430), ('solbi', 14431), ('repentant', 14432), ('permanence', 14433), ('fingertip', 14434), ('electrified', 14435), ('deathly', 14436), ('loada', 14437), ('maybee', 14438), ('bitt', 14439), ('technical', 14440), ('paragraph', 14441), ('ime', 14442), ('sojourn', 14443), ('vigorously', 14444), ('bacon', 14445), ('daddys', 14446), ('unsolved', 14447), ('hugely', 14448), ('concrete', 14449), ('inadvertently', 14450), ('madden', 14451), ('dashboard', 14452), ('organizational', 14453), ('masochist', 14454), ('zayne', 14455), ('homeschool', 14456), ('moustache', 14457), ('droope', 14458), ('ashame', 14459), ('mak', 14460), ('zane', 14461), ('lowe', 14462), ('homelessness', 14463), ('cosmically', 14464), ('fifth', 14465), ('yearbook', 14466), ('graveside', 14467), ('interestin', 14468), ('cleanser', 14469), ('oregon', 14470), ('defenseman', 14471), ('arrow', 14472), ('democrat', 14473), ('digg', 14474), ('depressant', 14475), ('monotony', 14476), ('daley', 14477), ('bronze', 14478), ('bloater', 14479), ('imperturbable', 14480), ('cataclysmic', 14481), ('expressway', 14482), ('appt', 14483), ('hymn', 14484), ('proffer', 14485), ('relay', 14486), ('sachet', 14487), ('mangoe', 14488), ('ominously', 14489), ('kj', 14490), ('middot', 14491), ('trickery', 14492), ('va', 14493), ('prandi', 14494), ('comer', 14495), ('cineplex', 14496), ('disruptive', 14497), ('headmaster', 14498), ('galley', 14499), ('tidbit', 14500), ('frumpy', 14501), ('mal', 14502), ('goodnight', 14503), ('milonga', 14504), ('manitz', 14505), ('tremus', 14506), ('err', 14507), ('unedited', 14508), ('nokia', 14509), ('jingle', 14510), ('tolerable', 14511), ('pussy', 14512), ('uncommitted', 14513), ('jacksonville', 14514), ('duplex', 14515), ('dsl', 14516), ('yummy', 14517), ('leftover', 14518), ('synchronicity', 14519), ('gestate', 14520), ('inspite', 14521), ('evans', 14522), ('mistreatment', 14523), ('sinister', 14524), ('inaccurate', 14525), ('captivity', 14526), ('grove', 14527), ('cluck', 14528), ('pandora', 14529), ('cosmopolitian', 14530), ('upholstered', 14531), ('timeless', 14532), ('scottish', 14533), ('mountains', 14534), ('weir', 14535), ('chime', 14536), ('len', 14537), ('nancy', 14538), ('mircowave', 14539), ('testimony', 14540), ('premier', 14541), ('iggy', 14542), ('azealea', 14543), ('louboutin', 14544), ('rita', 14545), ('ora', 14546), ('vivienne', 14547), ('westwood', 14548), ('bfd', 14549), ('placce', 14550), ('banking', 14551), ('remourseful', 14552), ('purposely', 14553), ('dom', 14554), ('relentlessly', 14555), ('reuse', 14556), ('indulgence', 14557), ('audacity', 14558), ('acknowledgment', 14559), ('capi', 14560), ('crol', 14561), ('tl', 14562), ('skinner', 14563), ('devastation', 14564), ('hogmanay', 14565), ('combing', 14566), ('revise', 14567), ('roster', 14568), ('housekeep', 14569), ('ebaye', 14570), ('vacancy', 14571), ('kuwait', 14572), ('fukumura', 14573), ('mizuki', 14574), ('stilted', 14575), ('atherton', 14576), ('que', 14577), ('spacy', 14578), ('eyre', 14579), ('bigge', 14580), ('buildup', 14581), ('paternal', 14582), ('somebodys', 14583), ('wordless', 14584), ('eyed', 14585), ('morrow', 14586), ('huvin', 14587), ('stretcher', 14588), ('perr', 14589), ('kerte', 14590), ('oot', 14591), ('poplin', 14592), ('shor', 14593), ('tartandheathere', 14594), ('mystif', 14595), ('exhilirate', 14596), ('tuxedo', 14597), ('cufflink', 14598), ('disliked', 14599), ('liek', 14600), ('litsen', 14601), ('spendy', 14602), ('batchmate', 14603), ('discreetly', 14604), ('contractual', 14605), ('vietnamese', 14606), ('entitile', 14607), ('disqualify', 14608), ('celibate', 14609), ('touring', 14610), ('davidson', 14611), ('earshot', 14612), ('tacky', 14613), ('societal', 14614), ('overdose', 14615), ('frivolous', 14616), ('consult', 14617), ('copay', 14618), ('chabad', 14619), ('sukkah', 14620), ('schach', 14621), ('lattice', 14622), ('norma', 14623), ('vietnam', 14624), ('agape', 14625), ('unanswered', 14626), ('skinnyg', 14627), ('provider', 14628), ('shedding', 14629), ('ministerial', 14630), ('detention', 14631), ('pinnacle', 14632), ('materialistic', 14633), ('potatoe', 14634), ('miso', 14635), ('rudely', 14636), ('hui', 14637), ('whimsy', 14638), ('gen', 14639), ('xers', 14640), ('sciatica', 14641), ('swinge', 14642), ('pedal', 14643), ('laiya', 14644), ('jennifer', 14645), ('scamper', 14646), ('mice', 14647), ('lexicon', 14648), ('possessive', 14649), ('grabbing', 14650), ('frugal', 14651), ('antic', 14652), ('improv', 14653), ('christchurch', 14654), ('acker', 14655), ('valbuena', 14656), ('diaby', 14657), ('overhaul', 14658), ('rune', 14659), ('eagleeye', 14660), ('alphabet', 14661), ('jsk', 14662), ('lolita', 14663), ('aiiiiighhhht', 14664), ('skinless', 14665), ('crock', 14666), ('mcwhinney', 14667), ('55', 14668), ('drumhark', 14669), ('comber', 14670), ('singleengined', 14671), ('spectato', 14672), ('botany', 14673), ('lec', 14674), ('mira', 14675), ('decode', 14676), ('blatant', 14677), ('olivias', 14678), ('extraordinary', 14679), ('treated', 14680), ('lathi', 14681), ('strove', 14682), ('airsplitte', 14683), ('highrevving', 14684), ('engi', 14685), ('rafferty', 14686), ('cli', 14687), ('chemotherapy', 14688), ('niggle', 14689), ('breakthrough', 14690), ('salvage', 14691), ('lingo', 14692), ('dao', 14693), ('happiuness', 14694), ('greeting', 14695), ('ethnicity', 14696), ('upstream', 14697), ('spicy', 14698), ('simultaneous', 14699), ('judgmental', 14700), ('trafficking', 14701), ('slavery', 14702), ('embitter', 14703), ('waldmans', 14704), ('cello', 14705), ('designati', 14706), ('amendment', 14707), ('vicepresident', 14708), ('moudud', 14709), ('ahme', 14710), ('membe', 14711), ('hibernating', 14712), ('donald', 14713), ('densely', 14714), ('meandering', 14715), ('opt', 14716), ('photojournalistically', 14717), ('yarns', 14718), ('accompaniment', 14719), ('martialle', 14720), ('acquit', 14721), ('savor', 14722), ('cache', 14723), ('kindaish', 14724), ('sighhh', 14725), ('lollypop', 14726)])"
            ]
          },
          "metadata": {
            "tags": []
          }
        }
      ]
    },
    {
      "cell_type": "code",
      "metadata": {
        "id": "SCDhYXtjM3Rz",
        "colab": {
          "base_uri": "https://localhost:8080/"
        },
        "outputId": "03312571-d021-43a3-8749-c6398fa4b971"
      },
      "source": [
        "for word, index in tokenizer.word_index.items():\n",
        "    if index < num_words: # since index starts with zero \n",
        "        if word in glove_gensim.wv.vocab:\n",
        "            gensim_weight_matrix[index] = glove_gensim[word]\n",
        "        else:\n",
        "            gensim_weight_matrix[index] = np.zeros(100)"
      ],
      "execution_count": 25,
      "outputs": [
        {
          "output_type": "stream",
          "text": [
            "/usr/local/lib/python3.7/dist-packages/ipykernel_launcher.py:3: DeprecationWarning: Call to deprecated `wv` (Attribute will be removed in 4.0.0, use self instead).\n",
            "  This is separate from the ipykernel package so we can avoid doing imports until\n"
          ],
          "name": "stderr"
        }
      ]
    },
    {
      "cell_type": "markdown",
      "metadata": {
        "id": "2ij_4bfs_fqm"
      },
      "source": [
        "### LSTM model"
      ]
    },
    {
      "cell_type": "code",
      "metadata": {
        "id": "B3GhdSVGM3f9"
      },
      "source": [
        "from tensorflow.keras.models import Sequential \n",
        "from tensorflow.keras.layers import Dense, LSTM, Embedding,Bidirectional\n",
        "import tensorflow\n",
        "# tf.compat.v1.keras.layers.CuDNNLSTM\n",
        "from tensorflow.compat.v1.keras.layers import CuDNNLSTM,CuDNNGRU\n",
        "from tensorflow.keras.layers import Dropout"
      ],
      "execution_count": 26,
      "outputs": []
    },
    {
      "cell_type": "code",
      "metadata": {
        "id": "2rlGDhWPM3r7"
      },
      "source": [
        "EMBEDDING_DIM = 100  # this means the embedding layer will create  a vector in 100 dimension\n",
        "\n",
        "def ins_model(EMBEDDING_DIM): \n",
        "  model = Sequential()\n",
        "  model.add(Embedding(input_dim = num_words, # the whole vocabulary size \n",
        "                            output_dim = EMBEDDING_DIM, # vector space dimension\n",
        "                            input_length= X_train_pad.shape[1], # max_len of text sequence\n",
        "                            weights = [gensim_weight_matrix],trainable = False))\n",
        "  model.add(Dropout(0.2))\n",
        "  model.add(Bidirectional(CuDNNLSTM(100,return_sequences=True)))\n",
        "  model.add(Dropout(0.2))\n",
        "  model.add(Bidirectional(CuDNNLSTM(200,return_sequences=True)))\n",
        "  model.add(Dropout(0.2))\n",
        "  model.add(Bidirectional(CuDNNLSTM(100,return_sequences=False)))\n",
        "  model.add(Dense(6, activation = 'softmax'))\n",
        "  model.compile(loss = 'categorical_crossentropy', optimizer = 'adam',metrics = 'accuracy')\n",
        "  return model"
      ],
      "execution_count": 27,
      "outputs": []
    },
    {
      "cell_type": "code",
      "metadata": {
        "id": "ISF7Dnc7DUr5"
      },
      "source": [
        "from keras.callbacks import EarlyStopping, ModelCheckpoint\n",
        "\n",
        "es = EarlyStopping(monitor = 'val_loss', mode = 'min', verbose = 1, patience = 5)\n",
        "# mc = ModelCheckpoint('./model.h5', monitor = 'val_accuracy', mode = 'max', verbose = 1, save_best_only = True)"
      ],
      "execution_count": 28,
      "outputs": []
    },
    {
      "cell_type": "code",
      "metadata": {
        "colab": {
          "base_uri": "https://localhost:8080/"
        },
        "id": "JFFcC1C9Eba8",
        "outputId": "1f24ee18-41d0-4934-fbe0-119f4ddbad30"
      },
      "source": [
        "model = ins_model(EMBEDDING_DIM)\n",
        "history_embedding = model.fit(X_train_pad,y_train\n",
        "                              , epochs = 25\n",
        "                              , batch_size = 120\n",
        "                              , validation_data=(X_val_pad, y_val)\n",
        "                              , verbose = 1\n",
        "                              , callbacks= [es]  )"
      ],
      "execution_count": 29,
      "outputs": [
        {
          "output_type": "stream",
          "text": [
            "Epoch 1/25\n",
            "144/144 [==============================] - 38s 192ms/step - loss: 1.4167 - accuracy: 0.4570 - val_loss: 1.3897 - val_accuracy: 0.4939\n",
            "Epoch 2/25\n",
            "144/144 [==============================] - 26s 183ms/step - loss: 1.1392 - accuracy: 0.5713 - val_loss: 0.9231 - val_accuracy: 0.6454\n",
            "Epoch 3/25\n",
            "144/144 [==============================] - 27s 187ms/step - loss: 0.8666 - accuracy: 0.6793 - val_loss: 0.6930 - val_accuracy: 0.7428\n",
            "Epoch 4/25\n",
            "144/144 [==============================] - 27s 189ms/step - loss: 0.7146 - accuracy: 0.7337 - val_loss: 0.5842 - val_accuracy: 0.7833\n",
            "Epoch 5/25\n",
            "144/144 [==============================] - 27s 190ms/step - loss: 0.6096 - accuracy: 0.7752 - val_loss: 0.4703 - val_accuracy: 0.8271\n",
            "Epoch 6/25\n",
            "144/144 [==============================] - 27s 190ms/step - loss: 0.5194 - accuracy: 0.8082 - val_loss: 0.4305 - val_accuracy: 0.8295\n",
            "Epoch 7/25\n",
            "144/144 [==============================] - 28s 194ms/step - loss: 0.4589 - accuracy: 0.8299 - val_loss: 0.3659 - val_accuracy: 0.8677\n",
            "Epoch 8/25\n",
            "144/144 [==============================] - 28s 194ms/step - loss: 0.3987 - accuracy: 0.8507 - val_loss: 0.3347 - val_accuracy: 0.8681\n",
            "Epoch 9/25\n",
            "144/144 [==============================] - 28s 195ms/step - loss: 0.3592 - accuracy: 0.8633 - val_loss: 0.3197 - val_accuracy: 0.8681\n",
            "Epoch 10/25\n",
            "144/144 [==============================] - 28s 196ms/step - loss: 0.3275 - accuracy: 0.8735 - val_loss: 0.3086 - val_accuracy: 0.8760\n",
            "Epoch 11/25\n",
            "144/144 [==============================] - 28s 197ms/step - loss: 0.3042 - accuracy: 0.8809 - val_loss: 0.2869 - val_accuracy: 0.8821\n",
            "Epoch 12/25\n",
            "144/144 [==============================] - 28s 195ms/step - loss: 0.2779 - accuracy: 0.8917 - val_loss: 0.2976 - val_accuracy: 0.8821\n",
            "Epoch 13/25\n",
            "144/144 [==============================] - 28s 196ms/step - loss: 0.2529 - accuracy: 0.8984 - val_loss: 0.3049 - val_accuracy: 0.8812\n",
            "Epoch 14/25\n",
            "144/144 [==============================] - 28s 195ms/step - loss: 0.2536 - accuracy: 0.9002 - val_loss: 0.2679 - val_accuracy: 0.8798\n",
            "Epoch 15/25\n",
            "144/144 [==============================] - 28s 197ms/step - loss: 0.2237 - accuracy: 0.9079 - val_loss: 0.2727 - val_accuracy: 0.8858\n",
            "Epoch 16/25\n",
            "144/144 [==============================] - 28s 198ms/step - loss: 0.2083 - accuracy: 0.9154 - val_loss: 0.2650 - val_accuracy: 0.8858\n",
            "Epoch 17/25\n",
            "144/144 [==============================] - 28s 194ms/step - loss: 0.2014 - accuracy: 0.9202 - val_loss: 0.2690 - val_accuracy: 0.8896\n",
            "Epoch 18/25\n",
            "144/144 [==============================] - 28s 196ms/step - loss: 0.1890 - accuracy: 0.9240 - val_loss: 0.2470 - val_accuracy: 0.8947\n",
            "Epoch 19/25\n",
            "144/144 [==============================] - 28s 196ms/step - loss: 0.1841 - accuracy: 0.9243 - val_loss: 0.2614 - val_accuracy: 0.8891\n",
            "Epoch 20/25\n",
            "144/144 [==============================] - 28s 197ms/step - loss: 0.1670 - accuracy: 0.9323 - val_loss: 0.2805 - val_accuracy: 0.8807\n",
            "Epoch 21/25\n",
            "144/144 [==============================] - 28s 195ms/step - loss: 0.1719 - accuracy: 0.9287 - val_loss: 0.2663 - val_accuracy: 0.8886\n",
            "Epoch 22/25\n",
            "144/144 [==============================] - 28s 195ms/step - loss: 0.1616 - accuracy: 0.9339 - val_loss: 0.2588 - val_accuracy: 0.8970\n",
            "Epoch 23/25\n",
            "144/144 [==============================] - 28s 196ms/step - loss: 0.1582 - accuracy: 0.9359 - val_loss: 0.2453 - val_accuracy: 0.8970\n",
            "Epoch 24/25\n",
            "144/144 [==============================] - 28s 196ms/step - loss: 0.1413 - accuracy: 0.9424 - val_loss: 0.2679 - val_accuracy: 0.8886\n",
            "Epoch 25/25\n",
            "144/144 [==============================] - 28s 194ms/step - loss: 0.1396 - accuracy: 0.9412 - val_loss: 0.2781 - val_accuracy: 0.8882\n"
          ],
          "name": "stdout"
        }
      ]
    },
    {
      "cell_type": "code",
      "metadata": {
        "colab": {
          "base_uri": "https://localhost:8080/",
          "height": 264
        },
        "id": "vK0X1gVtD7Ks",
        "outputId": "022f2abe-bda7-485d-8550-fc851f897257"
      },
      "source": [
        "plt.plot(history_embedding.history['accuracy'],c='b',label='train accuracy')\n",
        "plt.plot(history_embedding.history['val_accuracy'],c='r',label='validation accuracy')\n",
        "plt.legend(loc='lower right')\n",
        "plt.show()"
      ],
      "execution_count": 30,
      "outputs": [
        {
          "output_type": "display_data",
          "data": {
            "image/png": "[encoded data removed]",
            "text/plain": [
              "<Figure size 432x288 with 1 Axes>"
            ]
          },
          "metadata": {
            "tags": [],
            "needs_background": "light"
          }
        }
      ]
    },
    {
      "cell_type": "code",
      "metadata": {
        "colab": {
          "base_uri": "https://localhost:8080/"
        },
        "id": "ftziowBxD78x",
        "outputId": "064e869c-6c6c-4728-9717-d98d65751049"
      },
      "source": [
        "model.evaluate(X_test_pad, y_test)"
      ],
      "execution_count": 31,
      "outputs": [
        {
          "output_type": "stream",
          "text": [
            "68/68 [==============================] - 3s 34ms/step - loss: 0.2608 - accuracy: 0.9073\n"
          ],
          "name": "stdout"
        },
        {
          "output_type": "execute_result",
          "data": {
            "text/plain": [
              "[0.26075640320777893, 0.9072693586349487]"
            ]
          },
          "metadata": {
            "tags": []
          },
          "execution_count": 31
        }
      ]
    },
    {
      "cell_type": "code",
      "metadata": {
        "id": "zbGHcq6fD8kr"
      },
      "source": [
        "y_pred = np.argmax(model.predict(X_test_pad), axis  =  1)"
      ],
      "execution_count": 32,
      "outputs": []
    },
    {
      "cell_type": "code",
      "metadata": {
        "id": "j2KVxgXvD8o3"
      },
      "source": [
        "y_true = np.argmax(y_test, axis = 1)"
      ],
      "execution_count": 33,
      "outputs": []
    },
    {
      "cell_type": "code",
      "metadata": {
        "colab": {
          "base_uri": "https://localhost:8080/"
        },
        "id": "YT3lA4wDD8sX",
        "outputId": "64ff2082-7626-455f-f2ae-9a2f66446d0f"
      },
      "source": [
        "from sklearn import metrics\n",
        "print(metrics.classification_report(y_pred, y_true))"
      ],
      "execution_count": 34,
      "outputs": [
        {
          "output_type": "stream",
          "text": [
            "              precision    recall  f1-score   support\n",
            "\n",
            "           0       0.94      0.91      0.93       732\n",
            "           1       0.92      0.90      0.91       303\n",
            "           2       0.75      0.83      0.79       137\n",
            "           3       0.94      0.93      0.94       622\n",
            "           4       0.88      0.90      0.89       280\n",
            "           5       0.73      0.88      0.80        72\n",
            "\n",
            "    accuracy                           0.91      2146\n",
            "   macro avg       0.86      0.89      0.87      2146\n",
            "weighted avg       0.91      0.91      0.91      2146\n",
            "\n"
          ],
          "name": "stdout"
        }
      ]
    },
    {
      "cell_type": "code",
      "metadata": {
        "id": "aXe91LY1D8wR"
      },
      "source": [
        "def get_key(value):\n",
        "    dictionary={'anger':0,'fear':1,'happy':2,'love':3,'sadness':4,'surprise':5}\n",
        "    for key,val in dictionary.items():\n",
        "          if (val==value):\n",
        "            return key"
      ],
      "execution_count": 35,
      "outputs": []
    },
    {
      "cell_type": "code",
      "metadata": {
        "id": "HK1tGom4D84j"
      },
      "source": [
        "def predict(sentence):\n",
        "    sentence_lst=[]\n",
        "    sentence_lst.append(sentence)\n",
        "    sentence_seq=tokenizer.texts_to_sequences(sentence_lst)\n",
        "    sentence_padded=pad_sequences(sentence_seq,maxlen=300,padding='post')\n",
        "    ans=get_key(model.predict_classes(sentence_padded))\n",
        "    print(\"The emotion predicted is\",ans)"
      ],
      "execution_count": 36,
      "outputs": []
    },
    {
      "cell_type": "code",
      "metadata": {
        "colab": {
          "base_uri": "https://localhost:8080/"
        },
        "id": "c2kqoGftELnV",
        "outputId": "08d57fd6-df59-46b3-84a8-c42f2b4e9926"
      },
      "source": [
        "predict(str(input('Enter a sentence : ')))"
      ],
      "execution_count": 39,
      "outputs": [
        {
          "output_type": "stream",
          "text": [
            "Enter a sentence : I therefore invite you all,” Mr Fox went on, ‘to stay here with me for ever.’ For ever!' they cried. ‘My goodness! How marvellous!’ And Rabbit said to Mrs Rabbit, ‘My dear, just think! We’re never going to be shot again in our lives!’ We will make,' said Mr Fox, ‘a little underground village, with streets and houses on each side - seperate houses for Badgers and Moles and Rabbits and Weasels and Foxes. And every day I will go shopping for you all. And every day we will eat like kings.’ The cheering that followed this speech went on for many minutes.\n",
            "The emotion predicted is anger\n"
          ],
          "name": "stdout"
        },
        {
          "output_type": "stream",
          "text": [
            "/usr/local/lib/python3.7/dist-packages/tensorflow/python/keras/engine/sequential.py:455: UserWarning: `model.predict_classes()` is deprecated and will be removed after 2021-01-01. Please use instead:* `np.argmax(model.predict(x), axis=-1)`,   if your model does multi-class classification   (e.g. if it uses a `softmax` last-layer activation).* `(model.predict(x) > 0.5).astype(\"int32\")`,   if your model does binary classification   (e.g. if it uses a `sigmoid` last-layer activation).\n",
            "  warnings.warn('`model.predict_classes()` is deprecated and '\n"
          ],
          "name": "stderr"
        }
      ]
    },
    {
      "cell_type": "code",
      "metadata": {
        "id": "BQ-6gM4eQj-O"
      },
      "source": [
        ""
      ],
      "execution_count": 37,
      "outputs": []
    }
  ]
}