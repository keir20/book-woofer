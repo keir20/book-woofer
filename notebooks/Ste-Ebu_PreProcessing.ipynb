{
 "cells": [
  {
   "cell_type": "code",
   "execution_count": 15,
   "id": "c09f58b8",
   "metadata": {},
   "outputs": [],
   "source": [
    "import pandas as pd\n",
    "\n",
    "cleaned_data = pd.read_csv('../raw_data/cleaned_data/cleaned_data.csv')"
   ]
  },
  {
   "cell_type": "code",
   "execution_count": 16,
   "id": "80cef50a",
   "metadata": {},
   "outputs": [],
   "source": [
    "cleaned_data = cleaned_data.drop(columns='Unnamed: 0')"
   ]
  },
  {
   "cell_type": "code",
   "execution_count": 17,
   "id": "cebcae94",
   "metadata": {},
   "outputs": [],
   "source": [
    "# 1 lowercase\n",
    "cleaned_data['content'] = cleaned_data['content'].str.lower()"
   ]
  },
  {
   "cell_type": "code",
   "execution_count": 18,
   "id": "7f2bde30",
   "metadata": {},
   "outputs": [],
   "source": [
    "cleaned_data['content'][0] = 'i didnt feel humiliated,.?' "
   ]
  },
  {
   "cell_type": "code",
   "execution_count": 6,
   "id": "6780d41f",
   "metadata": {},
   "outputs": [
    {
     "name": "stderr",
     "output_type": "stream",
     "text": [
      "<ipython-input-6-21e4b00c37cc>:4: FutureWarning: The default value of regex will change from True to False in a future version.\n",
      "  cleaned_data['content'] = cleaned_data['content'].str.replace('\\d+', '')\n"
     ]
    }
   ],
   "source": [
    "# 2 numbers\n",
    "# for i in cleaned_data['content']\n",
    "# text = ''.join(word for word in text if not word.isdigit())\n",
    "cleaned_data['content'] = cleaned_data['content'].str.replace('\\d+', '')"
   ]
  },
  {
   "cell_type": "code",
   "execution_count": 22,
   "id": "caf25462",
   "metadata": {},
   "outputs": [
    {
     "data": {
      "text/plain": [
       "'i didnt feel humiliated'"
      ]
     },
     "execution_count": 22,
     "metadata": {},
     "output_type": "execute_result"
    }
   ],
   "source": [
    "cleaned_data['content'][0]"
   ]
  },
  {
   "cell_type": "code",
   "execution_count": 21,
   "id": "58dd13bf",
   "metadata": {},
   "outputs": [
    {
     "name": "stderr",
     "output_type": "stream",
     "text": [
      "<ipython-input-21-8df17c6f5167>:8: FutureWarning: The default value of regex will change from True to False in a future version.\n",
      "  cleaned_data['content'] = cleaned_data['content'].str.replace('[^\\w\\s]','')\n"
     ]
    }
   ],
   "source": [
    "# 3 Punctuation \n",
    "import string \n",
    "string.punctuation\n",
    "\n",
    "# for punctuation in string.punctuation:\n",
    "#     text = text.replace(punctuation, '') \n",
    "\n",
    "cleaned_data['content'] = cleaned_data['content'].str.replace('[^\\w\\s]','')"
   ]
  },
  {
   "cell_type": "code",
   "execution_count": 9,
   "id": "e72008fa",
   "metadata": {},
   "outputs": [],
   "source": [
    "from nltk.corpus import stopwords \n",
    "from nltk.tokenize import word_tokenize\n",
    "\n",
    "stop_words = set(stopwords.words('english'))\n",
    "# word_tokens = word_tokenize(text) \n",
    "# text = [w for w in word_tokens if not w in stop_words] "
   ]
  },
  {
   "cell_type": "code",
   "execution_count": 10,
   "id": "115e2858",
   "metadata": {},
   "outputs": [],
   "source": [
    "# 4 Remove Stopwords\n",
    "from nltk.corpus import stopwords \n",
    "from nltk.tokenize import word_tokenize\n",
    "\n",
    "stop_words = set(stopwords.words('english')) \n",
    "\n",
    "def remove_stop(text):\n",
    "    word_tokens = word_tokenize(text) \n",
    "    text = [w for w in word_tokens if not w in stop_words] \n",
    "    return text\n",
    "\n",
    "cleaned_data['content'] = cleaned_data['content'].apply(remove_stop)"
   ]
  },
  {
   "cell_type": "code",
   "execution_count": 11,
   "id": "08e1e272",
   "metadata": {},
   "outputs": [],
   "source": [
    "from nltk.stem import WordNetLemmatizer\n",
    "lemmatizer = WordNetLemmatizer()\n",
    "\n",
    "def lemmatize_it(text):\n",
    "    lemmatized = [lemmatizer.lemmatize(word) for word in text]\n",
    "    return lemmatized\n",
    "\n",
    "cleaned_data['content'] = cleaned_data['content'].apply(lemmatize_it)"
   ]
  },
  {
   "cell_type": "code",
   "execution_count": 12,
   "id": "8a6a8166",
   "metadata": {},
   "outputs": [
    {
     "data": {
      "text/html": [
       "<div>\n",
       "<style scoped>\n",
       "    .dataframe tbody tr th:only-of-type {\n",
       "        vertical-align: middle;\n",
       "    }\n",
       "\n",
       "    .dataframe tbody tr th {\n",
       "        vertical-align: top;\n",
       "    }\n",
       "\n",
       "    .dataframe thead th {\n",
       "        text-align: right;\n",
       "    }\n",
       "</style>\n",
       "<table border=\"1\" class=\"dataframe\">\n",
       "  <thead>\n",
       "    <tr style=\"text-align: right;\">\n",
       "      <th></th>\n",
       "      <th>content</th>\n",
       "      <th>sentiment</th>\n",
       "    </tr>\n",
       "  </thead>\n",
       "  <tbody>\n",
       "    <tr>\n",
       "      <th>0</th>\n",
       "      <td>[didnt, feel, humiliated]</td>\n",
       "      <td>sadness</td>\n",
       "    </tr>\n",
       "    <tr>\n",
       "      <th>1</th>\n",
       "      <td>[go, feeling, hopeless, damned, hopeful, aroun...</td>\n",
       "      <td>sadness</td>\n",
       "    </tr>\n",
       "    <tr>\n",
       "      <th>2</th>\n",
       "      <td>[im, grabbing, minute, post, feel, greedy, wrong]</td>\n",
       "      <td>anger</td>\n",
       "    </tr>\n",
       "    <tr>\n",
       "      <th>3</th>\n",
       "      <td>[ever, feeling, nostalgic, fireplace, know, st...</td>\n",
       "      <td>love</td>\n",
       "    </tr>\n",
       "    <tr>\n",
       "      <th>4</th>\n",
       "      <td>[feeling, grouchy]</td>\n",
       "      <td>anger</td>\n",
       "    </tr>\n",
       "  </tbody>\n",
       "</table>\n",
       "</div>"
      ],
      "text/plain": [
       "                                             content sentiment\n",
       "0                          [didnt, feel, humiliated]   sadness\n",
       "1  [go, feeling, hopeless, damned, hopeful, aroun...   sadness\n",
       "2  [im, grabbing, minute, post, feel, greedy, wrong]     anger\n",
       "3  [ever, feeling, nostalgic, fireplace, know, st...      love\n",
       "4                                 [feeling, grouchy]     anger"
      ]
     },
     "execution_count": 12,
     "metadata": {},
     "output_type": "execute_result"
    }
   ],
   "source": [
    "cleaned_data.head()"
   ]
  },
  {
   "cell_type": "code",
   "execution_count": 13,
   "id": "f510f3cc",
   "metadata": {},
   "outputs": [],
   "source": [
    "# cleaned_data.to_pickle('processed_data')"
   ]
  },
  {
   "cell_type": "code",
   "execution_count": 14,
   "id": "2bdf4d42",
   "metadata": {},
   "outputs": [],
   "source": [
    "cleaned_data.to_csv('processed_data.csv')"
   ]
  },
  {
   "cell_type": "code",
   "execution_count": null,
   "id": "9cc5350f",
   "metadata": {},
   "outputs": [],
   "source": []
  }
 ],
 "metadata": {
  "kernelspec": {
   "display_name": "lewagon",
   "language": "python",
   "name": "lewagon"
  },
  "language_info": {
   "codemirror_mode": {
    "name": "ipython",
    "version": 3
   },
   "file_extension": ".py",
   "mimetype": "text/x-python",
   "name": "python",
   "nbconvert_exporter": "python",
   "pygments_lexer": "ipython3",
   "version": "3.8.6"
  },
  "toc": {
   "base_numbering": 1,
   "nav_menu": {},
   "number_sections": true,
   "sideBar": true,
   "skip_h1_title": false,
   "title_cell": "Table of Contents",
   "title_sidebar": "Contents",
   "toc_cell": false,
   "toc_position": {},
   "toc_section_display": true,
   "toc_window_display": false
  }
 },
 "nbformat": 4,
 "nbformat_minor": 5
}
